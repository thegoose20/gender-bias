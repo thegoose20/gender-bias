{
 "cells": [
  {
   "cell_type": "markdown",
   "metadata": {},
   "source": [
    "# Baseline Gender Bias Document Classifiers\n",
    "\n",
    "* **Supervised learning**\n",
    "    * Train, Validate, and (Blind) Test Data: under directory `clf_data/`\n",
    "* **Multilabel classification**\n",
    "    * 3 categories of labels:\n",
    "        1. *Person Name:* Unknown, Non-binary, Feminine, Masculine\n",
    "        2. *Linguistic:* Generalization, Gendered Pronoun, Gendered Role\n",
    "        3. *Contextual:* Empowering, Occupation, Omission, Stereotype\n",
    "\n",
    "***\n",
    "\n",
    "**Table of Contents**\n",
    "\n",
    "[Setup](#set)\n",
    "\n",
    "Baseline Classifiers:\n",
    "\n",
    "  * [Classifier 1: Multinomial Naive Bayes](#mnb)\n",
    "\n",
    "  * [Classifier 2: Logistic Regression](#log) - top-performing\n",
    "\n",
    "  * [Classifier 3: Random Forest](#ran) - worst-performing\n",
    "  \n",
    "[Error Analysis](#err)\n",
    "\n",
    "***"
   ]
  },
  {
   "cell_type": "markdown",
   "metadata": {},
   "source": [
    "<a id=\"set\"></a>\n",
    "## Setup"
   ]
  },
  {
   "cell_type": "code",
   "execution_count": 1,
   "metadata": {},
   "outputs": [],
   "source": [
    "# For custom functions\n",
    "import utils\n",
    "\n",
    "# For working with data files and directories\n",
    "import numpy as np\n",
    "import pandas as pd\n",
    "from pathlib import Path\n",
    "\n",
    "# For visualization\n",
    "import matplotlib.pyplot as plt\n",
    "import seaborn as sns\n",
    "\n",
    "# For classification with scikit-learn\n",
    "from sklearn.preprocessing import MultiLabelBinarizer\n",
    "from sklearn.multiclass import OneVsRestClassifier\n",
    "from sklearn.feature_extraction.text import CountVectorizer, TfidfTransformer\n",
    "# from sklearn.svm import SVC\n",
    "# from sklearn.tree import DecisionTreeClassifier\n",
    "# from sklearn.tree import export_text\n",
    "# from sklearn import tree\n",
    "from sklearn.naive_bayes import MultinomialNB\n",
    "from sklearn.linear_model import LogisticRegression\n",
    "from sklearn.ensemble import RandomForestClassifier\n",
    "from sklearn.pipeline import Pipeline\n",
    "from sklearn.metrics import confusion_matrix, multilabel_confusion_matrix, plot_confusion_matrix, ConfusionMatrixDisplay\n",
    "from sklearn.metrics import precision_recall_fscore_support"
   ]
  },
  {
   "cell_type": "markdown",
   "metadata": {},
   "source": [
    "Read in the training, validation, (a.k.a. development or devtest) and blind test data:"
   ]
  },
  {
   "cell_type": "code",
   "execution_count": 2,
   "metadata": {},
   "outputs": [],
   "source": [
    "datadir = \"clf_data/\"\n",
    "X_train_path = datadir+\"train_docs.txt\"\n",
    "X_devtest_path = datadir+\"validate_docs.txt\"\n",
    "# X_blindtest_path = datadir+\"blindtest_docs.txt\"\n",
    "y_train_path = datadir+\"train_labels.txt\"\n",
    "y_devtest_path = datadir+\"validate_labels.txt\"\n",
    "# y_blindtest_path = datadir+\"blindtest_labels.txt\""
   ]
  },
  {
   "cell_type": "code",
   "execution_count": 3,
   "metadata": {},
   "outputs": [],
   "source": [
    "docs_seperator = \"\\n|\\n\"\n",
    "labels_seperator = \"\\n\""
   ]
  },
  {
   "cell_type": "code",
   "execution_count": 5,
   "metadata": {},
   "outputs": [
    {
     "name": "stdout",
     "output_type": "stream",
     "text": [
      "This paper was published as a chapter in A Companion to Genethics, ed. J. Burley and J. Harris (Wiley-Blackwell, 2002).\n"
     ]
    }
   ],
   "source": [
    "X_train = utils.readData(X_train_path, docs_seperator)\n",
    "print(X_train[0])\n",
    "assert len(X_train) == 7044, \"The length of the training data should be the same as the number of rows of the train DataFrame (see SplitData.ipynb)\""
   ]
  },
  {
   "cell_type": "code",
   "execution_count": 6,
   "metadata": {},
   "outputs": [
    {
     "name": "stdout",
     "output_type": "stream",
     "text": [
      "Peter Baillie ( 1889-1914), youngest brother to John Baillie and Donald Macpherson Baillie, was educated at Inverness Royal Academy and then at George Watson's College. Entering Edinburgh University in 1907, he graduated with a M.B., Ch.B. in 1912. For many years he was a member of the Philomathic Society and became its President in 1911. He was senior house surgeon at Mildmay Mission Hospital, London, for six months and in January 1914 he left Britain for Jalna, India, taking up a post to which he had been appointed by the Foreign Mission Committee of the United Free Church. He was ordained as a missionary elder of Langside Hill United Free Church, Glasgow, prior to his departure. While in India he was the victim of a drowning at Mahableshwar.\n"
     ]
    }
   ],
   "source": [
    "X_devtest = utils.readData(X_devtest_path, docs_seperator)\n",
    "print(X_devtest[0])\n",
    "assert len(X_devtest) == 2350, \"The length of the validation data should be the same as the number of rows of the dev DataFrame (see SplitData.ipynb)\""
   ]
  },
  {
   "cell_type": "code",
   "execution_count": 7,
   "metadata": {},
   "outputs": [
    {
     "name": "stdout",
     "output_type": "stream",
     "text": [
      "['Occupation, Unknown' 'Occupation, Unknown' 'Unknown']\n"
     ]
    }
   ],
   "source": [
    "y_train = utils.readData(y_train_path, labels_seperator)\n",
    "print(y_train[:3])\n",
    "assert len(y_train) == 7044, \"The length of the training data should be the same as the number of rows of the train DataFrame (see SplitData.ipynb)\""
   ]
  },
  {
   "cell_type": "code",
   "execution_count": 9,
   "metadata": {},
   "outputs": [
    {
     "name": "stdout",
     "output_type": "stream",
     "text": [
      "Generalization, Gendered-Role, Unknown, Masculine, Occupation, Gendered-Pronoun\n"
     ]
    }
   ],
   "source": [
    "y_devtest = utils.readData(y_devtest_path, labels_seperator)\n",
    "print(y_devtest[0])\n",
    "assert len(X_devtest) == 2350, \"The length of the validation data should be the same as the number of rows of the dev DataFrame (see SplitData.ipynb)\""
   ]
  },
  {
   "cell_type": "code",
   "execution_count": 8,
   "metadata": {},
   "outputs": [],
   "source": [
    "# X_blindtest = utils.readData(X_blindtest_path, docs_seperator)\n",
    "# y_blindtest = utils.readData(y_blindtest_path, labels_seperator)\n",
    "# assert len(X_blindtest) == len(y_blindtest), \"There should be one group of labels for every document.\""
   ]
  },
  {
   "cell_type": "markdown",
   "metadata": {},
   "source": [
    "Convert the data to numeric representations, where:\n",
    "```\n",
    "labels = {\n",
    "    \"Unknown\": 0, \"Non-binary\": 1, \"Feminine\": 2, \"Masculine\": 3,\n",
    "    \"Generalization\": 4, \"Gendered-Pronoun\": 5, \"Gendered-Role\": 6,\n",
    "    \"Occupation\": 7, \"Omission\":8, \"Stereotype\": 9, \"Empowering\": 10\n",
    "         }\n",
    "```"
   ]
  },
  {
   "cell_type": "code",
   "execution_count": 11,
   "metadata": {},
   "outputs": [],
   "source": [
    "# Convert the strings of labels to tuples of numbers\n",
    "y_train_numeric = utils.getNumericLabels(y_train)\n",
    "y_devtest_numeric = utils.getNumericLabels(y_devtest)\n",
    "# y_blindtest_numeric = utils.getNumericLabels(y_blindtest)\n",
    "assert len(y_train_numeric) == len(y_train)\n",
    "assert len(y_devtest_numeric) == len(y_devtest)\n",
    "# assert len(y_blindtest_numeric) == len(y_blindtest)"
   ]
  },
  {
   "cell_type": "markdown",
   "metadata": {},
   "source": [
    "Binarize the data so labels are represented by a 0 (not present) or 1 (present):"
   ]
  },
  {
   "cell_type": "code",
   "execution_count": 13,
   "metadata": {},
   "outputs": [
    {
     "name": "stdout",
     "output_type": "stream",
     "text": [
      "(2350, 9)\n",
      "[1 0 1 1 1 1 1 0 0]\n"
     ]
    }
   ],
   "source": [
    "# Convert each iterable of iterables above to a multilabel format\n",
    "mlb = MultiLabelBinarizer()\n",
    "y_train_binarized = mlb.fit_transform(y_train_numeric)\n",
    "y_devtest_binarized = mlb.fit_transform(y_devtest_numeric)\n",
    "# y_blindtest_binarized = mlb.fit_transform(y_blindtest_numeric)\n",
    "print(y_devtest_binarized.shape)\n",
    "print(y_devtest_binarized[0])"
   ]
  },
  {
   "cell_type": "code",
   "execution_count": null,
   "metadata": {
    "jupyter": {
     "source_hidden": true
    }
   },
   "outputs": [],
   "source": [
    "# # Bag of Words\n",
    "# count_vect = CountVectorizer()\n",
    "# X_train_counts = count_vect.fit_transform(X_train)\n",
    "# X_test_counts = count_vect.fit_transform(X_test)\n",
    "# print(\"Bag of Words:\")\n",
    "# print(X_train_counts.shape)\n",
    "# print(X_test_counts.shape)\n",
    "\n",
    "# # Term Frequency times Inverse Document Frequency\n",
    "# tfidf_transformer = TfidfTransformer()\n",
    "# X_train_tfidf = tfidf_transformer.fit_transform(X_train_counts)\n",
    "# X_test_tfidf = tfidf_transformer.fit_transform(X_test_counts)\n",
    "# print(\"TFIDF:\")\n",
    "# print(X_train_tfidf.shape)\n",
    "# print(X_test_tfidf.shape)"
   ]
  },
  {
   "cell_type": "code",
   "execution_count": null,
   "metadata": {
    "jupyter": {
     "source_hidden": true
    }
   },
   "outputs": [],
   "source": [
    "# assert X_train_counts.shape[0] == len(y_train_numeric)\n",
    "# assert X_test_tfidf.shape[0] == len(y_test_numeric)"
   ]
  },
  {
   "cell_type": "markdown",
   "metadata": {},
   "source": [
    "Create the directory to write the classification models' performance metrics to:"
   ]
  },
  {
   "cell_type": "code",
   "execution_count": 14,
   "metadata": {},
   "outputs": [],
   "source": [
    "metrics_dir = \"./baseline_performance_metrics/\"\n",
    "Path(metrics_dir).mkdir(parents=True, exist_ok=True)"
   ]
  },
  {
   "cell_type": "markdown",
   "metadata": {},
   "source": [
    "## Baseline Classifiers\n",
    "<a id=\"mnb\"></a>\n",
    "### Classifier 1: Multinomial Naive Bayes"
   ]
  },
  {
   "cell_type": "markdown",
   "metadata": {
    "jupyter": {
     "source_hidden": true
    }
   },
   "source": [
    "Build a pipeline:"
   ]
  },
  {
   "cell_type": "code",
   "execution_count": 15,
   "metadata": {
    "jupyter": {
     "source_hidden": true
    }
   },
   "outputs": [],
   "source": [
    "clf_pipeline = Pipeline([\n",
    "    (\"vect\", CountVectorizer()),\n",
    "    (\"tfidf\", TfidfTransformer()),\n",
    "    (\"clf\", OneVsRestClassifier(MultinomialNB()))\n",
    "    ])"
   ]
  },
  {
   "cell_type": "code",
   "execution_count": 16,
   "metadata": {
    "collapsed": true,
    "jupyter": {
     "outputs_hidden": true,
     "source_hidden": true
    }
   },
   "outputs": [
    {
     "data": {
      "text/plain": [
       "Pipeline(memory=None,\n",
       "         steps=[('vect',\n",
       "                 CountVectorizer(analyzer='word', binary=False,\n",
       "                                 decode_error='strict',\n",
       "                                 dtype=<class 'numpy.int64'>, encoding='utf-8',\n",
       "                                 input='content', lowercase=True, max_df=1.0,\n",
       "                                 max_features=None, min_df=1,\n",
       "                                 ngram_range=(1, 1), preprocessor=None,\n",
       "                                 stop_words=None, strip_accents=None,\n",
       "                                 token_pattern='(?u)\\\\b\\\\w\\\\w+\\\\b',\n",
       "                                 tokenizer=None, vocabulary=None)),\n",
       "                ('tfidf',\n",
       "                 TfidfTransformer(norm='l2', smooth_idf=True,\n",
       "                                  sublinear_tf=False, use_idf=True)),\n",
       "                ('clf',\n",
       "                 OneVsRestClassifier(estimator=MultinomialNB(alpha=1.0,\n",
       "                                                             class_prior=None,\n",
       "                                                             fit_prior=True),\n",
       "                                     n_jobs=None))],\n",
       "         verbose=False)"
      ]
     },
     "execution_count": 16,
     "metadata": {},
     "output_type": "execute_result"
    }
   ],
   "source": [
    "clf_pipeline.fit(X_train, y_train_binarized)"
   ]
  },
  {
   "cell_type": "code",
   "execution_count": 19,
   "metadata": {
    "jupyter": {
     "source_hidden": true
    }
   },
   "outputs": [],
   "source": [
    "predicted_dev = clf_pipeline.predict(X_devtest)\n",
    "# predicted_test = clf_pipeline.predict(X_blindtest)"
   ]
  },
  {
   "cell_type": "markdown",
   "metadata": {
    "jupyter": {
     "source_hidden": true
    }
   },
   "source": [
    "### Peformance\n",
    "\n",
    "Calculate performance metrics for the Multinomial Naive Bayes classifier"
   ]
  },
  {
   "cell_type": "code",
   "execution_count": 21,
   "metadata": {
    "jupyter": {
     "source_hidden": true
    }
   },
   "outputs": [
    {
     "name": "stdout",
     "output_type": "stream",
     "text": [
      "Dev Test Accuracy: 0.8754137115839243\n"
     ]
    }
   ],
   "source": [
    "print(\"Dev Test Accuracy:\", np.mean(predicted_dev == y_devtest_binarized))\n",
    "# print(\"Blind Test Accuracy:\", np.mean(predicted_test == y_blindtest_binarized))"
   ]
  },
  {
   "cell_type": "code",
   "execution_count": 22,
   "metadata": {
    "collapsed": true,
    "jupyter": {
     "outputs_hidden": true,
     "source_hidden": true
    }
   },
   "outputs": [
    {
     "name": "stdout",
     "output_type": "stream",
     "text": [
      "[0 1 2 3 4 5 6 7 8]\n",
      "[0 2 3 4 5 6 7 8 9]\n"
     ]
    }
   ],
   "source": [
    "classes = clf_pipeline.classes_\n",
    "print(classes)\n",
    "original_classes = mlb.classes_\n",
    "print(original_classes)"
   ]
  },
  {
   "cell_type": "markdown",
   "metadata": {
    "jupyter": {
     "source_hidden": true
    }
   },
   "source": [
    "Plot a [confusion matrix](https://scikit-learn.org/stable/modules/model_evaluation.html#multilabel-confusion-matrix) of the results, where, for class *i*:\n",
    "* Count of true negatives (TN) is at position *i*,0,0\n",
    "* Count of false negatives (FN) is at position *i*,1,0\n",
    "* Count of true positives (FP) is at position *i*,1,1\n",
    "* Count of false positives (PF) is at position *i*,0,1"
   ]
  },
  {
   "cell_type": "code",
   "execution_count": 23,
   "metadata": {
    "jupyter": {
     "source_hidden": true
    }
   },
   "outputs": [
    {
     "data": {
      "text/html": [
       "<div>\n",
       "<style scoped>\n",
       "    .dataframe tbody tr th:only-of-type {\n",
       "        vertical-align: middle;\n",
       "    }\n",
       "\n",
       "    .dataframe tbody tr th {\n",
       "        vertical-align: top;\n",
       "    }\n",
       "\n",
       "    .dataframe thead th {\n",
       "        text-align: right;\n",
       "    }\n",
       "</style>\n",
       "<table border=\"1\" class=\"dataframe\">\n",
       "  <thead>\n",
       "    <tr style=\"text-align: right;\">\n",
       "      <th></th>\n",
       "      <th>labels</th>\n",
       "      <th>true_neg</th>\n",
       "      <th>false_neg</th>\n",
       "      <th>true_pos</th>\n",
       "      <th>false_pos</th>\n",
       "      <th>precision</th>\n",
       "      <th>recall</th>\n",
       "      <th>f_1</th>\n",
       "    </tr>\n",
       "  </thead>\n",
       "  <tbody>\n",
       "    <tr>\n",
       "      <th>0</th>\n",
       "      <td>Unknown</td>\n",
       "      <td>235</td>\n",
       "      <td>37</td>\n",
       "      <td>1735</td>\n",
       "      <td>343</td>\n",
       "      <td>0.834937</td>\n",
       "      <td>0.979120</td>\n",
       "      <td>0.901299</td>\n",
       "    </tr>\n",
       "    <tr>\n",
       "      <th>1</th>\n",
       "      <td>Feminine</td>\n",
       "      <td>2236</td>\n",
       "      <td>113</td>\n",
       "      <td>1</td>\n",
       "      <td>0</td>\n",
       "      <td>1.000000</td>\n",
       "      <td>0.008772</td>\n",
       "      <td>0.017391</td>\n",
       "    </tr>\n",
       "    <tr>\n",
       "      <th>2</th>\n",
       "      <td>Masculine</td>\n",
       "      <td>1782</td>\n",
       "      <td>232</td>\n",
       "      <td>300</td>\n",
       "      <td>36</td>\n",
       "      <td>0.892857</td>\n",
       "      <td>0.563910</td>\n",
       "      <td>0.691244</td>\n",
       "    </tr>\n",
       "    <tr>\n",
       "      <th>3</th>\n",
       "      <td>Generalization</td>\n",
       "      <td>2080</td>\n",
       "      <td>270</td>\n",
       "      <td>0</td>\n",
       "      <td>0</td>\n",
       "      <td>0.000000</td>\n",
       "      <td>0.000000</td>\n",
       "      <td>0.000000</td>\n",
       "    </tr>\n",
       "    <tr>\n",
       "      <th>4</th>\n",
       "      <td>Gendered-Pronoun</td>\n",
       "      <td>2107</td>\n",
       "      <td>234</td>\n",
       "      <td>7</td>\n",
       "      <td>2</td>\n",
       "      <td>0.777778</td>\n",
       "      <td>0.029046</td>\n",
       "      <td>0.056000</td>\n",
       "    </tr>\n",
       "    <tr>\n",
       "      <th>5</th>\n",
       "      <td>Gendered-Role</td>\n",
       "      <td>1963</td>\n",
       "      <td>375</td>\n",
       "      <td>12</td>\n",
       "      <td>0</td>\n",
       "      <td>1.000000</td>\n",
       "      <td>0.031008</td>\n",
       "      <td>0.060150</td>\n",
       "    </tr>\n",
       "    <tr>\n",
       "      <th>6</th>\n",
       "      <td>Occupation</td>\n",
       "      <td>1977</td>\n",
       "      <td>352</td>\n",
       "      <td>21</td>\n",
       "      <td>0</td>\n",
       "      <td>1.000000</td>\n",
       "      <td>0.056300</td>\n",
       "      <td>0.106599</td>\n",
       "    </tr>\n",
       "    <tr>\n",
       "      <th>7</th>\n",
       "      <td>Omission</td>\n",
       "      <td>1465</td>\n",
       "      <td>305</td>\n",
       "      <td>448</td>\n",
       "      <td>132</td>\n",
       "      <td>0.772414</td>\n",
       "      <td>0.594954</td>\n",
       "      <td>0.672168</td>\n",
       "    </tr>\n",
       "    <tr>\n",
       "      <th>8</th>\n",
       "      <td>Stereotype</td>\n",
       "      <td>2054</td>\n",
       "      <td>202</td>\n",
       "      <td>92</td>\n",
       "      <td>2</td>\n",
       "      <td>0.978723</td>\n",
       "      <td>0.312925</td>\n",
       "      <td>0.474227</td>\n",
       "    </tr>\n",
       "  </tbody>\n",
       "</table>\n",
       "</div>"
      ],
      "text/plain": [
       "             labels  true_neg  false_neg  true_pos  false_pos  precision  \\\n",
       "0           Unknown       235         37      1735        343   0.834937   \n",
       "1          Feminine      2236        113         1          0   1.000000   \n",
       "2         Masculine      1782        232       300         36   0.892857   \n",
       "3    Generalization      2080        270         0          0   0.000000   \n",
       "4  Gendered-Pronoun      2107        234         7          2   0.777778   \n",
       "5     Gendered-Role      1963        375        12          0   1.000000   \n",
       "6        Occupation      1977        352        21          0   1.000000   \n",
       "7          Omission      1465        305       448        132   0.772414   \n",
       "8        Stereotype      2054        202        92          2   0.978723   \n",
       "\n",
       "     recall       f_1  \n",
       "0  0.979120  0.901299  \n",
       "1  0.008772  0.017391  \n",
       "2  0.563910  0.691244  \n",
       "3  0.000000  0.000000  \n",
       "4  0.029046  0.056000  \n",
       "5  0.031008  0.060150  \n",
       "6  0.056300  0.106599  \n",
       "7  0.594954  0.672168  \n",
       "8  0.312925  0.474227  "
      ]
     },
     "execution_count": 23,
     "metadata": {},
     "output_type": "execute_result"
    }
   ],
   "source": [
    "dev_matrix = multilabel_confusion_matrix(y_devtest_binarized, predicted_dev, labels=classes)\n",
    "df_dev = utils.getPerformanceMetrics(y_devtest_binarized, predicted_dev, dev_matrix, classes, original_classes)\n",
    "df_dev"
   ]
  },
  {
   "cell_type": "code",
   "execution_count": 24,
   "metadata": {
    "jupyter": {
     "source_hidden": true
    }
   },
   "outputs": [],
   "source": [
    "# test_matrix = multilabel_confusion_matrix(y_blindtest_binarized, predicted_test, labels=classes)\n",
    "# df_test = utils.getPerformanceMetrics(y_blindtest_binarized, predicted_test, test_matrix, classes, original_classes)\n",
    "# df_test"
   ]
  },
  {
   "cell_type": "code",
   "execution_count": 25,
   "metadata": {
    "collapsed": true,
    "jupyter": {
     "outputs_hidden": true,
     "source_hidden": true
    }
   },
   "outputs": [
    {
     "data": {
      "image/png": "[encoded data removed]",
      "text/plain": [
       "<Figure size 432x288 with 2 Axes>"
      ]
     },
     "metadata": {
      "needs_background": "light"
     },
     "output_type": "display_data"
    }
   ],
   "source": [
    "ax = sns.heatmap(dev_matrix[0], annot=True, fmt=\"d\")"
   ]
  },
  {
   "cell_type": "code",
   "execution_count": null,
   "metadata": {
    "jupyter": {
     "source_hidden": true
    }
   },
   "outputs": [],
   "source": [
    "# ax = sns.heatmap(test_matrix[0], annot=True, fmt=\"d\")"
   ]
  },
  {
   "cell_type": "code",
   "execution_count": 26,
   "metadata": {
    "jupyter": {
     "source_hidden": true
    }
   },
   "outputs": [],
   "source": [
    "df_dev.to_csv(metrics_dir+\"MultinomialNB_dev_performance.csv\")\n",
    "# df_test.to_csv(metrics_dir+\"MultinomialNB_test_performance.csv\")"
   ]
  },
  {
   "cell_type": "markdown",
   "metadata": {},
   "source": [
    "<a id=\"log\"></a>\n",
    "### Classifier 2: Logistic Regression\n",
    "\n",
    "*a.k.a. maximum-entropy (MaxEnt) or log-linear classification*"
   ]
  },
  {
   "cell_type": "code",
   "execution_count": 52,
   "metadata": {
    "jupyter": {
     "source_hidden": true
    }
   },
   "outputs": [],
   "source": [
    "clf_pipeline = Pipeline([\n",
    "    (\"vect\", CountVectorizer()),\n",
    "    (\"tfidf\", TfidfTransformer()),\n",
    "    (\"clf\", OneVsRestClassifier(LogisticRegression(solver=\"liblinear\", multi_class=\"ovr\")))\n",
    "    ])"
   ]
  },
  {
   "cell_type": "code",
   "execution_count": 53,
   "metadata": {
    "jupyter": {
     "source_hidden": true
    }
   },
   "outputs": [],
   "source": [
    "clf_pipeline.fit(X_train, y_train_binarized)\n",
    "predicted_dev = clf_pipeline.predict(X_devtest)\n",
    "# predicted_test = clf_pipeline.predict(X_blindtest)"
   ]
  },
  {
   "cell_type": "markdown",
   "metadata": {},
   "source": [
    "### Performance\n",
    "\n",
    "Calculate performance metrics for the Logistic Regression classifier"
   ]
  },
  {
   "cell_type": "code",
   "execution_count": 54,
   "metadata": {
    "jupyter": {
     "source_hidden": true
    }
   },
   "outputs": [
    {
     "name": "stdout",
     "output_type": "stream",
     "text": [
      "Dev Test Accuracy: 0.9106855791962175\n"
     ]
    }
   ],
   "source": [
    "print(\"Dev Test Accuracy:\", np.mean(predicted_dev == y_devtest_binarized))\n",
    "# print(\"Blind Test Accuracy:\", np.mean(predicted_test == y_blindtest_binarized))"
   ]
  },
  {
   "cell_type": "code",
   "execution_count": 55,
   "metadata": {
    "jupyter": {
     "source_hidden": true
    }
   },
   "outputs": [],
   "source": [
    "classes = clf_pipeline.classes_\n",
    "original_classes = mlb.classes_"
   ]
  },
  {
   "cell_type": "code",
   "execution_count": 56,
   "metadata": {
    "jupyter": {
     "source_hidden": true
    }
   },
   "outputs": [],
   "source": [
    "dev_matrix = multilabel_confusion_matrix(y_devtest_binarized, predicted_dev, labels=classes)\n",
    "# test_matrix = multilabel_confusion_matrix(y_blindtest_binarized, predicted_test, labels=classes)"
   ]
  },
  {
   "cell_type": "code",
   "execution_count": 57,
   "metadata": {
    "jupyter": {
     "source_hidden": true
    }
   },
   "outputs": [
    {
     "data": {
      "text/html": [
       "<div>\n",
       "<style scoped>\n",
       "    .dataframe tbody tr th:only-of-type {\n",
       "        vertical-align: middle;\n",
       "    }\n",
       "\n",
       "    .dataframe tbody tr th {\n",
       "        vertical-align: top;\n",
       "    }\n",
       "\n",
       "    .dataframe thead th {\n",
       "        text-align: right;\n",
       "    }\n",
       "</style>\n",
       "<table border=\"1\" class=\"dataframe\">\n",
       "  <thead>\n",
       "    <tr style=\"text-align: right;\">\n",
       "      <th></th>\n",
       "      <th>labels</th>\n",
       "      <th>true_neg</th>\n",
       "      <th>false_neg</th>\n",
       "      <th>true_pos</th>\n",
       "      <th>false_pos</th>\n",
       "      <th>precision</th>\n",
       "      <th>recall</th>\n",
       "      <th>f_1</th>\n",
       "    </tr>\n",
       "  </thead>\n",
       "  <tbody>\n",
       "    <tr>\n",
       "      <th>0</th>\n",
       "      <td>Unknown</td>\n",
       "      <td>267</td>\n",
       "      <td>43</td>\n",
       "      <td>1729</td>\n",
       "      <td>311</td>\n",
       "      <td>0.847549</td>\n",
       "      <td>0.975734</td>\n",
       "      <td>0.907135</td>\n",
       "    </tr>\n",
       "    <tr>\n",
       "      <th>1</th>\n",
       "      <td>Feminine</td>\n",
       "      <td>2233</td>\n",
       "      <td>89</td>\n",
       "      <td>25</td>\n",
       "      <td>3</td>\n",
       "      <td>0.892857</td>\n",
       "      <td>0.219298</td>\n",
       "      <td>0.352113</td>\n",
       "    </tr>\n",
       "    <tr>\n",
       "      <th>2</th>\n",
       "      <td>Masculine</td>\n",
       "      <td>1767</td>\n",
       "      <td>132</td>\n",
       "      <td>400</td>\n",
       "      <td>51</td>\n",
       "      <td>0.886918</td>\n",
       "      <td>0.751880</td>\n",
       "      <td>0.813835</td>\n",
       "    </tr>\n",
       "    <tr>\n",
       "      <th>3</th>\n",
       "      <td>Generalization</td>\n",
       "      <td>2059</td>\n",
       "      <td>158</td>\n",
       "      <td>112</td>\n",
       "      <td>21</td>\n",
       "      <td>0.842105</td>\n",
       "      <td>0.414815</td>\n",
       "      <td>0.555831</td>\n",
       "    </tr>\n",
       "    <tr>\n",
       "      <th>4</th>\n",
       "      <td>Gendered-Pronoun</td>\n",
       "      <td>2100</td>\n",
       "      <td>101</td>\n",
       "      <td>140</td>\n",
       "      <td>9</td>\n",
       "      <td>0.939597</td>\n",
       "      <td>0.580913</td>\n",
       "      <td>0.717949</td>\n",
       "    </tr>\n",
       "    <tr>\n",
       "      <th>5</th>\n",
       "      <td>Gendered-Role</td>\n",
       "      <td>1946</td>\n",
       "      <td>191</td>\n",
       "      <td>196</td>\n",
       "      <td>17</td>\n",
       "      <td>0.920188</td>\n",
       "      <td>0.506460</td>\n",
       "      <td>0.653333</td>\n",
       "    </tr>\n",
       "    <tr>\n",
       "      <th>6</th>\n",
       "      <td>Occupation</td>\n",
       "      <td>1959</td>\n",
       "      <td>235</td>\n",
       "      <td>138</td>\n",
       "      <td>18</td>\n",
       "      <td>0.884615</td>\n",
       "      <td>0.369973</td>\n",
       "      <td>0.521739</td>\n",
       "    </tr>\n",
       "    <tr>\n",
       "      <th>7</th>\n",
       "      <td>Omission</td>\n",
       "      <td>1479</td>\n",
       "      <td>276</td>\n",
       "      <td>477</td>\n",
       "      <td>118</td>\n",
       "      <td>0.801681</td>\n",
       "      <td>0.633466</td>\n",
       "      <td>0.707715</td>\n",
       "    </tr>\n",
       "    <tr>\n",
       "      <th>8</th>\n",
       "      <td>Stereotype</td>\n",
       "      <td>2029</td>\n",
       "      <td>89</td>\n",
       "      <td>205</td>\n",
       "      <td>27</td>\n",
       "      <td>0.883621</td>\n",
       "      <td>0.697279</td>\n",
       "      <td>0.779468</td>\n",
       "    </tr>\n",
       "  </tbody>\n",
       "</table>\n",
       "</div>"
      ],
      "text/plain": [
       "             labels  true_neg  false_neg  true_pos  false_pos  precision  \\\n",
       "0           Unknown       267         43      1729        311   0.847549   \n",
       "1          Feminine      2233         89        25          3   0.892857   \n",
       "2         Masculine      1767        132       400         51   0.886918   \n",
       "3    Generalization      2059        158       112         21   0.842105   \n",
       "4  Gendered-Pronoun      2100        101       140          9   0.939597   \n",
       "5     Gendered-Role      1946        191       196         17   0.920188   \n",
       "6        Occupation      1959        235       138         18   0.884615   \n",
       "7          Omission      1479        276       477        118   0.801681   \n",
       "8        Stereotype      2029         89       205         27   0.883621   \n",
       "\n",
       "     recall       f_1  \n",
       "0  0.975734  0.907135  \n",
       "1  0.219298  0.352113  \n",
       "2  0.751880  0.813835  \n",
       "3  0.414815  0.555831  \n",
       "4  0.580913  0.717949  \n",
       "5  0.506460  0.653333  \n",
       "6  0.369973  0.521739  \n",
       "7  0.633466  0.707715  \n",
       "8  0.697279  0.779468  "
      ]
     },
     "execution_count": 57,
     "metadata": {},
     "output_type": "execute_result"
    }
   ],
   "source": [
    "df_dev = utils.getPerformanceMetrics(y_devtest_binarized, predicted_dev, dev_matrix, classes, original_classes)\n",
    "df_dev"
   ]
  },
  {
   "cell_type": "code",
   "execution_count": 51,
   "metadata": {
    "jupyter": {
     "source_hidden": true
    }
   },
   "outputs": [],
   "source": [
    "# df_test = utils.getPerformanceMetrics(y_blindtest_binarized, predicted_test, test_matrix, classes, original_classes)\n",
    "# df_test"
   ]
  },
  {
   "cell_type": "code",
   "execution_count": 58,
   "metadata": {},
   "outputs": [
    {
     "data": {
      "image/png": "[encoded data removed]",
      "text/plain": [
       "<Figure size 432x288 with 2 Axes>"
      ]
     },
     "metadata": {
      "needs_background": "light"
     },
     "output_type": "display_data"
    }
   ],
   "source": [
    "ax = sns.heatmap(dev_matrix[8], annot=True, fmt=\"d\")"
   ]
  },
  {
   "cell_type": "code",
   "execution_count": null,
   "metadata": {
    "jupyter": {
     "source_hidden": true
    }
   },
   "outputs": [],
   "source": [
    "# ax = sns.heatmap(test_matrix[0], annot=True, fmt=\"d\")"
   ]
  },
  {
   "cell_type": "markdown",
   "metadata": {},
   "source": [
    "This classifier performs better than the first classifier (Multinomial Naive Bayes) and third classifier (Random Forest)."
   ]
  },
  {
   "cell_type": "code",
   "execution_count": 34,
   "metadata": {
    "jupyter": {
     "source_hidden": true
    }
   },
   "outputs": [],
   "source": [
    "df_dev.to_csv(metrics_dir+\"LogisticRegression_dev_performance.csv\")\n",
    "# df_test.to_csv(metrics_dir+\"LogisticRegression_test_performance.csv\")"
   ]
  },
  {
   "cell_type": "markdown",
   "metadata": {},
   "source": [
    "<a id=\"ran\"></a>\n",
    "### Classifier 3: Random Forest"
   ]
  },
  {
   "cell_type": "code",
   "execution_count": 35,
   "metadata": {
    "jupyter": {
     "source_hidden": true
    }
   },
   "outputs": [],
   "source": [
    "clf_pipeline = Pipeline([\n",
    "    (\"vect\", CountVectorizer()),\n",
    "    (\"tfidf\", TfidfTransformer()),\n",
    "    (\"clf\", OneVsRestClassifier(RandomForestClassifier(max_depth=3, random_state=0)))\n",
    "    ])"
   ]
  },
  {
   "cell_type": "code",
   "execution_count": 37,
   "metadata": {
    "jupyter": {
     "source_hidden": true
    }
   },
   "outputs": [],
   "source": [
    "clf_pipeline.fit(X_train, y_train_binarized)\n",
    "predicted_dev = clf_pipeline.predict(X_devtest)\n",
    "# predicted_test = clf_pipeline.predict(X_blindtest)"
   ]
  },
  {
   "cell_type": "code",
   "execution_count": 38,
   "metadata": {
    "jupyter": {
     "source_hidden": true
    }
   },
   "outputs": [],
   "source": [
    "classes = clf_pipeline.classes_\n",
    "original_classes = mlb.classes_"
   ]
  },
  {
   "cell_type": "code",
   "execution_count": 39,
   "metadata": {
    "jupyter": {
     "source_hidden": true
    }
   },
   "outputs": [
    {
     "name": "stdout",
     "output_type": "stream",
     "text": [
      "Dev Test Accuracy: 0.8332860520094563\n"
     ]
    }
   ],
   "source": [
    "print(\"Dev Test Accuracy:\", np.mean(predicted_dev == y_devtest_binarized))\n",
    "# print(\"Blind Test Accuracy:\", np.mean(predicted_test == y_blindtest_binarized))"
   ]
  },
  {
   "cell_type": "code",
   "execution_count": 40,
   "metadata": {
    "jupyter": {
     "source_hidden": true
    }
   },
   "outputs": [
    {
     "data": {
      "text/html": [
       "<div>\n",
       "<style scoped>\n",
       "    .dataframe tbody tr th:only-of-type {\n",
       "        vertical-align: middle;\n",
       "    }\n",
       "\n",
       "    .dataframe tbody tr th {\n",
       "        vertical-align: top;\n",
       "    }\n",
       "\n",
       "    .dataframe thead th {\n",
       "        text-align: right;\n",
       "    }\n",
       "</style>\n",
       "<table border=\"1\" class=\"dataframe\">\n",
       "  <thead>\n",
       "    <tr style=\"text-align: right;\">\n",
       "      <th></th>\n",
       "      <th>labels</th>\n",
       "      <th>true_neg</th>\n",
       "      <th>false_neg</th>\n",
       "      <th>true_pos</th>\n",
       "      <th>false_pos</th>\n",
       "      <th>precision</th>\n",
       "      <th>recall</th>\n",
       "      <th>f_1</th>\n",
       "    </tr>\n",
       "  </thead>\n",
       "  <tbody>\n",
       "    <tr>\n",
       "      <th>0</th>\n",
       "      <td>Unknown</td>\n",
       "      <td>0</td>\n",
       "      <td>0</td>\n",
       "      <td>1772</td>\n",
       "      <td>578</td>\n",
       "      <td>0.754043</td>\n",
       "      <td>1.000000</td>\n",
       "      <td>0.859777</td>\n",
       "    </tr>\n",
       "    <tr>\n",
       "      <th>1</th>\n",
       "      <td>Feminine</td>\n",
       "      <td>2236</td>\n",
       "      <td>114</td>\n",
       "      <td>0</td>\n",
       "      <td>0</td>\n",
       "      <td>0.000000</td>\n",
       "      <td>0.000000</td>\n",
       "      <td>0.000000</td>\n",
       "    </tr>\n",
       "    <tr>\n",
       "      <th>2</th>\n",
       "      <td>Masculine</td>\n",
       "      <td>1817</td>\n",
       "      <td>525</td>\n",
       "      <td>7</td>\n",
       "      <td>1</td>\n",
       "      <td>0.875000</td>\n",
       "      <td>0.013158</td>\n",
       "      <td>0.025926</td>\n",
       "    </tr>\n",
       "    <tr>\n",
       "      <th>3</th>\n",
       "      <td>Generalization</td>\n",
       "      <td>2080</td>\n",
       "      <td>270</td>\n",
       "      <td>0</td>\n",
       "      <td>0</td>\n",
       "      <td>0.000000</td>\n",
       "      <td>0.000000</td>\n",
       "      <td>0.000000</td>\n",
       "    </tr>\n",
       "    <tr>\n",
       "      <th>4</th>\n",
       "      <td>Gendered-Pronoun</td>\n",
       "      <td>2109</td>\n",
       "      <td>239</td>\n",
       "      <td>2</td>\n",
       "      <td>0</td>\n",
       "      <td>1.000000</td>\n",
       "      <td>0.008299</td>\n",
       "      <td>0.016461</td>\n",
       "    </tr>\n",
       "    <tr>\n",
       "      <th>5</th>\n",
       "      <td>Gendered-Role</td>\n",
       "      <td>1963</td>\n",
       "      <td>387</td>\n",
       "      <td>0</td>\n",
       "      <td>0</td>\n",
       "      <td>0.000000</td>\n",
       "      <td>0.000000</td>\n",
       "      <td>0.000000</td>\n",
       "    </tr>\n",
       "    <tr>\n",
       "      <th>6</th>\n",
       "      <td>Occupation</td>\n",
       "      <td>1977</td>\n",
       "      <td>371</td>\n",
       "      <td>2</td>\n",
       "      <td>0</td>\n",
       "      <td>1.000000</td>\n",
       "      <td>0.005362</td>\n",
       "      <td>0.010667</td>\n",
       "    </tr>\n",
       "    <tr>\n",
       "      <th>7</th>\n",
       "      <td>Omission</td>\n",
       "      <td>1596</td>\n",
       "      <td>746</td>\n",
       "      <td>7</td>\n",
       "      <td>1</td>\n",
       "      <td>0.875000</td>\n",
       "      <td>0.009296</td>\n",
       "      <td>0.018397</td>\n",
       "    </tr>\n",
       "    <tr>\n",
       "      <th>8</th>\n",
       "      <td>Stereotype</td>\n",
       "      <td>2056</td>\n",
       "      <td>294</td>\n",
       "      <td>0</td>\n",
       "      <td>0</td>\n",
       "      <td>0.000000</td>\n",
       "      <td>0.000000</td>\n",
       "      <td>0.000000</td>\n",
       "    </tr>\n",
       "  </tbody>\n",
       "</table>\n",
       "</div>"
      ],
      "text/plain": [
       "             labels  true_neg  false_neg  true_pos  false_pos  precision  \\\n",
       "0           Unknown         0          0      1772        578   0.754043   \n",
       "1          Feminine      2236        114         0          0   0.000000   \n",
       "2         Masculine      1817        525         7          1   0.875000   \n",
       "3    Generalization      2080        270         0          0   0.000000   \n",
       "4  Gendered-Pronoun      2109        239         2          0   1.000000   \n",
       "5     Gendered-Role      1963        387         0          0   0.000000   \n",
       "6        Occupation      1977        371         2          0   1.000000   \n",
       "7          Omission      1596        746         7          1   0.875000   \n",
       "8        Stereotype      2056        294         0          0   0.000000   \n",
       "\n",
       "     recall       f_1  \n",
       "0  1.000000  0.859777  \n",
       "1  0.000000  0.000000  \n",
       "2  0.013158  0.025926  \n",
       "3  0.000000  0.000000  \n",
       "4  0.008299  0.016461  \n",
       "5  0.000000  0.000000  \n",
       "6  0.005362  0.010667  \n",
       "7  0.009296  0.018397  \n",
       "8  0.000000  0.000000  "
      ]
     },
     "execution_count": 40,
     "metadata": {},
     "output_type": "execute_result"
    }
   ],
   "source": [
    "dev_matrix = multilabel_confusion_matrix(y_devtest_binarized, predicted_dev, labels=classes)\n",
    "df_dev = utils.getPerformanceMetrics(y_devtest_binarized, predicted_dev, dev_matrix, classes, original_classes)\n",
    "df_dev"
   ]
  },
  {
   "cell_type": "code",
   "execution_count": 43,
   "metadata": {
    "jupyter": {
     "source_hidden": true
    }
   },
   "outputs": [],
   "source": [
    "dev_matrix = multilabel_confusion_matrix(y_devtest_binarized, predicted_dev, labels=classes)"
   ]
  },
  {
   "cell_type": "code",
   "execution_count": 44,
   "metadata": {
    "collapsed": true,
    "jupyter": {
     "outputs_hidden": true,
     "source_hidden": true
    }
   },
   "outputs": [
    {
     "data": {
      "image/png": "[encoded data removed]",
      "text/plain": [
       "<Figure size 432x288 with 2 Axes>"
      ]
     },
     "metadata": {
      "needs_background": "light"
     },
     "output_type": "display_data"
    }
   ],
   "source": [
    "ax = sns.heatmap(dev_matrix[0], annot=True, fmt=\"d\")"
   ]
  },
  {
   "cell_type": "code",
   "execution_count": 41,
   "metadata": {
    "jupyter": {
     "source_hidden": true
    }
   },
   "outputs": [],
   "source": [
    "# test_matrix = multilabel_confusion_matrix(y_blindtest_binarized, predicted_test, labels=classes)\n",
    "# df_test = utils.getPerformanceMetrics(y_blindtest_binarized, predicted_test, test_matrix, classes, original_classes)\n",
    "# df_test"
   ]
  },
  {
   "cell_type": "markdown",
   "metadata": {},
   "source": [
    "This classifier performs worse than the other two."
   ]
  },
  {
   "cell_type": "code",
   "execution_count": 42,
   "metadata": {
    "jupyter": {
     "source_hidden": true
    }
   },
   "outputs": [],
   "source": [
    "df_dev.to_csv(metrics_dir+\"RandomForest_dev_performance.csv\")\n",
    "# df_test.to_csv(metrics_dir+\"RandomForest_test_performance.csv\")"
   ]
  },
  {
   "cell_type": "markdown",
   "metadata": {},
   "source": [
    "<a id=\"err\"></a>\n",
    "## Error Analysis\n",
    "\n",
    "Error analysis of the **Logistic Regression** classifier, as this is the top-performing baseline classification model."
   ]
  },
  {
   "cell_type": "code",
   "execution_count": null,
   "metadata": {},
   "outputs": [],
   "source": [
    "# Associate classes to numeric labels to strings of label names\n",
    "label_class_to_no = dict(zip(classes,original_classes))\n",
    "labels = {\n",
    "    \"Unknown\": 0, \"Non-binary\": 1, \"Feminine\": 2, \"Masculine\": 3,\n",
    "    \"Generalization\": 4, \"Gendered-Pronoun\": 5, \"Gendered-Role\": 6,\n",
    "    \"Occupation\": 7, \"Omission\":8, \"Stereotype\": 9, \"Empowering\": 10\n",
    "         }\n",
    "label_no_to_name = dict(zip(list(labels.values()), list(labels.keys())))"
   ]
  },
  {
   "cell_type": "markdown",
   "metadata": {},
   "source": [
    "#### Dev Test Data Confusion Matrices"
   ]
  },
  {
   "cell_type": "code",
   "execution_count": null,
   "metadata": {},
   "outputs": [],
   "source": [
    "matrices = dict()  # keys are labels, values are 2D arrays \n",
    "for col in range(len(classes)):\n",
    "    y_test_label = y_devtest_binarized[:, col]\n",
    "    pred_label = predicted_dev[:, col]\n",
    "    \n",
    "    matrices[classes[col]] = confusion_matrix(pred_label, y_test_label, normalize=\"all\")"
   ]
  },
  {
   "cell_type": "code",
   "execution_count": null,
   "metadata": {},
   "outputs": [],
   "source": [
    "png_dir = metrics_dir+\"logreg_dev_confusion_matrices/\"\n",
    "Path(png_dir).mkdir(parents=True, exist_ok=True)"
   ]
  },
  {
   "cell_type": "code",
   "execution_count": null,
   "metadata": {},
   "outputs": [],
   "source": [
    "for label_class,matrix in matrices.items():\n",
    "    label_name = label_no_to_name[label_class_to_no[label_class]]\n",
    "    filename = \"{}_cmatrix_normalized_all.png\".format(label_name)\n",
    "    ConfusionMatrixDisplay(matrix, display_labels=[\"Not \"+label_name,label_name]).plot()\n",
    "    plt.savefig(png_dir+filename)"
   ]
  },
  {
   "cell_type": "markdown",
   "metadata": {},
   "source": [
    "#### Blind Test Data Confusion Matrices"
   ]
  },
  {
   "cell_type": "code",
   "execution_count": null,
   "metadata": {},
   "outputs": [],
   "source": [
    "matrices = dict()  # keys are labels, values are 2D arrays \n",
    "for col in range(len(classes)):\n",
    "    y_test_label = y_blindtest_binarized[:, col]\n",
    "    pred_label = predicted_test[:, col]\n",
    "    \n",
    "    matrices[classes[col]] = confusion_matrix(pred_label, y_test_label, normalize=\"all\")"
   ]
  },
  {
   "cell_type": "code",
   "execution_count": null,
   "metadata": {},
   "outputs": [],
   "source": [
    "png_dir = metrics_dir+\"logreg_test_confusion_matrices/\"\n",
    "Path(png_dir).mkdir(parents=True, exist_ok=True)"
   ]
  },
  {
   "cell_type": "code",
   "execution_count": null,
   "metadata": {},
   "outputs": [],
   "source": [
    "for label_class,matrix in matrices.items():\n",
    "    label_name = label_no_to_name[label_class_to_no[label_class]]\n",
    "    filename = \"{}_cmatrix_normalized_all.png\".format(label_name)\n",
    "    ConfusionMatrixDisplay(matrix, display_labels=[\"Not \"+label_name,label_name]).plot()\n",
    "    plt.savefig(png_dir+filename)"
   ]
  },
  {
   "cell_type": "markdown",
   "metadata": {},
   "source": [
    "For all labels except `Unknown`, for which the true positive rate is high, the true negative rates are high but the true positive, false positive, and false negative rates are very low."
   ]
  },
  {
   "cell_type": "code",
   "execution_count": null,
   "metadata": {},
   "outputs": [],
   "source": [
    "y_devtest_binarized"
   ]
  },
  {
   "cell_type": "code",
   "execution_count": null,
   "metadata": {},
   "outputs": [],
   "source": [
    "classes = clf_pipeline.classes_\n",
    "original_classes = mlb.classes_\n",
    "print(\"Clf Classes:\", classes)\n",
    "print(\"Original Classes:\", original_classes)"
   ]
  },
  {
   "cell_type": "code",
   "execution_count": null,
   "metadata": {},
   "outputs": [],
   "source": []
  }
 ],
 "metadata": {
  "kernelspec": {
   "display_name": "Python 3",
   "language": "python",
   "name": "python3"
  },
  "language_info": {
   "codemirror_mode": {
    "name": "ipython",
    "version": 3
   },
   "file_extension": ".py",
   "mimetype": "text/x-python",
   "name": "python",
   "nbconvert_exporter": "python",
   "pygments_lexer": "ipython3",
   "version": "3.8.10"
  }
 },
 "nbformat": 4,
 "nbformat_minor": 5
}

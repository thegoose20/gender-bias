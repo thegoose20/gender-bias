{
 "cells": [
  {
   "cell_type": "markdown",
   "metadata": {},
   "source": [
    "# Gender Biased Document Classification\n",
    "\n",
    "## Splitting Data into Train/Validation/Test Sets"
   ]
  },
  {
   "cell_type": "code",
   "execution_count": 1,
   "metadata": {},
   "outputs": [],
   "source": [
    "import numpy as np\n",
    "import pandas as pd\n",
    "# from sklearn.model_selection import StratifiedShuffleSplit\n",
    "from sklearn.model_selection import train_test_split\n",
    "# from sklearn.preprocessing import FunctionTransformer\n",
    "from sklearn.feature_extraction.text import TfidfVectorizer"
   ]
  },
  {
   "cell_type": "markdown",
   "metadata": {},
   "source": [
    "Load and prepare the data for classification:"
   ]
  },
  {
   "cell_type": "code",
   "execution_count": 8,
   "metadata": {},
   "outputs": [
    {
     "data": {
      "text/html": [
       "<div>\n",
       "<style scoped>\n",
       "    .dataframe tbody tr th:only-of-type {\n",
       "        vertical-align: middle;\n",
       "    }\n",
       "\n",
       "    .dataframe tbody tr th {\n",
       "        vertical-align: top;\n",
       "    }\n",
       "\n",
       "    .dataframe thead th {\n",
       "        text-align: right;\n",
       "    }\n",
       "</style>\n",
       "<table border=\"1\" class=\"dataframe\">\n",
       "  <thead>\n",
       "    <tr style=\"text-align: right;\">\n",
       "      <th></th>\n",
       "      <th>file</th>\n",
       "      <th>offsets</th>\n",
       "      <th>text</th>\n",
       "      <th>label</th>\n",
       "      <th>category</th>\n",
       "      <th>eadid</th>\n",
       "      <th>field</th>\n",
       "      <th>id</th>\n",
       "      <th>desc_id</th>\n",
       "    </tr>\n",
       "  </thead>\n",
       "  <tbody>\n",
       "    <tr>\n",
       "      <th>9</th>\n",
       "      <td>AA5_00100.ann</td>\n",
       "      <td>(1032, 1043)</td>\n",
       "      <td>James Whyte</td>\n",
       "      <td>Masculine</td>\n",
       "      <td>Person-Name</td>\n",
       "      <td>AA5</td>\n",
       "      <td>Biographical / Historical</td>\n",
       "      <td>0</td>\n",
       "      <td>0</td>\n",
       "    </tr>\n",
       "    <tr>\n",
       "      <th>16</th>\n",
       "      <td>AA5_00100.ann</td>\n",
       "      <td>(1129, 1177)</td>\n",
       "      <td>chair of practical theology and Christian ethics</td>\n",
       "      <td>Occupation</td>\n",
       "      <td>Contextual</td>\n",
       "      <td>AA5</td>\n",
       "      <td>Biographical / Historical</td>\n",
       "      <td>1</td>\n",
       "      <td>0</td>\n",
       "    </tr>\n",
       "    <tr>\n",
       "      <th>4</th>\n",
       "      <td>AA5_00100.ann</td>\n",
       "      <td>(1217, 1219)</td>\n",
       "      <td>he</td>\n",
       "      <td>Gendered-Pronoun</td>\n",
       "      <td>Linguistic</td>\n",
       "      <td>AA5</td>\n",
       "      <td>Biographical / Historical</td>\n",
       "      <td>2</td>\n",
       "      <td>0</td>\n",
       "    </tr>\n",
       "    <tr>\n",
       "      <th>5</th>\n",
       "      <td>AA5_00100.ann</td>\n",
       "      <td>(1241, 1244)</td>\n",
       "      <td>His</td>\n",
       "      <td>Gendered-Pronoun</td>\n",
       "      <td>Linguistic</td>\n",
       "      <td>AA5</td>\n",
       "      <td>Biographical / Historical</td>\n",
       "      <td>3</td>\n",
       "      <td>0</td>\n",
       "    </tr>\n",
       "    <tr>\n",
       "      <th>6</th>\n",
       "      <td>AA5_00100.ann</td>\n",
       "      <td>(1315, 1317)</td>\n",
       "      <td>he</td>\n",
       "      <td>Gendered-Pronoun</td>\n",
       "      <td>Linguistic</td>\n",
       "      <td>AA5</td>\n",
       "      <td>Biographical / Historical</td>\n",
       "      <td>4</td>\n",
       "      <td>0</td>\n",
       "    </tr>\n",
       "  </tbody>\n",
       "</table>\n",
       "</div>"
      ],
      "text/plain": [
       "             file       offsets  \\\n",
       "9   AA5_00100.ann  (1032, 1043)   \n",
       "16  AA5_00100.ann  (1129, 1177)   \n",
       "4   AA5_00100.ann  (1217, 1219)   \n",
       "5   AA5_00100.ann  (1241, 1244)   \n",
       "6   AA5_00100.ann  (1315, 1317)   \n",
       "\n",
       "                                                text             label  \\\n",
       "9                                        James Whyte         Masculine   \n",
       "16  chair of practical theology and Christian ethics        Occupation   \n",
       "4                                                 he  Gendered-Pronoun   \n",
       "5                                                His  Gendered-Pronoun   \n",
       "6                                                 he  Gendered-Pronoun   \n",
       "\n",
       "       category eadid                      field  id  desc_id  \n",
       "9   Person-Name   AA5  Biographical / Historical   0        0  \n",
       "16   Contextual   AA5  Biographical / Historical   1        0  \n",
       "4    Linguistic   AA5  Biographical / Historical   2        0  \n",
       "5    Linguistic   AA5  Biographical / Historical   3        0  \n",
       "6    Linguistic   AA5  Biographical / Historical   4        0  "
      ]
     },
     "execution_count": 8,
     "metadata": {},
     "output_type": "execute_result"
    }
   ],
   "source": [
    "df = pd.read_csv(\"../annot-post/data/aggregated_with_eadid_descid_cols.csv\", index_col=0)\n",
    "df.head()"
   ]
  },
  {
   "cell_type": "code",
   "execution_count": 9,
   "metadata": {},
   "outputs": [
    {
     "data": {
      "text/html": [
       "<div>\n",
       "<style scoped>\n",
       "    .dataframe tbody tr th:only-of-type {\n",
       "        vertical-align: middle;\n",
       "    }\n",
       "\n",
       "    .dataframe tbody tr th {\n",
       "        vertical-align: top;\n",
       "    }\n",
       "\n",
       "    .dataframe thead th {\n",
       "        text-align: right;\n",
       "    }\n",
       "</style>\n",
       "<table border=\"1\" class=\"dataframe\">\n",
       "  <thead>\n",
       "    <tr style=\"text-align: right;\">\n",
       "      <th></th>\n",
       "      <th>description</th>\n",
       "      <th>desc_id</th>\n",
       "    </tr>\n",
       "  </thead>\n",
       "  <tbody>\n",
       "    <tr>\n",
       "      <th>0</th>\n",
       "      <td>Professor James Aitken White was a leading Sco...</td>\n",
       "      <td>0</td>\n",
       "    </tr>\n",
       "    <tr>\n",
       "      <th>1</th>\n",
       "      <td>Papers of The Very Rev Prof James Whyte (1920-...</td>\n",
       "      <td>1</td>\n",
       "    </tr>\n",
       "    <tr>\n",
       "      <th>2</th>\n",
       "      <td>Rev Thomas Allan was born on 16 August 1916 in...</td>\n",
       "      <td>2</td>\n",
       "    </tr>\n",
       "    <tr>\n",
       "      <th>3</th>\n",
       "      <td>Papers of Rev Tom Allan (1916-1965)\\n\\n</td>\n",
       "      <td>3</td>\n",
       "    </tr>\n",
       "    <tr>\n",
       "      <th>4</th>\n",
       "      <td>Alec Cheyne was born on 1 June 1924 in Errol i...</td>\n",
       "      <td>4</td>\n",
       "    </tr>\n",
       "  </tbody>\n",
       "</table>\n",
       "</div>"
      ],
      "text/plain": [
       "                                         description  desc_id\n",
       "0  Professor James Aitken White was a leading Sco...        0\n",
       "1  Papers of The Very Rev Prof James Whyte (1920-...        1\n",
       "2  Rev Thomas Allan was born on 16 August 1916 in...        2\n",
       "3            Papers of Rev Tom Allan (1916-1965)\\n\\n        3\n",
       "4  Alec Cheyne was born on 1 June 1924 in Errol i...        4"
      ]
     },
     "execution_count": 9,
     "metadata": {},
     "output_type": "execute_result"
    }
   ],
   "source": [
    "descs = pd.read_csv(\"../annot-post/data/descriptions.csv\")\n",
    "descs = descs.drop(columns=[\"eadid\", \"field\"])\n",
    "descs.head()"
   ]
  },
  {
   "cell_type": "code",
   "execution_count": 10,
   "metadata": {
    "jupyter": {
     "source_hidden": true
    }
   },
   "outputs": [],
   "source": [
    "# df = pd.read_csv(\"annot_data/aggregated_with_eadid_descid_desc_cols.csv\", index_col=0)\n",
    "# df.head()"
   ]
  },
  {
   "cell_type": "code",
   "execution_count": 11,
   "metadata": {
    "jupyter": {
     "source_hidden": true
    }
   },
   "outputs": [],
   "source": [
    "# df[[\"field2\", \"description\"]] = df[\"description\"].str.split(\":\", n=1, expand=True)\n",
    "# df.drop(\"field2\", axis=1, inplace=True)\n",
    "# df.head()\n",
    "# df.drop([\"file\", \"offsets\", \"text\", \"category\", \"eadid\"], axis=1, inplace=True)\n",
    "# descs = list(df.description)\n",
    "# descs = [d.strip() for d in descs]\n",
    "# df.description = descs\n",
    "# df.to_csv(\"data/aggregated_data_for_classifier.csv\")"
   ]
  },
  {
   "cell_type": "markdown",
   "metadata": {},
   "source": [
    "Join the two DataFrames by `desc_id` (description ID):"
   ]
  },
  {
   "cell_type": "code",
   "execution_count": 12,
   "metadata": {},
   "outputs": [
    {
     "data": {
      "text/html": [
       "<div>\n",
       "<style scoped>\n",
       "    .dataframe tbody tr th:only-of-type {\n",
       "        vertical-align: middle;\n",
       "    }\n",
       "\n",
       "    .dataframe tbody tr th {\n",
       "        vertical-align: top;\n",
       "    }\n",
       "\n",
       "    .dataframe thead th {\n",
       "        text-align: right;\n",
       "    }\n",
       "</style>\n",
       "<table border=\"1\" class=\"dataframe\">\n",
       "  <thead>\n",
       "    <tr style=\"text-align: right;\">\n",
       "      <th></th>\n",
       "      <th>file</th>\n",
       "      <th>offsets</th>\n",
       "      <th>text</th>\n",
       "      <th>label</th>\n",
       "      <th>category</th>\n",
       "      <th>eadid</th>\n",
       "      <th>field</th>\n",
       "      <th>id</th>\n",
       "      <th>desc_id</th>\n",
       "      <th>description</th>\n",
       "    </tr>\n",
       "  </thead>\n",
       "  <tbody>\n",
       "    <tr>\n",
       "      <th>9</th>\n",
       "      <td>AA5_00100.ann</td>\n",
       "      <td>(1032, 1043)</td>\n",
       "      <td>James Whyte</td>\n",
       "      <td>Masculine</td>\n",
       "      <td>Person-Name</td>\n",
       "      <td>AA5</td>\n",
       "      <td>Biographical / Historical</td>\n",
       "      <td>0</td>\n",
       "      <td>0</td>\n",
       "      <td>Professor James Aitken White was a leading Sco...</td>\n",
       "    </tr>\n",
       "    <tr>\n",
       "      <th>16</th>\n",
       "      <td>AA5_00100.ann</td>\n",
       "      <td>(1129, 1177)</td>\n",
       "      <td>chair of practical theology and Christian ethics</td>\n",
       "      <td>Occupation</td>\n",
       "      <td>Contextual</td>\n",
       "      <td>AA5</td>\n",
       "      <td>Biographical / Historical</td>\n",
       "      <td>1</td>\n",
       "      <td>0</td>\n",
       "      <td>Professor James Aitken White was a leading Sco...</td>\n",
       "    </tr>\n",
       "    <tr>\n",
       "      <th>4</th>\n",
       "      <td>AA5_00100.ann</td>\n",
       "      <td>(1217, 1219)</td>\n",
       "      <td>he</td>\n",
       "      <td>Gendered-Pronoun</td>\n",
       "      <td>Linguistic</td>\n",
       "      <td>AA5</td>\n",
       "      <td>Biographical / Historical</td>\n",
       "      <td>2</td>\n",
       "      <td>0</td>\n",
       "      <td>Professor James Aitken White was a leading Sco...</td>\n",
       "    </tr>\n",
       "    <tr>\n",
       "      <th>5</th>\n",
       "      <td>AA5_00100.ann</td>\n",
       "      <td>(1241, 1244)</td>\n",
       "      <td>His</td>\n",
       "      <td>Gendered-Pronoun</td>\n",
       "      <td>Linguistic</td>\n",
       "      <td>AA5</td>\n",
       "      <td>Biographical / Historical</td>\n",
       "      <td>3</td>\n",
       "      <td>0</td>\n",
       "      <td>Professor James Aitken White was a leading Sco...</td>\n",
       "    </tr>\n",
       "    <tr>\n",
       "      <th>6</th>\n",
       "      <td>AA5_00100.ann</td>\n",
       "      <td>(1315, 1317)</td>\n",
       "      <td>he</td>\n",
       "      <td>Gendered-Pronoun</td>\n",
       "      <td>Linguistic</td>\n",
       "      <td>AA5</td>\n",
       "      <td>Biographical / Historical</td>\n",
       "      <td>4</td>\n",
       "      <td>0</td>\n",
       "      <td>Professor James Aitken White was a leading Sco...</td>\n",
       "    </tr>\n",
       "  </tbody>\n",
       "</table>\n",
       "</div>"
      ],
      "text/plain": [
       "             file       offsets  \\\n",
       "9   AA5_00100.ann  (1032, 1043)   \n",
       "16  AA5_00100.ann  (1129, 1177)   \n",
       "4   AA5_00100.ann  (1217, 1219)   \n",
       "5   AA5_00100.ann  (1241, 1244)   \n",
       "6   AA5_00100.ann  (1315, 1317)   \n",
       "\n",
       "                                                text             label  \\\n",
       "9                                        James Whyte         Masculine   \n",
       "16  chair of practical theology and Christian ethics        Occupation   \n",
       "4                                                 he  Gendered-Pronoun   \n",
       "5                                                His  Gendered-Pronoun   \n",
       "6                                                 he  Gendered-Pronoun   \n",
       "\n",
       "       category eadid                      field  id  desc_id  \\\n",
       "9   Person-Name   AA5  Biographical / Historical   0        0   \n",
       "16   Contextual   AA5  Biographical / Historical   1        0   \n",
       "4    Linguistic   AA5  Biographical / Historical   2        0   \n",
       "5    Linguistic   AA5  Biographical / Historical   3        0   \n",
       "6    Linguistic   AA5  Biographical / Historical   4        0   \n",
       "\n",
       "                                          description  \n",
       "9   Professor James Aitken White was a leading Sco...  \n",
       "16  Professor James Aitken White was a leading Sco...  \n",
       "4   Professor James Aitken White was a leading Sco...  \n",
       "5   Professor James Aitken White was a leading Sco...  \n",
       "6   Professor James Aitken White was a leading Sco...  "
      ]
     },
     "execution_count": 12,
     "metadata": {},
     "output_type": "execute_result"
    }
   ],
   "source": [
    "clf_data = df.join(descs.set_index('desc_id'), on='desc_id')\n",
    "clf_data.head()"
   ]
  },
  {
   "cell_type": "markdown",
   "metadata": {},
   "source": [
    "The DataFrame above has a row for every label, so for descriptions with multiple labels, there are multiple rows of data."
   ]
  },
  {
   "cell_type": "code",
   "execution_count": 13,
   "metadata": {},
   "outputs": [
    {
     "data": {
      "text/plain": [
       "False"
      ]
     },
     "execution_count": 13,
     "metadata": {},
     "output_type": "execute_result"
    }
   ],
   "source": [
    "clf_data.description.isnull().values.any()"
   ]
  },
  {
   "cell_type": "markdown",
   "metadata": {},
   "source": [
    "For every description, get the labels (non-repeating) they were annotated with:"
   ]
  },
  {
   "cell_type": "code",
   "execution_count": 14,
   "metadata": {},
   "outputs": [
    {
     "data": {
      "text/html": [
       "<div>\n",
       "<style scoped>\n",
       "    .dataframe tbody tr th:only-of-type {\n",
       "        vertical-align: middle;\n",
       "    }\n",
       "\n",
       "    .dataframe tbody tr th {\n",
       "        vertical-align: top;\n",
       "    }\n",
       "\n",
       "    .dataframe thead th {\n",
       "        text-align: right;\n",
       "    }\n",
       "</style>\n",
       "<table border=\"1\" class=\"dataframe\">\n",
       "  <thead>\n",
       "    <tr style=\"text-align: right;\">\n",
       "      <th></th>\n",
       "      <th>description</th>\n",
       "      <th>field</th>\n",
       "      <th>desc_id</th>\n",
       "      <th>label</th>\n",
       "    </tr>\n",
       "  </thead>\n",
       "  <tbody>\n",
       "    <tr>\n",
       "      <th>8054</th>\n",
       "      <td>Professor James Aitken White was a leading Sco...</td>\n",
       "      <td>Biographical / Historical</td>\n",
       "      <td>0</td>\n",
       "      <td>{Stereotype, Masculine, Occupation, Gendered-P...</td>\n",
       "    </tr>\n",
       "    <tr>\n",
       "      <th>5560</th>\n",
       "      <td>Papers of The Very Rev Prof James Whyte (1920-...</td>\n",
       "      <td>Title</td>\n",
       "      <td>1</td>\n",
       "      <td>{Masculine, Stereotype, Unknown}</td>\n",
       "    </tr>\n",
       "    <tr>\n",
       "      <th>8321</th>\n",
       "      <td>Rev Thomas Allan was born on 16 August 1916 in...</td>\n",
       "      <td>Biographical / Historical</td>\n",
       "      <td>2</td>\n",
       "      <td>{Stereotype, Generalization, Feminine, Omissio...</td>\n",
       "    </tr>\n",
       "    <tr>\n",
       "      <th>5550</th>\n",
       "      <td>Papers of Rev Tom Allan (1916-1965)\\n\\n</td>\n",
       "      <td>Title</td>\n",
       "      <td>3</td>\n",
       "      <td>{Masculine, Unknown}</td>\n",
       "    </tr>\n",
       "    <tr>\n",
       "      <th>633</th>\n",
       "      <td>Alec Cheyne was born on 1 June 1924 in Errol i...</td>\n",
       "      <td>Biographical / Historical</td>\n",
       "      <td>4</td>\n",
       "      <td>{Generalization, Stereotype, Feminine, Omissio...</td>\n",
       "    </tr>\n",
       "  </tbody>\n",
       "</table>\n",
       "</div>"
      ],
      "text/plain": [
       "                                            description  \\\n",
       "8054  Professor James Aitken White was a leading Sco...   \n",
       "5560  Papers of The Very Rev Prof James Whyte (1920-...   \n",
       "8321  Rev Thomas Allan was born on 16 August 1916 in...   \n",
       "5550            Papers of Rev Tom Allan (1916-1965)\\n\\n   \n",
       "633   Alec Cheyne was born on 1 June 1924 in Errol i...   \n",
       "\n",
       "                          field  desc_id  \\\n",
       "8054  Biographical / Historical        0   \n",
       "5560                      Title        1   \n",
       "8321  Biographical / Historical        2   \n",
       "5550                      Title        3   \n",
       "633   Biographical / Historical        4   \n",
       "\n",
       "                                                  label  \n",
       "8054  {Stereotype, Masculine, Occupation, Gendered-P...  \n",
       "5560                   {Masculine, Stereotype, Unknown}  \n",
       "8321  {Stereotype, Generalization, Feminine, Omissio...  \n",
       "5550                               {Masculine, Unknown}  \n",
       "633   {Generalization, Stereotype, Feminine, Omissio...  "
      ]
     },
     "execution_count": 14,
     "metadata": {},
     "output_type": "execute_result"
    }
   ],
   "source": [
    "df_grouped = clf_data.groupby([\"description\", \"field\", \"desc_id\"]).agg(\n",
    "    {\"label\": lambda label_name: set(label_name)}  #\",\".join(label_name)}\n",
    "    ).reset_index()\n",
    "df_grouped.sort_values(by=\"desc_id\", inplace=True)\n",
    "df_grouped.head()"
   ]
  },
  {
   "cell_type": "markdown",
   "metadata": {},
   "source": [
    "Make sure the sequences of labels in each row appear correctly:"
   ]
  },
  {
   "cell_type": "code",
   "execution_count": 15,
   "metadata": {},
   "outputs": [
    {
     "name": "stdout",
     "output_type": "stream",
     "text": [
      "['Masculine' 'Occupation' 'Gendered-Pronoun' 'Stereotype' 'Unknown'\n",
      " 'Feminine' 'Generalization' 'Omission' 'Gendered-Role' 'Nonbinary']\n"
     ]
    }
   ],
   "source": [
    "valid_label_names = clf_data.label.unique()\n",
    "print(valid_label_names)"
   ]
  },
  {
   "cell_type": "code",
   "execution_count": 15,
   "metadata": {},
   "outputs": [
    {
     "name": "stdout",
     "output_type": "stream",
     "text": [
      "[]\n"
     ]
    }
   ],
   "source": [
    "label_col = list(df_grouped.label)\n",
    "invalid = []\n",
    "for label_set in label_col:\n",
    "    label_list = list(label_set)\n",
    "    for label_name in label_list:\n",
    "        if not label_name in valid_label_names:\n",
    "            invalid += [label_name]\n",
    "print(invalid)"
   ]
  },
  {
   "cell_type": "markdown",
   "metadata": {},
   "source": [
    "Looks good!\n",
    "\n",
    "Add a column for the EADIDs (collection, or fonds, identifier) of the descriptions:"
   ]
  },
  {
   "cell_type": "code",
   "execution_count": 16,
   "metadata": {},
   "outputs": [
    {
     "data": {
      "text/html": [
       "<div>\n",
       "<style scoped>\n",
       "    .dataframe tbody tr th:only-of-type {\n",
       "        vertical-align: middle;\n",
       "    }\n",
       "\n",
       "    .dataframe tbody tr th {\n",
       "        vertical-align: top;\n",
       "    }\n",
       "\n",
       "    .dataframe thead th {\n",
       "        text-align: right;\n",
       "    }\n",
       "</style>\n",
       "<table border=\"1\" class=\"dataframe\">\n",
       "  <thead>\n",
       "    <tr style=\"text-align: right;\">\n",
       "      <th></th>\n",
       "      <th>eadid</th>\n",
       "      <th>desc_id</th>\n",
       "    </tr>\n",
       "  </thead>\n",
       "  <tbody>\n",
       "    <tr>\n",
       "      <th>0</th>\n",
       "      <td>AA5</td>\n",
       "      <td>0</td>\n",
       "    </tr>\n",
       "    <tr>\n",
       "      <th>1</th>\n",
       "      <td>AA5</td>\n",
       "      <td>1</td>\n",
       "    </tr>\n",
       "    <tr>\n",
       "      <th>2</th>\n",
       "      <td>AA6</td>\n",
       "      <td>2</td>\n",
       "    </tr>\n",
       "    <tr>\n",
       "      <th>3</th>\n",
       "      <td>AA6</td>\n",
       "      <td>3</td>\n",
       "    </tr>\n",
       "    <tr>\n",
       "      <th>4</th>\n",
       "      <td>AA7</td>\n",
       "      <td>4</td>\n",
       "    </tr>\n",
       "  </tbody>\n",
       "</table>\n",
       "</div>"
      ],
      "text/plain": [
       "  eadid  desc_id\n",
       "0   AA5        0\n",
       "1   AA5        1\n",
       "2   AA6        2\n",
       "3   AA6        3\n",
       "4   AA7        4"
      ]
     },
     "execution_count": 16,
     "metadata": {},
     "output_type": "execute_result"
    }
   ],
   "source": [
    "descs = pd.read_csv(\"../annot-post/data/descriptions.csv\")\n",
    "eadids = descs.drop(columns=[\"description\",\"field\"])\n",
    "# descs.head()\n",
    "eadids.head()"
   ]
  },
  {
   "cell_type": "code",
   "execution_count": 17,
   "metadata": {},
   "outputs": [
    {
     "data": {
      "text/html": [
       "<div>\n",
       "<style scoped>\n",
       "    .dataframe tbody tr th:only-of-type {\n",
       "        vertical-align: middle;\n",
       "    }\n",
       "\n",
       "    .dataframe tbody tr th {\n",
       "        vertical-align: top;\n",
       "    }\n",
       "\n",
       "    .dataframe thead th {\n",
       "        text-align: right;\n",
       "    }\n",
       "</style>\n",
       "<table border=\"1\" class=\"dataframe\">\n",
       "  <thead>\n",
       "    <tr style=\"text-align: right;\">\n",
       "      <th></th>\n",
       "      <th>description</th>\n",
       "      <th>field</th>\n",
       "      <th>desc_id</th>\n",
       "      <th>label</th>\n",
       "      <th>eadid</th>\n",
       "    </tr>\n",
       "  </thead>\n",
       "  <tbody>\n",
       "    <tr>\n",
       "      <th>8054</th>\n",
       "      <td>Professor James Aitken White was a leading Sco...</td>\n",
       "      <td>Biographical / Historical</td>\n",
       "      <td>0</td>\n",
       "      <td>{Occupation, Stereotype, Gendered-Pronoun, Mas...</td>\n",
       "      <td>AA5</td>\n",
       "    </tr>\n",
       "    <tr>\n",
       "      <th>5560</th>\n",
       "      <td>Papers of The Very Rev Prof James Whyte (1920-...</td>\n",
       "      <td>Title</td>\n",
       "      <td>1</td>\n",
       "      <td>{Stereotype, Unknown, Masculine}</td>\n",
       "      <td>AA5</td>\n",
       "    </tr>\n",
       "    <tr>\n",
       "      <th>8321</th>\n",
       "      <td>Rev Thomas Allan was born on 16 August 1916 in...</td>\n",
       "      <td>Biographical / Historical</td>\n",
       "      <td>2</td>\n",
       "      <td>{Gendered-Pronoun, Stereotype, Generalization,...</td>\n",
       "      <td>AA6</td>\n",
       "    </tr>\n",
       "    <tr>\n",
       "      <th>5550</th>\n",
       "      <td>Papers of Rev Tom Allan (1916-1965)\\n\\n</td>\n",
       "      <td>Title</td>\n",
       "      <td>3</td>\n",
       "      <td>{Unknown, Masculine}</td>\n",
       "      <td>AA6</td>\n",
       "    </tr>\n",
       "    <tr>\n",
       "      <th>633</th>\n",
       "      <td>Alec Cheyne was born on 1 June 1924 in Errol i...</td>\n",
       "      <td>Biographical / Historical</td>\n",
       "      <td>4</td>\n",
       "      <td>{Gendered-Pronoun, Stereotype, Generalization,...</td>\n",
       "      <td>AA7</td>\n",
       "    </tr>\n",
       "  </tbody>\n",
       "</table>\n",
       "</div>"
      ],
      "text/plain": [
       "                                            description  \\\n",
       "8054  Professor James Aitken White was a leading Sco...   \n",
       "5560  Papers of The Very Rev Prof James Whyte (1920-...   \n",
       "8321  Rev Thomas Allan was born on 16 August 1916 in...   \n",
       "5550            Papers of Rev Tom Allan (1916-1965)\\n\\n   \n",
       "633   Alec Cheyne was born on 1 June 1924 in Errol i...   \n",
       "\n",
       "                          field  desc_id  \\\n",
       "8054  Biographical / Historical        0   \n",
       "5560                      Title        1   \n",
       "8321  Biographical / Historical        2   \n",
       "5550                      Title        3   \n",
       "633   Biographical / Historical        4   \n",
       "\n",
       "                                                  label eadid  \n",
       "8054  {Occupation, Stereotype, Gendered-Pronoun, Mas...   AA5  \n",
       "5560                   {Stereotype, Unknown, Masculine}   AA5  \n",
       "8321  {Gendered-Pronoun, Stereotype, Generalization,...   AA6  \n",
       "5550                               {Unknown, Masculine}   AA6  \n",
       "633   {Gendered-Pronoun, Stereotype, Generalization,...   AA7  "
      ]
     },
     "execution_count": 17,
     "metadata": {},
     "output_type": "execute_result"
    }
   ],
   "source": [
    "key = \"desc_id\"\n",
    "df_joined = df_grouped.join(eadids.set_index(key), on=key)\n",
    "df_joined.head()"
   ]
  },
  {
   "cell_type": "markdown",
   "metadata": {},
   "source": [
    "Write (or read) the resulting DataFrame as a file:"
   ]
  },
  {
   "cell_type": "code",
   "execution_count": 18,
   "metadata": {},
   "outputs": [],
   "source": [
    "# df_joined.to_csv(\"clf_data/desc_field_descid_label_eadid.csv\")"
   ]
  },
  {
   "cell_type": "code",
   "execution_count": 16,
   "metadata": {},
   "outputs": [],
   "source": [
    "df_joined = pd.read_csv(\"clf_data/desc_field_descid_label_eadid.csv\", index_col=0)\n",
    "df_joined[\"label\"] = df_joined[\"label\"].apply(eval)"
   ]
  },
  {
   "cell_type": "markdown",
   "metadata": {},
   "source": [
    "Create subsets of the DataFrame for each field type:"
   ]
  },
  {
   "cell_type": "code",
   "execution_count": 17,
   "metadata": {},
   "outputs": [
    {
     "name": "stdout",
     "output_type": "stream",
     "text": [
      "['Biographical / Historical' 'Title' 'Scope and Contents'\n",
      " 'Processing Information']\n"
     ]
    }
   ],
   "source": [
    "field_names = df_joined.field.unique()\n",
    "print(field_names)"
   ]
  },
  {
   "cell_type": "code",
   "execution_count": 18,
   "metadata": {},
   "outputs": [
    {
     "data": {
      "text/html": [
       "<div>\n",
       "<style scoped>\n",
       "    .dataframe tbody tr th:only-of-type {\n",
       "        vertical-align: middle;\n",
       "    }\n",
       "\n",
       "    .dataframe tbody tr th {\n",
       "        vertical-align: top;\n",
       "    }\n",
       "\n",
       "    .dataframe thead th {\n",
       "        text-align: right;\n",
       "    }\n",
       "</style>\n",
       "<table border=\"1\" class=\"dataframe\">\n",
       "  <thead>\n",
       "    <tr style=\"text-align: right;\">\n",
       "      <th></th>\n",
       "      <th>description</th>\n",
       "      <th>field</th>\n",
       "      <th>desc_id</th>\n",
       "      <th>label</th>\n",
       "      <th>eadid</th>\n",
       "    </tr>\n",
       "  </thead>\n",
       "  <tbody>\n",
       "    <tr>\n",
       "      <th>833</th>\n",
       "      <td>Archivist's NoteNone  Grant Buttars 28 April 2...</td>\n",
       "      <td>Processing Information</td>\n",
       "      <td>393</td>\n",
       "      <td>{Occupation, Unknown}</td>\n",
       "      <td>BAI</td>\n",
       "    </tr>\n",
       "    <tr>\n",
       "      <th>821</th>\n",
       "      <td>Archivist's NoteNone  Grant Buttars 22 May 200...</td>\n",
       "      <td>Processing Information</td>\n",
       "      <td>394</td>\n",
       "      <td>{Occupation, Unknown}</td>\n",
       "      <td>BAI</td>\n",
       "    </tr>\n",
       "    <tr>\n",
       "      <th>810</th>\n",
       "      <td>Archivist's NoteNone  Grant Buttars 15 May 200...</td>\n",
       "      <td>Processing Information</td>\n",
       "      <td>395</td>\n",
       "      <td>{Occupation, Unknown}</td>\n",
       "      <td>BAI</td>\n",
       "    </tr>\n",
       "    <tr>\n",
       "      <th>790</th>\n",
       "      <td>Archivist's NoteNone  Grant Buttars 03 June 20...</td>\n",
       "      <td>Processing Information</td>\n",
       "      <td>396</td>\n",
       "      <td>{Occupation, Unknown}</td>\n",
       "      <td>BAI</td>\n",
       "    </tr>\n",
       "    <tr>\n",
       "      <th>811</th>\n",
       "      <td>Archivist's NoteNone  Grant Buttars 16 April 2...</td>\n",
       "      <td>Processing Information</td>\n",
       "      <td>397</td>\n",
       "      <td>{Occupation, Unknown}</td>\n",
       "      <td>BAI</td>\n",
       "    </tr>\n",
       "  </tbody>\n",
       "</table>\n",
       "</div>"
      ],
      "text/plain": [
       "                                           description  \\\n",
       "833  Archivist's NoteNone  Grant Buttars 28 April 2...   \n",
       "821  Archivist's NoteNone  Grant Buttars 22 May 200...   \n",
       "810  Archivist's NoteNone  Grant Buttars 15 May 200...   \n",
       "790  Archivist's NoteNone  Grant Buttars 03 June 20...   \n",
       "811  Archivist's NoteNone  Grant Buttars 16 April 2...   \n",
       "\n",
       "                      field  desc_id                  label eadid  \n",
       "833  Processing Information      393  {Occupation, Unknown}   BAI  \n",
       "821  Processing Information      394  {Occupation, Unknown}   BAI  \n",
       "810  Processing Information      395  {Occupation, Unknown}   BAI  \n",
       "790  Processing Information      396  {Occupation, Unknown}   BAI  \n",
       "811  Processing Information      397  {Occupation, Unknown}   BAI  "
      ]
     },
     "execution_count": 18,
     "metadata": {},
     "output_type": "execute_result"
    }
   ],
   "source": [
    "df_bh = df_joined.loc[df_joined.field == field_names[0]]\n",
    "df_t = df_joined.loc[df_joined.field == field_names[1]]\n",
    "df_sc = df_joined.loc[df_joined.field == field_names[2]]\n",
    "df_pi = df_joined.loc[df_joined.field == field_names[3]]\n",
    "df_pi.head()"
   ]
  },
  {
   "cell_type": "markdown",
   "metadata": {},
   "source": [
    "Shuffle each DataFrame and then add a column to each that assigns every row to a subset.  For each DataFrame, assign: \n",
    "* 60% of the rows to `training`\n",
    "* 20% of the rows to `validation`\n",
    "* 20% of the rows to `test`"
   ]
  },
  {
   "cell_type": "code",
   "execution_count": 19,
   "metadata": {},
   "outputs": [],
   "source": [
    "# INPUT: DataFrame, fraction of DF to shuffle, and random_state of shuffle\n",
    "#        Note 1 - fraction defaults to 1 to shuffle the entire DataFrame; provide a value <1 to return that fraction of the DataFrame shuffled\n",
    "#        Note 2 -random_state_value defaults to 7 for reproducibility\n",
    "# OUTPUT: DataFrame with its rows shuffled\n",
    "def shuffleDataFrame(df, fraction=1, random_state_value=7):\n",
    "    return df.sample(frac=fraction, random_state=random_state_value)"
   ]
  },
  {
   "cell_type": "code",
   "execution_count": 20,
   "metadata": {},
   "outputs": [
    {
     "data": {
      "text/html": [
       "<div>\n",
       "<style scoped>\n",
       "    .dataframe tbody tr th:only-of-type {\n",
       "        vertical-align: middle;\n",
       "    }\n",
       "\n",
       "    .dataframe tbody tr th {\n",
       "        vertical-align: top;\n",
       "    }\n",
       "\n",
       "    .dataframe thead th {\n",
       "        text-align: right;\n",
       "    }\n",
       "</style>\n",
       "<table border=\"1\" class=\"dataframe\">\n",
       "  <thead>\n",
       "    <tr style=\"text-align: right;\">\n",
       "      <th></th>\n",
       "      <th>description</th>\n",
       "      <th>field</th>\n",
       "      <th>desc_id</th>\n",
       "      <th>label</th>\n",
       "      <th>eadid</th>\n",
       "    </tr>\n",
       "  </thead>\n",
       "  <tbody>\n",
       "    <tr>\n",
       "      <th>4605</th>\n",
       "      <td>Letter to 'My dear little Rosie' from 'Your af...</td>\n",
       "      <td>Title</td>\n",
       "      <td>11843</td>\n",
       "      <td>{Omission}</td>\n",
       "      <td>Coll-1490</td>\n",
       "    </tr>\n",
       "    <tr>\n",
       "      <th>3746</th>\n",
       "      <td>Letter :: Bland, John H.\\n\\n</td>\n",
       "      <td>Title</td>\n",
       "      <td>7808</td>\n",
       "      <td>{Unknown}</td>\n",
       "      <td>Coll-146</td>\n",
       "    </tr>\n",
       "    <tr>\n",
       "      <th>8194</th>\n",
       "      <td>Reprint and cutting of Thomson's piece, Measur...</td>\n",
       "      <td>Title</td>\n",
       "      <td>2539</td>\n",
       "      <td>{Masculine, Omission, Unknown}</td>\n",
       "      <td>Coll-1310</td>\n",
       "    </tr>\n",
       "    <tr>\n",
       "      <th>4500</th>\n",
       "      <td>Letter from A. Campbell to Lady Campbell, Barc...</td>\n",
       "      <td>Title</td>\n",
       "      <td>6372</td>\n",
       "      <td>{Feminine, Omission, Gendered-Role, Unknown}</td>\n",
       "      <td>Coll-1437</td>\n",
       "    </tr>\n",
       "    <tr>\n",
       "      <th>4389</th>\n",
       "      <td>Letter :: Webster, D C\\n\\n</td>\n",
       "      <td>Title</td>\n",
       "      <td>8190</td>\n",
       "      <td>{Unknown}</td>\n",
       "      <td>Coll-146</td>\n",
       "    </tr>\n",
       "  </tbody>\n",
       "</table>\n",
       "</div>"
      ],
      "text/plain": [
       "                                            description  field  desc_id  \\\n",
       "4605  Letter to 'My dear little Rosie' from 'Your af...  Title    11843   \n",
       "3746                       Letter :: Bland, John H.\\n\\n  Title     7808   \n",
       "8194  Reprint and cutting of Thomson's piece, Measur...  Title     2539   \n",
       "4500  Letter from A. Campbell to Lady Campbell, Barc...  Title     6372   \n",
       "4389                         Letter :: Webster, D C\\n\\n  Title     8190   \n",
       "\n",
       "                                             label      eadid  \n",
       "4605                                    {Omission}  Coll-1490  \n",
       "3746                                     {Unknown}   Coll-146  \n",
       "8194                {Masculine, Omission, Unknown}  Coll-1310  \n",
       "4500  {Feminine, Omission, Gendered-Role, Unknown}  Coll-1437  \n",
       "4389                                     {Unknown}   Coll-146  "
      ]
     },
     "execution_count": 20,
     "metadata": {},
     "output_type": "execute_result"
    }
   ],
   "source": [
    "# Shuffle the DataFrames for each metadata field type\n",
    "df_bh_shuffled = shuffleDataFrame(df_bh)\n",
    "df_t_shuffled = shuffleDataFrame(df_t)\n",
    "df_sc_shuffled = shuffleDataFrame(df_sc)\n",
    "df_pi_shuffled = shuffleDataFrame(df_pi)\n",
    "df_t_shuffled.head()"
   ]
  },
  {
   "cell_type": "code",
   "execution_count": 21,
   "metadata": {},
   "outputs": [
    {
     "name": "stdout",
     "output_type": "stream",
     "text": [
      "[]\n",
      "[]\n",
      "[]\n",
      "[]\n"
     ]
    }
   ],
   "source": [
    "df_shuffled_list = [df_bh_shuffled, df_t_shuffled, df_sc_shuffled, df_pi_shuffled]\n",
    "invalid = []\n",
    "for df_shuffled in df_shuffled_list:\n",
    "    label_col = list(df_shuffled.label)\n",
    "    for label_set in label_col:\n",
    "        label_list = list(label_set)\n",
    "        for label_name in label_list:\n",
    "            if not label_name in valid_label_names:\n",
    "                invalid += [label_name]\n",
    "    print(invalid)"
   ]
  },
  {
   "cell_type": "markdown",
   "metadata": {},
   "source": [
    "All the label sequences are still looking good!"
   ]
  },
  {
   "cell_type": "code",
   "execution_count": 22,
   "metadata": {},
   "outputs": [],
   "source": [
    "def getTrainValTestSizes(df):\n",
    "    indeces = list(df.index)\n",
    "    \n",
    "    train = indeces[ : int(df.shape[0]*0.6) ]\n",
    "    validate = indeces[ int(df.shape[0]*0.6) : (int(df.shape[0]*0.6) + round(df.shape[0]*0.2)) ]\n",
    "    test = indeces[ (int(df.shape[0]*0.6) + round(df.shape[0]*0.2)) : ]\n",
    "\n",
    "    return len(train), len(validate), len(test)"
   ]
  },
  {
   "cell_type": "code",
   "execution_count": 23,
   "metadata": {},
   "outputs": [],
   "source": [
    "# Get the indeces of rows to assign to train, dev, and test\n",
    "train_bh, validate_bh, test_bh = getTrainValTestSizes(df_bh_shuffled)\n",
    "assert train_bh+validate_bh+test_bh == df_bh_shuffled.shape[0]\n",
    "\n",
    "train_t, validate_t, test_t = getTrainValTestSizes(df_t_shuffled)\n",
    "assert train_t+validate_t+test_t == df_t_shuffled.shape[0]\n",
    "\n",
    "train_sc, validate_sc, test_sc = getTrainValTestSizes(df_sc_shuffled)\n",
    "assert train_sc+validate_sc+test_sc == df_sc_shuffled.shape[0]\n",
    "\n",
    "train_pi, validate_pi, test_pi = getTrainValTestSizes(df_pi_shuffled)\n",
    "assert train_pi+validate_pi+test_pi == df_pi_shuffled.shape[0]"
   ]
  },
  {
   "cell_type": "code",
   "execution_count": 24,
   "metadata": {},
   "outputs": [],
   "source": [
    "# Add a column to the input DataFrame that assigns each row to train, dev, and test\n",
    "# using the three input sizes\n",
    "def assignSubsets(df, train_size, validate_size, test_size):\n",
    "    subset_col = [\"train\"]*train_size + [\"dev\"]*validate_size + [\"test\"]*test_size\n",
    "    df.insert(len(df.columns)-1, \"subset\", subset_col)\n",
    "    return df"
   ]
  },
  {
   "cell_type": "code",
   "execution_count": 25,
   "metadata": {},
   "outputs": [],
   "source": [
    "df_bh = assignSubsets(df_bh_shuffled, train_bh, validate_bh, test_bh)\n",
    "# df_bh.head()\n",
    "df_t = assignSubsets(df_t_shuffled, train_t, validate_t, test_t)\n",
    "df_sc = assignSubsets(df_sc_shuffled, train_sc, validate_sc, test_sc)\n",
    "df_pi = assignSubsets(df_pi_shuffled, train_pi, validate_pi, test_pi)"
   ]
  },
  {
   "cell_type": "markdown",
   "metadata": {},
   "source": [
    "Concatenate the rows assigned to each subset to create one DataFrame each for training, validation, and testing: "
   ]
  },
  {
   "cell_type": "code",
   "execution_count": 26,
   "metadata": {},
   "outputs": [],
   "source": [
    "def concatBySubset(df_list, subset):\n",
    "    df_all = pd.DataFrame()\n",
    "    for df in df_list:\n",
    "        df_subset = df.loc[df[\"subset\"] == subset]\n",
    "        df_all = pd.concat([df_all, df_subset], axis=0)\n",
    "    return df_all"
   ]
  },
  {
   "cell_type": "code",
   "execution_count": 27,
   "metadata": {},
   "outputs": [],
   "source": [
    "dfs = [df_bh, df_t, df_sc, df_pi]\n",
    "\n",
    "train = concatBySubset(dfs, \"train\")\n",
    "assert train.subset.unique()[0] == \"train\"\n",
    "\n",
    "validate = concatBySubset(dfs, \"dev\")\n",
    "assert validate.subset.unique()[0] == \"dev\"\n",
    "\n",
    "test = concatBySubset(dfs, \"test\")\n",
    "assert test.subset.unique()[0] == \"test\"\n"
   ]
  },
  {
   "cell_type": "code",
   "execution_count": 28,
   "metadata": {},
   "outputs": [
    {
     "name": "stdout",
     "output_type": "stream",
     "text": [
      "7044\n",
      "2350\n",
      "2351\n"
     ]
    }
   ],
   "source": [
    "splits = [train, validate, test]\n",
    "for split in splits:\n",
    "    print(split.shape[0])"
   ]
  },
  {
   "cell_type": "code",
   "execution_count": 29,
   "metadata": {},
   "outputs": [
    {
     "name": "stdout",
     "output_type": "stream",
     "text": [
      "[]\n",
      "[]\n",
      "[]\n"
     ]
    }
   ],
   "source": [
    "df_split_list = [train, validate, test]\n",
    "invalid = []\n",
    "for df_split in df_split_list:\n",
    "    label_col = list(df_split.label)\n",
    "    for label_set in label_col:\n",
    "        label_list = list(label_set)\n",
    "        for label_name in label_list:\n",
    "            if not label_name in valid_label_names:\n",
    "                invalid += [label_name]\n",
    "    print(invalid)"
   ]
  },
  {
   "cell_type": "code",
   "execution_count": 34,
   "metadata": {},
   "outputs": [
    {
     "name": "stdout",
     "output_type": "stream",
     "text": [
      "0.5997445721583653\n",
      "0.20008514261387825\n",
      "0.20017028522775648\n"
     ]
    }
   ],
   "source": [
    "print(train.shape[0]/(train.shape[0]+validate.shape[0]+test.shape[0]))\n",
    "print(validate.shape[0]/(train.shape[0]+validate.shape[0]+test.shape[0]))\n",
    "print(test.shape[0]/(train.shape[0]+validate.shape[0]+test.shape[0]))"
   ]
  },
  {
   "cell_type": "markdown",
   "metadata": {},
   "source": [
    "Great!  Now that we've split the data up into three subsets of 60%, 20% and 20%, we can write the corresponding labels and descriptions to files for creating classification models."
   ]
  },
  {
   "cell_type": "markdown",
   "metadata": {},
   "source": [
    "#### Write the data to files\n",
    "The files will separate labels by `\\n` (a newline) and descriptions by `\\n|\\n` (a pipe character surrounded by newlines)"
   ]
  },
  {
   "cell_type": "code",
   "execution_count": 56,
   "metadata": {},
   "outputs": [],
   "source": [
    "def writeDocs(docs, filename, directory=\"clf_data/\"):\n",
    "    filepath = directory+filename\n",
    "    f = open(filepath, \"a\")\n",
    "    for i,doc in enumerate(docs):    \n",
    "        doc = doc.strip()                       # Remove leading and trailing whitespace\n",
    "        if i < len(docs) - 1:\n",
    "            f.write(doc+\"\\n|\\n\")\n",
    "        else:\n",
    "            f.write(doc)\n",
    "    f.close() \n",
    "    print(\"Your documents file has been written!\")\n",
    "    \n",
    "def writeLabels(labels, filename, directory=\"clf_data/\"):\n",
    "    filepath = directory+filename\n",
    "    f = open(filepath, \"a\")\n",
    "    for i,label_set in enumerate(labels):    \n",
    "        label_names = str(label_set)              # Change data type to string\n",
    "        label_names = label_names[1:-1]           # Remove curly braces\n",
    "        label_names = label_names.replace(\"'\",\"\") # Remove single quotes surounding each label name\n",
    "        if i < len(labels) - 1:\n",
    "            f.write(label_names+\"\\n\")\n",
    "        else:\n",
    "            f.write(label_names)\n",
    "    f.close()\n",
    "    print(\"Your labels file has been written!\")"
   ]
  },
  {
   "cell_type": "code",
   "execution_count": null,
   "metadata": {},
   "outputs": [],
   "source": [
    "data_dir = \"./clf_data/\"\n",
    "Path(data_dir).mkdir(parents=True, exist_ok=True)"
   ]
  },
  {
   "cell_type": "code",
   "execution_count": 57,
   "metadata": {},
   "outputs": [
    {
     "name": "stdout",
     "output_type": "stream",
     "text": [
      "Your documents file has been written!\n",
      "Your labels file has been written!\n"
     ]
    }
   ],
   "source": [
    "writeDocs(list(train.description), \"train_docs.txt\")\n",
    "writeLabels(list(train.label), \"train_labels.txt\")"
   ]
  },
  {
   "cell_type": "code",
   "execution_count": 58,
   "metadata": {},
   "outputs": [
    {
     "name": "stdout",
     "output_type": "stream",
     "text": [
      "Your documents file has been written!\n",
      "Your labels file has been written!\n"
     ]
    }
   ],
   "source": [
    "writeDocs(list(validate.description), \"validate_docs.txt\")\n",
    "writeLabels(list(validate.label), \"validate_labels.txt\")"
   ]
  },
  {
   "cell_type": "code",
   "execution_count": 59,
   "metadata": {},
   "outputs": [
    {
     "name": "stdout",
     "output_type": "stream",
     "text": [
      "Your documents file has been written!\n",
      "Your labels file has been written!\n"
     ]
    }
   ],
   "source": [
    "writeDocs(list(test.description), \"blindtest_docs.txt\")\n",
    "writeLabels(list(test.label), \"blindtest_labels.txt\")"
   ]
  }
 ],
 "metadata": {
  "kernelspec": {
   "display_name": "Python 3",
   "language": "python",
   "name": "python3"
  },
  "language_info": {
   "codemirror_mode": {
    "name": "ipython",
    "version": 3
   },
   "file_extension": ".py",
   "mimetype": "text/x-python",
   "name": "python",
   "nbconvert_exporter": "python",
   "pygments_lexer": "ipython3",
   "version": "3.8.10"
  }
 },
 "nbformat": 4,
 "nbformat_minor": 5
}

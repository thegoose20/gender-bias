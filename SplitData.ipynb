{
 "cells": [
  {
   "cell_type": "markdown",
   "id": "e2b26539",
   "metadata": {},
   "source": [
    "# Gender Biased Document Classification\n",
    "\n",
    "## Splitting Data into Train/Validation/Test Sets"
   ]
  },
  {
   "cell_type": "code",
   "execution_count": 1,
   "id": "21a50b60",
   "metadata": {},
   "outputs": [],
   "source": [
    "import numpy as np\n",
    "import pandas as pd\n",
    "# from sklearn.model_selection import StratifiedShuffleSplit\n",
    "from sklearn.model_selection import train_test_split\n",
    "# from sklearn.preprocessing import FunctionTransformer\n",
    "from sklearn.feature_extraction.text import TfidfVectorizer"
   ]
  },
  {
   "cell_type": "markdown",
   "id": "36b72a8d",
   "metadata": {},
   "source": [
    "Load and prepare the data for classification:"
   ]
  },
  {
   "cell_type": "code",
   "execution_count": 48,
   "id": "d7278d6e",
   "metadata": {
    "collapsed": true,
    "jupyter": {
     "outputs_hidden": true
    }
   },
   "outputs": [
    {
     "data": {
      "text/html": [
       "<div>\n",
       "<style scoped>\n",
       "    .dataframe tbody tr th:only-of-type {\n",
       "        vertical-align: middle;\n",
       "    }\n",
       "\n",
       "    .dataframe tbody tr th {\n",
       "        vertical-align: top;\n",
       "    }\n",
       "\n",
       "    .dataframe thead th {\n",
       "        text-align: right;\n",
       "    }\n",
       "</style>\n",
       "<table border=\"1\" class=\"dataframe\">\n",
       "  <thead>\n",
       "    <tr style=\"text-align: right;\">\n",
       "      <th></th>\n",
       "      <th>file</th>\n",
       "      <th>offsets</th>\n",
       "      <th>text</th>\n",
       "      <th>label</th>\n",
       "      <th>category</th>\n",
       "      <th>eadid</th>\n",
       "      <th>description</th>\n",
       "      <th>field</th>\n",
       "      <th>id</th>\n",
       "      <th>desc_id</th>\n",
       "    </tr>\n",
       "  </thead>\n",
       "  <tbody>\n",
       "    <tr>\n",
       "      <th>9</th>\n",
       "      <td>AA5_00100.ann</td>\n",
       "      <td>(1032, 1043)</td>\n",
       "      <td>James Whyte</td>\n",
       "      <td>Masculine</td>\n",
       "      <td>Person-Name</td>\n",
       "      <td>AA5</td>\n",
       "      <td>Biographical / Historical:\\nProfessor James Ai...</td>\n",
       "      <td>Biographical / Historical</td>\n",
       "      <td>0</td>\n",
       "      <td>0</td>\n",
       "    </tr>\n",
       "    <tr>\n",
       "      <th>16</th>\n",
       "      <td>AA5_00100.ann</td>\n",
       "      <td>(1129, 1177)</td>\n",
       "      <td>chair of practical theology and Christian ethics</td>\n",
       "      <td>Occupation</td>\n",
       "      <td>Contextual</td>\n",
       "      <td>AA5</td>\n",
       "      <td>Biographical / Historical:\\nProfessor James Ai...</td>\n",
       "      <td>Biographical / Historical</td>\n",
       "      <td>1</td>\n",
       "      <td>0</td>\n",
       "    </tr>\n",
       "    <tr>\n",
       "      <th>4</th>\n",
       "      <td>AA5_00100.ann</td>\n",
       "      <td>(1217, 1219)</td>\n",
       "      <td>he</td>\n",
       "      <td>Gendered-Pronoun</td>\n",
       "      <td>Linguistic</td>\n",
       "      <td>AA5</td>\n",
       "      <td>Biographical / Historical:\\nProfessor James Ai...</td>\n",
       "      <td>Biographical / Historical</td>\n",
       "      <td>2</td>\n",
       "      <td>0</td>\n",
       "    </tr>\n",
       "    <tr>\n",
       "      <th>5</th>\n",
       "      <td>AA5_00100.ann</td>\n",
       "      <td>(1241, 1244)</td>\n",
       "      <td>His</td>\n",
       "      <td>Gendered-Pronoun</td>\n",
       "      <td>Linguistic</td>\n",
       "      <td>AA5</td>\n",
       "      <td>Biographical / Historical:\\nProfessor James Ai...</td>\n",
       "      <td>Biographical / Historical</td>\n",
       "      <td>3</td>\n",
       "      <td>0</td>\n",
       "    </tr>\n",
       "    <tr>\n",
       "      <th>6</th>\n",
       "      <td>AA5_00100.ann</td>\n",
       "      <td>(1315, 1317)</td>\n",
       "      <td>he</td>\n",
       "      <td>Gendered-Pronoun</td>\n",
       "      <td>Linguistic</td>\n",
       "      <td>AA5</td>\n",
       "      <td>Biographical / Historical:\\nProfessor James Ai...</td>\n",
       "      <td>Biographical / Historical</td>\n",
       "      <td>4</td>\n",
       "      <td>0</td>\n",
       "    </tr>\n",
       "  </tbody>\n",
       "</table>\n",
       "</div>"
      ],
      "text/plain": [
       "             file       offsets  \\\n",
       "9   AA5_00100.ann  (1032, 1043)   \n",
       "16  AA5_00100.ann  (1129, 1177)   \n",
       "4   AA5_00100.ann  (1217, 1219)   \n",
       "5   AA5_00100.ann  (1241, 1244)   \n",
       "6   AA5_00100.ann  (1315, 1317)   \n",
       "\n",
       "                                                text             label  \\\n",
       "9                                        James Whyte         Masculine   \n",
       "16  chair of practical theology and Christian ethics        Occupation   \n",
       "4                                                 he  Gendered-Pronoun   \n",
       "5                                                His  Gendered-Pronoun   \n",
       "6                                                 he  Gendered-Pronoun   \n",
       "\n",
       "       category eadid                                        description  \\\n",
       "9   Person-Name   AA5  Biographical / Historical:\\nProfessor James Ai...   \n",
       "16   Contextual   AA5  Biographical / Historical:\\nProfessor James Ai...   \n",
       "4    Linguistic   AA5  Biographical / Historical:\\nProfessor James Ai...   \n",
       "5    Linguistic   AA5  Biographical / Historical:\\nProfessor James Ai...   \n",
       "6    Linguistic   AA5  Biographical / Historical:\\nProfessor James Ai...   \n",
       "\n",
       "                        field  id  desc_id  \n",
       "9   Biographical / Historical   0        0  \n",
       "16  Biographical / Historical   1        0  \n",
       "4   Biographical / Historical   2        0  \n",
       "5   Biographical / Historical   3        0  \n",
       "6   Biographical / Historical   4        0  "
      ]
     },
     "execution_count": 48,
     "metadata": {},
     "output_type": "execute_result"
    }
   ],
   "source": [
    "# df = pd.read_csv(\"annot_data/aggregated_with_eadid_descid_desc_cols.csv\", index_col=0)\n",
    "# df.head()"
   ]
  },
  {
   "cell_type": "code",
   "execution_count": 49,
   "id": "c1e84a9e",
   "metadata": {},
   "outputs": [],
   "source": [
    "# df[[\"field2\", \"description\"]] = df[\"description\"].str.split(\":\", n=1, expand=True)\n",
    "# df.drop(\"field2\", axis=1, inplace=True)\n",
    "# df.head()\n",
    "# df.drop([\"file\", \"offsets\", \"text\", \"category\", \"eadid\"], axis=1, inplace=True)\n",
    "# descs = list(df.description)\n",
    "# descs = [d.strip() for d in descs]\n",
    "# df.description = descs\n",
    "# df.to_csv(\"data/aggregated_data_for_classifier.csv\")"
   ]
  },
  {
   "cell_type": "code",
   "execution_count": 2,
   "id": "46de9db7",
   "metadata": {},
   "outputs": [
    {
     "data": {
      "text/html": [
       "<div>\n",
       "<style scoped>\n",
       "    .dataframe tbody tr th:only-of-type {\n",
       "        vertical-align: middle;\n",
       "    }\n",
       "\n",
       "    .dataframe tbody tr th {\n",
       "        vertical-align: top;\n",
       "    }\n",
       "\n",
       "    .dataframe thead th {\n",
       "        text-align: right;\n",
       "    }\n",
       "</style>\n",
       "<table border=\"1\" class=\"dataframe\">\n",
       "  <thead>\n",
       "    <tr style=\"text-align: right;\">\n",
       "      <th></th>\n",
       "      <th>label</th>\n",
       "      <th>description</th>\n",
       "      <th>field</th>\n",
       "      <th>id</th>\n",
       "      <th>desc_id</th>\n",
       "    </tr>\n",
       "  </thead>\n",
       "  <tbody>\n",
       "    <tr>\n",
       "      <th>9</th>\n",
       "      <td>Masculine</td>\n",
       "      <td>Professor James Aitken White was a leading Sco...</td>\n",
       "      <td>Biographical / Historical</td>\n",
       "      <td>0</td>\n",
       "      <td>0</td>\n",
       "    </tr>\n",
       "    <tr>\n",
       "      <th>16</th>\n",
       "      <td>Occupation</td>\n",
       "      <td>Professor James Aitken White was a leading Sco...</td>\n",
       "      <td>Biographical / Historical</td>\n",
       "      <td>1</td>\n",
       "      <td>0</td>\n",
       "    </tr>\n",
       "    <tr>\n",
       "      <th>4</th>\n",
       "      <td>Gendered-Pronoun</td>\n",
       "      <td>Professor James Aitken White was a leading Sco...</td>\n",
       "      <td>Biographical / Historical</td>\n",
       "      <td>2</td>\n",
       "      <td>0</td>\n",
       "    </tr>\n",
       "    <tr>\n",
       "      <th>5</th>\n",
       "      <td>Gendered-Pronoun</td>\n",
       "      <td>Professor James Aitken White was a leading Sco...</td>\n",
       "      <td>Biographical / Historical</td>\n",
       "      <td>3</td>\n",
       "      <td>0</td>\n",
       "    </tr>\n",
       "    <tr>\n",
       "      <th>6</th>\n",
       "      <td>Gendered-Pronoun</td>\n",
       "      <td>Professor James Aitken White was a leading Sco...</td>\n",
       "      <td>Biographical / Historical</td>\n",
       "      <td>4</td>\n",
       "      <td>0</td>\n",
       "    </tr>\n",
       "  </tbody>\n",
       "</table>\n",
       "</div>"
      ],
      "text/plain": [
       "               label                                        description  \\\n",
       "9          Masculine  Professor James Aitken White was a leading Sco...   \n",
       "16        Occupation  Professor James Aitken White was a leading Sco...   \n",
       "4   Gendered-Pronoun  Professor James Aitken White was a leading Sco...   \n",
       "5   Gendered-Pronoun  Professor James Aitken White was a leading Sco...   \n",
       "6   Gendered-Pronoun  Professor James Aitken White was a leading Sco...   \n",
       "\n",
       "                        field  id  desc_id  \n",
       "9   Biographical / Historical   0        0  \n",
       "16  Biographical / Historical   1        0  \n",
       "4   Biographical / Historical   2        0  \n",
       "5   Biographical / Historical   3        0  \n",
       "6   Biographical / Historical   4        0  "
      ]
     },
     "execution_count": 2,
     "metadata": {},
     "output_type": "execute_result"
    }
   ],
   "source": [
    "df = pd.read_csv(\"data/aggregated_data_for_classifier.csv\", index_col=0)\n",
    "df.head()"
   ]
  },
  {
   "cell_type": "code",
   "execution_count": 3,
   "id": "4b34a0d5",
   "metadata": {},
   "outputs": [
    {
     "data": {
      "text/plain": [
       "array(['Masculine', 'Occupation', 'Gendered-Pronoun', 'Stereotype',\n",
       "       'Unknown', 'Feminine', 'Generalization', 'Omission',\n",
       "       'Gendered-Role'], dtype=object)"
      ]
     },
     "execution_count": 3,
     "metadata": {},
     "output_type": "execute_result"
    }
   ],
   "source": [
    "df.label.unique()"
   ]
  },
  {
   "cell_type": "markdown",
   "id": "4ca26c7c",
   "metadata": {},
   "source": [
    "The DataFrame above has a row for every label, so for descriptions with multiple labels, there are multiple rows of data."
   ]
  },
  {
   "cell_type": "code",
   "execution_count": 4,
   "id": "e9d76fd3",
   "metadata": {},
   "outputs": [
    {
     "data": {
      "text/plain": [
       "False"
      ]
     },
     "execution_count": 4,
     "metadata": {},
     "output_type": "execute_result"
    }
   ],
   "source": [
    "df.description.isnull().values.any()"
   ]
  },
  {
   "cell_type": "markdown",
   "id": "fa46ca63-e7cb-44b9-85d8-a91ebc4320ef",
   "metadata": {},
   "source": [
    "For every description, get the labels (non-repeating) they were annotated with:"
   ]
  },
  {
   "cell_type": "code",
   "execution_count": 26,
   "id": "2c1684bb-e058-4e60-8d8e-771ddbb62e7d",
   "metadata": {},
   "outputs": [
    {
     "data": {
      "text/html": [
       "<div>\n",
       "<style scoped>\n",
       "    .dataframe tbody tr th:only-of-type {\n",
       "        vertical-align: middle;\n",
       "    }\n",
       "\n",
       "    .dataframe tbody tr th {\n",
       "        vertical-align: top;\n",
       "    }\n",
       "\n",
       "    .dataframe thead th {\n",
       "        text-align: right;\n",
       "    }\n",
       "</style>\n",
       "<table border=\"1\" class=\"dataframe\">\n",
       "  <thead>\n",
       "    <tr style=\"text-align: right;\">\n",
       "      <th></th>\n",
       "      <th>description</th>\n",
       "      <th>field</th>\n",
       "      <th>desc_id</th>\n",
       "      <th>label</th>\n",
       "    </tr>\n",
       "  </thead>\n",
       "  <tbody>\n",
       "    <tr>\n",
       "      <th>8054</th>\n",
       "      <td>Professor James Aitken White was a leading Sco...</td>\n",
       "      <td>Biographical / Historical</td>\n",
       "      <td>0</td>\n",
       "      <td>{Masculine, Gendered-Pronoun, Occupation, Ster...</td>\n",
       "    </tr>\n",
       "    <tr>\n",
       "      <th>5560</th>\n",
       "      <td>Papers of The Very Rev Prof James Whyte (1920-...</td>\n",
       "      <td>Title</td>\n",
       "      <td>1</td>\n",
       "      <td>{Masculine, Stereotype, Unknown}</td>\n",
       "    </tr>\n",
       "    <tr>\n",
       "      <th>8325</th>\n",
       "      <td>Rev Thomas Allan was born on 16 August 1916 in...</td>\n",
       "      <td>Biographical / Historical</td>\n",
       "      <td>2</td>\n",
       "      <td>{Generalization, Omission, Masculine, Feminine...</td>\n",
       "    </tr>\n",
       "    <tr>\n",
       "      <th>5550</th>\n",
       "      <td>Papers of Rev Tom Allan (1916-1965)</td>\n",
       "      <td>Title</td>\n",
       "      <td>3</td>\n",
       "      <td>{Masculine, Unknown}</td>\n",
       "    </tr>\n",
       "    <tr>\n",
       "      <th>633</th>\n",
       "      <td>Alec Cheyne was born on 1 June 1924 in Errol i...</td>\n",
       "      <td>Biographical / Historical</td>\n",
       "      <td>4</td>\n",
       "      <td>{Generalization, Omission, Masculine, Feminine...</td>\n",
       "    </tr>\n",
       "  </tbody>\n",
       "</table>\n",
       "</div>"
      ],
      "text/plain": [
       "                                            description  \\\n",
       "8054  Professor James Aitken White was a leading Sco...   \n",
       "5560  Papers of The Very Rev Prof James Whyte (1920-...   \n",
       "8325  Rev Thomas Allan was born on 16 August 1916 in...   \n",
       "5550                Papers of Rev Tom Allan (1916-1965)   \n",
       "633   Alec Cheyne was born on 1 June 1924 in Errol i...   \n",
       "\n",
       "                          field  desc_id  \\\n",
       "8054  Biographical / Historical        0   \n",
       "5560                      Title        1   \n",
       "8325  Biographical / Historical        2   \n",
       "5550                      Title        3   \n",
       "633   Biographical / Historical        4   \n",
       "\n",
       "                                                  label  \n",
       "8054  {Masculine, Gendered-Pronoun, Occupation, Ster...  \n",
       "5560                   {Masculine, Stereotype, Unknown}  \n",
       "8325  {Generalization, Omission, Masculine, Feminine...  \n",
       "5550                               {Masculine, Unknown}  \n",
       "633   {Generalization, Omission, Masculine, Feminine...  "
      ]
     },
     "execution_count": 26,
     "metadata": {},
     "output_type": "execute_result"
    }
   ],
   "source": [
    "df_grouped = df.groupby([\"description\", \"field\", \"desc_id\"]).agg(\n",
    "    {\"label\": lambda label_name: set(label_name)}  #\",\".join(label_name)}\n",
    "    ).reset_index()\n",
    "df_grouped.sort_values(by=\"desc_id\", inplace=True)\n",
    "df_grouped.head()"
   ]
  },
  {
   "cell_type": "markdown",
   "id": "1edafd06-d430-47e1-88c6-b4989bf708cc",
   "metadata": {},
   "source": [
    "Add a column for the EADIDs (collection, or fonds, identifier) of the descriptions:"
   ]
  },
  {
   "cell_type": "code",
   "execution_count": 22,
   "id": "18242ae3-f056-43cf-8dd1-e710ab119a81",
   "metadata": {},
   "outputs": [
    {
     "data": {
      "text/html": [
       "<div>\n",
       "<style scoped>\n",
       "    .dataframe tbody tr th:only-of-type {\n",
       "        vertical-align: middle;\n",
       "    }\n",
       "\n",
       "    .dataframe tbody tr th {\n",
       "        vertical-align: top;\n",
       "    }\n",
       "\n",
       "    .dataframe thead th {\n",
       "        text-align: right;\n",
       "    }\n",
       "</style>\n",
       "<table border=\"1\" class=\"dataframe\">\n",
       "  <thead>\n",
       "    <tr style=\"text-align: right;\">\n",
       "      <th></th>\n",
       "      <th>eadid</th>\n",
       "      <th>desc_id</th>\n",
       "    </tr>\n",
       "  </thead>\n",
       "  <tbody>\n",
       "    <tr>\n",
       "      <th>9</th>\n",
       "      <td>AA5</td>\n",
       "      <td>0</td>\n",
       "    </tr>\n",
       "    <tr>\n",
       "      <th>17</th>\n",
       "      <td>AA5</td>\n",
       "      <td>1</td>\n",
       "    </tr>\n",
       "    <tr>\n",
       "      <th>39</th>\n",
       "      <td>AA6</td>\n",
       "      <td>2</td>\n",
       "    </tr>\n",
       "    <tr>\n",
       "      <th>47</th>\n",
       "      <td>AA6</td>\n",
       "      <td>3</td>\n",
       "    </tr>\n",
       "    <tr>\n",
       "      <th>70</th>\n",
       "      <td>AA7</td>\n",
       "      <td>4</td>\n",
       "    </tr>\n",
       "  </tbody>\n",
       "</table>\n",
       "</div>"
      ],
      "text/plain": [
       "   eadid  desc_id\n",
       "9    AA5        0\n",
       "17   AA5        1\n",
       "39   AA6        2\n",
       "47   AA6        3\n",
       "70   AA7        4"
      ]
     },
     "execution_count": 22,
     "metadata": {},
     "output_type": "execute_result"
    }
   ],
   "source": [
    "descs = pd.read_csv(\"data/descriptions.csv\", index_col=0)\n",
    "eadids = descs.drop(columns=[\"description\",\"field\"])\n",
    "# descs.head()\n",
    "eadids.head()"
   ]
  },
  {
   "cell_type": "code",
   "execution_count": 27,
   "id": "2b341c6d-c3f2-48fb-95f9-0b1e610f1d65",
   "metadata": {},
   "outputs": [
    {
     "data": {
      "text/html": [
       "<div>\n",
       "<style scoped>\n",
       "    .dataframe tbody tr th:only-of-type {\n",
       "        vertical-align: middle;\n",
       "    }\n",
       "\n",
       "    .dataframe tbody tr th {\n",
       "        vertical-align: top;\n",
       "    }\n",
       "\n",
       "    .dataframe thead th {\n",
       "        text-align: right;\n",
       "    }\n",
       "</style>\n",
       "<table border=\"1\" class=\"dataframe\">\n",
       "  <thead>\n",
       "    <tr style=\"text-align: right;\">\n",
       "      <th></th>\n",
       "      <th>description</th>\n",
       "      <th>field</th>\n",
       "      <th>desc_id</th>\n",
       "      <th>label</th>\n",
       "      <th>eadid</th>\n",
       "    </tr>\n",
       "  </thead>\n",
       "  <tbody>\n",
       "    <tr>\n",
       "      <th>8054</th>\n",
       "      <td>Professor James Aitken White was a leading Sco...</td>\n",
       "      <td>Biographical / Historical</td>\n",
       "      <td>0</td>\n",
       "      <td>{Masculine, Gendered-Pronoun, Occupation, Ster...</td>\n",
       "      <td>AA5</td>\n",
       "    </tr>\n",
       "    <tr>\n",
       "      <th>5560</th>\n",
       "      <td>Papers of The Very Rev Prof James Whyte (1920-...</td>\n",
       "      <td>Title</td>\n",
       "      <td>1</td>\n",
       "      <td>{Masculine, Stereotype, Unknown}</td>\n",
       "      <td>AA5</td>\n",
       "    </tr>\n",
       "    <tr>\n",
       "      <th>8325</th>\n",
       "      <td>Rev Thomas Allan was born on 16 August 1916 in...</td>\n",
       "      <td>Biographical / Historical</td>\n",
       "      <td>2</td>\n",
       "      <td>{Generalization, Omission, Masculine, Feminine...</td>\n",
       "      <td>AA6</td>\n",
       "    </tr>\n",
       "    <tr>\n",
       "      <th>5550</th>\n",
       "      <td>Papers of Rev Tom Allan (1916-1965)</td>\n",
       "      <td>Title</td>\n",
       "      <td>3</td>\n",
       "      <td>{Masculine, Unknown}</td>\n",
       "      <td>AA6</td>\n",
       "    </tr>\n",
       "    <tr>\n",
       "      <th>633</th>\n",
       "      <td>Alec Cheyne was born on 1 June 1924 in Errol i...</td>\n",
       "      <td>Biographical / Historical</td>\n",
       "      <td>4</td>\n",
       "      <td>{Generalization, Omission, Masculine, Feminine...</td>\n",
       "      <td>AA7</td>\n",
       "    </tr>\n",
       "  </tbody>\n",
       "</table>\n",
       "</div>"
      ],
      "text/plain": [
       "                                            description  \\\n",
       "8054  Professor James Aitken White was a leading Sco...   \n",
       "5560  Papers of The Very Rev Prof James Whyte (1920-...   \n",
       "8325  Rev Thomas Allan was born on 16 August 1916 in...   \n",
       "5550                Papers of Rev Tom Allan (1916-1965)   \n",
       "633   Alec Cheyne was born on 1 June 1924 in Errol i...   \n",
       "\n",
       "                          field  desc_id  \\\n",
       "8054  Biographical / Historical        0   \n",
       "5560                      Title        1   \n",
       "8325  Biographical / Historical        2   \n",
       "5550                      Title        3   \n",
       "633   Biographical / Historical        4   \n",
       "\n",
       "                                                  label eadid  \n",
       "8054  {Masculine, Gendered-Pronoun, Occupation, Ster...   AA5  \n",
       "5560                   {Masculine, Stereotype, Unknown}   AA5  \n",
       "8325  {Generalization, Omission, Masculine, Feminine...   AA6  \n",
       "5550                               {Masculine, Unknown}   AA6  \n",
       "633   {Generalization, Omission, Masculine, Feminine...   AA7  "
      ]
     },
     "execution_count": 27,
     "metadata": {},
     "output_type": "execute_result"
    }
   ],
   "source": [
    "key = \"desc_id\"\n",
    "df_joined = df_grouped.join(eadids.set_index(key), on=key)\n",
    "df_joined.head()"
   ]
  },
  {
   "cell_type": "markdown",
   "id": "735f902d-65b8-46b4-b10c-2b0a0325909d",
   "metadata": {},
   "source": [
    "Write the resulting DataFrame to a file:"
   ]
  },
  {
   "cell_type": "code",
   "execution_count": 29,
   "id": "ddcf2db4-ebea-47ae-9b29-519b0454fd17",
   "metadata": {},
   "outputs": [],
   "source": [
    "df_joined.to_csv(\"data/desc_field_descid_label_eadid.csv\")"
   ]
  },
  {
   "cell_type": "markdown",
   "id": "1eac91e5",
   "metadata": {},
   "source": [
    "### OPTION 1:"
   ]
  },
  {
   "cell_type": "code",
   "execution_count": null,
   "id": "d837f790-0326-41a9-bbb7-53f64ef78a3a",
   "metadata": {},
   "outputs": [],
   "source": [
    "# ---------------------------------\n",
    "# Uncomment if need to reload data\n",
    "# ---------------------------------\n",
    "# df_joined = pd.read_csv(\"data/desc_field_descid_label_eadid.csv\")"
   ]
  },
  {
   "cell_type": "markdown",
   "id": "fe8da925-5e44-46fa-8dfd-d37280b758e0",
   "metadata": {},
   "source": [
    "Create subsets of the DataFrame for each field type:"
   ]
  },
  {
   "cell_type": "code",
   "execution_count": 37,
   "id": "fac17298-e0d2-4d36-a5c4-bfda30ccc386",
   "metadata": {},
   "outputs": [
    {
     "name": "stdout",
     "output_type": "stream",
     "text": [
      "['Biographical / Historical' 'Title' 'Scope and Contents'\n",
      " 'Processing Information']\n"
     ]
    }
   ],
   "source": [
    "field_names = df_joined.field.unique()\n",
    "print(field_names)\n"
   ]
  },
  {
   "cell_type": "code",
   "execution_count": 38,
   "id": "9167eedd-77a6-417b-acda-fa3ef14e8d57",
   "metadata": {},
   "outputs": [
    {
     "data": {
      "text/html": [
       "<div>\n",
       "<style scoped>\n",
       "    .dataframe tbody tr th:only-of-type {\n",
       "        vertical-align: middle;\n",
       "    }\n",
       "\n",
       "    .dataframe tbody tr th {\n",
       "        vertical-align: top;\n",
       "    }\n",
       "\n",
       "    .dataframe thead th {\n",
       "        text-align: right;\n",
       "    }\n",
       "</style>\n",
       "<table border=\"1\" class=\"dataframe\">\n",
       "  <thead>\n",
       "    <tr style=\"text-align: right;\">\n",
       "      <th></th>\n",
       "      <th>description</th>\n",
       "      <th>field</th>\n",
       "      <th>desc_id</th>\n",
       "      <th>label</th>\n",
       "      <th>eadid</th>\n",
       "    </tr>\n",
       "  </thead>\n",
       "  <tbody>\n",
       "    <tr>\n",
       "      <th>833</th>\n",
       "      <td>Archivist's NoteNone  Grant Buttars 28 April 2003</td>\n",
       "      <td>Processing Information</td>\n",
       "      <td>393</td>\n",
       "      <td>{Unknown, Occupation}</td>\n",
       "      <td>BAI</td>\n",
       "    </tr>\n",
       "    <tr>\n",
       "      <th>821</th>\n",
       "      <td>Archivist's NoteNone  Grant Buttars 22 May 2003</td>\n",
       "      <td>Processing Information</td>\n",
       "      <td>394</td>\n",
       "      <td>{Unknown, Occupation}</td>\n",
       "      <td>BAI</td>\n",
       "    </tr>\n",
       "    <tr>\n",
       "      <th>810</th>\n",
       "      <td>Archivist's NoteNone  Grant Buttars 15 May 2003</td>\n",
       "      <td>Processing Information</td>\n",
       "      <td>395</td>\n",
       "      <td>{Unknown, Occupation}</td>\n",
       "      <td>BAI</td>\n",
       "    </tr>\n",
       "    <tr>\n",
       "      <th>790</th>\n",
       "      <td>Archivist's NoteNone  Grant Buttars 03 June 2003</td>\n",
       "      <td>Processing Information</td>\n",
       "      <td>396</td>\n",
       "      <td>{Unknown, Occupation}</td>\n",
       "      <td>BAI</td>\n",
       "    </tr>\n",
       "    <tr>\n",
       "      <th>811</th>\n",
       "      <td>Archivist's NoteNone  Grant Buttars 16 April 2003</td>\n",
       "      <td>Processing Information</td>\n",
       "      <td>397</td>\n",
       "      <td>{Unknown, Occupation}</td>\n",
       "      <td>BAI</td>\n",
       "    </tr>\n",
       "  </tbody>\n",
       "</table>\n",
       "</div>"
      ],
      "text/plain": [
       "                                           description  \\\n",
       "833  Archivist's NoteNone  Grant Buttars 28 April 2003   \n",
       "821    Archivist's NoteNone  Grant Buttars 22 May 2003   \n",
       "810    Archivist's NoteNone  Grant Buttars 15 May 2003   \n",
       "790   Archivist's NoteNone  Grant Buttars 03 June 2003   \n",
       "811  Archivist's NoteNone  Grant Buttars 16 April 2003   \n",
       "\n",
       "                      field  desc_id                  label eadid  \n",
       "833  Processing Information      393  {Unknown, Occupation}   BAI  \n",
       "821  Processing Information      394  {Unknown, Occupation}   BAI  \n",
       "810  Processing Information      395  {Unknown, Occupation}   BAI  \n",
       "790  Processing Information      396  {Unknown, Occupation}   BAI  \n",
       "811  Processing Information      397  {Unknown, Occupation}   BAI  "
      ]
     },
     "execution_count": 38,
     "metadata": {},
     "output_type": "execute_result"
    }
   ],
   "source": [
    "df_bh = df_joined.loc[df_joined.field == field_names[0]]\n",
    "df_t = df_joined.loc[df_joined.field == field_names[1]]\n",
    "df_sc = df_joined.loc[df_joined.field == field_names[2]]\n",
    "df_pi = df_joined.loc[df_joined.field == field_names[3]]\n",
    "df_pi.head()"
   ]
  },
  {
   "cell_type": "markdown",
   "id": "39cfd6fe-7289-4cec-be57-96c509bbad0f",
   "metadata": {},
   "source": [
    "Shuffle each DataFrame and then add a column to each that assigns every row to a subset.  For each DataFrame, assign: \n",
    "* 60% of the rows to `training`\n",
    "* 20% of the rows to `validation`\n",
    "* 20% of the rows to `test`"
   ]
  },
  {
   "cell_type": "code",
   "execution_count": null,
   "id": "3197d830-cb65-4128-b661-8d6e45ded1e8",
   "metadata": {},
   "outputs": [],
   "source": []
  },
  {
   "cell_type": "code",
   "execution_count": null,
   "id": "20997801-fa04-4b3d-8db4-d81a544cd19f",
   "metadata": {},
   "outputs": [],
   "source": []
  },
  {
   "cell_type": "markdown",
   "id": "62a59c00-216a-44ff-a220-4cac7cf65a87",
   "metadata": {},
   "source": [
    "Shuffle the DataFrame:"
   ]
  },
  {
   "cell_type": "code",
   "execution_count": 31,
   "id": "4fccc88f-293b-4074-be00-9d7f01f8060c",
   "metadata": {},
   "outputs": [
    {
     "data": {
      "text/html": [
       "<div>\n",
       "<style scoped>\n",
       "    .dataframe tbody tr th:only-of-type {\n",
       "        vertical-align: middle;\n",
       "    }\n",
       "\n",
       "    .dataframe tbody tr th {\n",
       "        vertical-align: top;\n",
       "    }\n",
       "\n",
       "    .dataframe thead th {\n",
       "        text-align: right;\n",
       "    }\n",
       "</style>\n",
       "<table border=\"1\" class=\"dataframe\">\n",
       "  <thead>\n",
       "    <tr style=\"text-align: right;\">\n",
       "      <th></th>\n",
       "      <th>description</th>\n",
       "      <th>field</th>\n",
       "      <th>desc_id</th>\n",
       "      <th>label</th>\n",
       "      <th>eadid</th>\n",
       "    </tr>\n",
       "  </thead>\n",
       "  <tbody>\n",
       "    <tr>\n",
       "      <th>4735</th>\n",
       "      <td>Letters to Pilliner from Godfrey H Thomson and...</td>\n",
       "      <td>Title</td>\n",
       "      <td>6389</td>\n",
       "      <td>{Omission, Unknown}</td>\n",
       "      <td>Coll-1443</td>\n",
       "    </tr>\n",
       "    <tr>\n",
       "      <th>10268</th>\n",
       "      <td>The 'passport' letters written in Arabic are n...</td>\n",
       "      <td>Scope and Contents</td>\n",
       "      <td>2021</td>\n",
       "      <td>{Generalization}</td>\n",
       "      <td>Coll-1258</td>\n",
       "    </tr>\n",
       "    <tr>\n",
       "      <th>3326</th>\n",
       "      <td>Includes lectures delivered by Thomson largely...</td>\n",
       "      <td>Scope and Contents</td>\n",
       "      <td>3008</td>\n",
       "      <td>{Omission, Masculine, Unknown}</td>\n",
       "      <td>Coll-1310</td>\n",
       "    </tr>\n",
       "    <tr>\n",
       "      <th>11634</th>\n",
       "      <td>arias by various composers in full score</td>\n",
       "      <td>Scope and Contents</td>\n",
       "      <td>1057</td>\n",
       "      <td>{Occupation}</td>\n",
       "      <td>Coll-1061</td>\n",
       "    </tr>\n",
       "    <tr>\n",
       "      <th>382</th>\n",
       "      <td>3 (40), Thomson to Ledermann</td>\n",
       "      <td>Title</td>\n",
       "      <td>1162</td>\n",
       "      <td>{Omission, Masculine, Unknown}</td>\n",
       "      <td>Coll-1064</td>\n",
       "    </tr>\n",
       "  </tbody>\n",
       "</table>\n",
       "</div>"
      ],
      "text/plain": [
       "                                             description               field  \\\n",
       "4735   Letters to Pilliner from Godfrey H Thomson and...               Title   \n",
       "10268  The 'passport' letters written in Arabic are n...  Scope and Contents   \n",
       "3326   Includes lectures delivered by Thomson largely...  Scope and Contents   \n",
       "11634           arias by various composers in full score  Scope and Contents   \n",
       "382                         3 (40), Thomson to Ledermann               Title   \n",
       "\n",
       "       desc_id                           label      eadid  \n",
       "4735      6389             {Omission, Unknown}  Coll-1443  \n",
       "10268     2021                {Generalization}  Coll-1258  \n",
       "3326      3008  {Omission, Masculine, Unknown}  Coll-1310  \n",
       "11634     1057                    {Occupation}  Coll-1061  \n",
       "382       1162  {Omission, Masculine, Unknown}  Coll-1064  "
      ]
     },
     "execution_count": 31,
     "metadata": {},
     "output_type": "execute_result"
    }
   ],
   "source": [
    "df_shuffled = df_joined.sample(frac=1, random_state=7)\n",
    "df_shuffled.head()"
   ]
  },
  {
   "cell_type": "code",
   "execution_count": 36,
   "id": "773349aa",
   "metadata": {},
   "outputs": [],
   "source": [
    "X_train, X_test, y_train, y_test = train_test_split(docs, labels, test_size=0.2, random_state=0, shuffle=True)"
   ]
  },
  {
   "cell_type": "markdown",
   "id": "e80edabb",
   "metadata": {},
   "source": [
    "Shuffle and split the train dataset into train and validation sets:"
   ]
  },
  {
   "cell_type": "code",
   "execution_count": 37,
   "id": "e51dc669",
   "metadata": {},
   "outputs": [],
   "source": [
    "X_train, X_val, y_train, y_val = train_test_split(X_train, y_train, test_size=0.2, random_state=0, shuffle=True)"
   ]
  },
  {
   "cell_type": "markdown",
   "id": "ceed952d",
   "metadata": {},
   "source": [
    "### OPTION 2: \n",
    "\n",
    "array for documents and array for labels"
   ]
  },
  {
   "cell_type": "markdown",
   "id": "545cfb25",
   "metadata": {},
   "source": [
    "Format data as a numpy array of strings, where the input data are each one description as a string, and the target data are strings, one for each description, with comma-separated label names begins with the description and ending with comma-separated labels.  For example:\n",
    "\n",
    "* Input (document): `\"Professor James Aitken White was a leading Scottish Theologian.\"`\n",
    "* Target (document's labels): `\"Stereotype,Masculine,Gendered-Pronoun,Occupation\"`"
   ]
  },
  {
   "cell_type": "code",
   "execution_count": 19,
   "id": "1a424869",
   "metadata": {},
   "outputs": [],
   "source": [
    "docs = list(dl_dict.keys())   # input documents (descriptions)\n",
    "labels = list(dl_dict.values()) # target labels"
   ]
  },
  {
   "cell_type": "markdown",
   "id": "26d76ad0",
   "metadata": {},
   "source": [
    "Shuffle and split data into train and test sets: \n",
    "\n",
    "*Note: least populated class has too few groups to stratify*"
   ]
  },
  {
   "cell_type": "code",
   "execution_count": 20,
   "id": "922aa9c8",
   "metadata": {},
   "outputs": [],
   "source": [
    "X_train, X_test, y_train, y_test = train_test_split(docs, labels, test_size=0.2, random_state=0, shuffle=True)"
   ]
  },
  {
   "cell_type": "markdown",
   "id": "380db24c",
   "metadata": {},
   "source": [
    "Shuffle and split the train dataset into train and validation sets:"
   ]
  },
  {
   "cell_type": "code",
   "execution_count": 21,
   "id": "46051a00",
   "metadata": {},
   "outputs": [],
   "source": [
    "X_train, X_val, y_train, y_val = train_test_split(X_train, y_train, test_size=0.2, random_state=0, shuffle=True)"
   ]
  },
  {
   "cell_type": "markdown",
   "id": "d41c5ccc",
   "metadata": {},
   "source": [
    "### Write the data to files:"
   ]
  },
  {
   "cell_type": "code",
   "execution_count": 25,
   "id": "6b0302e6",
   "metadata": {},
   "outputs": [],
   "source": [
    "# directory: clf_data for option 1 / clf_data2 for option2\n",
    "train_file = \"clf_data2/train_docs.txt\"\n",
    "for i,doc in enumerate(X_train):\n",
    "    f_train = open(train_file, \"a\")\n",
    "    f_train.write(doc+\"\\n|\\n\")\n",
    "f_train.close()"
   ]
  },
  {
   "cell_type": "code",
   "execution_count": 26,
   "id": "9f189465",
   "metadata": {},
   "outputs": [],
   "source": [
    "train_file = \"clf_data2/train_labels.txt\"\n",
    "for i,labels in enumerate(y_train):\n",
    "    f_train = open(train_file, \"a\")\n",
    "    f_train.write(labels+\"\\n\")\n",
    "f_train.close()"
   ]
  },
  {
   "cell_type": "code",
   "execution_count": 27,
   "id": "d7bf21d3",
   "metadata": {},
   "outputs": [],
   "source": [
    "val_file = \"clf_data2/validation_docs.txt\"\n",
    "for i,doc in enumerate(X_val):\n",
    "    f_val = open(val_file, \"a\")\n",
    "    f_val.write(doc+\"\\n|\\n\")\n",
    "f_val.close()"
   ]
  },
  {
   "cell_type": "code",
   "execution_count": 28,
   "id": "b122bf47",
   "metadata": {},
   "outputs": [],
   "source": [
    "val_file = \"clf_data2/validation_labels.txt\"\n",
    "for i,labels in enumerate(y_val):\n",
    "    f_val = open(val_file, \"a\")\n",
    "    f_val.write(labels+\"\\n\")\n",
    "f_val.close()"
   ]
  },
  {
   "cell_type": "code",
   "execution_count": 29,
   "id": "f8ddcf85",
   "metadata": {},
   "outputs": [],
   "source": [
    "test_file = \"clf_data2/blindtest_doc.txt\"\n",
    "for i,doc in enumerate(X_test):\n",
    "    f_test = open(test_file, \"a\")\n",
    "    f_test.write(doc+\"\\n|\\n\")\n",
    "f_test.close()"
   ]
  },
  {
   "cell_type": "code",
   "execution_count": 30,
   "id": "117acbe2",
   "metadata": {},
   "outputs": [],
   "source": [
    "test_file = \"clf_data2/blindtest_labels.txt\"\n",
    "for i,labels in enumerate(y_test):\n",
    "    f_test = open(test_file, \"a\")\n",
    "    f_test.write(labels+\"\\n\")\n",
    "f_test.close()"
   ]
  },
  {
   "cell_type": "code",
   "execution_count": null,
   "id": "63f3a3a7",
   "metadata": {},
   "outputs": [],
   "source": []
  },
  {
   "cell_type": "code",
   "execution_count": null,
   "id": "a26c6aaa",
   "metadata": {},
   "outputs": [],
   "source": []
  },
  {
   "cell_type": "code",
   "execution_count": null,
   "id": "463b91b0",
   "metadata": {},
   "outputs": [],
   "source": []
  },
  {
   "cell_type": "code",
   "execution_count": null,
   "id": "40cc3dc3",
   "metadata": {},
   "outputs": [],
   "source": []
  },
  {
   "cell_type": "code",
   "execution_count": null,
   "id": "d401623d",
   "metadata": {},
   "outputs": [],
   "source": []
  },
  {
   "cell_type": "code",
   "execution_count": null,
   "id": "5f425bb5",
   "metadata": {},
   "outputs": [],
   "source": []
  },
  {
   "cell_type": "code",
   "execution_count": null,
   "id": "25e6c25f",
   "metadata": {},
   "outputs": [],
   "source": []
  },
  {
   "cell_type": "code",
   "execution_count": 11,
   "id": "eb457525",
   "metadata": {},
   "outputs": [],
   "source": [
    "# vectorizer = TfidfVectorizer(lowercase=False)               # defaults input=\"content\", encoding=\"utf8\""
   ]
  },
  {
   "cell_type": "code",
   "execution_count": 12,
   "id": "263ca58c",
   "metadata": {},
   "outputs": [],
   "source": [
    "# X = vectorizer.fit_transform(docs)   # archival metadata descriptions (one description = one document)"
   ]
  },
  {
   "cell_type": "code",
   "execution_count": 14,
   "id": "57841fa5",
   "metadata": {},
   "outputs": [],
   "source": [
    "# y = vectorizer.fit_transform(labels)         # corresponding gender biased language labels for each description\n",
    "# y = np.array(labels)"
   ]
  },
  {
   "cell_type": "code",
   "execution_count": 21,
   "id": "d59b1e05",
   "metadata": {},
   "outputs": [],
   "source": [
    "# sss = StratifiedShuffleSplit(n_splits=5, test_size=0.1, random_state=0) # set random_state for reproducibility\n",
    "# fold = 1\n",
    "# for train,test in sss.split(X, y):\n",
    "#     train_file = \"clf_data/fold\"+str(fold)+\"/train.txt\"\n",
    "#     f_train = open(train_file, \"w\")\n",
    "#     f_train.write(train)\n",
    "#     f_train.close()\n",
    "    \n",
    "#     test_file = \"clf_data/fold\"+str(fold)+\"test.txt\"\n",
    "#     f_test = open(test_file, \"w\")\n",
    "#     f_test.write(test)\n",
    "#     f_test.close()\n",
    "    \n",
    "#     fold += 1"
   ]
  },
  {
   "cell_type": "code",
   "execution_count": null,
   "id": "96b3d371",
   "metadata": {},
   "outputs": [],
   "source": [
    "# # INPUT: DataFrame of annotated descriptions with columns for description, field, and label\n",
    "# # OUTPUT: 3D array with columns for the description, metadata field name, and label\n",
    "# def desc_field_label_extractor(df):\n",
    "#     descs = list(df.description)\n",
    "#     fields = list(df.field)\n",
    "#     labels = list(df.label)\n",
    "#     features = np.empty(shape=(len(descs), 3), dtype=object)\n",
    "#     for i,desc in enumerate(descs):    \n",
    "#         features[i, 0] = desc\n",
    "#         features[i, 1] = fields[i]\n",
    "#         features[i, 2] = labels[i]\n",
    "#     return features\n",
    "\n",
    "\n",
    "# desc_field_label_transformer = FunctionTransformer(desc_field_label_extractor)"
   ]
  }
 ],
 "metadata": {
  "kernelspec": {
   "display_name": "Python 3 (ipykernel)",
   "language": "python",
   "name": "python3"
  },
  "language_info": {
   "codemirror_mode": {
    "name": "ipython",
    "version": 3
   },
   "file_extension": ".py",
   "mimetype": "text/x-python",
   "name": "python",
   "nbconvert_exporter": "python",
   "pygments_lexer": "ipython3",
   "version": "3.10.5"
  }
 },
 "nbformat": 4,
 "nbformat_minor": 5
}

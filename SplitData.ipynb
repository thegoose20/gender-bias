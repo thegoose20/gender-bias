{
 "cells": [
  {
   "cell_type": "markdown",
   "id": "considerable-battle",
   "metadata": {},
   "source": [
    "# Gender Biased Document Classification"
   ]
  },
  {
   "cell_type": "code",
   "execution_count": 1,
   "id": "changed-mentor",
   "metadata": {},
   "outputs": [],
   "source": [
    "import numpy as np\n",
    "import pandas as pd\n",
    "# from sklearn.model_selection import StratifiedShuffleSplit\n",
    "from sklearn.model_selection import train_test_split\n",
    "# from sklearn.preprocessing import FunctionTransformer\n",
    "from sklearn.feature_extraction.text import TfidfVectorizer"
   ]
  },
  {
   "cell_type": "markdown",
   "id": "informative-signature",
   "metadata": {},
   "source": [
    "Load and prepare the data for classification:"
   ]
  },
  {
   "cell_type": "code",
   "execution_count": 2,
   "id": "funny-phone",
   "metadata": {},
   "outputs": [],
   "source": [
    "df = pd.read_csv(\"aggregated_with_eadid_descid_desc_cols.csv\", index_col=0)\n",
    "# df.head()"
   ]
  },
  {
   "cell_type": "code",
   "execution_count": 3,
   "id": "organic-building",
   "metadata": {},
   "outputs": [],
   "source": [
    "df[[\"field2\", \"description\"]] = df[\"description\"].str.split(\":\", n=1, expand=True)\n",
    "df.drop(\"field2\", axis=1, inplace=True)\n",
    "df.head()\n",
    "df.drop([\"file\", \"offsets\", \"text\", \"category\", \"eadid\"], axis=1, inplace=True)\n",
    "descs = list(df.description)\n",
    "descs = [d.strip() for d in descs]\n",
    "df.description = descs\n",
    "df.to_csv(\"aggregated_data_for_classifier.csv\")"
   ]
  },
  {
   "cell_type": "code",
   "execution_count": 6,
   "id": "technological-compensation",
   "metadata": {},
   "outputs": [
    {
     "data": {
      "text/html": [
       "<div>\n",
       "<style scoped>\n",
       "    .dataframe tbody tr th:only-of-type {\n",
       "        vertical-align: middle;\n",
       "    }\n",
       "\n",
       "    .dataframe tbody tr th {\n",
       "        vertical-align: top;\n",
       "    }\n",
       "\n",
       "    .dataframe thead th {\n",
       "        text-align: right;\n",
       "    }\n",
       "</style>\n",
       "<table border=\"1\" class=\"dataframe\">\n",
       "  <thead>\n",
       "    <tr style=\"text-align: right;\">\n",
       "      <th></th>\n",
       "      <th>label</th>\n",
       "      <th>description</th>\n",
       "      <th>field</th>\n",
       "      <th>id</th>\n",
       "      <th>desc_id</th>\n",
       "    </tr>\n",
       "  </thead>\n",
       "  <tbody>\n",
       "    <tr>\n",
       "      <th>9</th>\n",
       "      <td>Masculine</td>\n",
       "      <td>Professor James Aitken White was a leading Sco...</td>\n",
       "      <td>Biographical / Historical</td>\n",
       "      <td>0</td>\n",
       "      <td>0</td>\n",
       "    </tr>\n",
       "    <tr>\n",
       "      <th>16</th>\n",
       "      <td>Occupation</td>\n",
       "      <td>Professor James Aitken White was a leading Sco...</td>\n",
       "      <td>Biographical / Historical</td>\n",
       "      <td>1</td>\n",
       "      <td>0</td>\n",
       "    </tr>\n",
       "    <tr>\n",
       "      <th>4</th>\n",
       "      <td>Gendered-Pronoun</td>\n",
       "      <td>Professor James Aitken White was a leading Sco...</td>\n",
       "      <td>Biographical / Historical</td>\n",
       "      <td>2</td>\n",
       "      <td>0</td>\n",
       "    </tr>\n",
       "    <tr>\n",
       "      <th>5</th>\n",
       "      <td>Gendered-Pronoun</td>\n",
       "      <td>Professor James Aitken White was a leading Sco...</td>\n",
       "      <td>Biographical / Historical</td>\n",
       "      <td>3</td>\n",
       "      <td>0</td>\n",
       "    </tr>\n",
       "    <tr>\n",
       "      <th>6</th>\n",
       "      <td>Gendered-Pronoun</td>\n",
       "      <td>Professor James Aitken White was a leading Sco...</td>\n",
       "      <td>Biographical / Historical</td>\n",
       "      <td>4</td>\n",
       "      <td>0</td>\n",
       "    </tr>\n",
       "  </tbody>\n",
       "</table>\n",
       "</div>"
      ],
      "text/plain": [
       "               label                                        description  \\\n",
       "9          Masculine  Professor James Aitken White was a leading Sco...   \n",
       "16        Occupation  Professor James Aitken White was a leading Sco...   \n",
       "4   Gendered-Pronoun  Professor James Aitken White was a leading Sco...   \n",
       "5   Gendered-Pronoun  Professor James Aitken White was a leading Sco...   \n",
       "6   Gendered-Pronoun  Professor James Aitken White was a leading Sco...   \n",
       "\n",
       "                        field  id  desc_id  \n",
       "9   Biographical / Historical   0        0  \n",
       "16  Biographical / Historical   1        0  \n",
       "4   Biographical / Historical   2        0  \n",
       "5   Biographical / Historical   3        0  \n",
       "6   Biographical / Historical   4        0  "
      ]
     },
     "execution_count": 6,
     "metadata": {},
     "output_type": "execute_result"
    }
   ],
   "source": [
    "df = pd.read_csv(\"aggregated_data_for_classifier.csv\", index_col=0)\n",
    "df.head()"
   ]
  },
  {
   "cell_type": "code",
   "execution_count": 7,
   "id": "eligible-transparency",
   "metadata": {},
   "outputs": [
    {
     "data": {
      "text/plain": [
       "array(['Masculine', 'Occupation', 'Gendered-Pronoun', 'Stereotype',\n",
       "       'Unknown', 'Feminine', 'Generalization', 'Omission',\n",
       "       'Gendered-Role', 'Nonbinary'], dtype=object)"
      ]
     },
     "execution_count": 7,
     "metadata": {},
     "output_type": "execute_result"
    }
   ],
   "source": [
    "df.label.unique()"
   ]
  },
  {
   "cell_type": "markdown",
   "id": "floral-understanding",
   "metadata": {},
   "source": [
    "The DataFrame above has a row for every label, so for descriptions with multiple labels, there are multiple rows of data."
   ]
  },
  {
   "cell_type": "code",
   "execution_count": 8,
   "id": "exciting-correlation",
   "metadata": {},
   "outputs": [
    {
     "data": {
      "text/plain": [
       "False"
      ]
     },
     "execution_count": 8,
     "metadata": {},
     "output_type": "execute_result"
    }
   ],
   "source": [
    "df.description.isnull().values.any()"
   ]
  },
  {
   "cell_type": "markdown",
   "id": "forbidden-reynolds",
   "metadata": {},
   "source": [
    "For every description, get the labels (non-repeating) they were annotated with:"
   ]
  },
  {
   "cell_type": "code",
   "execution_count": 9,
   "id": "local-elizabeth",
   "metadata": {},
   "outputs": [],
   "source": [
    "# label_list = df.label.unique()\n",
    "# label_list.sort()\n",
    "# label_dict = dict.fromkeys(label_list, 0)\n",
    "# print(label_dict)"
   ]
  },
  {
   "cell_type": "code",
   "execution_count": 10,
   "id": "blond-closure",
   "metadata": {},
   "outputs": [
    {
     "name": "stdout",
     "output_type": "stream",
     "text": [
      "Gendered-Pronoun,Masculine,Occupation,Stereotype\n"
     ]
    }
   ],
   "source": [
    "dl_dict = dict.fromkeys(list(df.description))\n",
    "dl_keys = dl_dict.keys()\n",
    "for k in dl_keys:\n",
    "    labels = list(set(df[df.description == k].label))\n",
    "#     has_labels = label_dict\n",
    "#     for l in labels:\n",
    "#         has_labels[l] = 1\n",
    "#     label_numbers = np.array(list(label_dict.values()))\n",
    "    labels.sort()\n",
    "    labels = \",\".join(labels)\n",
    "\n",
    "    dl_dict[k] = labels # label_numbers\n",
    "    \n",
    "print(dl_dict[\"Professor James Aitken White was a leading Scottish Theologian and Moderator of the General Assembly of the Church of Scotland. He was educated at Daniel Stewart's College and the University of Edinburgh where he studied philosophy and divinity. After his ordination he spent three years as an army Chaplain and then in 1948 was inducted to Dunollie Road Church in Oban. James Whyte moved to Mayfield North Church in Edinburgh in 1954 and in 1958 was appointed to the chair of practical theology and Christian ethics at the University of St Andrew's where he remained until 1987. His primary interests were in liturgy and ecclesiastical architecture and he also lectured on pastoral care.\\nJames Whyte was called upon to preach at the memorial service for the victims of the Lockerbie disaster on 4th January 1989. The service was relayed around the world and was widely cited in the press having had a great impact. The full text of this sermon was published in Laughter and Tears: Thoughts on Faith in the Face of Suffering (Edinburgh, St Andrew's Press, 1993).\"])"
   ]
  },
  {
   "cell_type": "code",
   "execution_count": 12,
   "id": "executive-soldier",
   "metadata": {},
   "outputs": [
    {
     "data": {
      "text/html": [
       "<div>\n",
       "<style scoped>\n",
       "    .dataframe tbody tr th:only-of-type {\n",
       "        vertical-align: middle;\n",
       "    }\n",
       "\n",
       "    .dataframe tbody tr th {\n",
       "        vertical-align: top;\n",
       "    }\n",
       "\n",
       "    .dataframe thead th {\n",
       "        text-align: right;\n",
       "    }\n",
       "</style>\n",
       "<table border=\"1\" class=\"dataframe\">\n",
       "  <thead>\n",
       "    <tr style=\"text-align: right;\">\n",
       "      <th></th>\n",
       "      <th>eadid</th>\n",
       "      <th>description</th>\n",
       "      <th>desc_id</th>\n",
       "      <th>field</th>\n",
       "    </tr>\n",
       "  </thead>\n",
       "  <tbody>\n",
       "    <tr>\n",
       "      <th>9</th>\n",
       "      <td>AA5</td>\n",
       "      <td>Professor James Aitken White was a leading Sco...</td>\n",
       "      <td>0</td>\n",
       "      <td>Biographical / Historical</td>\n",
       "    </tr>\n",
       "    <tr>\n",
       "      <th>17</th>\n",
       "      <td>AA5</td>\n",
       "      <td>Papers of The Very Rev Prof James Whyte (1920-...</td>\n",
       "      <td>1</td>\n",
       "      <td>Title</td>\n",
       "    </tr>\n",
       "    <tr>\n",
       "      <th>39</th>\n",
       "      <td>AA6</td>\n",
       "      <td>Rev Thomas Allan was born on 16 August 1916 in...</td>\n",
       "      <td>2</td>\n",
       "      <td>Biographical / Historical</td>\n",
       "    </tr>\n",
       "    <tr>\n",
       "      <th>47</th>\n",
       "      <td>AA6</td>\n",
       "      <td>Papers of Rev Tom Allan (1916-1965)</td>\n",
       "      <td>3</td>\n",
       "      <td>Title</td>\n",
       "    </tr>\n",
       "    <tr>\n",
       "      <th>70</th>\n",
       "      <td>AA7</td>\n",
       "      <td>Alec Cheyne was born on 1 June 1924 in Errol i...</td>\n",
       "      <td>4</td>\n",
       "      <td>Biographical / Historical</td>\n",
       "    </tr>\n",
       "  </tbody>\n",
       "</table>\n",
       "</div>"
      ],
      "text/plain": [
       "   eadid                                        description  desc_id  \\\n",
       "9    AA5  Professor James Aitken White was a leading Sco...        0   \n",
       "17   AA5  Papers of The Very Rev Prof James Whyte (1920-...        1   \n",
       "39   AA6  Rev Thomas Allan was born on 16 August 1916 in...        2   \n",
       "47   AA6                Papers of Rev Tom Allan (1916-1965)        3   \n",
       "70   AA7  Alec Cheyne was born on 1 June 1924 in Errol i...        4   \n",
       "\n",
       "                        field  \n",
       "9   Biographical / Historical  \n",
       "17                      Title  \n",
       "39  Biographical / Historical  \n",
       "47                      Title  \n",
       "70  Biographical / Historical  "
      ]
     },
     "execution_count": 12,
     "metadata": {},
     "output_type": "execute_result"
    }
   ],
   "source": [
    "desc_df = pd.read_csv(\"descriptions.csv\", index_col=0)\n",
    "desc_df.drop(\"field\", axis=1, inplace=True)\n",
    "desc_df[[\"field\",\"description\"]] = desc_df[\"description\"].str.split(\":\", n=1, expand=True)\n",
    "old_descs = list(desc_df.description)\n",
    "new_descs = [d.strip() for d in old_descs]\n",
    "desc_df[\"description\"] = new_descs\n",
    "desc_df.head()"
   ]
  },
  {
   "cell_type": "code",
   "execution_count": 13,
   "id": "imported-bridge",
   "metadata": {},
   "outputs": [],
   "source": [
    "desc_labels = []\n",
    "desc_list = list(desc_df.description)\n",
    "for d in desc_list:\n",
    "    desc_labels += [dl_dict[d]]\n",
    "\n",
    "assert len(desc_labels) == desc_df.shape[0], \"There should be string of labels for every description.\""
   ]
  },
  {
   "cell_type": "code",
   "execution_count": 16,
   "id": "assumed-diabetes",
   "metadata": {},
   "outputs": [
    {
     "data": {
      "text/html": [
       "<div>\n",
       "<style scoped>\n",
       "    .dataframe tbody tr th:only-of-type {\n",
       "        vertical-align: middle;\n",
       "    }\n",
       "\n",
       "    .dataframe tbody tr th {\n",
       "        vertical-align: top;\n",
       "    }\n",
       "\n",
       "    .dataframe thead th {\n",
       "        text-align: right;\n",
       "    }\n",
       "</style>\n",
       "<table border=\"1\" class=\"dataframe\">\n",
       "  <thead>\n",
       "    <tr style=\"text-align: right;\">\n",
       "      <th></th>\n",
       "      <th>eadid</th>\n",
       "      <th>description</th>\n",
       "      <th>desc_id</th>\n",
       "      <th>field</th>\n",
       "      <th>label</th>\n",
       "    </tr>\n",
       "  </thead>\n",
       "  <tbody>\n",
       "    <tr>\n",
       "      <th>9</th>\n",
       "      <td>AA5</td>\n",
       "      <td>Professor James Aitken White was a leading Sco...</td>\n",
       "      <td>0</td>\n",
       "      <td>Biographical / Historical</td>\n",
       "      <td>Gendered-Pronoun,Masculine,Occupation,Stereotype</td>\n",
       "    </tr>\n",
       "    <tr>\n",
       "      <th>17</th>\n",
       "      <td>AA5</td>\n",
       "      <td>Papers of The Very Rev Prof James Whyte (1920-...</td>\n",
       "      <td>1</td>\n",
       "      <td>Title</td>\n",
       "      <td>Masculine,Stereotype,Unknown</td>\n",
       "    </tr>\n",
       "    <tr>\n",
       "      <th>39</th>\n",
       "      <td>AA6</td>\n",
       "      <td>Rev Thomas Allan was born on 16 August 1916 in...</td>\n",
       "      <td>2</td>\n",
       "      <td>Biographical / Historical</td>\n",
       "      <td>Feminine,Gendered-Pronoun,Generalization,Mascu...</td>\n",
       "    </tr>\n",
       "    <tr>\n",
       "      <th>47</th>\n",
       "      <td>AA6</td>\n",
       "      <td>Papers of Rev Tom Allan (1916-1965)</td>\n",
       "      <td>3</td>\n",
       "      <td>Title</td>\n",
       "      <td>Masculine,Unknown</td>\n",
       "    </tr>\n",
       "    <tr>\n",
       "      <th>70</th>\n",
       "      <td>AA7</td>\n",
       "      <td>Alec Cheyne was born on 1 June 1924 in Errol i...</td>\n",
       "      <td>4</td>\n",
       "      <td>Biographical / Historical</td>\n",
       "      <td>Feminine,Gendered-Pronoun,Gendered-Role,Genera...</td>\n",
       "    </tr>\n",
       "  </tbody>\n",
       "</table>\n",
       "</div>"
      ],
      "text/plain": [
       "   eadid                                        description  desc_id  \\\n",
       "9    AA5  Professor James Aitken White was a leading Sco...        0   \n",
       "17   AA5  Papers of The Very Rev Prof James Whyte (1920-...        1   \n",
       "39   AA6  Rev Thomas Allan was born on 16 August 1916 in...        2   \n",
       "47   AA6                Papers of Rev Tom Allan (1916-1965)        3   \n",
       "70   AA7  Alec Cheyne was born on 1 June 1924 in Errol i...        4   \n",
       "\n",
       "                        field  \\\n",
       "9   Biographical / Historical   \n",
       "17                      Title   \n",
       "39  Biographical / Historical   \n",
       "47                      Title   \n",
       "70  Biographical / Historical   \n",
       "\n",
       "                                                label  \n",
       "9    Gendered-Pronoun,Masculine,Occupation,Stereotype  \n",
       "17                       Masculine,Stereotype,Unknown  \n",
       "39  Feminine,Gendered-Pronoun,Generalization,Mascu...  \n",
       "47                                  Masculine,Unknown  \n",
       "70  Feminine,Gendered-Pronoun,Gendered-Role,Genera...  "
      ]
     },
     "execution_count": 16,
     "metadata": {},
     "output_type": "execute_result"
    }
   ],
   "source": [
    "desc_df[\"label\"] = desc_labels\n",
    "desc_df.head()"
   ]
  },
  {
   "cell_type": "markdown",
   "id": "finished-geometry",
   "metadata": {},
   "source": [
    "### OPTION 1: didn't work...\n",
    "\n",
    "DataFrame for documents and array for labels"
   ]
  },
  {
   "cell_type": "code",
   "execution_count": 35,
   "id": "czech-treasurer",
   "metadata": {},
   "outputs": [],
   "source": [
    "docs = desc_df.drop(\"label\", axis=1, inplace=False)\n",
    "labels = np.array(list(desc_df.label))"
   ]
  },
  {
   "cell_type": "code",
   "execution_count": 36,
   "id": "fcbeadbb",
   "metadata": {},
   "outputs": [
    {
     "data": {
      "text/html": [
       "<div>\n",
       "<style scoped>\n",
       "    .dataframe tbody tr th:only-of-type {\n",
       "        vertical-align: middle;\n",
       "    }\n",
       "\n",
       "    .dataframe tbody tr th {\n",
       "        vertical-align: top;\n",
       "    }\n",
       "\n",
       "    .dataframe thead th {\n",
       "        text-align: right;\n",
       "    }\n",
       "</style>\n",
       "<table border=\"1\" class=\"dataframe\">\n",
       "  <thead>\n",
       "    <tr style=\"text-align: right;\">\n",
       "      <th></th>\n",
       "      <th>eadid</th>\n",
       "      <th>description</th>\n",
       "      <th>desc_id</th>\n",
       "      <th>field</th>\n",
       "    </tr>\n",
       "  </thead>\n",
       "  <tbody>\n",
       "    <tr>\n",
       "      <th>9</th>\n",
       "      <td>AA5</td>\n",
       "      <td>Professor James Aitken White was a leading Sco...</td>\n",
       "      <td>0</td>\n",
       "      <td>Biographical / Historical</td>\n",
       "    </tr>\n",
       "    <tr>\n",
       "      <th>17</th>\n",
       "      <td>AA5</td>\n",
       "      <td>Papers of The Very Rev Prof James Whyte (1920-...</td>\n",
       "      <td>1</td>\n",
       "      <td>Title</td>\n",
       "    </tr>\n",
       "    <tr>\n",
       "      <th>39</th>\n",
       "      <td>AA6</td>\n",
       "      <td>Rev Thomas Allan was born on 16 August 1916 in...</td>\n",
       "      <td>2</td>\n",
       "      <td>Biographical / Historical</td>\n",
       "    </tr>\n",
       "    <tr>\n",
       "      <th>47</th>\n",
       "      <td>AA6</td>\n",
       "      <td>Papers of Rev Tom Allan (1916-1965)</td>\n",
       "      <td>3</td>\n",
       "      <td>Title</td>\n",
       "    </tr>\n",
       "    <tr>\n",
       "      <th>70</th>\n",
       "      <td>AA7</td>\n",
       "      <td>Alec Cheyne was born on 1 June 1924 in Errol i...</td>\n",
       "      <td>4</td>\n",
       "      <td>Biographical / Historical</td>\n",
       "    </tr>\n",
       "  </tbody>\n",
       "</table>\n",
       "</div>"
      ],
      "text/plain": [
       "   eadid                                        description  desc_id  \\\n",
       "9    AA5  Professor James Aitken White was a leading Sco...        0   \n",
       "17   AA5  Papers of The Very Rev Prof James Whyte (1920-...        1   \n",
       "39   AA6  Rev Thomas Allan was born on 16 August 1916 in...        2   \n",
       "47   AA6                Papers of Rev Tom Allan (1916-1965)        3   \n",
       "70   AA7  Alec Cheyne was born on 1 June 1924 in Errol i...        4   \n",
       "\n",
       "                        field  \n",
       "9   Biographical / Historical  \n",
       "17                      Title  \n",
       "39  Biographical / Historical  \n",
       "47                      Title  \n",
       "70  Biographical / Historical  "
      ]
     },
     "execution_count": 36,
     "metadata": {},
     "output_type": "execute_result"
    }
   ],
   "source": [
    "docs.head()"
   ]
  },
  {
   "cell_type": "markdown",
   "id": "opened-listing",
   "metadata": {},
   "source": [
    "Shuffle and split data into train and test sets: \n",
    "\n",
    "*Note: least populated class has too few groups to stratify*"
   ]
  },
  {
   "cell_type": "code",
   "execution_count": 18,
   "id": "biological-intermediate",
   "metadata": {},
   "outputs": [],
   "source": [
    "X_train, X_test, y_train, y_test = train_test_split(docs, labels, test_size=0.2, random_state=0, shuffle=True)"
   ]
  },
  {
   "cell_type": "markdown",
   "id": "regional-quebec",
   "metadata": {},
   "source": [
    "Shuffle and split the train dataset into train and validation sets:"
   ]
  },
  {
   "cell_type": "code",
   "execution_count": 19,
   "id": "returning-sharp",
   "metadata": {},
   "outputs": [],
   "source": [
    "X_train, X_val, y_train, y_val = train_test_split(X_train, y_train, test_size=0.2, random_state=0, shuffle=True)"
   ]
  },
  {
   "cell_type": "markdown",
   "id": "herbal-upgrade",
   "metadata": {},
   "source": [
    "### OPTION 2: \n",
    "\n",
    "array for documents and array for labels"
   ]
  },
  {
   "cell_type": "markdown",
   "id": "alternate-mathematics",
   "metadata": {},
   "source": [
    "Format data as a numpy array of strings, where the input data are each one description as a string, and the target data are strings, one for each description, with comma-separated label names begins with the description and ending with comma-separated labels.  For example:\n",
    "\n",
    "* Input (document): `\"Professor James Aitken White was a leading Scottish Theologian.\"`\n",
    "* Target (document's labels): `\"Stereotype,Masculine,Gendered-Pronoun,Occupation\"`"
   ]
  },
  {
   "cell_type": "code",
   "execution_count": 26,
   "id": "boxed-classification",
   "metadata": {},
   "outputs": [],
   "source": [
    "docs = list(dl_dict.keys())   # input documents (descriptions)\n",
    "labels = list(dl_dict.values()) # target labels"
   ]
  },
  {
   "cell_type": "markdown",
   "id": "narrative-college",
   "metadata": {},
   "source": [
    "Shuffle and split data into train and test sets: \n",
    "\n",
    "*Note: least populated class has too few groups to stratify*"
   ]
  },
  {
   "cell_type": "code",
   "execution_count": 27,
   "id": "russian-thermal",
   "metadata": {},
   "outputs": [],
   "source": [
    "X_train, X_test, y_train, y_test = train_test_split(docs, labels, test_size=0.2, random_state=0, shuffle=True)"
   ]
  },
  {
   "cell_type": "markdown",
   "id": "liquid-meaning",
   "metadata": {},
   "source": [
    "Shuffle and split the train dataset into train and validation sets:"
   ]
  },
  {
   "cell_type": "code",
   "execution_count": 28,
   "id": "bulgarian-resident",
   "metadata": {},
   "outputs": [],
   "source": [
    "X_train, X_val, y_train, y_val = train_test_split(X_train, y_train, test_size=0.2, random_state=0, shuffle=True)"
   ]
  },
  {
   "cell_type": "markdown",
   "id": "internal-hopkins",
   "metadata": {},
   "source": [
    "### Write the data to files:"
   ]
  },
  {
   "cell_type": "code",
   "execution_count": 29,
   "id": "immune-privacy",
   "metadata": {},
   "outputs": [],
   "source": [
    "datadir = \"clf_data2\" #\"clf_data\"\n",
    "for i,doc in enumerate(X_train):\n",
    "    train_file = datadir+\"/train/doc\"+str(i)+\".txt\"\n",
    "    f_train = open(train_file, \"w\")\n",
    "    f_train.write(doc)\n",
    "    f_train.close()"
   ]
  },
  {
   "cell_type": "code",
   "execution_count": 30,
   "id": "macro-admission",
   "metadata": {},
   "outputs": [],
   "source": [
    "for i,labels in enumerate(y_train):\n",
    "    train_file = datadir+\"/train/labels\"+str(i)+\".txt\"\n",
    "    f_train = open(train_file, \"w\")\n",
    "    f_train.write(labels)\n",
    "    f_train.close()"
   ]
  },
  {
   "cell_type": "code",
   "execution_count": 31,
   "id": "solid-chester",
   "metadata": {},
   "outputs": [],
   "source": [
    "for i,doc in enumerate(X_val):\n",
    "    val_file = datadir+\"/validation/doc\"+str(i)+\".txt\"\n",
    "    f_val = open(val_file, \"w\")\n",
    "    f_val.write(doc)\n",
    "    f_val.close()"
   ]
  },
  {
   "cell_type": "code",
   "execution_count": 32,
   "id": "minimal-incident",
   "metadata": {},
   "outputs": [],
   "source": [
    "for i,labels in enumerate(y_val):\n",
    "    val_file = datadir+\"/validation/labels\"+str(i)+\".txt\"\n",
    "    f_val = open(val_file, \"w\")\n",
    "    f_val.write(labels)\n",
    "    f_val.close()"
   ]
  },
  {
   "cell_type": "code",
   "execution_count": 33,
   "id": "metric-ordinance",
   "metadata": {},
   "outputs": [],
   "source": [
    "for i,doc in enumerate(X_test):\n",
    "    test_file = datadir+\"/blindtest/doc\"+str(i)+\".txt\"\n",
    "    f_test = open(test_file, \"w\")\n",
    "    f_test.write(doc)\n",
    "    f_test.close()"
   ]
  },
  {
   "cell_type": "code",
   "execution_count": 34,
   "id": "ambient-assault",
   "metadata": {},
   "outputs": [],
   "source": [
    "for i,labels in enumerate(y_test):\n",
    "    test_file = datadir+\"/blindtest/labels\"+str(i)+\".txt\"\n",
    "    f_test = open(test_file, \"w\")\n",
    "    f_test.write(labels)\n",
    "    f_test.close()"
   ]
  },
  {
   "cell_type": "code",
   "execution_count": null,
   "id": "accredited-worship",
   "metadata": {},
   "outputs": [],
   "source": []
  },
  {
   "cell_type": "code",
   "execution_count": null,
   "id": "approximate-progressive",
   "metadata": {},
   "outputs": [],
   "source": []
  },
  {
   "cell_type": "code",
   "execution_count": null,
   "id": "operating-harvard",
   "metadata": {},
   "outputs": [],
   "source": []
  },
  {
   "cell_type": "code",
   "execution_count": null,
   "id": "duplicate-powder",
   "metadata": {},
   "outputs": [],
   "source": []
  },
  {
   "cell_type": "code",
   "execution_count": null,
   "id": "ethical-gravity",
   "metadata": {},
   "outputs": [],
   "source": []
  },
  {
   "cell_type": "code",
   "execution_count": null,
   "id": "supreme-regular",
   "metadata": {},
   "outputs": [],
   "source": []
  },
  {
   "cell_type": "code",
   "execution_count": null,
   "id": "minimal-console",
   "metadata": {},
   "outputs": [],
   "source": []
  },
  {
   "cell_type": "code",
   "execution_count": 11,
   "id": "revised-bermuda",
   "metadata": {},
   "outputs": [],
   "source": [
    "# vectorizer = TfidfVectorizer(lowercase=False)               # defaults input=\"content\", encoding=\"utf8\""
   ]
  },
  {
   "cell_type": "code",
   "execution_count": 12,
   "id": "listed-trace",
   "metadata": {},
   "outputs": [],
   "source": [
    "# X = vectorizer.fit_transform(docs)   # archival metadata descriptions (one description = one document)"
   ]
  },
  {
   "cell_type": "code",
   "execution_count": 14,
   "id": "injured-finder",
   "metadata": {},
   "outputs": [],
   "source": [
    "# y = vectorizer.fit_transform(labels)         # corresponding gender biased language labels for each description\n",
    "# y = np.array(labels)"
   ]
  },
  {
   "cell_type": "code",
   "execution_count": 21,
   "id": "stone-blair",
   "metadata": {},
   "outputs": [],
   "source": [
    "# sss = StratifiedShuffleSplit(n_splits=5, test_size=0.1, random_state=0) # set random_state for reproducibility\n",
    "# fold = 1\n",
    "# for train,test in sss.split(X, y):\n",
    "#     train_file = \"clf_data/fold\"+str(fold)+\"/train.txt\"\n",
    "#     f_train = open(train_file, \"w\")\n",
    "#     f_train.write(train)\n",
    "#     f_train.close()\n",
    "    \n",
    "#     test_file = \"clf_data/fold\"+str(fold)+\"test.txt\"\n",
    "#     f_test = open(test_file, \"w\")\n",
    "#     f_test.write(test)\n",
    "#     f_test.close()\n",
    "    \n",
    "#     fold += 1"
   ]
  },
  {
   "cell_type": "code",
   "execution_count": null,
   "id": "negative-barrel",
   "metadata": {},
   "outputs": [],
   "source": [
    "# # INPUT: DataFrame of annotated descriptions with columns for description, field, and label\n",
    "# # OUTPUT: 3D array with columns for the description, metadata field name, and label\n",
    "# def desc_field_label_extractor(df):\n",
    "#     descs = list(df.description)\n",
    "#     fields = list(df.field)\n",
    "#     labels = list(df.label)\n",
    "#     features = np.empty(shape=(len(descs), 3), dtype=object)\n",
    "#     for i,desc in enumerate(descs):    \n",
    "#         features[i, 0] = desc\n",
    "#         features[i, 1] = fields[i]\n",
    "#         features[i, 2] = labels[i]\n",
    "#     return features\n",
    "\n",
    "\n",
    "# desc_field_label_transformer = FunctionTransformer(desc_field_label_extractor)"
   ]
  }
 ],
 "metadata": {
  "kernelspec": {
   "display_name": "Python 3 (ipykernel)",
   "language": "python",
   "name": "python3"
  },
  "language_info": {
   "codemirror_mode": {
    "name": "ipython",
    "version": 3
   },
   "file_extension": ".py",
   "mimetype": "text/x-python",
   "name": "python",
   "nbconvert_exporter": "python",
   "pygments_lexer": "ipython3",
   "version": "3.9.8"
  }
 },
 "nbformat": 4,
 "nbformat_minor": 5
}

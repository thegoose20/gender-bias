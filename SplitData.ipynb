{
 "cells": [
  {
   "cell_type": "markdown",
   "metadata": {},
   "source": [
    "# Gender Biased Document Classification\n",
    "\n",
    "## Splitting Data into Train/Validation/Test Sets"
   ]
  },
  {
   "cell_type": "code",
   "execution_count": 1,
   "metadata": {},
   "outputs": [],
   "source": [
    "import numpy as np\n",
    "import pandas as pd\n",
    "# from sklearn.model_selection import StratifiedShuffleSplit\n",
    "from sklearn.model_selection import train_test_split\n",
    "# from sklearn.preprocessing import FunctionTransformer\n",
    "from sklearn.feature_extraction.text import TfidfVectorizer"
   ]
  },
  {
   "cell_type": "markdown",
   "metadata": {},
   "source": [
    "Load and prepare the data for classification:"
   ]
  },
  {
   "cell_type": "code",
   "execution_count": 48,
   "metadata": {
    "collapsed": true
   },
   "outputs": [
    {
     "data": {
      "text/html": [
       "<div>\n",
       "<style scoped>\n",
       "    .dataframe tbody tr th:only-of-type {\n",
       "        vertical-align: middle;\n",
       "    }\n",
       "\n",
       "    .dataframe tbody tr th {\n",
       "        vertical-align: top;\n",
       "    }\n",
       "\n",
       "    .dataframe thead th {\n",
       "        text-align: right;\n",
       "    }\n",
       "</style>\n",
       "<table border=\"1\" class=\"dataframe\">\n",
       "  <thead>\n",
       "    <tr style=\"text-align: right;\">\n",
       "      <th></th>\n",
       "      <th>file</th>\n",
       "      <th>offsets</th>\n",
       "      <th>text</th>\n",
       "      <th>label</th>\n",
       "      <th>category</th>\n",
       "      <th>eadid</th>\n",
       "      <th>description</th>\n",
       "      <th>field</th>\n",
       "      <th>id</th>\n",
       "      <th>desc_id</th>\n",
       "    </tr>\n",
       "  </thead>\n",
       "  <tbody>\n",
       "    <tr>\n",
       "      <th>9</th>\n",
       "      <td>AA5_00100.ann</td>\n",
       "      <td>(1032, 1043)</td>\n",
       "      <td>James Whyte</td>\n",
       "      <td>Masculine</td>\n",
       "      <td>Person-Name</td>\n",
       "      <td>AA5</td>\n",
       "      <td>Biographical / Historical:\\nProfessor James Ai...</td>\n",
       "      <td>Biographical / Historical</td>\n",
       "      <td>0</td>\n",
       "      <td>0</td>\n",
       "    </tr>\n",
       "    <tr>\n",
       "      <th>16</th>\n",
       "      <td>AA5_00100.ann</td>\n",
       "      <td>(1129, 1177)</td>\n",
       "      <td>chair of practical theology and Christian ethics</td>\n",
       "      <td>Occupation</td>\n",
       "      <td>Contextual</td>\n",
       "      <td>AA5</td>\n",
       "      <td>Biographical / Historical:\\nProfessor James Ai...</td>\n",
       "      <td>Biographical / Historical</td>\n",
       "      <td>1</td>\n",
       "      <td>0</td>\n",
       "    </tr>\n",
       "    <tr>\n",
       "      <th>4</th>\n",
       "      <td>AA5_00100.ann</td>\n",
       "      <td>(1217, 1219)</td>\n",
       "      <td>he</td>\n",
       "      <td>Gendered-Pronoun</td>\n",
       "      <td>Linguistic</td>\n",
       "      <td>AA5</td>\n",
       "      <td>Biographical / Historical:\\nProfessor James Ai...</td>\n",
       "      <td>Biographical / Historical</td>\n",
       "      <td>2</td>\n",
       "      <td>0</td>\n",
       "    </tr>\n",
       "    <tr>\n",
       "      <th>5</th>\n",
       "      <td>AA5_00100.ann</td>\n",
       "      <td>(1241, 1244)</td>\n",
       "      <td>His</td>\n",
       "      <td>Gendered-Pronoun</td>\n",
       "      <td>Linguistic</td>\n",
       "      <td>AA5</td>\n",
       "      <td>Biographical / Historical:\\nProfessor James Ai...</td>\n",
       "      <td>Biographical / Historical</td>\n",
       "      <td>3</td>\n",
       "      <td>0</td>\n",
       "    </tr>\n",
       "    <tr>\n",
       "      <th>6</th>\n",
       "      <td>AA5_00100.ann</td>\n",
       "      <td>(1315, 1317)</td>\n",
       "      <td>he</td>\n",
       "      <td>Gendered-Pronoun</td>\n",
       "      <td>Linguistic</td>\n",
       "      <td>AA5</td>\n",
       "      <td>Biographical / Historical:\\nProfessor James Ai...</td>\n",
       "      <td>Biographical / Historical</td>\n",
       "      <td>4</td>\n",
       "      <td>0</td>\n",
       "    </tr>\n",
       "  </tbody>\n",
       "</table>\n",
       "</div>"
      ],
      "text/plain": [
       "             file       offsets  \\\n",
       "9   AA5_00100.ann  (1032, 1043)   \n",
       "16  AA5_00100.ann  (1129, 1177)   \n",
       "4   AA5_00100.ann  (1217, 1219)   \n",
       "5   AA5_00100.ann  (1241, 1244)   \n",
       "6   AA5_00100.ann  (1315, 1317)   \n",
       "\n",
       "                                                text             label  \\\n",
       "9                                        James Whyte         Masculine   \n",
       "16  chair of practical theology and Christian ethics        Occupation   \n",
       "4                                                 he  Gendered-Pronoun   \n",
       "5                                                His  Gendered-Pronoun   \n",
       "6                                                 he  Gendered-Pronoun   \n",
       "\n",
       "       category eadid                                        description  \\\n",
       "9   Person-Name   AA5  Biographical / Historical:\\nProfessor James Ai...   \n",
       "16   Contextual   AA5  Biographical / Historical:\\nProfessor James Ai...   \n",
       "4    Linguistic   AA5  Biographical / Historical:\\nProfessor James Ai...   \n",
       "5    Linguistic   AA5  Biographical / Historical:\\nProfessor James Ai...   \n",
       "6    Linguistic   AA5  Biographical / Historical:\\nProfessor James Ai...   \n",
       "\n",
       "                        field  id  desc_id  \n",
       "9   Biographical / Historical   0        0  \n",
       "16  Biographical / Historical   1        0  \n",
       "4   Biographical / Historical   2        0  \n",
       "5   Biographical / Historical   3        0  \n",
       "6   Biographical / Historical   4        0  "
      ]
     },
     "execution_count": 48,
     "metadata": {},
     "output_type": "execute_result"
    }
   ],
   "source": [
    "# df = pd.read_csv(\"annot_data/aggregated_with_eadid_descid_desc_cols.csv\", index_col=0)\n",
    "# df.head()"
   ]
  },
  {
   "cell_type": "code",
   "execution_count": 49,
   "metadata": {},
   "outputs": [],
   "source": [
    "# df[[\"field2\", \"description\"]] = df[\"description\"].str.split(\":\", n=1, expand=True)\n",
    "# df.drop(\"field2\", axis=1, inplace=True)\n",
    "# df.head()\n",
    "# df.drop([\"file\", \"offsets\", \"text\", \"category\", \"eadid\"], axis=1, inplace=True)\n",
    "# descs = list(df.description)\n",
    "# descs = [d.strip() for d in descs]\n",
    "# df.description = descs\n",
    "# df.to_csv(\"annot_data/aggregated_data_for_classifier.csv\")"
   ]
  },
  {
   "cell_type": "code",
   "execution_count": 3,
   "metadata": {},
   "outputs": [
    {
     "data": {
      "text/html": [
       "<div>\n",
       "<style scoped>\n",
       "    .dataframe tbody tr th:only-of-type {\n",
       "        vertical-align: middle;\n",
       "    }\n",
       "\n",
       "    .dataframe tbody tr th {\n",
       "        vertical-align: top;\n",
       "    }\n",
       "\n",
       "    .dataframe thead th {\n",
       "        text-align: right;\n",
       "    }\n",
       "</style>\n",
       "<table border=\"1\" class=\"dataframe\">\n",
       "  <thead>\n",
       "    <tr style=\"text-align: right;\">\n",
       "      <th></th>\n",
       "      <th>label</th>\n",
       "      <th>description</th>\n",
       "      <th>field</th>\n",
       "      <th>id</th>\n",
       "      <th>desc_id</th>\n",
       "    </tr>\n",
       "  </thead>\n",
       "  <tbody>\n",
       "    <tr>\n",
       "      <th>9</th>\n",
       "      <td>Masculine</td>\n",
       "      <td>Professor James Aitken White was a leading Sco...</td>\n",
       "      <td>Biographical / Historical</td>\n",
       "      <td>0</td>\n",
       "      <td>0</td>\n",
       "    </tr>\n",
       "    <tr>\n",
       "      <th>16</th>\n",
       "      <td>Occupation</td>\n",
       "      <td>Professor James Aitken White was a leading Sco...</td>\n",
       "      <td>Biographical / Historical</td>\n",
       "      <td>1</td>\n",
       "      <td>0</td>\n",
       "    </tr>\n",
       "    <tr>\n",
       "      <th>4</th>\n",
       "      <td>Gendered-Pronoun</td>\n",
       "      <td>Professor James Aitken White was a leading Sco...</td>\n",
       "      <td>Biographical / Historical</td>\n",
       "      <td>2</td>\n",
       "      <td>0</td>\n",
       "    </tr>\n",
       "    <tr>\n",
       "      <th>5</th>\n",
       "      <td>Gendered-Pronoun</td>\n",
       "      <td>Professor James Aitken White was a leading Sco...</td>\n",
       "      <td>Biographical / Historical</td>\n",
       "      <td>3</td>\n",
       "      <td>0</td>\n",
       "    </tr>\n",
       "    <tr>\n",
       "      <th>6</th>\n",
       "      <td>Gendered-Pronoun</td>\n",
       "      <td>Professor James Aitken White was a leading Sco...</td>\n",
       "      <td>Biographical / Historical</td>\n",
       "      <td>4</td>\n",
       "      <td>0</td>\n",
       "    </tr>\n",
       "  </tbody>\n",
       "</table>\n",
       "</div>"
      ],
      "text/plain": [
       "               label                                        description  \\\n",
       "9          Masculine  Professor James Aitken White was a leading Sco...   \n",
       "16        Occupation  Professor James Aitken White was a leading Sco...   \n",
       "4   Gendered-Pronoun  Professor James Aitken White was a leading Sco...   \n",
       "5   Gendered-Pronoun  Professor James Aitken White was a leading Sco...   \n",
       "6   Gendered-Pronoun  Professor James Aitken White was a leading Sco...   \n",
       "\n",
       "                        field  id  desc_id  \n",
       "9   Biographical / Historical   0        0  \n",
       "16  Biographical / Historical   1        0  \n",
       "4   Biographical / Historical   2        0  \n",
       "5   Biographical / Historical   3        0  \n",
       "6   Biographical / Historical   4        0  "
      ]
     },
     "execution_count": 3,
     "metadata": {},
     "output_type": "execute_result"
    }
   ],
   "source": [
    "df = pd.read_csv(\"aggregated_data_for_classifier.csv\", index_col=0)\n",
    "df.head()"
   ]
  },
  {
   "cell_type": "code",
   "execution_count": 4,
   "metadata": {},
   "outputs": [
    {
     "data": {
      "text/plain": [
       "array(['Masculine', 'Occupation', 'Gendered-Pronoun', 'Stereotype',\n",
       "       'Unknown', 'Feminine', 'Generalization', 'Omission',\n",
       "       'Gendered-Role'], dtype=object)"
      ]
     },
     "execution_count": 4,
     "metadata": {},
     "output_type": "execute_result"
    }
   ],
   "source": [
    "df.label.unique()"
   ]
  },
  {
   "cell_type": "markdown",
   "metadata": {},
   "source": [
    "The DataFrame above has a row for every label, so for descriptions with multiple labels, there are multiple rows of data."
   ]
  },
  {
   "cell_type": "code",
   "execution_count": 5,
   "metadata": {},
   "outputs": [
    {
     "data": {
      "text/plain": [
       "False"
      ]
     },
     "execution_count": 5,
     "metadata": {},
     "output_type": "execute_result"
    }
   ],
   "source": [
    "df.description.isnull().values.any()"
   ]
  },
  {
   "cell_type": "markdown",
   "metadata": {},
   "source": [
    "For every description, get the labels (non-repeating) they were annotated with:"
   ]
  },
  {
   "cell_type": "code",
   "execution_count": 19,
   "metadata": {},
   "outputs": [],
   "source": [
    "# label_list = df.label.unique()\n",
    "# label_list.sort()\n",
    "# label_dict = dict.fromkeys(label_list, 0)\n",
    "# print(label_dict)"
   ]
  },
  {
   "cell_type": "code",
   "execution_count": 6,
   "metadata": {},
   "outputs": [
    {
     "name": "stdout",
     "output_type": "stream",
     "text": [
      "Gendered-Pronoun,Masculine,Occupation,Stereotype\n"
     ]
    }
   ],
   "source": [
    "dl_dict = dict.fromkeys(list(df.description))\n",
    "dl_keys = dl_dict.keys()\n",
    "for k in dl_keys:\n",
    "    labels = list(set(df[df.description == k].label))\n",
    "#     has_labels = label_dict\n",
    "#     for l in labels:\n",
    "#         has_labels[l] = 1\n",
    "#     label_numbers = np.array(list(label_dict.values()))\n",
    "    labels.sort()\n",
    "    labels = \",\".join(labels)\n",
    "\n",
    "    dl_dict[k] = labels # label_numbers\n",
    "    \n",
    "print(dl_dict[\"Professor James Aitken White was a leading Scottish Theologian and Moderator of the General Assembly of the Church of Scotland. He was educated at Daniel Stewart's College and the University of Edinburgh where he studied philosophy and divinity. After his ordination he spent three years as an army Chaplain and then in 1948 was inducted to Dunollie Road Church in Oban. James Whyte moved to Mayfield North Church in Edinburgh in 1954 and in 1958 was appointed to the chair of practical theology and Christian ethics at the University of St Andrew's where he remained until 1987. His primary interests were in liturgy and ecclesiastical architecture and he also lectured on pastoral care.\\nJames Whyte was called upon to preach at the memorial service for the victims of the Lockerbie disaster on 4th January 1989. The service was relayed around the world and was widely cited in the press having had a great impact. The full text of this sermon was published in Laughter and Tears: Thoughts on Faith in the Face of Suffering (Edinburgh, St Andrew's Press, 1993).\"])"
   ]
  },
  {
   "cell_type": "code",
   "execution_count": 14,
   "metadata": {},
   "outputs": [
    {
     "data": {
      "text/html": [
       "<div>\n",
       "<style scoped>\n",
       "    .dataframe tbody tr th:only-of-type {\n",
       "        vertical-align: middle;\n",
       "    }\n",
       "\n",
       "    .dataframe tbody tr th {\n",
       "        vertical-align: top;\n",
       "    }\n",
       "\n",
       "    .dataframe thead th {\n",
       "        text-align: right;\n",
       "    }\n",
       "</style>\n",
       "<table border=\"1\" class=\"dataframe\">\n",
       "  <thead>\n",
       "    <tr style=\"text-align: right;\">\n",
       "      <th></th>\n",
       "      <th>eadid</th>\n",
       "      <th>description</th>\n",
       "      <th>desc_id</th>\n",
       "      <th>field</th>\n",
       "    </tr>\n",
       "  </thead>\n",
       "  <tbody>\n",
       "    <tr>\n",
       "      <th>9</th>\n",
       "      <td>AA5</td>\n",
       "      <td>Professor James Aitken White was a leading Sco...</td>\n",
       "      <td>0</td>\n",
       "      <td>Biographical / Historical</td>\n",
       "    </tr>\n",
       "    <tr>\n",
       "      <th>17</th>\n",
       "      <td>AA5</td>\n",
       "      <td>Papers of The Very Rev Prof James Whyte (1920-...</td>\n",
       "      <td>1</td>\n",
       "      <td>Title</td>\n",
       "    </tr>\n",
       "    <tr>\n",
       "      <th>39</th>\n",
       "      <td>AA6</td>\n",
       "      <td>Rev Thomas Allan was born on 16 August 1916 in...</td>\n",
       "      <td>2</td>\n",
       "      <td>Biographical / Historical</td>\n",
       "    </tr>\n",
       "    <tr>\n",
       "      <th>47</th>\n",
       "      <td>AA6</td>\n",
       "      <td>Papers of Rev Tom Allan (1916-1965)</td>\n",
       "      <td>3</td>\n",
       "      <td>Title</td>\n",
       "    </tr>\n",
       "    <tr>\n",
       "      <th>70</th>\n",
       "      <td>AA7</td>\n",
       "      <td>Alec Cheyne was born on 1 June 1924 in Errol i...</td>\n",
       "      <td>4</td>\n",
       "      <td>Biographical / Historical</td>\n",
       "    </tr>\n",
       "  </tbody>\n",
       "</table>\n",
       "</div>"
      ],
      "text/plain": [
       "   eadid                                        description  desc_id  \\\n",
       "9    AA5  Professor James Aitken White was a leading Sco...        0   \n",
       "17   AA5  Papers of The Very Rev Prof James Whyte (1920-...        1   \n",
       "39   AA6  Rev Thomas Allan was born on 16 August 1916 in...        2   \n",
       "47   AA6                Papers of Rev Tom Allan (1916-1965)        3   \n",
       "70   AA7  Alec Cheyne was born on 1 June 1924 in Errol i...        4   \n",
       "\n",
       "                        field  \n",
       "9   Biographical / Historical  \n",
       "17                      Title  \n",
       "39  Biographical / Historical  \n",
       "47                      Title  \n",
       "70  Biographical / Historical  "
      ]
     },
     "execution_count": 14,
     "metadata": {},
     "output_type": "execute_result"
    }
   ],
   "source": [
    "desc_df = pd.read_csv(\"descriptions.csv\", index_col=0)\n",
    "desc_df.drop(\"field\", axis=1, inplace=True)\n",
    "desc_df[[\"field\",\"description\"]] = desc_df[\"description\"].str.split(\":\", n=1, expand=True)\n",
    "old_descs = list(desc_df.description)\n",
    "new_descs = [d.strip() for d in old_descs]\n",
    "desc_df[\"description\"] = new_descs\n",
    "desc_df.head()"
   ]
  },
  {
   "cell_type": "code",
   "execution_count": 15,
   "metadata": {},
   "outputs": [],
   "source": [
    "desc_labels = []\n",
    "desc_list = list(desc_df.description)\n",
    "for d in desc_list:\n",
    "    desc_labels += [dl_dict[d]]\n",
    "\n",
    "assert len(desc_labels) == desc_df.shape[0], \"There should be a string of labels for every description.\""
   ]
  },
  {
   "cell_type": "code",
   "execution_count": 17,
   "metadata": {},
   "outputs": [
    {
     "data": {
      "text/html": [
       "<div>\n",
       "<style scoped>\n",
       "    .dataframe tbody tr th:only-of-type {\n",
       "        vertical-align: middle;\n",
       "    }\n",
       "\n",
       "    .dataframe tbody tr th {\n",
       "        vertical-align: top;\n",
       "    }\n",
       "\n",
       "    .dataframe thead th {\n",
       "        text-align: right;\n",
       "    }\n",
       "</style>\n",
       "<table border=\"1\" class=\"dataframe\">\n",
       "  <thead>\n",
       "    <tr style=\"text-align: right;\">\n",
       "      <th></th>\n",
       "      <th>eadid</th>\n",
       "      <th>description</th>\n",
       "      <th>desc_id</th>\n",
       "      <th>field</th>\n",
       "      <th>label</th>\n",
       "    </tr>\n",
       "  </thead>\n",
       "  <tbody>\n",
       "    <tr>\n",
       "      <th>9</th>\n",
       "      <td>AA5</td>\n",
       "      <td>Professor James Aitken White was a leading Sco...</td>\n",
       "      <td>0</td>\n",
       "      <td>Biographical / Historical</td>\n",
       "      <td>Gendered-Pronoun,Masculine,Occupation,Stereotype</td>\n",
       "    </tr>\n",
       "    <tr>\n",
       "      <th>17</th>\n",
       "      <td>AA5</td>\n",
       "      <td>Papers of The Very Rev Prof James Whyte (1920-...</td>\n",
       "      <td>1</td>\n",
       "      <td>Title</td>\n",
       "      <td>Masculine,Stereotype,Unknown</td>\n",
       "    </tr>\n",
       "    <tr>\n",
       "      <th>39</th>\n",
       "      <td>AA6</td>\n",
       "      <td>Rev Thomas Allan was born on 16 August 1916 in...</td>\n",
       "      <td>2</td>\n",
       "      <td>Biographical / Historical</td>\n",
       "      <td>Feminine,Gendered-Pronoun,Generalization,Mascu...</td>\n",
       "    </tr>\n",
       "    <tr>\n",
       "      <th>47</th>\n",
       "      <td>AA6</td>\n",
       "      <td>Papers of Rev Tom Allan (1916-1965)</td>\n",
       "      <td>3</td>\n",
       "      <td>Title</td>\n",
       "      <td>Masculine,Unknown</td>\n",
       "    </tr>\n",
       "    <tr>\n",
       "      <th>70</th>\n",
       "      <td>AA7</td>\n",
       "      <td>Alec Cheyne was born on 1 June 1924 in Errol i...</td>\n",
       "      <td>4</td>\n",
       "      <td>Biographical / Historical</td>\n",
       "      <td>Feminine,Gendered-Pronoun,Gendered-Role,Genera...</td>\n",
       "    </tr>\n",
       "  </tbody>\n",
       "</table>\n",
       "</div>"
      ],
      "text/plain": [
       "   eadid                                        description  desc_id  \\\n",
       "9    AA5  Professor James Aitken White was a leading Sco...        0   \n",
       "17   AA5  Papers of The Very Rev Prof James Whyte (1920-...        1   \n",
       "39   AA6  Rev Thomas Allan was born on 16 August 1916 in...        2   \n",
       "47   AA6                Papers of Rev Tom Allan (1916-1965)        3   \n",
       "70   AA7  Alec Cheyne was born on 1 June 1924 in Errol i...        4   \n",
       "\n",
       "                        field  \\\n",
       "9   Biographical / Historical   \n",
       "17                      Title   \n",
       "39  Biographical / Historical   \n",
       "47                      Title   \n",
       "70  Biographical / Historical   \n",
       "\n",
       "                                                label  \n",
       "9    Gendered-Pronoun,Masculine,Occupation,Stereotype  \n",
       "17                       Masculine,Stereotype,Unknown  \n",
       "39  Feminine,Gendered-Pronoun,Generalization,Mascu...  \n",
       "47                                  Masculine,Unknown  \n",
       "70  Feminine,Gendered-Pronoun,Gendered-Role,Genera...  "
      ]
     },
     "execution_count": 17,
     "metadata": {},
     "output_type": "execute_result"
    }
   ],
   "source": [
    "desc_df[\"label\"] = desc_labels\n",
    "desc_df.head()"
   ]
  },
  {
   "cell_type": "code",
   "execution_count": 18,
   "metadata": {},
   "outputs": [],
   "source": [
    "desc_df.to_csv(\"descriptions.csv\")"
   ]
  },
  {
   "cell_type": "markdown",
   "metadata": {},
   "source": [
    "### OPTION 1:\n",
    "\n",
    "**Doesn't work...why?**\n",
    "\n",
    "DataFrame for documents and array for labels"
   ]
  },
  {
   "cell_type": "code",
   "execution_count": 35,
   "metadata": {},
   "outputs": [],
   "source": [
    "docs = desc_df.drop(\"label\", axis=1, inplace=False)\n",
    "labels = np.array(list(desc_df.label))"
   ]
  },
  {
   "cell_type": "markdown",
   "metadata": {},
   "source": [
    "Shuffle and split data into train and test sets: \n",
    "\n",
    "*Note: least populated class has too few groups to stratify*"
   ]
  },
  {
   "cell_type": "code",
   "execution_count": 36,
   "metadata": {},
   "outputs": [],
   "source": [
    "X_train, X_test, y_train, y_test = train_test_split(docs, labels, test_size=0.2, random_state=0, shuffle=True)"
   ]
  },
  {
   "cell_type": "markdown",
   "metadata": {},
   "source": [
    "Shuffle and split the train dataset into train and validation sets:"
   ]
  },
  {
   "cell_type": "code",
   "execution_count": 37,
   "metadata": {},
   "outputs": [],
   "source": [
    "X_train, X_val, y_train, y_val = train_test_split(X_train, y_train, test_size=0.2, random_state=0, shuffle=True)"
   ]
  },
  {
   "cell_type": "markdown",
   "metadata": {},
   "source": [
    "### OPTION 2: \n",
    "\n",
    "array for documents and array for labels"
   ]
  },
  {
   "cell_type": "markdown",
   "metadata": {},
   "source": [
    "Format data as a numpy array of strings, where the input data are each one description as a string, and the target data are strings, one for each description, with comma-separated label names begins with the description and ending with comma-separated labels.  For example:\n",
    "\n",
    "* Input (document): `\"Professor James Aitken White was a leading Scottish Theologian.\"`\n",
    "* Target (document's labels): `\"Stereotype,Masculine,Gendered-Pronoun,Occupation\"`"
   ]
  },
  {
   "cell_type": "code",
   "execution_count": 19,
   "metadata": {},
   "outputs": [],
   "source": [
    "docs = list(dl_dict.keys())   # input documents (descriptions)\n",
    "labels = list(dl_dict.values()) # target labels"
   ]
  },
  {
   "cell_type": "markdown",
   "metadata": {},
   "source": [
    "Shuffle and split data into train and test sets: \n",
    "\n",
    "*Note: least populated class has too few groups to stratify*"
   ]
  },
  {
   "cell_type": "code",
   "execution_count": 20,
   "metadata": {},
   "outputs": [],
   "source": [
    "X_train, X_test, y_train, y_test = train_test_split(docs, labels, test_size=0.2, random_state=0, shuffle=True)"
   ]
  },
  {
   "cell_type": "markdown",
   "metadata": {},
   "source": [
    "Shuffle and split the train dataset into train and validation sets:"
   ]
  },
  {
   "cell_type": "code",
   "execution_count": 21,
   "metadata": {},
   "outputs": [],
   "source": [
    "X_train, X_val, y_train, y_val = train_test_split(X_train, y_train, test_size=0.2, random_state=0, shuffle=True)"
   ]
  },
  {
   "cell_type": "markdown",
   "metadata": {},
   "source": [
    "### Write the data to files:"
   ]
  },
  {
   "cell_type": "code",
   "execution_count": 25,
   "metadata": {},
   "outputs": [],
   "source": [
    "# directory: clf_data for option 1 / clf_data2 for option2\n",
    "train_file = \"clf_data2/train_docs.txt\"\n",
    "for i,doc in enumerate(X_train):\n",
    "    f_train = open(train_file, \"a\")\n",
    "    f_train.write(doc+\"\\n|\\n\")\n",
    "f_train.close()"
   ]
  },
  {
   "cell_type": "code",
   "execution_count": 26,
   "metadata": {},
   "outputs": [],
   "source": [
    "train_file = \"clf_data2/train_labels.txt\"\n",
    "for i,labels in enumerate(y_train):\n",
    "    f_train = open(train_file, \"a\")\n",
    "    f_train.write(labels+\"\\n\")\n",
    "f_train.close()"
   ]
  },
  {
   "cell_type": "code",
   "execution_count": 27,
   "metadata": {},
   "outputs": [],
   "source": [
    "val_file = \"clf_data2/validation_docs.txt\"\n",
    "for i,doc in enumerate(X_val):\n",
    "    f_val = open(val_file, \"a\")\n",
    "    f_val.write(doc+\"\\n|\\n\")\n",
    "f_val.close()"
   ]
  },
  {
   "cell_type": "code",
   "execution_count": 28,
   "metadata": {},
   "outputs": [],
   "source": [
    "val_file = \"clf_data2/validation_labels.txt\"\n",
    "for i,labels in enumerate(y_val):\n",
    "    f_val = open(val_file, \"a\")\n",
    "    f_val.write(labels+\"\\n\")\n",
    "f_val.close()"
   ]
  },
  {
   "cell_type": "code",
   "execution_count": 29,
   "metadata": {},
   "outputs": [],
   "source": [
    "test_file = \"clf_data2/blindtest_doc.txt\"\n",
    "for i,doc in enumerate(X_test):\n",
    "    f_test = open(test_file, \"a\")\n",
    "    f_test.write(doc+\"\\n|\\n\")\n",
    "f_test.close()"
   ]
  },
  {
   "cell_type": "code",
   "execution_count": 30,
   "metadata": {},
   "outputs": [],
   "source": [
    "test_file = \"clf_data2/blindtest_labels.txt\"\n",
    "for i,labels in enumerate(y_test):\n",
    "    f_test = open(test_file, \"a\")\n",
    "    f_test.write(labels+\"\\n\")\n",
    "f_test.close()"
   ]
  },
  {
   "cell_type": "code",
   "execution_count": null,
   "metadata": {},
   "outputs": [],
   "source": []
  },
  {
   "cell_type": "code",
   "execution_count": null,
   "metadata": {},
   "outputs": [],
   "source": []
  },
  {
   "cell_type": "code",
   "execution_count": null,
   "metadata": {},
   "outputs": [],
   "source": []
  },
  {
   "cell_type": "code",
   "execution_count": null,
   "metadata": {},
   "outputs": [],
   "source": []
  },
  {
   "cell_type": "code",
   "execution_count": null,
   "metadata": {},
   "outputs": [],
   "source": []
  },
  {
   "cell_type": "code",
   "execution_count": null,
   "metadata": {},
   "outputs": [],
   "source": []
  },
  {
   "cell_type": "code",
   "execution_count": null,
   "metadata": {},
   "outputs": [],
   "source": []
  },
  {
   "cell_type": "code",
   "execution_count": 11,
   "metadata": {},
   "outputs": [],
   "source": [
    "# vectorizer = TfidfVectorizer(lowercase=False)               # defaults input=\"content\", encoding=\"utf8\""
   ]
  },
  {
   "cell_type": "code",
   "execution_count": 12,
   "metadata": {},
   "outputs": [],
   "source": [
    "# X = vectorizer.fit_transform(docs)   # archival metadata descriptions (one description = one document)"
   ]
  },
  {
   "cell_type": "code",
   "execution_count": 14,
   "metadata": {},
   "outputs": [],
   "source": [
    "# y = vectorizer.fit_transform(labels)         # corresponding gender biased language labels for each description\n",
    "# y = np.array(labels)"
   ]
  },
  {
   "cell_type": "code",
   "execution_count": 21,
   "metadata": {},
   "outputs": [],
   "source": [
    "# sss = StratifiedShuffleSplit(n_splits=5, test_size=0.1, random_state=0) # set random_state for reproducibility\n",
    "# fold = 1\n",
    "# for train,test in sss.split(X, y):\n",
    "#     train_file = \"clf_data/fold\"+str(fold)+\"/train.txt\"\n",
    "#     f_train = open(train_file, \"w\")\n",
    "#     f_train.write(train)\n",
    "#     f_train.close()\n",
    "    \n",
    "#     test_file = \"clf_data/fold\"+str(fold)+\"test.txt\"\n",
    "#     f_test = open(test_file, \"w\")\n",
    "#     f_test.write(test)\n",
    "#     f_test.close()\n",
    "    \n",
    "#     fold += 1"
   ]
  },
  {
   "cell_type": "code",
   "execution_count": null,
   "metadata": {},
   "outputs": [],
   "source": [
    "# # INPUT: DataFrame of annotated descriptions with columns for description, field, and label\n",
    "# # OUTPUT: 3D array with columns for the description, metadata field name, and label\n",
    "# def desc_field_label_extractor(df):\n",
    "#     descs = list(df.description)\n",
    "#     fields = list(df.field)\n",
    "#     labels = list(df.label)\n",
    "#     features = np.empty(shape=(len(descs), 3), dtype=object)\n",
    "#     for i,desc in enumerate(descs):    \n",
    "#         features[i, 0] = desc\n",
    "#         features[i, 1] = fields[i]\n",
    "#         features[i, 2] = labels[i]\n",
    "#     return features\n",
    "\n",
    "\n",
    "# desc_field_label_transformer = FunctionTransformer(desc_field_label_extractor)"
   ]
  }
 ],
 "metadata": {
  "kernelspec": {
   "display_name": "Python 3",
   "language": "python",
   "name": "python3"
  },
  "language_info": {
   "codemirror_mode": {
    "name": "ipython",
    "version": 3
   },
   "file_extension": ".py",
   "mimetype": "text/x-python",
   "name": "python",
   "nbconvert_exporter": "python",
   "pygments_lexer": "ipython3",
   "version": "3.8.10"
  }
 },
 "nbformat": 4,
 "nbformat_minor": 5
}

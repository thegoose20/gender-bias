{
 "cells": [
  {
   "cell_type": "markdown",
   "metadata": {},
   "source": [
    "# Annotated Data Analysis \n",
    "## Post Annotation and Aggregation\n",
    "\n",
    "In the aggregated dataset, examine:\n",
    "\n",
    "[1.](#1) Aggregated Data's Associated Genders\n",
    "\n",
    "[2.](#X) Annotators' rationale for applying labels (as documented in the `note` column)\n",
    "\n",
    "  * [2.1](#2.1) Associated Genders\n",
    "  * [2.2](#2.2) Label: Stereotype\n",
    "\n",
    "[X.](#3) Dates of Material of Annotations\n",
    "\n",
    "[X.](#X) Correlation (if any) between type of gender biased language and type of descriptive metadata field\n",
    "\n",
    "[X.](#X) People referred to with feminine vs. masculine terms in annotated text\n",
    "\n",
    "***\n",
    "\n",
    "The code in this Jupyter Notebook is part of a PhD project to create a gold standard dataset labeled for gender biased language, on which a classifier can be trained to identify gender bias in archival metadata descriptions.  \n",
    "\n",
    "This project is focused on the English language and archival institutions in the United Kingdom.\n",
    "\n",
    "* Author: Lucy Havens\n",
    "* Date: August 2022\n",
    "* Project: PhD Case Study 1\n",
    "* Data Provider: [ArchivesSpace](https://archives.collections.ed.ac.uk/), Centre for Research Collections, University of Edinburgh\n",
    "\n",
    "***"
   ]
  },
  {
   "cell_type": "markdown",
   "metadata": {},
   "source": [
    "## 0. Loading\n",
    "First, begin by loading Python programming libraries and the dataset to be analyzed."
   ]
  },
  {
   "cell_type": "code",
   "execution_count": 2,
   "metadata": {},
   "outputs": [],
   "source": [
    "import utils  # custom functions\n",
    "\n",
    "import pandas as pd\n",
    "import numpy as np\n",
    "import string, csv, re, os, sys #,json\n",
    "\n",
    "import nltk\n",
    "from nltk.tokenize import word_tokenize\n",
    "from nltk.tokenize import sent_tokenize\n",
    "# nltk.download('punkt')\n",
    "from nltk.corpus import PlaintextCorpusReader\n",
    "# nltk.download('averaged_perceptron_tagger')\n",
    "from nltk.corpus import stopwords\n",
    "# nltk.download('stopwords')\n",
    "from nltk.tag import pos_tag\n",
    "from nltk.text import Text\n",
    "from nltk.probability import FreqDist\n",
    "from collections import Counter\n",
    "from wordcloud import WordCloud\n",
    "\n",
    "%matplotlib inline\n",
    "import matplotlib.pyplot as plt"
   ]
  },
  {
   "cell_type": "code",
   "execution_count": 3,
   "metadata": {},
   "outputs": [],
   "source": [
    "dir_path = \"data/\"\n",
    "data_files = [\"aggregated_final.csv\", \"aggregated_with_annotator_eadid_note_cols.csv\", \n",
    "              \"aggregated_with_eadid_descid_desc_cols.csv\", \"descriptions.csv\", \"all_annotators.csv\"]"
   ]
  },
  {
   "cell_type": "markdown",
   "metadata": {},
   "source": [
    "<a id=\"1\"></a>\n",
    "## 1. Aggregated Data's Associated Genders"
   ]
  },
  {
   "cell_type": "code",
   "execution_count": 3,
   "metadata": {},
   "outputs": [
    {
     "data": {
      "text/html": [
       "<div>\n",
       "<style scoped>\n",
       "    .dataframe tbody tr th:only-of-type {\n",
       "        vertical-align: middle;\n",
       "    }\n",
       "\n",
       "    .dataframe tbody tr th {\n",
       "        vertical-align: top;\n",
       "    }\n",
       "\n",
       "    .dataframe thead th {\n",
       "        text-align: right;\n",
       "    }\n",
       "</style>\n",
       "<table border=\"1\" class=\"dataframe\">\n",
       "  <thead>\n",
       "    <tr style=\"text-align: right;\">\n",
       "      <th></th>\n",
       "      <th>file</th>\n",
       "      <th>offsets</th>\n",
       "      <th>text</th>\n",
       "      <th>label</th>\n",
       "      <th>category</th>\n",
       "      <th>associated_genders</th>\n",
       "    </tr>\n",
       "  </thead>\n",
       "  <tbody>\n",
       "    <tr>\n",
       "      <th>0</th>\n",
       "      <td>Coll-1434_11900.ann</td>\n",
       "      <td>(1954, 1957)</td>\n",
       "      <td>his</td>\n",
       "      <td>Generalization</td>\n",
       "      <td>Linguistic</td>\n",
       "      <td>Masculine</td>\n",
       "    </tr>\n",
       "    <tr>\n",
       "      <th>1</th>\n",
       "      <td>Coll-1397_00100.ann</td>\n",
       "      <td>(2633, 2638)</td>\n",
       "      <td>Lords</td>\n",
       "      <td>Generalization</td>\n",
       "      <td>Linguistic</td>\n",
       "      <td>Unclear</td>\n",
       "    </tr>\n",
       "    <tr>\n",
       "      <th>2</th>\n",
       "      <td>Coll-1310_00800.ann</td>\n",
       "      <td>(3703, 3706)</td>\n",
       "      <td>Man</td>\n",
       "      <td>Generalization</td>\n",
       "      <td>Linguistic</td>\n",
       "      <td>Masculine</td>\n",
       "    </tr>\n",
       "    <tr>\n",
       "      <th>3</th>\n",
       "      <td>Coll-1434_14500.ann</td>\n",
       "      <td>(5782, 5788)</td>\n",
       "      <td>cowboy</td>\n",
       "      <td>Generalization</td>\n",
       "      <td>Linguistic</td>\n",
       "      <td>Masculine</td>\n",
       "    </tr>\n",
       "    <tr>\n",
       "      <th>4</th>\n",
       "      <td>BAI_02300.ann</td>\n",
       "      <td>(1586, 1596)</td>\n",
       "      <td>shipmaster</td>\n",
       "      <td>Generalization</td>\n",
       "      <td>Linguistic</td>\n",
       "      <td>Unclear</td>\n",
       "    </tr>\n",
       "  </tbody>\n",
       "</table>\n",
       "</div>"
      ],
      "text/plain": [
       "                  file       offsets        text           label    category  \\\n",
       "0  Coll-1434_11900.ann  (1954, 1957)         his  Generalization  Linguistic   \n",
       "1  Coll-1397_00100.ann  (2633, 2638)       Lords  Generalization  Linguistic   \n",
       "2  Coll-1310_00800.ann  (3703, 3706)         Man  Generalization  Linguistic   \n",
       "3  Coll-1434_14500.ann  (5782, 5788)      cowboy  Generalization  Linguistic   \n",
       "4        BAI_02300.ann  (1586, 1596)  shipmaster  Generalization  Linguistic   \n",
       "\n",
       "  associated_genders  \n",
       "0          Masculine  \n",
       "1            Unclear  \n",
       "2          Masculine  \n",
       "3          Masculine  \n",
       "4            Unclear  "
      ]
     },
     "execution_count": 3,
     "metadata": {},
     "output_type": "execute_result"
    }
   ],
   "source": [
    "filepath = dir_path+data_files[0]\n",
    "df_agg = pd.read_csv(dir_path+data_files[0], index_col=0)\n",
    "df_agg = utils.addAssociatedGenders(df_agg)\n",
    "df_agg.head()"
   ]
  },
  {
   "cell_type": "markdown",
   "metadata": {},
   "source": [
    "Update the file with the `associated_genders` column:"
   ]
  },
  {
   "cell_type": "code",
   "execution_count": 4,
   "metadata": {},
   "outputs": [],
   "source": [
    "df_agg.to_csv(filepath)"
   ]
  },
  {
   "cell_type": "markdown",
   "metadata": {},
   "source": [
    "<a id=\"1\"></a>\n",
    "## 2. Annotators' Rationale\n",
    "\n",
    "Analyze the data in annotators' comments as they recorded them in the `note` field."
   ]
  },
  {
   "cell_type": "code",
   "execution_count": 5,
   "metadata": {},
   "outputs": [
    {
     "data": {
      "text/html": [
       "<div>\n",
       "<style scoped>\n",
       "    .dataframe tbody tr th:only-of-type {\n",
       "        vertical-align: middle;\n",
       "    }\n",
       "\n",
       "    .dataframe tbody tr th {\n",
       "        vertical-align: top;\n",
       "    }\n",
       "\n",
       "    .dataframe thead th {\n",
       "        text-align: right;\n",
       "    }\n",
       "</style>\n",
       "<table border=\"1\" class=\"dataframe\">\n",
       "  <thead>\n",
       "    <tr style=\"text-align: right;\">\n",
       "      <th></th>\n",
       "      <th>annotator</th>\n",
       "      <th>file</th>\n",
       "      <th>entity</th>\n",
       "      <th>label</th>\n",
       "      <th>start</th>\n",
       "      <th>end</th>\n",
       "      <th>text</th>\n",
       "      <th>category</th>\n",
       "      <th>note</th>\n",
       "    </tr>\n",
       "  </thead>\n",
       "  <tbody>\n",
       "    <tr>\n",
       "      <th>0</th>\n",
       "      <td>Annotator 0</td>\n",
       "      <td>Coll-1444_00100.ann</td>\n",
       "      <td>T1</td>\n",
       "      <td>Unknown</td>\n",
       "      <td>52</td>\n",
       "      <td>66</td>\n",
       "      <td>Robert E. Bell</td>\n",
       "      <td>Person-Name</td>\n",
       "      <td>NaN</td>\n",
       "    </tr>\n",
       "    <tr>\n",
       "      <th>1</th>\n",
       "      <td>Annotator 0</td>\n",
       "      <td>Coll-1444_00100.ann</td>\n",
       "      <td>T2</td>\n",
       "      <td>Generalization</td>\n",
       "      <td>219</td>\n",
       "      <td>228</td>\n",
       "      <td>Bachelors</td>\n",
       "      <td>Linguistic</td>\n",
       "      <td>A masculine term for a degree that can be awar...</td>\n",
       "    </tr>\n",
       "    <tr>\n",
       "      <th>2</th>\n",
       "      <td>Annotator 0</td>\n",
       "      <td>Coll-1444_00100.ann</td>\n",
       "      <td>T3</td>\n",
       "      <td>Generalization</td>\n",
       "      <td>301</td>\n",
       "      <td>310</td>\n",
       "      <td>Bachelors</td>\n",
       "      <td>Linguistic</td>\n",
       "      <td>A masculine term for a degree that can be awar...</td>\n",
       "    </tr>\n",
       "    <tr>\n",
       "      <th>3</th>\n",
       "      <td>Annotator 0</td>\n",
       "      <td>Coll-1444_00100.ann</td>\n",
       "      <td>T4</td>\n",
       "      <td>Generalization</td>\n",
       "      <td>368</td>\n",
       "      <td>372</td>\n",
       "      <td>Ed.B</td>\n",
       "      <td>Linguistic</td>\n",
       "      <td>B for bachelor, a masculine term for a degree ...</td>\n",
       "    </tr>\n",
       "    <tr>\n",
       "      <th>4</th>\n",
       "      <td>Annotator 0</td>\n",
       "      <td>Coll-1444_00100.ann</td>\n",
       "      <td>T5</td>\n",
       "      <td>Generalization</td>\n",
       "      <td>377</td>\n",
       "      <td>381</td>\n",
       "      <td>M.Ed</td>\n",
       "      <td>Linguistic</td>\n",
       "      <td>M for master, a masculine term for a degree th...</td>\n",
       "    </tr>\n",
       "  </tbody>\n",
       "</table>\n",
       "</div>"
      ],
      "text/plain": [
       "     annotator                 file entity           label  start  end  \\\n",
       "0  Annotator 0  Coll-1444_00100.ann     T1         Unknown     52   66   \n",
       "1  Annotator 0  Coll-1444_00100.ann     T2  Generalization    219  228   \n",
       "2  Annotator 0  Coll-1444_00100.ann     T3  Generalization    301  310   \n",
       "3  Annotator 0  Coll-1444_00100.ann     T4  Generalization    368  372   \n",
       "4  Annotator 0  Coll-1444_00100.ann     T5  Generalization    377  381   \n",
       "\n",
       "             text     category  \\\n",
       "0  Robert E. Bell  Person-Name   \n",
       "1       Bachelors   Linguistic   \n",
       "2       Bachelors   Linguistic   \n",
       "3            Ed.B   Linguistic   \n",
       "4            M.Ed   Linguistic   \n",
       "\n",
       "                                                note  \n",
       "0                                                NaN  \n",
       "1  A masculine term for a degree that can be awar...  \n",
       "2  A masculine term for a degree that can be awar...  \n",
       "3  B for bachelor, a masculine term for a degree ...  \n",
       "4  M for master, a masculine term for a degree th...  "
      ]
     },
     "execution_count": 5,
     "metadata": {},
     "output_type": "execute_result"
    }
   ],
   "source": [
    "dir_path = \"../annot/data/data_annot/\"\n",
    "ann_files = [\"ann0_labels_notes.csv\", \"ann1_labels_notes.csv\", \n",
    "             \"ann2_labels_notes.csv\", \"ann3_labels_notes.csv\", \"ann4_labels_notes.csv\",]\n",
    "df0 = pd.read_csv(dir_path+ann_files[0])\n",
    "df1 = pd.read_csv(dir_path+ann_files[1])\n",
    "df2 = pd.read_csv(dir_path+ann_files[2])\n",
    "df3 = pd.read_csv(dir_path+ann_files[3])\n",
    "df4 = pd.read_csv(dir_path+ann_files[4])\n",
    "df0.head()"
   ]
  },
  {
   "cell_type": "code",
   "execution_count": 6,
   "metadata": {},
   "outputs": [
    {
     "data": {
      "text/plain": [
       "77833"
      ]
     },
     "execution_count": 6,
     "metadata": {},
     "output_type": "execute_result"
    }
   ],
   "source": [
    "df0.shape[0] + df1.shape[0] + df2.shape[0] + df3.shape[0] + df4.shape[0]"
   ]
  },
  {
   "cell_type": "markdown",
   "metadata": {},
   "source": [
    "<a id=\"2.1\"></a>\n",
    "### 2.1 Associated Genders"
   ]
  },
  {
   "cell_type": "code",
   "execution_count": 6,
   "metadata": {},
   "outputs": [],
   "source": [
    "df0 = utils.addAssociatedGenders(df0)\n",
    "df1 = utils.addAssociatedGenders(df1)\n",
    "df2 = utils.addAssociatedGenders(df2)\n",
    "df3 = utils.addAssociatedGenders(df3)\n",
    "df4 = utils.addAssociatedGenders(df4)"
   ]
  },
  {
   "cell_type": "code",
   "execution_count": 8,
   "metadata": {},
   "outputs": [
    {
     "data": {
      "text/html": [
       "<div>\n",
       "<style scoped>\n",
       "    .dataframe tbody tr th:only-of-type {\n",
       "        vertical-align: middle;\n",
       "    }\n",
       "\n",
       "    .dataframe tbody tr th {\n",
       "        vertical-align: top;\n",
       "    }\n",
       "\n",
       "    .dataframe thead th {\n",
       "        text-align: right;\n",
       "    }\n",
       "</style>\n",
       "<table border=\"1\" class=\"dataframe\">\n",
       "  <thead>\n",
       "    <tr style=\"text-align: right;\">\n",
       "      <th></th>\n",
       "      <th>annotator</th>\n",
       "      <th>file</th>\n",
       "      <th>entity</th>\n",
       "      <th>label</th>\n",
       "      <th>start</th>\n",
       "      <th>end</th>\n",
       "      <th>text</th>\n",
       "      <th>category</th>\n",
       "      <th>note</th>\n",
       "      <th>associated_genders</th>\n",
       "    </tr>\n",
       "  </thead>\n",
       "  <tbody>\n",
       "    <tr>\n",
       "      <th>0</th>\n",
       "      <td>Annotator 0</td>\n",
       "      <td>Coll-1444_00100.ann</td>\n",
       "      <td>T1</td>\n",
       "      <td>Unknown</td>\n",
       "      <td>52</td>\n",
       "      <td>66</td>\n",
       "      <td>Robert E. Bell</td>\n",
       "      <td>Person-Name</td>\n",
       "      <td>NaN</td>\n",
       "      <td>Unclear</td>\n",
       "    </tr>\n",
       "    <tr>\n",
       "      <th>1</th>\n",
       "      <td>Annotator 0</td>\n",
       "      <td>Coll-1444_00100.ann</td>\n",
       "      <td>T2</td>\n",
       "      <td>Generalization</td>\n",
       "      <td>219</td>\n",
       "      <td>228</td>\n",
       "      <td>Bachelors</td>\n",
       "      <td>Linguistic</td>\n",
       "      <td>A masculine term for a degree that can be awar...</td>\n",
       "      <td>Masculine</td>\n",
       "    </tr>\n",
       "    <tr>\n",
       "      <th>2</th>\n",
       "      <td>Annotator 0</td>\n",
       "      <td>Coll-1444_00100.ann</td>\n",
       "      <td>T3</td>\n",
       "      <td>Generalization</td>\n",
       "      <td>301</td>\n",
       "      <td>310</td>\n",
       "      <td>Bachelors</td>\n",
       "      <td>Linguistic</td>\n",
       "      <td>A masculine term for a degree that can be awar...</td>\n",
       "      <td>Masculine</td>\n",
       "    </tr>\n",
       "    <tr>\n",
       "      <th>3</th>\n",
       "      <td>Annotator 0</td>\n",
       "      <td>Coll-1444_00100.ann</td>\n",
       "      <td>T4</td>\n",
       "      <td>Generalization</td>\n",
       "      <td>368</td>\n",
       "      <td>372</td>\n",
       "      <td>Ed.B</td>\n",
       "      <td>Linguistic</td>\n",
       "      <td>B for bachelor, a masculine term for a degree ...</td>\n",
       "      <td>Masculine</td>\n",
       "    </tr>\n",
       "    <tr>\n",
       "      <th>4</th>\n",
       "      <td>Annotator 0</td>\n",
       "      <td>Coll-1444_00100.ann</td>\n",
       "      <td>T5</td>\n",
       "      <td>Generalization</td>\n",
       "      <td>377</td>\n",
       "      <td>381</td>\n",
       "      <td>M.Ed</td>\n",
       "      <td>Linguistic</td>\n",
       "      <td>M for master, a masculine term for a degree th...</td>\n",
       "      <td>Unclear</td>\n",
       "    </tr>\n",
       "  </tbody>\n",
       "</table>\n",
       "</div>"
      ],
      "text/plain": [
       "     annotator                 file entity           label  start  end  \\\n",
       "0  Annotator 0  Coll-1444_00100.ann     T1         Unknown     52   66   \n",
       "1  Annotator 0  Coll-1444_00100.ann     T2  Generalization    219  228   \n",
       "2  Annotator 0  Coll-1444_00100.ann     T3  Generalization    301  310   \n",
       "3  Annotator 0  Coll-1444_00100.ann     T4  Generalization    368  372   \n",
       "4  Annotator 0  Coll-1444_00100.ann     T5  Generalization    377  381   \n",
       "\n",
       "             text     category  \\\n",
       "0  Robert E. Bell  Person-Name   \n",
       "1       Bachelors   Linguistic   \n",
       "2       Bachelors   Linguistic   \n",
       "3            Ed.B   Linguistic   \n",
       "4            M.Ed   Linguistic   \n",
       "\n",
       "                                                note associated_genders  \n",
       "0                                                NaN            Unclear  \n",
       "1  A masculine term for a degree that can be awar...          Masculine  \n",
       "2  A masculine term for a degree that can be awar...          Masculine  \n",
       "3  B for bachelor, a masculine term for a degree ...          Masculine  \n",
       "4  M for master, a masculine term for a degree th...            Unclear  "
      ]
     },
     "execution_count": 8,
     "metadata": {},
     "output_type": "execute_result"
    }
   ],
   "source": [
    "df0.head()"
   ]
  },
  {
   "cell_type": "code",
   "execution_count": 9,
   "metadata": {},
   "outputs": [
    {
     "name": "stdout",
     "output_type": "stream",
     "text": [
      "Annotator 0\n",
      "- Masculine: 6955\n",
      "- Feminine: 1260\n",
      "- Feminine & Masculine: 1746\n",
      "- Unclear: 21825\n",
      "Annotator 1\n",
      "- Masculine: 4104\n",
      "- Feminine: 440\n",
      "- Feminine & Masculine: 853\n",
      "- Unclear: 11163\n",
      "Annotator 2\n",
      "- Masculine: 2239\n",
      "- Feminine: 467\n",
      "- Feminine & Masculine: 687\n",
      "- Unclear: 16483\n",
      "Annotator 3\n",
      "- Masculine: 1615\n",
      "- Feminine: 202\n",
      "- Feminine & Masculine: 795\n",
      "- Unclear: 2513\n",
      "Annotator 4\n",
      "- Masculine: 1342\n",
      "- Feminine: 636\n",
      "- Feminine & Masculine: 559\n",
      "- Unclear: 1949\n"
     ]
    }
   ],
   "source": [
    "df_list = [df0, df1, df2, df3, df4]\n",
    "for i in range(len(df_list)):\n",
    "    df = df_list[i]\n",
    "    df_m = df.loc[df.associated_genders == \"Masculine\"]\n",
    "    df_f = df.loc[df.associated_genders == \"Feminine\"]\n",
    "    df_fm = df.loc[df.associated_genders == \"Multiple\"]\n",
    "    df_unclear = df.loc[df.associated_genders == \"Unclear\"]\n",
    "    print(\"Annotator\", i)\n",
    "    print(\"- Masculine:\", df_m.shape[0])\n",
    "    print(\"- Feminine:\", df_f.shape[0])\n",
    "    print(\"- Feminine & Masculine:\", df_fm.shape[0])\n",
    "    print(\"- Unclear:\", df_unclear.shape[0])"
   ]
  },
  {
   "cell_type": "markdown",
   "metadata": {},
   "source": [
    "Write the DataFrames to the `annot_post/data` directory:"
   ]
  },
  {
   "cell_type": "code",
   "execution_count": 10,
   "metadata": {},
   "outputs": [],
   "source": [
    "for i in range(len(ann_files)):\n",
    "    filepath = \"data/\"+ann_files[i]\n",
    "    df = df_list[i]\n",
    "    df.to_csv(filepath)"
   ]
  },
  {
   "cell_type": "markdown",
   "metadata": {},
   "source": [
    "<a id=\"2.2\"></a>\n",
    "### 2.2 Label: Stereotype"
   ]
  },
  {
   "cell_type": "markdown",
   "metadata": {},
   "source": [
    "Load the data file with all the annotators' labels and notes:"
   ]
  },
  {
   "cell_type": "code",
   "execution_count": 25,
   "metadata": {},
   "outputs": [],
   "source": [
    "df = pd.read_csv(dir_path+data_files[-1], index_col=0)"
   ]
  },
  {
   "cell_type": "code",
   "execution_count": 26,
   "metadata": {},
   "outputs": [
    {
     "name": "stdout",
     "output_type": "stream",
     "text": [
      "(3153, 13)\n"
     ]
    },
    {
     "data": {
      "text/html": [
       "<div>\n",
       "<style scoped>\n",
       "    .dataframe tbody tr th:only-of-type {\n",
       "        vertical-align: middle;\n",
       "    }\n",
       "\n",
       "    .dataframe tbody tr th {\n",
       "        vertical-align: top;\n",
       "    }\n",
       "\n",
       "    .dataframe thead th {\n",
       "        text-align: right;\n",
       "    }\n",
       "</style>\n",
       "<table border=\"1\" class=\"dataframe\">\n",
       "  <thead>\n",
       "    <tr style=\"text-align: right;\">\n",
       "      <th></th>\n",
       "      <th>annotator</th>\n",
       "      <th>file</th>\n",
       "      <th>entity</th>\n",
       "      <th>label</th>\n",
       "      <th>start</th>\n",
       "      <th>end</th>\n",
       "      <th>text</th>\n",
       "      <th>category</th>\n",
       "      <th>note</th>\n",
       "      <th>eadid</th>\n",
       "      <th>field</th>\n",
       "      <th>id</th>\n",
       "      <th>field2</th>\n",
       "    </tr>\n",
       "  </thead>\n",
       "  <tbody>\n",
       "    <tr>\n",
       "      <th>76483</th>\n",
       "      <td>Annotator 4</td>\n",
       "      <td>AA5_00100.ann</td>\n",
       "      <td>T7</td>\n",
       "      <td>Stereotype</td>\n",
       "      <td>34</td>\n",
       "      <td>63</td>\n",
       "      <td>The Very Rev Prof James Whyte</td>\n",
       "      <td>Contextual</td>\n",
       "      <td>form of address characteristic of male homosoc...</td>\n",
       "      <td>AA5</td>\n",
       "      <td>Title</td>\n",
       "      <td>0</td>\n",
       "      <td>Papers of The Very Rev Prof James Whyte (1920-...</td>\n",
       "    </tr>\n",
       "    <tr>\n",
       "      <th>76485</th>\n",
       "      <td>Annotator 4</td>\n",
       "      <td>AA5_00100.ann</td>\n",
       "      <td>T15</td>\n",
       "      <td>Stereotype</td>\n",
       "      <td>696</td>\n",
       "      <td>723</td>\n",
       "      <td>leading Scottish Theologian</td>\n",
       "      <td>Contextual</td>\n",
       "      <td>man associated with leadership role\\n</td>\n",
       "      <td>AA5</td>\n",
       "      <td>Biographical / Historical</td>\n",
       "      <td>7</td>\n",
       "      <td>Professor James Aitken White was a leading Sco...</td>\n",
       "    </tr>\n",
       "    <tr>\n",
       "      <th>70361</th>\n",
       "      <td>Annotator 3</td>\n",
       "      <td>AA6_00100.ann</td>\n",
       "      <td>T14</td>\n",
       "      <td>Stereotype</td>\n",
       "      <td>655</td>\n",
       "      <td>675</td>\n",
       "      <td>to William and Agnes</td>\n",
       "      <td>Contextual</td>\n",
       "      <td>male family members prioritised\\n</td>\n",
       "      <td>AA6</td>\n",
       "      <td>Biographical / Historical</td>\n",
       "      <td>49</td>\n",
       "      <td>Rev Thomas Allan was born on 16 August 1916 in...</td>\n",
       "    </tr>\n",
       "    <tr>\n",
       "      <th>70362</th>\n",
       "      <td>Annotator 3</td>\n",
       "      <td>AA6_00100.ann</td>\n",
       "      <td>T15</td>\n",
       "      <td>Stereotype</td>\n",
       "      <td>810</td>\n",
       "      <td>836</td>\n",
       "      <td>first class honours degree</td>\n",
       "      <td>Contextual</td>\n",
       "      <td>honour or achievement held by man\\n</td>\n",
       "      <td>AA6</td>\n",
       "      <td>Biographical / Historical</td>\n",
       "      <td>61</td>\n",
       "      <td>Rev Thomas Allan was born on 16 August 1916 in...</td>\n",
       "    </tr>\n",
       "    <tr>\n",
       "      <th>70363</th>\n",
       "      <td>Annotator 3</td>\n",
       "      <td>AA6_00100.ann</td>\n",
       "      <td>T11</td>\n",
       "      <td>Stereotype</td>\n",
       "      <td>1039</td>\n",
       "      <td>1067</td>\n",
       "      <td>Tom Allan married Jane Moore</td>\n",
       "      <td>Contextual</td>\n",
       "      <td>marriage - man listed as active party\\n</td>\n",
       "      <td>AA6</td>\n",
       "      <td>Biographical / Historical</td>\n",
       "      <td>71</td>\n",
       "      <td>Rev Thomas Allan was born on 16 August 1916 in...</td>\n",
       "    </tr>\n",
       "  </tbody>\n",
       "</table>\n",
       "</div>"
      ],
      "text/plain": [
       "         annotator           file entity       label  start   end  \\\n",
       "76483  Annotator 4  AA5_00100.ann     T7  Stereotype     34    63   \n",
       "76485  Annotator 4  AA5_00100.ann    T15  Stereotype    696   723   \n",
       "70361  Annotator 3  AA6_00100.ann    T14  Stereotype    655   675   \n",
       "70362  Annotator 3  AA6_00100.ann    T15  Stereotype    810   836   \n",
       "70363  Annotator 3  AA6_00100.ann    T11  Stereotype   1039  1067   \n",
       "\n",
       "                                text    category  \\\n",
       "76483  The Very Rev Prof James Whyte  Contextual   \n",
       "76485    leading Scottish Theologian  Contextual   \n",
       "70361           to William and Agnes  Contextual   \n",
       "70362     first class honours degree  Contextual   \n",
       "70363   Tom Allan married Jane Moore  Contextual   \n",
       "\n",
       "                                                    note eadid  \\\n",
       "76483  form of address characteristic of male homosoc...   AA5   \n",
       "76485              man associated with leadership role\\n   AA5   \n",
       "70361                  male family members prioritised\\n   AA6   \n",
       "70362                honour or achievement held by man\\n   AA6   \n",
       "70363            marriage - man listed as active party\\n   AA6   \n",
       "\n",
       "                           field  id  \\\n",
       "76483                      Title   0   \n",
       "76485  Biographical / Historical   7   \n",
       "70361  Biographical / Historical  49   \n",
       "70362  Biographical / Historical  61   \n",
       "70363  Biographical / Historical  71   \n",
       "\n",
       "                                                  field2  \n",
       "76483  Papers of The Very Rev Prof James Whyte (1920-...  \n",
       "76485  Professor James Aitken White was a leading Sco...  \n",
       "70361  Rev Thomas Allan was born on 16 August 1916 in...  \n",
       "70362  Rev Thomas Allan was born on 16 August 1916 in...  \n",
       "70363  Rev Thomas Allan was born on 16 August 1916 in...  "
      ]
     },
     "execution_count": 26,
     "metadata": {},
     "output_type": "execute_result"
    }
   ],
   "source": [
    "label_name = \"Stereotype\"\n",
    "df_ste = df.loc[df.label == label_name]\n",
    "print(df_ste.shape)\n",
    "df_ste.head()"
   ]
  },
  {
   "cell_type": "markdown",
   "metadata": {},
   "source": [
    "Determine which genders are associated with `Stereotype` annotations based on the labeled text (`text` column) and any comments provided (`note` column):"
   ]
  },
  {
   "cell_type": "code",
   "execution_count": 31,
   "metadata": {},
   "outputs": [],
   "source": [
    "# Replace NaN notes with \"\" (an empty string)\n",
    "df_ste = df_ste.fillna(\"\")"
   ]
  },
  {
   "cell_type": "code",
   "execution_count": 32,
   "metadata": {},
   "outputs": [
    {
     "name": "stdout",
     "output_type": "stream",
     "text": [
      "Feminine stereotypes: 461\n",
      "Masculine stereotypes: 2149\n",
      "F & M stereotypes: 359\n",
      "Unclear stereotypes: 184\n"
     ]
    }
   ],
   "source": [
    "genders = []\n",
    "notes = list(df_ste.note)\n",
    "texts = list(df_ste.text)\n",
    "fem = [\"wom.n\", \"girl\", \"^gal\", \"female\", \"lady\", \"ladies\", \"wi[fv]e\", \"her\", \"she\"] # should add lass, lassie\n",
    "mas = [\"^man\", \"^men\", \"boy\", \"male\", \"lad$\", \"lads\", \"laddie\", \"husband\", \"his\", \"him\", \"he\"]\n",
    "for i in range(len(notes)):\n",
    "    if notes[i] != np.nan:\n",
    "        n = notes[i]\n",
    "        t = texts[i]\n",
    "        feminine, masculine = False, False\n",
    "\n",
    "        for f in fem:\n",
    "            if feminine:\n",
    "                break\n",
    "            if (len(re.findall(f, n)) > 0) or (len(re.findall(f, t)) > 0):\n",
    "                feminine = True\n",
    "        for m in mas:\n",
    "            if masculine:\n",
    "                break\n",
    "            if (len(re.findall(m, n)) > 0) or (len(re.findall(m, t)) > 0):\n",
    "                masculine = True\n",
    "\n",
    "        if (feminine == True) and (masculine == False):\n",
    "            genders += [\"Feminine\"]\n",
    "        elif (feminine == False) and (masculine == True):\n",
    "            genders += [\"Masculine\"]\n",
    "        elif (feminine == True) and (masculine == True):\n",
    "            genders += [\"Multiple\"]\n",
    "        else:\n",
    "            genders += [\"Unclear\"]\n",
    "\n",
    "print(\"Feminine stereotypes:\", genders.count(\"Feminine\"))\n",
    "print(\"Masculine stereotypes:\", genders.count(\"Masculine\"))\n",
    "print(\"F & M stereotypes:\", genders.count(\"Multiple\"))\n",
    "print(\"Unclear stereotypes:\", genders.count(\"Unclear\"))"
   ]
  },
  {
   "cell_type": "code",
   "execution_count": 33,
   "metadata": {},
   "outputs": [
    {
     "name": "stdout",
     "output_type": "stream",
     "text": [
      "Ratios:\n",
      "0.14620995876942594\n",
      "0.6815731049793847\n",
      "0.11385981604820805\n",
      "0.05835712020298129\n"
     ]
    }
   ],
   "source": [
    "f_ste_count = genders.count(\"Feminine\")\n",
    "m_ste_count = genders.count(\"Masculine\")\n",
    "fm_ste_count = genders.count(\"Multiple\")\n",
    "uncl_ste_count = genders.count(\"Unclear\")\n",
    "total_ste = len(genders)\n",
    "counts = [f_ste_count, m_ste_count, fm_ste_count, uncl_ste_count]\n",
    "print(\"Ratios:\")\n",
    "for c in counts:\n",
    "    print(c/total_ste)"
   ]
  },
  {
   "cell_type": "markdown",
   "metadata": {},
   "source": [
    "<div class=\"alert alert-block alert-warning\">\n",
    "    <b>To Do:</b> Think about how to *normalize* this data, so the ratios are related to the total presence of people of particular genders/gender groups!\n",
    "</div>"
   ]
  },
  {
   "cell_type": "code",
   "execution_count": 34,
   "metadata": {},
   "outputs": [
    {
     "data": {
      "text/html": [
       "<div>\n",
       "<style scoped>\n",
       "    .dataframe tbody tr th:only-of-type {\n",
       "        vertical-align: middle;\n",
       "    }\n",
       "\n",
       "    .dataframe tbody tr th {\n",
       "        vertical-align: top;\n",
       "    }\n",
       "\n",
       "    .dataframe thead th {\n",
       "        text-align: right;\n",
       "    }\n",
       "</style>\n",
       "<table border=\"1\" class=\"dataframe\">\n",
       "  <thead>\n",
       "    <tr style=\"text-align: right;\">\n",
       "      <th></th>\n",
       "      <th>annotator</th>\n",
       "      <th>file</th>\n",
       "      <th>entity</th>\n",
       "      <th>label</th>\n",
       "      <th>start</th>\n",
       "      <th>end</th>\n",
       "      <th>text</th>\n",
       "      <th>category</th>\n",
       "      <th>note</th>\n",
       "      <th>eadid</th>\n",
       "      <th>field</th>\n",
       "      <th>id</th>\n",
       "      <th>field2</th>\n",
       "      <th>associated_genders</th>\n",
       "    </tr>\n",
       "  </thead>\n",
       "  <tbody>\n",
       "    <tr>\n",
       "      <th>76483</th>\n",
       "      <td>Annotator 4</td>\n",
       "      <td>AA5_00100.ann</td>\n",
       "      <td>T7</td>\n",
       "      <td>Stereotype</td>\n",
       "      <td>34</td>\n",
       "      <td>63</td>\n",
       "      <td>The Very Rev Prof James Whyte</td>\n",
       "      <td>Contextual</td>\n",
       "      <td>form of address characteristic of male homosoc...</td>\n",
       "      <td>AA5</td>\n",
       "      <td>Title</td>\n",
       "      <td>0</td>\n",
       "      <td>Papers of The Very Rev Prof James Whyte (1920-...</td>\n",
       "      <td>Masculine</td>\n",
       "    </tr>\n",
       "    <tr>\n",
       "      <th>76485</th>\n",
       "      <td>Annotator 4</td>\n",
       "      <td>AA5_00100.ann</td>\n",
       "      <td>T15</td>\n",
       "      <td>Stereotype</td>\n",
       "      <td>696</td>\n",
       "      <td>723</td>\n",
       "      <td>leading Scottish Theologian</td>\n",
       "      <td>Contextual</td>\n",
       "      <td>man associated with leadership role\\n</td>\n",
       "      <td>AA5</td>\n",
       "      <td>Biographical / Historical</td>\n",
       "      <td>7</td>\n",
       "      <td>Professor James Aitken White was a leading Sco...</td>\n",
       "      <td>Masculine</td>\n",
       "    </tr>\n",
       "    <tr>\n",
       "      <th>70361</th>\n",
       "      <td>Annotator 3</td>\n",
       "      <td>AA6_00100.ann</td>\n",
       "      <td>T14</td>\n",
       "      <td>Stereotype</td>\n",
       "      <td>655</td>\n",
       "      <td>675</td>\n",
       "      <td>to William and Agnes</td>\n",
       "      <td>Contextual</td>\n",
       "      <td>male family members prioritised\\n</td>\n",
       "      <td>AA6</td>\n",
       "      <td>Biographical / Historical</td>\n",
       "      <td>49</td>\n",
       "      <td>Rev Thomas Allan was born on 16 August 1916 in...</td>\n",
       "      <td>Masculine</td>\n",
       "    </tr>\n",
       "    <tr>\n",
       "      <th>70362</th>\n",
       "      <td>Annotator 3</td>\n",
       "      <td>AA6_00100.ann</td>\n",
       "      <td>T15</td>\n",
       "      <td>Stereotype</td>\n",
       "      <td>810</td>\n",
       "      <td>836</td>\n",
       "      <td>first class honours degree</td>\n",
       "      <td>Contextual</td>\n",
       "      <td>honour or achievement held by man\\n</td>\n",
       "      <td>AA6</td>\n",
       "      <td>Biographical / Historical</td>\n",
       "      <td>61</td>\n",
       "      <td>Rev Thomas Allan was born on 16 August 1916 in...</td>\n",
       "      <td>Masculine</td>\n",
       "    </tr>\n",
       "    <tr>\n",
       "      <th>70363</th>\n",
       "      <td>Annotator 3</td>\n",
       "      <td>AA6_00100.ann</td>\n",
       "      <td>T11</td>\n",
       "      <td>Stereotype</td>\n",
       "      <td>1039</td>\n",
       "      <td>1067</td>\n",
       "      <td>Tom Allan married Jane Moore</td>\n",
       "      <td>Contextual</td>\n",
       "      <td>marriage - man listed as active party\\n</td>\n",
       "      <td>AA6</td>\n",
       "      <td>Biographical / Historical</td>\n",
       "      <td>71</td>\n",
       "      <td>Rev Thomas Allan was born on 16 August 1916 in...</td>\n",
       "      <td>Unclear</td>\n",
       "    </tr>\n",
       "  </tbody>\n",
       "</table>\n",
       "</div>"
      ],
      "text/plain": [
       "         annotator           file entity       label  start   end  \\\n",
       "76483  Annotator 4  AA5_00100.ann     T7  Stereotype     34    63   \n",
       "76485  Annotator 4  AA5_00100.ann    T15  Stereotype    696   723   \n",
       "70361  Annotator 3  AA6_00100.ann    T14  Stereotype    655   675   \n",
       "70362  Annotator 3  AA6_00100.ann    T15  Stereotype    810   836   \n",
       "70363  Annotator 3  AA6_00100.ann    T11  Stereotype   1039  1067   \n",
       "\n",
       "                                text    category  \\\n",
       "76483  The Very Rev Prof James Whyte  Contextual   \n",
       "76485    leading Scottish Theologian  Contextual   \n",
       "70361           to William and Agnes  Contextual   \n",
       "70362     first class honours degree  Contextual   \n",
       "70363   Tom Allan married Jane Moore  Contextual   \n",
       "\n",
       "                                                    note eadid  \\\n",
       "76483  form of address characteristic of male homosoc...   AA5   \n",
       "76485              man associated with leadership role\\n   AA5   \n",
       "70361                  male family members prioritised\\n   AA6   \n",
       "70362                honour or achievement held by man\\n   AA6   \n",
       "70363            marriage - man listed as active party\\n   AA6   \n",
       "\n",
       "                           field  id  \\\n",
       "76483                      Title   0   \n",
       "76485  Biographical / Historical   7   \n",
       "70361  Biographical / Historical  49   \n",
       "70362  Biographical / Historical  61   \n",
       "70363  Biographical / Historical  71   \n",
       "\n",
       "                                                  field2 associated_genders  \n",
       "76483  Papers of The Very Rev Prof James Whyte (1920-...          Masculine  \n",
       "76485  Professor James Aitken White was a leading Sco...          Masculine  \n",
       "70361  Rev Thomas Allan was born on 16 August 1916 in...          Masculine  \n",
       "70362  Rev Thomas Allan was born on 16 August 1916 in...          Masculine  \n",
       "70363  Rev Thomas Allan was born on 16 August 1916 in...            Unclear  "
      ]
     },
     "execution_count": 34,
     "metadata": {},
     "output_type": "execute_result"
    }
   ],
   "source": [
    "# Add the genders associated with each stereotype to the DataFrame\n",
    "df_ste.insert(len(df_ste.columns), \"associated_genders\", genders)\n",
    "df_ste.head()"
   ]
  },
  {
   "cell_type": "markdown",
   "metadata": {},
   "source": [
    "<div class=\"alert alert-success\">\n",
    "    <b>To Review Later:</b>\n",
    "</div>"
   ]
  },
  {
   "cell_type": "code",
   "execution_count": 35,
   "metadata": {},
   "outputs": [],
   "source": [
    "other_ste = df_ste.loc[df_ste.associated_genders == \"Unknown\"]\n",
    "other_ste.to_csv(\"analysis_data/unknown_stereotypes.csv\")"
   ]
  },
  {
   "cell_type": "markdown",
   "metadata": {},
   "source": [
    "#### 2.2.1: Types of Stereotypes\n",
    "\n",
    "Normalize the text in the `note` column:"
   ]
  },
  {
   "cell_type": "code",
   "execution_count": 36,
   "metadata": {},
   "outputs": [
    {
     "name": "stdout",
     "output_type": "stream",
     "text": [
      "['form of address characteristic of male homosocial group bonding', 'man associated with leadership role', 'male family members prioritised']\n"
     ]
    }
   ],
   "source": [
    "notes = list(df_ste.note)\n",
    "notes = [note.lower().strip() for note in notes]\n",
    "texts = list(df_ste.text)\n",
    "texts = [text.lower().strip() for text in texts]\n",
    "print(notes[:3])\n",
    "# # Get the note (annotator's rationale) for the stereotype labels\n",
    "# notes0 = list(df_ste0.note)\n",
    "# notes3 = list(df_ste3.note)\n",
    "# notes4 = list(df_ste4.note)\n",
    "# # Lowercase all the text\n",
    "# notes0 = [note.lower() for note in notes0]\n",
    "# notes3 = [note.lower() for note in notes3]\n",
    "# notes4 = [note.lower() for note in notes4]"
   ]
  },
  {
   "cell_type": "markdown",
   "metadata": {},
   "source": [
    "Replace the `note` column with the normalized text:"
   ]
  },
  {
   "cell_type": "code",
   "execution_count": 40,
   "metadata": {},
   "outputs": [],
   "source": [
    "df_ste[\"note\"] = notes"
   ]
  },
  {
   "cell_type": "markdown",
   "metadata": {},
   "source": [
    "Remove empty notes:"
   ]
  },
  {
   "cell_type": "code",
   "execution_count": 38,
   "metadata": {},
   "outputs": [
    {
     "name": "stdout",
     "output_type": "stream",
     "text": [
      "Count of all Stereotype notes: 3146\n"
     ]
    }
   ],
   "source": [
    "filled_notes = [n for n in notes if n != \"\"]\n",
    "assert len(filled_notes) < len(notes)\n",
    "print(\"Count of all Stereotype notes:\", len(filled_notes))"
   ]
  },
  {
   "cell_type": "markdown",
   "metadata": {},
   "source": [
    "Find the number of unique notes:"
   ]
  },
  {
   "cell_type": "code",
   "execution_count": 39,
   "metadata": {},
   "outputs": [
    {
     "name": "stdout",
     "output_type": "stream",
     "text": [
      "Count of unique Stereotype notes: 203\n"
     ]
    }
   ],
   "source": [
    "unique_notes = set(filled_notes)\n",
    "print(\"Count of unique Stereotype notes:\", len(unique_notes))"
   ]
  },
  {
   "cell_type": "markdown",
   "metadata": {},
   "source": [
    "Interesting!  There must be a lot of repetition in the types of notes.  Let's export them to review manually and see if we can categorize them into types of stereotypes."
   ]
  },
  {
   "cell_type": "code",
   "execution_count": 52,
   "metadata": {},
   "outputs": [
    {
     "data": {
      "text/html": [
       "<div>\n",
       "<style scoped>\n",
       "    .dataframe tbody tr th:only-of-type {\n",
       "        vertical-align: middle;\n",
       "    }\n",
       "\n",
       "    .dataframe tbody tr th {\n",
       "        vertical-align: top;\n",
       "    }\n",
       "\n",
       "    .dataframe thead th {\n",
       "        text-align: right;\n",
       "    }\n",
       "</style>\n",
       "<table border=\"1\" class=\"dataframe\">\n",
       "  <thead>\n",
       "    <tr style=\"text-align: right;\">\n",
       "      <th></th>\n",
       "      <th>note</th>\n",
       "      <th>associated_genders</th>\n",
       "      <th>text</th>\n",
       "      <th>id</th>\n",
       "    </tr>\n",
       "  </thead>\n",
       "  <tbody>\n",
       "    <tr>\n",
       "      <th>0</th>\n",
       "      <td></td>\n",
       "      <td>Masculine</td>\n",
       "      <td>[Also in 1896 he married Ellen Milne McCulloch...</td>\n",
       "      <td>[4913, 52151, 52289, 53472, 59241]</td>\n",
       "    </tr>\n",
       "    <tr>\n",
       "      <th>1</th>\n",
       "      <td></td>\n",
       "      <td>Multiple</td>\n",
       "      <td>[Letters to Florence Jewel Baillie from her mo...</td>\n",
       "      <td>[1205]</td>\n",
       "    </tr>\n",
       "    <tr>\n",
       "      <th>2</th>\n",
       "      <td></td>\n",
       "      <td>Unclear</td>\n",
       "      <td>[a man]</td>\n",
       "      <td>[57896]</td>\n",
       "    </tr>\n",
       "    <tr>\n",
       "      <th>3</th>\n",
       "      <td>\"he had his sons\" rather than \"they had their ...</td>\n",
       "      <td>Multiple</td>\n",
       "      <td>[married Annie Macpherson, by whom he had his ...</td>\n",
       "      <td>[3447]</td>\n",
       "    </tr>\n",
       "    <tr>\n",
       "      <th>4</th>\n",
       "      <td>a woman \"acted as\" rather than was a clinical ...</td>\n",
       "      <td>Multiple</td>\n",
       "      <td>[acted as a]</td>\n",
       "      <td>[13554]</td>\n",
       "    </tr>\n",
       "  </tbody>\n",
       "</table>\n",
       "</div>"
      ],
      "text/plain": [
       "                                                note associated_genders  \\\n",
       "0                                                             Masculine   \n",
       "1                                                              Multiple   \n",
       "2                                                               Unclear   \n",
       "3  \"he had his sons\" rather than \"they had their ...           Multiple   \n",
       "4  a woman \"acted as\" rather than was a clinical ...           Multiple   \n",
       "\n",
       "                                                text  \\\n",
       "0  [Also in 1896 he married Ellen Milne McCulloch...   \n",
       "1  [Letters to Florence Jewel Baillie from her mo...   \n",
       "2                                            [a man]   \n",
       "3  [married Annie Macpherson, by whom he had his ...   \n",
       "4                                       [acted as a]   \n",
       "\n",
       "                                   id  \n",
       "0  [4913, 52151, 52289, 53472, 59241]  \n",
       "1                              [1205]  \n",
       "2                             [57896]  \n",
       "3                              [3447]  \n",
       "4                             [13554]  "
      ]
     },
     "execution_count": 52,
     "metadata": {},
     "output_type": "execute_result"
    }
   ],
   "source": [
    "small_df = pd.DataFrame({\"id\":df_ste.id, \"note\":df_ste.note, \"text\":df_ste.text, \"associated_genders\":df_ste.associated_genders})\n",
    "grouped = (small_df.groupby([\"note\", \"associated_genders\"]).agg({\"text\":lambda x:x.tolist(), \"id\":lambda x:x.tolist()})).reset_index()\n",
    "grouped.head()"
   ]
  },
  {
   "cell_type": "code",
   "execution_count": 53,
   "metadata": {},
   "outputs": [
    {
     "name": "stdout",
     "output_type": "stream",
     "text": [
      "(246, 4)\n"
     ]
    }
   ],
   "source": [
    "print(grouped.shape)"
   ]
  },
  {
   "cell_type": "code",
   "execution_count": 54,
   "metadata": {},
   "outputs": [],
   "source": [
    "grouped.to_csv(\"analysis_data/all_stereotype_note_groups.csv\") # File of grouped stereotype notes across all annotators' data"
   ]
  },
  {
   "cell_type": "code",
   "execution_count": null,
   "metadata": {},
   "outputs": [],
   "source": [
    "# # Make one DataFrame per annotator (0, 3 and 4)\n",
    "# anns = [0, 3, 4]\n",
    "# df_ste0 = df_ste.loc[df_ste.annotator == anns[0]]\n",
    "# df_ste3 = df_ste.loc[df_ste.annotator == anns[1]]\n",
    "# df_ste4 = df_ste.loc[df_ste.annotator == anns[2]]\n",
    "# # Print the rows (label counts) per annotator\n",
    "# print(df_ste0.shape[0], df_ste3.shape[0], df_ste4.shape[0])"
   ]
  }
 ],
 "metadata": {
  "kernelspec": {
   "display_name": "Python 3",
   "language": "python",
   "name": "python3"
  },
  "language_info": {
   "codemirror_mode": {
    "name": "ipython",
    "version": 3
   },
   "file_extension": ".py",
   "mimetype": "text/x-python",
   "name": "python",
   "nbconvert_exporter": "python",
   "pygments_lexer": "ipython3",
   "version": "3.8.10"
  }
 },
 "nbformat": 4,
 "nbformat_minor": 4
}

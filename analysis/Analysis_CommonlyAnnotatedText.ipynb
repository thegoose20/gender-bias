{
 "cells": [
  {
   "cell_type": "markdown",
   "metadata": {},
   "source": [
    "# Analysis: Commonly Annotated Text \n",
    "## Post Annotation and Aggregation\n",
    "\n",
    "***\n",
    "\n",
    "**Table of Contents**\n",
    "\n",
    "[0.](#0) Loading\n",
    "\n",
    "[1.](#1) Common text and metadata field annotated per label\n",
    "    \n",
    "  * [1.1](#Omission) Omission\n",
    "  * [1.2](#Stereotype) Stereotype\n",
    "  * [1.3](#Generalization) Generalization\n",
    "  * [1.4](#GR) Gendered Role\n",
    "  \n",
    "[2.](#2) Save the data to CSVs\n",
    "\n",
    "***\n",
    "\n",
    "### 0. Loading\n",
    "First, begin by loading Python programming libraries and the dataset to be analyzed."
   ]
  },
  {
   "cell_type": "code",
   "execution_count": 89,
   "metadata": {},
   "outputs": [],
   "source": [
    "import pandas as pd\n",
    "import csv"
   ]
  },
  {
   "cell_type": "code",
   "execution_count": 90,
   "metadata": {},
   "outputs": [],
   "source": [
    "dir_path = \"data/\"\n",
    "data_files = [\"aggregated_final.csv\", \"aggregated_with_annotator_eadid_note_cols.csv\", \n",
    "              \"aggregated_with_eadid_descid_cols.csv\", \"all_escriptions.csv\"]\n",
    "analysis_path = \"analysis_data/\""
   ]
  },
  {
   "cell_type": "code",
   "execution_count": 91,
   "metadata": {},
   "outputs": [
    {
     "data": {
      "text/html": [
       "<div>\n",
       "<style scoped>\n",
       "    .dataframe tbody tr th:only-of-type {\n",
       "        vertical-align: middle;\n",
       "    }\n",
       "\n",
       "    .dataframe tbody tr th {\n",
       "        vertical-align: top;\n",
       "    }\n",
       "\n",
       "    .dataframe thead th {\n",
       "        text-align: right;\n",
       "    }\n",
       "</style>\n",
       "<table border=\"1\" class=\"dataframe\">\n",
       "  <thead>\n",
       "    <tr style=\"text-align: right;\">\n",
       "      <th></th>\n",
       "      <th>file</th>\n",
       "      <th>offsets</th>\n",
       "      <th>text</th>\n",
       "      <th>label</th>\n",
       "      <th>category</th>\n",
       "      <th>eadid</th>\n",
       "      <th>field</th>\n",
       "      <th>id</th>\n",
       "      <th>desc_id</th>\n",
       "    </tr>\n",
       "  </thead>\n",
       "  <tbody>\n",
       "    <tr>\n",
       "      <th>9</th>\n",
       "      <td>AA5_00100.ann</td>\n",
       "      <td>(1032, 1043)</td>\n",
       "      <td>James Whyte</td>\n",
       "      <td>Masculine</td>\n",
       "      <td>Person-Name</td>\n",
       "      <td>AA5</td>\n",
       "      <td>Biographical / Historical</td>\n",
       "      <td>0</td>\n",
       "      <td>0</td>\n",
       "    </tr>\n",
       "    <tr>\n",
       "      <th>16</th>\n",
       "      <td>AA5_00100.ann</td>\n",
       "      <td>(1129, 1177)</td>\n",
       "      <td>chair of practical theology and Christian ethics</td>\n",
       "      <td>Occupation</td>\n",
       "      <td>Contextual</td>\n",
       "      <td>AA5</td>\n",
       "      <td>Biographical / Historical</td>\n",
       "      <td>1</td>\n",
       "      <td>0</td>\n",
       "    </tr>\n",
       "    <tr>\n",
       "      <th>4</th>\n",
       "      <td>AA5_00100.ann</td>\n",
       "      <td>(1217, 1219)</td>\n",
       "      <td>he</td>\n",
       "      <td>Gendered-Pronoun</td>\n",
       "      <td>Linguistic</td>\n",
       "      <td>AA5</td>\n",
       "      <td>Biographical / Historical</td>\n",
       "      <td>2</td>\n",
       "      <td>0</td>\n",
       "    </tr>\n",
       "    <tr>\n",
       "      <th>5</th>\n",
       "      <td>AA5_00100.ann</td>\n",
       "      <td>(1241, 1244)</td>\n",
       "      <td>His</td>\n",
       "      <td>Gendered-Pronoun</td>\n",
       "      <td>Linguistic</td>\n",
       "      <td>AA5</td>\n",
       "      <td>Biographical / Historical</td>\n",
       "      <td>3</td>\n",
       "      <td>0</td>\n",
       "    </tr>\n",
       "    <tr>\n",
       "      <th>6</th>\n",
       "      <td>AA5_00100.ann</td>\n",
       "      <td>(1315, 1317)</td>\n",
       "      <td>he</td>\n",
       "      <td>Gendered-Pronoun</td>\n",
       "      <td>Linguistic</td>\n",
       "      <td>AA5</td>\n",
       "      <td>Biographical / Historical</td>\n",
       "      <td>4</td>\n",
       "      <td>0</td>\n",
       "    </tr>\n",
       "  </tbody>\n",
       "</table>\n",
       "</div>"
      ],
      "text/plain": [
       "             file       offsets  \\\n",
       "9   AA5_00100.ann  (1032, 1043)   \n",
       "16  AA5_00100.ann  (1129, 1177)   \n",
       "4   AA5_00100.ann  (1217, 1219)   \n",
       "5   AA5_00100.ann  (1241, 1244)   \n",
       "6   AA5_00100.ann  (1315, 1317)   \n",
       "\n",
       "                                                text             label  \\\n",
       "9                                        James Whyte         Masculine   \n",
       "16  chair of practical theology and Christian ethics        Occupation   \n",
       "4                                                 he  Gendered-Pronoun   \n",
       "5                                                His  Gendered-Pronoun   \n",
       "6                                                 he  Gendered-Pronoun   \n",
       "\n",
       "       category eadid                      field  id  desc_id  \n",
       "9   Person-Name   AA5  Biographical / Historical   0        0  \n",
       "16   Contextual   AA5  Biographical / Historical   1        0  \n",
       "4    Linguistic   AA5  Biographical / Historical   2        0  \n",
       "5    Linguistic   AA5  Biographical / Historical   3        0  \n",
       "6    Linguistic   AA5  Biographical / Historical   4        0  "
      ]
     },
     "execution_count": 91,
     "metadata": {},
     "output_type": "execute_result"
    }
   ],
   "source": [
    "df = pd.read_csv(dir_path+data_files[2], index_col=0)\n",
    "df.head()"
   ]
  },
  {
   "cell_type": "code",
   "execution_count": 92,
   "metadata": {},
   "outputs": [
    {
     "name": "stdout",
     "output_type": "stream",
     "text": [
      "Rows: 55260 \n",
      "Columns: 9\n"
     ]
    }
   ],
   "source": [
    "print(\"Rows:\",df.shape[0], \"\\nColumns:\",df.shape[1])"
   ]
  },
  {
   "cell_type": "markdown",
   "metadata": {},
   "source": [
    "<a id=\"1\"></a>\n",
    "### 1. Common Text Annotated Per Label\n",
    "\n",
    "Determine what the most frequently annotated text spans are for particular labels, as well as the type of description (metadata field) in which particular labels were applied. "
   ]
  },
  {
   "cell_type": "code",
   "execution_count": 93,
   "metadata": {},
   "outputs": [],
   "source": [
    "metadata_field_names = [\"Scope and Contents\", \"Biographical / Historical\", \n",
    "                        \"Title\", \"Processing Information\"]\n",
    "\n",
    "def getFieldRatios(df_field_values):\n",
    "    total = sum(df_field_values)\n",
    "    ratios = []\n",
    "    for v in df_field_values:\n",
    "        ratios += [v/total]\n",
    "    return ratios\n",
    "\n",
    "def getValueCountsDataFrame(label_series, label_name):\n",
    "    df = pd.DataFrame(label_series)\n",
    "    df = df.reset_index()\n",
    "    df = df.rename(columns={\"index\":\"text\", \"text\":\"occurrence\"})\n",
    "    df.insert(len(df.columns), \"label\", [label_name]*df.shape[0])\n",
    "    return df"
   ]
  },
  {
   "cell_type": "markdown",
   "metadata": {},
   "source": [
    "<a id=\"Omission\"></a>\n",
    "#### 1.1 Omission"
   ]
  },
  {
   "cell_type": "code",
   "execution_count": 94,
   "metadata": {},
   "outputs": [
    {
     "data": {
      "text/plain": [
       "(7586, 9)"
      ]
     },
     "execution_count": 94,
     "metadata": {},
     "output_type": "execute_result"
    }
   ],
   "source": [
    "df_om = df.loc[df.label == \"Omission\"]\n",
    "df_om.shape"
   ]
  },
  {
   "cell_type": "code",
   "execution_count": 95,
   "metadata": {},
   "outputs": [
    {
     "data": {
      "text/html": [
       "<div>\n",
       "<style scoped>\n",
       "    .dataframe tbody tr th:only-of-type {\n",
       "        vertical-align: middle;\n",
       "    }\n",
       "\n",
       "    .dataframe tbody tr th {\n",
       "        vertical-align: top;\n",
       "    }\n",
       "\n",
       "    .dataframe thead th {\n",
       "        text-align: right;\n",
       "    }\n",
       "</style>\n",
       "<table border=\"1\" class=\"dataframe\">\n",
       "  <thead>\n",
       "    <tr style=\"text-align: right;\">\n",
       "      <th></th>\n",
       "      <th>text</th>\n",
       "      <th>occurrence</th>\n",
       "      <th>label</th>\n",
       "    </tr>\n",
       "  </thead>\n",
       "  <tbody>\n",
       "    <tr>\n",
       "      <th>0</th>\n",
       "      <td>Thomson</td>\n",
       "      <td>981</td>\n",
       "      <td>Omission</td>\n",
       "    </tr>\n",
       "    <tr>\n",
       "      <th>1</th>\n",
       "      <td>Ledermann</td>\n",
       "      <td>351</td>\n",
       "      <td>Omission</td>\n",
       "    </tr>\n",
       "    <tr>\n",
       "      <th>2</th>\n",
       "      <td>a man</td>\n",
       "      <td>286</td>\n",
       "      <td>Omission</td>\n",
       "    </tr>\n",
       "    <tr>\n",
       "      <th>3</th>\n",
       "      <td>Beale</td>\n",
       "      <td>220</td>\n",
       "      <td>Omission</td>\n",
       "    </tr>\n",
       "    <tr>\n",
       "      <th>4</th>\n",
       "      <td>Beatty</td>\n",
       "      <td>146</td>\n",
       "      <td>Omission</td>\n",
       "    </tr>\n",
       "  </tbody>\n",
       "</table>\n",
       "</div>"
      ],
      "text/plain": [
       "        text  occurrence     label\n",
       "0    Thomson         981  Omission\n",
       "1  Ledermann         351  Omission\n",
       "2      a man         286  Omission\n",
       "3      Beale         220  Omission\n",
       "4     Beatty         146  Omission"
      ]
     },
     "execution_count": 95,
     "metadata": {},
     "output_type": "execute_result"
    }
   ],
   "source": [
    "om_text = df_om.text.value_counts(sort=True, ascending=False)\n",
    "df_om_text = getValueCountsDataFrame(om_text, \"Omission\")\n",
    "df_om_text.head()"
   ]
  },
  {
   "cell_type": "code",
   "execution_count": 96,
   "metadata": {},
   "outputs": [
    {
     "data": {
      "text/plain": [
       "Biographical / Historical     631\n",
       "Processing Information          3\n",
       "Scope and Contents           5480\n",
       "Title                        1472\n",
       "Name: field, dtype: int64"
      ]
     },
     "execution_count": 96,
     "metadata": {},
     "output_type": "execute_result"
    }
   ],
   "source": [
    "df_om_field = df_om.field.value_counts()\n",
    "df_om_field.sort_index(inplace=True)\n",
    "df_om_field_values = df_om_field.values\n",
    "df_om_field"
   ]
  },
  {
   "cell_type": "code",
   "execution_count": 97,
   "metadata": {},
   "outputs": [],
   "source": [
    "om_ratios = getFieldRatios(df_om_field_values)"
   ]
  },
  {
   "cell_type": "markdown",
   "metadata": {},
   "source": [
    "<a id=\"Stereotype\"></a>\n",
    "#### 1.2 Stereotype"
   ]
  },
  {
   "cell_type": "code",
   "execution_count": 98,
   "metadata": {},
   "outputs": [
    {
     "data": {
      "text/plain": [
       "(2648, 9)"
      ]
     },
     "execution_count": 98,
     "metadata": {},
     "output_type": "execute_result"
    }
   ],
   "source": [
    "df_st = df.loc[df.label == \"Stereotype\"]\n",
    "df_st.shape"
   ]
  },
  {
   "cell_type": "code",
   "execution_count": 99,
   "metadata": {},
   "outputs": [
    {
     "data": {
      "text/html": [
       "<div>\n",
       "<style scoped>\n",
       "    .dataframe tbody tr th:only-of-type {\n",
       "        vertical-align: middle;\n",
       "    }\n",
       "\n",
       "    .dataframe tbody tr th {\n",
       "        vertical-align: top;\n",
       "    }\n",
       "\n",
       "    .dataframe thead th {\n",
       "        text-align: right;\n",
       "    }\n",
       "</style>\n",
       "<table border=\"1\" class=\"dataframe\">\n",
       "  <thead>\n",
       "    <tr style=\"text-align: right;\">\n",
       "      <th></th>\n",
       "      <th>text</th>\n",
       "      <th>occurrence</th>\n",
       "      <th>label</th>\n",
       "    </tr>\n",
       "  </thead>\n",
       "  <tbody>\n",
       "    <tr>\n",
       "      <th>0</th>\n",
       "      <td>man</td>\n",
       "      <td>429</td>\n",
       "      <td>Stereotype</td>\n",
       "    </tr>\n",
       "    <tr>\n",
       "      <th>1</th>\n",
       "      <td>men</td>\n",
       "      <td>342</td>\n",
       "      <td>Stereotype</td>\n",
       "    </tr>\n",
       "    <tr>\n",
       "      <th>2</th>\n",
       "      <td>a man</td>\n",
       "      <td>223</td>\n",
       "      <td>Stereotype</td>\n",
       "    </tr>\n",
       "    <tr>\n",
       "      <th>3</th>\n",
       "      <td>a woman</td>\n",
       "      <td>108</td>\n",
       "      <td>Stereotype</td>\n",
       "    </tr>\n",
       "    <tr>\n",
       "      <th>4</th>\n",
       "      <td>woman</td>\n",
       "      <td>67</td>\n",
       "      <td>Stereotype</td>\n",
       "    </tr>\n",
       "  </tbody>\n",
       "</table>\n",
       "</div>"
      ],
      "text/plain": [
       "      text  occurrence       label\n",
       "0      man         429  Stereotype\n",
       "1      men         342  Stereotype\n",
       "2    a man         223  Stereotype\n",
       "3  a woman         108  Stereotype\n",
       "4    woman          67  Stereotype"
      ]
     },
     "execution_count": 99,
     "metadata": {},
     "output_type": "execute_result"
    }
   ],
   "source": [
    "st_text = df_st.text.value_counts(sort=True, ascending=False)\n",
    "df_st_text = getValueCountsDataFrame(st_text, \"Stereotype\")\n",
    "df_st_text.head()"
   ]
  },
  {
   "cell_type": "code",
   "execution_count": 100,
   "metadata": {},
   "outputs": [],
   "source": [
    "df_counts = pd.concat([df_om_text,df_st_text])"
   ]
  },
  {
   "cell_type": "code",
   "execution_count": 101,
   "metadata": {
    "scrolled": true
   },
   "outputs": [
    {
     "data": {
      "text/plain": [
       "Biographical / Historical     482\n",
       "Scope and Contents           1745\n",
       "Title                         421\n",
       "Name: field, dtype: int64"
      ]
     },
     "execution_count": 101,
     "metadata": {},
     "output_type": "execute_result"
    }
   ],
   "source": [
    "df_st_field = df_st.field.value_counts()\n",
    "df_st_field.sort_index(inplace=True)\n",
    "df_st_field_values = list(df_st_field.values)\n",
    "df_st_field"
   ]
  },
  {
   "cell_type": "code",
   "execution_count": 102,
   "metadata": {},
   "outputs": [
    {
     "data": {
      "text/plain": [
       "[482, 0, 1745, 421]"
      ]
     },
     "execution_count": 102,
     "metadata": {},
     "output_type": "execute_result"
    }
   ],
   "source": [
    "df_st_field_values.insert(1,0)\n",
    "df_st_field_values # Looks good"
   ]
  },
  {
   "cell_type": "code",
   "execution_count": 103,
   "metadata": {},
   "outputs": [],
   "source": [
    "st_ratios = getFieldRatios(df_st_field_values)"
   ]
  },
  {
   "cell_type": "markdown",
   "metadata": {},
   "source": [
    "<a id=\"Generalization\"></a>\n",
    "#### 1.3 Generalization"
   ]
  },
  {
   "cell_type": "code",
   "execution_count": 104,
   "metadata": {},
   "outputs": [
    {
     "data": {
      "text/plain": [
       "(2061, 9)"
      ]
     },
     "execution_count": 104,
     "metadata": {},
     "output_type": "execute_result"
    }
   ],
   "source": [
    "df_ge = df.loc[df.label == \"Generalization\"]\n",
    "df_ge.shape"
   ]
  },
  {
   "cell_type": "code",
   "execution_count": 105,
   "metadata": {},
   "outputs": [
    {
     "data": {
      "text/html": [
       "<div>\n",
       "<style scoped>\n",
       "    .dataframe tbody tr th:only-of-type {\n",
       "        vertical-align: middle;\n",
       "    }\n",
       "\n",
       "    .dataframe tbody tr th {\n",
       "        vertical-align: top;\n",
       "    }\n",
       "\n",
       "    .dataframe thead th {\n",
       "        text-align: right;\n",
       "    }\n",
       "</style>\n",
       "<table border=\"1\" class=\"dataframe\">\n",
       "  <thead>\n",
       "    <tr style=\"text-align: right;\">\n",
       "      <th></th>\n",
       "      <th>text</th>\n",
       "      <th>occurrence</th>\n",
       "      <th>label</th>\n",
       "    </tr>\n",
       "  </thead>\n",
       "  <tbody>\n",
       "    <tr>\n",
       "      <th>475</th>\n",
       "      <td>B.C.L.</td>\n",
       "      <td>1</td>\n",
       "      <td>Generalization</td>\n",
       "    </tr>\n",
       "    <tr>\n",
       "      <th>476</th>\n",
       "      <td>statesmen</td>\n",
       "      <td>1</td>\n",
       "      <td>Generalization</td>\n",
       "    </tr>\n",
       "    <tr>\n",
       "      <th>477</th>\n",
       "      <td>Eric Reeve</td>\n",
       "      <td>1</td>\n",
       "      <td>Generalization</td>\n",
       "    </tr>\n",
       "    <tr>\n",
       "      <th>478</th>\n",
       "      <td>Isaac Forsyth</td>\n",
       "      <td>1</td>\n",
       "      <td>Generalization</td>\n",
       "    </tr>\n",
       "    <tr>\n",
       "      <th>479</th>\n",
       "      <td>Sealwoman</td>\n",
       "      <td>1</td>\n",
       "      <td>Generalization</td>\n",
       "    </tr>\n",
       "  </tbody>\n",
       "</table>\n",
       "</div>"
      ],
      "text/plain": [
       "              text  occurrence           label\n",
       "475         B.C.L.           1  Generalization\n",
       "476      statesmen           1  Generalization\n",
       "477     Eric Reeve           1  Generalization\n",
       "478  Isaac Forsyth           1  Generalization\n",
       "479      Sealwoman           1  Generalization"
      ]
     },
     "execution_count": 105,
     "metadata": {},
     "output_type": "execute_result"
    }
   ],
   "source": [
    "ge_text = df_ge.text.value_counts(sort=True, ascending=False)\n",
    "df_ge_text = getValueCountsDataFrame(ge_text, \"Generalization\")\n",
    "df_ge_text.tail()"
   ]
  },
  {
   "cell_type": "code",
   "execution_count": 106,
   "metadata": {},
   "outputs": [],
   "source": [
    "df_counts = pd.concat([df_counts,df_ge_text])"
   ]
  },
  {
   "cell_type": "code",
   "execution_count": 107,
   "metadata": {},
   "outputs": [
    {
     "data": {
      "text/plain": [
       "Biographical / Historical     402\n",
       "Processing Information          4\n",
       "Scope and Contents           1193\n",
       "Title                         462\n",
       "Name: field, dtype: int64"
      ]
     },
     "execution_count": 107,
     "metadata": {},
     "output_type": "execute_result"
    }
   ],
   "source": [
    "df_ge_field = df_ge.field.value_counts()\n",
    "df_ge_field.sort_index(inplace=True)\n",
    "df_ge_field_values = df_ge_field.values\n",
    "df_ge_field"
   ]
  },
  {
   "cell_type": "code",
   "execution_count": 108,
   "metadata": {},
   "outputs": [],
   "source": [
    "ge_ratios = getFieldRatios(df_ge_field_values)"
   ]
  },
  {
   "cell_type": "markdown",
   "metadata": {},
   "source": [
    "<a id=\"GR\"></a>\n",
    "#### 1.4 Gendered Role"
   ]
  },
  {
   "cell_type": "code",
   "execution_count": 109,
   "metadata": {},
   "outputs": [
    {
     "data": {
      "text/plain": [
       "(3590, 9)"
      ]
     },
     "execution_count": 109,
     "metadata": {},
     "output_type": "execute_result"
    }
   ],
   "source": [
    "df_gr = df.loc[df.label == \"Gendered-Role\"]\n",
    "df_gr.shape"
   ]
  },
  {
   "cell_type": "code",
   "execution_count": 110,
   "metadata": {},
   "outputs": [
    {
     "data": {
      "text/html": [
       "<div>\n",
       "<style scoped>\n",
       "    .dataframe tbody tr th:only-of-type {\n",
       "        vertical-align: middle;\n",
       "    }\n",
       "\n",
       "    .dataframe tbody tr th {\n",
       "        vertical-align: top;\n",
       "    }\n",
       "\n",
       "    .dataframe thead th {\n",
       "        text-align: right;\n",
       "    }\n",
       "</style>\n",
       "<table border=\"1\" class=\"dataframe\">\n",
       "  <thead>\n",
       "    <tr style=\"text-align: right;\">\n",
       "      <th></th>\n",
       "      <th>text</th>\n",
       "      <th>occurrence</th>\n",
       "      <th>label</th>\n",
       "    </tr>\n",
       "  </thead>\n",
       "  <tbody>\n",
       "    <tr>\n",
       "      <th>286</th>\n",
       "      <td>boy</td>\n",
       "      <td>1</td>\n",
       "      <td>Gendered Role</td>\n",
       "    </tr>\n",
       "    <tr>\n",
       "      <th>287</th>\n",
       "      <td>master</td>\n",
       "      <td>1</td>\n",
       "      <td>Gendered Role</td>\n",
       "    </tr>\n",
       "    <tr>\n",
       "      <th>288</th>\n",
       "      <td>Femme</td>\n",
       "      <td>1</td>\n",
       "      <td>Gendered Role</td>\n",
       "    </tr>\n",
       "    <tr>\n",
       "      <th>289</th>\n",
       "      <td>Bros</td>\n",
       "      <td>1</td>\n",
       "      <td>Gendered Role</td>\n",
       "    </tr>\n",
       "    <tr>\n",
       "      <th>290</th>\n",
       "      <td>granddaughter</td>\n",
       "      <td>1</td>\n",
       "      <td>Gendered Role</td>\n",
       "    </tr>\n",
       "  </tbody>\n",
       "</table>\n",
       "</div>"
      ],
      "text/plain": [
       "              text  occurrence          label\n",
       "286            boy           1  Gendered Role\n",
       "287         master           1  Gendered Role\n",
       "288          Femme           1  Gendered Role\n",
       "289           Bros           1  Gendered Role\n",
       "290  granddaughter           1  Gendered Role"
      ]
     },
     "execution_count": 110,
     "metadata": {},
     "output_type": "execute_result"
    }
   ],
   "source": [
    "gr_text = df_gr.text.value_counts(sort=True, ascending=False)\n",
    "df_gr_text = getValueCountsDataFrame(gr_text, \"Gendered Role\")\n",
    "df_gr_text.tail()"
   ]
  },
  {
   "cell_type": "code",
   "execution_count": 111,
   "metadata": {},
   "outputs": [],
   "source": [
    "df_counts = pd.concat([df_counts,df_gr_text])"
   ]
  },
  {
   "cell_type": "code",
   "execution_count": 112,
   "metadata": {},
   "outputs": [
    {
     "data": {
      "text/plain": [
       "Biographical / Historical     774\n",
       "Processing Information          1\n",
       "Scope and Contents           2298\n",
       "Title                         517\n",
       "Name: field, dtype: int64"
      ]
     },
     "execution_count": 112,
     "metadata": {},
     "output_type": "execute_result"
    }
   ],
   "source": [
    "df_gr_field = df_gr.field.value_counts()\n",
    "df_gr_field.sort_index(inplace=True)\n",
    "df_gr_field_values = df_gr_field.values\n",
    "df_gr_field"
   ]
  },
  {
   "cell_type": "code",
   "execution_count": 113,
   "metadata": {},
   "outputs": [],
   "source": [
    "gr_ratios = getFieldRatios(df_gr_field_values)"
   ]
  },
  {
   "cell_type": "markdown",
   "metadata": {},
   "source": [
    "<a id=\"2\"></a>\n",
    "### 2. Save the data to CSVs:"
   ]
  },
  {
   "cell_type": "code",
   "execution_count": 114,
   "metadata": {},
   "outputs": [],
   "source": [
    "df_counts.to_csv(analysis_path+\"labeled_text_occurrences.csv\", index=False)"
   ]
  },
  {
   "cell_type": "code",
   "execution_count": 115,
   "metadata": {},
   "outputs": [
    {
     "data": {
      "text/html": [
       "<div>\n",
       "<style scoped>\n",
       "    .dataframe tbody tr th:only-of-type {\n",
       "        vertical-align: middle;\n",
       "    }\n",
       "\n",
       "    .dataframe tbody tr th {\n",
       "        vertical-align: top;\n",
       "    }\n",
       "\n",
       "    .dataframe thead th {\n",
       "        text-align: right;\n",
       "    }\n",
       "</style>\n",
       "<table border=\"1\" class=\"dataframe\">\n",
       "  <thead>\n",
       "    <tr style=\"text-align: right;\">\n",
       "      <th></th>\n",
       "      <th>Biographical / Historical</th>\n",
       "      <th>Processing Information</th>\n",
       "      <th>Scope and Contents</th>\n",
       "      <th>Title</th>\n",
       "    </tr>\n",
       "  </thead>\n",
       "  <tbody>\n",
       "    <tr>\n",
       "      <th>Omission Count</th>\n",
       "      <td>631.000000</td>\n",
       "      <td>3.000000</td>\n",
       "      <td>5480.000000</td>\n",
       "      <td>1472.000000</td>\n",
       "    </tr>\n",
       "    <tr>\n",
       "      <th>Omission Ratio</th>\n",
       "      <td>0.083180</td>\n",
       "      <td>0.000395</td>\n",
       "      <td>0.722383</td>\n",
       "      <td>0.194042</td>\n",
       "    </tr>\n",
       "    <tr>\n",
       "      <th>Stereotype Count</th>\n",
       "      <td>482.000000</td>\n",
       "      <td>0.000000</td>\n",
       "      <td>1745.000000</td>\n",
       "      <td>421.000000</td>\n",
       "    </tr>\n",
       "    <tr>\n",
       "      <th>Stereotype Ratio</th>\n",
       "      <td>0.182024</td>\n",
       "      <td>0.000000</td>\n",
       "      <td>0.658988</td>\n",
       "      <td>0.158988</td>\n",
       "    </tr>\n",
       "    <tr>\n",
       "      <th>Generalization Count</th>\n",
       "      <td>402.000000</td>\n",
       "      <td>4.000000</td>\n",
       "      <td>1193.000000</td>\n",
       "      <td>462.000000</td>\n",
       "    </tr>\n",
       "    <tr>\n",
       "      <th>Generalization Ratio</th>\n",
       "      <td>0.195051</td>\n",
       "      <td>0.001941</td>\n",
       "      <td>0.578845</td>\n",
       "      <td>0.224163</td>\n",
       "    </tr>\n",
       "    <tr>\n",
       "      <th>Gendered Role Count</th>\n",
       "      <td>774.000000</td>\n",
       "      <td>1.000000</td>\n",
       "      <td>2298.000000</td>\n",
       "      <td>517.000000</td>\n",
       "    </tr>\n",
       "    <tr>\n",
       "      <th>Gendered Role Ratio</th>\n",
       "      <td>0.215599</td>\n",
       "      <td>0.000279</td>\n",
       "      <td>0.640111</td>\n",
       "      <td>0.144011</td>\n",
       "    </tr>\n",
       "  </tbody>\n",
       "</table>\n",
       "</div>"
      ],
      "text/plain": [
       "                      Biographical / Historical  Processing Information  \\\n",
       "Omission Count                       631.000000                3.000000   \n",
       "Omission Ratio                         0.083180                0.000395   \n",
       "Stereotype Count                     482.000000                0.000000   \n",
       "Stereotype Ratio                       0.182024                0.000000   \n",
       "Generalization Count                 402.000000                4.000000   \n",
       "Generalization Ratio                   0.195051                0.001941   \n",
       "Gendered Role Count                  774.000000                1.000000   \n",
       "Gendered Role Ratio                    0.215599                0.000279   \n",
       "\n",
       "                      Scope and Contents        Title  \n",
       "Omission Count               5480.000000  1472.000000  \n",
       "Omission Ratio                  0.722383     0.194042  \n",
       "Stereotype Count             1745.000000   421.000000  \n",
       "Stereotype Ratio                0.658988     0.158988  \n",
       "Generalization Count         1193.000000   462.000000  \n",
       "Generalization Ratio            0.578845     0.224163  \n",
       "Gendered Role Count          2298.000000   517.000000  \n",
       "Gendered Role Ratio             0.640111     0.144011  "
      ]
     },
     "execution_count": 115,
     "metadata": {},
     "output_type": "execute_result"
    }
   ],
   "source": [
    "df = pd.DataFrame({\"Omission Count\":df_om_field.values, \"Omission Ratio\":om_ratios, \n",
    "                   \"Stereotype Count\":df_st_field_values, \"Stereotype Ratio\":st_ratios,\n",
    "                   \"Generalization Count\": df_ge_field.values, \"Generalization Ratio\":ge_ratios,\n",
    "                  \"Gendered Role Count\": df_gr_field.values, \"Gendered Role Ratio\":gr_ratios,}, \n",
    "                  index=[\"Biographical / Historical\", \"Processing Information\", \n",
    "                         \"Scope and Contents\",  \"Title\"])\n",
    "df.T"
   ]
  },
  {
   "cell_type": "code",
   "execution_count": 116,
   "metadata": {},
   "outputs": [],
   "source": [
    "df = df.T\n",
    "df.to_csv(\"analysis_data/labels_per_metadata_field.csv\")"
   ]
  },
  {
   "cell_type": "code",
   "execution_count": null,
   "metadata": {},
   "outputs": [],
   "source": []
  }
 ],
 "metadata": {
  "kernelspec": {
   "display_name": "Python 3",
   "language": "python",
   "name": "python3"
  },
  "language_info": {
   "codemirror_mode": {
    "name": "ipython",
    "version": 3
   },
   "file_extension": ".py",
   "mimetype": "text/x-python",
   "name": "python",
   "nbconvert_exporter": "python",
   "pygments_lexer": "ipython3",
   "version": "3.8.10"
  }
 },
 "nbformat": 4,
 "nbformat_minor": 4
}

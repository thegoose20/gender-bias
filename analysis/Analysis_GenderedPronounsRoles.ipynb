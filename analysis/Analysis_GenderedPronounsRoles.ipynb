{
 "cells": [
  {
   "cell_type": "markdown",
   "metadata": {},
   "source": [
    "# Analysis: Gendered Pronouns and Roles\n",
    "## Post Annotation and Aggregation\n",
    "\n",
    "A comparison of Regular Expressions and part-of-speech tagging to manual annotation for labeling gendered pronouns and gendered roles.\n",
    "\n",
    "***\n",
    "\n",
    "**Table of Contents**\n",
    "\n",
    "  [I. Loading](#load)\n",
    "\n",
    "  [II. Gendered Pronouns](#gp)\n",
    "  \n",
    "   * RegEx\n",
    "   * POS\n",
    "\n",
    "\n",
    "  [III. Gendered Roles](#gr)\n",
    "  \n",
    "   * RegEx?\n",
    "   * POS?\n",
    "\n",
    "***"
   ]
  },
  {
   "cell_type": "markdown",
   "metadata": {},
   "source": [
    "<a id=\"load\"></a>\n",
    "### I. Loading"
   ]
  },
  {
   "cell_type": "code",
   "execution_count": 1,
   "metadata": {},
   "outputs": [],
   "source": [
    "import pandas as pd\n",
    "import re\n",
    "import numpy as np"
   ]
  },
  {
   "cell_type": "markdown",
   "metadata": {},
   "source": [
    "Load the data:"
   ]
  },
  {
   "cell_type": "code",
   "execution_count": 51,
   "metadata": {},
   "outputs": [],
   "source": [
    "file_path = \"data/aggregated_with_eadid_descid_cols.csv\""
   ]
  },
  {
   "cell_type": "code",
   "execution_count": 52,
   "metadata": {},
   "outputs": [
    {
     "data": {
      "text/html": [
       "<div>\n",
       "<style scoped>\n",
       "    .dataframe tbody tr th:only-of-type {\n",
       "        vertical-align: middle;\n",
       "    }\n",
       "\n",
       "    .dataframe tbody tr th {\n",
       "        vertical-align: top;\n",
       "    }\n",
       "\n",
       "    .dataframe thead th {\n",
       "        text-align: right;\n",
       "    }\n",
       "</style>\n",
       "<table border=\"1\" class=\"dataframe\">\n",
       "  <thead>\n",
       "    <tr style=\"text-align: right;\">\n",
       "      <th></th>\n",
       "      <th>file</th>\n",
       "      <th>offsets</th>\n",
       "      <th>text</th>\n",
       "      <th>label</th>\n",
       "      <th>category</th>\n",
       "      <th>eadid</th>\n",
       "      <th>field</th>\n",
       "      <th>id</th>\n",
       "      <th>desc_id</th>\n",
       "    </tr>\n",
       "  </thead>\n",
       "  <tbody>\n",
       "    <tr>\n",
       "      <th>9</th>\n",
       "      <td>AA5_00100.ann</td>\n",
       "      <td>(1032, 1043)</td>\n",
       "      <td>James Whyte</td>\n",
       "      <td>Masculine</td>\n",
       "      <td>Person-Name</td>\n",
       "      <td>AA5</td>\n",
       "      <td>Biographical / Historical</td>\n",
       "      <td>0</td>\n",
       "      <td>0</td>\n",
       "    </tr>\n",
       "    <tr>\n",
       "      <th>16</th>\n",
       "      <td>AA5_00100.ann</td>\n",
       "      <td>(1129, 1177)</td>\n",
       "      <td>chair of practical theology and Christian ethics</td>\n",
       "      <td>Occupation</td>\n",
       "      <td>Contextual</td>\n",
       "      <td>AA5</td>\n",
       "      <td>Biographical / Historical</td>\n",
       "      <td>1</td>\n",
       "      <td>0</td>\n",
       "    </tr>\n",
       "    <tr>\n",
       "      <th>4</th>\n",
       "      <td>AA5_00100.ann</td>\n",
       "      <td>(1217, 1219)</td>\n",
       "      <td>he</td>\n",
       "      <td>Gendered-Pronoun</td>\n",
       "      <td>Linguistic</td>\n",
       "      <td>AA5</td>\n",
       "      <td>Biographical / Historical</td>\n",
       "      <td>2</td>\n",
       "      <td>0</td>\n",
       "    </tr>\n",
       "    <tr>\n",
       "      <th>5</th>\n",
       "      <td>AA5_00100.ann</td>\n",
       "      <td>(1241, 1244)</td>\n",
       "      <td>His</td>\n",
       "      <td>Gendered-Pronoun</td>\n",
       "      <td>Linguistic</td>\n",
       "      <td>AA5</td>\n",
       "      <td>Biographical / Historical</td>\n",
       "      <td>3</td>\n",
       "      <td>0</td>\n",
       "    </tr>\n",
       "    <tr>\n",
       "      <th>6</th>\n",
       "      <td>AA5_00100.ann</td>\n",
       "      <td>(1315, 1317)</td>\n",
       "      <td>he</td>\n",
       "      <td>Gendered-Pronoun</td>\n",
       "      <td>Linguistic</td>\n",
       "      <td>AA5</td>\n",
       "      <td>Biographical / Historical</td>\n",
       "      <td>4</td>\n",
       "      <td>0</td>\n",
       "    </tr>\n",
       "  </tbody>\n",
       "</table>\n",
       "</div>"
      ],
      "text/plain": [
       "             file       offsets  \\\n",
       "9   AA5_00100.ann  (1032, 1043)   \n",
       "16  AA5_00100.ann  (1129, 1177)   \n",
       "4   AA5_00100.ann  (1217, 1219)   \n",
       "5   AA5_00100.ann  (1241, 1244)   \n",
       "6   AA5_00100.ann  (1315, 1317)   \n",
       "\n",
       "                                                text             label  \\\n",
       "9                                        James Whyte         Masculine   \n",
       "16  chair of practical theology and Christian ethics        Occupation   \n",
       "4                                                 he  Gendered-Pronoun   \n",
       "5                                                His  Gendered-Pronoun   \n",
       "6                                                 he  Gendered-Pronoun   \n",
       "\n",
       "       category eadid                      field  id  desc_id  \n",
       "9   Person-Name   AA5  Biographical / Historical   0        0  \n",
       "16   Contextual   AA5  Biographical / Historical   1        0  \n",
       "4    Linguistic   AA5  Biographical / Historical   2        0  \n",
       "5    Linguistic   AA5  Biographical / Historical   3        0  \n",
       "6    Linguistic   AA5  Biographical / Historical   4        0  "
      ]
     },
     "execution_count": 52,
     "metadata": {},
     "output_type": "execute_result"
    }
   ],
   "source": [
    "df = pd.read_csv(file_path, index_col=0)\n",
    "df.head()"
   ]
  },
  {
   "cell_type": "code",
   "execution_count": 53,
   "metadata": {},
   "outputs": [
    {
     "name": "stdout",
     "output_type": "stream",
     "text": [
      "Rows: 55260\n",
      "Columns: 9\n"
     ]
    }
   ],
   "source": [
    "print(\"Rows:\",df.shape[0])\n",
    "print(\"Columns:\",df.shape[1])"
   ]
  },
  {
   "cell_type": "code",
   "execution_count": 42,
   "metadata": {},
   "outputs": [
    {
     "data": {
      "text/html": [
       "<div>\n",
       "<style scoped>\n",
       "    .dataframe tbody tr th:only-of-type {\n",
       "        vertical-align: middle;\n",
       "    }\n",
       "\n",
       "    .dataframe tbody tr th {\n",
       "        vertical-align: top;\n",
       "    }\n",
       "\n",
       "    .dataframe thead th {\n",
       "        text-align: right;\n",
       "    }\n",
       "</style>\n",
       "<table border=\"1\" class=\"dataframe\">\n",
       "  <thead>\n",
       "    <tr style=\"text-align: right;\">\n",
       "      <th></th>\n",
       "      <th>eadid</th>\n",
       "      <th>description</th>\n",
       "      <th>field</th>\n",
       "      <th>desc_id</th>\n",
       "    </tr>\n",
       "  </thead>\n",
       "  <tbody>\n",
       "    <tr>\n",
       "      <th>72618</th>\n",
       "      <td>Coll-1266</td>\n",
       "      <td>Honorary degree scroll from Leiden University,...</td>\n",
       "      <td>Title</td>\n",
       "      <td>11889</td>\n",
       "    </tr>\n",
       "    <tr>\n",
       "      <th>72620</th>\n",
       "      <td>Coll-1266</td>\n",
       "      <td>Programmes for honorary degree ceremony at the...</td>\n",
       "      <td>Title</td>\n",
       "      <td>11890</td>\n",
       "    </tr>\n",
       "    <tr>\n",
       "      <th>68537</th>\n",
       "      <td>Coll-1266</td>\n",
       "      <td>Contains honorary degree certificate and citat...</td>\n",
       "      <td>Scope and Contents</td>\n",
       "      <td>11891</td>\n",
       "    </tr>\n",
       "    <tr>\n",
       "      <th>30630</th>\n",
       "      <td>Coll-1310</td>\n",
       "      <td>\\n</td>\n",
       "      <td>Title</td>\n",
       "      <td>11892</td>\n",
       "    </tr>\n",
       "    <tr>\n",
       "      <th>73912</th>\n",
       "      <td>Coll-146</td>\n",
       "      <td>TS signed1p. At head of paper: E Gellhorn, MD ...</td>\n",
       "      <td>Scope and Contents</td>\n",
       "      <td>11893</td>\n",
       "    </tr>\n",
       "  </tbody>\n",
       "</table>\n",
       "</div>"
      ],
      "text/plain": [
       "           eadid                                        description  \\\n",
       "72618  Coll-1266  Honorary degree scroll from Leiden University,...   \n",
       "72620  Coll-1266  Programmes for honorary degree ceremony at the...   \n",
       "68537  Coll-1266  Contains honorary degree certificate and citat...   \n",
       "30630  Coll-1310                                                 \\n   \n",
       "73912   Coll-146  TS signed1p. At head of paper: E Gellhorn, MD ...   \n",
       "\n",
       "                    field  desc_id  \n",
       "72618               Title    11889  \n",
       "72620               Title    11890  \n",
       "68537  Scope and Contents    11891  \n",
       "30630               Title    11892  \n",
       "73912  Scope and Contents    11893  "
      ]
     },
     "execution_count": 42,
     "metadata": {},
     "output_type": "execute_result"
    }
   ],
   "source": [
    "desc_path = \"data/all_descriptions.csv\"\n",
    "df_desc = pd.read_csv(desc_path, index_col=0)\n",
    "df_desc.tail()"
   ]
  },
  {
   "cell_type": "markdown",
   "metadata": {},
   "source": [
    "***\n",
    "\n",
    "**TO FIX:**"
   ]
  },
  {
   "cell_type": "code",
   "execution_count": 43,
   "metadata": {},
   "outputs": [
    {
     "data": {
      "text/plain": [
       "30630    \\n\n",
       "Name: description, dtype: object"
      ]
     },
     "execution_count": 43,
     "metadata": {},
     "output_type": "execute_result"
    }
   ],
   "source": [
    "df_desc.loc[df_desc.desc_id == 11892].description"
   ]
  },
  {
   "cell_type": "markdown",
   "metadata": {},
   "source": [
    "***"
   ]
  },
  {
   "cell_type": "markdown",
   "metadata": {},
   "source": [
    "<a id=\"2\"></a>\n",
    "### II. Gendered Pronouns"
   ]
  },
  {
   "cell_type": "code",
   "execution_count": 66,
   "metadata": {},
   "outputs": [],
   "source": [
    "label = \"Gendered-Pronoun\""
   ]
  },
  {
   "cell_type": "markdown",
   "metadata": {},
   "source": [
    "#### Find the total number of `Gendered-Pronoun` labels and the count of unique text spans annotated with the label"
   ]
  },
  {
   "cell_type": "code",
   "execution_count": 67,
   "metadata": {},
   "outputs": [
    {
     "name": "stdout",
     "output_type": "stream",
     "text": [
      "Total gendered pronouns manually labeled: 4171\n"
     ]
    }
   ],
   "source": [
    "df_gp = df.loc[df.label == label]\n",
    "print(\"Total gendered pronouns manually labeled:\",df_gp.shape[0])"
   ]
  },
  {
   "cell_type": "code",
   "execution_count": 68,
   "metadata": {},
   "outputs": [
    {
     "name": "stdout",
     "output_type": "stream",
     "text": [
      "{'his': 1261, 'he': 1245, 'He': 772, 'him': 246, 'her': 229, 'His': 146, 'she': 139, 'She': 82, 'Her': 26, 'himself': 20, 'Him': 2, \"He's\": 1, 'H': 1, 'Himself': 1}\n"
     ]
    }
   ],
   "source": [
    "gp_counts = df_gp.text.value_counts()\n",
    "text = list(gp_counts.index)\n",
    "counts = list(gp_counts.values)\n",
    "gp_counts_dict = dict(zip(text,counts))\n",
    "print(gp_counts_dict)"
   ]
  },
  {
   "cell_type": "code",
   "execution_count": 69,
   "metadata": {},
   "outputs": [
    {
     "name": "stdout",
     "output_type": "stream",
     "text": [
      "{'him': 248, 'he': 2017, 'her': 255, \"he's\": 1, 'she': 221, 'himself': 21, 'his': 1407, 'h': 1}\n"
     ]
    }
   ],
   "source": [
    "gp_values = list(set(list(df_gp.text)))\n",
    "gp_values_normalized = [gp.lower() for gp in gp_values]\n",
    "gp_values_unique = list(set(list(gp_values_normalized)))\n",
    "gp_dict = dict.fromkeys(gp_values_unique)\n",
    "for key in gp_dict.keys():\n",
    "    total_count = 0\n",
    "    if key in gp_counts_dict:\n",
    "        total_count += gp_counts_dict[key]\n",
    "    if key.capitalize() in gp_counts_dict:\n",
    "        total_count += gp_counts_dict[key.capitalize()]\n",
    "    gp_dict[key] = total_count\n",
    "print(gp_dict)"
   ]
  },
  {
   "cell_type": "markdown",
   "metadata": {},
   "source": [
    "#### Automatically Identify Gendered Pronouns"
   ]
  },
  {
   "cell_type": "markdown",
   "metadata": {},
   "source": [
    "First, split the descriptions into words.  Then, try three approaches to searching for matching strings."
   ]
  },
  {
   "cell_type": "code",
   "execution_count": 70,
   "metadata": {},
   "outputs": [
    {
     "name": "stdout",
     "output_type": "stream",
     "text": [
      "[['Professor', 'James', 'Aitken', 'White', 'was', 'a', 'leading', 'Scottish', 'Theologian', 'and', 'Moderator', 'of', 'the', 'General', 'Assembly', 'of', 'the', 'Church', 'of', 'Scotland.', 'He', 'was', 'educated', 'at', 'Daniel', \"Stewart's\", 'College', 'and', 'the', 'University', 'of', 'Edinburgh', 'where', 'he', 'studied', 'philosophy', 'and', 'divinity.', 'After', 'his', 'ordination', 'he', 'spent', 'three', 'years', 'as', 'an', 'army', 'Chaplain', 'and', 'then', 'in', '1948', 'was', 'inducted', 'to', 'Dunollie', 'Road', 'Church', 'in', 'Oban.', 'James', 'Whyte', 'moved', 'to', 'Mayfield', 'North', 'Church', 'in', 'Edinburgh', 'in', '1954', 'and', 'in', '1958', 'was', 'appointed', 'to', 'the', 'chair', 'of', 'practical', 'theology', 'and', 'Christian', 'ethics', 'at', 'the', 'University', 'of', 'St', \"Andrew's\", 'where', 'he', 'remained', 'until', '1987.', 'His', 'primary', 'interests', 'were', 'in', 'liturgy', 'and', 'ecclesiastical', 'architecture', 'and', 'he', 'also', 'lectured', 'on', 'pastoral', 'care.\\nJames', 'Whyte', 'was', 'called', 'upon', 'to', 'preach', 'at', 'the', 'memorial', 'service', 'for', 'the', 'victims', 'of', 'the', 'Lockerbie', 'disaster', 'on', '4th', 'January', '1989.', 'The', 'service', 'was', 'relayed', 'around', 'the', 'world', 'and', 'was', 'widely', 'cited', 'in', 'the', 'press', 'having', 'had', 'a', 'great', 'impact.', 'The', 'full', 'text', 'of', 'this', 'sermon', 'was', 'published', 'in', 'Laughter', 'and', 'Tears:', 'Thoughts', 'on', 'Faith', 'in', 'the', 'Face', 'of', 'Suffering', '(Edinburgh,', 'St', \"Andrew's\", 'Press,', '1993).'], ['Papers', 'of', 'The', 'Very', 'Rev', 'Prof', 'James', 'Whyte', '(1920-2005)\\n\\n']]\n"
     ]
    }
   ],
   "source": [
    "descs = list(df_desc.description)\n",
    "descs_split = [d.split(\" \") for d in descs]\n",
    "print(descs_split[:2])"
   ]
  },
  {
   "cell_type": "markdown",
   "metadata": {},
   "source": [
    "**Approach 1:** Define RegEx patterns:"
   ]
  },
  {
   "cell_type": "code",
   "execution_count": 71,
   "metadata": {},
   "outputs": [],
   "source": [
    "pattern1 = re.compile(\"^[hx][ei][rsm](self)*$\")\n",
    "pattern2 = re.compile(\"^s*[xh]e('s)*$\")\n",
    "pattern_list = [pattern1, pattern2]"
   ]
  },
  {
   "cell_type": "markdown",
   "metadata": {},
   "source": [
    "Count matches with the patterns:"
   ]
  },
  {
   "cell_type": "code",
   "execution_count": 72,
   "metadata": {},
   "outputs": [],
   "source": [
    "def addMatch(ismatch, matches):\n",
    "    if ismatch != None:\n",
    "        matched_word = ismatch[0]\n",
    "        if matched_word in matches.keys():\n",
    "            matches[matched_word] += 1\n",
    "        else:\n",
    "            matches[matched_word] = 1\n",
    "    return matches\n",
    "\n",
    "def checkForMatch(text, matches, patterns):\n",
    "    for pattern in patterns:\n",
    "        ismatch = pattern.match(text)\n",
    "        matches = addMatch(ismatch, matches) \n",
    "    return matches\n",
    "\n",
    "def countMatches(descs,patterns):\n",
    "    matches = dict()\n",
    "    for desc in descs:\n",
    "        if type(desc) == list:\n",
    "            for word in desc:\n",
    "                if len(word) > 1:\n",
    "                    word_uncapitalized = word[0].lower() + word[1:]\n",
    "                else:\n",
    "                    word_uncapitalized = word.lower()\n",
    "                matches = checkForMatch(word_uncapitalized, matches, patterns)                \n",
    "        elif type(desc) == str:\n",
    "            desc = desc.lower()\n",
    "            matches = checkForMatch(desc, matches, patterns)\n",
    "        else:\n",
    "            raise ValueError\n",
    "    return matches \n"
   ]
  },
  {
   "cell_type": "code",
   "execution_count": 73,
   "metadata": {},
   "outputs": [
    {
     "name": "stdout",
     "output_type": "stream",
     "text": [
      "{'he': 2193, 'his': 1520, 'himself': 32, 'her': 298, 'she': 274, 'him': 223, 'herself': 2, \"he's\": 2}\n",
      "Total: 4544\n"
     ]
    }
   ],
   "source": [
    "matches = countMatches(descs_split,pattern_list)\n",
    "print(matches)\n",
    "print(\"Total:\",np.asarray(list(matches.values())).sum())"
   ]
  },
  {
   "cell_type": "markdown",
   "metadata": {},
   "source": [
    "**Approach 2:** Try specific words represented in RegEx:"
   ]
  },
  {
   "cell_type": "code",
   "execution_count": 74,
   "metadata": {},
   "outputs": [],
   "source": [
    "words_pattern = re.compile(\"his|hers|himself|herself|hm|he's|she's|she|he|him|her\")"
   ]
  },
  {
   "cell_type": "code",
   "execution_count": 75,
   "metadata": {},
   "outputs": [
    {
     "name": "stdout",
     "output_type": "stream",
     "text": [
      "{'he': 4752, 'his': 1815, 'himself': 38, 'she': 969, 'him': 270, 'hers': 14, \"he's\": 2}\n",
      "Total: 7860\n"
     ]
    }
   ],
   "source": [
    "word_matches = countMatches(descs_split,[words_pattern])\n",
    "print(word_matches)\n",
    "print(\"Total:\",np.asarray(list(word_matches.values())).sum())"
   ]
  },
  {
   "cell_type": "markdown",
   "metadata": {},
   "source": [
    "**Approach 3:** Try a word list:"
   ]
  },
  {
   "cell_type": "code",
   "execution_count": 76,
   "metadata": {},
   "outputs": [
    {
     "name": "stdout",
     "output_type": "stream",
     "text": [
      "{'his': 821, 'hers': 0, 'himself': 31, 'herself': 2, 'hm': 3, \"he's\": 2, \"she's\": 0, 'she': 92, 'he': 560, 'him': 171, 'her': 193}\n",
      "Total: 1875\n"
     ]
    }
   ],
   "source": [
    "gendered_pronouns = [\"his\",\"hers\",\"himself\",\"herself\",\"hm\",\"he's\",\"she's\",\"she\",\"he\",\"him\",\"her\"]\n",
    "list_matches = dict.fromkeys(gendered_pronouns, 0)\n",
    "for desc in descs_split:\n",
    "    desc_lowercased = [word.lower() for word in desc]\n",
    "    for gp in gendered_pronouns:\n",
    "        if gp in desc_lowercased:\n",
    "            list_matches[gp] += 1\n",
    "print(list_matches)\n",
    "print(\"Total:\",np.asarray(list(list_matches.values())).sum())"
   ]
  },
  {
   "cell_type": "markdown",
   "metadata": {},
   "source": [
    "**The correct label counts according to the manual annotation:**"
   ]
  },
  {
   "cell_type": "code",
   "execution_count": 77,
   "metadata": {},
   "outputs": [
    {
     "name": "stdout",
     "output_type": "stream",
     "text": [
      "{'him': 248, 'he': 2017, 'her': 255, \"he's\": 1, 'she': 221, 'himself': 21, 'his': 1407, 'h': 1}\n",
      "Total: 4171\n"
     ]
    }
   ],
   "source": [
    "print(gp_dict)\n",
    "print(\"Total:\",np.asarray(list(gp_dict.values())).sum())"
   ]
  },
  {
   "cell_type": "markdown",
   "metadata": {},
   "source": [
    "#### Compare Automated and Manual Methods\n",
    "\n",
    "Evaluate the number of gendered pronouns found with the first RegEx approach (which seems to be the best automated approach) and the manual annotation for each description:"
   ]
  },
  {
   "cell_type": "code",
   "execution_count": 31,
   "metadata": {},
   "outputs": [
    {
     "data": {
      "text/html": [
       "<div>\n",
       "<style scoped>\n",
       "    .dataframe tbody tr th:only-of-type {\n",
       "        vertical-align: middle;\n",
       "    }\n",
       "\n",
       "    .dataframe tbody tr th {\n",
       "        vertical-align: top;\n",
       "    }\n",
       "\n",
       "    .dataframe thead th {\n",
       "        text-align: right;\n",
       "    }\n",
       "</style>\n",
       "<table border=\"1\" class=\"dataframe\">\n",
       "  <thead>\n",
       "    <tr style=\"text-align: right;\">\n",
       "      <th></th>\n",
       "      <th>file</th>\n",
       "      <th>offsets</th>\n",
       "      <th>text</th>\n",
       "      <th>label</th>\n",
       "      <th>category</th>\n",
       "      <th>eadid</th>\n",
       "      <th>associated_genders</th>\n",
       "    </tr>\n",
       "  </thead>\n",
       "  <tbody>\n",
       "    <tr>\n",
       "      <th>39447</th>\n",
       "      <td>AA5_00100.ann</td>\n",
       "      <td>(789, 791)</td>\n",
       "      <td>He</td>\n",
       "      <td>Gendered-Pronoun</td>\n",
       "      <td>Linguistic</td>\n",
       "      <td>AA5</td>\n",
       "      <td>Masculine</td>\n",
       "    </tr>\n",
       "    <tr>\n",
       "      <th>39448</th>\n",
       "      <td>AA5_00100.ann</td>\n",
       "      <td>(871, 873)</td>\n",
       "      <td>he</td>\n",
       "      <td>Gendered-Pronoun</td>\n",
       "      <td>Linguistic</td>\n",
       "      <td>AA5</td>\n",
       "      <td>Masculine</td>\n",
       "    </tr>\n",
       "    <tr>\n",
       "      <th>39449</th>\n",
       "      <td>AA5_00100.ann</td>\n",
       "      <td>(913, 916)</td>\n",
       "      <td>his</td>\n",
       "      <td>Gendered-Pronoun</td>\n",
       "      <td>Linguistic</td>\n",
       "      <td>AA5</td>\n",
       "      <td>Masculine</td>\n",
       "    </tr>\n",
       "    <tr>\n",
       "      <th>39450</th>\n",
       "      <td>AA5_00100.ann</td>\n",
       "      <td>(928, 930)</td>\n",
       "      <td>he</td>\n",
       "      <td>Gendered-Pronoun</td>\n",
       "      <td>Linguistic</td>\n",
       "      <td>AA5</td>\n",
       "      <td>Masculine</td>\n",
       "    </tr>\n",
       "    <tr>\n",
       "      <th>39451</th>\n",
       "      <td>AA5_00100.ann</td>\n",
       "      <td>(1217, 1219)</td>\n",
       "      <td>he</td>\n",
       "      <td>Gendered-Pronoun</td>\n",
       "      <td>Linguistic</td>\n",
       "      <td>AA5</td>\n",
       "      <td>Masculine</td>\n",
       "    </tr>\n",
       "  </tbody>\n",
       "</table>\n",
       "</div>"
      ],
      "text/plain": [
       "                file       offsets text             label    category eadid  \\\n",
       "39447  AA5_00100.ann    (789, 791)   He  Gendered-Pronoun  Linguistic   AA5   \n",
       "39448  AA5_00100.ann    (871, 873)   he  Gendered-Pronoun  Linguistic   AA5   \n",
       "39449  AA5_00100.ann    (913, 916)  his  Gendered-Pronoun  Linguistic   AA5   \n",
       "39450  AA5_00100.ann    (928, 930)   he  Gendered-Pronoun  Linguistic   AA5   \n",
       "39451  AA5_00100.ann  (1217, 1219)   he  Gendered-Pronoun  Linguistic   AA5   \n",
       "\n",
       "      associated_genders  \n",
       "39447          Masculine  \n",
       "39448          Masculine  \n",
       "39449          Masculine  \n",
       "39450          Masculine  \n",
       "39451          Masculine  "
      ]
     },
     "execution_count": 31,
     "metadata": {},
     "output_type": "execute_result"
    }
   ],
   "source": [
    "df_gp.head()"
   ]
  },
  {
   "cell_type": "code",
   "execution_count": null,
   "metadata": {},
   "outputs": [],
   "source": []
  }
 ],
 "metadata": {
  "kernelspec": {
   "display_name": "Python 3",
   "language": "python",
   "name": "python3"
  },
  "language_info": {
   "codemirror_mode": {
    "name": "ipython",
    "version": 3
   },
   "file_extension": ".py",
   "mimetype": "text/x-python",
   "name": "python",
   "nbconvert_exporter": "python",
   "pygments_lexer": "ipython3",
   "version": "3.8.10"
  }
 },
 "nbformat": 4,
 "nbformat_minor": 4
}

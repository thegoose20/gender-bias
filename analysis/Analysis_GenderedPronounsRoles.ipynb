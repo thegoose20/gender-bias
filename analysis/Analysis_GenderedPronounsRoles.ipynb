{
 "cells": [
  {
   "cell_type": "markdown",
   "metadata": {},
   "source": [
    "# Analysis: Gendered Pronouns and Roles\n",
    "## Post Annotation and Aggregation\n",
    "\n",
    "A comparison of Regular Expressions and part-of-speech tagging to manual annotation for labeling gendered pronouns and gendered roles.\n",
    "\n",
    "***\n",
    "\n",
    "**Table of Contents**\n",
    "\n",
    "  [I. Loading](#load)\n",
    "\n",
    "  [II. Gendered Pronouns](#gp)\n",
    "  \n",
    "   * RegEx\n",
    "\n",
    "\n",
    "  [III. Gendered Roles](#gr)\n",
    "  \n",
    "   * RegEx?\n",
    "   * POS?\n",
    "\n",
    "***"
   ]
  },
  {
   "cell_type": "markdown",
   "metadata": {},
   "source": [
    "<a id=\"load\"></a>\n",
    "## I. Loading"
   ]
  },
  {
   "cell_type": "code",
   "execution_count": 1,
   "metadata": {},
   "outputs": [
    {
     "name": "stderr",
     "output_type": "stream",
     "text": [
      "/Users/lucy/opt/miniconda3/lib/python3.9/site-packages/scipy/__init__.py:146: UserWarning: A NumPy version >=1.16.5 and <1.23.0 is required for this version of SciPy (detected version 1.23.3\n",
      "  warnings.warn(f\"A NumPy version >={np_minversion} and <{np_maxversion}\"\n"
     ]
    }
   ],
   "source": [
    "import pandas as pd\n",
    "import re\n",
    "import numpy as np\n",
    "import utils"
   ]
  },
  {
   "cell_type": "markdown",
   "metadata": {},
   "source": [
    "Load the data:"
   ]
  },
  {
   "cell_type": "code",
   "execution_count": 2,
   "metadata": {},
   "outputs": [],
   "source": [
    "data_dir = \"../data/\""
   ]
  },
  {
   "cell_type": "code",
   "execution_count": 3,
   "metadata": {},
   "outputs": [],
   "source": [
    "file_path = data_dir+\"aggregated_data/aggregated_with_eadid_descid_desc_cols.csv\""
   ]
  },
  {
   "cell_type": "code",
   "execution_count": 4,
   "metadata": {},
   "outputs": [
    {
     "data": {
      "text/html": [
       "<div>\n",
       "<style scoped>\n",
       "    .dataframe tbody tr th:only-of-type {\n",
       "        vertical-align: middle;\n",
       "    }\n",
       "\n",
       "    .dataframe tbody tr th {\n",
       "        vertical-align: top;\n",
       "    }\n",
       "\n",
       "    .dataframe thead th {\n",
       "        text-align: right;\n",
       "    }\n",
       "</style>\n",
       "<table border=\"1\" class=\"dataframe\">\n",
       "  <thead>\n",
       "    <tr style=\"text-align: right;\">\n",
       "      <th></th>\n",
       "      <th>file</th>\n",
       "      <th>offsets</th>\n",
       "      <th>text</th>\n",
       "      <th>label</th>\n",
       "      <th>category</th>\n",
       "      <th>eadid</th>\n",
       "      <th>description</th>\n",
       "      <th>field</th>\n",
       "      <th>id</th>\n",
       "      <th>desc_id</th>\n",
       "    </tr>\n",
       "  </thead>\n",
       "  <tbody>\n",
       "    <tr>\n",
       "      <th>9</th>\n",
       "      <td>AA5_00100.ann</td>\n",
       "      <td>(1032, 1043)</td>\n",
       "      <td>James Whyte</td>\n",
       "      <td>Masculine</td>\n",
       "      <td>Person-Name</td>\n",
       "      <td>AA5</td>\n",
       "      <td>Biographical / Historical:\\nProfessor James Ai...</td>\n",
       "      <td>Biographical / Historical</td>\n",
       "      <td>0</td>\n",
       "      <td>0</td>\n",
       "    </tr>\n",
       "    <tr>\n",
       "      <th>16</th>\n",
       "      <td>AA5_00100.ann</td>\n",
       "      <td>(1129, 1177)</td>\n",
       "      <td>chair of practical theology and Christian ethics</td>\n",
       "      <td>Occupation</td>\n",
       "      <td>Contextual</td>\n",
       "      <td>AA5</td>\n",
       "      <td>Biographical / Historical:\\nProfessor James Ai...</td>\n",
       "      <td>Biographical / Historical</td>\n",
       "      <td>1</td>\n",
       "      <td>0</td>\n",
       "    </tr>\n",
       "    <tr>\n",
       "      <th>4</th>\n",
       "      <td>AA5_00100.ann</td>\n",
       "      <td>(1217, 1219)</td>\n",
       "      <td>he</td>\n",
       "      <td>Gendered-Pronoun</td>\n",
       "      <td>Linguistic</td>\n",
       "      <td>AA5</td>\n",
       "      <td>Biographical / Historical:\\nProfessor James Ai...</td>\n",
       "      <td>Biographical / Historical</td>\n",
       "      <td>2</td>\n",
       "      <td>0</td>\n",
       "    </tr>\n",
       "    <tr>\n",
       "      <th>5</th>\n",
       "      <td>AA5_00100.ann</td>\n",
       "      <td>(1241, 1244)</td>\n",
       "      <td>His</td>\n",
       "      <td>Gendered-Pronoun</td>\n",
       "      <td>Linguistic</td>\n",
       "      <td>AA5</td>\n",
       "      <td>Biographical / Historical:\\nProfessor James Ai...</td>\n",
       "      <td>Biographical / Historical</td>\n",
       "      <td>3</td>\n",
       "      <td>0</td>\n",
       "    </tr>\n",
       "    <tr>\n",
       "      <th>6</th>\n",
       "      <td>AA5_00100.ann</td>\n",
       "      <td>(1315, 1317)</td>\n",
       "      <td>he</td>\n",
       "      <td>Gendered-Pronoun</td>\n",
       "      <td>Linguistic</td>\n",
       "      <td>AA5</td>\n",
       "      <td>Biographical / Historical:\\nProfessor James Ai...</td>\n",
       "      <td>Biographical / Historical</td>\n",
       "      <td>4</td>\n",
       "      <td>0</td>\n",
       "    </tr>\n",
       "  </tbody>\n",
       "</table>\n",
       "</div>"
      ],
      "text/plain": [
       "             file       offsets  \\\n",
       "9   AA5_00100.ann  (1032, 1043)   \n",
       "16  AA5_00100.ann  (1129, 1177)   \n",
       "4   AA5_00100.ann  (1217, 1219)   \n",
       "5   AA5_00100.ann  (1241, 1244)   \n",
       "6   AA5_00100.ann  (1315, 1317)   \n",
       "\n",
       "                                                text             label  \\\n",
       "9                                        James Whyte         Masculine   \n",
       "16  chair of practical theology and Christian ethics        Occupation   \n",
       "4                                                 he  Gendered-Pronoun   \n",
       "5                                                His  Gendered-Pronoun   \n",
       "6                                                 he  Gendered-Pronoun   \n",
       "\n",
       "       category eadid                                        description  \\\n",
       "9   Person-Name   AA5  Biographical / Historical:\\nProfessor James Ai...   \n",
       "16   Contextual   AA5  Biographical / Historical:\\nProfessor James Ai...   \n",
       "4    Linguistic   AA5  Biographical / Historical:\\nProfessor James Ai...   \n",
       "5    Linguistic   AA5  Biographical / Historical:\\nProfessor James Ai...   \n",
       "6    Linguistic   AA5  Biographical / Historical:\\nProfessor James Ai...   \n",
       "\n",
       "                        field  id  desc_id  \n",
       "9   Biographical / Historical   0        0  \n",
       "16  Biographical / Historical   1        0  \n",
       "4   Biographical / Historical   2        0  \n",
       "5   Biographical / Historical   3        0  \n",
       "6   Biographical / Historical   4        0  "
      ]
     },
     "execution_count": 4,
     "metadata": {},
     "output_type": "execute_result"
    }
   ],
   "source": [
    "df = pd.read_csv(file_path, index_col=0)\n",
    "df.head()"
   ]
  },
  {
   "cell_type": "code",
   "execution_count": 5,
   "metadata": {},
   "outputs": [
    {
     "name": "stdout",
     "output_type": "stream",
     "text": [
      "Rows: 55260\n",
      "Columns: 10\n"
     ]
    }
   ],
   "source": [
    "print(\"Rows:\",df.shape[0])\n",
    "print(\"Columns:\",df.shape[1])"
   ]
  },
  {
   "cell_type": "code",
   "execution_count": 6,
   "metadata": {},
   "outputs": [
    {
     "data": {
      "text/html": [
       "<div>\n",
       "<style scoped>\n",
       "    .dataframe tbody tr th:only-of-type {\n",
       "        vertical-align: middle;\n",
       "    }\n",
       "\n",
       "    .dataframe tbody tr th {\n",
       "        vertical-align: top;\n",
       "    }\n",
       "\n",
       "    .dataframe thead th {\n",
       "        text-align: right;\n",
       "    }\n",
       "</style>\n",
       "<table border=\"1\" class=\"dataframe\">\n",
       "  <thead>\n",
       "    <tr style=\"text-align: right;\">\n",
       "      <th></th>\n",
       "      <th>eadid</th>\n",
       "      <th>description</th>\n",
       "      <th>field</th>\n",
       "      <th>desc_id</th>\n",
       "    </tr>\n",
       "  </thead>\n",
       "  <tbody>\n",
       "    <tr>\n",
       "      <th>72618</th>\n",
       "      <td>Coll-1266</td>\n",
       "      <td>Honorary degree scroll from Leiden University,...</td>\n",
       "      <td>Title</td>\n",
       "      <td>11889</td>\n",
       "    </tr>\n",
       "    <tr>\n",
       "      <th>72620</th>\n",
       "      <td>Coll-1266</td>\n",
       "      <td>Programmes for honorary degree ceremony at the...</td>\n",
       "      <td>Title</td>\n",
       "      <td>11890</td>\n",
       "    </tr>\n",
       "    <tr>\n",
       "      <th>68537</th>\n",
       "      <td>Coll-1266</td>\n",
       "      <td>Contains honorary degree certificate and citat...</td>\n",
       "      <td>Scope and Contents</td>\n",
       "      <td>11891</td>\n",
       "    </tr>\n",
       "    <tr>\n",
       "      <th>30630</th>\n",
       "      <td>Coll-1310</td>\n",
       "      <td>\\n</td>\n",
       "      <td>Title</td>\n",
       "      <td>11892</td>\n",
       "    </tr>\n",
       "    <tr>\n",
       "      <th>73912</th>\n",
       "      <td>Coll-146</td>\n",
       "      <td>TS signed1p. At head of paper: E Gellhorn, MD ...</td>\n",
       "      <td>Scope and Contents</td>\n",
       "      <td>11893</td>\n",
       "    </tr>\n",
       "  </tbody>\n",
       "</table>\n",
       "</div>"
      ],
      "text/plain": [
       "           eadid                                        description  \\\n",
       "72618  Coll-1266  Honorary degree scroll from Leiden University,...   \n",
       "72620  Coll-1266  Programmes for honorary degree ceremony at the...   \n",
       "68537  Coll-1266  Contains honorary degree certificate and citat...   \n",
       "30630  Coll-1310                                                 \\n   \n",
       "73912   Coll-146  TS signed1p. At head of paper: E Gellhorn, MD ...   \n",
       "\n",
       "                    field  desc_id  \n",
       "72618               Title    11889  \n",
       "72620               Title    11890  \n",
       "68537  Scope and Contents    11891  \n",
       "30630               Title    11892  \n",
       "73912  Scope and Contents    11893  "
      ]
     },
     "execution_count": 6,
     "metadata": {},
     "output_type": "execute_result"
    }
   ],
   "source": [
    "desc_path = data_dir+\"crc_metadata/all_descriptions.csv\"\n",
    "df_desc = pd.read_csv(desc_path, index_col=0)\n",
    "df_desc.tail()"
   ]
  },
  {
   "cell_type": "code",
   "execution_count": 7,
   "metadata": {},
   "outputs": [
    {
     "name": "stdout",
     "output_type": "stream",
     "text": [
      "Rows: 11894\n",
      "Columns: 4\n"
     ]
    }
   ],
   "source": [
    "print(\"Rows:\",df_desc.shape[0])\n",
    "print(\"Columns:\",df_desc.shape[1])"
   ]
  },
  {
   "cell_type": "markdown",
   "metadata": {},
   "source": [
    "Replace the first DataFrame's `description` column with descriptions that don't include the metadata field name from the second DataFrame's `description` column:"
   ]
  },
  {
   "cell_type": "code",
   "execution_count": 8,
   "metadata": {},
   "outputs": [],
   "source": [
    "index_cols = [\"desc_id\", \"eadid\", \"field\"]\n",
    "df = df.set_index(index_cols)\n",
    "df_desc = df_desc.set_index(index_cols)"
   ]
  },
  {
   "cell_type": "code",
   "execution_count": 9,
   "metadata": {},
   "outputs": [
    {
     "data": {
      "text/html": [
       "<div>\n",
       "<style scoped>\n",
       "    .dataframe tbody tr th:only-of-type {\n",
       "        vertical-align: middle;\n",
       "    }\n",
       "\n",
       "    .dataframe tbody tr th {\n",
       "        vertical-align: top;\n",
       "    }\n",
       "\n",
       "    .dataframe thead th {\n",
       "        text-align: right;\n",
       "    }\n",
       "</style>\n",
       "<table border=\"1\" class=\"dataframe\">\n",
       "  <thead>\n",
       "    <tr style=\"text-align: right;\">\n",
       "      <th></th>\n",
       "      <th>desc_id</th>\n",
       "      <th>eadid</th>\n",
       "      <th>field</th>\n",
       "      <th>file</th>\n",
       "      <th>offsets</th>\n",
       "      <th>text</th>\n",
       "      <th>label</th>\n",
       "      <th>category</th>\n",
       "      <th>id</th>\n",
       "      <th>description</th>\n",
       "    </tr>\n",
       "  </thead>\n",
       "  <tbody>\n",
       "    <tr>\n",
       "      <th>0</th>\n",
       "      <td>0</td>\n",
       "      <td>AA5</td>\n",
       "      <td>Biographical / Historical</td>\n",
       "      <td>AA5_00100.ann</td>\n",
       "      <td>(1032, 1043)</td>\n",
       "      <td>James Whyte</td>\n",
       "      <td>Masculine</td>\n",
       "      <td>Person-Name</td>\n",
       "      <td>0</td>\n",
       "      <td>Professor James Aitken White was a leading Sco...</td>\n",
       "    </tr>\n",
       "    <tr>\n",
       "      <th>1</th>\n",
       "      <td>0</td>\n",
       "      <td>AA5</td>\n",
       "      <td>Biographical / Historical</td>\n",
       "      <td>AA5_00100.ann</td>\n",
       "      <td>(1129, 1177)</td>\n",
       "      <td>chair of practical theology and Christian ethics</td>\n",
       "      <td>Occupation</td>\n",
       "      <td>Contextual</td>\n",
       "      <td>1</td>\n",
       "      <td>Professor James Aitken White was a leading Sco...</td>\n",
       "    </tr>\n",
       "    <tr>\n",
       "      <th>2</th>\n",
       "      <td>0</td>\n",
       "      <td>AA5</td>\n",
       "      <td>Biographical / Historical</td>\n",
       "      <td>AA5_00100.ann</td>\n",
       "      <td>(1217, 1219)</td>\n",
       "      <td>he</td>\n",
       "      <td>Gendered-Pronoun</td>\n",
       "      <td>Linguistic</td>\n",
       "      <td>2</td>\n",
       "      <td>Professor James Aitken White was a leading Sco...</td>\n",
       "    </tr>\n",
       "    <tr>\n",
       "      <th>3</th>\n",
       "      <td>0</td>\n",
       "      <td>AA5</td>\n",
       "      <td>Biographical / Historical</td>\n",
       "      <td>AA5_00100.ann</td>\n",
       "      <td>(1241, 1244)</td>\n",
       "      <td>His</td>\n",
       "      <td>Gendered-Pronoun</td>\n",
       "      <td>Linguistic</td>\n",
       "      <td>3</td>\n",
       "      <td>Professor James Aitken White was a leading Sco...</td>\n",
       "    </tr>\n",
       "    <tr>\n",
       "      <th>4</th>\n",
       "      <td>0</td>\n",
       "      <td>AA5</td>\n",
       "      <td>Biographical / Historical</td>\n",
       "      <td>AA5_00100.ann</td>\n",
       "      <td>(1315, 1317)</td>\n",
       "      <td>he</td>\n",
       "      <td>Gendered-Pronoun</td>\n",
       "      <td>Linguistic</td>\n",
       "      <td>4</td>\n",
       "      <td>Professor James Aitken White was a leading Sco...</td>\n",
       "    </tr>\n",
       "  </tbody>\n",
       "</table>\n",
       "</div>"
      ],
      "text/plain": [
       "   desc_id eadid                      field           file       offsets  \\\n",
       "0        0   AA5  Biographical / Historical  AA5_00100.ann  (1032, 1043)   \n",
       "1        0   AA5  Biographical / Historical  AA5_00100.ann  (1129, 1177)   \n",
       "2        0   AA5  Biographical / Historical  AA5_00100.ann  (1217, 1219)   \n",
       "3        0   AA5  Biographical / Historical  AA5_00100.ann  (1241, 1244)   \n",
       "4        0   AA5  Biographical / Historical  AA5_00100.ann  (1315, 1317)   \n",
       "\n",
       "                                               text             label  \\\n",
       "0                                       James Whyte         Masculine   \n",
       "1  chair of practical theology and Christian ethics        Occupation   \n",
       "2                                                he  Gendered-Pronoun   \n",
       "3                                               His  Gendered-Pronoun   \n",
       "4                                                he  Gendered-Pronoun   \n",
       "\n",
       "      category  id                                        description  \n",
       "0  Person-Name   0  Professor James Aitken White was a leading Sco...  \n",
       "1   Contextual   1  Professor James Aitken White was a leading Sco...  \n",
       "2   Linguistic   2  Professor James Aitken White was a leading Sco...  \n",
       "3   Linguistic   3  Professor James Aitken White was a leading Sco...  \n",
       "4   Linguistic   4  Professor James Aitken White was a leading Sco...  "
      ]
     },
     "execution_count": 9,
     "metadata": {},
     "output_type": "execute_result"
    }
   ],
   "source": [
    "df = df.join(df_desc, how=\"left\", on=index_cols, lsuffix=\"_remove\", rsuffix=\"\")\n",
    "df = df.drop(columns=[\"description_remove\"])\n",
    "df = df.reset_index()\n",
    "df.head()"
   ]
  },
  {
   "cell_type": "markdown",
   "metadata": {},
   "source": [
    "Update the aggregated data file:"
   ]
  },
  {
   "cell_type": "code",
   "execution_count": 11,
   "metadata": {},
   "outputs": [],
   "source": [
    "df.to_csv(file_path)"
   ]
  },
  {
   "cell_type": "markdown",
   "metadata": {},
   "source": [
    "***\n",
    "\n",
    "**TO FIX:**"
   ]
  },
  {
   "cell_type": "code",
   "execution_count": 13,
   "metadata": {},
   "outputs": [
    {
     "data": {
      "text/plain": [
       "30630    \\n\n",
       "Name: description, dtype: object"
      ]
     },
     "execution_count": 13,
     "metadata": {},
     "output_type": "execute_result"
    }
   ],
   "source": [
    "df_desc.loc[df_desc.desc_id == 11892].description"
   ]
  },
  {
   "cell_type": "code",
   "execution_count": 23,
   "metadata": {},
   "outputs": [
    {
     "data": {
      "text/html": [
       "<div>\n",
       "<style scoped>\n",
       "    .dataframe tbody tr th:only-of-type {\n",
       "        vertical-align: middle;\n",
       "    }\n",
       "\n",
       "    .dataframe tbody tr th {\n",
       "        vertical-align: top;\n",
       "    }\n",
       "\n",
       "    .dataframe thead th {\n",
       "        text-align: right;\n",
       "    }\n",
       "</style>\n",
       "<table border=\"1\" class=\"dataframe\">\n",
       "  <thead>\n",
       "    <tr style=\"text-align: right;\">\n",
       "      <th></th>\n",
       "      <th>eadid</th>\n",
       "      <th>description</th>\n",
       "      <th>field</th>\n",
       "      <th>desc_id</th>\n",
       "    </tr>\n",
       "  </thead>\n",
       "  <tbody>\n",
       "  </tbody>\n",
       "</table>\n",
       "</div>"
      ],
      "text/plain": [
       "Empty DataFrame\n",
       "Columns: [eadid, description, field, desc_id]\n",
       "Index: []"
      ]
     },
     "execution_count": 23,
     "metadata": {},
     "output_type": "execute_result"
    }
   ],
   "source": [
    "df_desc.loc[df_desc.description == \"\\n\"]  #\"\\t\" \" \" \"\" --> the newline at 30630 seems to be the only one not recorded properly"
   ]
  },
  {
   "cell_type": "code",
   "execution_count": 19,
   "metadata": {},
   "outputs": [
    {
     "data": {
      "text/html": [
       "<div>\n",
       "<style scoped>\n",
       "    .dataframe tbody tr th:only-of-type {\n",
       "        vertical-align: middle;\n",
       "    }\n",
       "\n",
       "    .dataframe tbody tr th {\n",
       "        vertical-align: top;\n",
       "    }\n",
       "\n",
       "    .dataframe thead th {\n",
       "        text-align: right;\n",
       "    }\n",
       "</style>\n",
       "<table border=\"1\" class=\"dataframe\">\n",
       "  <thead>\n",
       "    <tr style=\"text-align: right;\">\n",
       "      <th></th>\n",
       "      <th>eadid</th>\n",
       "      <th>description</th>\n",
       "      <th>field</th>\n",
       "      <th>desc_id</th>\n",
       "    </tr>\n",
       "  </thead>\n",
       "  <tbody>\n",
       "    <tr>\n",
       "      <th>2315</th>\n",
       "      <td>Coll-1310</td>\n",
       "      <td>Letter from staff at Teachers College, Columbi...</td>\n",
       "      <td>Title</td>\n",
       "      <td>2315</td>\n",
       "    </tr>\n",
       "    <tr>\n",
       "      <th>2316</th>\n",
       "      <td>Coll-1310</td>\n",
       "      <td>Letter from the Colonial Office, Downing Stree...</td>\n",
       "      <td>Title</td>\n",
       "      <td>2316</td>\n",
       "    </tr>\n",
       "    <tr>\n",
       "      <th>2317</th>\n",
       "      <td>Coll-1310</td>\n",
       "      <td>Letters and telegrams between Thomson, the War...</td>\n",
       "      <td>Title</td>\n",
       "      <td>2317</td>\n",
       "    </tr>\n",
       "    <tr>\n",
       "      <th>2318</th>\n",
       "      <td>Coll-1310</td>\n",
       "      <td>Letters to Thomson compiled by Hector and titl...</td>\n",
       "      <td>Title</td>\n",
       "      <td>2318</td>\n",
       "    </tr>\n",
       "    <tr>\n",
       "      <th>2319</th>\n",
       "      <td>Coll-1310</td>\n",
       "      <td>Letter from Sir Edmund Taylor Whittaker to Tho...</td>\n",
       "      <td>Title</td>\n",
       "      <td>2319</td>\n",
       "    </tr>\n",
       "    <tr>\n",
       "      <th>...</th>\n",
       "      <td>...</td>\n",
       "      <td>...</td>\n",
       "      <td>...</td>\n",
       "      <td>...</td>\n",
       "    </tr>\n",
       "    <tr>\n",
       "      <th>2769</th>\n",
       "      <td>Coll-1310</td>\n",
       "      <td>Offprint of Thurstone's article, The Mental Ag...</td>\n",
       "      <td>Title</td>\n",
       "      <td>2769</td>\n",
       "    </tr>\n",
       "    <tr>\n",
       "      <th>2770</th>\n",
       "      <td>Coll-1310</td>\n",
       "      <td>Psychometric Monographs no. 1, Primary Mental ...</td>\n",
       "      <td>Title</td>\n",
       "      <td>2770</td>\n",
       "    </tr>\n",
       "    <tr>\n",
       "      <th>2771</th>\n",
       "      <td>Coll-1310</td>\n",
       "      <td>Sukhatme, P V\\n\\n</td>\n",
       "      <td>Title</td>\n",
       "      <td>2771</td>\n",
       "    </tr>\n",
       "    <tr>\n",
       "      <th>2772</th>\n",
       "      <td>Coll-1310</td>\n",
       "      <td>Offprint of Thurstone's article, Current Issue...</td>\n",
       "      <td>Title</td>\n",
       "      <td>2772</td>\n",
       "    </tr>\n",
       "    <tr>\n",
       "      <th>30630</th>\n",
       "      <td>Coll-1310</td>\n",
       "      <td>\\n</td>\n",
       "      <td>Title</td>\n",
       "      <td>11892</td>\n",
       "    </tr>\n",
       "  </tbody>\n",
       "</table>\n",
       "<p>457 rows × 4 columns</p>\n",
       "</div>"
      ],
      "text/plain": [
       "           eadid                                        description  field  \\\n",
       "2315   Coll-1310  Letter from staff at Teachers College, Columbi...  Title   \n",
       "2316   Coll-1310  Letter from the Colonial Office, Downing Stree...  Title   \n",
       "2317   Coll-1310  Letters and telegrams between Thomson, the War...  Title   \n",
       "2318   Coll-1310  Letters to Thomson compiled by Hector and titl...  Title   \n",
       "2319   Coll-1310  Letter from Sir Edmund Taylor Whittaker to Tho...  Title   \n",
       "...          ...                                                ...    ...   \n",
       "2769   Coll-1310  Offprint of Thurstone's article, The Mental Ag...  Title   \n",
       "2770   Coll-1310  Psychometric Monographs no. 1, Primary Mental ...  Title   \n",
       "2771   Coll-1310                                  Sukhatme, P V\\n\\n  Title   \n",
       "2772   Coll-1310  Offprint of Thurstone's article, Current Issue...  Title   \n",
       "30630  Coll-1310                                                 \\n  Title   \n",
       "\n",
       "       desc_id  \n",
       "2315      2315  \n",
       "2316      2316  \n",
       "2317      2317  \n",
       "2318      2318  \n",
       "2319      2319  \n",
       "...        ...  \n",
       "2769      2769  \n",
       "2770      2770  \n",
       "2771      2771  \n",
       "2772      2772  \n",
       "30630    11892  \n",
       "\n",
       "[457 rows x 4 columns]"
      ]
     },
     "execution_count": 19,
     "metadata": {},
     "output_type": "execute_result"
    }
   ],
   "source": [
    "df_desc.loc[(df_desc.eadid == \"Coll-1310\") & (df_desc.field == \"Title\")]"
   ]
  },
  {
   "cell_type": "markdown",
   "metadata": {},
   "source": [
    "***"
   ]
  },
  {
   "cell_type": "markdown",
   "metadata": {},
   "source": [
    "<a id=\"2\"></a>\n",
    "## II. Gendered Pronouns"
   ]
  },
  {
   "cell_type": "code",
   "execution_count": 46,
   "metadata": {},
   "outputs": [],
   "source": [
    "label = \"Gendered-Pronoun\""
   ]
  },
  {
   "cell_type": "markdown",
   "metadata": {},
   "source": [
    "#### Find the total number of `Gendered-Pronoun` labels and the count of unique text spans annotated with the label"
   ]
  },
  {
   "cell_type": "code",
   "execution_count": 47,
   "metadata": {},
   "outputs": [
    {
     "name": "stdout",
     "output_type": "stream",
     "text": [
      "Total gendered pronouns manually labeled: 4171\n"
     ]
    }
   ],
   "source": [
    "df_gp = df.loc[df.label == label]\n",
    "print(\"Total gendered pronouns manually labeled:\",df_gp.shape[0])"
   ]
  },
  {
   "cell_type": "code",
   "execution_count": 48,
   "metadata": {},
   "outputs": [
    {
     "name": "stdout",
     "output_type": "stream",
     "text": [
      "{'his': 1261, 'he': 1245, 'He': 772, 'him': 246, 'her': 229, 'His': 146, 'she': 139, 'She': 82, 'Her': 26, 'himself': 20, 'Him': 2, \"He's\": 1, 'Himself': 1, 'H': 1}\n"
     ]
    }
   ],
   "source": [
    "gp_counts = df_gp.text.value_counts()\n",
    "text = list(gp_counts.index)\n",
    "counts = list(gp_counts.values)\n",
    "gp_counts_dict = dict(zip(text,counts))\n",
    "print(gp_counts_dict)"
   ]
  },
  {
   "cell_type": "code",
   "execution_count": 49,
   "metadata": {},
   "outputs": [
    {
     "name": "stdout",
     "output_type": "stream",
     "text": [
      "{'h': 1, 'himself': 21, 'her': 255, 'he': 2017, \"he's\": 1, 'she': 221, 'his': 1407, 'him': 248}\n"
     ]
    }
   ],
   "source": [
    "gp_values = list(set(list(df_gp.text)))\n",
    "gp_values_normalized = [gp.lower() for gp in gp_values]\n",
    "gp_values_unique = list(set(list(gp_values_normalized)))\n",
    "gp_dict = dict.fromkeys(gp_values_unique)\n",
    "for key in gp_dict.keys():\n",
    "    total_count = 0\n",
    "    if key in gp_counts_dict:\n",
    "        total_count += gp_counts_dict[key]\n",
    "    if key.capitalize() in gp_counts_dict:\n",
    "        total_count += gp_counts_dict[key.capitalize()]\n",
    "    gp_dict[key] = total_count\n",
    "print(gp_dict)"
   ]
  },
  {
   "cell_type": "markdown",
   "metadata": {},
   "source": [
    "#### Automatically Identify Gendered Pronouns"
   ]
  },
  {
   "cell_type": "markdown",
   "metadata": {},
   "source": [
    "First, split the descriptions into words.  Then, try three approaches to searching for matching strings."
   ]
  },
  {
   "cell_type": "code",
   "execution_count": 50,
   "metadata": {},
   "outputs": [],
   "source": [
    "descs = list(df_desc.description)\n",
    "descs_split = [d.split(\" \") for d in descs]\n",
    "# print(descs_split[:2])"
   ]
  },
  {
   "cell_type": "markdown",
   "metadata": {},
   "source": [
    "**Approach 1:** Define RegEx patterns:"
   ]
  },
  {
   "cell_type": "code",
   "execution_count": 51,
   "metadata": {},
   "outputs": [],
   "source": [
    "pattern1 = re.compile(\"^[hx][ei][rsm](self)*$\")\n",
    "pattern2 = re.compile(\"^s*[xh]e('s)*$\")\n",
    "pattern3 = re.compile(\"^x*e[iy]r*$\")\n",
    "pattern_list = [pattern1, pattern2, pattern3]"
   ]
  },
  {
   "cell_type": "markdown",
   "metadata": {},
   "source": [
    "Count matches with the patterns:"
   ]
  },
  {
   "cell_type": "code",
   "execution_count": 52,
   "metadata": {},
   "outputs": [
    {
     "name": "stdout",
     "output_type": "stream",
     "text": [
      "{'he': 2193, 'his': 1520, 'himself': 32, 'her': 298, 'she': 274, 'him': 223, 'herself': 2, \"he's\": 2}\n",
      "Total: 4544\n"
     ]
    }
   ],
   "source": [
    "matches = utils.countMatches(descs_split,pattern_list)\n",
    "print(matches)\n",
    "print(\"Total:\",np.asarray(list(matches.values())).sum())"
   ]
  },
  {
   "cell_type": "markdown",
   "metadata": {},
   "source": [
    "**Approach 2:** Try a word list:"
   ]
  },
  {
   "cell_type": "code",
   "execution_count": 53,
   "metadata": {},
   "outputs": [
    {
     "name": "stdout",
     "output_type": "stream",
     "text": [
      "{'his': 821, 'hers': 0, 'himself': 31, 'herself': 2, 'hm': 3, \"he's\": 2, \"she's\": 0, 'she': 92, 'he': 560, 'him': 171, 'her': 193, 'xe': 0, 'xeir': 0, 'xey': 0, 'ey': 0, 'eir': 0}\n",
      "Total: 1875\n"
     ]
    }
   ],
   "source": [
    "gendered_pronouns = [\"his\",\"hers\",\"himself\",\"herself\",\"hm\",\"he's\",\"she's\",\"she\",\"he\",\"him\",\"her\", \"xe\", \"xeir\", \"xey\", \"ey\", \"eir\"] # HM for Her/His Majesty\n",
    "list_matches = dict.fromkeys(gendered_pronouns, 0)\n",
    "for desc in descs_split:\n",
    "    desc_lowercased = [word.lower() for word in desc]\n",
    "    for gp in gendered_pronouns:\n",
    "        if gp in desc_lowercased:\n",
    "            list_matches[gp] += 1\n",
    "print(list_matches)\n",
    "print(\"Total:\",np.asarray(list(list_matches.values())).sum())"
   ]
  },
  {
   "cell_type": "markdown",
   "metadata": {},
   "source": [
    "**From the manual annotation:**"
   ]
  },
  {
   "cell_type": "code",
   "execution_count": 54,
   "metadata": {},
   "outputs": [
    {
     "name": "stdout",
     "output_type": "stream",
     "text": [
      "{'h': 1, 'himself': 21, 'her': 255, 'he': 2017, \"he's\": 1, 'she': 221, 'his': 1407, 'him': 248}\n",
      "Total: 4171\n"
     ]
    }
   ],
   "source": [
    "print(gp_dict)\n",
    "print(\"Total:\",np.asarray(list(gp_dict.values())).sum())"
   ]
  },
  {
   "cell_type": "markdown",
   "metadata": {},
   "source": [
    "#### Compare Automated and Manual Methods\n",
    "\n",
    "Evaluate the number of gendered pronouns found with the RegEx approach (which seems to be the better automated approach) and the manual annotation for each description:"
   ]
  },
  {
   "cell_type": "code",
   "execution_count": 67,
   "metadata": {},
   "outputs": [
    {
     "data": {
      "text/html": [
       "<div>\n",
       "<style scoped>\n",
       "    .dataframe tbody tr th:only-of-type {\n",
       "        vertical-align: middle;\n",
       "    }\n",
       "\n",
       "    .dataframe tbody tr th {\n",
       "        vertical-align: top;\n",
       "    }\n",
       "\n",
       "    .dataframe thead th {\n",
       "        text-align: right;\n",
       "    }\n",
       "</style>\n",
       "<table border=\"1\" class=\"dataframe\">\n",
       "  <thead>\n",
       "    <tr style=\"text-align: right;\">\n",
       "      <th></th>\n",
       "      <th>desc_id</th>\n",
       "      <th>eadid</th>\n",
       "      <th>field</th>\n",
       "      <th>file</th>\n",
       "      <th>offsets</th>\n",
       "      <th>text</th>\n",
       "      <th>label</th>\n",
       "      <th>category</th>\n",
       "      <th>id</th>\n",
       "      <th>description</th>\n",
       "    </tr>\n",
       "  </thead>\n",
       "  <tbody>\n",
       "    <tr>\n",
       "      <th>0</th>\n",
       "      <td>0</td>\n",
       "      <td>AA5</td>\n",
       "      <td>Biographical / Historical</td>\n",
       "      <td>AA5_00100.ann</td>\n",
       "      <td>(1032, 1043)</td>\n",
       "      <td>James Whyte</td>\n",
       "      <td>Masculine</td>\n",
       "      <td>Person-Name</td>\n",
       "      <td>0</td>\n",
       "      <td>Professor James Aitken White was a leading Sco...</td>\n",
       "    </tr>\n",
       "    <tr>\n",
       "      <th>1</th>\n",
       "      <td>0</td>\n",
       "      <td>AA5</td>\n",
       "      <td>Biographical / Historical</td>\n",
       "      <td>AA5_00100.ann</td>\n",
       "      <td>(1129, 1177)</td>\n",
       "      <td>chair of practical theology and Christian ethics</td>\n",
       "      <td>Occupation</td>\n",
       "      <td>Contextual</td>\n",
       "      <td>1</td>\n",
       "      <td>Professor James Aitken White was a leading Sco...</td>\n",
       "    </tr>\n",
       "    <tr>\n",
       "      <th>2</th>\n",
       "      <td>0</td>\n",
       "      <td>AA5</td>\n",
       "      <td>Biographical / Historical</td>\n",
       "      <td>AA5_00100.ann</td>\n",
       "      <td>(1217, 1219)</td>\n",
       "      <td>he</td>\n",
       "      <td>Gendered-Pronoun</td>\n",
       "      <td>Linguistic</td>\n",
       "      <td>2</td>\n",
       "      <td>Professor James Aitken White was a leading Sco...</td>\n",
       "    </tr>\n",
       "    <tr>\n",
       "      <th>3</th>\n",
       "      <td>0</td>\n",
       "      <td>AA5</td>\n",
       "      <td>Biographical / Historical</td>\n",
       "      <td>AA5_00100.ann</td>\n",
       "      <td>(1241, 1244)</td>\n",
       "      <td>His</td>\n",
       "      <td>Gendered-Pronoun</td>\n",
       "      <td>Linguistic</td>\n",
       "      <td>3</td>\n",
       "      <td>Professor James Aitken White was a leading Sco...</td>\n",
       "    </tr>\n",
       "    <tr>\n",
       "      <th>4</th>\n",
       "      <td>0</td>\n",
       "      <td>AA5</td>\n",
       "      <td>Biographical / Historical</td>\n",
       "      <td>AA5_00100.ann</td>\n",
       "      <td>(1315, 1317)</td>\n",
       "      <td>he</td>\n",
       "      <td>Gendered-Pronoun</td>\n",
       "      <td>Linguistic</td>\n",
       "      <td>4</td>\n",
       "      <td>Professor James Aitken White was a leading Sco...</td>\n",
       "    </tr>\n",
       "    <tr>\n",
       "      <th>5</th>\n",
       "      <td>0</td>\n",
       "      <td>AA5</td>\n",
       "      <td>Biographical / Historical</td>\n",
       "      <td>AA5_00100.ann</td>\n",
       "      <td>(1350, 1361)</td>\n",
       "      <td>James Whyte</td>\n",
       "      <td>Masculine</td>\n",
       "      <td>Person-Name</td>\n",
       "      <td>5</td>\n",
       "      <td>Professor James Aitken White was a leading Sco...</td>\n",
       "    </tr>\n",
       "    <tr>\n",
       "      <th>10</th>\n",
       "      <td>0</td>\n",
       "      <td>AA5</td>\n",
       "      <td>Biographical / Historical</td>\n",
       "      <td>AA5_00100.ann</td>\n",
       "      <td>(661, 689)</td>\n",
       "      <td>Professor James Aitken White</td>\n",
       "      <td>Masculine</td>\n",
       "      <td>Person-Name</td>\n",
       "      <td>10</td>\n",
       "      <td>Professor James Aitken White was a leading Sco...</td>\n",
       "    </tr>\n",
       "    <tr>\n",
       "      <th>11</th>\n",
       "      <td>0</td>\n",
       "      <td>AA5</td>\n",
       "      <td>Biographical / Historical</td>\n",
       "      <td>AA5_00100.ann</td>\n",
       "      <td>(696, 723)</td>\n",
       "      <td>leading Scottish Theologian</td>\n",
       "      <td>Stereotype</td>\n",
       "      <td>Contextual</td>\n",
       "      <td>11</td>\n",
       "      <td>Professor James Aitken White was a leading Sco...</td>\n",
       "    </tr>\n",
       "    <tr>\n",
       "      <th>12</th>\n",
       "      <td>0</td>\n",
       "      <td>AA5</td>\n",
       "      <td>Biographical / Historical</td>\n",
       "      <td>AA5_00100.ann</td>\n",
       "      <td>(704, 723)</td>\n",
       "      <td>Scottish Theologian</td>\n",
       "      <td>Occupation</td>\n",
       "      <td>Contextual</td>\n",
       "      <td>12</td>\n",
       "      <td>Professor James Aitken White was a leading Sco...</td>\n",
       "    </tr>\n",
       "    <tr>\n",
       "      <th>13</th>\n",
       "      <td>0</td>\n",
       "      <td>AA5</td>\n",
       "      <td>Biographical / Historical</td>\n",
       "      <td>AA5_00100.ann</td>\n",
       "      <td>(728, 787)</td>\n",
       "      <td>Moderator of the General Assembly of the Churc...</td>\n",
       "      <td>Occupation</td>\n",
       "      <td>Contextual</td>\n",
       "      <td>13</td>\n",
       "      <td>Professor James Aitken White was a leading Sco...</td>\n",
       "    </tr>\n",
       "    <tr>\n",
       "      <th>14</th>\n",
       "      <td>0</td>\n",
       "      <td>AA5</td>\n",
       "      <td>Biographical / Historical</td>\n",
       "      <td>AA5_00100.ann</td>\n",
       "      <td>(789, 791)</td>\n",
       "      <td>He</td>\n",
       "      <td>Gendered-Pronoun</td>\n",
       "      <td>Linguistic</td>\n",
       "      <td>14</td>\n",
       "      <td>Professor James Aitken White was a leading Sco...</td>\n",
       "    </tr>\n",
       "    <tr>\n",
       "      <th>15</th>\n",
       "      <td>0</td>\n",
       "      <td>AA5</td>\n",
       "      <td>Biographical / Historical</td>\n",
       "      <td>AA5_00100.ann</td>\n",
       "      <td>(871, 873)</td>\n",
       "      <td>he</td>\n",
       "      <td>Gendered-Pronoun</td>\n",
       "      <td>Linguistic</td>\n",
       "      <td>15</td>\n",
       "      <td>Professor James Aitken White was a leading Sco...</td>\n",
       "    </tr>\n",
       "    <tr>\n",
       "      <th>16</th>\n",
       "      <td>0</td>\n",
       "      <td>AA5</td>\n",
       "      <td>Biographical / Historical</td>\n",
       "      <td>AA5_00100.ann</td>\n",
       "      <td>(913, 916)</td>\n",
       "      <td>his</td>\n",
       "      <td>Gendered-Pronoun</td>\n",
       "      <td>Linguistic</td>\n",
       "      <td>16</td>\n",
       "      <td>Professor James Aitken White was a leading Sco...</td>\n",
       "    </tr>\n",
       "    <tr>\n",
       "      <th>17</th>\n",
       "      <td>0</td>\n",
       "      <td>AA5</td>\n",
       "      <td>Biographical / Historical</td>\n",
       "      <td>AA5_00100.ann</td>\n",
       "      <td>(928, 930)</td>\n",
       "      <td>he</td>\n",
       "      <td>Gendered-Pronoun</td>\n",
       "      <td>Linguistic</td>\n",
       "      <td>17</td>\n",
       "      <td>Professor James Aitken White was a leading Sco...</td>\n",
       "    </tr>\n",
       "    <tr>\n",
       "      <th>18</th>\n",
       "      <td>0</td>\n",
       "      <td>AA5</td>\n",
       "      <td>Biographical / Historical</td>\n",
       "      <td>AA5_00100.ann</td>\n",
       "      <td>(955, 968)</td>\n",
       "      <td>army Chaplain</td>\n",
       "      <td>Occupation</td>\n",
       "      <td>Contextual</td>\n",
       "      <td>18</td>\n",
       "      <td>Professor James Aitken White was a leading Sco...</td>\n",
       "    </tr>\n",
       "  </tbody>\n",
       "</table>\n",
       "</div>"
      ],
      "text/plain": [
       "    desc_id eadid                      field           file       offsets  \\\n",
       "0         0   AA5  Biographical / Historical  AA5_00100.ann  (1032, 1043)   \n",
       "1         0   AA5  Biographical / Historical  AA5_00100.ann  (1129, 1177)   \n",
       "2         0   AA5  Biographical / Historical  AA5_00100.ann  (1217, 1219)   \n",
       "3         0   AA5  Biographical / Historical  AA5_00100.ann  (1241, 1244)   \n",
       "4         0   AA5  Biographical / Historical  AA5_00100.ann  (1315, 1317)   \n",
       "5         0   AA5  Biographical / Historical  AA5_00100.ann  (1350, 1361)   \n",
       "10        0   AA5  Biographical / Historical  AA5_00100.ann    (661, 689)   \n",
       "11        0   AA5  Biographical / Historical  AA5_00100.ann    (696, 723)   \n",
       "12        0   AA5  Biographical / Historical  AA5_00100.ann    (704, 723)   \n",
       "13        0   AA5  Biographical / Historical  AA5_00100.ann    (728, 787)   \n",
       "14        0   AA5  Biographical / Historical  AA5_00100.ann    (789, 791)   \n",
       "15        0   AA5  Biographical / Historical  AA5_00100.ann    (871, 873)   \n",
       "16        0   AA5  Biographical / Historical  AA5_00100.ann    (913, 916)   \n",
       "17        0   AA5  Biographical / Historical  AA5_00100.ann    (928, 930)   \n",
       "18        0   AA5  Biographical / Historical  AA5_00100.ann    (955, 968)   \n",
       "\n",
       "                                                 text             label  \\\n",
       "0                                         James Whyte         Masculine   \n",
       "1    chair of practical theology and Christian ethics        Occupation   \n",
       "2                                                  he  Gendered-Pronoun   \n",
       "3                                                 His  Gendered-Pronoun   \n",
       "4                                                  he  Gendered-Pronoun   \n",
       "5                                         James Whyte         Masculine   \n",
       "10                       Professor James Aitken White         Masculine   \n",
       "11                        leading Scottish Theologian        Stereotype   \n",
       "12                                Scottish Theologian        Occupation   \n",
       "13  Moderator of the General Assembly of the Churc...        Occupation   \n",
       "14                                                 He  Gendered-Pronoun   \n",
       "15                                                 he  Gendered-Pronoun   \n",
       "16                                                his  Gendered-Pronoun   \n",
       "17                                                 he  Gendered-Pronoun   \n",
       "18                                      army Chaplain        Occupation   \n",
       "\n",
       "       category  id                                        description  \n",
       "0   Person-Name   0  Professor James Aitken White was a leading Sco...  \n",
       "1    Contextual   1  Professor James Aitken White was a leading Sco...  \n",
       "2    Linguistic   2  Professor James Aitken White was a leading Sco...  \n",
       "3    Linguistic   3  Professor James Aitken White was a leading Sco...  \n",
       "4    Linguistic   4  Professor James Aitken White was a leading Sco...  \n",
       "5   Person-Name   5  Professor James Aitken White was a leading Sco...  \n",
       "10  Person-Name  10  Professor James Aitken White was a leading Sco...  \n",
       "11   Contextual  11  Professor James Aitken White was a leading Sco...  \n",
       "12   Contextual  12  Professor James Aitken White was a leading Sco...  \n",
       "13   Contextual  13  Professor James Aitken White was a leading Sco...  \n",
       "14   Linguistic  14  Professor James Aitken White was a leading Sco...  \n",
       "15   Linguistic  15  Professor James Aitken White was a leading Sco...  \n",
       "16   Linguistic  16  Professor James Aitken White was a leading Sco...  \n",
       "17   Linguistic  17  Professor James Aitken White was a leading Sco...  \n",
       "18   Contextual  18  Professor James Aitken White was a leading Sco...  "
      ]
     },
     "execution_count": 67,
     "metadata": {},
     "output_type": "execute_result"
    }
   ],
   "source": [
    "# Start with a sample - the first description\n",
    "df.loc[df.desc_id == 0]"
   ]
  },
  {
   "cell_type": "code",
   "execution_count": 66,
   "metadata": {},
   "outputs": [
    {
     "data": {
      "text/html": [
       "<div>\n",
       "<style scoped>\n",
       "    .dataframe tbody tr th:only-of-type {\n",
       "        vertical-align: middle;\n",
       "    }\n",
       "\n",
       "    .dataframe tbody tr th {\n",
       "        vertical-align: top;\n",
       "    }\n",
       "\n",
       "    .dataframe thead th {\n",
       "        text-align: right;\n",
       "    }\n",
       "</style>\n",
       "<table border=\"1\" class=\"dataframe\">\n",
       "  <thead>\n",
       "    <tr style=\"text-align: right;\">\n",
       "      <th></th>\n",
       "      <th>desc_id</th>\n",
       "      <th>eadid</th>\n",
       "      <th>field</th>\n",
       "      <th>file</th>\n",
       "      <th>offsets</th>\n",
       "      <th>text</th>\n",
       "      <th>label</th>\n",
       "      <th>category</th>\n",
       "      <th>id</th>\n",
       "      <th>description</th>\n",
       "    </tr>\n",
       "  </thead>\n",
       "  <tbody>\n",
       "    <tr>\n",
       "      <th>2</th>\n",
       "      <td>0</td>\n",
       "      <td>AA5</td>\n",
       "      <td>Biographical / Historical</td>\n",
       "      <td>AA5_00100.ann</td>\n",
       "      <td>(1217, 1219)</td>\n",
       "      <td>he</td>\n",
       "      <td>Gendered-Pronoun</td>\n",
       "      <td>Linguistic</td>\n",
       "      <td>2</td>\n",
       "      <td>Professor James Aitken White was a leading Sco...</td>\n",
       "    </tr>\n",
       "    <tr>\n",
       "      <th>3</th>\n",
       "      <td>0</td>\n",
       "      <td>AA5</td>\n",
       "      <td>Biographical / Historical</td>\n",
       "      <td>AA5_00100.ann</td>\n",
       "      <td>(1241, 1244)</td>\n",
       "      <td>His</td>\n",
       "      <td>Gendered-Pronoun</td>\n",
       "      <td>Linguistic</td>\n",
       "      <td>3</td>\n",
       "      <td>Professor James Aitken White was a leading Sco...</td>\n",
       "    </tr>\n",
       "    <tr>\n",
       "      <th>4</th>\n",
       "      <td>0</td>\n",
       "      <td>AA5</td>\n",
       "      <td>Biographical / Historical</td>\n",
       "      <td>AA5_00100.ann</td>\n",
       "      <td>(1315, 1317)</td>\n",
       "      <td>he</td>\n",
       "      <td>Gendered-Pronoun</td>\n",
       "      <td>Linguistic</td>\n",
       "      <td>4</td>\n",
       "      <td>Professor James Aitken White was a leading Sco...</td>\n",
       "    </tr>\n",
       "    <tr>\n",
       "      <th>14</th>\n",
       "      <td>0</td>\n",
       "      <td>AA5</td>\n",
       "      <td>Biographical / Historical</td>\n",
       "      <td>AA5_00100.ann</td>\n",
       "      <td>(789, 791)</td>\n",
       "      <td>He</td>\n",
       "      <td>Gendered-Pronoun</td>\n",
       "      <td>Linguistic</td>\n",
       "      <td>14</td>\n",
       "      <td>Professor James Aitken White was a leading Sco...</td>\n",
       "    </tr>\n",
       "    <tr>\n",
       "      <th>15</th>\n",
       "      <td>0</td>\n",
       "      <td>AA5</td>\n",
       "      <td>Biographical / Historical</td>\n",
       "      <td>AA5_00100.ann</td>\n",
       "      <td>(871, 873)</td>\n",
       "      <td>he</td>\n",
       "      <td>Gendered-Pronoun</td>\n",
       "      <td>Linguistic</td>\n",
       "      <td>15</td>\n",
       "      <td>Professor James Aitken White was a leading Sco...</td>\n",
       "    </tr>\n",
       "    <tr>\n",
       "      <th>16</th>\n",
       "      <td>0</td>\n",
       "      <td>AA5</td>\n",
       "      <td>Biographical / Historical</td>\n",
       "      <td>AA5_00100.ann</td>\n",
       "      <td>(913, 916)</td>\n",
       "      <td>his</td>\n",
       "      <td>Gendered-Pronoun</td>\n",
       "      <td>Linguistic</td>\n",
       "      <td>16</td>\n",
       "      <td>Professor James Aitken White was a leading Sco...</td>\n",
       "    </tr>\n",
       "    <tr>\n",
       "      <th>17</th>\n",
       "      <td>0</td>\n",
       "      <td>AA5</td>\n",
       "      <td>Biographical / Historical</td>\n",
       "      <td>AA5_00100.ann</td>\n",
       "      <td>(928, 930)</td>\n",
       "      <td>he</td>\n",
       "      <td>Gendered-Pronoun</td>\n",
       "      <td>Linguistic</td>\n",
       "      <td>17</td>\n",
       "      <td>Professor James Aitken White was a leading Sco...</td>\n",
       "    </tr>\n",
       "  </tbody>\n",
       "</table>\n",
       "</div>"
      ],
      "text/plain": [
       "    desc_id eadid                      field           file       offsets  \\\n",
       "2         0   AA5  Biographical / Historical  AA5_00100.ann  (1217, 1219)   \n",
       "3         0   AA5  Biographical / Historical  AA5_00100.ann  (1241, 1244)   \n",
       "4         0   AA5  Biographical / Historical  AA5_00100.ann  (1315, 1317)   \n",
       "14        0   AA5  Biographical / Historical  AA5_00100.ann    (789, 791)   \n",
       "15        0   AA5  Biographical / Historical  AA5_00100.ann    (871, 873)   \n",
       "16        0   AA5  Biographical / Historical  AA5_00100.ann    (913, 916)   \n",
       "17        0   AA5  Biographical / Historical  AA5_00100.ann    (928, 930)   \n",
       "\n",
       "   text             label    category  id  \\\n",
       "2    he  Gendered-Pronoun  Linguistic   2   \n",
       "3   His  Gendered-Pronoun  Linguistic   3   \n",
       "4    he  Gendered-Pronoun  Linguistic   4   \n",
       "14   He  Gendered-Pronoun  Linguistic  14   \n",
       "15   he  Gendered-Pronoun  Linguistic  15   \n",
       "16  his  Gendered-Pronoun  Linguistic  16   \n",
       "17   he  Gendered-Pronoun  Linguistic  17   \n",
       "\n",
       "                                          description  \n",
       "2   Professor James Aitken White was a leading Sco...  \n",
       "3   Professor James Aitken White was a leading Sco...  \n",
       "4   Professor James Aitken White was a leading Sco...  \n",
       "14  Professor James Aitken White was a leading Sco...  \n",
       "15  Professor James Aitken White was a leading Sco...  \n",
       "16  Professor James Aitken White was a leading Sco...  \n",
       "17  Professor James Aitken White was a leading Sco...  "
      ]
     },
     "execution_count": 66,
     "metadata": {},
     "output_type": "execute_result"
    }
   ],
   "source": [
    "df_gp.loc[df_gp.eadid == \"AA5\"]"
   ]
  },
  {
   "cell_type": "code",
   "execution_count": 59,
   "metadata": {},
   "outputs": [
    {
     "name": "stdout",
     "output_type": "stream",
     "text": [
      "Professor James Aitken White was a leading Scottish Theologian and Moderator of the General Assembly of the Church of Scotland. He was educated at Daniel Stewart's College and the University of Edinburgh where he studied philosophy and divinity. After his ordination he spent three years as an army Chaplain and then in 1948 was inducted to Dunollie Road Church in Oban. James Whyte moved to Mayfield North Church in Edinburgh in 1954 and in 1958 was appointed to the chair of practical theology and Christian ethics at the University of St Andrew's where he remained until 1987. His primary interests were in liturgy and ecclesiastical architecture and he also lectured on pastoral care.\n",
      "James Whyte was called upon to preach at the memorial service for the victims of the Lockerbie disaster on 4th January 1989. The service was relayed around the world and was widely cited in the press having had a great impact. The full text of this sermon was published in Laughter and Tears: Thoughts on Faith in the Face of Suffering (Edinburgh, St Andrew's Press, 1993).\n"
     ]
    }
   ],
   "source": [
    "d = df_gp.loc[df_gp.desc_id == 0].description.unique()[0]\n",
    "print(d)"
   ]
  },
  {
   "cell_type": "code",
   "execution_count": 62,
   "metadata": {},
   "outputs": [
    {
     "data": {
      "text/plain": [
       "128"
      ]
     },
     "execution_count": 62,
     "metadata": {},
     "output_type": "execute_result"
    }
   ],
   "source": [
    "d.index(\"H\")"
   ]
  },
  {
   "cell_type": "code",
   "execution_count": null,
   "metadata": {},
   "outputs": [],
   "source": []
  },
  {
   "cell_type": "code",
   "execution_count": null,
   "metadata": {},
   "outputs": [],
   "source": []
  },
  {
   "cell_type": "code",
   "execution_count": null,
   "metadata": {},
   "outputs": [],
   "source": []
  },
  {
   "cell_type": "code",
   "execution_count": null,
   "metadata": {},
   "outputs": [],
   "source": []
  },
  {
   "cell_type": "code",
   "execution_count": 48,
   "metadata": {},
   "outputs": [
    {
     "data": {
      "text/html": [
       "<div>\n",
       "<style scoped>\n",
       "    .dataframe tbody tr th:only-of-type {\n",
       "        vertical-align: middle;\n",
       "    }\n",
       "\n",
       "    .dataframe tbody tr th {\n",
       "        vertical-align: top;\n",
       "    }\n",
       "\n",
       "    .dataframe thead th {\n",
       "        text-align: right;\n",
       "    }\n",
       "</style>\n",
       "<table border=\"1\" class=\"dataframe\">\n",
       "  <thead>\n",
       "    <tr style=\"text-align: right;\">\n",
       "      <th></th>\n",
       "      <th>desc_id</th>\n",
       "      <th>label</th>\n",
       "    </tr>\n",
       "  </thead>\n",
       "  <tbody>\n",
       "    <tr>\n",
       "      <th>0</th>\n",
       "      <td>0</td>\n",
       "      <td>7</td>\n",
       "    </tr>\n",
       "    <tr>\n",
       "      <th>1</th>\n",
       "      <td>2</td>\n",
       "      <td>10</td>\n",
       "    </tr>\n",
       "    <tr>\n",
       "      <th>2</th>\n",
       "      <td>4</td>\n",
       "      <td>10</td>\n",
       "    </tr>\n",
       "    <tr>\n",
       "      <th>3</th>\n",
       "      <td>29</td>\n",
       "      <td>1</td>\n",
       "    </tr>\n",
       "    <tr>\n",
       "      <th>4</th>\n",
       "      <td>87</td>\n",
       "      <td>1</td>\n",
       "    </tr>\n",
       "  </tbody>\n",
       "</table>\n",
       "</div>"
      ],
      "text/plain": [
       "   desc_id  label\n",
       "0        0      7\n",
       "1        2     10\n",
       "2        4     10\n",
       "3       29      1\n",
       "4       87      1"
      ]
     },
     "execution_count": 48,
     "metadata": {},
     "output_type": "execute_result"
    }
   ],
   "source": [
    "gp_counts_per_desc = df_gp.drop(columns=[\"file\",\"offsets\",\"category\",\"eadid\",\"field\",\"id\",\"text\"])\n",
    "gp_counts_per_desc = gp_counts_per_desc.groupby([\"desc_id\"]).count()\n",
    "gp_counts_per_desc = gp_counts_per_desc.reset_index()\n",
    "gp_counts_per_desc.head()"
   ]
  },
  {
   "cell_type": "code",
   "execution_count": 49,
   "metadata": {},
   "outputs": [],
   "source": [
    "desc_ids = list(df_desc.desc_id)\n",
    "desc_dict = dict(zip(desc_ids,descs_split))\n",
    "automatic_labels = dict.fromkeys(desc_ids,0)\n",
    "for desc_id,desc in desc_dict.items():\n",
    "    matches = utils.countMatches(desc, pattern_list)\n",
    "    total_matches = int(np.asarray(list(matches.values())).sum())\n",
    "    automatic_labels[desc_id] = total_matches"
   ]
  },
  {
   "cell_type": "code",
   "execution_count": 50,
   "metadata": {},
   "outputs": [
    {
     "data": {
      "text/html": [
       "<div>\n",
       "<style scoped>\n",
       "    .dataframe tbody tr th:only-of-type {\n",
       "        vertical-align: middle;\n",
       "    }\n",
       "\n",
       "    .dataframe tbody tr th {\n",
       "        vertical-align: top;\n",
       "    }\n",
       "\n",
       "    .dataframe thead th {\n",
       "        text-align: right;\n",
       "    }\n",
       "</style>\n",
       "<table border=\"1\" class=\"dataframe\">\n",
       "  <thead>\n",
       "    <tr style=\"text-align: right;\">\n",
       "      <th></th>\n",
       "      <th>desc_id</th>\n",
       "      <th>label</th>\n",
       "    </tr>\n",
       "  </thead>\n",
       "  <tbody>\n",
       "    <tr>\n",
       "      <th>10705</th>\n",
       "      <td>11889</td>\n",
       "      <td>0</td>\n",
       "    </tr>\n",
       "    <tr>\n",
       "      <th>10706</th>\n",
       "      <td>11890</td>\n",
       "      <td>0</td>\n",
       "    </tr>\n",
       "    <tr>\n",
       "      <th>10707</th>\n",
       "      <td>11891</td>\n",
       "      <td>0</td>\n",
       "    </tr>\n",
       "    <tr>\n",
       "      <th>10708</th>\n",
       "      <td>11892</td>\n",
       "      <td>0</td>\n",
       "    </tr>\n",
       "    <tr>\n",
       "      <th>10709</th>\n",
       "      <td>11893</td>\n",
       "      <td>0</td>\n",
       "    </tr>\n",
       "  </tbody>\n",
       "</table>\n",
       "</div>"
      ],
      "text/plain": [
       "       desc_id  label\n",
       "10705    11889      0\n",
       "10706    11890      0\n",
       "10707    11891      0\n",
       "10708    11892      0\n",
       "10709    11893      0"
      ]
     },
     "execution_count": 50,
     "metadata": {},
     "output_type": "execute_result"
    }
   ],
   "source": [
    "manual_desc_ids = list(gp_counts_per_desc.desc_id)\n",
    "ids_to_add = [desc_id for desc_id in desc_ids if desc_id not in manual_desc_ids]\n",
    "label_counts_to_add = [0]*len(ids_to_add)\n",
    "to_add = pd.DataFrame({\"desc_id\":ids_to_add, \"label\":label_counts_to_add})\n",
    "gp_counts_per_desc = pd.concat([gp_counts_per_desc,to_add])\n",
    "gp_counts_per_desc.tail()"
   ]
  },
  {
   "cell_type": "code",
   "execution_count": 51,
   "metadata": {},
   "outputs": [
    {
     "data": {
      "text/html": [
       "<div>\n",
       "<style scoped>\n",
       "    .dataframe tbody tr th:only-of-type {\n",
       "        vertical-align: middle;\n",
       "    }\n",
       "\n",
       "    .dataframe tbody tr th {\n",
       "        vertical-align: top;\n",
       "    }\n",
       "\n",
       "    .dataframe thead th {\n",
       "        text-align: right;\n",
       "    }\n",
       "</style>\n",
       "<table border=\"1\" class=\"dataframe\">\n",
       "  <thead>\n",
       "    <tr style=\"text-align: right;\">\n",
       "      <th></th>\n",
       "      <th>desc_id</th>\n",
       "      <th>manual_label_count</th>\n",
       "      <th>regex_label_count</th>\n",
       "    </tr>\n",
       "  </thead>\n",
       "  <tbody>\n",
       "    <tr>\n",
       "      <th>0</th>\n",
       "      <td>0</td>\n",
       "      <td>7</td>\n",
       "      <td>7</td>\n",
       "    </tr>\n",
       "    <tr>\n",
       "      <th>1</th>\n",
       "      <td>2</td>\n",
       "      <td>10</td>\n",
       "      <td>0</td>\n",
       "    </tr>\n",
       "    <tr>\n",
       "      <th>2</th>\n",
       "      <td>4</td>\n",
       "      <td>10</td>\n",
       "      <td>10</td>\n",
       "    </tr>\n",
       "    <tr>\n",
       "      <th>3</th>\n",
       "      <td>29</td>\n",
       "      <td>1</td>\n",
       "      <td>0</td>\n",
       "    </tr>\n",
       "    <tr>\n",
       "      <th>4</th>\n",
       "      <td>87</td>\n",
       "      <td>1</td>\n",
       "      <td>10</td>\n",
       "    </tr>\n",
       "  </tbody>\n",
       "</table>\n",
       "</div>"
      ],
      "text/plain": [
       "   desc_id  manual_label_count  regex_label_count\n",
       "0        0                   7                  7\n",
       "1        2                  10                  0\n",
       "2        4                  10                 10\n",
       "3       29                   1                  0\n",
       "4       87                   1                 10"
      ]
     },
     "execution_count": 51,
     "metadata": {},
     "output_type": "execute_result"
    }
   ],
   "source": [
    "gp_counts_per_desc = gp_counts_per_desc.rename(columns={\"label\":\"manual_label_count\"})\n",
    "gp_counts_per_desc.insert(len(gp_counts_per_desc.columns), \"regex_label_count\", list(automatic_labels.values()))\n",
    "gp_counts_per_desc.head()"
   ]
  },
  {
   "cell_type": "code",
   "execution_count": 52,
   "metadata": {},
   "outputs": [
    {
     "data": {
      "text/html": [
       "<div>\n",
       "<style scoped>\n",
       "    .dataframe tbody tr th:only-of-type {\n",
       "        vertical-align: middle;\n",
       "    }\n",
       "\n",
       "    .dataframe tbody tr th {\n",
       "        vertical-align: top;\n",
       "    }\n",
       "\n",
       "    .dataframe thead th {\n",
       "        text-align: right;\n",
       "    }\n",
       "</style>\n",
       "<table border=\"1\" class=\"dataframe\">\n",
       "  <thead>\n",
       "    <tr style=\"text-align: right;\">\n",
       "      <th></th>\n",
       "      <th>desc_id</th>\n",
       "      <th>manual_label_count</th>\n",
       "      <th>regex_label_count</th>\n",
       "      <th>regex_compared_to_manual</th>\n",
       "    </tr>\n",
       "  </thead>\n",
       "  <tbody>\n",
       "    <tr>\n",
       "      <th>0</th>\n",
       "      <td>0</td>\n",
       "      <td>7</td>\n",
       "      <td>7</td>\n",
       "      <td>same</td>\n",
       "    </tr>\n",
       "    <tr>\n",
       "      <th>1</th>\n",
       "      <td>2</td>\n",
       "      <td>10</td>\n",
       "      <td>0</td>\n",
       "      <td>more</td>\n",
       "    </tr>\n",
       "    <tr>\n",
       "      <th>2</th>\n",
       "      <td>4</td>\n",
       "      <td>10</td>\n",
       "      <td>10</td>\n",
       "      <td>same</td>\n",
       "    </tr>\n",
       "    <tr>\n",
       "      <th>3</th>\n",
       "      <td>29</td>\n",
       "      <td>1</td>\n",
       "      <td>0</td>\n",
       "      <td>more</td>\n",
       "    </tr>\n",
       "    <tr>\n",
       "      <th>4</th>\n",
       "      <td>87</td>\n",
       "      <td>1</td>\n",
       "      <td>10</td>\n",
       "      <td>less</td>\n",
       "    </tr>\n",
       "  </tbody>\n",
       "</table>\n",
       "</div>"
      ],
      "text/plain": [
       "   desc_id  manual_label_count  regex_label_count regex_compared_to_manual\n",
       "0        0                   7                  7                     same\n",
       "1        2                  10                  0                     more\n",
       "2        4                  10                 10                     same\n",
       "3       29                   1                  0                     more\n",
       "4       87                   1                 10                     less"
      ]
     },
     "execution_count": 52,
     "metadata": {},
     "output_type": "execute_result"
    }
   ],
   "source": [
    "manual = list(gp_counts_per_desc.manual_label_count)\n",
    "regex = list(gp_counts_per_desc.regex_label_count)\n",
    "comparison_to_manual = []\n",
    "for i,manual_count in enumerate(manual):\n",
    "    if manual_count == regex[i]:\n",
    "        comparison_to_manual += [\"same\"]\n",
    "    elif manual_count > regex[i]:\n",
    "        comparison_to_manual += [\"more\"]\n",
    "    else:\n",
    "        comparison_to_manual += [\"less\"]\n",
    "gp_counts_per_desc.insert(len(gp_counts_per_desc.columns),\"regex_compared_to_manual\",comparison_to_manual)\n",
    "gp_counts_per_desc.head()"
   ]
  },
  {
   "cell_type": "code",
   "execution_count": 53,
   "metadata": {},
   "outputs": [
    {
     "data": {
      "text/plain": [
       "same    9692\n",
       "less    1125\n",
       "more    1077\n",
       "Name: regex_compared_to_manual, dtype: int64"
      ]
     },
     "execution_count": 53,
     "metadata": {},
     "output_type": "execute_result"
    }
   ],
   "source": [
    "gp_counts_per_desc.regex_compared_to_manual.value_counts()"
   ]
  },
  {
   "cell_type": "code",
   "execution_count": 57,
   "metadata": {},
   "outputs": [],
   "source": [
    "total = gp_counts_per_desc.regex_compared_to_manual.value_counts().sum()"
   ]
  },
  {
   "cell_type": "code",
   "execution_count": 59,
   "metadata": {},
   "outputs": [
    {
     "name": "stdout",
     "output_type": "stream",
     "text": [
      "Ratios:\n",
      " - same: 81%\n",
      " - less: 9%\n",
      " - more: 9%\n"
     ]
    }
   ],
   "source": [
    "same_count = gp_counts_per_desc.regex_compared_to_manual.value_counts()[0]\n",
    "less_count = gp_counts_per_desc.regex_compared_to_manual.value_counts()[1]\n",
    "more_count = gp_counts_per_desc.regex_compared_to_manual.value_counts()[2]\n",
    "print(\"Ratios:\")\n",
    "print(\" - same:\",str(round((same_count/total)*100))+\"%\")\n",
    "print(\" - less:\",str(round((less_count/total)*100))+\"%\")\n",
    "print(\" - more:\",str(round((more_count/total)*100))+\"%\")"
   ]
  },
  {
   "cell_type": "markdown",
   "metadata": {},
   "source": [
    "Based on the counts of gendered pronouns per description, it looks like RegEx does pretty well!"
   ]
  },
  {
   "cell_type": "markdown",
   "metadata": {},
   "source": [
    "## III. Gendered Roles"
   ]
  },
  {
   "cell_type": "markdown",
   "metadata": {},
   "source": [
    "First, investigate the text labeled with `Gendered-Role` to decide whether RegEx or part-of-speech (POS) tagging could be suitable to automatically annotating with this label."
   ]
  },
  {
   "cell_type": "code",
   "execution_count": 68,
   "metadata": {},
   "outputs": [],
   "source": [
    "filepath = data_dir+\"analysis_data/labeled_text_occurrences.csv\""
   ]
  },
  {
   "cell_type": "code",
   "execution_count": 73,
   "metadata": {},
   "outputs": [],
   "source": [
    "label_name = \"Gendered Role\""
   ]
  },
  {
   "cell_type": "code",
   "execution_count": 74,
   "metadata": {},
   "outputs": [
    {
     "data": {
      "text/html": [
       "<div>\n",
       "<style scoped>\n",
       "    .dataframe tbody tr th:only-of-type {\n",
       "        vertical-align: middle;\n",
       "    }\n",
       "\n",
       "    .dataframe tbody tr th {\n",
       "        vertical-align: top;\n",
       "    }\n",
       "\n",
       "    .dataframe thead th {\n",
       "        text-align: right;\n",
       "    }\n",
       "</style>\n",
       "<table border=\"1\" class=\"dataframe\">\n",
       "  <thead>\n",
       "    <tr style=\"text-align: right;\">\n",
       "      <th></th>\n",
       "      <th>text</th>\n",
       "      <th>occurrence</th>\n",
       "      <th>label</th>\n",
       "    </tr>\n",
       "  </thead>\n",
       "  <tbody>\n",
       "    <tr>\n",
       "      <th>4463</th>\n",
       "      <td>men</td>\n",
       "      <td>415</td>\n",
       "      <td>Gendered Role</td>\n",
       "    </tr>\n",
       "    <tr>\n",
       "      <th>4464</th>\n",
       "      <td>Sir</td>\n",
       "      <td>330</td>\n",
       "      <td>Gendered Role</td>\n",
       "    </tr>\n",
       "    <tr>\n",
       "      <th>4465</th>\n",
       "      <td>Mr</td>\n",
       "      <td>269</td>\n",
       "      <td>Gendered Role</td>\n",
       "    </tr>\n",
       "    <tr>\n",
       "      <th>4466</th>\n",
       "      <td>Mrs</td>\n",
       "      <td>256</td>\n",
       "      <td>Gendered Role</td>\n",
       "    </tr>\n",
       "    <tr>\n",
       "      <th>4467</th>\n",
       "      <td>Lady</td>\n",
       "      <td>155</td>\n",
       "      <td>Gendered Role</td>\n",
       "    </tr>\n",
       "  </tbody>\n",
       "</table>\n",
       "</div>"
      ],
      "text/plain": [
       "      text  occurrence          label\n",
       "4463   men         415  Gendered Role\n",
       "4464   Sir         330  Gendered Role\n",
       "4465    Mr         269  Gendered Role\n",
       "4466   Mrs         256  Gendered Role\n",
       "4467  Lady         155  Gendered Role"
      ]
     },
     "execution_count": 74,
     "metadata": {},
     "output_type": "execute_result"
    }
   ],
   "source": [
    "df_label_occur = pd.read_csv(filepath)\n",
    "df_gr_occur = df_label_occur.loc[df_label_occur.label == label_name]\n",
    "df_gr_occur.head()"
   ]
  },
  {
   "cell_type": "code",
   "execution_count": 75,
   "metadata": {},
   "outputs": [
    {
     "name": "stdout",
     "output_type": "stream",
     "text": [
      "231\n"
     ]
    }
   ],
   "source": [
    "text_list = list(df_gr_occur.text)\n",
    "text_list_lower = [t.lower() for t in text_list]\n",
    "text_unique = set(text_list_lower)\n",
    "print(len(text_unique))"
   ]
  },
  {
   "cell_type": "code",
   "execution_count": null,
   "metadata": {},
   "outputs": [],
   "source": []
  }
 ],
 "metadata": {
  "kernelspec": {
   "display_name": "Python 3",
   "language": "python",
   "name": "python3"
  },
  "language_info": {
   "codemirror_mode": {
    "name": "ipython",
    "version": 3
   },
   "file_extension": ".py",
   "mimetype": "text/x-python",
   "name": "python",
   "nbconvert_exporter": "python",
   "pygments_lexer": "ipython3",
   "version": "3.9.7"
  }
 },
 "nbformat": 4,
 "nbformat_minor": 4
}

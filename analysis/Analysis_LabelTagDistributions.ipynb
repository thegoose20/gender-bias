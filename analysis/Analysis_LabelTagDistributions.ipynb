{
 "cells": [
  {
   "cell_type": "markdown",
   "metadata": {},
   "source": [
    "# Analysis: Label and Tag Distributions"
   ]
  },
  {
   "cell_type": "markdown",
   "metadata": {},
   "source": [
    "Calculate the total number of labels and B-/I- tags across the data splits for the experiments (split 60/20/20 for training, validation, and test) and cascades (split 20/20/20/20/20 for 5-fold cross-validation)."
   ]
  },
  {
   "cell_type": "code",
   "execution_count": 1,
   "metadata": {},
   "outputs": [],
   "source": [
    "import config\n",
    "import pandas as pd"
   ]
  },
  {
   "cell_type": "code",
   "execution_count": 2,
   "metadata": {},
   "outputs": [],
   "source": [
    "def getTagTotals(df, split):\n",
    "    subdf = df.loc[df.tag != \"O\"]\n",
    "    subdf = subdf.loc[subdf.tag != \"B-Nonbinary\"]  # mistaken annotation\n",
    "    subdf = subdf.loc[subdf.tag != \"I-Nonbinary\"]  # mistaken annotation\n",
    "#     subdf = subdf.loc[subdf.tag != \"B-Omission\"]\n",
    "#     subdf = subdf.loc[subdf.tag != \"I-Omission\"]\n",
    "#     subdf = subdf.loc[subdf.tag != \"B-Stereotype\"]\n",
    "#     subdf = subdf.loc[subdf.tag != \"I-Stereotype\"]\n",
    "    # Reference: https://towardsdatascience.com/named-entity-recognition-and-classification-with-scikit-learn-f05372f07ba2\n",
    "    df_tag_totals = subdf.groupby('tag').size().reset_index(name=\"{}_total\".format(split))\n",
    "    df_tag_totals = df_tag_totals.sort_values(by=\"{}_total\".format(split))\n",
    "    df_tag_totals = df_tag_totals.reset_index()\n",
    "    df_tag_totals.drop(\"index\", axis=1)\n",
    "    tag_totals = df_tag_totals.tag.str.split(\"-\", n=1, expand=True)\n",
    "    df_tag_totals.insert(2, \"label\", tag_totals[[1]])\n",
    "    df_tag_totals = df_tag_totals.drop(columns=[\"index\"])\n",
    "    df_tag_totals = df_tag_totals.sort_values(by=[\"label\",\"tag\"])\n",
    "    return df_tag_totals\n",
    "\n",
    "def implodeDataFrame(df, cols_to_groupby):\n",
    "    cols_to_agg = list(df.columns)\n",
    "    for col in cols_to_groupby:\n",
    "        cols_to_agg.remove(col)\n",
    "    agg_dict = dict.fromkeys(cols_to_agg, lambda x: x.tolist())\n",
    "    return df.groupby(cols_to_groupby).agg(agg_dict).reset_index().set_index(cols_to_groupby)\n",
    "\n",
    "def getLabelColFromTagCol(df, col):\n",
    "    col_list = list(df[col])\n",
    "    new_col = []\n",
    "    for value_list in col_list:\n",
    "        new_value_list = []\n",
    "        for value in value_list:\n",
    "            if value != \"O\":\n",
    "                new_value = value[2:]\n",
    "                new_value_list += [new_value]\n",
    "            else:\n",
    "                new_value_list += [value]\n",
    "        # Remove any duplicates from the list of labels\n",
    "        unique_values = list(set(new_value_list))\n",
    "        # Remove \"O\" from the list if there are labels present\n",
    "        if (\"O\" in unique_values) and (len(unique_values) > 1):\n",
    "            unique_values.remove(\"O\")\n",
    "        # Sort the list of labels alphabetically\n",
    "        unique_values.sort()\n",
    "        new_col += [unique_values]\n",
    "    assert len(new_col) == len(col_list)\n",
    "    return new_col"
   ]
  },
  {
   "cell_type": "code",
   "execution_count": 13,
   "metadata": {
    "jupyter": {
     "source_hidden": true
    }
   },
   "outputs": [],
   "source": [
    "# def getDescTotals(df, split):\n",
    "#     subdf = df[[\"description_id\", \"tag\"]].loc[df.tag.isin([\"B-Omission\",\"I-Omission\",\"B-Stereotype\",\"I-Stereotype\"])]\n",
    "#     subdf = subdf.drop_duplicates()\n",
    "#     subdf[[\"tag\"]] = subdf[[\"tag\"]].replace([\"B-Omission\",\"I-Omission\"],\"Omission\")\n",
    "#     subdf[[\"tag\"]] = subdf[[\"tag\"]].replace([\"B-Stereotype\",\"I-Stereotype\"],\"Stereotype\")\n",
    "#     subdf = df[[\"description_id\", \"tag\"]].loc[df.tag.isin([\"Omission\",\"I-Omission\",\"B-Stereotype\",\"I-Stereotype\"])]\n",
    "#     subdf = subdf.drop_duplicates()\n",
    "#     subdf = subdf.rename(columns={\"tag\":\"label\"})\n",
    "#     df_totals = subdf.groupby('label').size().reset_index(name=\"{}_total\".format(split))\n",
    "#     df_totals = df_totals.sort_values(by=[\"label\"])\n",
    "#     return df_totals"
   ]
  },
  {
   "cell_type": "markdown",
   "metadata": {},
   "source": [
    "## Experiments (60/20/20)\n",
    "\n",
    "### Tokens\n",
    "\n",
    "#### Tags"
   ]
  },
  {
   "cell_type": "code",
   "execution_count": 3,
   "metadata": {},
   "outputs": [],
   "source": [
    "# Token labels\n",
    "dir_path = config.tokc_path + \"model_input/\"\n",
    "train_file = dir_path+\"token_train.csv\"\n",
    "validate_file = dir_path+\"token_validate.csv\"\n",
    "test_file = dir_path+\"token_test.csv\""
   ]
  },
  {
   "cell_type": "code",
   "execution_count": 4,
   "metadata": {},
   "outputs": [],
   "source": [
    "df_train = pd.read_csv(train_file, index_col=0)\n",
    "df_validate = pd.read_csv(validate_file, index_col=0)\n",
    "df_test = pd.read_csv(test_file, index_col=0)"
   ]
  },
  {
   "cell_type": "code",
   "execution_count": 5,
   "metadata": {},
   "outputs": [
    {
     "name": "stdout",
     "output_type": "stream",
     "text": [
      "(467564, 10)\n",
      "(157740, 10)\n",
      "(153966, 10)\n",
      "Total rows: 779270\n"
     ]
    }
   ],
   "source": [
    "print(df_train.shape)\n",
    "print(df_validate.shape)\n",
    "print(df_test.shape)\n",
    "print(\"Total rows:\", df_train.shape[0]+df_validate.shape[0]+df_test.shape[0])  # Looks good"
   ]
  },
  {
   "cell_type": "code",
   "execution_count": 13,
   "metadata": {},
   "outputs": [],
   "source": [
    "train_totals = getTagTotals(df_train, \"train\")\n",
    "dev_totals = getTagTotals(df_validate, \"dev\")\n",
    "test_totals = getTagTotals(df_test, \"test\")"
   ]
  },
  {
   "cell_type": "code",
   "execution_count": 19,
   "metadata": {},
   "outputs": [
    {
     "data": {
      "text/html": [
       "<div>\n",
       "<style scoped>\n",
       "    .dataframe tbody tr th:only-of-type {\n",
       "        vertical-align: middle;\n",
       "    }\n",
       "\n",
       "    .dataframe tbody tr th {\n",
       "        vertical-align: top;\n",
       "    }\n",
       "\n",
       "    .dataframe thead th {\n",
       "        text-align: right;\n",
       "    }\n",
       "</style>\n",
       "<table border=\"1\" class=\"dataframe\">\n",
       "  <thead>\n",
       "    <tr style=\"text-align: right;\">\n",
       "      <th></th>\n",
       "      <th>tag</th>\n",
       "      <th>label</th>\n",
       "      <th>train_total</th>\n",
       "      <th>dev_total</th>\n",
       "      <th>test_total</th>\n",
       "    </tr>\n",
       "  </thead>\n",
       "  <tbody>\n",
       "    <tr>\n",
       "      <th>5</th>\n",
       "      <td>B-Feminine</td>\n",
       "      <td>Feminine</td>\n",
       "      <td>840</td>\n",
       "      <td>323</td>\n",
       "      <td>298</td>\n",
       "    </tr>\n",
       "    <tr>\n",
       "      <th>8</th>\n",
       "      <td>I-Feminine</td>\n",
       "      <td>Feminine</td>\n",
       "      <td>1827</td>\n",
       "      <td>846</td>\n",
       "      <td>696</td>\n",
       "    </tr>\n",
       "    <tr>\n",
       "      <th>10</th>\n",
       "      <td>B-Gendered-Pronoun</td>\n",
       "      <td>Gendered-Pronoun</td>\n",
       "      <td>2186</td>\n",
       "      <td>744</td>\n",
       "      <td>748</td>\n",
       "    </tr>\n",
       "    <tr>\n",
       "      <th>0</th>\n",
       "      <td>I-Gendered-Pronoun</td>\n",
       "      <td>Gendered-Pronoun</td>\n",
       "      <td>24</td>\n",
       "      <td>16</td>\n",
       "      <td>14</td>\n",
       "    </tr>\n",
       "    <tr>\n",
       "      <th>6</th>\n",
       "      <td>B-Gendered-Role</td>\n",
       "      <td>Gendered-Role</td>\n",
       "      <td>1674</td>\n",
       "      <td>590</td>\n",
       "      <td>517</td>\n",
       "    </tr>\n",
       "    <tr>\n",
       "      <th>1</th>\n",
       "      <td>I-Gendered-Role</td>\n",
       "      <td>Gendered-Role</td>\n",
       "      <td>361</td>\n",
       "      <td>134</td>\n",
       "      <td>116</td>\n",
       "    </tr>\n",
       "    <tr>\n",
       "      <th>4</th>\n",
       "      <td>B-Generalization</td>\n",
       "      <td>Generalization</td>\n",
       "      <td>780</td>\n",
       "      <td>245</td>\n",
       "      <td>258</td>\n",
       "    </tr>\n",
       "    <tr>\n",
       "      <th>2</th>\n",
       "      <td>I-Generalization</td>\n",
       "      <td>Generalization</td>\n",
       "      <td>449</td>\n",
       "      <td>146</td>\n",
       "      <td>183</td>\n",
       "    </tr>\n",
       "    <tr>\n",
       "      <th>13</th>\n",
       "      <td>B-Masculine</td>\n",
       "      <td>Masculine</td>\n",
       "      <td>3390</td>\n",
       "      <td>1024</td>\n",
       "      <td>1096</td>\n",
       "    </tr>\n",
       "    <tr>\n",
       "      <th>14</th>\n",
       "      <td>I-Masculine</td>\n",
       "      <td>Masculine</td>\n",
       "      <td>4693</td>\n",
       "      <td>1378</td>\n",
       "      <td>1366</td>\n",
       "    </tr>\n",
       "    <tr>\n",
       "      <th>7</th>\n",
       "      <td>B-Occupation</td>\n",
       "      <td>Occupation</td>\n",
       "      <td>1827</td>\n",
       "      <td>655</td>\n",
       "      <td>474</td>\n",
       "    </tr>\n",
       "    <tr>\n",
       "      <th>9</th>\n",
       "      <td>I-Occupation</td>\n",
       "      <td>Occupation</td>\n",
       "      <td>2156</td>\n",
       "      <td>781</td>\n",
       "      <td>565</td>\n",
       "    </tr>\n",
       "    <tr>\n",
       "      <th>12</th>\n",
       "      <td>B-Omission</td>\n",
       "      <td>Omission</td>\n",
       "      <td>3330</td>\n",
       "      <td>1082</td>\n",
       "      <td>1093</td>\n",
       "    </tr>\n",
       "    <tr>\n",
       "      <th>15</th>\n",
       "      <td>I-Omission</td>\n",
       "      <td>Omission</td>\n",
       "      <td>5298</td>\n",
       "      <td>1728</td>\n",
       "      <td>1674</td>\n",
       "    </tr>\n",
       "    <tr>\n",
       "      <th>3</th>\n",
       "      <td>B-Stereotype</td>\n",
       "      <td>Stereotype</td>\n",
       "      <td>752</td>\n",
       "      <td>259</td>\n",
       "      <td>240</td>\n",
       "    </tr>\n",
       "    <tr>\n",
       "      <th>11</th>\n",
       "      <td>I-Stereotype</td>\n",
       "      <td>Stereotype</td>\n",
       "      <td>2364</td>\n",
       "      <td>867</td>\n",
       "      <td>761</td>\n",
       "    </tr>\n",
       "    <tr>\n",
       "      <th>16</th>\n",
       "      <td>B-Unknown</td>\n",
       "      <td>Unknown</td>\n",
       "      <td>6233</td>\n",
       "      <td>2060</td>\n",
       "      <td>2024</td>\n",
       "    </tr>\n",
       "    <tr>\n",
       "      <th>17</th>\n",
       "      <td>I-Unknown</td>\n",
       "      <td>Unknown</td>\n",
       "      <td>10210</td>\n",
       "      <td>3506</td>\n",
       "      <td>3235</td>\n",
       "    </tr>\n",
       "  </tbody>\n",
       "</table>\n",
       "</div>"
      ],
      "text/plain": [
       "                   tag             label  train_total  dev_total  test_total\n",
       "5           B-Feminine          Feminine          840        323         298\n",
       "8           I-Feminine          Feminine         1827        846         696\n",
       "10  B-Gendered-Pronoun  Gendered-Pronoun         2186        744         748\n",
       "0   I-Gendered-Pronoun  Gendered-Pronoun           24         16          14\n",
       "6      B-Gendered-Role     Gendered-Role         1674        590         517\n",
       "1      I-Gendered-Role     Gendered-Role          361        134         116\n",
       "4     B-Generalization    Generalization          780        245         258\n",
       "2     I-Generalization    Generalization          449        146         183\n",
       "13         B-Masculine         Masculine         3390       1024        1096\n",
       "14         I-Masculine         Masculine         4693       1378        1366\n",
       "7         B-Occupation        Occupation         1827        655         474\n",
       "9         I-Occupation        Occupation         2156        781         565\n",
       "12          B-Omission          Omission         3330       1082        1093\n",
       "15          I-Omission          Omission         5298       1728        1674\n",
       "3         B-Stereotype        Stereotype          752        259         240\n",
       "11        I-Stereotype        Stereotype         2364        867         761\n",
       "16           B-Unknown           Unknown         6233       2060        2024\n",
       "17           I-Unknown           Unknown        10210       3506        3235"
      ]
     },
     "execution_count": 19,
     "metadata": {},
     "output_type": "execute_result"
    }
   ],
   "source": [
    "multiindex = [\"tag\", \"label\"]\n",
    "joined = train_totals.join(dev_totals.set_index(multiindex), on=multiindex, how=\"outer\")\n",
    "joined_again = joined.join(test_totals.set_index(multiindex), on=multiindex, how=\"outer\")\n",
    "joined_again"
   ]
  },
  {
   "cell_type": "markdown",
   "metadata": {},
   "source": [
    "Write the totals data to files:"
   ]
  },
  {
   "cell_type": "code",
   "execution_count": 21,
   "metadata": {},
   "outputs": [],
   "source": [
    "joined_again.to_csv(config.tokc_path+\"model_input/token_tag_totals_by_split.csv\")"
   ]
  },
  {
   "cell_type": "markdown",
   "metadata": {},
   "source": [
    "#### Labels"
   ]
  },
  {
   "cell_type": "code",
   "execution_count": 34,
   "metadata": {},
   "outputs": [],
   "source": [
    "# Token labels\n",
    "dir_path = config.tokc_path + \"model_input/\"\n",
    "train_file = dir_path+\"token_train.csv\"\n",
    "validate_file = dir_path+\"token_validate.csv\"\n",
    "test_file = dir_path+\"token_test.csv\""
   ]
  },
  {
   "cell_type": "code",
   "execution_count": 35,
   "metadata": {},
   "outputs": [],
   "source": [
    "df_train = pd.read_csv(train_file, index_col=0)\n",
    "df_validate = pd.read_csv(validate_file, index_col=0)\n",
    "df_test = pd.read_csv(test_file, index_col=0)"
   ]
  },
  {
   "cell_type": "code",
   "execution_count": 36,
   "metadata": {},
   "outputs": [
    {
     "name": "stdout",
     "output_type": "stream",
     "text": [
      "(467564, 10)\n",
      "(157740, 10)\n",
      "(153966, 10)\n",
      "Total rows: 779270\n"
     ]
    }
   ],
   "source": [
    "print(df_train.shape)\n",
    "print(df_validate.shape)\n",
    "print(df_test.shape)\n",
    "print(\"Total rows:\", df_train.shape[0]+df_validate.shape[0]+df_test.shape[0])  # Looks good"
   ]
  },
  {
   "cell_type": "code",
   "execution_count": 37,
   "metadata": {},
   "outputs": [
    {
     "data": {
      "text/plain": [
       "(80136, 10)"
      ]
     },
     "execution_count": 37,
     "metadata": {},
     "output_type": "execute_result"
    }
   ],
   "source": [
    "df = pd.concat([df_train, df_validate, df_test])\n",
    "df = df.loc[df.tag != \"O\"]  # remove unannotated rows\n",
    "df = df.loc[df.tag != \"B-Nonbinary\"]  # mistaken annotation\n",
    "df = df.loc[df.tag != \"I-Nonbinary\"]  # mistaken annotation\n",
    "df.shape"
   ]
  },
  {
   "cell_type": "code",
   "execution_count": 38,
   "metadata": {},
   "outputs": [
    {
     "data": {
      "text/html": [
       "<div>\n",
       "<style scoped>\n",
       "    .dataframe tbody tr th:only-of-type {\n",
       "        vertical-align: middle;\n",
       "    }\n",
       "\n",
       "    .dataframe tbody tr th {\n",
       "        vertical-align: top;\n",
       "    }\n",
       "\n",
       "    .dataframe thead th {\n",
       "        text-align: right;\n",
       "    }\n",
       "</style>\n",
       "<table border=\"1\" class=\"dataframe\">\n",
       "  <thead>\n",
       "    <tr style=\"text-align: right;\">\n",
       "      <th></th>\n",
       "      <th>token_id</th>\n",
       "      <th>token</th>\n",
       "      <th>subset</th>\n",
       "      <th>tag</th>\n",
       "    </tr>\n",
       "  </thead>\n",
       "  <tbody>\n",
       "    <tr>\n",
       "      <th>0</th>\n",
       "      <td>7</td>\n",
       "      <td>The</td>\n",
       "      <td>train</td>\n",
       "      <td>[B-Unknown, B-Masculine, B-Stereotype]</td>\n",
       "    </tr>\n",
       "    <tr>\n",
       "      <th>1</th>\n",
       "      <td>8</td>\n",
       "      <td>Very</td>\n",
       "      <td>train</td>\n",
       "      <td>[I-Unknown, I-Stereotype, I-Masculine]</td>\n",
       "    </tr>\n",
       "    <tr>\n",
       "      <th>2</th>\n",
       "      <td>9</td>\n",
       "      <td>Rev</td>\n",
       "      <td>train</td>\n",
       "      <td>[I-Unknown, I-Masculine, B-Unknown, I-Stereotype]</td>\n",
       "    </tr>\n",
       "    <tr>\n",
       "      <th>3</th>\n",
       "      <td>10</td>\n",
       "      <td>Prof</td>\n",
       "      <td>train</td>\n",
       "      <td>[I-Stereotype, I-Masculine, I-Unknown, I-Unknown]</td>\n",
       "    </tr>\n",
       "    <tr>\n",
       "      <th>4</th>\n",
       "      <td>11</td>\n",
       "      <td>James</td>\n",
       "      <td>train</td>\n",
       "      <td>[I-Masculine, I-Unknown, I-Stereotype, I-Unknown]</td>\n",
       "    </tr>\n",
       "  </tbody>\n",
       "</table>\n",
       "</div>"
      ],
      "text/plain": [
       "   token_id  token subset                                                tag\n",
       "0         7    The  train             [B-Unknown, B-Masculine, B-Stereotype]\n",
       "1         8   Very  train             [I-Unknown, I-Stereotype, I-Masculine]\n",
       "2         9    Rev  train  [I-Unknown, I-Masculine, B-Unknown, I-Stereotype]\n",
       "3        10   Prof  train  [I-Stereotype, I-Masculine, I-Unknown, I-Unknown]\n",
       "4        11  James  train  [I-Masculine, I-Unknown, I-Stereotype, I-Unknown]"
      ]
     },
     "execution_count": 38,
     "metadata": {},
     "output_type": "execute_result"
    }
   ],
   "source": [
    "# Group data by token\n",
    "df = df.drop(columns=[\"description_id\", \"sentence_id\", \"ann_id\", \"field\", \"token_offsets\", \"pos\"])\n",
    "df_imploded = implodeDataFrame(df, [\"token_id\", \"token\", \"subset\"])\n",
    "df_imploded = df_imploded.reset_index()\n",
    "df_imploded.head()"
   ]
  },
  {
   "cell_type": "code",
   "execution_count": 39,
   "metadata": {},
   "outputs": [
    {
     "data": {
      "text/html": [
       "<div>\n",
       "<style scoped>\n",
       "    .dataframe tbody tr th:only-of-type {\n",
       "        vertical-align: middle;\n",
       "    }\n",
       "\n",
       "    .dataframe tbody tr th {\n",
       "        vertical-align: top;\n",
       "    }\n",
       "\n",
       "    .dataframe thead th {\n",
       "        text-align: right;\n",
       "    }\n",
       "</style>\n",
       "<table border=\"1\" class=\"dataframe\">\n",
       "  <thead>\n",
       "    <tr style=\"text-align: right;\">\n",
       "      <th></th>\n",
       "      <th>token_id</th>\n",
       "      <th>token</th>\n",
       "      <th>subset</th>\n",
       "      <th>tag</th>\n",
       "      <th>label</th>\n",
       "    </tr>\n",
       "  </thead>\n",
       "  <tbody>\n",
       "    <tr>\n",
       "      <th>0</th>\n",
       "      <td>7</td>\n",
       "      <td>The</td>\n",
       "      <td>train</td>\n",
       "      <td>[B-Unknown, B-Masculine, B-Stereotype]</td>\n",
       "      <td>[Masculine, Stereotype, Unknown]</td>\n",
       "    </tr>\n",
       "    <tr>\n",
       "      <th>1</th>\n",
       "      <td>8</td>\n",
       "      <td>Very</td>\n",
       "      <td>train</td>\n",
       "      <td>[I-Unknown, I-Stereotype, I-Masculine]</td>\n",
       "      <td>[Masculine, Stereotype, Unknown]</td>\n",
       "    </tr>\n",
       "    <tr>\n",
       "      <th>2</th>\n",
       "      <td>9</td>\n",
       "      <td>Rev</td>\n",
       "      <td>train</td>\n",
       "      <td>[I-Unknown, I-Masculine, B-Unknown, I-Stereotype]</td>\n",
       "      <td>[Masculine, Stereotype, Unknown]</td>\n",
       "    </tr>\n",
       "    <tr>\n",
       "      <th>3</th>\n",
       "      <td>10</td>\n",
       "      <td>Prof</td>\n",
       "      <td>train</td>\n",
       "      <td>[I-Stereotype, I-Masculine, I-Unknown, I-Unknown]</td>\n",
       "      <td>[Masculine, Stereotype, Unknown]</td>\n",
       "    </tr>\n",
       "    <tr>\n",
       "      <th>4</th>\n",
       "      <td>11</td>\n",
       "      <td>James</td>\n",
       "      <td>train</td>\n",
       "      <td>[I-Masculine, I-Unknown, I-Stereotype, I-Unknown]</td>\n",
       "      <td>[Masculine, Stereotype, Unknown]</td>\n",
       "    </tr>\n",
       "  </tbody>\n",
       "</table>\n",
       "</div>"
      ],
      "text/plain": [
       "   token_id  token subset                                                tag  \\\n",
       "0         7    The  train             [B-Unknown, B-Masculine, B-Stereotype]   \n",
       "1         8   Very  train             [I-Unknown, I-Stereotype, I-Masculine]   \n",
       "2         9    Rev  train  [I-Unknown, I-Masculine, B-Unknown, I-Stereotype]   \n",
       "3        10   Prof  train  [I-Stereotype, I-Masculine, I-Unknown, I-Unknown]   \n",
       "4        11  James  train  [I-Masculine, I-Unknown, I-Stereotype, I-Unknown]   \n",
       "\n",
       "                              label  \n",
       "0  [Masculine, Stereotype, Unknown]  \n",
       "1  [Masculine, Stereotype, Unknown]  \n",
       "2  [Masculine, Stereotype, Unknown]  \n",
       "3  [Masculine, Stereotype, Unknown]  \n",
       "4  [Masculine, Stereotype, Unknown]  "
      ]
     },
     "execution_count": 39,
     "metadata": {},
     "output_type": "execute_result"
    }
   ],
   "source": [
    "label_col = getLabelColFromTagCol(df_imploded, \"tag\")\n",
    "df_imploded.insert(len(df_imploded.columns), \"label\", label_col)\n",
    "df_imploded.head()"
   ]
  },
  {
   "cell_type": "code",
   "execution_count": 40,
   "metadata": {},
   "outputs": [
    {
     "data": {
      "text/html": [
       "<div>\n",
       "<style scoped>\n",
       "    .dataframe tbody tr th:only-of-type {\n",
       "        vertical-align: middle;\n",
       "    }\n",
       "\n",
       "    .dataframe tbody tr th {\n",
       "        vertical-align: top;\n",
       "    }\n",
       "\n",
       "    .dataframe thead th {\n",
       "        text-align: right;\n",
       "    }\n",
       "</style>\n",
       "<table border=\"1\" class=\"dataframe\">\n",
       "  <thead>\n",
       "    <tr style=\"text-align: right;\">\n",
       "      <th></th>\n",
       "      <th>token_id</th>\n",
       "      <th>subset</th>\n",
       "      <th>label</th>\n",
       "    </tr>\n",
       "  </thead>\n",
       "  <tbody>\n",
       "    <tr>\n",
       "      <th>0</th>\n",
       "      <td>7</td>\n",
       "      <td>train</td>\n",
       "      <td>Masculine</td>\n",
       "    </tr>\n",
       "    <tr>\n",
       "      <th>0</th>\n",
       "      <td>7</td>\n",
       "      <td>train</td>\n",
       "      <td>Stereotype</td>\n",
       "    </tr>\n",
       "    <tr>\n",
       "      <th>0</th>\n",
       "      <td>7</td>\n",
       "      <td>train</td>\n",
       "      <td>Unknown</td>\n",
       "    </tr>\n",
       "    <tr>\n",
       "      <th>1</th>\n",
       "      <td>8</td>\n",
       "      <td>train</td>\n",
       "      <td>Masculine</td>\n",
       "    </tr>\n",
       "    <tr>\n",
       "      <th>1</th>\n",
       "      <td>8</td>\n",
       "      <td>train</td>\n",
       "      <td>Stereotype</td>\n",
       "    </tr>\n",
       "  </tbody>\n",
       "</table>\n",
       "</div>"
      ],
      "text/plain": [
       "   token_id subset       label\n",
       "0         7  train   Masculine\n",
       "0         7  train  Stereotype\n",
       "0         7  train     Unknown\n",
       "1         8  train   Masculine\n",
       "1         8  train  Stereotype"
      ]
     },
     "execution_count": 40,
     "metadata": {},
     "output_type": "execute_result"
    }
   ],
   "source": [
    "token_labels = df_imploded[[\"token_id\",\"subset\",\"label\"]]\n",
    "token_labels = token_labels.explode(\"label\")\n",
    "token_labels.head()"
   ]
  },
  {
   "cell_type": "code",
   "execution_count": 48,
   "metadata": {},
   "outputs": [],
   "source": [
    "subset = \"train\"\n",
    "train_labels = token_labels.loc[token_labels.subset == subset].groupby(\n",
    "    [\"subset\",\"label\"]).size().reset_index(name=\"{}_total\".format(subset))\n",
    "train_labels = train_labels.drop(columns=[\"subset\"])"
   ]
  },
  {
   "cell_type": "code",
   "execution_count": 49,
   "metadata": {},
   "outputs": [],
   "source": [
    "subset = \"dev\"\n",
    "validate_labels = token_labels.loc[token_labels.subset == subset].groupby(\n",
    "    [\"subset\",\"label\"]).size().reset_index(name=\"{}_total\".format(subset))\n",
    "validate_labels = validate_labels.drop(columns=[\"subset\"])"
   ]
  },
  {
   "cell_type": "code",
   "execution_count": 50,
   "metadata": {},
   "outputs": [],
   "source": [
    "subset = \"test\"\n",
    "test_labels = token_labels.loc[token_labels.subset == subset].groupby(\n",
    "    [\"subset\",\"label\"]).size().reset_index(name=\"{}_total\".format(subset))\n",
    "test_labels = test_labels.drop(columns=[\"subset\"])"
   ]
  },
  {
   "cell_type": "code",
   "execution_count": 56,
   "metadata": {},
   "outputs": [
    {
     "data": {
      "text/html": [
       "<div>\n",
       "<style scoped>\n",
       "    .dataframe tbody tr th:only-of-type {\n",
       "        vertical-align: middle;\n",
       "    }\n",
       "\n",
       "    .dataframe tbody tr th {\n",
       "        vertical-align: top;\n",
       "    }\n",
       "\n",
       "    .dataframe thead th {\n",
       "        text-align: right;\n",
       "    }\n",
       "</style>\n",
       "<table border=\"1\" class=\"dataframe\">\n",
       "  <thead>\n",
       "    <tr style=\"text-align: right;\">\n",
       "      <th></th>\n",
       "      <th>label</th>\n",
       "      <th>train_total</th>\n",
       "      <th>dev_total</th>\n",
       "      <th>test_total</th>\n",
       "    </tr>\n",
       "  </thead>\n",
       "  <tbody>\n",
       "    <tr>\n",
       "      <th>0</th>\n",
       "      <td>Feminine</td>\n",
       "      <td>2331</td>\n",
       "      <td>944</td>\n",
       "      <td>861</td>\n",
       "    </tr>\n",
       "    <tr>\n",
       "      <th>1</th>\n",
       "      <td>Gendered-Pronoun</td>\n",
       "      <td>2210</td>\n",
       "      <td>759</td>\n",
       "      <td>762</td>\n",
       "    </tr>\n",
       "    <tr>\n",
       "      <th>2</th>\n",
       "      <td>Gendered-Role</td>\n",
       "      <td>1954</td>\n",
       "      <td>693</td>\n",
       "      <td>607</td>\n",
       "    </tr>\n",
       "    <tr>\n",
       "      <th>3</th>\n",
       "      <td>Generalization</td>\n",
       "      <td>1203</td>\n",
       "      <td>385</td>\n",
       "      <td>430</td>\n",
       "    </tr>\n",
       "    <tr>\n",
       "      <th>4</th>\n",
       "      <td>Masculine</td>\n",
       "      <td>7268</td>\n",
       "      <td>2195</td>\n",
       "      <td>2276</td>\n",
       "    </tr>\n",
       "    <tr>\n",
       "      <th>5</th>\n",
       "      <td>Occupation</td>\n",
       "      <td>3981</td>\n",
       "      <td>1435</td>\n",
       "      <td>1039</td>\n",
       "    </tr>\n",
       "    <tr>\n",
       "      <th>6</th>\n",
       "      <td>Omission</td>\n",
       "      <td>7683</td>\n",
       "      <td>2455</td>\n",
       "      <td>2461</td>\n",
       "    </tr>\n",
       "    <tr>\n",
       "      <th>7</th>\n",
       "      <td>Stereotype</td>\n",
       "      <td>2884</td>\n",
       "      <td>962</td>\n",
       "      <td>940</td>\n",
       "    </tr>\n",
       "    <tr>\n",
       "      <th>8</th>\n",
       "      <td>Unknown</td>\n",
       "      <td>14751</td>\n",
       "      <td>4919</td>\n",
       "      <td>4737</td>\n",
       "    </tr>\n",
       "  </tbody>\n",
       "</table>\n",
       "</div>"
      ],
      "text/plain": [
       "              label  train_total  dev_total  test_total\n",
       "0          Feminine         2331        944         861\n",
       "1  Gendered-Pronoun         2210        759         762\n",
       "2     Gendered-Role         1954        693         607\n",
       "3    Generalization         1203        385         430\n",
       "4         Masculine         7268       2195        2276\n",
       "5        Occupation         3981       1435        1039\n",
       "6          Omission         7683       2455        2461\n",
       "7        Stereotype         2884        962         940\n",
       "8           Unknown        14751       4919        4737"
      ]
     },
     "execution_count": 56,
     "metadata": {},
     "output_type": "execute_result"
    }
   ],
   "source": [
    "joined = train_labels.join(validate_labels.set_index(\"label\"), on=\"label\", how=\"outer\")\n",
    "joined_again = joined.join(test_labels.set_index(\"label\"), on=\"label\", how=\"outer\")\n",
    "joined_again"
   ]
  },
  {
   "cell_type": "markdown",
   "metadata": {},
   "source": [
    "Write the totals data to files:"
   ]
  },
  {
   "cell_type": "code",
   "execution_count": 58,
   "metadata": {},
   "outputs": [],
   "source": [
    "joined_again.to_csv(config.tokc_path+\"model_input/token_label_totals_by_split.csv\")"
   ]
  },
  {
   "cell_type": "markdown",
   "metadata": {},
   "source": [
    "### Descriptions"
   ]
  },
  {
   "cell_type": "code",
   "execution_count": 14,
   "metadata": {},
   "outputs": [],
   "source": [
    "# Description labels\n",
    "dir_path = config.docc_path+\"model_input/so_model_input/splits_as_csv/\"\n",
    "train_file = dir_path+\"aggregated_final_train.csv\"\n",
    "validate_file = dir_path+\"aggregated_final_validate.csv\"\n",
    "test_file = dir_path+\"aggregated_final_test.csv\""
   ]
  },
  {
   "cell_type": "code",
   "execution_count": 16,
   "metadata": {},
   "outputs": [],
   "source": [
    "df_train = pd.read_csv(train_file, index_col=0)\n",
    "df_validate = pd.read_csv(validate_file, index_col=0)\n",
    "df_test = pd.read_csv(test_file, index_col=0)"
   ]
  },
  {
   "cell_type": "code",
   "execution_count": 17,
   "metadata": {},
   "outputs": [
    {
     "name": "stdout",
     "output_type": "stream",
     "text": [
      "(16541, 7)\n",
      "(5514, 7)\n",
      "(5515, 7)\n"
     ]
    }
   ],
   "source": [
    "print(df_train.shape)\n",
    "print(df_validate.shape)\n",
    "print(df_test.shape)"
   ]
  },
  {
   "cell_type": "code",
   "execution_count": 23,
   "metadata": {},
   "outputs": [
    {
     "data": {
      "text/html": [
       "<div>\n",
       "<style scoped>\n",
       "    .dataframe tbody tr th:only-of-type {\n",
       "        vertical-align: middle;\n",
       "    }\n",
       "\n",
       "    .dataframe tbody tr th {\n",
       "        vertical-align: top;\n",
       "    }\n",
       "\n",
       "    .dataframe thead th {\n",
       "        text-align: right;\n",
       "    }\n",
       "</style>\n",
       "<table border=\"1\" class=\"dataframe\">\n",
       "  <thead>\n",
       "    <tr style=\"text-align: right;\">\n",
       "      <th></th>\n",
       "      <th>description_id</th>\n",
       "      <th>start_offset</th>\n",
       "      <th>end_offset</th>\n",
       "      <th>field</th>\n",
       "      <th>description</th>\n",
       "      <th>subset</th>\n",
       "      <th>label</th>\n",
       "    </tr>\n",
       "  </thead>\n",
       "  <tbody>\n",
       "    <tr>\n",
       "      <th>4699</th>\n",
       "      <td>4699</td>\n",
       "      <td>1853</td>\n",
       "      <td>2066</td>\n",
       "      <td>Biographical / Historical</td>\n",
       "      <td>Labelled Apparently some chapters, amounting t...</td>\n",
       "      <td>train</td>\n",
       "      <td>{'Omission'}</td>\n",
       "    </tr>\n",
       "    <tr>\n",
       "      <th>3474</th>\n",
       "      <td>3474</td>\n",
       "      <td>3608</td>\n",
       "      <td>8549</td>\n",
       "      <td>Biographical / Historical</td>\n",
       "      <td>Margaret Winifred Bartholomew was born on 21 A...</td>\n",
       "      <td>train</td>\n",
       "      <td>{'Omission', 'Stereotype'}</td>\n",
       "    </tr>\n",
       "    <tr>\n",
       "      <th>4769</th>\n",
       "      <td>4769</td>\n",
       "      <td>2378</td>\n",
       "      <td>2576</td>\n",
       "      <td>Biographical / Historical</td>\n",
       "      <td>Blacker and Thomson became close friends throu...</td>\n",
       "      <td>train</td>\n",
       "      <td>{'Omission'}</td>\n",
       "    </tr>\n",
       "    <tr>\n",
       "      <th>3027</th>\n",
       "      <td>3027</td>\n",
       "      <td>627</td>\n",
       "      <td>1162</td>\n",
       "      <td>Biographical / Historical</td>\n",
       "      <td>Thomas Young was probably born in 1725. By the...</td>\n",
       "      <td>train</td>\n",
       "      <td>{'Stereotype'}</td>\n",
       "    </tr>\n",
       "    <tr>\n",
       "      <th>3397</th>\n",
       "      <td>3397</td>\n",
       "      <td>8095</td>\n",
       "      <td>8334</td>\n",
       "      <td>Biographical / Historical</td>\n",
       "      <td>Andrew Tait worked on Paramecium in Beale's la...</td>\n",
       "      <td>train</td>\n",
       "      <td>{'Omission'}</td>\n",
       "    </tr>\n",
       "  </tbody>\n",
       "</table>\n",
       "</div>"
      ],
      "text/plain": [
       "      description_id  start_offset  end_offset                      field  \\\n",
       "4699            4699          1853        2066  Biographical / Historical   \n",
       "3474            3474          3608        8549  Biographical / Historical   \n",
       "4769            4769          2378        2576  Biographical / Historical   \n",
       "3027            3027           627        1162  Biographical / Historical   \n",
       "3397            3397          8095        8334  Biographical / Historical   \n",
       "\n",
       "                                            description subset  \\\n",
       "4699  Labelled Apparently some chapters, amounting t...  train   \n",
       "3474  Margaret Winifred Bartholomew was born on 21 A...  train   \n",
       "4769  Blacker and Thomson became close friends throu...  train   \n",
       "3027  Thomas Young was probably born in 1725. By the...  train   \n",
       "3397  Andrew Tait worked on Paramecium in Beale's la...  train   \n",
       "\n",
       "                           label  \n",
       "4699                {'Omission'}  \n",
       "3474  {'Omission', 'Stereotype'}  \n",
       "4769                {'Omission'}  \n",
       "3027              {'Stereotype'}  \n",
       "3397                {'Omission'}  "
      ]
     },
     "execution_count": 23,
     "metadata": {},
     "output_type": "execute_result"
    }
   ],
   "source": [
    "df = pd.concat([df_train,df_validate,df_test])\n",
    "df = df.loc[~df.label.isna()]\n",
    "df.head()"
   ]
  },
  {
   "cell_type": "code",
   "execution_count": 24,
   "metadata": {},
   "outputs": [],
   "source": [
    "subdf = df[[\"description_id\",\"label\",\"subset\"]]"
   ]
  },
  {
   "cell_type": "code",
   "execution_count": 25,
   "metadata": {},
   "outputs": [],
   "source": [
    "def getColumnValuesAsLists(df, col_name):\n",
    "    col_values = list(df[col_name])\n",
    "    col_list_values = [value[2:-2].split(\"', '\") for value in col_values]\n",
    "    col_i = list(df.columns).index(col_name)\n",
    "    df = df.drop(columns=[col_name])\n",
    "    df.insert(col_i, col_name, col_list_values)\n",
    "    return df"
   ]
  },
  {
   "cell_type": "code",
   "execution_count": 26,
   "metadata": {},
   "outputs": [],
   "source": [
    "desc_labels = [\"Omission\", \"Stereotype\"]"
   ]
  },
  {
   "cell_type": "code",
   "execution_count": 27,
   "metadata": {},
   "outputs": [],
   "source": [
    "subdf = getColumnValuesAsLists(subdf, \"label\")\n",
    "subdf = subdf.explode(\"label\")\n",
    "subdf = subdf.loc[subdf.label.isin(desc_labels)]\n",
    "subdf = subdf.drop_duplicates()"
   ]
  },
  {
   "cell_type": "code",
   "execution_count": 28,
   "metadata": {},
   "outputs": [
    {
     "data": {
      "text/html": [
       "<div>\n",
       "<style scoped>\n",
       "    .dataframe tbody tr th:only-of-type {\n",
       "        vertical-align: middle;\n",
       "    }\n",
       "\n",
       "    .dataframe tbody tr th {\n",
       "        vertical-align: top;\n",
       "    }\n",
       "\n",
       "    .dataframe thead th {\n",
       "        text-align: right;\n",
       "    }\n",
       "</style>\n",
       "<table border=\"1\" class=\"dataframe\">\n",
       "  <thead>\n",
       "    <tr style=\"text-align: right;\">\n",
       "      <th></th>\n",
       "      <th>description_id</th>\n",
       "      <th>label</th>\n",
       "      <th>subset</th>\n",
       "    </tr>\n",
       "  </thead>\n",
       "  <tbody>\n",
       "    <tr>\n",
       "      <th>1</th>\n",
       "      <td>1</td>\n",
       "      <td>Stereotype</td>\n",
       "      <td>train</td>\n",
       "    </tr>\n",
       "    <tr>\n",
       "      <th>3</th>\n",
       "      <td>3</td>\n",
       "      <td>Stereotype</td>\n",
       "      <td>train</td>\n",
       "    </tr>\n",
       "  </tbody>\n",
       "</table>\n",
       "</div>"
      ],
      "text/plain": [
       "   description_id       label subset\n",
       "1               1  Stereotype  train\n",
       "3               3  Stereotype  train"
      ]
     },
     "execution_count": 28,
     "metadata": {},
     "output_type": "execute_result"
    }
   ],
   "source": [
    "subdf.head(2)"
   ]
  },
  {
   "cell_type": "code",
   "execution_count": 30,
   "metadata": {},
   "outputs": [
    {
     "data": {
      "text/html": [
       "<div>\n",
       "<style scoped>\n",
       "    .dataframe tbody tr th:only-of-type {\n",
       "        vertical-align: middle;\n",
       "    }\n",
       "\n",
       "    .dataframe tbody tr th {\n",
       "        vertical-align: top;\n",
       "    }\n",
       "\n",
       "    .dataframe thead th {\n",
       "        text-align: right;\n",
       "    }\n",
       "</style>\n",
       "<table border=\"1\" class=\"dataframe\">\n",
       "  <thead>\n",
       "    <tr style=\"text-align: right;\">\n",
       "      <th></th>\n",
       "      <th>0</th>\n",
       "      <th>1</th>\n",
       "      <th>2</th>\n",
       "    </tr>\n",
       "  </thead>\n",
       "  <tbody>\n",
       "    <tr>\n",
       "      <th>subset</th>\n",
       "      <td>dev</td>\n",
       "      <td>test</td>\n",
       "      <td>train</td>\n",
       "    </tr>\n",
       "    <tr>\n",
       "      <th>Omission</th>\n",
       "      <td>804</td>\n",
       "      <td>828</td>\n",
       "      <td>2400</td>\n",
       "    </tr>\n",
       "    <tr>\n",
       "      <th>subset</th>\n",
       "      <td>dev</td>\n",
       "      <td>test</td>\n",
       "      <td>train</td>\n",
       "    </tr>\n",
       "    <tr>\n",
       "      <th>Stereotype</th>\n",
       "      <td>315</td>\n",
       "      <td>329</td>\n",
       "      <td>957</td>\n",
       "    </tr>\n",
       "  </tbody>\n",
       "</table>\n",
       "</div>"
      ],
      "text/plain": [
       "              0     1      2\n",
       "subset      dev  test  train\n",
       "Omission    804   828   2400\n",
       "subset      dev  test  train\n",
       "Stereotype  315   329    957"
      ]
     },
     "execution_count": 30,
     "metadata": {},
     "output_type": "execute_result"
    }
   ],
   "source": [
    "desc_df = pd.DataFrame()\n",
    "for label in desc_labels:\n",
    "    label_df = subdf.loc[subdf.label == label]\n",
    "    label_df = label_df.groupby(['subset','label']).size().reset_index(name=label).T.drop(\"label\")\n",
    "    desc_df = pd.concat([desc_df,label_df])\n",
    "# desc_df = desc_df.drop(\"subset\")\n",
    "desc_df"
   ]
  },
  {
   "cell_type": "markdown",
   "metadata": {},
   "source": [
    "Write the data:"
   ]
  },
  {
   "cell_type": "code",
   "execution_count": 31,
   "metadata": {},
   "outputs": [],
   "source": [
    "desc_df.to_csv(dir_path+\"desc_label_totals_by_split.csv\")"
   ]
  },
  {
   "cell_type": "markdown",
   "metadata": {},
   "source": [
    "## Cascades (20/20/20/20/20)\n",
    "\n",
    "### Tokens\n",
    "\n",
    "#### Tags"
   ]
  },
  {
   "cell_type": "code",
   "execution_count": 6,
   "metadata": {},
   "outputs": [
    {
     "data": {
      "text/plain": [
       "(779270, 10)"
      ]
     },
     "execution_count": 6,
     "metadata": {},
     "output_type": "execute_result"
    }
   ],
   "source": [
    "# Tokens\n",
    "df = pd.read_csv(config.tokc_path+\"experiment_input/token_5fold.csv\", index_col=0)\n",
    "df.shape # Looks good"
   ]
  },
  {
   "cell_type": "code",
   "execution_count": 7,
   "metadata": {},
   "outputs": [
    {
     "data": {
      "text/html": [
       "<div>\n",
       "<style scoped>\n",
       "    .dataframe tbody tr th:only-of-type {\n",
       "        vertical-align: middle;\n",
       "    }\n",
       "\n",
       "    .dataframe tbody tr th {\n",
       "        vertical-align: top;\n",
       "    }\n",
       "\n",
       "    .dataframe thead th {\n",
       "        text-align: right;\n",
       "    }\n",
       "</style>\n",
       "<table border=\"1\" class=\"dataframe\">\n",
       "  <thead>\n",
       "    <tr style=\"text-align: right;\">\n",
       "      <th></th>\n",
       "      <th>description_id</th>\n",
       "      <th>sentence_id</th>\n",
       "      <th>ann_id</th>\n",
       "      <th>token_id</th>\n",
       "      <th>token</th>\n",
       "      <th>token_offsets</th>\n",
       "      <th>pos</th>\n",
       "      <th>tag</th>\n",
       "      <th>field</th>\n",
       "      <th>fold</th>\n",
       "    </tr>\n",
       "  </thead>\n",
       "  <tbody>\n",
       "    <tr>\n",
       "      <th>0</th>\n",
       "      <td>0</td>\n",
       "      <td>0</td>\n",
       "      <td>99999</td>\n",
       "      <td>0</td>\n",
       "      <td>Identifier</td>\n",
       "      <td>(0, 10)</td>\n",
       "      <td>NN</td>\n",
       "      <td>O</td>\n",
       "      <td>Identifier</td>\n",
       "      <td>split4</td>\n",
       "    </tr>\n",
       "    <tr>\n",
       "      <th>1</th>\n",
       "      <td>0</td>\n",
       "      <td>0</td>\n",
       "      <td>99999</td>\n",
       "      <td>1</td>\n",
       "      <td>:</td>\n",
       "      <td>(10, 11)</td>\n",
       "      <td>:</td>\n",
       "      <td>O</td>\n",
       "      <td>Identifier</td>\n",
       "      <td>split4</td>\n",
       "    </tr>\n",
       "  </tbody>\n",
       "</table>\n",
       "</div>"
      ],
      "text/plain": [
       "   description_id  sentence_id  ann_id  token_id       token token_offsets  \\\n",
       "0               0            0   99999         0  Identifier       (0, 10)   \n",
       "1               0            0   99999         1           :      (10, 11)   \n",
       "\n",
       "  pos tag       field    fold  \n",
       "0  NN   O  Identifier  split4  \n",
       "1   :   O  Identifier  split4  "
      ]
     },
     "execution_count": 7,
     "metadata": {},
     "output_type": "execute_result"
    }
   ],
   "source": [
    "df.head(2)"
   ]
  },
  {
   "cell_type": "code",
   "execution_count": 156,
   "metadata": {},
   "outputs": [],
   "source": [
    "tags = ['B-Feminine','I-Feminine', 'B-Masculine', \n",
    "        'I-Masculine', 'B-Unknown', 'I-Unknown', \n",
    "        \"B-Occupation\",\"I-Occupation\",'B-Omission', \n",
    "        'I-Omission', 'B-Stereotype', 'I-Stereotype',\n",
    "        'B-Generalization', 'I-Generalization','B-Gendered-Pronoun',\n",
    "        'I-Gendered-Pronoun', 'B-Gendered-Role', 'I-Gendered-Role', \n",
    "       ]"
   ]
  },
  {
   "cell_type": "code",
   "execution_count": 157,
   "metadata": {},
   "outputs": [],
   "source": [
    "tag_df = pd.DataFrame()\n",
    "for tag in tags:\n",
    "    subdf = df.loc[df.tag == tag]\n",
    "    subdf = subdf.groupby(['fold','tag']).size().reset_index(name=tag).T.drop(\"tag\")\n",
    "    tag_df = pd.concat([tag_df,subdf])\n",
    "# tag_df"
   ]
  },
  {
   "cell_type": "code",
   "execution_count": 158,
   "metadata": {},
   "outputs": [
    {
     "data": {
      "text/html": [
       "<div>\n",
       "<style scoped>\n",
       "    .dataframe tbody tr th:only-of-type {\n",
       "        vertical-align: middle;\n",
       "    }\n",
       "\n",
       "    .dataframe tbody tr th {\n",
       "        vertical-align: top;\n",
       "    }\n",
       "\n",
       "    .dataframe thead th {\n",
       "        text-align: right;\n",
       "    }\n",
       "</style>\n",
       "<table border=\"1\" class=\"dataframe\">\n",
       "  <thead>\n",
       "    <tr style=\"text-align: right;\">\n",
       "      <th></th>\n",
       "      <th>0</th>\n",
       "      <th>1</th>\n",
       "      <th>2</th>\n",
       "      <th>3</th>\n",
       "      <th>4</th>\n",
       "    </tr>\n",
       "  </thead>\n",
       "  <tbody>\n",
       "    <tr>\n",
       "      <th>B-Feminine</th>\n",
       "      <td>264</td>\n",
       "      <td>302</td>\n",
       "      <td>274</td>\n",
       "      <td>323</td>\n",
       "      <td>298</td>\n",
       "    </tr>\n",
       "    <tr>\n",
       "      <th>I-Feminine</th>\n",
       "      <td>582</td>\n",
       "      <td>661</td>\n",
       "      <td>584</td>\n",
       "      <td>846</td>\n",
       "      <td>696</td>\n",
       "    </tr>\n",
       "    <tr>\n",
       "      <th>B-Masculine</th>\n",
       "      <td>1037</td>\n",
       "      <td>1098</td>\n",
       "      <td>1255</td>\n",
       "      <td>1024</td>\n",
       "      <td>1096</td>\n",
       "    </tr>\n",
       "    <tr>\n",
       "      <th>I-Masculine</th>\n",
       "      <td>1371</td>\n",
       "      <td>1512</td>\n",
       "      <td>1810</td>\n",
       "      <td>1378</td>\n",
       "      <td>1366</td>\n",
       "    </tr>\n",
       "    <tr>\n",
       "      <th>B-Unknown</th>\n",
       "      <td>1996</td>\n",
       "      <td>2143</td>\n",
       "      <td>2094</td>\n",
       "      <td>2060</td>\n",
       "      <td>2024</td>\n",
       "    </tr>\n",
       "    <tr>\n",
       "      <th>I-Unknown</th>\n",
       "      <td>3179</td>\n",
       "      <td>3510</td>\n",
       "      <td>3521</td>\n",
       "      <td>3506</td>\n",
       "      <td>3235</td>\n",
       "    </tr>\n",
       "    <tr>\n",
       "      <th>B-Occupation</th>\n",
       "      <td>587</td>\n",
       "      <td>590</td>\n",
       "      <td>650</td>\n",
       "      <td>655</td>\n",
       "      <td>474</td>\n",
       "    </tr>\n",
       "    <tr>\n",
       "      <th>I-Occupation</th>\n",
       "      <td>683</td>\n",
       "      <td>688</td>\n",
       "      <td>785</td>\n",
       "      <td>781</td>\n",
       "      <td>565</td>\n",
       "    </tr>\n",
       "    <tr>\n",
       "      <th>B-Omission</th>\n",
       "      <td>1082</td>\n",
       "      <td>1091</td>\n",
       "      <td>1157</td>\n",
       "      <td>1082</td>\n",
       "      <td>1093</td>\n",
       "    </tr>\n",
       "    <tr>\n",
       "      <th>I-Omission</th>\n",
       "      <td>1783</td>\n",
       "      <td>1631</td>\n",
       "      <td>1884</td>\n",
       "      <td>1728</td>\n",
       "      <td>1674</td>\n",
       "    </tr>\n",
       "    <tr>\n",
       "      <th>B-Stereotype</th>\n",
       "      <td>257</td>\n",
       "      <td>221</td>\n",
       "      <td>274</td>\n",
       "      <td>259</td>\n",
       "      <td>240</td>\n",
       "    </tr>\n",
       "    <tr>\n",
       "      <th>I-Stereotype</th>\n",
       "      <td>799</td>\n",
       "      <td>794</td>\n",
       "      <td>771</td>\n",
       "      <td>867</td>\n",
       "      <td>761</td>\n",
       "    </tr>\n",
       "    <tr>\n",
       "      <th>B-Generalization</th>\n",
       "      <td>251</td>\n",
       "      <td>249</td>\n",
       "      <td>280</td>\n",
       "      <td>245</td>\n",
       "      <td>258</td>\n",
       "    </tr>\n",
       "    <tr>\n",
       "      <th>I-Generalization</th>\n",
       "      <td>134</td>\n",
       "      <td>161</td>\n",
       "      <td>154</td>\n",
       "      <td>146</td>\n",
       "      <td>183</td>\n",
       "    </tr>\n",
       "    <tr>\n",
       "      <th>B-Gendered-Pronoun</th>\n",
       "      <td>721</td>\n",
       "      <td>681</td>\n",
       "      <td>784</td>\n",
       "      <td>744</td>\n",
       "      <td>748</td>\n",
       "    </tr>\n",
       "    <tr>\n",
       "      <th>I-Gendered-Pronoun</th>\n",
       "      <td>7</td>\n",
       "      <td>8</td>\n",
       "      <td>9</td>\n",
       "      <td>16</td>\n",
       "      <td>14</td>\n",
       "    </tr>\n",
       "    <tr>\n",
       "      <th>B-Gendered-Role</th>\n",
       "      <td>511</td>\n",
       "      <td>548</td>\n",
       "      <td>615</td>\n",
       "      <td>590</td>\n",
       "      <td>517</td>\n",
       "    </tr>\n",
       "    <tr>\n",
       "      <th>I-Gendered-Role</th>\n",
       "      <td>97</td>\n",
       "      <td>116</td>\n",
       "      <td>148</td>\n",
       "      <td>134</td>\n",
       "      <td>116</td>\n",
       "    </tr>\n",
       "  </tbody>\n",
       "</table>\n",
       "</div>"
      ],
      "text/plain": [
       "                       0     1     2     3     4\n",
       "B-Feminine           264   302   274   323   298\n",
       "I-Feminine           582   661   584   846   696\n",
       "B-Masculine         1037  1098  1255  1024  1096\n",
       "I-Masculine         1371  1512  1810  1378  1366\n",
       "B-Unknown           1996  2143  2094  2060  2024\n",
       "I-Unknown           3179  3510  3521  3506  3235\n",
       "B-Occupation         587   590   650   655   474\n",
       "I-Occupation         683   688   785   781   565\n",
       "B-Omission          1082  1091  1157  1082  1093\n",
       "I-Omission          1783  1631  1884  1728  1674\n",
       "B-Stereotype         257   221   274   259   240\n",
       "I-Stereotype         799   794   771   867   761\n",
       "B-Generalization     251   249   280   245   258\n",
       "I-Generalization     134   161   154   146   183\n",
       "B-Gendered-Pronoun   721   681   784   744   748\n",
       "I-Gendered-Pronoun     7     8     9    16    14\n",
       "B-Gendered-Role      511   548   615   590   517\n",
       "I-Gendered-Role       97   116   148   134   116"
      ]
     },
     "execution_count": 158,
     "metadata": {},
     "output_type": "execute_result"
    }
   ],
   "source": [
    "tag_df = tag_df.drop(\"fold\")\n",
    "tag_df"
   ]
  },
  {
   "cell_type": "code",
   "execution_count": 83,
   "metadata": {},
   "outputs": [],
   "source": [
    "tag_df.to_csv(config.tokc_path+\"experiment_input/tag_totals_per_split.csv\")"
   ]
  },
  {
   "cell_type": "markdown",
   "metadata": {},
   "source": [
    "#### Labels"
   ]
  },
  {
   "cell_type": "code",
   "execution_count": 64,
   "metadata": {},
   "outputs": [
    {
     "data": {
      "text/html": [
       "<div>\n",
       "<style scoped>\n",
       "    .dataframe tbody tr th:only-of-type {\n",
       "        vertical-align: middle;\n",
       "    }\n",
       "\n",
       "    .dataframe tbody tr th {\n",
       "        vertical-align: top;\n",
       "    }\n",
       "\n",
       "    .dataframe thead th {\n",
       "        text-align: right;\n",
       "    }\n",
       "</style>\n",
       "<table border=\"1\" class=\"dataframe\">\n",
       "  <thead>\n",
       "    <tr style=\"text-align: right;\">\n",
       "      <th></th>\n",
       "      <th>token_id</th>\n",
       "      <th>fold</th>\n",
       "      <th>label</th>\n",
       "    </tr>\n",
       "  </thead>\n",
       "  <tbody>\n",
       "    <tr>\n",
       "      <th>7</th>\n",
       "      <td>7</td>\n",
       "      <td>split2</td>\n",
       "      <td>Unknown</td>\n",
       "    </tr>\n",
       "    <tr>\n",
       "      <th>8</th>\n",
       "      <td>7</td>\n",
       "      <td>split2</td>\n",
       "      <td>Masculine</td>\n",
       "    </tr>\n",
       "    <tr>\n",
       "      <th>9</th>\n",
       "      <td>7</td>\n",
       "      <td>split2</td>\n",
       "      <td>Stereotype</td>\n",
       "    </tr>\n",
       "    <tr>\n",
       "      <th>10</th>\n",
       "      <td>8</td>\n",
       "      <td>split2</td>\n",
       "      <td>Unknown</td>\n",
       "    </tr>\n",
       "    <tr>\n",
       "      <th>11</th>\n",
       "      <td>8</td>\n",
       "      <td>split2</td>\n",
       "      <td>Stereotype</td>\n",
       "    </tr>\n",
       "  </tbody>\n",
       "</table>\n",
       "</div>"
      ],
      "text/plain": [
       "    token_id    fold       label\n",
       "7          7  split2     Unknown\n",
       "8          7  split2   Masculine\n",
       "9          7  split2  Stereotype\n",
       "10         8  split2     Unknown\n",
       "11         8  split2  Stereotype"
      ]
     },
     "execution_count": 64,
     "metadata": {},
     "output_type": "execute_result"
    }
   ],
   "source": [
    "df = pd.read_csv(config.tokc_path+\"experiment_input/token_5fold.csv\", index_col=0)\n",
    "df = df[[\"token_id\",\"fold\",\"tag\"]]\n",
    "df = df.loc[df.tag != \"O\"]  # remove unannotated tokens\n",
    "df = df.loc[df.tag != \"B-Nonbinary\"]  # mistaken annotation\n",
    "df = df.loc[df.tag != \"I-Nonbinary\"]  # mistaken annotation\n",
    "# df = implodeDataFrame(df, [\"token_id\",\"fold\"])\n",
    "tags_col = list(df.tag)\n",
    "labels = [tag[2:] for tag in tags_col]  #[[tag[2:] for tag in tags] for tags in tags_col]\n",
    "# labels = [label_list[0] for label_list in labels]\n",
    "df.insert(len(df.columns), \"label\", labels)\n",
    "df = df.drop(columns=[\"tag\"])\n",
    "df.head()"
   ]
  },
  {
   "cell_type": "code",
   "execution_count": 68,
   "metadata": {},
   "outputs": [
    {
     "name": "stdout",
     "output_type": "stream",
     "text": [
      "(80136, 3)\n",
      "(73125, 3)\n"
     ]
    }
   ],
   "source": [
    "print(df.shape)\n",
    "df = df.drop_duplicates()\n",
    "print(df.shape)"
   ]
  },
  {
   "cell_type": "code",
   "execution_count": 69,
   "metadata": {},
   "outputs": [
    {
     "name": "stdout",
     "output_type": "stream",
     "text": [
      "['Unknown', 'Masculine', 'Stereotype', 'Occupation', 'Gendered-Pronoun', 'Omission', 'Feminine', 'Generalization', 'Gendered-Role']\n"
     ]
    }
   ],
   "source": [
    "labels = list(df.label.unique())\n",
    "print(labels)"
   ]
  },
  {
   "cell_type": "code",
   "execution_count": 70,
   "metadata": {},
   "outputs": [
    {
     "data": {
      "text/html": [
       "<div>\n",
       "<style scoped>\n",
       "    .dataframe tbody tr th:only-of-type {\n",
       "        vertical-align: middle;\n",
       "    }\n",
       "\n",
       "    .dataframe tbody tr th {\n",
       "        vertical-align: top;\n",
       "    }\n",
       "\n",
       "    .dataframe thead th {\n",
       "        text-align: right;\n",
       "    }\n",
       "</style>\n",
       "<table border=\"1\" class=\"dataframe\">\n",
       "  <thead>\n",
       "    <tr style=\"text-align: right;\">\n",
       "      <th></th>\n",
       "      <th>0</th>\n",
       "      <th>1</th>\n",
       "      <th>2</th>\n",
       "      <th>3</th>\n",
       "      <th>4</th>\n",
       "    </tr>\n",
       "  </thead>\n",
       "  <tbody>\n",
       "    <tr>\n",
       "      <th>Unknown</th>\n",
       "      <td>4707</td>\n",
       "      <td>5006</td>\n",
       "      <td>5038</td>\n",
       "      <td>4919</td>\n",
       "      <td>4737</td>\n",
       "    </tr>\n",
       "    <tr>\n",
       "      <th>Masculine</th>\n",
       "      <td>2184</td>\n",
       "      <td>2356</td>\n",
       "      <td>2728</td>\n",
       "      <td>2195</td>\n",
       "      <td>2276</td>\n",
       "    </tr>\n",
       "    <tr>\n",
       "      <th>Stereotype</th>\n",
       "      <td>994</td>\n",
       "      <td>938</td>\n",
       "      <td>952</td>\n",
       "      <td>962</td>\n",
       "      <td>940</td>\n",
       "    </tr>\n",
       "    <tr>\n",
       "      <th>Occupation</th>\n",
       "      <td>1270</td>\n",
       "      <td>1278</td>\n",
       "      <td>1433</td>\n",
       "      <td>1435</td>\n",
       "      <td>1039</td>\n",
       "    </tr>\n",
       "    <tr>\n",
       "      <th>Gendered-Pronoun</th>\n",
       "      <td>728</td>\n",
       "      <td>689</td>\n",
       "      <td>793</td>\n",
       "      <td>759</td>\n",
       "      <td>762</td>\n",
       "    </tr>\n",
       "    <tr>\n",
       "      <th>Omission</th>\n",
       "      <td>2525</td>\n",
       "      <td>2456</td>\n",
       "      <td>2702</td>\n",
       "      <td>2455</td>\n",
       "      <td>2461</td>\n",
       "    </tr>\n",
       "    <tr>\n",
       "      <th>Feminine</th>\n",
       "      <td>706</td>\n",
       "      <td>860</td>\n",
       "      <td>765</td>\n",
       "      <td>944</td>\n",
       "      <td>861</td>\n",
       "    </tr>\n",
       "    <tr>\n",
       "      <th>Generalization</th>\n",
       "      <td>373</td>\n",
       "      <td>406</td>\n",
       "      <td>424</td>\n",
       "      <td>385</td>\n",
       "      <td>430</td>\n",
       "    </tr>\n",
       "    <tr>\n",
       "      <th>Gendered-Role</th>\n",
       "      <td>588</td>\n",
       "      <td>638</td>\n",
       "      <td>728</td>\n",
       "      <td>693</td>\n",
       "      <td>607</td>\n",
       "    </tr>\n",
       "  </tbody>\n",
       "</table>\n",
       "</div>"
      ],
      "text/plain": [
       "                     0     1     2     3     4\n",
       "Unknown           4707  5006  5038  4919  4737\n",
       "Masculine         2184  2356  2728  2195  2276\n",
       "Stereotype         994   938   952   962   940\n",
       "Occupation        1270  1278  1433  1435  1039\n",
       "Gendered-Pronoun   728   689   793   759   762\n",
       "Omission          2525  2456  2702  2455  2461\n",
       "Feminine           706   860   765   944   861\n",
       "Generalization     373   406   424   385   430\n",
       "Gendered-Role      588   638   728   693   607"
      ]
     },
     "execution_count": 70,
     "metadata": {},
     "output_type": "execute_result"
    }
   ],
   "source": [
    "label_df = pd.DataFrame()\n",
    "for label in labels:\n",
    "    subdf = df.loc[df.label == label]\n",
    "    subdf = subdf.groupby(['fold','label']).size().reset_index(name=label).T.drop(\"label\")\n",
    "    label_df = pd.concat([label_df,subdf])\n",
    "label_df = label_df.drop(\"fold\")\n",
    "label_df"
   ]
  },
  {
   "cell_type": "code",
   "execution_count": 71,
   "metadata": {},
   "outputs": [],
   "source": [
    "label_df.to_csv(config.tokc_path+\"experiment_input/label_totals_per_split.csv\")"
   ]
  },
  {
   "cell_type": "markdown",
   "metadata": {},
   "source": [
    "#### Annotations"
   ]
  },
  {
   "cell_type": "code",
   "execution_count": 78,
   "metadata": {},
   "outputs": [
    {
     "data": {
      "text/html": [
       "<div>\n",
       "<style scoped>\n",
       "    .dataframe tbody tr th:only-of-type {\n",
       "        vertical-align: middle;\n",
       "    }\n",
       "\n",
       "    .dataframe tbody tr th {\n",
       "        vertical-align: top;\n",
       "    }\n",
       "\n",
       "    .dataframe thead th {\n",
       "        text-align: right;\n",
       "    }\n",
       "</style>\n",
       "<table border=\"1\" class=\"dataframe\">\n",
       "  <thead>\n",
       "    <tr style=\"text-align: right;\">\n",
       "      <th></th>\n",
       "      <th>ann_id</th>\n",
       "      <th>label</th>\n",
       "    </tr>\n",
       "  </thead>\n",
       "  <tbody>\n",
       "    <tr>\n",
       "      <th>0</th>\n",
       "      <td>0</td>\n",
       "      <td>Gendered-Role</td>\n",
       "    </tr>\n",
       "    <tr>\n",
       "      <th>1</th>\n",
       "      <td>1</td>\n",
       "      <td>Gendered-Role</td>\n",
       "    </tr>\n",
       "    <tr>\n",
       "      <th>2</th>\n",
       "      <td>2</td>\n",
       "      <td>Gendered-Role</td>\n",
       "    </tr>\n",
       "    <tr>\n",
       "      <th>3</th>\n",
       "      <td>3</td>\n",
       "      <td>Gendered-Role</td>\n",
       "    </tr>\n",
       "    <tr>\n",
       "      <th>4</th>\n",
       "      <td>4</td>\n",
       "      <td>Gendered-Role</td>\n",
       "    </tr>\n",
       "  </tbody>\n",
       "</table>\n",
       "</div>"
      ],
      "text/plain": [
       "   ann_id          label\n",
       "0       0  Gendered-Role\n",
       "1       1  Gendered-Role\n",
       "2       2  Gendered-Role\n",
       "3       3  Gendered-Role\n",
       "4       4  Gendered-Role"
      ]
     },
     "execution_count": 78,
     "metadata": {},
     "output_type": "execute_result"
    }
   ],
   "source": [
    "df_by_ann = pd.read_csv(config.tokc_path+\"experiment_input/token_5fold.csv\", index_col=0)\n",
    "df_by_ann = df_by_ann[[\"ann_id\",\"tag\"]]\n",
    "df_by_ann = df_by_ann.loc[df_by_ann.ann_id != 99999]\n",
    "df_by_ann = df_by_ann.drop_duplicates()\n",
    "df_by_ann = implodeDataFrame(df_by_ann, [\"ann_id\",])\n",
    "tags_col = list(df_by_ann.tag)\n",
    "labels = [[tag[2:] for tag in tags] for tags in tags_col]\n",
    "labels = [label_list[0] for label_list in labels]\n",
    "df_by_ann.insert(len(df_by_ann.columns), \"label\", labels)\n",
    "df_by_ann = df_by_ann.loc[df_by_ann.label != \"Nonbinary\"]  # mistaken annotation\n",
    "df_by_ann = df_by_ann.drop(columns=[\"tag\"])\n",
    "df_by_ann = df_by_ann.sort_values(by=\"ann_id\")\n",
    "df_by_ann = df_by_ann.reset_index()\n",
    "df_by_ann = df_by_ann.drop_duplicates()\n",
    "df_by_ann.head()"
   ]
  },
  {
   "cell_type": "code",
   "execution_count": 79,
   "metadata": {},
   "outputs": [
    {
     "name": "stdout",
     "output_type": "stream",
     "text": [
      "['Gendered-Role', 'Feminine', 'Unknown', 'Masculine', 'Gendered-Pronoun', 'Stereotype', 'Omission', 'Occupation', 'Generalization']\n"
     ]
    }
   ],
   "source": [
    "labels = list(df_by_ann.label.unique())\n",
    "print(labels)"
   ]
  },
  {
   "cell_type": "code",
   "execution_count": 83,
   "metadata": {},
   "outputs": [
    {
     "data": {
      "text/html": [
       "<div>\n",
       "<style scoped>\n",
       "    .dataframe tbody tr th:only-of-type {\n",
       "        vertical-align: middle;\n",
       "    }\n",
       "\n",
       "    .dataframe tbody tr th {\n",
       "        vertical-align: top;\n",
       "    }\n",
       "\n",
       "    .dataframe thead th {\n",
       "        text-align: right;\n",
       "    }\n",
       "</style>\n",
       "<table border=\"1\" class=\"dataframe\">\n",
       "  <thead>\n",
       "    <tr style=\"text-align: right;\">\n",
       "      <th></th>\n",
       "      <th>label</th>\n",
       "      <th>total</th>\n",
       "    </tr>\n",
       "  </thead>\n",
       "  <tbody>\n",
       "    <tr>\n",
       "      <th>0</th>\n",
       "      <td>Feminine</td>\n",
       "      <td>1655</td>\n",
       "    </tr>\n",
       "    <tr>\n",
       "      <th>1</th>\n",
       "      <td>Gendered-Pronoun</td>\n",
       "      <td>3682</td>\n",
       "    </tr>\n",
       "    <tr>\n",
       "      <th>2</th>\n",
       "      <td>Gendered-Role</td>\n",
       "      <td>2785</td>\n",
       "    </tr>\n",
       "    <tr>\n",
       "      <th>3</th>\n",
       "      <td>Generalization</td>\n",
       "      <td>1293</td>\n",
       "    </tr>\n",
       "    <tr>\n",
       "      <th>4</th>\n",
       "      <td>Masculine</td>\n",
       "      <td>5586</td>\n",
       "    </tr>\n",
       "    <tr>\n",
       "      <th>5</th>\n",
       "      <td>Occupation</td>\n",
       "      <td>2958</td>\n",
       "    </tr>\n",
       "    <tr>\n",
       "      <th>6</th>\n",
       "      <td>Omission</td>\n",
       "      <td>5597</td>\n",
       "    </tr>\n",
       "    <tr>\n",
       "      <th>7</th>\n",
       "      <td>Stereotype</td>\n",
       "      <td>1279</td>\n",
       "    </tr>\n",
       "    <tr>\n",
       "      <th>8</th>\n",
       "      <td>Unknown</td>\n",
       "      <td>10511</td>\n",
       "    </tr>\n",
       "  </tbody>\n",
       "</table>\n",
       "</div>"
      ],
      "text/plain": [
       "              label  total\n",
       "0          Feminine   1655\n",
       "1  Gendered-Pronoun   3682\n",
       "2     Gendered-Role   2785\n",
       "3    Generalization   1293\n",
       "4         Masculine   5586\n",
       "5        Occupation   2958\n",
       "6          Omission   5597\n",
       "7        Stereotype   1279\n",
       "8           Unknown  10511"
      ]
     },
     "execution_count": 83,
     "metadata": {},
     "output_type": "execute_result"
    }
   ],
   "source": [
    "ann_df = df_by_ann.groupby(['label']).size().reset_index(name=\"total\")\n",
    "ann_df"
   ]
  },
  {
   "cell_type": "code",
   "execution_count": 84,
   "metadata": {},
   "outputs": [],
   "source": [
    "ann_df.to_csv(config.tokc_path+\"experiment_input/ann_totals_per_split.csv\")"
   ]
  },
  {
   "cell_type": "markdown",
   "metadata": {},
   "source": [
    "### Descriptions"
   ]
  },
  {
   "cell_type": "code",
   "execution_count": 72,
   "metadata": {},
   "outputs": [
    {
     "data": {
      "text/html": [
       "<div>\n",
       "<style scoped>\n",
       "    .dataframe tbody tr th:only-of-type {\n",
       "        vertical-align: middle;\n",
       "    }\n",
       "\n",
       "    .dataframe tbody tr th {\n",
       "        vertical-align: top;\n",
       "    }\n",
       "\n",
       "    .dataframe thead th {\n",
       "        text-align: right;\n",
       "    }\n",
       "</style>\n",
       "<table border=\"1\" class=\"dataframe\">\n",
       "  <thead>\n",
       "    <tr style=\"text-align: right;\">\n",
       "      <th></th>\n",
       "      <th>description_id</th>\n",
       "      <th>start_offset</th>\n",
       "      <th>end_offset</th>\n",
       "      <th>field</th>\n",
       "      <th>description</th>\n",
       "      <th>subset</th>\n",
       "      <th>label</th>\n",
       "      <th>fold</th>\n",
       "    </tr>\n",
       "  </thead>\n",
       "  <tbody>\n",
       "    <tr>\n",
       "      <th>0</th>\n",
       "      <td>4699</td>\n",
       "      <td>1853</td>\n",
       "      <td>2066</td>\n",
       "      <td>Biographical / Historical</td>\n",
       "      <td>Labelled Apparently some chapters, amounting t...</td>\n",
       "      <td>train</td>\n",
       "      <td>['Omission']</td>\n",
       "      <td>split3</td>\n",
       "    </tr>\n",
       "    <tr>\n",
       "      <th>1</th>\n",
       "      <td>8942</td>\n",
       "      <td>384</td>\n",
       "      <td>540</td>\n",
       "      <td>Biographical / Historical</td>\n",
       "      <td>James Aikman of Perth signed his name to a vol...</td>\n",
       "      <td>train</td>\n",
       "      <td>['']</td>\n",
       "      <td>split2</td>\n",
       "    </tr>\n",
       "  </tbody>\n",
       "</table>\n",
       "</div>"
      ],
      "text/plain": [
       "   description_id  start_offset  end_offset                      field  \\\n",
       "0            4699          1853        2066  Biographical / Historical   \n",
       "1            8942           384         540  Biographical / Historical   \n",
       "\n",
       "                                         description subset         label  \\\n",
       "0  Labelled Apparently some chapters, amounting t...  train  ['Omission']   \n",
       "1  James Aikman of Perth signed his name to a vol...  train          ['']   \n",
       "\n",
       "     fold  \n",
       "0  split3  \n",
       "1  split2  "
      ]
     },
     "execution_count": 72,
     "metadata": {},
     "output_type": "execute_result"
    }
   ],
   "source": [
    "# Description labels\n",
    "df = pd.read_csv(config.tokc_path+\"experiment_input/document_5fold.csv\", index_col=0)\n",
    "df.head(2)"
   ]
  },
  {
   "cell_type": "code",
   "execution_count": 73,
   "metadata": {},
   "outputs": [],
   "source": [
    "subdf = df[[\"description_id\",\"label\",\"fold\"]]"
   ]
  },
  {
   "cell_type": "code",
   "execution_count": 74,
   "metadata": {},
   "outputs": [],
   "source": [
    "def getColumnValuesAsLists(df, col_name):\n",
    "    col_values = list(df[col_name])\n",
    "    col_list_values = [value[2:-2].split(\"', '\") for value in col_values]\n",
    "    col_i = list(df.columns).index(col_name)\n",
    "    df = df.drop(columns=[col_name])\n",
    "    df.insert(col_i, col_name, col_list_values)\n",
    "    return df"
   ]
  },
  {
   "cell_type": "code",
   "execution_count": 75,
   "metadata": {},
   "outputs": [],
   "source": [
    "desc_labels = [\"Omission\", \"Stereotype\"]"
   ]
  },
  {
   "cell_type": "code",
   "execution_count": 76,
   "metadata": {},
   "outputs": [
    {
     "data": {
      "text/plain": [
       "[]                        22747\n",
       "[Omission]                 2964\n",
       "[Omission, Stereotype]     1068\n",
       "[Stereotype]                533\n",
       "Name: label, dtype: int64"
      ]
     },
     "execution_count": 76,
     "metadata": {},
     "output_type": "execute_result"
    }
   ],
   "source": [
    "subdf = getColumnValuesAsLists(subdf, \"label\")\n",
    "subdf.label.value_counts()"
   ]
  },
  {
   "cell_type": "code",
   "execution_count": 8,
   "metadata": {},
   "outputs": [],
   "source": [
    "subdf = subdf.explode(\"label\")\n",
    "subdf = subdf.loc[subdf.label.isin(desc_labels)]\n",
    "subdf = subdf.drop_duplicates()"
   ]
  },
  {
   "cell_type": "code",
   "execution_count": 9,
   "metadata": {},
   "outputs": [
    {
     "data": {
      "text/html": [
       "<div>\n",
       "<style scoped>\n",
       "    .dataframe tbody tr th:only-of-type {\n",
       "        vertical-align: middle;\n",
       "    }\n",
       "\n",
       "    .dataframe tbody tr th {\n",
       "        vertical-align: top;\n",
       "    }\n",
       "\n",
       "    .dataframe thead th {\n",
       "        text-align: right;\n",
       "    }\n",
       "</style>\n",
       "<table border=\"1\" class=\"dataframe\">\n",
       "  <thead>\n",
       "    <tr style=\"text-align: right;\">\n",
       "      <th></th>\n",
       "      <th>description_id</th>\n",
       "      <th>label</th>\n",
       "      <th>fold</th>\n",
       "    </tr>\n",
       "  </thead>\n",
       "  <tbody>\n",
       "    <tr>\n",
       "      <th>0</th>\n",
       "      <td>4699</td>\n",
       "      <td>Omission</td>\n",
       "      <td>split3</td>\n",
       "    </tr>\n",
       "    <tr>\n",
       "      <th>3</th>\n",
       "      <td>3474</td>\n",
       "      <td>Omission</td>\n",
       "      <td>split0</td>\n",
       "    </tr>\n",
       "  </tbody>\n",
       "</table>\n",
       "</div>"
      ],
      "text/plain": [
       "   description_id     label    fold\n",
       "0            4699  Omission  split3\n",
       "3            3474  Omission  split0"
      ]
     },
     "execution_count": 9,
     "metadata": {},
     "output_type": "execute_result"
    }
   ],
   "source": [
    "subdf.head(2)"
   ]
  },
  {
   "cell_type": "code",
   "execution_count": 10,
   "metadata": {},
   "outputs": [
    {
     "data": {
      "text/html": [
       "<div>\n",
       "<style scoped>\n",
       "    .dataframe tbody tr th:only-of-type {\n",
       "        vertical-align: middle;\n",
       "    }\n",
       "\n",
       "    .dataframe tbody tr th {\n",
       "        vertical-align: top;\n",
       "    }\n",
       "\n",
       "    .dataframe thead th {\n",
       "        text-align: right;\n",
       "    }\n",
       "</style>\n",
       "<table border=\"1\" class=\"dataframe\">\n",
       "  <thead>\n",
       "    <tr style=\"text-align: right;\">\n",
       "      <th></th>\n",
       "      <th>0</th>\n",
       "      <th>1</th>\n",
       "      <th>2</th>\n",
       "      <th>3</th>\n",
       "      <th>4</th>\n",
       "    </tr>\n",
       "  </thead>\n",
       "  <tbody>\n",
       "    <tr>\n",
       "      <th>Omission</th>\n",
       "      <td>798</td>\n",
       "      <td>749</td>\n",
       "      <td>834</td>\n",
       "      <td>813</td>\n",
       "      <td>838</td>\n",
       "    </tr>\n",
       "    <tr>\n",
       "      <th>Stereotype</th>\n",
       "      <td>341</td>\n",
       "      <td>290</td>\n",
       "      <td>325</td>\n",
       "      <td>302</td>\n",
       "      <td>343</td>\n",
       "    </tr>\n",
       "  </tbody>\n",
       "</table>\n",
       "</div>"
      ],
      "text/plain": [
       "              0    1    2    3    4\n",
       "Omission    798  749  834  813  838\n",
       "Stereotype  341  290  325  302  343"
      ]
     },
     "execution_count": 10,
     "metadata": {},
     "output_type": "execute_result"
    }
   ],
   "source": [
    "desc_df = pd.DataFrame()\n",
    "for label in desc_labels:\n",
    "    label_df = subdf.loc[subdf.label == label]\n",
    "    label_df = label_df.groupby(['fold','label']).size().reset_index(name=label).T.drop(\"label\")\n",
    "    desc_df = pd.concat([desc_df,label_df])\n",
    "desc_df = desc_df.drop(\"fold\")\n",
    "desc_df"
   ]
  },
  {
   "cell_type": "code",
   "execution_count": 125,
   "metadata": {},
   "outputs": [],
   "source": [
    "desc_df.to_csv(config.tokc_path+\"experiment_input/doc_label_totals_by_split.csv\")"
   ]
  },
  {
   "cell_type": "code",
   "execution_count": null,
   "metadata": {},
   "outputs": [],
   "source": []
  }
 ],
 "metadata": {
  "kernelspec": {
   "display_name": "Python 3",
   "language": "python",
   "name": "python3"
  },
  "language_info": {
   "codemirror_mode": {
    "name": "ipython",
    "version": 3
   },
   "file_extension": ".py",
   "mimetype": "text/x-python",
   "name": "python",
   "nbconvert_exporter": "python",
   "pygments_lexer": "ipython3",
   "version": "3.8.10"
  }
 },
 "nbformat": 4,
 "nbformat_minor": 4
}

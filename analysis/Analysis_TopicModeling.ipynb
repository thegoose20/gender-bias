{
 "cells": [
  {
   "cell_type": "code",
   "execution_count": 1,
   "metadata": {},
   "outputs": [],
   "source": [
    "\n",
    "# import gensim --> NEED TO DOWNLOAD GENSIM!  ALSO PYLDAVIS? PICKLE?\n",
    "# from gensim.utils import simple_preprocess\n",
    "# import gensim.corpora as corpora\n",
    "# import nltk\n",
    "# # nltk.download('stopwords')\n",
    "# from nltk.corpus import stopwords\n",
    "# from pprint import pprint\n",
    "# import pyLDAvis.gensim\n",
    "# import pickle\n",
    "# import pyLDAvis"
   ]
  },
  {
   "cell_type": "code",
   "execution_count": null,
   "metadata": {},
   "outputs": [],
   "source": []
  }
 ],
 "metadata": {
  "kernelspec": {
   "display_name": "Python 3",
   "language": "python",
   "name": "python3"
  },
  "language_info": {
   "codemirror_mode": {
    "name": "ipython",
    "version": 3
   },
   "file_extension": ".py",
   "mimetype": "text/x-python",
   "name": "python",
   "nbconvert_exporter": "python",
   "pygments_lexer": "ipython3",
   "version": "3.8.10"
  }
 },
 "nbformat": 4,
 "nbformat_minor": 4
}

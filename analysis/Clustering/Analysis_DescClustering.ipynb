{
 "cells": [
  {
   "cell_type": "markdown",
   "metadata": {},
   "source": [
    "# Analysis: Clustering Archival Metadata Descriptions\n",
    "\n",
    "## Post Annotation and Aggregation\n",
    "\n",
    "#### January 2023\n",
    "\n",
    "**Cluster the the metadata descriptions to see what patterns, if any, appear (didn't work well for annotated text spans, perhaps because the text spans are too short, typically 1-2 words only?).**\n",
    "\n",
    "*TO DO: Add part-of-speech tags and collection IDs (EADIDs), language of material, & date of material as features to see if that helps find any meaningful patterns in the clusters.*\n",
    "\n",
    "***\n",
    "\n",
    "**Table of Contents**\n",
    "\n",
    "[0.](#0) Preparation\n",
    "\n",
    "[1.](#1) Clustering Descriptions' Metadata\n",
    "* K-Means\n",
    "\n",
    "[2.](#2) Clustering Descriptions' Text\n",
    "* [K-Means](#kmeans)\n",
    "* [DBSCAN](#dbscan)\n",
    "  \n",
    "***\n",
    "\n",
    "**References**\n",
    "\n",
    "For k-Means and DBSCAN: \n",
    "* Jurczyk, Thomas (2021) [Clustering with Scikit-Learn in Python](https://programminghistorian.org/en/lessons/clustering-with-scikit-learn-in-python).  The Programming Historian.  https://doi.org/10/46430/phen0094\n",
    "\n",
    "***"
   ]
  },
  {
   "cell_type": "markdown",
   "metadata": {},
   "source": [
    "<a id=\"0\"></a>\n",
    "## 0. Preparation"
   ]
  },
  {
   "cell_type": "code",
   "execution_count": 9,
   "metadata": {},
   "outputs": [],
   "source": [
    "import utils, config\n",
    "\n",
    "import re, os\n",
    "import numpy as np\n",
    "import pandas as pd\n",
    "\n",
    "# For working with text data\n",
    "from nltk.stem import WordNetLemmatizer, PorterStemmer\n",
    "\n",
    "# For clustering\n",
    "from sklearn.preprocessing import StandardScaler as SS\n",
    "from sklearn.feature_extraction.text import TfidfVectorizer\n",
    "from sklearn.cluster import KMeans, DBSCAN               # algorithms\n",
    "from sklearn.decomposition import PCA                    # dimensionality reduction\n",
    "from sklearn.metrics import silhouette_score             # to eval cohesion/separation in a cluster\n",
    "from sklearn.neighbors import NearestNeighbors           # to get optimal epsilon (neighborhood distance) value\n",
    "\n",
    "# For visualization\n",
    "import matplotlib.pyplot as plt\n",
    "import seaborn as sns\n",
    "# from yellowbrick.cluster import SilhouetteVisualizer  #--> installed inside and outside virtual env, still not working..."
   ]
  },
  {
   "cell_type": "code",
   "execution_count": 2,
   "metadata": {},
   "outputs": [
    {
     "data": {
      "text/html": [
       "<div>\n",
       "<style scoped>\n",
       "    .dataframe tbody tr th:only-of-type {\n",
       "        vertical-align: middle;\n",
       "    }\n",
       "\n",
       "    .dataframe tbody tr th {\n",
       "        vertical-align: top;\n",
       "    }\n",
       "\n",
       "    .dataframe thead th {\n",
       "        text-align: right;\n",
       "    }\n",
       "</style>\n",
       "<table border=\"1\" class=\"dataframe\">\n",
       "  <thead>\n",
       "    <tr style=\"text-align: right;\">\n",
       "      <th></th>\n",
       "      <th>field</th>\n",
       "      <th>clean_desc</th>\n",
       "      <th>word_count</th>\n",
       "      <th>sent_count</th>\n",
       "    </tr>\n",
       "  </thead>\n",
       "  <tbody>\n",
       "    <tr>\n",
       "      <th>1</th>\n",
       "      <td>Title</td>\n",
       "      <td>Papers of The Very Rev Prof James Whyte (1920-...</td>\n",
       "      <td>10</td>\n",
       "      <td>1</td>\n",
       "    </tr>\n",
       "    <tr>\n",
       "      <th>2</th>\n",
       "      <td>Scope and Contents</td>\n",
       "      <td>Sermons and addresses, 1948-1996; lectures, 19...</td>\n",
       "      <td>65</td>\n",
       "      <td>1</td>\n",
       "    </tr>\n",
       "    <tr>\n",
       "      <th>3</th>\n",
       "      <td>Biographical / Historical</td>\n",
       "      <td>Professor James Aitken White was a leading Sco...</td>\n",
       "      <td>181</td>\n",
       "      <td>8</td>\n",
       "    </tr>\n",
       "    <tr>\n",
       "      <th>5</th>\n",
       "      <td>Title</td>\n",
       "      <td>Papers of Rev Tom Allan (1916-1965)</td>\n",
       "      <td>7</td>\n",
       "      <td>1</td>\n",
       "    </tr>\n",
       "    <tr>\n",
       "      <th>6</th>\n",
       "      <td>Scope and Contents</td>\n",
       "      <td>Sermons and addresses, 1947-1963; essays and l...</td>\n",
       "      <td>62</td>\n",
       "      <td>2</td>\n",
       "    </tr>\n",
       "  </tbody>\n",
       "</table>\n",
       "</div>"
      ],
      "text/plain": [
       "                       field  \\\n",
       "1                      Title   \n",
       "2         Scope and Contents   \n",
       "3  Biographical / Historical   \n",
       "5                      Title   \n",
       "6         Scope and Contents   \n",
       "\n",
       "                                          clean_desc  word_count  sent_count  \n",
       "1  Papers of The Very Rev Prof James Whyte (1920-...          10           1  \n",
       "2  Sermons and addresses, 1948-1996; lectures, 19...          65           1  \n",
       "3  Professor James Aitken White was a leading Sco...         181           8  \n",
       "5                Papers of Rev Tom Allan (1916-1965)           7           1  \n",
       "6  Sermons and addresses, 1947-1963; essays and l...          62           2  "
      ]
     },
     "execution_count": 2,
     "metadata": {},
     "output_type": "execute_result"
    }
   ],
   "source": [
    "df = pd.read_csv(config.crc_meta_path+\"annot_descs.csv\", index_col=0)\n",
    "df = df.loc[df.field != \"Identifier\"] # Ignore the Identifier field rows\n",
    "df = df.loc[~df.clean_desc.isna()]    # Ignore empty clean_desc rows (the field's descriptions appear in the next row)\n",
    "df = df[[\"field\", \"clean_desc\", \"word_count\", \"sent_count\"]]\n",
    "df.head()"
   ]
  },
  {
   "cell_type": "markdown",
   "metadata": {},
   "source": [
    "Let's summarize the data:"
   ]
  },
  {
   "cell_type": "code",
   "execution_count": 3,
   "metadata": {},
   "outputs": [
    {
     "name": "stdout",
     "output_type": "stream",
     "text": [
      "Total texts: 27312\n",
      "Unique texts: 23607\n"
     ]
    }
   ],
   "source": [
    "text_col = \"clean_desc\"\n",
    "print(\"Total texts:\", df.shape[0])\n",
    "print(\"Unique texts:\", len(df[text_col].unique()))"
   ]
  },
  {
   "cell_type": "code",
   "execution_count": 4,
   "metadata": {},
   "outputs": [
    {
     "data": {
      "text/html": [
       "<div>\n",
       "<style scoped>\n",
       "    .dataframe tbody tr th:only-of-type {\n",
       "        vertical-align: middle;\n",
       "    }\n",
       "\n",
       "    .dataframe tbody tr th {\n",
       "        vertical-align: top;\n",
       "    }\n",
       "\n",
       "    .dataframe thead th {\n",
       "        text-align: right;\n",
       "    }\n",
       "</style>\n",
       "<table border=\"1\" class=\"dataframe\">\n",
       "  <thead>\n",
       "    <tr style=\"text-align: right;\">\n",
       "      <th></th>\n",
       "      <th>word_count</th>\n",
       "      <th>sent_count</th>\n",
       "    </tr>\n",
       "  </thead>\n",
       "  <tbody>\n",
       "    <tr>\n",
       "      <th>count</th>\n",
       "      <td>27312.000000</td>\n",
       "      <td>27312.000000</td>\n",
       "    </tr>\n",
       "    <tr>\n",
       "      <th>mean</th>\n",
       "      <td>20.412419</td>\n",
       "      <td>1.517062</td>\n",
       "    </tr>\n",
       "    <tr>\n",
       "      <th>std</th>\n",
       "      <td>87.910588</td>\n",
       "      <td>5.420943</td>\n",
       "    </tr>\n",
       "    <tr>\n",
       "      <th>min</th>\n",
       "      <td>0.000000</td>\n",
       "      <td>1.000000</td>\n",
       "    </tr>\n",
       "    <tr>\n",
       "      <th>25%</th>\n",
       "      <td>6.000000</td>\n",
       "      <td>1.000000</td>\n",
       "    </tr>\n",
       "    <tr>\n",
       "      <th>50%</th>\n",
       "      <td>11.000000</td>\n",
       "      <td>1.000000</td>\n",
       "    </tr>\n",
       "    <tr>\n",
       "      <th>75%</th>\n",
       "      <td>20.000000</td>\n",
       "      <td>1.000000</td>\n",
       "    </tr>\n",
       "    <tr>\n",
       "      <th>max</th>\n",
       "      <td>12343.000000</td>\n",
       "      <td>742.000000</td>\n",
       "    </tr>\n",
       "  </tbody>\n",
       "</table>\n",
       "</div>"
      ],
      "text/plain": [
       "         word_count    sent_count\n",
       "count  27312.000000  27312.000000\n",
       "mean      20.412419      1.517062\n",
       "std       87.910588      5.420943\n",
       "min        0.000000      1.000000\n",
       "25%        6.000000      1.000000\n",
       "50%       11.000000      1.000000\n",
       "75%       20.000000      1.000000\n",
       "max    12343.000000    742.000000"
      ]
     },
     "execution_count": 4,
     "metadata": {},
     "output_type": "execute_result"
    }
   ],
   "source": [
    "df[[\"word_count\",\"sent_count\"]].describe()"
   ]
  },
  {
   "cell_type": "code",
   "execution_count": 5,
   "metadata": {},
   "outputs": [
    {
     "name": "stdout",
     "output_type": "stream",
     "text": [
      "Descriptions with 700+ sentences: 1\n",
      "Descriptions with 5+ sentences: 649\n",
      "Descriptions with 2+ sentences: 5692\n"
     ]
    }
   ],
   "source": [
    "print(\"Descriptions with 700+ sentences:\", df.loc[df.sent_count >= 700].shape[0])\n",
    "print(\"Descriptions with 5+ sentences:\", df.loc[df.sent_count >= 5].shape[0])\n",
    "print(\"Descriptions with 2+ sentences:\", df.loc[df.sent_count >= 2].shape[0])"
   ]
  },
  {
   "cell_type": "markdown",
   "metadata": {},
   "source": [
    "Let's remove the outliers that are particularly long from the data we'll cluster:"
   ]
  },
  {
   "cell_type": "code",
   "execution_count": 6,
   "metadata": {},
   "outputs": [
    {
     "name": "stdout",
     "output_type": "stream",
     "text": [
      "(24637, 4)\n"
     ]
    },
    {
     "data": {
      "text/html": [
       "<div>\n",
       "<style scoped>\n",
       "    .dataframe tbody tr th:only-of-type {\n",
       "        vertical-align: middle;\n",
       "    }\n",
       "\n",
       "    .dataframe tbody tr th {\n",
       "        vertical-align: top;\n",
       "    }\n",
       "\n",
       "    .dataframe thead th {\n",
       "        text-align: right;\n",
       "    }\n",
       "</style>\n",
       "<table border=\"1\" class=\"dataframe\">\n",
       "  <thead>\n",
       "    <tr style=\"text-align: right;\">\n",
       "      <th></th>\n",
       "      <th>word_count</th>\n",
       "      <th>sent_count</th>\n",
       "    </tr>\n",
       "  </thead>\n",
       "  <tbody>\n",
       "    <tr>\n",
       "      <th>count</th>\n",
       "      <td>24637.000000</td>\n",
       "      <td>24637.000000</td>\n",
       "    </tr>\n",
       "    <tr>\n",
       "      <th>mean</th>\n",
       "      <td>12.075780</td>\n",
       "      <td>1.193327</td>\n",
       "    </tr>\n",
       "    <tr>\n",
       "      <th>std</th>\n",
       "      <td>7.795105</td>\n",
       "      <td>0.550066</td>\n",
       "    </tr>\n",
       "    <tr>\n",
       "      <th>min</th>\n",
       "      <td>0.000000</td>\n",
       "      <td>1.000000</td>\n",
       "    </tr>\n",
       "    <tr>\n",
       "      <th>25%</th>\n",
       "      <td>5.000000</td>\n",
       "      <td>1.000000</td>\n",
       "    </tr>\n",
       "    <tr>\n",
       "      <th>50%</th>\n",
       "      <td>10.000000</td>\n",
       "      <td>1.000000</td>\n",
       "    </tr>\n",
       "    <tr>\n",
       "      <th>75%</th>\n",
       "      <td>17.000000</td>\n",
       "      <td>1.000000</td>\n",
       "    </tr>\n",
       "    <tr>\n",
       "      <th>max</th>\n",
       "      <td>33.000000</td>\n",
       "      <td>10.000000</td>\n",
       "    </tr>\n",
       "  </tbody>\n",
       "</table>\n",
       "</div>"
      ],
      "text/plain": [
       "         word_count    sent_count\n",
       "count  24637.000000  24637.000000\n",
       "mean      12.075780      1.193327\n",
       "std        7.795105      0.550066\n",
       "min        0.000000      1.000000\n",
       "25%        5.000000      1.000000\n",
       "50%       10.000000      1.000000\n",
       "75%       17.000000      1.000000\n",
       "max       33.000000     10.000000"
      ]
     },
     "execution_count": 6,
     "metadata": {},
     "output_type": "execute_result"
    }
   ],
   "source": [
    "ninety_quantile = df[\"word_count\"].quantile(0.9)\n",
    "df = df.loc[df[\"word_count\"] <= ninety_quantile]\n",
    "print(df.shape)\n",
    "df[[\"word_count\",\"sent_count\"]].describe()"
   ]
  },
  {
   "cell_type": "markdown",
   "metadata": {},
   "source": [
    "Great!  The standard deviation for word and sentence counts has been reduced significantly."
   ]
  },
  {
   "cell_type": "markdown",
   "metadata": {},
   "source": [
    "<a id=\"1\"></a>\n",
    "## 1. Clustering Descriptions' Metadata\n",
    "\n",
    "### K-Means"
   ]
  },
  {
   "cell_type": "markdown",
   "metadata": {},
   "source": [
    "Use sklearn's StandardScaler to normalize the data, casting the mean of the columns to about 0 and the standard deviation to about 1."
   ]
  },
  {
   "cell_type": "code",
   "execution_count": 7,
   "metadata": {},
   "outputs": [
    {
     "data": {
      "text/html": [
       "<div>\n",
       "<style scoped>\n",
       "    .dataframe tbody tr th:only-of-type {\n",
       "        vertical-align: middle;\n",
       "    }\n",
       "\n",
       "    .dataframe tbody tr th {\n",
       "        vertical-align: top;\n",
       "    }\n",
       "\n",
       "    .dataframe thead th {\n",
       "        text-align: right;\n",
       "    }\n",
       "</style>\n",
       "<table border=\"1\" class=\"dataframe\">\n",
       "  <thead>\n",
       "    <tr style=\"text-align: right;\">\n",
       "      <th></th>\n",
       "      <th>field</th>\n",
       "      <th>word_count_normalized</th>\n",
       "      <th>sent_count_normalized</th>\n",
       "    </tr>\n",
       "  </thead>\n",
       "  <tbody>\n",
       "    <tr>\n",
       "      <th>1</th>\n",
       "      <td>0</td>\n",
       "      <td>-0.266298</td>\n",
       "      <td>-0.351469</td>\n",
       "    </tr>\n",
       "    <tr>\n",
       "      <th>5</th>\n",
       "      <td>0</td>\n",
       "      <td>-0.651163</td>\n",
       "      <td>-0.351469</td>\n",
       "    </tr>\n",
       "    <tr>\n",
       "      <th>9</th>\n",
       "      <td>0</td>\n",
       "      <td>-0.394586</td>\n",
       "      <td>-0.351469</td>\n",
       "    </tr>\n",
       "    <tr>\n",
       "      <th>13</th>\n",
       "      <td>0</td>\n",
       "      <td>-0.266298</td>\n",
       "      <td>-0.351469</td>\n",
       "    </tr>\n",
       "    <tr>\n",
       "      <th>14</th>\n",
       "      <td>0</td>\n",
       "      <td>-0.907739</td>\n",
       "      <td>-0.351469</td>\n",
       "    </tr>\n",
       "  </tbody>\n",
       "</table>\n",
       "</div>"
      ],
      "text/plain": [
       "    field  word_count_normalized  sent_count_normalized\n",
       "1       0              -0.266298              -0.351469\n",
       "5       0              -0.651163              -0.351469\n",
       "9       0              -0.394586              -0.351469\n",
       "13      0              -0.266298              -0.351469\n",
       "14      0              -0.907739              -0.351469"
      ]
     },
     "execution_count": 7,
     "metadata": {},
     "output_type": "execute_result"
    }
   ],
   "source": [
    "scaler = SS()\n",
    "norm = scaler.fit_transform(df[[\"word_count\", \"sent_count\"]])\n",
    "df_norm = pd.DataFrame(norm, columns=[\"word_count_normalized\", \"sent_count_normalized\"])\n",
    "df_norm = df_norm.set_index(df.index)\n",
    "fields_dict = {\"Title\":0, \"Scope and Contents\":1, \"Biographical / Historical\": 3, \"Processing Information\":4}\n",
    "numeric_fields = [fields_dict[field] for field in list(df.field)]\n",
    "df_norm.insert(0, \"field\", numeric_fields)\n",
    "# df_norm.insert(1, \"clean_desc\", df.clean_desc)\n",
    "df_norm.head()"
   ]
  },
  {
   "cell_type": "markdown",
   "metadata": {},
   "source": [
    "Select **up to 3 features** from the available columns of data (field, word_count, sent_count):"
   ]
  },
  {
   "cell_type": "code",
   "execution_count": 10,
   "metadata": {},
   "outputs": [
    {
     "name": "stdout",
     "output_type": "stream",
     "text": [
      "Proposed new feature field with score 0.9955026689581135\n",
      "Proposed new feature word_count_normalized with score 0.6083092027966975\n",
      "Proposed new feature sent_count_normalized with score 0.9675768062993427\n",
      "Initial feature: field | Silhouette score: 0.9955026689581135\n",
      "Starting selection 0...\n",
      "Proposed new feature word_count_normalized with score 0.5432571995298702\n",
      "Proposed new feature sent_count_normalized with score 0.8634727730354189\n",
      "Selected new feature sent_count_normalized with score 0.8634727730354189\n",
      "Starting selection 1...\n",
      "Proposed new feature word_count_normalized with score 0.5281844827383453\n",
      "Selected new feature word_count_normalized with score 0.5281844827383453\n"
     ]
    }
   ],
   "source": [
    "selected_features = utils.progressiveFeaturesSelection(df_norm, max_features=3, n_clusters=3)"
   ]
  },
  {
   "cell_type": "code",
   "execution_count": 12,
   "metadata": {},
   "outputs": [
    {
     "name": "stdout",
     "output_type": "stream",
     "text": [
      "['field', 'sent_count_normalized', 'word_count_normalized']\n"
     ]
    }
   ],
   "source": [
    "print(selected_features)"
   ]
  },
  {
   "cell_type": "code",
   "execution_count": 25,
   "metadata": {},
   "outputs": [
    {
     "data": {
      "text/html": [
       "<div>\n",
       "<style scoped>\n",
       "    .dataframe tbody tr th:only-of-type {\n",
       "        vertical-align: middle;\n",
       "    }\n",
       "\n",
       "    .dataframe tbody tr th {\n",
       "        vertical-align: top;\n",
       "    }\n",
       "\n",
       "    .dataframe thead th {\n",
       "        text-align: right;\n",
       "    }\n",
       "</style>\n",
       "<table border=\"1\" class=\"dataframe\">\n",
       "  <thead>\n",
       "    <tr style=\"text-align: right;\">\n",
       "      <th></th>\n",
       "      <th>field</th>\n",
       "      <th>sent_count_normalized</th>\n",
       "      <th>word_count_normalized</th>\n",
       "    </tr>\n",
       "  </thead>\n",
       "  <tbody>\n",
       "    <tr>\n",
       "      <th>1</th>\n",
       "      <td>0</td>\n",
       "      <td>-0.351469</td>\n",
       "      <td>-0.266298</td>\n",
       "    </tr>\n",
       "    <tr>\n",
       "      <th>5</th>\n",
       "      <td>0</td>\n",
       "      <td>-0.351469</td>\n",
       "      <td>-0.651163</td>\n",
       "    </tr>\n",
       "    <tr>\n",
       "      <th>9</th>\n",
       "      <td>0</td>\n",
       "      <td>-0.351469</td>\n",
       "      <td>-0.394586</td>\n",
       "    </tr>\n",
       "    <tr>\n",
       "      <th>13</th>\n",
       "      <td>0</td>\n",
       "      <td>-0.351469</td>\n",
       "      <td>-0.266298</td>\n",
       "    </tr>\n",
       "    <tr>\n",
       "      <th>14</th>\n",
       "      <td>0</td>\n",
       "      <td>-0.351469</td>\n",
       "      <td>-0.907739</td>\n",
       "    </tr>\n",
       "  </tbody>\n",
       "</table>\n",
       "</div>"
      ],
      "text/plain": [
       "    field  sent_count_normalized  word_count_normalized\n",
       "1       0              -0.351469              -0.266298\n",
       "5       0              -0.351469              -0.651163\n",
       "9       0              -0.351469              -0.394586\n",
       "13      0              -0.351469              -0.266298\n",
       "14      0              -0.351469              -0.907739"
      ]
     },
     "execution_count": 25,
     "metadata": {},
     "output_type": "execute_result"
    }
   ],
   "source": [
    "subdf_norm = df_norm[selected_features]\n",
    "subdf_norm.head()"
   ]
  },
  {
   "cell_type": "code",
   "execution_count": 26,
   "metadata": {
    "collapsed": true,
    "jupyter": {
     "outputs_hidden": true
    }
   },
   "outputs": [
    {
     "name": "stderr",
     "output_type": "stream",
     "text": [
      "/afs/inf.ed.ac.uk/user/s15/s1545703/repos/gender-bias/analysis/Clustering/utils.py:31: UserWarning: Matplotlib is currently using module://ipykernel.pylab.backend_inline, which is a non-GUI backend, so cannot show the figure.\n",
      "  fig.show()\n"
     ]
    },
    {
     "data": {
      "image/png": "[encoded data removed]",
      "text/plain": [
       "<Figure size 720x720 with 1 Axes>"
      ]
     },
     "metadata": {
      "needs_background": "light"
     },
     "output_type": "display_data"
    }
   ],
   "source": [
    "utils.elbowPlot(range(2,12), subdf_norm)"
   ]
  },
  {
   "cell_type": "code",
   "execution_count": 27,
   "metadata": {},
   "outputs": [
    {
     "data": {
      "text/html": [
       "<div>\n",
       "<style scoped>\n",
       "    .dataframe tbody tr th:only-of-type {\n",
       "        vertical-align: middle;\n",
       "    }\n",
       "\n",
       "    .dataframe tbody tr th {\n",
       "        vertical-align: top;\n",
       "    }\n",
       "\n",
       "    .dataframe thead th {\n",
       "        text-align: right;\n",
       "    }\n",
       "</style>\n",
       "<table border=\"1\" class=\"dataframe\">\n",
       "  <thead>\n",
       "    <tr style=\"text-align: right;\">\n",
       "      <th></th>\n",
       "      <th>field</th>\n",
       "      <th>sent_count_normalized</th>\n",
       "      <th>word_count_normalized</th>\n",
       "      <th>cluster</th>\n",
       "    </tr>\n",
       "  </thead>\n",
       "  <tbody>\n",
       "    <tr>\n",
       "      <th>1</th>\n",
       "      <td>0</td>\n",
       "      <td>-0.351469</td>\n",
       "      <td>-0.266298</td>\n",
       "      <td>1</td>\n",
       "    </tr>\n",
       "    <tr>\n",
       "      <th>5</th>\n",
       "      <td>0</td>\n",
       "      <td>-0.351469</td>\n",
       "      <td>-0.651163</td>\n",
       "      <td>1</td>\n",
       "    </tr>\n",
       "    <tr>\n",
       "      <th>9</th>\n",
       "      <td>0</td>\n",
       "      <td>-0.351469</td>\n",
       "      <td>-0.394586</td>\n",
       "      <td>1</td>\n",
       "    </tr>\n",
       "    <tr>\n",
       "      <th>13</th>\n",
       "      <td>0</td>\n",
       "      <td>-0.351469</td>\n",
       "      <td>-0.266298</td>\n",
       "      <td>1</td>\n",
       "    </tr>\n",
       "    <tr>\n",
       "      <th>14</th>\n",
       "      <td>0</td>\n",
       "      <td>-0.351469</td>\n",
       "      <td>-0.907739</td>\n",
       "      <td>1</td>\n",
       "    </tr>\n",
       "  </tbody>\n",
       "</table>\n",
       "</div>"
      ],
      "text/plain": [
       "    field  sent_count_normalized  word_count_normalized  cluster\n",
       "1       0              -0.351469              -0.266298        1\n",
       "5       0              -0.351469              -0.651163        1\n",
       "9       0              -0.351469              -0.394586        1\n",
       "13      0              -0.351469              -0.266298        1\n",
       "14      0              -0.351469              -0.907739        1"
      ]
     },
     "execution_count": 27,
     "metadata": {},
     "output_type": "execute_result"
    }
   ],
   "source": [
    "kmeans = KMeans(n_clusters=3, random_state=22)\n",
    "descs_clusters = kmeans.fit_predict(subdf_norm)\n",
    "subdf_norm .insert(len(subdf_norm.columns), \"cluster\", descs_clusters)\n",
    "subdf_norm.head()"
   ]
  },
  {
   "cell_type": "code",
   "execution_count": 28,
   "metadata": {},
   "outputs": [
    {
     "data": {
      "text/html": [
       "<div>\n",
       "<style scoped>\n",
       "    .dataframe tbody tr th:only-of-type {\n",
       "        vertical-align: middle;\n",
       "    }\n",
       "\n",
       "    .dataframe tbody tr th {\n",
       "        vertical-align: top;\n",
       "    }\n",
       "\n",
       "    .dataframe thead th {\n",
       "        text-align: right;\n",
       "    }\n",
       "</style>\n",
       "<table border=\"1\" class=\"dataframe\">\n",
       "  <thead>\n",
       "    <tr style=\"text-align: right;\">\n",
       "      <th></th>\n",
       "      <th>pc_1</th>\n",
       "      <th>pc_2</th>\n",
       "      <th>cluster</th>\n",
       "    </tr>\n",
       "  </thead>\n",
       "  <tbody>\n",
       "    <tr>\n",
       "      <th>0</th>\n",
       "      <td>-0.512818</td>\n",
       "      <td>0.191078</td>\n",
       "      <td>1</td>\n",
       "    </tr>\n",
       "    <tr>\n",
       "      <th>1</th>\n",
       "      <td>-0.769747</td>\n",
       "      <td>0.398581</td>\n",
       "      <td>1</td>\n",
       "    </tr>\n",
       "    <tr>\n",
       "      <th>2</th>\n",
       "      <td>-0.598461</td>\n",
       "      <td>0.260246</td>\n",
       "      <td>1</td>\n",
       "    </tr>\n",
       "    <tr>\n",
       "      <th>3</th>\n",
       "      <td>-0.512818</td>\n",
       "      <td>0.191078</td>\n",
       "      <td>1</td>\n",
       "    </tr>\n",
       "    <tr>\n",
       "      <th>4</th>\n",
       "      <td>-0.941033</td>\n",
       "      <td>0.536916</td>\n",
       "      <td>1</td>\n",
       "    </tr>\n",
       "  </tbody>\n",
       "</table>\n",
       "</div>"
      ],
      "text/plain": [
       "       pc_1      pc_2  cluster\n",
       "0 -0.512818  0.191078        1\n",
       "1 -0.769747  0.398581        1\n",
       "2 -0.598461  0.260246        1\n",
       "3 -0.512818  0.191078        1\n",
       "4 -0.941033  0.536916        1"
      ]
     },
     "execution_count": 28,
     "metadata": {},
     "output_type": "execute_result"
    }
   ],
   "source": [
    "pca = PCA(n_components=2, whiten=False, random_state=22)\n",
    "norm_pca = pca.fit_transform(subdf_norm)\n",
    "df_norm_pca = pd.DataFrame(data=norm_pca, columns=[\"pc_1\", \"pc_2\"])\n",
    "df_norm_pca.insert(len(df_norm_pca.columns), \"cluster\", descs_clusters)\n",
    "df_norm_pca.head()"
   ]
  },
  {
   "cell_type": "code",
   "execution_count": 29,
   "metadata": {},
   "outputs": [
    {
     "data": {
      "text/plain": [
       "<matplotlib.axes._subplots.AxesSubplot at 0x7fa2ec7c5310>"
      ]
     },
     "execution_count": 29,
     "metadata": {},
     "output_type": "execute_result"
    },
    {
     "data": {
      "image/png": "[encoded data removed]",
      "text/plain": [
       "<Figure size 432x288 with 1 Axes>"
      ]
     },
     "metadata": {
      "needs_background": "light"
     },
     "output_type": "display_data"
    }
   ],
   "source": [
    "sns.scatterplot(x=\"pc_1\", y=\"pc_2\", hue=\"cluster\", data=df_norm_pca)"
   ]
  },
  {
   "cell_type": "markdown",
   "metadata": {},
   "source": [
    "Let's investigate the clusters:"
   ]
  },
  {
   "cell_type": "code",
   "execution_count": 30,
   "metadata": {},
   "outputs": [
    {
     "data": {
      "text/html": [
       "<div>\n",
       "<style scoped>\n",
       "    .dataframe tbody tr th:only-of-type {\n",
       "        vertical-align: middle;\n",
       "    }\n",
       "\n",
       "    .dataframe tbody tr th {\n",
       "        vertical-align: top;\n",
       "    }\n",
       "\n",
       "    .dataframe thead th {\n",
       "        text-align: right;\n",
       "    }\n",
       "</style>\n",
       "<table border=\"1\" class=\"dataframe\">\n",
       "  <thead>\n",
       "    <tr style=\"text-align: right;\">\n",
       "      <th></th>\n",
       "      <th>field_norm</th>\n",
       "      <th>sent_count_normalized</th>\n",
       "      <th>word_count_normalized</th>\n",
       "      <th>cluster</th>\n",
       "      <th>field</th>\n",
       "      <th>clean_desc</th>\n",
       "      <th>word_count</th>\n",
       "      <th>sent_count</th>\n",
       "    </tr>\n",
       "  </thead>\n",
       "  <tbody>\n",
       "    <tr>\n",
       "      <th>1</th>\n",
       "      <td>0</td>\n",
       "      <td>-0.351469</td>\n",
       "      <td>-0.266298</td>\n",
       "      <td>1</td>\n",
       "      <td>Title</td>\n",
       "      <td>Papers of The Very Rev Prof James Whyte (1920-...</td>\n",
       "      <td>10</td>\n",
       "      <td>1</td>\n",
       "    </tr>\n",
       "    <tr>\n",
       "      <th>5</th>\n",
       "      <td>0</td>\n",
       "      <td>-0.351469</td>\n",
       "      <td>-0.651163</td>\n",
       "      <td>1</td>\n",
       "      <td>Title</td>\n",
       "      <td>Papers of Rev Tom Allan (1916-1965)</td>\n",
       "      <td>7</td>\n",
       "      <td>1</td>\n",
       "    </tr>\n",
       "    <tr>\n",
       "      <th>9</th>\n",
       "      <td>0</td>\n",
       "      <td>-0.351469</td>\n",
       "      <td>-0.394586</td>\n",
       "      <td>1</td>\n",
       "      <td>Title</td>\n",
       "      <td>Papers of Rev Prof Alec Campbell Cheyne (1924-...</td>\n",
       "      <td>9</td>\n",
       "      <td>1</td>\n",
       "    </tr>\n",
       "    <tr>\n",
       "      <th>13</th>\n",
       "      <td>0</td>\n",
       "      <td>-0.351469</td>\n",
       "      <td>-0.266298</td>\n",
       "      <td>1</td>\n",
       "      <td>Title</td>\n",
       "      <td>Papers of Professor John Baillie, and Baillie ...</td>\n",
       "      <td>10</td>\n",
       "      <td>1</td>\n",
       "    </tr>\n",
       "    <tr>\n",
       "      <th>14</th>\n",
       "      <td>0</td>\n",
       "      <td>-0.351469</td>\n",
       "      <td>-0.907739</td>\n",
       "      <td>1</td>\n",
       "      <td>Title</td>\n",
       "      <td>Papers of John Baillie</td>\n",
       "      <td>5</td>\n",
       "      <td>1</td>\n",
       "    </tr>\n",
       "  </tbody>\n",
       "</table>\n",
       "</div>"
      ],
      "text/plain": [
       "    field_norm  sent_count_normalized  word_count_normalized  cluster  field  \\\n",
       "1            0              -0.351469              -0.266298        1  Title   \n",
       "5            0              -0.351469              -0.651163        1  Title   \n",
       "9            0              -0.351469              -0.394586        1  Title   \n",
       "13           0              -0.351469              -0.266298        1  Title   \n",
       "14           0              -0.351469              -0.907739        1  Title   \n",
       "\n",
       "                                           clean_desc  word_count  sent_count  \n",
       "1   Papers of The Very Rev Prof James Whyte (1920-...          10           1  \n",
       "5                 Papers of Rev Tom Allan (1916-1965)           7           1  \n",
       "9   Papers of Rev Prof Alec Campbell Cheyne (1924-...           9           1  \n",
       "13  Papers of Professor John Baillie, and Baillie ...          10           1  \n",
       "14                             Papers of John Baillie           5           1  "
      ]
     },
     "execution_count": 30,
     "metadata": {},
     "output_type": "execute_result"
    }
   ],
   "source": [
    "df_joined = subdf_norm.join(df, lsuffix=\"_norm\", rsuffix=\"\")\n",
    "df_joined.head()"
   ]
  },
  {
   "cell_type": "code",
   "execution_count": 31,
   "metadata": {
    "collapsed": true,
    "jupyter": {
     "outputs_hidden": true,
     "source_hidden": true
    }
   },
   "outputs": [
    {
     "name": "stdout",
     "output_type": "stream",
     "text": [
      "Unnormalized Description Word and Sentence Counts\n"
     ]
    },
    {
     "data": {
      "text/plain": [
       "<matplotlib.axes._subplots.AxesSubplot at 0x7fa2ec7b1d30>"
      ]
     },
     "execution_count": 31,
     "metadata": {},
     "output_type": "execute_result"
    },
    {
     "data": {
      "image/png": "[encoded data removed]",
      "text/plain": [
       "<Figure size 432x288 with 1 Axes>"
      ]
     },
     "metadata": {
      "needs_background": "light"
     },
     "output_type": "display_data"
    }
   ],
   "source": [
    "print(\"Unnormalized Description Word and Sentence Counts\")\n",
    "sns.scatterplot(x=\"word_count\", y=\"sent_count\", hue=\"cluster\", data=df_joined)"
   ]
  },
  {
   "cell_type": "code",
   "execution_count": 32,
   "metadata": {
    "jupyter": {
     "source_hidden": true
    }
   },
   "outputs": [
    {
     "name": "stdout",
     "output_type": "stream",
     "text": [
      "(3342, 8)\n",
      "Scope and Contents           2410\n",
      "Title                         857\n",
      "Biographical / Historical      60\n",
      "Processing Information         15\n",
      "Name: field, dtype: int64\n",
      "Range of word count: 3 33\n",
      "Range of sentence count: 2 10\n"
     ]
    }
   ],
   "source": [
    "df0 = df_joined.loc[df_joined.cluster == 0]\n",
    "print(df0.shape)\n",
    "print(df0.field.value_counts())\n",
    "print(\"Range of word count:\", min(df0.word_count), max(df0.word_count))\n",
    "print(\"Range of sentence count:\", min(df0.sent_count), max(df0.sent_count))"
   ]
  },
  {
   "cell_type": "code",
   "execution_count": 33,
   "metadata": {
    "jupyter": {
     "source_hidden": true
    }
   },
   "outputs": [
    {
     "name": "stdout",
     "output_type": "stream",
     "text": [
      "(14050, 8)\n",
      "Title                 13007\n",
      "Scope and Contents     1043\n",
      "Name: field, dtype: int64\n",
      "Range of word count: 0 15\n",
      "Range of sentence count: 1 2\n"
     ]
    }
   ],
   "source": [
    "df1 = df_joined.loc[df_joined.cluster == 1]\n",
    "print(df1.shape)\n",
    "print(df1.field.value_counts())\n",
    "print(\"Range of word count:\", min(df1.word_count), max(df1.word_count))\n",
    "print(\"Range of sentence count:\", min(df1.sent_count), max(df1.sent_count))"
   ]
  },
  {
   "cell_type": "code",
   "execution_count": 34,
   "metadata": {
    "jupyter": {
     "source_hidden": true
    }
   },
   "outputs": [
    {
     "name": "stdout",
     "output_type": "stream",
     "text": [
      "(7245, 8)\n",
      "Scope and Contents           5696\n",
      "Title                        1086\n",
      "Processing Information        285\n",
      "Biographical / Historical     178\n",
      "Name: field, dtype: int64\n",
      "Range of word count: 6 33\n",
      "Range of sentence count: 1 1\n"
     ]
    }
   ],
   "source": [
    "df2 = df_joined.loc[df_joined.cluster == 2]\n",
    "print(df2.shape)\n",
    "print(df2.field.value_counts())\n",
    "print(\"Range of word count:\", min(df2.word_count), max(df2.word_count))\n",
    "print(\"Range of sentence count:\", min(df2.sent_count), max(df2.sent_count))"
   ]
  },
  {
   "cell_type": "markdown",
   "metadata": {},
   "source": [
    "Observations:\n",
    "* Cluster 0 is the smallest (and least cohesive)\n",
    "* Cluster 1 is the largest\n",
    "* Cluster 2 is the most cohesive\n",
    "* Clusters 0 & 2 have descriptions from all metadata fields; cluster 1, from Title & Scope and Contents only\n",
    "* All three clusters have overlapping word count ranges\n",
    "* Cluster 1's sentence count range overlaps with clusters 0 and 2, but clusters 0 and 2's sentence count ranges do not overlap"
   ]
  },
  {
   "cell_type": "markdown",
   "metadata": {},
   "source": [
    "<a id=\"2\"></a>\n",
    "## 2. Clustering Descriptions' Text"
   ]
  },
  {
   "cell_type": "markdown",
   "metadata": {},
   "source": [
    "Set the maximum number of features at 250, and only consider words that appear in at least 50 different documents but no more than 300.  Additionally, allow for bigrams (such as \"19th century\") and trigrams (such as \"Mrs. Norman Macleod\").  We'll have the sklearn Vectorizer filter out stop words (such as \"the\" and \"and\"), as well.\n",
    "\n",
    "*Question: How are the features selected if a maximum is set?*"
   ]
  },
  {
   "cell_type": "code",
   "execution_count": 149,
   "metadata": {},
   "outputs": [
    {
     "data": {
      "text/html": [
       "<div>\n",
       "<style scoped>\n",
       "    .dataframe tbody tr th:only-of-type {\n",
       "        vertical-align: middle;\n",
       "    }\n",
       "\n",
       "    .dataframe tbody tr th {\n",
       "        vertical-align: top;\n",
       "    }\n",
       "\n",
       "    .dataframe thead th {\n",
       "        text-align: right;\n",
       "    }\n",
       "</style>\n",
       "<table border=\"1\" class=\"dataframe\">\n",
       "  <thead>\n",
       "    <tr style=\"text-align: right;\">\n",
       "      <th></th>\n",
       "      <th>10</th>\n",
       "      <th>2p</th>\n",
       "      <th>5cmsent</th>\n",
       "      <th>account</th>\n",
       "      <th>africa</th>\n",
       "      <th>agricultural</th>\n",
       "      <th>alan</th>\n",
       "      <th>alpbach</th>\n",
       "      <th>alpbach austria</th>\n",
       "      <th>alternative</th>\n",
       "      <th>...</th>\n",
       "      <th>water lane farmhouse</th>\n",
       "      <th>west</th>\n",
       "      <th>white</th>\n",
       "      <th>william</th>\n",
       "      <th>wilmut</th>\n",
       "      <th>woman</th>\n",
       "      <th>work</th>\n",
       "      <th>year</th>\n",
       "      <th>years</th>\n",
       "      <th>young</th>\n",
       "    </tr>\n",
       "  </thead>\n",
       "  <tbody>\n",
       "    <tr>\n",
       "      <th>count</th>\n",
       "      <td>24637.000000</td>\n",
       "      <td>24637.000000</td>\n",
       "      <td>24637.000000</td>\n",
       "      <td>24637.000000</td>\n",
       "      <td>24637.000000</td>\n",
       "      <td>24637.000000</td>\n",
       "      <td>24637.000000</td>\n",
       "      <td>24637.000000</td>\n",
       "      <td>24637.000000</td>\n",
       "      <td>24637.000000</td>\n",
       "      <td>...</td>\n",
       "      <td>24637.000000</td>\n",
       "      <td>24637.000000</td>\n",
       "      <td>24637.000000</td>\n",
       "      <td>24637.000000</td>\n",
       "      <td>24637.000000</td>\n",
       "      <td>24637.000000</td>\n",
       "      <td>24637.000000</td>\n",
       "      <td>24637.000000</td>\n",
       "      <td>24637.000000</td>\n",
       "      <td>24637.000000</td>\n",
       "    </tr>\n",
       "    <tr>\n",
       "      <th>mean</th>\n",
       "      <td>0.003227</td>\n",
       "      <td>0.003813</td>\n",
       "      <td>0.006177</td>\n",
       "      <td>0.003974</td>\n",
       "      <td>0.004738</td>\n",
       "      <td>0.002814</td>\n",
       "      <td>0.003122</td>\n",
       "      <td>0.004918</td>\n",
       "      <td>0.002172</td>\n",
       "      <td>0.002805</td>\n",
       "      <td>...</td>\n",
       "      <td>0.003290</td>\n",
       "      <td>0.003938</td>\n",
       "      <td>0.005080</td>\n",
       "      <td>0.002941</td>\n",
       "      <td>0.006642</td>\n",
       "      <td>0.005699</td>\n",
       "      <td>0.003051</td>\n",
       "      <td>0.003682</td>\n",
       "      <td>0.003670</td>\n",
       "      <td>0.005360</td>\n",
       "    </tr>\n",
       "    <tr>\n",
       "      <th>std</th>\n",
       "      <td>0.049154</td>\n",
       "      <td>0.052477</td>\n",
       "      <td>0.071613</td>\n",
       "      <td>0.051887</td>\n",
       "      <td>0.058126</td>\n",
       "      <td>0.042732</td>\n",
       "      <td>0.048556</td>\n",
       "      <td>0.058445</td>\n",
       "      <td>0.032914</td>\n",
       "      <td>0.041596</td>\n",
       "      <td>...</td>\n",
       "      <td>0.035079</td>\n",
       "      <td>0.055415</td>\n",
       "      <td>0.062067</td>\n",
       "      <td>0.047890</td>\n",
       "      <td>0.067209</td>\n",
       "      <td>0.065381</td>\n",
       "      <td>0.047589</td>\n",
       "      <td>0.052042</td>\n",
       "      <td>0.053629</td>\n",
       "      <td>0.063442</td>\n",
       "    </tr>\n",
       "    <tr>\n",
       "      <th>min</th>\n",
       "      <td>0.000000</td>\n",
       "      <td>0.000000</td>\n",
       "      <td>0.000000</td>\n",
       "      <td>0.000000</td>\n",
       "      <td>0.000000</td>\n",
       "      <td>0.000000</td>\n",
       "      <td>0.000000</td>\n",
       "      <td>0.000000</td>\n",
       "      <td>0.000000</td>\n",
       "      <td>0.000000</td>\n",
       "      <td>...</td>\n",
       "      <td>0.000000</td>\n",
       "      <td>0.000000</td>\n",
       "      <td>0.000000</td>\n",
       "      <td>0.000000</td>\n",
       "      <td>0.000000</td>\n",
       "      <td>0.000000</td>\n",
       "      <td>0.000000</td>\n",
       "      <td>0.000000</td>\n",
       "      <td>0.000000</td>\n",
       "      <td>0.000000</td>\n",
       "    </tr>\n",
       "    <tr>\n",
       "      <th>25%</th>\n",
       "      <td>0.000000</td>\n",
       "      <td>0.000000</td>\n",
       "      <td>0.000000</td>\n",
       "      <td>0.000000</td>\n",
       "      <td>0.000000</td>\n",
       "      <td>0.000000</td>\n",
       "      <td>0.000000</td>\n",
       "      <td>0.000000</td>\n",
       "      <td>0.000000</td>\n",
       "      <td>0.000000</td>\n",
       "      <td>...</td>\n",
       "      <td>0.000000</td>\n",
       "      <td>0.000000</td>\n",
       "      <td>0.000000</td>\n",
       "      <td>0.000000</td>\n",
       "      <td>0.000000</td>\n",
       "      <td>0.000000</td>\n",
       "      <td>0.000000</td>\n",
       "      <td>0.000000</td>\n",
       "      <td>0.000000</td>\n",
       "      <td>0.000000</td>\n",
       "    </tr>\n",
       "    <tr>\n",
       "      <th>50%</th>\n",
       "      <td>0.000000</td>\n",
       "      <td>0.000000</td>\n",
       "      <td>0.000000</td>\n",
       "      <td>0.000000</td>\n",
       "      <td>0.000000</td>\n",
       "      <td>0.000000</td>\n",
       "      <td>0.000000</td>\n",
       "      <td>0.000000</td>\n",
       "      <td>0.000000</td>\n",
       "      <td>0.000000</td>\n",
       "      <td>...</td>\n",
       "      <td>0.000000</td>\n",
       "      <td>0.000000</td>\n",
       "      <td>0.000000</td>\n",
       "      <td>0.000000</td>\n",
       "      <td>0.000000</td>\n",
       "      <td>0.000000</td>\n",
       "      <td>0.000000</td>\n",
       "      <td>0.000000</td>\n",
       "      <td>0.000000</td>\n",
       "      <td>0.000000</td>\n",
       "    </tr>\n",
       "    <tr>\n",
       "      <th>75%</th>\n",
       "      <td>0.000000</td>\n",
       "      <td>0.000000</td>\n",
       "      <td>0.000000</td>\n",
       "      <td>0.000000</td>\n",
       "      <td>0.000000</td>\n",
       "      <td>0.000000</td>\n",
       "      <td>0.000000</td>\n",
       "      <td>0.000000</td>\n",
       "      <td>0.000000</td>\n",
       "      <td>0.000000</td>\n",
       "      <td>...</td>\n",
       "      <td>0.000000</td>\n",
       "      <td>0.000000</td>\n",
       "      <td>0.000000</td>\n",
       "      <td>0.000000</td>\n",
       "      <td>0.000000</td>\n",
       "      <td>0.000000</td>\n",
       "      <td>0.000000</td>\n",
       "      <td>0.000000</td>\n",
       "      <td>0.000000</td>\n",
       "      <td>0.000000</td>\n",
       "    </tr>\n",
       "    <tr>\n",
       "      <th>max</th>\n",
       "      <td>1.000000</td>\n",
       "      <td>1.000000</td>\n",
       "      <td>1.000000</td>\n",
       "      <td>1.000000</td>\n",
       "      <td>1.000000</td>\n",
       "      <td>1.000000</td>\n",
       "      <td>1.000000</td>\n",
       "      <td>1.000000</td>\n",
       "      <td>0.594800</td>\n",
       "      <td>1.000000</td>\n",
       "      <td>...</td>\n",
       "      <td>0.448131</td>\n",
       "      <td>1.000000</td>\n",
       "      <td>1.000000</td>\n",
       "      <td>1.000000</td>\n",
       "      <td>1.000000</td>\n",
       "      <td>1.000000</td>\n",
       "      <td>1.000000</td>\n",
       "      <td>1.000000</td>\n",
       "      <td>1.000000</td>\n",
       "      <td>1.000000</td>\n",
       "    </tr>\n",
       "  </tbody>\n",
       "</table>\n",
       "<p>8 rows × 250 columns</p>\n",
       "</div>"
      ],
      "text/plain": [
       "                 10            2p       5cmsent       account        africa  \\\n",
       "count  24637.000000  24637.000000  24637.000000  24637.000000  24637.000000   \n",
       "mean       0.003227      0.003813      0.006177      0.003974      0.004738   \n",
       "std        0.049154      0.052477      0.071613      0.051887      0.058126   \n",
       "min        0.000000      0.000000      0.000000      0.000000      0.000000   \n",
       "25%        0.000000      0.000000      0.000000      0.000000      0.000000   \n",
       "50%        0.000000      0.000000      0.000000      0.000000      0.000000   \n",
       "75%        0.000000      0.000000      0.000000      0.000000      0.000000   \n",
       "max        1.000000      1.000000      1.000000      1.000000      1.000000   \n",
       "\n",
       "       agricultural          alan       alpbach  alpbach austria  \\\n",
       "count  24637.000000  24637.000000  24637.000000     24637.000000   \n",
       "mean       0.002814      0.003122      0.004918         0.002172   \n",
       "std        0.042732      0.048556      0.058445         0.032914   \n",
       "min        0.000000      0.000000      0.000000         0.000000   \n",
       "25%        0.000000      0.000000      0.000000         0.000000   \n",
       "50%        0.000000      0.000000      0.000000         0.000000   \n",
       "75%        0.000000      0.000000      0.000000         0.000000   \n",
       "max        1.000000      1.000000      1.000000         0.594800   \n",
       "\n",
       "        alternative  ...  water lane farmhouse          west         white  \\\n",
       "count  24637.000000  ...          24637.000000  24637.000000  24637.000000   \n",
       "mean       0.002805  ...              0.003290      0.003938      0.005080   \n",
       "std        0.041596  ...              0.035079      0.055415      0.062067   \n",
       "min        0.000000  ...              0.000000      0.000000      0.000000   \n",
       "25%        0.000000  ...              0.000000      0.000000      0.000000   \n",
       "50%        0.000000  ...              0.000000      0.000000      0.000000   \n",
       "75%        0.000000  ...              0.000000      0.000000      0.000000   \n",
       "max        1.000000  ...              0.448131      1.000000      1.000000   \n",
       "\n",
       "            william        wilmut         woman          work          year  \\\n",
       "count  24637.000000  24637.000000  24637.000000  24637.000000  24637.000000   \n",
       "mean       0.002941      0.006642      0.005699      0.003051      0.003682   \n",
       "std        0.047890      0.067209      0.065381      0.047589      0.052042   \n",
       "min        0.000000      0.000000      0.000000      0.000000      0.000000   \n",
       "25%        0.000000      0.000000      0.000000      0.000000      0.000000   \n",
       "50%        0.000000      0.000000      0.000000      0.000000      0.000000   \n",
       "75%        0.000000      0.000000      0.000000      0.000000      0.000000   \n",
       "max        1.000000      1.000000      1.000000      1.000000      1.000000   \n",
       "\n",
       "              years         young  \n",
       "count  24637.000000  24637.000000  \n",
       "mean       0.003670      0.005360  \n",
       "std        0.053629      0.063442  \n",
       "min        0.000000      0.000000  \n",
       "25%        0.000000      0.000000  \n",
       "50%        0.000000      0.000000  \n",
       "75%        0.000000      0.000000  \n",
       "max        1.000000      1.000000  \n",
       "\n",
       "[8 rows x 250 columns]"
      ]
     },
     "execution_count": 149,
     "metadata": {},
     "output_type": "execute_result"
    }
   ],
   "source": [
    "col_name = \"clean_desc\" #clean_desc_lemmas, clean_desc_stems  #text, text_stems, text_lemmas\n",
    "tfidf = TfidfVectorizer(ngram_range=(1,3), max_features=250, strip_accents=\"unicode\", min_df=50, max_df=300, stop_words=\"english\")\n",
    "tfidf_array = tfidf.fit_transform(df[col_name])\n",
    "df_tfidf = pd.DataFrame(tfidf_array.toarray(), index=df.index, columns=tfidf.get_feature_names())\n",
    "df_tfidf.describe()"
   ]
  },
  {
   "cell_type": "code",
   "execution_count": 150,
   "metadata": {},
   "outputs": [
    {
     "data": {
      "text/plain": [
       "(24637, 250)"
      ]
     },
     "execution_count": 150,
     "metadata": {},
     "output_type": "execute_result"
    }
   ],
   "source": [
    "df_tfidf.shape"
   ]
  },
  {
   "cell_type": "markdown",
   "metadata": {},
   "source": [
    "<a id=\"kmeans\"></a>\n",
    "### K-Means\n",
    "\n",
    "Next, use Principal Component Analysis (PCA) to reduce the dimensions in our dataset from 250 to 10."
   ]
  },
  {
   "cell_type": "code",
   "execution_count": 151,
   "metadata": {},
   "outputs": [],
   "source": [
    "pca = PCA(n_components=10, whiten=False, random_state=22)\n",
    "descs_pca = pca.fit_transform(df_tfidf)\n",
    "df_pca = pd.DataFrame(data=descs_pca)"
   ]
  },
  {
   "cell_type": "code",
   "execution_count": 152,
   "metadata": {},
   "outputs": [
    {
     "name": "stdout",
     "output_type": "stream",
     "text": [
      "(24637, 10)\n"
     ]
    },
    {
     "data": {
      "text/html": [
       "<div>\n",
       "<style scoped>\n",
       "    .dataframe tbody tr th:only-of-type {\n",
       "        vertical-align: middle;\n",
       "    }\n",
       "\n",
       "    .dataframe tbody tr th {\n",
       "        vertical-align: top;\n",
       "    }\n",
       "\n",
       "    .dataframe thead th {\n",
       "        text-align: right;\n",
       "    }\n",
       "</style>\n",
       "<table border=\"1\" class=\"dataframe\">\n",
       "  <thead>\n",
       "    <tr style=\"text-align: right;\">\n",
       "      <th></th>\n",
       "      <th>0</th>\n",
       "      <th>1</th>\n",
       "      <th>2</th>\n",
       "      <th>3</th>\n",
       "      <th>4</th>\n",
       "      <th>5</th>\n",
       "      <th>6</th>\n",
       "      <th>7</th>\n",
       "      <th>8</th>\n",
       "      <th>9</th>\n",
       "    </tr>\n",
       "  </thead>\n",
       "  <tbody>\n",
       "    <tr>\n",
       "      <th>0</th>\n",
       "      <td>0.007588</td>\n",
       "      <td>-0.028285</td>\n",
       "      <td>-0.007588</td>\n",
       "      <td>-0.031365</td>\n",
       "      <td>-0.023552</td>\n",
       "      <td>-0.043465</td>\n",
       "      <td>-0.034558</td>\n",
       "      <td>-0.032539</td>\n",
       "      <td>0.048489</td>\n",
       "      <td>0.124282</td>\n",
       "    </tr>\n",
       "    <tr>\n",
       "      <th>1</th>\n",
       "      <td>-0.000965</td>\n",
       "      <td>-0.005132</td>\n",
       "      <td>-0.000144</td>\n",
       "      <td>-0.003531</td>\n",
       "      <td>-0.002667</td>\n",
       "      <td>-0.006349</td>\n",
       "      <td>-0.002286</td>\n",
       "      <td>0.002328</td>\n",
       "      <td>0.005173</td>\n",
       "      <td>-0.002468</td>\n",
       "    </tr>\n",
       "    <tr>\n",
       "      <th>2</th>\n",
       "      <td>-0.000965</td>\n",
       "      <td>-0.005132</td>\n",
       "      <td>-0.000144</td>\n",
       "      <td>-0.003531</td>\n",
       "      <td>-0.002667</td>\n",
       "      <td>-0.006349</td>\n",
       "      <td>-0.002286</td>\n",
       "      <td>0.002328</td>\n",
       "      <td>0.005173</td>\n",
       "      <td>-0.002468</td>\n",
       "    </tr>\n",
       "    <tr>\n",
       "      <th>3</th>\n",
       "      <td>-0.007411</td>\n",
       "      <td>-0.010439</td>\n",
       "      <td>0.006006</td>\n",
       "      <td>-0.055420</td>\n",
       "      <td>-0.013338</td>\n",
       "      <td>-0.172065</td>\n",
       "      <td>-0.076537</td>\n",
       "      <td>-0.114363</td>\n",
       "      <td>-0.069871</td>\n",
       "      <td>-0.072084</td>\n",
       "    </tr>\n",
       "    <tr>\n",
       "      <th>4</th>\n",
       "      <td>-0.006211</td>\n",
       "      <td>-0.009478</td>\n",
       "      <td>0.006018</td>\n",
       "      <td>-0.056942</td>\n",
       "      <td>-0.012249</td>\n",
       "      <td>-0.179610</td>\n",
       "      <td>-0.088177</td>\n",
       "      <td>-0.114423</td>\n",
       "      <td>-0.079339</td>\n",
       "      <td>-0.080941</td>\n",
       "    </tr>\n",
       "  </tbody>\n",
       "</table>\n",
       "</div>"
      ],
      "text/plain": [
       "          0         1         2         3         4         5         6  \\\n",
       "0  0.007588 -0.028285 -0.007588 -0.031365 -0.023552 -0.043465 -0.034558   \n",
       "1 -0.000965 -0.005132 -0.000144 -0.003531 -0.002667 -0.006349 -0.002286   \n",
       "2 -0.000965 -0.005132 -0.000144 -0.003531 -0.002667 -0.006349 -0.002286   \n",
       "3 -0.007411 -0.010439  0.006006 -0.055420 -0.013338 -0.172065 -0.076537   \n",
       "4 -0.006211 -0.009478  0.006018 -0.056942 -0.012249 -0.179610 -0.088177   \n",
       "\n",
       "          7         8         9  \n",
       "0 -0.032539  0.048489  0.124282  \n",
       "1  0.002328  0.005173 -0.002468  \n",
       "2  0.002328  0.005173 -0.002468  \n",
       "3 -0.114363 -0.069871 -0.072084  \n",
       "4 -0.114423 -0.079339 -0.080941  "
      ]
     },
     "execution_count": 152,
     "metadata": {},
     "output_type": "execute_result"
    }
   ],
   "source": [
    "print(df_pca.shape)\n",
    "df_pca.head()"
   ]
  },
  {
   "cell_type": "code",
   "execution_count": 157,
   "metadata": {},
   "outputs": [
    {
     "name": "stderr",
     "output_type": "stream",
     "text": [
      "/afs/inf.ed.ac.uk/user/s15/s1545703/repos/gender-bias/analysis/Clustering/utils.py:31: UserWarning: Matplotlib is currently using module://ipykernel.pylab.backend_inline, which is a non-GUI backend, so cannot show the figure.\n",
      "  fig.show()\n"
     ]
    },
    {
     "data": {
      "image/png": "[encoded data removed]",
      "text/plain": [
       "<Figure size 720x720 with 1 Axes>"
      ]
     },
     "metadata": {
      "needs_background": "light"
     },
     "output_type": "display_data"
    }
   ],
   "source": [
    "utils.elbowPlot(range(8, 30), df_pca)"
   ]
  },
  {
   "cell_type": "code",
   "execution_count": 158,
   "metadata": {},
   "outputs": [
    {
     "data": {
      "text/html": [
       "<div>\n",
       "<style scoped>\n",
       "    .dataframe tbody tr th:only-of-type {\n",
       "        vertical-align: middle;\n",
       "    }\n",
       "\n",
       "    .dataframe tbody tr th {\n",
       "        vertical-align: top;\n",
       "    }\n",
       "\n",
       "    .dataframe thead th {\n",
       "        text-align: right;\n",
       "    }\n",
       "</style>\n",
       "<table border=\"1\" class=\"dataframe\">\n",
       "  <thead>\n",
       "    <tr style=\"text-align: right;\">\n",
       "      <th></th>\n",
       "      <th>field</th>\n",
       "      <th>clean_desc</th>\n",
       "      <th>word_count</th>\n",
       "      <th>sent_count</th>\n",
       "      <th>clean_desc_lemmas</th>\n",
       "      <th>cluster</th>\n",
       "    </tr>\n",
       "  </thead>\n",
       "  <tbody>\n",
       "    <tr>\n",
       "      <th>1</th>\n",
       "      <td>Title</td>\n",
       "      <td>Papers of The Very Rev Prof James Whyte (1920-...</td>\n",
       "      <td>10</td>\n",
       "      <td>1</td>\n",
       "      <td>Papers of The Very Rev Prof James Whyte (1920-...</td>\n",
       "      <td>1</td>\n",
       "    </tr>\n",
       "    <tr>\n",
       "      <th>5</th>\n",
       "      <td>Title</td>\n",
       "      <td>Papers of Rev Tom Allan (1916-1965)</td>\n",
       "      <td>7</td>\n",
       "      <td>1</td>\n",
       "      <td>Papers of Rev Tom Allan (1916-1965)</td>\n",
       "      <td>1</td>\n",
       "    </tr>\n",
       "    <tr>\n",
       "      <th>9</th>\n",
       "      <td>Title</td>\n",
       "      <td>Papers of Rev Prof Alec Campbell Cheyne (1924-...</td>\n",
       "      <td>9</td>\n",
       "      <td>1</td>\n",
       "      <td>Papers of Rev Prof Alec Campbell Cheyne (1924-...</td>\n",
       "      <td>1</td>\n",
       "    </tr>\n",
       "    <tr>\n",
       "      <th>13</th>\n",
       "      <td>Title</td>\n",
       "      <td>Papers of Professor John Baillie, and Baillie ...</td>\n",
       "      <td>10</td>\n",
       "      <td>1</td>\n",
       "      <td>Papers of Professor John Baillie, and Baillie ...</td>\n",
       "      <td>11</td>\n",
       "    </tr>\n",
       "    <tr>\n",
       "      <th>14</th>\n",
       "      <td>Title</td>\n",
       "      <td>Papers of John Baillie</td>\n",
       "      <td>5</td>\n",
       "      <td>1</td>\n",
       "      <td>Papers of John Baillie</td>\n",
       "      <td>11</td>\n",
       "    </tr>\n",
       "  </tbody>\n",
       "</table>\n",
       "</div>"
      ],
      "text/plain": [
       "    field                                         clean_desc  word_count  \\\n",
       "1   Title  Papers of The Very Rev Prof James Whyte (1920-...          10   \n",
       "5   Title                Papers of Rev Tom Allan (1916-1965)           7   \n",
       "9   Title  Papers of Rev Prof Alec Campbell Cheyne (1924-...           9   \n",
       "13  Title  Papers of Professor John Baillie, and Baillie ...          10   \n",
       "14  Title                             Papers of John Baillie           5   \n",
       "\n",
       "    sent_count                                  clean_desc_lemmas  cluster  \n",
       "1            1  Papers of The Very Rev Prof James Whyte (1920-...        1  \n",
       "5            1                Papers of Rev Tom Allan (1916-1965)        1  \n",
       "9            1  Papers of Rev Prof Alec Campbell Cheyne (1924-...        1  \n",
       "13           1  Papers of Professor John Baillie, and Baillie ...       11  \n",
       "14           1                             Papers of John Baillie       11  "
      ]
     },
     "execution_count": 158,
     "metadata": {},
     "output_type": "execute_result"
    }
   ],
   "source": [
    "kmeans = KMeans(n_clusters=17, random_state=22)  #4\n",
    "descs_clusters = kmeans.fit_predict(df_pca)\n",
    "df_clustered = df.copy()\n",
    "df_clustered.insert(len(df.columns), \"cluster\", descs_clusters)\n",
    "df_clustered.head()"
   ]
  },
  {
   "cell_type": "code",
   "execution_count": 159,
   "metadata": {},
   "outputs": [
    {
     "data": {
      "text/plain": [
       "<matplotlib.axes._subplots.AxesSubplot at 0x7fa2dd733af0>"
      ]
     },
     "execution_count": 159,
     "metadata": {},
     "output_type": "execute_result"
    },
    {
     "data": {
      "image/png": "[encoded data removed]",
      "text/plain": [
       "<Figure size 432x288 with 1 Axes>"
      ]
     },
     "metadata": {
      "needs_background": "light"
     },
     "output_type": "display_data"
    }
   ],
   "source": [
    "cluster_sizes = df_clustered.groupby(\"cluster\").size().reset_index(name=\"total_descs\").sort_values(by=\"total_descs\")\n",
    "sns.barplot(x=\"cluster\", y=\"total_descs\", data=cluster_sizes)"
   ]
  },
  {
   "cell_type": "markdown",
   "metadata": {},
   "source": [
    "We have 1 very large cluster, about 4 medium clusters, and 11 small clusters."
   ]
  },
  {
   "cell_type": "code",
   "execution_count": 79,
   "metadata": {
    "collapsed": true,
    "jupyter": {
     "outputs_hidden": true
    }
   },
   "outputs": [
    {
     "name": "stdout",
     "output_type": "stream",
     "text": [
      "Cluster 0\n",
      "--------------\n",
      "Scope and Contents           1053\n",
      "Title                         554\n",
      "Biographical / Historical       2\n",
      "Name: field, dtype: int64 \n",
      "\n",
      "Cluster 1\n",
      "--------------\n",
      "Title                        11399\n",
      "Scope and Contents            4547\n",
      "Biographical / Historical      182\n",
      "Processing Information         101\n",
      "Name: field, dtype: int64 \n",
      "\n",
      "Cluster 2\n",
      "--------------\n",
      "Title    203\n",
      "Name: field, dtype: int64 \n",
      "\n",
      "Cluster 3\n",
      "--------------\n",
      "Title                        177\n",
      "Scope and Contents            77\n",
      "Biographical / Historical      1\n",
      "Name: field, dtype: int64 \n",
      "\n",
      "Cluster 4\n",
      "--------------\n",
      "Scope and Contents    232\n",
      "Name: field, dtype: int64 \n",
      "\n",
      "Cluster 5\n",
      "--------------\n",
      "Title                 198\n",
      "Scope and Contents     16\n",
      "Name: field, dtype: int64 \n",
      "\n",
      "Cluster 6\n",
      "--------------\n",
      "Title                 283\n",
      "Scope and Contents      3\n",
      "Name: field, dtype: int64 \n",
      "\n",
      "Cluster 7\n",
      "--------------\n",
      "Scope and Contents    251\n",
      "Name: field, dtype: int64 \n",
      "\n",
      "Cluster 8\n",
      "--------------\n",
      "Scope and Contents    200\n",
      "Title                  91\n",
      "Name: field, dtype: int64 \n",
      "\n",
      "Cluster 9\n",
      "--------------\n",
      "Scope and Contents           553\n",
      "Title                        464\n",
      "Biographical / Historical      3\n",
      "Name: field, dtype: int64 \n",
      "\n",
      "Cluster 10\n",
      "--------------\n",
      "Scope and Contents    412\n",
      "Title                  57\n",
      "Name: field, dtype: int64 \n",
      "\n",
      "Cluster 11\n",
      "--------------\n",
      "Title                        989\n",
      "Scope and Contents           578\n",
      "Biographical / Historical     50\n",
      "Name: field, dtype: int64 \n",
      "\n",
      "Cluster 12\n",
      "--------------\n",
      "Title                 269\n",
      "Scope and Contents     25\n",
      "Name: field, dtype: int64 \n",
      "\n",
      "Cluster 13\n",
      "--------------\n",
      "Title                 128\n",
      "Scope and Contents     56\n",
      "Name: field, dtype: int64 \n",
      "\n",
      "Cluster 14\n",
      "--------------\n",
      "Scope and Contents    1062\n",
      "Title                   22\n",
      "Name: field, dtype: int64 \n",
      "\n",
      "Cluster 15\n",
      "--------------\n",
      "Processing Information    199\n",
      "Name: field, dtype: int64 \n",
      "\n",
      "Cluster 16\n",
      "--------------\n",
      "Title                 116\n",
      "Scope and Contents     84\n",
      "Name: field, dtype: int64 \n",
      "\n"
     ]
    }
   ],
   "source": [
    "for cluster in range(17):\n",
    "    print(\"Cluster {}\".format(cluster))\n",
    "    print(\"--------------\")\n",
    "    cluster = df_clustered.loc[df_clustered.cluster == cluster]\n",
    "    print(cluster.field.value_counts(), \"\\n\")"
   ]
  },
  {
   "cell_type": "markdown",
   "metadata": {},
   "source": [
    "***\n",
    "#### **TO DO:** perform text mining on the clusters, and associate descriptions to collections to see if collections or certain topics (people, research, education, etc.) are clustering together\n",
    "***"
   ]
  },
  {
   "cell_type": "markdown",
   "metadata": {},
   "source": [
    "Reduce to 2 dimensions instead of 10 to visualize the clusters:"
   ]
  },
  {
   "cell_type": "code",
   "execution_count": 82,
   "metadata": {},
   "outputs": [
    {
     "data": {
      "text/plain": [
       "<matplotlib.axes._subplots.AxesSubplot at 0x7fa2dd901520>"
      ]
     },
     "execution_count": 82,
     "metadata": {},
     "output_type": "execute_result"
    },
    {
     "data": {
      "image/png": "[encoded data removed]",
      "text/plain": [
       "<Figure size 432x288 with 1 Axes>"
      ]
     },
     "metadata": {
      "needs_background": "light"
     },
     "output_type": "display_data"
    }
   ],
   "source": [
    "pca = PCA(n_components=2, whiten=False, random_state=22)\n",
    "descs_pca2 = pca.fit_transform(df_tfidf)\n",
    "df_pca2 = pd.DataFrame(data=descs_pca2, columns=[\"pc_1\", \"pc_2\"])\n",
    "df_pca2.insert(len(df_pca2.columns), \"cluster\", descs_clusters)\n",
    "# df_pca2.head()\n",
    "sns.scatterplot(x=\"pc_1\", y=\"pc_2\", hue=\"cluster\", data=df_pca2)"
   ]
  },
  {
   "cell_type": "markdown",
   "metadata": {},
   "source": [
    "<a id=\"dbscan\"></a>\n",
    "### DBSCAN"
   ]
  },
  {
   "cell_type": "code",
   "execution_count": 51,
   "metadata": {},
   "outputs": [
    {
     "data": {
      "image/png": "[encoded data removed]",
      "text/plain": [
       "<Figure size 432x288 with 1 Axes>"
      ]
     },
     "metadata": {
      "needs_background": "light"
     },
     "output_type": "display_data"
    }
   ],
   "source": [
    "utils.findOptimalEps(2, df_tfidf)"
   ]
  },
  {
   "cell_type": "markdown",
   "metadata": {},
   "source": [
    "Let's try 0.6 as the epsilon value:"
   ]
  },
  {
   "cell_type": "code",
   "execution_count": 52,
   "metadata": {},
   "outputs": [
    {
     "data": {
      "text/plain": [
       "array([0])"
      ]
     },
     "execution_count": 52,
     "metadata": {},
     "output_type": "execute_result"
    }
   ],
   "source": [
    "dbscan = DBSCAN(eps=0.6, metric=\"euclidean\")  # change to cosine distance if use TFIDF DataFrame\n",
    "dbscan_clusters = dbscan.fit_predict(df_pca)\n",
    "df_dbscan = df.copy()\n",
    "df_dbscan.insert(len(df_dbscan.columns), \"cluster\", dbscan_clusters)\n",
    "df_dbscan[\"cluster\"].unique()"
   ]
  },
  {
   "cell_type": "code",
   "execution_count": 53,
   "metadata": {},
   "outputs": [
    {
     "data": {
      "text/plain": [
       "array([-1,  0,  1])"
      ]
     },
     "execution_count": 53,
     "metadata": {},
     "output_type": "execute_result"
    }
   ],
   "source": [
    "dbscan = DBSCAN(eps=0.6, metric=\"cosine\")  # change to Euclidean distance if use PCA DataFrame\n",
    "dbscan_clusters = dbscan.fit_predict(df_tfidf)\n",
    "df_dbscan = df.copy()\n",
    "df_dbscan.insert(len(df_dbscan.columns), \"cluster\", dbscan_clusters)\n",
    "df_dbscan[\"cluster\"].unique()"
   ]
  },
  {
   "cell_type": "code",
   "execution_count": 54,
   "metadata": {},
   "outputs": [
    {
     "data": {
      "text/html": [
       "<div>\n",
       "<style scoped>\n",
       "    .dataframe tbody tr th:only-of-type {\n",
       "        vertical-align: middle;\n",
       "    }\n",
       "\n",
       "    .dataframe tbody tr th {\n",
       "        vertical-align: top;\n",
       "    }\n",
       "\n",
       "    .dataframe thead th {\n",
       "        text-align: right;\n",
       "    }\n",
       "</style>\n",
       "<table border=\"1\" class=\"dataframe\">\n",
       "  <thead>\n",
       "    <tr style=\"text-align: right;\">\n",
       "      <th></th>\n",
       "      <th>field</th>\n",
       "      <th>clean_desc</th>\n",
       "      <th>word_count</th>\n",
       "      <th>sent_count</th>\n",
       "      <th>clean_desc_lemmas</th>\n",
       "      <th>cluster</th>\n",
       "    </tr>\n",
       "  </thead>\n",
       "  <tbody>\n",
       "    <tr>\n",
       "      <th>1</th>\n",
       "      <td>Title</td>\n",
       "      <td>Papers of The Very Rev Prof James Whyte (1920-...</td>\n",
       "      <td>10</td>\n",
       "      <td>1</td>\n",
       "      <td>Papers of The Very Rev Prof James Whyte (1920-...</td>\n",
       "      <td>-1</td>\n",
       "    </tr>\n",
       "    <tr>\n",
       "      <th>5</th>\n",
       "      <td>Title</td>\n",
       "      <td>Papers of Rev Tom Allan (1916-1965)</td>\n",
       "      <td>7</td>\n",
       "      <td>1</td>\n",
       "      <td>Papers of Rev Tom Allan (1916-1965)</td>\n",
       "      <td>-1</td>\n",
       "    </tr>\n",
       "    <tr>\n",
       "      <th>9</th>\n",
       "      <td>Title</td>\n",
       "      <td>Papers of Rev Prof Alec Campbell Cheyne (1924-...</td>\n",
       "      <td>9</td>\n",
       "      <td>1</td>\n",
       "      <td>Papers of Rev Prof Alec Campbell Cheyne (1924-...</td>\n",
       "      <td>-1</td>\n",
       "    </tr>\n",
       "    <tr>\n",
       "      <th>13</th>\n",
       "      <td>Title</td>\n",
       "      <td>Papers of Professor John Baillie, and Baillie ...</td>\n",
       "      <td>10</td>\n",
       "      <td>1</td>\n",
       "      <td>Papers of Professor John Baillie, and Baillie ...</td>\n",
       "      <td>0</td>\n",
       "    </tr>\n",
       "    <tr>\n",
       "      <th>14</th>\n",
       "      <td>Title</td>\n",
       "      <td>Papers of John Baillie</td>\n",
       "      <td>5</td>\n",
       "      <td>1</td>\n",
       "      <td>Papers of John Baillie</td>\n",
       "      <td>0</td>\n",
       "    </tr>\n",
       "  </tbody>\n",
       "</table>\n",
       "</div>"
      ],
      "text/plain": [
       "    field                                         clean_desc  word_count  \\\n",
       "1   Title  Papers of The Very Rev Prof James Whyte (1920-...          10   \n",
       "5   Title                Papers of Rev Tom Allan (1916-1965)           7   \n",
       "9   Title  Papers of Rev Prof Alec Campbell Cheyne (1924-...           9   \n",
       "13  Title  Papers of Professor John Baillie, and Baillie ...          10   \n",
       "14  Title                             Papers of John Baillie           5   \n",
       "\n",
       "    sent_count                                  clean_desc_lemmas  cluster  \n",
       "1            1  Papers of The Very Rev Prof James Whyte (1920-...       -1  \n",
       "5            1                Papers of Rev Tom Allan (1916-1965)       -1  \n",
       "9            1  Papers of Rev Prof Alec Campbell Cheyne (1924-...       -1  \n",
       "13           1  Papers of Professor John Baillie, and Baillie ...        0  \n",
       "14           1                             Papers of John Baillie        0  "
      ]
     },
     "execution_count": 54,
     "metadata": {},
     "output_type": "execute_result"
    }
   ],
   "source": [
    "df_dbscan.head()"
   ]
  },
  {
   "cell_type": "markdown",
   "metadata": {},
   "source": [
    "Reduce to two dimensions for visualization:"
   ]
  },
  {
   "cell_type": "code",
   "execution_count": 91,
   "metadata": {},
   "outputs": [
    {
     "data": {
      "text/plain": [
       "<matplotlib.axes._subplots.AxesSubplot at 0x7fa2dc269790>"
      ]
     },
     "execution_count": 91,
     "metadata": {},
     "output_type": "execute_result"
    },
    {
     "data": {
      "image/png": "[encoded data removed]",
      "text/plain": [
       "<Figure size 432x288 with 1 Axes>"
      ]
     },
     "metadata": {
      "needs_background": "light"
     },
     "output_type": "display_data"
    }
   ],
   "source": [
    "pca = PCA(n_components=2, whiten=False, random_state=22)\n",
    "descs_pca3 = pca.fit_transform(df_tfidf)\n",
    "df_dbscan = pd.DataFrame(data=descs_pca3, columns=[\"pc_1\", \"pc_2\"])\n",
    "df_dbscan.insert(len(df_dbscan.columns), \"cluster\", dbscan_clusters)\n",
    "# df_dbscan.head()\n",
    "sns.scatterplot(x=\"pc_1\", y=\"pc_2\", hue=\"cluster\", data=df_dbscan)"
   ]
  },
  {
   "cell_type": "markdown",
   "metadata": {},
   "source": [
    "#### WITH LEMMAS:"
   ]
  },
  {
   "cell_type": "code",
   "execution_count": 58,
   "metadata": {},
   "outputs": [
    {
     "name": "stdout",
     "output_type": "stream",
     "text": [
      "Papers of The Very Rev Prof James Whyte (1920-2005)\n"
     ]
    }
   ],
   "source": [
    "# stemmer = PorterStemmer()\n",
    "# text_list = list(df[text_col])\n",
    "# text_stems = [stemmer.stem(text) for text in text_list]\n",
    "# print(text_stems[0])\n",
    "\n",
    "lmtzr = WordNetLemmatizer()\n",
    "text_list = list(df[text_col])\n",
    "text_lemmas = [lmtzr.lemmatize(text) for text in text_list]\n",
    "print(text_lemmas[0])"
   ]
  },
  {
   "cell_type": "code",
   "execution_count": 92,
   "metadata": {},
   "outputs": [
    {
     "data": {
      "text/html": [
       "<div>\n",
       "<style scoped>\n",
       "    .dataframe tbody tr th:only-of-type {\n",
       "        vertical-align: middle;\n",
       "    }\n",
       "\n",
       "    .dataframe tbody tr th {\n",
       "        vertical-align: top;\n",
       "    }\n",
       "\n",
       "    .dataframe thead th {\n",
       "        text-align: right;\n",
       "    }\n",
       "</style>\n",
       "<table border=\"1\" class=\"dataframe\">\n",
       "  <thead>\n",
       "    <tr style=\"text-align: right;\">\n",
       "      <th></th>\n",
       "      <th>field</th>\n",
       "      <th>clean_desc</th>\n",
       "      <th>word_count</th>\n",
       "      <th>sent_count</th>\n",
       "      <th>clean_desc_lemmas</th>\n",
       "    </tr>\n",
       "  </thead>\n",
       "  <tbody>\n",
       "    <tr>\n",
       "      <th>1</th>\n",
       "      <td>Title</td>\n",
       "      <td>Papers of The Very Rev Prof James Whyte (1920-...</td>\n",
       "      <td>10</td>\n",
       "      <td>1</td>\n",
       "      <td>Papers of The Very Rev Prof James Whyte (1920-...</td>\n",
       "    </tr>\n",
       "    <tr>\n",
       "      <th>5</th>\n",
       "      <td>Title</td>\n",
       "      <td>Papers of Rev Tom Allan (1916-1965)</td>\n",
       "      <td>7</td>\n",
       "      <td>1</td>\n",
       "      <td>Papers of Rev Tom Allan (1916-1965)</td>\n",
       "    </tr>\n",
       "    <tr>\n",
       "      <th>9</th>\n",
       "      <td>Title</td>\n",
       "      <td>Papers of Rev Prof Alec Campbell Cheyne (1924-...</td>\n",
       "      <td>9</td>\n",
       "      <td>1</td>\n",
       "      <td>Papers of Rev Prof Alec Campbell Cheyne (1924-...</td>\n",
       "    </tr>\n",
       "    <tr>\n",
       "      <th>13</th>\n",
       "      <td>Title</td>\n",
       "      <td>Papers of Professor John Baillie, and Baillie ...</td>\n",
       "      <td>10</td>\n",
       "      <td>1</td>\n",
       "      <td>Papers of Professor John Baillie, and Baillie ...</td>\n",
       "    </tr>\n",
       "    <tr>\n",
       "      <th>14</th>\n",
       "      <td>Title</td>\n",
       "      <td>Papers of John Baillie</td>\n",
       "      <td>5</td>\n",
       "      <td>1</td>\n",
       "      <td>Papers of John Baillie</td>\n",
       "    </tr>\n",
       "  </tbody>\n",
       "</table>\n",
       "</div>"
      ],
      "text/plain": [
       "    field                                         clean_desc  word_count  \\\n",
       "1   Title  Papers of The Very Rev Prof James Whyte (1920-...          10   \n",
       "5   Title                Papers of Rev Tom Allan (1916-1965)           7   \n",
       "9   Title  Papers of Rev Prof Alec Campbell Cheyne (1924-...           9   \n",
       "13  Title  Papers of Professor John Baillie, and Baillie ...          10   \n",
       "14  Title                             Papers of John Baillie           5   \n",
       "\n",
       "    sent_count                                  clean_desc_lemmas  \n",
       "1            1  Papers of The Very Rev Prof James Whyte (1920-...  \n",
       "5            1                Papers of Rev Tom Allan (1916-1965)  \n",
       "9            1  Papers of Rev Prof Alec Campbell Cheyne (1924-...  \n",
       "13           1  Papers of Professor John Baillie, and Baillie ...  \n",
       "14           1                             Papers of John Baillie  "
      ]
     },
     "execution_count": 92,
     "metadata": {},
     "output_type": "execute_result"
    }
   ],
   "source": [
    "# df.insert(len(df.columns), \"clean_desc_stems\", text_stems)\n",
    "# df.insert(len(df.columns), \"clean_desc_lemmas\", text_lemmas)\n",
    "df.head()"
   ]
  },
  {
   "cell_type": "markdown",
   "metadata": {},
   "source": [
    "***"
   ]
  },
  {
   "cell_type": "markdown",
   "metadata": {},
   "source": [
    "Set the maximum number of features at 300, and only consider words that appear in at least 20 different documents but no more than 200.  Additionally, allow for bigrams (such as \"19th century\") and trigrams (such as \"Mrs. Norman Macleod\").  We'll have the sklearn Vectorizer filter out stop words (such as \"the\" and \"and\"), as well.\n",
    "\n",
    "*Question: How are the features selected if a maximum is set?*"
   ]
  },
  {
   "cell_type": "code",
   "execution_count": 95,
   "metadata": {},
   "outputs": [
    {
     "data": {
      "text/html": [
       "<div>\n",
       "<style scoped>\n",
       "    .dataframe tbody tr th:only-of-type {\n",
       "        vertical-align: middle;\n",
       "    }\n",
       "\n",
       "    .dataframe tbody tr th {\n",
       "        vertical-align: top;\n",
       "    }\n",
       "\n",
       "    .dataframe thead th {\n",
       "        text-align: right;\n",
       "    }\n",
       "</style>\n",
       "<table border=\"1\" class=\"dataframe\">\n",
       "  <thead>\n",
       "    <tr style=\"text-align: right;\">\n",
       "      <th></th>\n",
       "      <th>10</th>\n",
       "      <th>12</th>\n",
       "      <th>2003</th>\n",
       "      <th>2p</th>\n",
       "      <th>5cmsent</th>\n",
       "      <th>account</th>\n",
       "      <th>africa</th>\n",
       "      <th>africa early</th>\n",
       "      <th>age</th>\n",
       "      <th>agricultural</th>\n",
       "      <th>...</th>\n",
       "      <th>wales</th>\n",
       "      <th>west</th>\n",
       "      <th>white</th>\n",
       "      <th>william</th>\n",
       "      <th>work</th>\n",
       "      <th>year</th>\n",
       "      <th>years</th>\n",
       "      <th>yorksent</th>\n",
       "      <th>young</th>\n",
       "      <th>zealand</th>\n",
       "    </tr>\n",
       "  </thead>\n",
       "  <tbody>\n",
       "    <tr>\n",
       "      <th>count</th>\n",
       "      <td>24637.000000</td>\n",
       "      <td>24637.000000</td>\n",
       "      <td>24637.000000</td>\n",
       "      <td>24637.000000</td>\n",
       "      <td>24637.000000</td>\n",
       "      <td>24637.000000</td>\n",
       "      <td>24637.000000</td>\n",
       "      <td>24637.000000</td>\n",
       "      <td>24637.000000</td>\n",
       "      <td>24637.000000</td>\n",
       "      <td>...</td>\n",
       "      <td>24637.000000</td>\n",
       "      <td>24637.000000</td>\n",
       "      <td>24637.000000</td>\n",
       "      <td>24637.000000</td>\n",
       "      <td>24637.000000</td>\n",
       "      <td>24637.000000</td>\n",
       "      <td>24637.000000</td>\n",
       "      <td>24637.000000</td>\n",
       "      <td>24637.000000</td>\n",
       "      <td>24637.000000</td>\n",
       "    </tr>\n",
       "    <tr>\n",
       "      <th>mean</th>\n",
       "      <td>0.003269</td>\n",
       "      <td>0.002745</td>\n",
       "      <td>0.002515</td>\n",
       "      <td>0.003885</td>\n",
       "      <td>0.006302</td>\n",
       "      <td>0.003687</td>\n",
       "      <td>0.004819</td>\n",
       "      <td>0.002127</td>\n",
       "      <td>0.002270</td>\n",
       "      <td>0.002732</td>\n",
       "      <td>...</td>\n",
       "      <td>0.002454</td>\n",
       "      <td>0.003786</td>\n",
       "      <td>0.004817</td>\n",
       "      <td>0.003051</td>\n",
       "      <td>0.003240</td>\n",
       "      <td>0.003897</td>\n",
       "      <td>0.003735</td>\n",
       "      <td>0.002157</td>\n",
       "      <td>0.005765</td>\n",
       "      <td>0.002094</td>\n",
       "    </tr>\n",
       "    <tr>\n",
       "      <th>std</th>\n",
       "      <td>0.049753</td>\n",
       "      <td>0.045733</td>\n",
       "      <td>0.042226</td>\n",
       "      <td>0.053767</td>\n",
       "      <td>0.073035</td>\n",
       "      <td>0.048332</td>\n",
       "      <td>0.059506</td>\n",
       "      <td>0.036790</td>\n",
       "      <td>0.041456</td>\n",
       "      <td>0.041896</td>\n",
       "      <td>...</td>\n",
       "      <td>0.042314</td>\n",
       "      <td>0.053413</td>\n",
       "      <td>0.058627</td>\n",
       "      <td>0.049655</td>\n",
       "      <td>0.050493</td>\n",
       "      <td>0.054414</td>\n",
       "      <td>0.054455</td>\n",
       "      <td>0.036014</td>\n",
       "      <td>0.068009</td>\n",
       "      <td>0.035621</td>\n",
       "    </tr>\n",
       "    <tr>\n",
       "      <th>min</th>\n",
       "      <td>0.000000</td>\n",
       "      <td>0.000000</td>\n",
       "      <td>0.000000</td>\n",
       "      <td>0.000000</td>\n",
       "      <td>0.000000</td>\n",
       "      <td>0.000000</td>\n",
       "      <td>0.000000</td>\n",
       "      <td>0.000000</td>\n",
       "      <td>0.000000</td>\n",
       "      <td>0.000000</td>\n",
       "      <td>...</td>\n",
       "      <td>0.000000</td>\n",
       "      <td>0.000000</td>\n",
       "      <td>0.000000</td>\n",
       "      <td>0.000000</td>\n",
       "      <td>0.000000</td>\n",
       "      <td>0.000000</td>\n",
       "      <td>0.000000</td>\n",
       "      <td>0.000000</td>\n",
       "      <td>0.000000</td>\n",
       "      <td>0.000000</td>\n",
       "    </tr>\n",
       "    <tr>\n",
       "      <th>25%</th>\n",
       "      <td>0.000000</td>\n",
       "      <td>0.000000</td>\n",
       "      <td>0.000000</td>\n",
       "      <td>0.000000</td>\n",
       "      <td>0.000000</td>\n",
       "      <td>0.000000</td>\n",
       "      <td>0.000000</td>\n",
       "      <td>0.000000</td>\n",
       "      <td>0.000000</td>\n",
       "      <td>0.000000</td>\n",
       "      <td>...</td>\n",
       "      <td>0.000000</td>\n",
       "      <td>0.000000</td>\n",
       "      <td>0.000000</td>\n",
       "      <td>0.000000</td>\n",
       "      <td>0.000000</td>\n",
       "      <td>0.000000</td>\n",
       "      <td>0.000000</td>\n",
       "      <td>0.000000</td>\n",
       "      <td>0.000000</td>\n",
       "      <td>0.000000</td>\n",
       "    </tr>\n",
       "    <tr>\n",
       "      <th>50%</th>\n",
       "      <td>0.000000</td>\n",
       "      <td>0.000000</td>\n",
       "      <td>0.000000</td>\n",
       "      <td>0.000000</td>\n",
       "      <td>0.000000</td>\n",
       "      <td>0.000000</td>\n",
       "      <td>0.000000</td>\n",
       "      <td>0.000000</td>\n",
       "      <td>0.000000</td>\n",
       "      <td>0.000000</td>\n",
       "      <td>...</td>\n",
       "      <td>0.000000</td>\n",
       "      <td>0.000000</td>\n",
       "      <td>0.000000</td>\n",
       "      <td>0.000000</td>\n",
       "      <td>0.000000</td>\n",
       "      <td>0.000000</td>\n",
       "      <td>0.000000</td>\n",
       "      <td>0.000000</td>\n",
       "      <td>0.000000</td>\n",
       "      <td>0.000000</td>\n",
       "    </tr>\n",
       "    <tr>\n",
       "      <th>75%</th>\n",
       "      <td>0.000000</td>\n",
       "      <td>0.000000</td>\n",
       "      <td>0.000000</td>\n",
       "      <td>0.000000</td>\n",
       "      <td>0.000000</td>\n",
       "      <td>0.000000</td>\n",
       "      <td>0.000000</td>\n",
       "      <td>0.000000</td>\n",
       "      <td>0.000000</td>\n",
       "      <td>0.000000</td>\n",
       "      <td>...</td>\n",
       "      <td>0.000000</td>\n",
       "      <td>0.000000</td>\n",
       "      <td>0.000000</td>\n",
       "      <td>0.000000</td>\n",
       "      <td>0.000000</td>\n",
       "      <td>0.000000</td>\n",
       "      <td>0.000000</td>\n",
       "      <td>0.000000</td>\n",
       "      <td>0.000000</td>\n",
       "      <td>0.000000</td>\n",
       "    </tr>\n",
       "    <tr>\n",
       "      <th>max</th>\n",
       "      <td>1.000000</td>\n",
       "      <td>1.000000</td>\n",
       "      <td>1.000000</td>\n",
       "      <td>1.000000</td>\n",
       "      <td>1.000000</td>\n",
       "      <td>1.000000</td>\n",
       "      <td>1.000000</td>\n",
       "      <td>0.746358</td>\n",
       "      <td>1.000000</td>\n",
       "      <td>1.000000</td>\n",
       "      <td>...</td>\n",
       "      <td>1.000000</td>\n",
       "      <td>1.000000</td>\n",
       "      <td>1.000000</td>\n",
       "      <td>1.000000</td>\n",
       "      <td>1.000000</td>\n",
       "      <td>1.000000</td>\n",
       "      <td>1.000000</td>\n",
       "      <td>0.707107</td>\n",
       "      <td>1.000000</td>\n",
       "      <td>0.707107</td>\n",
       "    </tr>\n",
       "  </tbody>\n",
       "</table>\n",
       "<p>8 rows × 300 columns</p>\n",
       "</div>"
      ],
      "text/plain": [
       "                 10            12          2003            2p       5cmsent  \\\n",
       "count  24637.000000  24637.000000  24637.000000  24637.000000  24637.000000   \n",
       "mean       0.003269      0.002745      0.002515      0.003885      0.006302   \n",
       "std        0.049753      0.045733      0.042226      0.053767      0.073035   \n",
       "min        0.000000      0.000000      0.000000      0.000000      0.000000   \n",
       "25%        0.000000      0.000000      0.000000      0.000000      0.000000   \n",
       "50%        0.000000      0.000000      0.000000      0.000000      0.000000   \n",
       "75%        0.000000      0.000000      0.000000      0.000000      0.000000   \n",
       "max        1.000000      1.000000      1.000000      1.000000      1.000000   \n",
       "\n",
       "            account        africa  africa early           age  agricultural  \\\n",
       "count  24637.000000  24637.000000  24637.000000  24637.000000  24637.000000   \n",
       "mean       0.003687      0.004819      0.002127      0.002270      0.002732   \n",
       "std        0.048332      0.059506      0.036790      0.041456      0.041896   \n",
       "min        0.000000      0.000000      0.000000      0.000000      0.000000   \n",
       "25%        0.000000      0.000000      0.000000      0.000000      0.000000   \n",
       "50%        0.000000      0.000000      0.000000      0.000000      0.000000   \n",
       "75%        0.000000      0.000000      0.000000      0.000000      0.000000   \n",
       "max        1.000000      1.000000      0.746358      1.000000      1.000000   \n",
       "\n",
       "       ...         wales          west         white       william  \\\n",
       "count  ...  24637.000000  24637.000000  24637.000000  24637.000000   \n",
       "mean   ...      0.002454      0.003786      0.004817      0.003051   \n",
       "std    ...      0.042314      0.053413      0.058627      0.049655   \n",
       "min    ...      0.000000      0.000000      0.000000      0.000000   \n",
       "25%    ...      0.000000      0.000000      0.000000      0.000000   \n",
       "50%    ...      0.000000      0.000000      0.000000      0.000000   \n",
       "75%    ...      0.000000      0.000000      0.000000      0.000000   \n",
       "max    ...      1.000000      1.000000      1.000000      1.000000   \n",
       "\n",
       "               work          year         years      yorksent         young  \\\n",
       "count  24637.000000  24637.000000  24637.000000  24637.000000  24637.000000   \n",
       "mean       0.003240      0.003897      0.003735      0.002157      0.005765   \n",
       "std        0.050493      0.054414      0.054455      0.036014      0.068009   \n",
       "min        0.000000      0.000000      0.000000      0.000000      0.000000   \n",
       "25%        0.000000      0.000000      0.000000      0.000000      0.000000   \n",
       "50%        0.000000      0.000000      0.000000      0.000000      0.000000   \n",
       "75%        0.000000      0.000000      0.000000      0.000000      0.000000   \n",
       "max        1.000000      1.000000      1.000000      0.707107      1.000000   \n",
       "\n",
       "            zealand  \n",
       "count  24637.000000  \n",
       "mean       0.002094  \n",
       "std        0.035621  \n",
       "min        0.000000  \n",
       "25%        0.000000  \n",
       "50%        0.000000  \n",
       "75%        0.000000  \n",
       "max        0.707107  \n",
       "\n",
       "[8 rows x 300 columns]"
      ]
     },
     "execution_count": 95,
     "metadata": {},
     "output_type": "execute_result"
    }
   ],
   "source": [
    "col_name = \"clean_desc_lemmas\" #clean_desc, clean_desc_stems  #text, text_stems, text_lemmas\n",
    "tfidf = TfidfVectorizer(ngram_range=(1,3), max_features=300, strip_accents=\"unicode\", min_df=20, max_df=200, stop_words=\"english\")\n",
    "tfidf_array = tfidf.fit_transform(df[col_name])\n",
    "df_tfidf = pd.DataFrame(tfidf_array.toarray(), index=df.index, columns=tfidf.get_feature_names())\n",
    "df_tfidf.describe()"
   ]
  },
  {
   "cell_type": "code",
   "execution_count": 96,
   "metadata": {},
   "outputs": [
    {
     "data": {
      "text/plain": [
       "(24637, 300)"
      ]
     },
     "execution_count": 96,
     "metadata": {},
     "output_type": "execute_result"
    }
   ],
   "source": [
    "df_tfidf.shape"
   ]
  },
  {
   "cell_type": "markdown",
   "metadata": {},
   "source": [
    "<a id=\"kmeans\"></a>\n",
    "### K-Means\n",
    "\n",
    "Next, use Principal Component Analysis (PCA) to reduce the dimensions in our dataset from 300 to 5."
   ]
  },
  {
   "cell_type": "code",
   "execution_count": 121,
   "metadata": {},
   "outputs": [],
   "source": [
    "pca = PCA(n_components=5, whiten=False, random_state=22)\n",
    "descs_pca = pca.fit_transform(df_tfidf)\n",
    "df_pca = pd.DataFrame(data=descs_pca)"
   ]
  },
  {
   "cell_type": "code",
   "execution_count": 122,
   "metadata": {},
   "outputs": [
    {
     "name": "stdout",
     "output_type": "stream",
     "text": [
      "(24637, 5)\n"
     ]
    },
    {
     "data": {
      "text/html": [
       "<div>\n",
       "<style scoped>\n",
       "    .dataframe tbody tr th:only-of-type {\n",
       "        vertical-align: middle;\n",
       "    }\n",
       "\n",
       "    .dataframe tbody tr th {\n",
       "        vertical-align: top;\n",
       "    }\n",
       "\n",
       "    .dataframe thead th {\n",
       "        text-align: right;\n",
       "    }\n",
       "</style>\n",
       "<table border=\"1\" class=\"dataframe\">\n",
       "  <thead>\n",
       "    <tr style=\"text-align: right;\">\n",
       "      <th></th>\n",
       "      <th>0</th>\n",
       "      <th>1</th>\n",
       "      <th>2</th>\n",
       "      <th>3</th>\n",
       "      <th>4</th>\n",
       "    </tr>\n",
       "  </thead>\n",
       "  <tbody>\n",
       "    <tr>\n",
       "      <th>0</th>\n",
       "      <td>-0.001899</td>\n",
       "      <td>-0.002653</td>\n",
       "      <td>-0.000317</td>\n",
       "      <td>-0.000787</td>\n",
       "      <td>-0.000656</td>\n",
       "    </tr>\n",
       "    <tr>\n",
       "      <th>1</th>\n",
       "      <td>-0.001899</td>\n",
       "      <td>-0.002653</td>\n",
       "      <td>-0.000317</td>\n",
       "      <td>-0.000787</td>\n",
       "      <td>-0.000656</td>\n",
       "    </tr>\n",
       "    <tr>\n",
       "      <th>2</th>\n",
       "      <td>-0.001899</td>\n",
       "      <td>-0.002653</td>\n",
       "      <td>-0.000317</td>\n",
       "      <td>-0.000787</td>\n",
       "      <td>-0.000656</td>\n",
       "    </tr>\n",
       "    <tr>\n",
       "      <th>3</th>\n",
       "      <td>-0.018023</td>\n",
       "      <td>-0.017455</td>\n",
       "      <td>-0.049967</td>\n",
       "      <td>0.033579</td>\n",
       "      <td>0.068183</td>\n",
       "    </tr>\n",
       "    <tr>\n",
       "      <th>4</th>\n",
       "      <td>-0.022919</td>\n",
       "      <td>-0.033814</td>\n",
       "      <td>-0.066755</td>\n",
       "      <td>0.053599</td>\n",
       "      <td>0.075385</td>\n",
       "    </tr>\n",
       "  </tbody>\n",
       "</table>\n",
       "</div>"
      ],
      "text/plain": [
       "          0         1         2         3         4\n",
       "0 -0.001899 -0.002653 -0.000317 -0.000787 -0.000656\n",
       "1 -0.001899 -0.002653 -0.000317 -0.000787 -0.000656\n",
       "2 -0.001899 -0.002653 -0.000317 -0.000787 -0.000656\n",
       "3 -0.018023 -0.017455 -0.049967  0.033579  0.068183\n",
       "4 -0.022919 -0.033814 -0.066755  0.053599  0.075385"
      ]
     },
     "execution_count": 122,
     "metadata": {},
     "output_type": "execute_result"
    }
   ],
   "source": [
    "print(df_pca.shape)\n",
    "df_pca.head()"
   ]
  },
  {
   "cell_type": "code",
   "execution_count": 124,
   "metadata": {
    "collapsed": true,
    "jupyter": {
     "outputs_hidden": true
    }
   },
   "outputs": [
    {
     "name": "stderr",
     "output_type": "stream",
     "text": [
      "/afs/inf.ed.ac.uk/user/s15/s1545703/repos/gender-bias/analysis/Clustering/utils.py:31: UserWarning: Matplotlib is currently using module://ipykernel.pylab.backend_inline, which is a non-GUI backend, so cannot show the figure.\n",
      "  fig.show()\n"
     ]
    },
    {
     "data": {
      "image/png": "[encoded data removed]",
      "text/plain": [
       "<Figure size 720x720 with 1 Axes>"
      ]
     },
     "metadata": {
      "needs_background": "light"
     },
     "output_type": "display_data"
    }
   ],
   "source": [
    "utils.elbowPlot(range(5, 40), df_pca)"
   ]
  },
  {
   "cell_type": "code",
   "execution_count": 133,
   "metadata": {},
   "outputs": [],
   "source": [
    "n_clusters = 7 #14"
   ]
  },
  {
   "cell_type": "code",
   "execution_count": 134,
   "metadata": {},
   "outputs": [
    {
     "data": {
      "text/html": [
       "<div>\n",
       "<style scoped>\n",
       "    .dataframe tbody tr th:only-of-type {\n",
       "        vertical-align: middle;\n",
       "    }\n",
       "\n",
       "    .dataframe tbody tr th {\n",
       "        vertical-align: top;\n",
       "    }\n",
       "\n",
       "    .dataframe thead th {\n",
       "        text-align: right;\n",
       "    }\n",
       "</style>\n",
       "<table border=\"1\" class=\"dataframe\">\n",
       "  <thead>\n",
       "    <tr style=\"text-align: right;\">\n",
       "      <th></th>\n",
       "      <th>field</th>\n",
       "      <th>clean_desc</th>\n",
       "      <th>word_count</th>\n",
       "      <th>sent_count</th>\n",
       "      <th>clean_desc_lemmas</th>\n",
       "      <th>cluster</th>\n",
       "    </tr>\n",
       "  </thead>\n",
       "  <tbody>\n",
       "    <tr>\n",
       "      <th>1</th>\n",
       "      <td>Title</td>\n",
       "      <td>Papers of The Very Rev Prof James Whyte (1920-...</td>\n",
       "      <td>10</td>\n",
       "      <td>1</td>\n",
       "      <td>Papers of The Very Rev Prof James Whyte (1920-...</td>\n",
       "      <td>1</td>\n",
       "    </tr>\n",
       "    <tr>\n",
       "      <th>5</th>\n",
       "      <td>Title</td>\n",
       "      <td>Papers of Rev Tom Allan (1916-1965)</td>\n",
       "      <td>7</td>\n",
       "      <td>1</td>\n",
       "      <td>Papers of Rev Tom Allan (1916-1965)</td>\n",
       "      <td>1</td>\n",
       "    </tr>\n",
       "    <tr>\n",
       "      <th>9</th>\n",
       "      <td>Title</td>\n",
       "      <td>Papers of Rev Prof Alec Campbell Cheyne (1924-...</td>\n",
       "      <td>9</td>\n",
       "      <td>1</td>\n",
       "      <td>Papers of Rev Prof Alec Campbell Cheyne (1924-...</td>\n",
       "      <td>1</td>\n",
       "    </tr>\n",
       "    <tr>\n",
       "      <th>13</th>\n",
       "      <td>Title</td>\n",
       "      <td>Papers of Professor John Baillie, and Baillie ...</td>\n",
       "      <td>10</td>\n",
       "      <td>1</td>\n",
       "      <td>Papers of Professor John Baillie, and Baillie ...</td>\n",
       "      <td>1</td>\n",
       "    </tr>\n",
       "    <tr>\n",
       "      <th>14</th>\n",
       "      <td>Title</td>\n",
       "      <td>Papers of John Baillie</td>\n",
       "      <td>5</td>\n",
       "      <td>1</td>\n",
       "      <td>Papers of John Baillie</td>\n",
       "      <td>1</td>\n",
       "    </tr>\n",
       "  </tbody>\n",
       "</table>\n",
       "</div>"
      ],
      "text/plain": [
       "    field                                         clean_desc  word_count  \\\n",
       "1   Title  Papers of The Very Rev Prof James Whyte (1920-...          10   \n",
       "5   Title                Papers of Rev Tom Allan (1916-1965)           7   \n",
       "9   Title  Papers of Rev Prof Alec Campbell Cheyne (1924-...           9   \n",
       "13  Title  Papers of Professor John Baillie, and Baillie ...          10   \n",
       "14  Title                             Papers of John Baillie           5   \n",
       "\n",
       "    sent_count                                  clean_desc_lemmas  cluster  \n",
       "1            1  Papers of The Very Rev Prof James Whyte (1920-...        1  \n",
       "5            1                Papers of Rev Tom Allan (1916-1965)        1  \n",
       "9            1  Papers of Rev Prof Alec Campbell Cheyne (1924-...        1  \n",
       "13           1  Papers of Professor John Baillie, and Baillie ...        1  \n",
       "14           1                             Papers of John Baillie        1  "
      ]
     },
     "execution_count": 134,
     "metadata": {},
     "output_type": "execute_result"
    }
   ],
   "source": [
    "kmeans = KMeans(n_clusters=n_clusters, random_state=22)\n",
    "descs_clusters = kmeans.fit_predict(df_pca)\n",
    "df_clustered = df.copy()\n",
    "df_clustered.insert(len(df.columns), \"cluster\", descs_clusters)\n",
    "df_clustered.head()"
   ]
  },
  {
   "cell_type": "code",
   "execution_count": 135,
   "metadata": {},
   "outputs": [
    {
     "data": {
      "text/plain": [
       "<matplotlib.axes._subplots.AxesSubplot at 0x7fa2dc80c9d0>"
      ]
     },
     "execution_count": 135,
     "metadata": {},
     "output_type": "execute_result"
    },
    {
     "data": {
      "image/png": "[encoded data removed]",
      "text/plain": [
       "<Figure size 432x288 with 1 Axes>"
      ]
     },
     "metadata": {
      "needs_background": "light"
     },
     "output_type": "display_data"
    }
   ],
   "source": [
    "cluster_sizes = df_clustered.groupby(\"cluster\").size().reset_index(name=\"total_descs\").sort_values(by=\"total_descs\")\n",
    "sns.barplot(x=\"cluster\", y=\"total_descs\", data=cluster_sizes)"
   ]
  },
  {
   "cell_type": "markdown",
   "metadata": {},
   "source": [
    "We still get 1 cluster significantly larger than the others."
   ]
  },
  {
   "cell_type": "code",
   "execution_count": 136,
   "metadata": {
    "collapsed": true,
    "jupyter": {
     "outputs_hidden": true
    }
   },
   "outputs": [
    {
     "name": "stdout",
     "output_type": "stream",
     "text": [
      "Cluster 0\n",
      "--------------\n",
      "Scope and Contents        721\n",
      "Title                     463\n",
      "Processing Information    199\n",
      "Name: field, dtype: int64 \n",
      "\n",
      "Cluster 1\n",
      "--------------\n",
      "Title                        13693\n",
      "Scope and Contents            7729\n",
      "Biographical / Historical      238\n",
      "Processing Information         101\n",
      "Name: field, dtype: int64 \n",
      "\n",
      "Cluster 2\n",
      "--------------\n",
      "Scope and Contents    272\n",
      "Title                 259\n",
      "Name: field, dtype: int64 \n",
      "\n",
      "Cluster 3\n",
      "--------------\n",
      "Scope and Contents    313\n",
      "Title                  26\n",
      "Name: field, dtype: int64 \n",
      "\n",
      "Cluster 4\n",
      "--------------\n",
      "Title                 186\n",
      "Scope and Contents      5\n",
      "Name: field, dtype: int64 \n",
      "\n",
      "Cluster 5\n",
      "--------------\n",
      "Scope and Contents    105\n",
      "Title                  94\n",
      "Name: field, dtype: int64 \n",
      "\n",
      "Cluster 6\n",
      "--------------\n",
      "Title                 229\n",
      "Scope and Contents      4\n",
      "Name: field, dtype: int64 \n",
      "\n"
     ]
    }
   ],
   "source": [
    "for cluster in range(n_clusters):\n",
    "    print(\"Cluster {}\".format(cluster))\n",
    "    print(\"--------------\")\n",
    "    cluster = df_clustered.loc[df_clustered.cluster == cluster]\n",
    "    print(cluster.field.value_counts(), \"\\n\")"
   ]
  },
  {
   "cell_type": "markdown",
   "metadata": {},
   "source": [
    "***\n",
    "#### **TO DO:** perform text mining on the clusters, and associate descriptions to collections to see if collections or certain topics (people, research, education, etc.) are clustering together\n",
    "***"
   ]
  },
  {
   "cell_type": "markdown",
   "metadata": {},
   "source": [
    "Reduce to 2 dimensions instead of 10 to visualize the clusters:"
   ]
  },
  {
   "cell_type": "code",
   "execution_count": 137,
   "metadata": {},
   "outputs": [
    {
     "data": {
      "text/plain": [
       "<matplotlib.axes._subplots.AxesSubplot at 0x7fa2dbf8d7c0>"
      ]
     },
     "execution_count": 137,
     "metadata": {},
     "output_type": "execute_result"
    },
    {
     "data": {
      "image/png": "[encoded data removed]",
      "text/plain": [
       "<Figure size 432x288 with 1 Axes>"
      ]
     },
     "metadata": {
      "needs_background": "light"
     },
     "output_type": "display_data"
    }
   ],
   "source": [
    "pca = PCA(n_components=2, whiten=False, random_state=22)\n",
    "descs_pca2 = pca.fit_transform(df_tfidf)\n",
    "df_pca2 = pd.DataFrame(data=descs_pca2, columns=[\"pc_1\", \"pc_2\"])\n",
    "df_pca2.insert(len(df_pca2.columns), \"cluster\", descs_clusters)\n",
    "# df_pca2.head()\n",
    "sns.scatterplot(x=\"pc_1\", y=\"pc_2\", hue=\"cluster\", data=df_pca2)"
   ]
  },
  {
   "cell_type": "markdown",
   "metadata": {},
   "source": [
    "<a id=\"dbscan\"></a>\n",
    "### DBSCAN"
   ]
  },
  {
   "cell_type": "code",
   "execution_count": 138,
   "metadata": {},
   "outputs": [
    {
     "data": {
      "image/png": "[encoded data removed]",
      "text/plain": [
       "<Figure size 432x288 with 1 Axes>"
      ]
     },
     "metadata": {
      "needs_background": "light"
     },
     "output_type": "display_data"
    }
   ],
   "source": [
    "utils.findOptimalEps(2, df_tfidf)"
   ]
  },
  {
   "cell_type": "code",
   "execution_count": 139,
   "metadata": {},
   "outputs": [],
   "source": [
    "eps_value = 0.7  # 0.6"
   ]
  },
  {
   "cell_type": "code",
   "execution_count": 140,
   "metadata": {},
   "outputs": [
    {
     "data": {
      "text/plain": [
       "array([0])"
      ]
     },
     "execution_count": 140,
     "metadata": {},
     "output_type": "execute_result"
    }
   ],
   "source": [
    "dbscan = DBSCAN(eps=eps_value, metric=\"euclidean\")  # change to cosine distance if use TFIDF DataFrame\n",
    "dbscan_clusters = dbscan.fit_predict(df_pca)\n",
    "df_dbscan = df.copy()\n",
    "df_dbscan.insert(len(df_dbscan.columns), \"cluster\", dbscan_clusters)\n",
    "df_dbscan[\"cluster\"].unique()"
   ]
  },
  {
   "cell_type": "code",
   "execution_count": 142,
   "metadata": {},
   "outputs": [
    {
     "data": {
      "text/plain": [
       "array([-1,  0,  1,  2])"
      ]
     },
     "execution_count": 142,
     "metadata": {},
     "output_type": "execute_result"
    }
   ],
   "source": [
    "dbscan = DBSCAN(eps=0.6, metric=\"cosine\")  # change to Euclidean distance if use PCA DataFrame\n",
    "dbscan_clusters = dbscan.fit_predict(df_tfidf)\n",
    "df_dbscan = df_dbscan.drop(columns=\"cluster\")\n",
    "df_dbscan.insert(len(df_dbscan.columns), \"cluster\", dbscan_clusters)\n",
    "df_dbscan[\"cluster\"].unique()"
   ]
  },
  {
   "cell_type": "code",
   "execution_count": 143,
   "metadata": {},
   "outputs": [
    {
     "data": {
      "text/html": [
       "<div>\n",
       "<style scoped>\n",
       "    .dataframe tbody tr th:only-of-type {\n",
       "        vertical-align: middle;\n",
       "    }\n",
       "\n",
       "    .dataframe tbody tr th {\n",
       "        vertical-align: top;\n",
       "    }\n",
       "\n",
       "    .dataframe thead th {\n",
       "        text-align: right;\n",
       "    }\n",
       "</style>\n",
       "<table border=\"1\" class=\"dataframe\">\n",
       "  <thead>\n",
       "    <tr style=\"text-align: right;\">\n",
       "      <th></th>\n",
       "      <th>field</th>\n",
       "      <th>clean_desc</th>\n",
       "      <th>word_count</th>\n",
       "      <th>sent_count</th>\n",
       "      <th>clean_desc_lemmas</th>\n",
       "      <th>cluster</th>\n",
       "    </tr>\n",
       "  </thead>\n",
       "  <tbody>\n",
       "    <tr>\n",
       "      <th>1</th>\n",
       "      <td>Title</td>\n",
       "      <td>Papers of The Very Rev Prof James Whyte (1920-...</td>\n",
       "      <td>10</td>\n",
       "      <td>1</td>\n",
       "      <td>Papers of The Very Rev Prof James Whyte (1920-...</td>\n",
       "      <td>-1</td>\n",
       "    </tr>\n",
       "    <tr>\n",
       "      <th>5</th>\n",
       "      <td>Title</td>\n",
       "      <td>Papers of Rev Tom Allan (1916-1965)</td>\n",
       "      <td>7</td>\n",
       "      <td>1</td>\n",
       "      <td>Papers of Rev Tom Allan (1916-1965)</td>\n",
       "      <td>-1</td>\n",
       "    </tr>\n",
       "    <tr>\n",
       "      <th>9</th>\n",
       "      <td>Title</td>\n",
       "      <td>Papers of Rev Prof Alec Campbell Cheyne (1924-...</td>\n",
       "      <td>9</td>\n",
       "      <td>1</td>\n",
       "      <td>Papers of Rev Prof Alec Campbell Cheyne (1924-...</td>\n",
       "      <td>-1</td>\n",
       "    </tr>\n",
       "    <tr>\n",
       "      <th>13</th>\n",
       "      <td>Title</td>\n",
       "      <td>Papers of Professor John Baillie, and Baillie ...</td>\n",
       "      <td>10</td>\n",
       "      <td>1</td>\n",
       "      <td>Papers of Professor John Baillie, and Baillie ...</td>\n",
       "      <td>0</td>\n",
       "    </tr>\n",
       "    <tr>\n",
       "      <th>14</th>\n",
       "      <td>Title</td>\n",
       "      <td>Papers of John Baillie</td>\n",
       "      <td>5</td>\n",
       "      <td>1</td>\n",
       "      <td>Papers of John Baillie</td>\n",
       "      <td>0</td>\n",
       "    </tr>\n",
       "  </tbody>\n",
       "</table>\n",
       "</div>"
      ],
      "text/plain": [
       "    field                                         clean_desc  word_count  \\\n",
       "1   Title  Papers of The Very Rev Prof James Whyte (1920-...          10   \n",
       "5   Title                Papers of Rev Tom Allan (1916-1965)           7   \n",
       "9   Title  Papers of Rev Prof Alec Campbell Cheyne (1924-...           9   \n",
       "13  Title  Papers of Professor John Baillie, and Baillie ...          10   \n",
       "14  Title                             Papers of John Baillie           5   \n",
       "\n",
       "    sent_count                                  clean_desc_lemmas  cluster  \n",
       "1            1  Papers of The Very Rev Prof James Whyte (1920-...       -1  \n",
       "5            1                Papers of Rev Tom Allan (1916-1965)       -1  \n",
       "9            1  Papers of Rev Prof Alec Campbell Cheyne (1924-...       -1  \n",
       "13           1  Papers of Professor John Baillie, and Baillie ...        0  \n",
       "14           1                             Papers of John Baillie        0  "
      ]
     },
     "execution_count": 143,
     "metadata": {},
     "output_type": "execute_result"
    }
   ],
   "source": [
    "df_dbscan.head()"
   ]
  },
  {
   "cell_type": "markdown",
   "metadata": {},
   "source": [
    "Visualize the cluster sizes in a bar chart:"
   ]
  },
  {
   "cell_type": "code",
   "execution_count": 145,
   "metadata": {},
   "outputs": [
    {
     "data": {
      "text/plain": [
       "<matplotlib.axes._subplots.AxesSubplot at 0x7fa2dc5044f0>"
      ]
     },
     "execution_count": 145,
     "metadata": {},
     "output_type": "execute_result"
    },
    {
     "data": {
      "image/png": "[encoded data removed]",
      "text/plain": [
       "<Figure size 432x288 with 1 Axes>"
      ]
     },
     "metadata": {
      "needs_background": "light"
     },
     "output_type": "display_data"
    }
   ],
   "source": [
    "dbscan_cluster_sizes = df_dbscan.groupby(\"cluster\").size().reset_index(name=\"total_descs\").sort_values(by=\"total_descs\")\n",
    "sns.barplot(x=\"cluster\", y=\"total_descs\", data=dbscan_cluster_sizes)"
   ]
  },
  {
   "cell_type": "markdown",
   "metadata": {},
   "source": [
    "We have 2 large clusters and 2 small clusters."
   ]
  },
  {
   "cell_type": "code",
   "execution_count": 146,
   "metadata": {},
   "outputs": [
    {
     "data": {
      "text/html": [
       "<div>\n",
       "<style scoped>\n",
       "    .dataframe tbody tr th:only-of-type {\n",
       "        vertical-align: middle;\n",
       "    }\n",
       "\n",
       "    .dataframe tbody tr th {\n",
       "        vertical-align: top;\n",
       "    }\n",
       "\n",
       "    .dataframe thead th {\n",
       "        text-align: right;\n",
       "    }\n",
       "</style>\n",
       "<table border=\"1\" class=\"dataframe\">\n",
       "  <thead>\n",
       "    <tr style=\"text-align: right;\">\n",
       "      <th></th>\n",
       "      <th>cluster</th>\n",
       "      <th>total_descs</th>\n",
       "    </tr>\n",
       "  </thead>\n",
       "  <tbody>\n",
       "    <tr>\n",
       "      <th>2</th>\n",
       "      <td>1</td>\n",
       "      <td>85</td>\n",
       "    </tr>\n",
       "    <tr>\n",
       "      <th>3</th>\n",
       "      <td>2</td>\n",
       "      <td>127</td>\n",
       "    </tr>\n",
       "    <tr>\n",
       "      <th>0</th>\n",
       "      <td>-1</td>\n",
       "      <td>9441</td>\n",
       "    </tr>\n",
       "    <tr>\n",
       "      <th>1</th>\n",
       "      <td>0</td>\n",
       "      <td>14984</td>\n",
       "    </tr>\n",
       "  </tbody>\n",
       "</table>\n",
       "</div>"
      ],
      "text/plain": [
       "   cluster  total_descs\n",
       "2        1           85\n",
       "3        2          127\n",
       "0       -1         9441\n",
       "1        0        14984"
      ]
     },
     "execution_count": 146,
     "metadata": {},
     "output_type": "execute_result"
    }
   ],
   "source": [
    "dbscan_cluster_sizes"
   ]
  },
  {
   "cell_type": "markdown",
   "metadata": {},
   "source": [
    "***\n",
    "#### **TO DO:** perform text mining on the clusters, and associate descriptions to collections to see if collections or certain topics (people, research, education, etc.) are clustering together\n",
    "***"
   ]
  },
  {
   "cell_type": "code",
   "execution_count": 148,
   "metadata": {},
   "outputs": [],
   "source": [
    "# ### Not a helpful viz ###\n",
    "# # Reduce to two dimensions for scatterplot visualization:\n",
    "# pca = PCA(n_components=2, whiten=False, random_state=22)\n",
    "# descs_pca3 = pca.fit_transform(df_tfidf)\n",
    "# df_dbscan = pd.DataFrame(data=descs_pca3, columns=[\"pc_1\", \"pc_2\"])\n",
    "# df_dbscan.insert(len(df_dbscan.columns), \"cluster\", dbscan_clusters)\n",
    "# # df_dbscan.head()\n",
    "# sns.scatterplot(x=\"pc_1\", y=\"pc_2\", hue=\"cluster\", data=df_dbscan)"
   ]
  },
  {
   "cell_type": "code",
   "execution_count": null,
   "metadata": {},
   "outputs": [],
   "source": []
  }
 ],
 "metadata": {
  "kernelspec": {
   "display_name": "Python 3",
   "language": "python",
   "name": "python3"
  },
  "language_info": {
   "codemirror_mode": {
    "name": "ipython",
    "version": 3
   },
   "file_extension": ".py",
   "mimetype": "text/x-python",
   "name": "python",
   "nbconvert_exporter": "python",
   "pygments_lexer": "ipython3",
   "version": "3.8.10"
  }
 },
 "nbformat": 4,
 "nbformat_minor": 4
}

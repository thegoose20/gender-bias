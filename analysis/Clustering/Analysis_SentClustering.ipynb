{
 "cells": [
  {
   "cell_type": "markdown",
   "metadata": {},
   "source": [
    "# Analysis: Clustering Sentences\n",
    "\n",
    "## Post Annotation and Aggregation\n",
    "\n",
    "*January 2023*\n",
    "\n",
    "Cluster sentences of metadata descriptions to see what patterns, if any, appear.\n",
    "\n",
    "*TO DO: add additional metadata fields (collection, language, date, annotation_id, label, etc.) to see if helps with analysis of clustering results*\n",
    "\n",
    "***\n",
    "\n",
    "**Table of Contents**\n",
    " \n",
    "[0.](#0) Data Preparation\n",
    "\n",
    "[1.](#1) Clustering with K-Means\n",
    "\n",
    "[2.](#2) Clustering with DBSCAN\n",
    "\n",
    "***\n",
    "\n",
    "**References**\n",
    "\n",
    "For k-Means and DBSCAN: \n",
    "* Jurczyk, Thomas (2021) [Clustering with Scikit-Learn in Python](https://programminghistorian.org/en/lessons/clustering-with-scikit-learn-in-python).  The Programming Historian.  https://doi.org/10/46430/phen0094"
   ]
  },
  {
   "cell_type": "markdown",
   "metadata": {},
   "source": [
    "***"
   ]
  },
  {
   "cell_type": "markdown",
   "metadata": {},
   "source": [
    "## 0. Data Preparation"
   ]
  },
  {
   "cell_type": "markdown",
   "metadata": {},
   "source": [
    "Load libraries:"
   ]
  },
  {
   "cell_type": "code",
   "execution_count": 2,
   "metadata": {},
   "outputs": [],
   "source": [
    "import utils, config\n",
    "\n",
    "import re, os\n",
    "import numpy as np\n",
    "import pandas as pd\n",
    "\n",
    "# For working with text data\n",
    "from nltk.stem import WordNetLemmatizer, PorterStemmer\n",
    "\n",
    "# For clustering\n",
    "from sklearn.preprocessing import StandardScaler as SS\n",
    "from sklearn.feature_extraction.text import TfidfVectorizer\n",
    "from sklearn.cluster import KMeans, DBSCAN               # algorithms\n",
    "from sklearn.decomposition import PCA                    # dimensionality reduction\n",
    "from sklearn.metrics import silhouette_score             # to eval cohesion/separation in a cluster\n",
    "from sklearn.neighbors import NearestNeighbors           # to get optimal epsilon (neighborhood distance) value\n",
    "\n",
    "# For visualization\n",
    "import matplotlib.pyplot as plt\n",
    "import seaborn as sns\n",
    "# from yellowbrick.cluster import SilhouetteVisualizer  #--> installed inside and outside virtual env, still not working..."
   ]
  },
  {
   "cell_type": "markdown",
   "metadata": {},
   "source": [
    "Load sentence data:"
   ]
  },
  {
   "cell_type": "code",
   "execution_count": 32,
   "metadata": {},
   "outputs": [
    {
     "data": {
      "text/html": [
       "<div>\n",
       "<style scoped>\n",
       "    .dataframe tbody tr th:only-of-type {\n",
       "        vertical-align: middle;\n",
       "    }\n",
       "\n",
       "    .dataframe tbody tr th {\n",
       "        vertical-align: top;\n",
       "    }\n",
       "\n",
       "    .dataframe thead th {\n",
       "        text-align: right;\n",
       "    }\n",
       "</style>\n",
       "<table border=\"1\" class=\"dataframe\">\n",
       "  <thead>\n",
       "    <tr style=\"text-align: right;\">\n",
       "      <th></th>\n",
       "      <th>description_id</th>\n",
       "      <th>field</th>\n",
       "      <th>sentences</th>\n",
       "      <th>eadid</th>\n",
       "    </tr>\n",
       "  </thead>\n",
       "  <tbody>\n",
       "    <tr>\n",
       "      <th>1</th>\n",
       "      <td>1</td>\n",
       "      <td>Title</td>\n",
       "      <td>Title:\\nPapers of The Very Rev Prof James Whyt...</td>\n",
       "      <td>AA5</td>\n",
       "    </tr>\n",
       "    <tr>\n",
       "      <th>2</th>\n",
       "      <td>2</td>\n",
       "      <td>Scope and Contents</td>\n",
       "      <td>Scope and Contents:\\nSermons and addresses, 19...</td>\n",
       "      <td>AA5</td>\n",
       "    </tr>\n",
       "    <tr>\n",
       "      <th>3</th>\n",
       "      <td>3</td>\n",
       "      <td>Biographical / Historical</td>\n",
       "      <td>Biographical / Historical:\\nProfessor James Ai...</td>\n",
       "      <td>AA5</td>\n",
       "    </tr>\n",
       "    <tr>\n",
       "      <th>3</th>\n",
       "      <td>3</td>\n",
       "      <td>Biographical / Historical</td>\n",
       "      <td>He was educated at Daniel Stewart's College an...</td>\n",
       "      <td>AA5</td>\n",
       "    </tr>\n",
       "    <tr>\n",
       "      <th>3</th>\n",
       "      <td>3</td>\n",
       "      <td>Biographical / Historical</td>\n",
       "      <td>After his ordination he spent three years as a...</td>\n",
       "      <td>AA5</td>\n",
       "    </tr>\n",
       "  </tbody>\n",
       "</table>\n",
       "</div>"
      ],
      "text/plain": [
       "   description_id                      field  \\\n",
       "1               1                      Title   \n",
       "2               2         Scope and Contents   \n",
       "3               3  Biographical / Historical   \n",
       "3               3  Biographical / Historical   \n",
       "3               3  Biographical / Historical   \n",
       "\n",
       "                                           sentences eadid  \n",
       "1  Title:\\nPapers of The Very Rev Prof James Whyt...   AA5  \n",
       "2  Scope and Contents:\\nSermons and addresses, 19...   AA5  \n",
       "3  Biographical / Historical:\\nProfessor James Ai...   AA5  \n",
       "3  He was educated at Daniel Stewart's College an...   AA5  \n",
       "3  After his ordination he spent three years as a...   AA5  "
      ]
     },
     "execution_count": 32,
     "metadata": {},
     "output_type": "execute_result"
    }
   ],
   "source": [
    "df = pd.read_csv(config.crc_meta_path+\"description_sentences.csv\", index_col=0)\n",
    "df = df.loc[df.field != \"Identifier\"] # Ignore the Identifier field rows\n",
    "df = df[[\"description_id\", \"field\", \"sentences\", \"file\"]]\n",
    "subdf = pd.DataFrame()\n",
    "subdf[[\"eadid\", \"suffix\"]] = df[\"file\"].str.split(\"_\", expand=True)\n",
    "df.insert(len(df.columns), \"eadid\", subdf[\"eadid\"])\n",
    "df = df.drop(columns=\"file\")\n",
    "df.head()"
   ]
  },
  {
   "cell_type": "code",
   "execution_count": 59,
   "metadata": {},
   "outputs": [
    {
     "data": {
      "text/plain": [
       "(0, 4)"
      ]
     },
     "execution_count": 59,
     "metadata": {},
     "output_type": "execute_result"
    }
   ],
   "source": [
    "df.loc[df.eadid.isna()].shape"
   ]
  },
  {
   "cell_type": "code",
   "execution_count": 54,
   "metadata": {},
   "outputs": [
    {
     "data": {
      "text/html": [
       "<div>\n",
       "<style scoped>\n",
       "    .dataframe tbody tr th:only-of-type {\n",
       "        vertical-align: middle;\n",
       "    }\n",
       "\n",
       "    .dataframe tbody tr th {\n",
       "        vertical-align: top;\n",
       "    }\n",
       "\n",
       "    .dataframe thead th {\n",
       "        text-align: right;\n",
       "    }\n",
       "</style>\n",
       "<table border=\"1\" class=\"dataframe\">\n",
       "  <thead>\n",
       "    <tr style=\"text-align: right;\">\n",
       "      <th></th>\n",
       "      <th>eadid</th>\n",
       "      <th>unit_title</th>\n",
       "      <th>unit_identifier</th>\n",
       "      <th>unique_language</th>\n",
       "      <th>unique_date</th>\n",
       "      <th>unique_geography</th>\n",
       "    </tr>\n",
       "  </thead>\n",
       "  <tbody>\n",
       "    <tr>\n",
       "      <th>0</th>\n",
       "      <td>Coll-1064</td>\n",
       "      <td>['Papers of Professor Walter Ledermann', '1 (3...</td>\n",
       "      <td>['Coll-1064', 'Coll-1064/1', 'Coll-1064/2', 'C...</td>\n",
       "      <td>['English']</td>\n",
       "      <td>['1937-01-01 - 1954-12-31', '1937-02-02 - 1938...</td>\n",
       "      <td>['Edinburgh (Scotland)', 'St Andrews (Scotland...</td>\n",
       "    </tr>\n",
       "    <tr>\n",
       "      <th>1</th>\n",
       "      <td>Coll-31</td>\n",
       "      <td>['Drawings from the Office of Sir Rowand Ander...</td>\n",
       "      <td>['Coll-31', 'Coll-31/1', 'Coll-31/1/1', 'Coll-...</td>\n",
       "      <td>['English']</td>\n",
       "      <td>['1814-01-01 - 1924-12-31', '1874-01-01 - 1905...</td>\n",
       "      <td>['']</td>\n",
       "    </tr>\n",
       "    <tr>\n",
       "      <th>2</th>\n",
       "      <td>Coll-51</td>\n",
       "      <td>['Papers of Sir Roderick Impey Murchison and h...</td>\n",
       "      <td>['Coll-51', 'Coll-51/1', 'Coll-51/2', 'Coll-51...</td>\n",
       "      <td>['English']</td>\n",
       "      <td>['1771-01-01 - 1935-12-31', '1723-01-01 - 1935...</td>\n",
       "      <td>['Calcutta (India)', 'Europe', 'Tarradale (Sco...</td>\n",
       "    </tr>\n",
       "    <tr>\n",
       "      <th>3</th>\n",
       "      <td>Coll-204</td>\n",
       "      <td>['Lecture Notes of John Robison', 'Introductio...</td>\n",
       "      <td>['Coll-204', 'Coll-204/1', 'Coll-204/2', 'Coll...</td>\n",
       "      <td>['English', 'Russian', 'Latin', 'French']</td>\n",
       "      <td>['1779-01-01 - 1801-12-31', '1779-01-01 - 1801...</td>\n",
       "      <td>['Edinburgh (Scotland)', 'Stirlingshire Scotla...</td>\n",
       "    </tr>\n",
       "    <tr>\n",
       "      <th>4</th>\n",
       "      <td>Coll-206</td>\n",
       "      <td>['Records of the Wernerian Natural History Soc...</td>\n",
       "      <td>['Coll-206', 'Coll-206/1', 'Coll-206/1/1', 'Co...</td>\n",
       "      <td>['English']</td>\n",
       "      <td>['1808-01-01 - 1858-12-31', '1808-01-12 - 1858...</td>\n",
       "      <td>['Edinburgh (Scotland)', 'Freiburg im Breisgau...</td>\n",
       "    </tr>\n",
       "  </tbody>\n",
       "</table>\n",
       "</div>"
      ],
      "text/plain": [
       "       eadid                                         unit_title  \\\n",
       "0  Coll-1064  ['Papers of Professor Walter Ledermann', '1 (3...   \n",
       "1    Coll-31  ['Drawings from the Office of Sir Rowand Ander...   \n",
       "2    Coll-51  ['Papers of Sir Roderick Impey Murchison and h...   \n",
       "3   Coll-204  ['Lecture Notes of John Robison', 'Introductio...   \n",
       "4   Coll-206  ['Records of the Wernerian Natural History Soc...   \n",
       "\n",
       "                                     unit_identifier  \\\n",
       "0  ['Coll-1064', 'Coll-1064/1', 'Coll-1064/2', 'C...   \n",
       "1  ['Coll-31', 'Coll-31/1', 'Coll-31/1/1', 'Coll-...   \n",
       "2  ['Coll-51', 'Coll-51/1', 'Coll-51/2', 'Coll-51...   \n",
       "3  ['Coll-204', 'Coll-204/1', 'Coll-204/2', 'Coll...   \n",
       "4  ['Coll-206', 'Coll-206/1', 'Coll-206/1/1', 'Co...   \n",
       "\n",
       "                             unique_language  \\\n",
       "0                                ['English']   \n",
       "1                                ['English']   \n",
       "2                                ['English']   \n",
       "3  ['English', 'Russian', 'Latin', 'French']   \n",
       "4                                ['English']   \n",
       "\n",
       "                                         unique_date  \\\n",
       "0  ['1937-01-01 - 1954-12-31', '1937-02-02 - 1938...   \n",
       "1  ['1814-01-01 - 1924-12-31', '1874-01-01 - 1905...   \n",
       "2  ['1771-01-01 - 1935-12-31', '1723-01-01 - 1935...   \n",
       "3  ['1779-01-01 - 1801-12-31', '1779-01-01 - 1801...   \n",
       "4  ['1808-01-01 - 1858-12-31', '1808-01-12 - 1858...   \n",
       "\n",
       "                                    unique_geography  \n",
       "0  ['Edinburgh (Scotland)', 'St Andrews (Scotland...  \n",
       "1                                               ['']  \n",
       "2  ['Calcutta (India)', 'Europe', 'Tarradale (Sco...  \n",
       "3  ['Edinburgh (Scotland)', 'Stirlingshire Scotla...  \n",
       "4  ['Edinburgh (Scotland)', 'Freiburg im Breisgau...  "
      ]
     },
     "execution_count": 54,
     "metadata": {},
     "output_type": "execute_result"
    }
   ],
   "source": [
    "df_meta = pd.read_csv(config.crc_meta_path+\"CRC_units-grouped-by-fonds_clean.csv\", index_col=0)\n",
    "df_meta.head()"
   ]
  },
  {
   "cell_type": "code",
   "execution_count": 55,
   "metadata": {},
   "outputs": [],
   "source": [
    "# df_meta.loc[df_meta.unique_language.isna()] # 1 row\n",
    "df_meta[\"unique_language\"] = df_meta.unique_language.fillna(\"['']\")"
   ]
  },
  {
   "cell_type": "code",
   "execution_count": 56,
   "metadata": {},
   "outputs": [
    {
     "name": "stdout",
     "output_type": "stream",
     "text": [
      "<class 'list'>\n",
      "<class 'str'>\n"
     ]
    }
   ],
   "source": [
    "list_cols = list(df_meta.columns)[1:]\n",
    "df_meta\n",
    "for col in list_cols:\n",
    "    str_col = df_meta[col]\n",
    "    list_col = [row[2:-2].split(\"', '\") for row in str_col]\n",
    "    df_meta = df_meta.drop(columns=[col])\n",
    "    df_meta.insert((list_cols.index(col)+1), col, list_col)\n",
    "\n",
    "print(type(list(df_meta[col])[0]))\n",
    "print(type(list(df_meta[col])[0][0]))"
   ]
  },
  {
   "cell_type": "markdown",
   "metadata": {},
   "source": [
    "Let's summarize the data:"
   ]
  },
  {
   "cell_type": "code",
   "execution_count": 4,
   "metadata": {},
   "outputs": [],
   "source": [
    "text_col = \"sentences\""
   ]
  },
  {
   "cell_type": "code",
   "execution_count": 13,
   "metadata": {},
   "outputs": [
    {
     "name": "stdout",
     "output_type": "stream",
     "text": [
      "Total sentences: 41692\n",
      "Unique sentences: 34744\n"
     ]
    }
   ],
   "source": [
    "print(\"Total sentences:\", df.shape[0])\n",
    "print(\"Unique sentences:\", len(df[text_col].unique()))"
   ]
  },
  {
   "cell_type": "code",
   "execution_count": 14,
   "metadata": {},
   "outputs": [
    {
     "data": {
      "text/plain": [
       "Scope and Contents           20573\n",
       "Title                        16870\n",
       "Biographical / Historical     3921\n",
       "Processing Information         328\n",
       "Name: field, dtype: int64"
      ]
     },
     "execution_count": 14,
     "metadata": {},
     "output_type": "execute_result"
    }
   ],
   "source": [
    "df.field.value_counts()"
   ]
  },
  {
   "cell_type": "code",
   "execution_count": 15,
   "metadata": {},
   "outputs": [
    {
     "name": "stdout",
     "output_type": "stream",
     "text": [
      "Total descriptions: 27570\n"
     ]
    }
   ],
   "source": [
    "print(\"Total descriptions:\",len(list(df.description_id.unique())))"
   ]
  },
  {
   "cell_type": "markdown",
   "metadata": {},
   "source": [
    "***\n",
    "\n",
    "Optionally, we can reduce the words in the text to their root form using stemming or lemmatization.\n"
   ]
  },
  {
   "cell_type": "code",
   "execution_count": 5,
   "metadata": {},
   "outputs": [
    {
     "name": "stdout",
     "output_type": "stream",
     "text": [
      "title:\n",
      "papers of the very rev prof james whyte (1920-2005)\n"
     ]
    }
   ],
   "source": [
    "stemmer = PorterStemmer()\n",
    "text_list = list(df[text_col])\n",
    "text_stems = [stemmer.stem(text) for text in text_list]\n",
    "print(text_stems[0])"
   ]
  },
  {
   "cell_type": "code",
   "execution_count": 6,
   "metadata": {},
   "outputs": [
    {
     "name": "stdout",
     "output_type": "stream",
     "text": [
      "Title:\n",
      "Papers of The Very Rev Prof James Whyte (1920-2005)\n"
     ]
    }
   ],
   "source": [
    "lmtzr = WordNetLemmatizer()\n",
    "text_list = list(df[text_col])\n",
    "text_lemmas = [lmtzr.lemmatize(text) for text in text_list]\n",
    "print(text_lemmas[0])"
   ]
  },
  {
   "cell_type": "code",
   "execution_count": 7,
   "metadata": {},
   "outputs": [
    {
     "data": {
      "text/html": [
       "<div>\n",
       "<style scoped>\n",
       "    .dataframe tbody tr th:only-of-type {\n",
       "        vertical-align: middle;\n",
       "    }\n",
       "\n",
       "    .dataframe tbody tr th {\n",
       "        vertical-align: top;\n",
       "    }\n",
       "\n",
       "    .dataframe thead th {\n",
       "        text-align: right;\n",
       "    }\n",
       "</style>\n",
       "<table border=\"1\" class=\"dataframe\">\n",
       "  <thead>\n",
       "    <tr style=\"text-align: right;\">\n",
       "      <th></th>\n",
       "      <th>description_id</th>\n",
       "      <th>field</th>\n",
       "      <th>sentences</th>\n",
       "      <th>sent_stems</th>\n",
       "      <th>sent_lemmas</th>\n",
       "    </tr>\n",
       "  </thead>\n",
       "  <tbody>\n",
       "    <tr>\n",
       "      <th>1</th>\n",
       "      <td>1</td>\n",
       "      <td>Title</td>\n",
       "      <td>Title:\\nPapers of The Very Rev Prof James Whyt...</td>\n",
       "      <td>title:\\npapers of the very rev prof james whyt...</td>\n",
       "      <td>Title:\\nPapers of The Very Rev Prof James Whyt...</td>\n",
       "    </tr>\n",
       "    <tr>\n",
       "      <th>2</th>\n",
       "      <td>2</td>\n",
       "      <td>Scope and Contents</td>\n",
       "      <td>Scope and Contents:\\nSermons and addresses, 19...</td>\n",
       "      <td>scope and contents:\\nsermons and addresses, 19...</td>\n",
       "      <td>Scope and Contents:\\nSermons and addresses, 19...</td>\n",
       "    </tr>\n",
       "    <tr>\n",
       "      <th>3</th>\n",
       "      <td>3</td>\n",
       "      <td>Biographical / Historical</td>\n",
       "      <td>Biographical / Historical:\\nProfessor James Ai...</td>\n",
       "      <td>biographical / historical:\\nprofessor james ai...</td>\n",
       "      <td>Biographical / Historical:\\nProfessor James Ai...</td>\n",
       "    </tr>\n",
       "    <tr>\n",
       "      <th>3</th>\n",
       "      <td>3</td>\n",
       "      <td>Biographical / Historical</td>\n",
       "      <td>He was educated at Daniel Stewart's College an...</td>\n",
       "      <td>he was educated at daniel stewart's college an...</td>\n",
       "      <td>He was educated at Daniel Stewart's College an...</td>\n",
       "    </tr>\n",
       "    <tr>\n",
       "      <th>3</th>\n",
       "      <td>3</td>\n",
       "      <td>Biographical / Historical</td>\n",
       "      <td>After his ordination he spent three years as a...</td>\n",
       "      <td>after his ordination he spent three years as a...</td>\n",
       "      <td>After his ordination he spent three years as a...</td>\n",
       "    </tr>\n",
       "  </tbody>\n",
       "</table>\n",
       "</div>"
      ],
      "text/plain": [
       "   description_id                      field  \\\n",
       "1               1                      Title   \n",
       "2               2         Scope and Contents   \n",
       "3               3  Biographical / Historical   \n",
       "3               3  Biographical / Historical   \n",
       "3               3  Biographical / Historical   \n",
       "\n",
       "                                           sentences  \\\n",
       "1  Title:\\nPapers of The Very Rev Prof James Whyt...   \n",
       "2  Scope and Contents:\\nSermons and addresses, 19...   \n",
       "3  Biographical / Historical:\\nProfessor James Ai...   \n",
       "3  He was educated at Daniel Stewart's College an...   \n",
       "3  After his ordination he spent three years as a...   \n",
       "\n",
       "                                          sent_stems  \\\n",
       "1  title:\\npapers of the very rev prof james whyt...   \n",
       "2  scope and contents:\\nsermons and addresses, 19...   \n",
       "3  biographical / historical:\\nprofessor james ai...   \n",
       "3  he was educated at daniel stewart's college an...   \n",
       "3  after his ordination he spent three years as a...   \n",
       "\n",
       "                                         sent_lemmas  \n",
       "1  Title:\\nPapers of The Very Rev Prof James Whyt...  \n",
       "2  Scope and Contents:\\nSermons and addresses, 19...  \n",
       "3  Biographical / Historical:\\nProfessor James Ai...  \n",
       "3  He was educated at Daniel Stewart's College an...  \n",
       "3  After his ordination he spent three years as a...  "
      ]
     },
     "execution_count": 7,
     "metadata": {},
     "output_type": "execute_result"
    }
   ],
   "source": [
    "df.insert(len(df.columns), \"sent_stems\", text_stems)\n",
    "df.insert(len(df.columns), \"sent_lemmas\", text_lemmas)\n",
    "df.head()"
   ]
  },
  {
   "cell_type": "markdown",
   "metadata": {},
   "source": [
    "***"
   ]
  },
  {
   "cell_type": "markdown",
   "metadata": {},
   "source": [
    "Set the maximum number of features at 250, and only consider words that appear in at least 10 different documents but no more than 200.  Additionally, allow for bigrams (such as \"19th century\") and trigrams (such as \"Mrs. Norman Macleod\").  We'll have the sklearn Vectorizer filter out stop words (such as \"the\" and \"and\"), as well.\n",
    "\n",
    "*Question: How are the features selected if a maximum is set?*"
   ]
  },
  {
   "cell_type": "code",
   "execution_count": 8,
   "metadata": {},
   "outputs": [
    {
     "data": {
      "text/html": [
       "<div>\n",
       "<style scoped>\n",
       "    .dataframe tbody tr th:only-of-type {\n",
       "        vertical-align: middle;\n",
       "    }\n",
       "\n",
       "    .dataframe tbody tr th {\n",
       "        vertical-align: top;\n",
       "    }\n",
       "\n",
       "    .dataframe thead th {\n",
       "        text-align: right;\n",
       "    }\n",
       "</style>\n",
       "<table border=\"1\" class=\"dataframe\">\n",
       "  <thead>\n",
       "    <tr style=\"text-align: right;\">\n",
       "      <th></th>\n",
       "      <th>11</th>\n",
       "      <th>12</th>\n",
       "      <th>13</th>\n",
       "      <th>14</th>\n",
       "      <th>15</th>\n",
       "      <th>16</th>\n",
       "      <th>17</th>\n",
       "      <th>18</th>\n",
       "      <th>19</th>\n",
       "      <th>1904</th>\n",
       "      <th>...</th>\n",
       "      <th>ts signed</th>\n",
       "      <th>undated</th>\n",
       "      <th>united</th>\n",
       "      <th>university library</th>\n",
       "      <th>using</th>\n",
       "      <th>wales</th>\n",
       "      <th>women</th>\n",
       "      <th>works</th>\n",
       "      <th>york</th>\n",
       "      <th>zealand</th>\n",
       "    </tr>\n",
       "  </thead>\n",
       "  <tbody>\n",
       "    <tr>\n",
       "      <th>count</th>\n",
       "      <td>41692.000000</td>\n",
       "      <td>41692.000000</td>\n",
       "      <td>41692.000000</td>\n",
       "      <td>41692.000000</td>\n",
       "      <td>41692.000000</td>\n",
       "      <td>41692.000000</td>\n",
       "      <td>41692.000000</td>\n",
       "      <td>41692.000000</td>\n",
       "      <td>41692.00000</td>\n",
       "      <td>41692.000000</td>\n",
       "      <td>...</td>\n",
       "      <td>41692.000000</td>\n",
       "      <td>41692.000000</td>\n",
       "      <td>41692.000000</td>\n",
       "      <td>41692.000000</td>\n",
       "      <td>41692.000000</td>\n",
       "      <td>41692.000000</td>\n",
       "      <td>41692.000000</td>\n",
       "      <td>41692.000000</td>\n",
       "      <td>41692.000000</td>\n",
       "      <td>41692.000000</td>\n",
       "    </tr>\n",
       "    <tr>\n",
       "      <th>mean</th>\n",
       "      <td>0.003103</td>\n",
       "      <td>0.003187</td>\n",
       "      <td>0.002257</td>\n",
       "      <td>0.002340</td>\n",
       "      <td>0.002715</td>\n",
       "      <td>0.002219</td>\n",
       "      <td>0.002077</td>\n",
       "      <td>0.002173</td>\n",
       "      <td>0.00236</td>\n",
       "      <td>0.002623</td>\n",
       "      <td>...</td>\n",
       "      <td>0.002603</td>\n",
       "      <td>0.002515</td>\n",
       "      <td>0.002174</td>\n",
       "      <td>0.001346</td>\n",
       "      <td>0.002317</td>\n",
       "      <td>0.002429</td>\n",
       "      <td>0.003027</td>\n",
       "      <td>0.002078</td>\n",
       "      <td>0.002318</td>\n",
       "      <td>0.001854</td>\n",
       "    </tr>\n",
       "    <tr>\n",
       "      <th>std</th>\n",
       "      <td>0.049364</td>\n",
       "      <td>0.050020</td>\n",
       "      <td>0.041732</td>\n",
       "      <td>0.041877</td>\n",
       "      <td>0.044578</td>\n",
       "      <td>0.040597</td>\n",
       "      <td>0.040806</td>\n",
       "      <td>0.040357</td>\n",
       "      <td>0.04264</td>\n",
       "      <td>0.046197</td>\n",
       "      <td>...</td>\n",
       "      <td>0.041131</td>\n",
       "      <td>0.043872</td>\n",
       "      <td>0.038708</td>\n",
       "      <td>0.023970</td>\n",
       "      <td>0.043329</td>\n",
       "      <td>0.043129</td>\n",
       "      <td>0.049727</td>\n",
       "      <td>0.039866</td>\n",
       "      <td>0.043363</td>\n",
       "      <td>0.033978</td>\n",
       "    </tr>\n",
       "    <tr>\n",
       "      <th>min</th>\n",
       "      <td>0.000000</td>\n",
       "      <td>0.000000</td>\n",
       "      <td>0.000000</td>\n",
       "      <td>0.000000</td>\n",
       "      <td>0.000000</td>\n",
       "      <td>0.000000</td>\n",
       "      <td>0.000000</td>\n",
       "      <td>0.000000</td>\n",
       "      <td>0.00000</td>\n",
       "      <td>0.000000</td>\n",
       "      <td>...</td>\n",
       "      <td>0.000000</td>\n",
       "      <td>0.000000</td>\n",
       "      <td>0.000000</td>\n",
       "      <td>0.000000</td>\n",
       "      <td>0.000000</td>\n",
       "      <td>0.000000</td>\n",
       "      <td>0.000000</td>\n",
       "      <td>0.000000</td>\n",
       "      <td>0.000000</td>\n",
       "      <td>0.000000</td>\n",
       "    </tr>\n",
       "    <tr>\n",
       "      <th>25%</th>\n",
       "      <td>0.000000</td>\n",
       "      <td>0.000000</td>\n",
       "      <td>0.000000</td>\n",
       "      <td>0.000000</td>\n",
       "      <td>0.000000</td>\n",
       "      <td>0.000000</td>\n",
       "      <td>0.000000</td>\n",
       "      <td>0.000000</td>\n",
       "      <td>0.00000</td>\n",
       "      <td>0.000000</td>\n",
       "      <td>...</td>\n",
       "      <td>0.000000</td>\n",
       "      <td>0.000000</td>\n",
       "      <td>0.000000</td>\n",
       "      <td>0.000000</td>\n",
       "      <td>0.000000</td>\n",
       "      <td>0.000000</td>\n",
       "      <td>0.000000</td>\n",
       "      <td>0.000000</td>\n",
       "      <td>0.000000</td>\n",
       "      <td>0.000000</td>\n",
       "    </tr>\n",
       "    <tr>\n",
       "      <th>50%</th>\n",
       "      <td>0.000000</td>\n",
       "      <td>0.000000</td>\n",
       "      <td>0.000000</td>\n",
       "      <td>0.000000</td>\n",
       "      <td>0.000000</td>\n",
       "      <td>0.000000</td>\n",
       "      <td>0.000000</td>\n",
       "      <td>0.000000</td>\n",
       "      <td>0.00000</td>\n",
       "      <td>0.000000</td>\n",
       "      <td>...</td>\n",
       "      <td>0.000000</td>\n",
       "      <td>0.000000</td>\n",
       "      <td>0.000000</td>\n",
       "      <td>0.000000</td>\n",
       "      <td>0.000000</td>\n",
       "      <td>0.000000</td>\n",
       "      <td>0.000000</td>\n",
       "      <td>0.000000</td>\n",
       "      <td>0.000000</td>\n",
       "      <td>0.000000</td>\n",
       "    </tr>\n",
       "    <tr>\n",
       "      <th>75%</th>\n",
       "      <td>0.000000</td>\n",
       "      <td>0.000000</td>\n",
       "      <td>0.000000</td>\n",
       "      <td>0.000000</td>\n",
       "      <td>0.000000</td>\n",
       "      <td>0.000000</td>\n",
       "      <td>0.000000</td>\n",
       "      <td>0.000000</td>\n",
       "      <td>0.00000</td>\n",
       "      <td>0.000000</td>\n",
       "      <td>...</td>\n",
       "      <td>0.000000</td>\n",
       "      <td>0.000000</td>\n",
       "      <td>0.000000</td>\n",
       "      <td>0.000000</td>\n",
       "      <td>0.000000</td>\n",
       "      <td>0.000000</td>\n",
       "      <td>0.000000</td>\n",
       "      <td>0.000000</td>\n",
       "      <td>0.000000</td>\n",
       "      <td>0.000000</td>\n",
       "    </tr>\n",
       "    <tr>\n",
       "      <th>max</th>\n",
       "      <td>1.000000</td>\n",
       "      <td>1.000000</td>\n",
       "      <td>1.000000</td>\n",
       "      <td>1.000000</td>\n",
       "      <td>1.000000</td>\n",
       "      <td>1.000000</td>\n",
       "      <td>1.000000</td>\n",
       "      <td>1.000000</td>\n",
       "      <td>1.00000</td>\n",
       "      <td>1.000000</td>\n",
       "      <td>...</td>\n",
       "      <td>1.000000</td>\n",
       "      <td>1.000000</td>\n",
       "      <td>1.000000</td>\n",
       "      <td>1.000000</td>\n",
       "      <td>1.000000</td>\n",
       "      <td>1.000000</td>\n",
       "      <td>1.000000</td>\n",
       "      <td>1.000000</td>\n",
       "      <td>1.000000</td>\n",
       "      <td>0.707107</td>\n",
       "    </tr>\n",
       "  </tbody>\n",
       "</table>\n",
       "<p>8 rows × 250 columns</p>\n",
       "</div>"
      ],
      "text/plain": [
       "                 11            12            13            14            15  \\\n",
       "count  41692.000000  41692.000000  41692.000000  41692.000000  41692.000000   \n",
       "mean       0.003103      0.003187      0.002257      0.002340      0.002715   \n",
       "std        0.049364      0.050020      0.041732      0.041877      0.044578   \n",
       "min        0.000000      0.000000      0.000000      0.000000      0.000000   \n",
       "25%        0.000000      0.000000      0.000000      0.000000      0.000000   \n",
       "50%        0.000000      0.000000      0.000000      0.000000      0.000000   \n",
       "75%        0.000000      0.000000      0.000000      0.000000      0.000000   \n",
       "max        1.000000      1.000000      1.000000      1.000000      1.000000   \n",
       "\n",
       "                 16            17            18           19          1904  \\\n",
       "count  41692.000000  41692.000000  41692.000000  41692.00000  41692.000000   \n",
       "mean       0.002219      0.002077      0.002173      0.00236      0.002623   \n",
       "std        0.040597      0.040806      0.040357      0.04264      0.046197   \n",
       "min        0.000000      0.000000      0.000000      0.00000      0.000000   \n",
       "25%        0.000000      0.000000      0.000000      0.00000      0.000000   \n",
       "50%        0.000000      0.000000      0.000000      0.00000      0.000000   \n",
       "75%        0.000000      0.000000      0.000000      0.00000      0.000000   \n",
       "max        1.000000      1.000000      1.000000      1.00000      1.000000   \n",
       "\n",
       "       ...     ts signed       undated        united  university library  \\\n",
       "count  ...  41692.000000  41692.000000  41692.000000        41692.000000   \n",
       "mean   ...      0.002603      0.002515      0.002174            0.001346   \n",
       "std    ...      0.041131      0.043872      0.038708            0.023970   \n",
       "min    ...      0.000000      0.000000      0.000000            0.000000   \n",
       "25%    ...      0.000000      0.000000      0.000000            0.000000   \n",
       "50%    ...      0.000000      0.000000      0.000000            0.000000   \n",
       "75%    ...      0.000000      0.000000      0.000000            0.000000   \n",
       "max    ...      1.000000      1.000000      1.000000            1.000000   \n",
       "\n",
       "              using         wales         women         works          york  \\\n",
       "count  41692.000000  41692.000000  41692.000000  41692.000000  41692.000000   \n",
       "mean       0.002317      0.002429      0.003027      0.002078      0.002318   \n",
       "std        0.043329      0.043129      0.049727      0.039866      0.043363   \n",
       "min        0.000000      0.000000      0.000000      0.000000      0.000000   \n",
       "25%        0.000000      0.000000      0.000000      0.000000      0.000000   \n",
       "50%        0.000000      0.000000      0.000000      0.000000      0.000000   \n",
       "75%        0.000000      0.000000      0.000000      0.000000      0.000000   \n",
       "max        1.000000      1.000000      1.000000      1.000000      1.000000   \n",
       "\n",
       "            zealand  \n",
       "count  41692.000000  \n",
       "mean       0.001854  \n",
       "std        0.033978  \n",
       "min        0.000000  \n",
       "25%        0.000000  \n",
       "50%        0.000000  \n",
       "75%        0.000000  \n",
       "max        0.707107  \n",
       "\n",
       "[8 rows x 250 columns]"
      ]
     },
     "execution_count": 8,
     "metadata": {},
     "output_type": "execute_result"
    }
   ],
   "source": [
    "col_name = \"sent_lemmas\" #sent_stems, sentences\n",
    "tfidf = TfidfVectorizer(ngram_range=(1,3), max_features=250, strip_accents=\"unicode\", min_df=10, max_df=200, stop_words=\"english\")\n",
    "tfidf_array = tfidf.fit_transform(df[col_name])\n",
    "df_tfidf = pd.DataFrame(tfidf_array.toarray(), index=df.index, columns=tfidf.get_feature_names())\n",
    "df_tfidf.describe()"
   ]
  },
  {
   "cell_type": "code",
   "execution_count": 9,
   "metadata": {},
   "outputs": [
    {
     "data": {
      "text/plain": [
       "(41692, 250)"
      ]
     },
     "execution_count": 9,
     "metadata": {},
     "output_type": "execute_result"
    }
   ],
   "source": [
    "df_tfidf.shape"
   ]
  },
  {
   "cell_type": "markdown",
   "metadata": {},
   "source": [
    "Next, use Principal Component Analysis (PCA) to reduce the dimensions in our dataset from 250 to 10."
   ]
  },
  {
   "cell_type": "code",
   "execution_count": 10,
   "metadata": {},
   "outputs": [],
   "source": [
    "pca = PCA(n_components=10, whiten=False, random_state=22)\n",
    "sents_pca = pca.fit_transform(df_tfidf)\n",
    "df_pca = pd.DataFrame(data=sents_pca)"
   ]
  },
  {
   "cell_type": "code",
   "execution_count": 26,
   "metadata": {},
   "outputs": [
    {
     "name": "stderr",
     "output_type": "stream",
     "text": [
      "/afs/inf.ed.ac.uk/user/s15/s1545703/repos/gender-bias/analysis/Clustering/utils.py:31: UserWarning: Matplotlib is currently using module://ipykernel.pylab.backend_inline, which is a non-GUI backend, so cannot show the figure.\n",
      "  fig.show()\n"
     ]
    },
    {
     "data": {
      "image/png": "[encoded data removed]",
      "text/plain": [
       "<Figure size 720x720 with 1 Axes>"
      ]
     },
     "metadata": {
      "needs_background": "light"
     },
     "output_type": "display_data"
    }
   ],
   "source": [
    "utils.elbowPlot(range(1,30), df_pca)"
   ]
  },
  {
   "cell_type": "code",
   "execution_count": 27,
   "metadata": {},
   "outputs": [],
   "source": [
    "n_clusters = 10"
   ]
  },
  {
   "cell_type": "code",
   "execution_count": 28,
   "metadata": {},
   "outputs": [
    {
     "data": {
      "text/html": [
       "<div>\n",
       "<style scoped>\n",
       "    .dataframe tbody tr th:only-of-type {\n",
       "        vertical-align: middle;\n",
       "    }\n",
       "\n",
       "    .dataframe tbody tr th {\n",
       "        vertical-align: top;\n",
       "    }\n",
       "\n",
       "    .dataframe thead th {\n",
       "        text-align: right;\n",
       "    }\n",
       "</style>\n",
       "<table border=\"1\" class=\"dataframe\">\n",
       "  <thead>\n",
       "    <tr style=\"text-align: right;\">\n",
       "      <th></th>\n",
       "      <th>description_id</th>\n",
       "      <th>field</th>\n",
       "      <th>sentences</th>\n",
       "      <th>sent_stems</th>\n",
       "      <th>sent_lemmas</th>\n",
       "      <th>cluster</th>\n",
       "    </tr>\n",
       "  </thead>\n",
       "  <tbody>\n",
       "    <tr>\n",
       "      <th>1</th>\n",
       "      <td>1</td>\n",
       "      <td>Title</td>\n",
       "      <td>Title:\\nPapers of The Very Rev Prof James Whyt...</td>\n",
       "      <td>title:\\npapers of the very rev prof james whyt...</td>\n",
       "      <td>Title:\\nPapers of The Very Rev Prof James Whyt...</td>\n",
       "      <td>1</td>\n",
       "    </tr>\n",
       "    <tr>\n",
       "      <th>2</th>\n",
       "      <td>2</td>\n",
       "      <td>Scope and Contents</td>\n",
       "      <td>Scope and Contents:\\nSermons and addresses, 19...</td>\n",
       "      <td>scope and contents:\\nsermons and addresses, 19...</td>\n",
       "      <td>Scope and Contents:\\nSermons and addresses, 19...</td>\n",
       "      <td>1</td>\n",
       "    </tr>\n",
       "    <tr>\n",
       "      <th>3</th>\n",
       "      <td>3</td>\n",
       "      <td>Biographical / Historical</td>\n",
       "      <td>Biographical / Historical:\\nProfessor James Ai...</td>\n",
       "      <td>biographical / historical:\\nprofessor james ai...</td>\n",
       "      <td>Biographical / Historical:\\nProfessor James Ai...</td>\n",
       "      <td>1</td>\n",
       "    </tr>\n",
       "    <tr>\n",
       "      <th>3</th>\n",
       "      <td>3</td>\n",
       "      <td>Biographical / Historical</td>\n",
       "      <td>He was educated at Daniel Stewart's College an...</td>\n",
       "      <td>he was educated at daniel stewart's college an...</td>\n",
       "      <td>He was educated at Daniel Stewart's College an...</td>\n",
       "      <td>1</td>\n",
       "    </tr>\n",
       "    <tr>\n",
       "      <th>3</th>\n",
       "      <td>3</td>\n",
       "      <td>Biographical / Historical</td>\n",
       "      <td>After his ordination he spent three years as a...</td>\n",
       "      <td>after his ordination he spent three years as a...</td>\n",
       "      <td>After his ordination he spent three years as a...</td>\n",
       "      <td>1</td>\n",
       "    </tr>\n",
       "  </tbody>\n",
       "</table>\n",
       "</div>"
      ],
      "text/plain": [
       "   description_id                      field  \\\n",
       "1               1                      Title   \n",
       "2               2         Scope and Contents   \n",
       "3               3  Biographical / Historical   \n",
       "3               3  Biographical / Historical   \n",
       "3               3  Biographical / Historical   \n",
       "\n",
       "                                           sentences  \\\n",
       "1  Title:\\nPapers of The Very Rev Prof James Whyt...   \n",
       "2  Scope and Contents:\\nSermons and addresses, 19...   \n",
       "3  Biographical / Historical:\\nProfessor James Ai...   \n",
       "3  He was educated at Daniel Stewart's College an...   \n",
       "3  After his ordination he spent three years as a...   \n",
       "\n",
       "                                          sent_stems  \\\n",
       "1  title:\\npapers of the very rev prof james whyt...   \n",
       "2  scope and contents:\\nsermons and addresses, 19...   \n",
       "3  biographical / historical:\\nprofessor james ai...   \n",
       "3  he was educated at daniel stewart's college an...   \n",
       "3  after his ordination he spent three years as a...   \n",
       "\n",
       "                                         sent_lemmas  cluster  \n",
       "1  Title:\\nPapers of The Very Rev Prof James Whyt...        1  \n",
       "2  Scope and Contents:\\nSermons and addresses, 19...        1  \n",
       "3  Biographical / Historical:\\nProfessor James Ai...        1  \n",
       "3  He was educated at Daniel Stewart's College an...        1  \n",
       "3  After his ordination he spent three years as a...        1  "
      ]
     },
     "execution_count": 28,
     "metadata": {},
     "output_type": "execute_result"
    }
   ],
   "source": [
    "kmeans = KMeans(n_clusters=n_clusters, random_state=22)\n",
    "clusters = kmeans.fit_predict(df_pca)\n",
    "df_clustered = df.copy()\n",
    "df_clustered.insert(len(df_clustered.columns), \"cluster\", clusters)\n",
    "df_clustered.head()"
   ]
  },
  {
   "cell_type": "code",
   "execution_count": 31,
   "metadata": {},
   "outputs": [
    {
     "data": {
      "text/plain": [
       "<matplotlib.axes._subplots.AxesSubplot at 0x7f250f5f3280>"
      ]
     },
     "execution_count": 31,
     "metadata": {},
     "output_type": "execute_result"
    },
    {
     "data": {
      "image/png": "[encoded data removed]",
      "text/plain": [
       "<Figure size 432x288 with 1 Axes>"
      ]
     },
     "metadata": {
      "needs_background": "light"
     },
     "output_type": "display_data"
    }
   ],
   "source": [
    "cluster_counts = df_clustered.groupby(\"cluster\").size().reset_index(name=\"total_sentences\")\n",
    "sns.barplot(x=\"cluster\", y=\"total_sentences\", data=cluster_counts)"
   ]
  },
  {
   "cell_type": "markdown",
   "metadata": {},
   "source": [
    "Reduce further to 2 dimensions for visualization: "
   ]
  },
  {
   "cell_type": "code",
   "execution_count": 36,
   "metadata": {},
   "outputs": [
    {
     "data": {
      "text/plain": [
       "<matplotlib.axes._subplots.AxesSubplot at 0x7f250f8c5790>"
      ]
     },
     "execution_count": 36,
     "metadata": {},
     "output_type": "execute_result"
    },
    {
     "data": {
      "image/png": "[encoded data removed]",
      "text/plain": [
       "<Figure size 432x288 with 1 Axes>"
      ]
     },
     "metadata": {
      "needs_background": "light"
     },
     "output_type": "display_data"
    }
   ],
   "source": [
    "pca = PCA(n_components=2, whiten=False, random_state=22)\n",
    "clusters2 = pca.fit_transform(df_tfidf)\n",
    "df_pca2 = pd.DataFrame(data=clusters2, columns=[\"pc_1\", \"pc_2\"])\n",
    "df_pca2.insert(len(df_pca2.columns), \"cluster\", clusters)\n",
    "sns.scatterplot(x=\"pc_1\", y=\"pc_2\", hue=\"cluster\", data=df_pca2)"
   ]
  },
  {
   "cell_type": "markdown",
   "metadata": {},
   "source": [
    "<a id=\"1.2\"></a>\n",
    "### 1.2 DBSCAN on Annotated Text Spans"
   ]
  },
  {
   "cell_type": "code",
   "execution_count": 39,
   "metadata": {},
   "outputs": [
    {
     "data": {
      "image/png": "[encoded data removed]",
      "text/plain": [
       "<Figure size 432x288 with 1 Axes>"
      ]
     },
     "metadata": {
      "needs_background": "light"
     },
     "output_type": "display_data"
    }
   ],
   "source": [
    "utils.findOptimalEps(2, df_tfidf)"
   ]
  },
  {
   "cell_type": "markdown",
   "metadata": {},
   "source": [
    "Let's try changing the TFIDF vectorizer parameters to see if we get a chart with a better curve to help us choose an epsilon value:"
   ]
  },
  {
   "cell_type": "code",
   "execution_count": 37,
   "metadata": {},
   "outputs": [],
   "source": [
    "# tfidf = TfidfVectorizer(ngram_range=(1,3), max_features=300, strip_accents=\"unicode\", min_df=50, max_df=300, stop_words=\"english\")\n",
    "# tfidf_array = tfidf.fit_transform(df[\"text\"])  #df[\"text_stems\"], df[\"text_lemmas\"]\n",
    "# df_tfidf = pd.DataFrame(tfidf_array.toarray(), index=df.index, columns=tfidf.get_feature_names())\n",
    "# print(df_tfidf.shape)\n",
    "# print(list(df_tfidf.columns)[:10])"
   ]
  },
  {
   "cell_type": "code",
   "execution_count": 38,
   "metadata": {},
   "outputs": [],
   "source": [
    "# utils.findOptimalEps(2, df_tfidf)"
   ]
  },
  {
   "cell_type": "code",
   "execution_count": 12,
   "metadata": {},
   "outputs": [],
   "source": [
    "eps_value = 0.7"
   ]
  },
  {
   "cell_type": "code",
   "execution_count": null,
   "metadata": {},
   "outputs": [],
   "source": [
    "# Kernel crashes when running this:\n",
    "# -------------------------------------------\n",
    "# dbscan = DBSCAN(eps=eps_value, metric=\"euclidean\")  # change to cosine distance if use TFIDF DataFrame\n",
    "# dbscan_clusters = dbscan.fit_predict(df_pca)\n",
    "# df_dbscan = df.copy()\n",
    "# df_dbscan.insert(len(df_dbscan.columns), \"cluster_pca\", dbscan_clusters)\n",
    "# df_dbscan[\"cluster_pca\"].unique()"
   ]
  },
  {
   "cell_type": "code",
   "execution_count": 15,
   "metadata": {},
   "outputs": [
    {
     "data": {
      "text/plain": [
       "array([ 0, -1,  1])"
      ]
     },
     "execution_count": 15,
     "metadata": {},
     "output_type": "execute_result"
    }
   ],
   "source": [
    "dbscan = DBSCAN(eps=eps_value, metric=\"cosine\")  # change to euclidean distance if use PCA DataFrame\n",
    "dbscan_clusters = dbscan.fit_predict(df_tfidf)\n",
    "df_dbscan = df.copy()\n",
    "df_dbscan.insert(len(df_dbscan.columns), \"cluster_tfidf\", dbscan_clusters)\n",
    "df_dbscan[\"cluster_tfidf\"].unique()"
   ]
  },
  {
   "cell_type": "code",
   "execution_count": 18,
   "metadata": {},
   "outputs": [
    {
     "data": {
      "text/html": [
       "<div>\n",
       "<style scoped>\n",
       "    .dataframe tbody tr th:only-of-type {\n",
       "        vertical-align: middle;\n",
       "    }\n",
       "\n",
       "    .dataframe tbody tr th {\n",
       "        vertical-align: top;\n",
       "    }\n",
       "\n",
       "    .dataframe thead th {\n",
       "        text-align: right;\n",
       "    }\n",
       "</style>\n",
       "<table border=\"1\" class=\"dataframe\">\n",
       "  <thead>\n",
       "    <tr style=\"text-align: right;\">\n",
       "      <th></th>\n",
       "      <th>cluster_tfidf</th>\n",
       "      <th>sentence_count</th>\n",
       "    </tr>\n",
       "  </thead>\n",
       "  <tbody>\n",
       "    <tr>\n",
       "      <th>0</th>\n",
       "      <td>-1</td>\n",
       "      <td>20999</td>\n",
       "    </tr>\n",
       "    <tr>\n",
       "      <th>1</th>\n",
       "      <td>0</td>\n",
       "      <td>20566</td>\n",
       "    </tr>\n",
       "    <tr>\n",
       "      <th>2</th>\n",
       "      <td>1</td>\n",
       "      <td>127</td>\n",
       "    </tr>\n",
       "  </tbody>\n",
       "</table>\n",
       "</div>"
      ],
      "text/plain": [
       "   cluster_tfidf  sentence_count\n",
       "0             -1           20999\n",
       "1              0           20566\n",
       "2              1             127"
      ]
     },
     "execution_count": 18,
     "metadata": {},
     "output_type": "execute_result"
    }
   ],
   "source": [
    "df_dbscan.groupby(\"cluster_tfidf\").size().reset_index(name=\"sentence_count\")"
   ]
  },
  {
   "cell_type": "code",
   "execution_count": null,
   "metadata": {},
   "outputs": [],
   "source": [
    "tfidf_cluster_neg1 = df_dbscan.loc[df_dbscan.cluster_tfidf == -1]\n",
    "tfidf_cluster_0 = df_dbscan.loc[df_dbscan.cluster_tfidf == 0]\n",
    "tfidf_cluster_1 = df_dbscan.loc[df_dbscan.cluster_tfidf == 1]"
   ]
  }
 ],
 "metadata": {
  "kernelspec": {
   "display_name": "Python 3",
   "language": "python",
   "name": "python3"
  },
  "language_info": {
   "codemirror_mode": {
    "name": "ipython",
    "version": 3
   },
   "file_extension": ".py",
   "mimetype": "text/x-python",
   "name": "python",
   "nbconvert_exporter": "python",
   "pygments_lexer": "ipython3",
   "version": "3.8.10"
  }
 },
 "nbformat": 4,
 "nbformat_minor": 4
}

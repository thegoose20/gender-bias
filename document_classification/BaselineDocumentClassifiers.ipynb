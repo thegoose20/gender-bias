{
 "cells": [
  {
   "cell_type": "markdown",
   "metadata": {},
   "source": [
    "# Baseline Gender Bias Document Classifiers\n",
    "\n",
    "* **Supervised learning**\n",
    "    * Train, Validate, and (Blind) Test Data: under directory `../data/doc_clf_data/`\n",
    "* **Multilabel classification**\n",
    "    * 3 categories of labels:\n",
    "        1. *Person Name:* Unknown, Non-binary, Feminine, Masculine\n",
    "        2. *Linguistic:* Generalization, Gendered Pronoun, Gendered Role\n",
    "        3. *Contextual:* Empowering, Occupation, Omission, Stereotype\n",
    "\n",
    "***\n",
    "\n",
    "**Table of Contents**\n",
    "\n",
    "[Setup](#set)\n",
    "\n",
    "Baseline Classifiers:\n",
    "\n",
    "  * [Classifier 1: Multinomial Naive Bayes](#mnb) - worst-performing\n",
    "\n",
    "  * [Classifier 2: Logistic Regression](#log) - top-performing\n",
    "\n",
    "  * [Classifier 3: Random Forest](#ran)\n",
    "  \n",
    "[Logistic Regression Error Analysis](#err)\n",
    "\n",
    "***"
   ]
  },
  {
   "cell_type": "markdown",
   "metadata": {},
   "source": [
    "<a id=\"set\"></a>\n",
    "## Setup"
   ]
  },
  {
   "cell_type": "code",
   "execution_count": 1,
   "metadata": {},
   "outputs": [],
   "source": [
    "# For custom functions\n",
    "import utils\n",
    "\n",
    "# For working with data files and directories\n",
    "import numpy as np\n",
    "import pandas as pd\n",
    "from pathlib import Path\n",
    "\n",
    "# For visualization\n",
    "import matplotlib.pyplot as plt\n",
    "import seaborn as sns\n",
    "\n",
    "# For classification with scikit-learn\n",
    "from sklearn.preprocessing import MultiLabelBinarizer\n",
    "from sklearn.multiclass import OneVsRestClassifier\n",
    "from sklearn.feature_extraction.text import CountVectorizer, TfidfTransformer\n",
    "# from sklearn.svm import SVC\n",
    "# from sklearn.tree import DecisionTreeClassifier\n",
    "# from sklearn.tree import export_text\n",
    "# from sklearn import tree\n",
    "from sklearn.naive_bayes import MultinomialNB\n",
    "from sklearn.linear_model import LogisticRegression\n",
    "from sklearn.ensemble import RandomForestClassifier\n",
    "from sklearn.pipeline import Pipeline\n",
    "from sklearn.metrics import confusion_matrix, multilabel_confusion_matrix, plot_confusion_matrix, ConfusionMatrixDisplay\n",
    "from sklearn.metrics import precision_recall_fscore_support"
   ]
  },
  {
   "cell_type": "markdown",
   "metadata": {},
   "source": [
    "Read in the training, validation, (a.k.a. development or devtest) and blind test data:"
   ]
  },
  {
   "cell_type": "code",
   "execution_count": 2,
   "metadata": {},
   "outputs": [],
   "source": [
    "datadir = \"data/doc_clf_data/\"  #### OR data/aggregated_data?  Check which on personal laptop!  GitHub shows doc_clf_data\n",
    "X_train_path = datadir+\"train_docs.txt\"\n",
    "X_devtest_path = datadir+\"validate_docs.txt\"\n",
    "y_train_path = datadir+\"train_labels.txt\"\n",
    "y_devtest_path = datadir+\"validate_labels.txt\""
   ]
  },
  {
   "cell_type": "code",
   "execution_count": 3,
   "metadata": {},
   "outputs": [],
   "source": [
    "docs_seperator = \"\\n|\\n\"\n",
    "labels_seperator = \"\\n\""
   ]
  },
  {
   "cell_type": "code",
   "execution_count": 4,
   "metadata": {
    "collapsed": true,
    "jupyter": {
     "outputs_hidden": true
    },
    "tags": []
   },
   "outputs": [
    {
     "name": "stdout",
     "output_type": "stream",
     "text": [
      "Angus McIntosh was born to Scottish parents near Sunderland, County Durham, on 10 January 1914. He was educated at Ryhope Grammar School, then at Oriel College Oxford where in 1934 he graduated with first class honours in English language and literature. Between 1936 and 1938 he was at Harvard and on his return to Britain he became a Lecturer at the Department of English, University College Swansea. During the Second World War, McIntosh initially served with the Tank Corps then as a Major in Military Intelligence during which time he was posted to Bletchley where he participated in the decrypting of German military communication Enigma codes. After the war he took up a lectureship at Christ Church Oxford and then in 1948 he was appointed first Forbes Professor of English Language and General Linguistics at Edinburgh University. At Edinburgh, he was the prime mover in the founding of the School of Epistemics - now Informatics - and the School of Scottish Studies, of the then separate Departments of Linguistics and Applied Linguistics. He was also behind two major dictionary projects and of the Linguistic Survey of Scotland. While looking at returns from the questionnaire for the Linguistic Survey of Scotland, McIntosh realised the possibility of applying the methodology of modern dialect surveys to the investigation of past stages of the language. Middle English in its written forms exhibited high degrees of linguistic variation, known broadly to correlate with England's geographical regions. Experimenting with the Linguistic Survey data, he attempted to localise material from informants purely on the evidence of their written linguistic forms. The method which was devised - in what later became the Middle English Dialect Project - became known as the Fit Technique, and this was essentially an application of the principles of set theory to geographical distributions. It was to revolutionise dialect research in historical linguistics.A Linguistic Atlas of Late Mediaeval English, or LALME, was published in 1986, 34 years after its inception, and enthusiastically received in the scholarly community. LALME led the advent of variationist methodology in the study of the linguistic history. McIntosh did pioneering work for the Linguistic Survey of Scotland and this resulted in the publication in 1952 of hisIntroduction to a Survey of Scottish Dialects. In the same year he set up the Joint Council for the Scottish Dictionaries. He was also a tireless supporter of both theScottish National Dictionaryand theDictionary of the Older Scottish Tongueor DOST. From 1977 to 1989, he was president of the Scottish Text Society - and later honorary president - and for many years he was a member of the Early English Text Society's council. He was a member of the Finnish Academy of Science and Letters, and he was a fellow of the British Academy and of the Royal Society of Edinburgh. Professor Angus McIntosh died on 26 October 2005, aged 91. That same year, the Departments of English Language and of Linguistics at Edinburgh University, both founded by McIntosh, merged.\n",
      "1111\n"
     ]
    }
   ],
   "source": [
    "X_train = utils.readData(X_train_path, docs_seperator)\n",
    "print(X_train[0])\n",
    "print(len(X_train))"
   ]
  },
  {
   "cell_type": "code",
   "execution_count": 5,
   "metadata": {
    "collapsed": true,
    "jupyter": {
     "outputs_hidden": true
    },
    "tags": []
   },
   "outputs": [
    {
     "name": "stdout",
     "output_type": "stream",
     "text": [
      "Charles Hedges was born in either 1649 or 1650. he was educated at Magdalen, Oxford, where he took a B.A. in 1670, an M.A. in 1673, and a D.C.L in 1675. In his last year of study he was admitted to the Society of Advocates, and by 1686 he was Chancellor and Vicar-General of the Diocese of Rochester. In 1689 he was created Master of the Faculties and Judge of the Admiralty Court. Hedges was also knighted on 4 June 1689. From 1698 he contested various constituencies for a seat in Parliament including Orford in Suffolk, Dover, Calne and Malmesbury, West Looe, and East Looe. In 1700 he became a Secretary of State and Privy Councillor with the help of the Earl of Rochester (1641-1711). For some time Sir Charles Hedges resided at Richmond Green, but in 1700 he bought an estate in Compton Bassett, near Calne in Wiltshire. Hedges died on 10 June 1714. The background to the collection item, from Hedges as Secretary of State, to the Lord Lieutenant of Ireland, is the Aliens Act of 1705 which stated that, from Christmas Day 1705 until the Scottish Parliament passed an Act settling the Scottish Crown upon the successor to the English Crown, every Scot should be considered an alien. At the time that the letter was written (November 1706) the Viceroy (Lord Lieutenant) of Ireland was James Butler, 2nd Duke of Ormonde KG, KT (1665–1745), Irish statesman and soldier. The Duke of Ormonde had succeeded the Earl of Rochester to the post in 1703, and was Viceroy until 1707.\n",
      "371\n"
     ]
    }
   ],
   "source": [
    "X_devtest = utils.readData(X_devtest_path, docs_seperator)\n",
    "print(X_devtest[0])\n",
    "print(len(X_devtest))"
   ]
  },
  {
   "cell_type": "code",
   "execution_count": 6,
   "metadata": {
    "collapsed": true,
    "jupyter": {
     "outputs_hidden": true
    },
    "tags": []
   },
   "outputs": [
    {
     "name": "stdout",
     "output_type": "stream",
     "text": [
      "['Occupation, Stereotype, Masculine, Gendered-Pronoun'\n",
      " 'Gendered-Pronoun, Stereotype, Unknown, Masculine, Omission, Generalization, Gendered-Role, Occupation'\n",
      " 'Gendered-Pronoun, Stereotype, Unknown, Masculine, Omission, Occupation']\n",
      "1111\n"
     ]
    }
   ],
   "source": [
    "y_train = utils.readData(y_train_path, labels_seperator)\n",
    "print(y_train[:3])\n",
    "print(len(y_train))"
   ]
  },
  {
   "cell_type": "code",
   "execution_count": 7,
   "metadata": {
    "collapsed": true,
    "jupyter": {
     "outputs_hidden": true
    },
    "tags": []
   },
   "outputs": [
    {
     "name": "stdout",
     "output_type": "stream",
     "text": [
      "Gendered-Pronoun, Stereotype, Masculine, Omission, Gendered-Role, Generalization, Occupation\n",
      "371\n"
     ]
    }
   ],
   "source": [
    "y_devtest = utils.readData(y_devtest_path, labels_seperator)\n",
    "print(y_devtest[0])\n",
    "print(len(y_devtest))"
   ]
  },
  {
   "cell_type": "markdown",
   "metadata": {},
   "source": [
    "Convert the data to numeric representations, where:\n",
    "```\n",
    "labels = {\n",
    "    \"Unknown\": 0, \"Non-binary\": 1, \"Feminine\": 2, \"Masculine\": 3,\n",
    "    \"Generalization\": 4, \"Gendered-Pronoun\": 5, \"Gendered-Role\": 6,\n",
    "    \"Occupation\": 7, \"Omission\":8, \"Stereotype\": 9, \"Empowering\": 10\n",
    "         }\n",
    "```"
   ]
  },
  {
   "cell_type": "code",
   "execution_count": 8,
   "metadata": {},
   "outputs": [],
   "source": [
    "# Convert the strings of labels to tuples of numbers\n",
    "y_train_numeric = utils.getNumericLabels(y_train)\n",
    "y_devtest_numeric = utils.getNumericLabels(y_devtest)\n",
    "assert len(y_train_numeric) == len(y_train)\n",
    "assert len(y_devtest_numeric) == len(y_devtest)"
   ]
  },
  {
   "cell_type": "markdown",
   "metadata": {},
   "source": [
    "Binarize the data so labels are represented by a 0 (not present) or 1 (present):"
   ]
  },
  {
   "cell_type": "code",
   "execution_count": 9,
   "metadata": {},
   "outputs": [
    {
     "name": "stdout",
     "output_type": "stream",
     "text": [
      "(371, 9)\n",
      "[0 0 1 1 1 1 1 1 1]\n"
     ]
    }
   ],
   "source": [
    "# Convert each iterable of iterables above to a multilabel format\n",
    "mlb = MultiLabelBinarizer()\n",
    "y_train_binarized = mlb.fit_transform(y_train_numeric)\n",
    "y_devtest_binarized = mlb.fit_transform(y_devtest_numeric)\n",
    "print(y_devtest_binarized.shape)\n",
    "print(y_devtest_binarized[0])"
   ]
  },
  {
   "cell_type": "code",
   "execution_count": null,
   "metadata": {
    "tags": []
   },
   "outputs": [],
   "source": [
    "# # Bag of Words\n",
    "# count_vect = CountVectorizer()\n",
    "# X_train_counts = count_vect.fit_transform(X_train)\n",
    "# X_test_counts = count_vect.fit_transform(X_test)\n",
    "# print(\"Bag of Words:\")\n",
    "# print(X_train_counts.shape)\n",
    "# print(X_test_counts.shape)\n",
    "\n",
    "# # Term Frequency times Inverse Document Frequency\n",
    "# tfidf_transformer = TfidfTransformer()\n",
    "# X_train_tfidf = tfidf_transformer.fit_transform(X_train_counts)\n",
    "# X_test_tfidf = tfidf_transformer.fit_transform(X_test_counts)\n",
    "# print(\"TFIDF:\")\n",
    "# print(X_train_tfidf.shape)\n",
    "# print(X_test_tfidf.shape)"
   ]
  },
  {
   "cell_type": "code",
   "execution_count": null,
   "metadata": {
    "tags": []
   },
   "outputs": [],
   "source": [
    "# assert X_train_counts.shape[0] == len(y_train_numeric)\n",
    "# assert X_test_tfidf.shape[0] == len(y_test_numeric)"
   ]
  },
  {
   "cell_type": "markdown",
   "metadata": {},
   "source": [
    "Create the directory to write the classification models' performance metrics to:"
   ]
  },
  {
   "cell_type": "code",
   "execution_count": 20,
   "metadata": {},
   "outputs": [],
   "source": [
    "metrics_dir = \"./baseline_performance_metrics/\"\n",
    "Path(metrics_dir).mkdir(parents=True, exist_ok=True)"
   ]
  },
  {
   "cell_type": "markdown",
   "metadata": {},
   "source": [
    "## Baseline Classifiers\n",
    "<a id=\"mnb\"></a>\n",
    "### Classifier 1: Multinomial Naive Bayes"
   ]
  },
  {
   "cell_type": "markdown",
   "metadata": {
    "tags": []
   },
   "source": [
    "Build a pipeline:"
   ]
  },
  {
   "cell_type": "code",
   "execution_count": 11,
   "metadata": {
    "tags": []
   },
   "outputs": [],
   "source": [
    "clf_pipeline = Pipeline([\n",
    "    (\"vect\", CountVectorizer()),\n",
    "    (\"tfidf\", TfidfTransformer()),\n",
    "    (\"clf\", OneVsRestClassifier(MultinomialNB()))\n",
    "    ])"
   ]
  },
  {
   "cell_type": "code",
   "execution_count": 12,
   "metadata": {
    "collapsed": true,
    "jupyter": {
     "outputs_hidden": true
    },
    "tags": []
   },
   "outputs": [
    {
     "data": {
      "text/html": [
       "<style>#sk-container-id-1 {color: black;background-color: white;}#sk-container-id-1 pre{padding: 0;}#sk-container-id-1 div.sk-toggleable {background-color: white;}#sk-container-id-1 label.sk-toggleable__label {cursor: pointer;display: block;width: 100%;margin-bottom: 0;padding: 0.3em;box-sizing: border-box;text-align: center;}#sk-container-id-1 label.sk-toggleable__label-arrow:before {content: \"▸\";float: left;margin-right: 0.25em;color: #696969;}#sk-container-id-1 label.sk-toggleable__label-arrow:hover:before {color: black;}#sk-container-id-1 div.sk-estimator:hover label.sk-toggleable__label-arrow:before {color: black;}#sk-container-id-1 div.sk-toggleable__content {max-height: 0;max-width: 0;overflow: hidden;text-align: left;background-color: #f0f8ff;}#sk-container-id-1 div.sk-toggleable__content pre {margin: 0.2em;color: black;border-radius: 0.25em;background-color: #f0f8ff;}#sk-container-id-1 input.sk-toggleable__control:checked~div.sk-toggleable__content {max-height: 200px;max-width: 100%;overflow: auto;}#sk-container-id-1 input.sk-toggleable__control:checked~label.sk-toggleable__label-arrow:before {content: \"▾\";}#sk-container-id-1 div.sk-estimator input.sk-toggleable__control:checked~label.sk-toggleable__label {background-color: #d4ebff;}#sk-container-id-1 div.sk-label input.sk-toggleable__control:checked~label.sk-toggleable__label {background-color: #d4ebff;}#sk-container-id-1 input.sk-hidden--visually {border: 0;clip: rect(1px 1px 1px 1px);clip: rect(1px, 1px, 1px, 1px);height: 1px;margin: -1px;overflow: hidden;padding: 0;position: absolute;width: 1px;}#sk-container-id-1 div.sk-estimator {font-family: monospace;background-color: #f0f8ff;border: 1px dotted black;border-radius: 0.25em;box-sizing: border-box;margin-bottom: 0.5em;}#sk-container-id-1 div.sk-estimator:hover {background-color: #d4ebff;}#sk-container-id-1 div.sk-parallel-item::after {content: \"\";width: 100%;border-bottom: 1px solid gray;flex-grow: 1;}#sk-container-id-1 div.sk-label:hover label.sk-toggleable__label {background-color: #d4ebff;}#sk-container-id-1 div.sk-serial::before {content: \"\";position: absolute;border-left: 1px solid gray;box-sizing: border-box;top: 0;bottom: 0;left: 50%;z-index: 0;}#sk-container-id-1 div.sk-serial {display: flex;flex-direction: column;align-items: center;background-color: white;padding-right: 0.2em;padding-left: 0.2em;position: relative;}#sk-container-id-1 div.sk-item {position: relative;z-index: 1;}#sk-container-id-1 div.sk-parallel {display: flex;align-items: stretch;justify-content: center;background-color: white;position: relative;}#sk-container-id-1 div.sk-item::before, #sk-container-id-1 div.sk-parallel-item::before {content: \"\";position: absolute;border-left: 1px solid gray;box-sizing: border-box;top: 0;bottom: 0;left: 50%;z-index: -1;}#sk-container-id-1 div.sk-parallel-item {display: flex;flex-direction: column;z-index: 1;position: relative;background-color: white;}#sk-container-id-1 div.sk-parallel-item:first-child::after {align-self: flex-end;width: 50%;}#sk-container-id-1 div.sk-parallel-item:last-child::after {align-self: flex-start;width: 50%;}#sk-container-id-1 div.sk-parallel-item:only-child::after {width: 0;}#sk-container-id-1 div.sk-dashed-wrapped {border: 1px dashed gray;margin: 0 0.4em 0.5em 0.4em;box-sizing: border-box;padding-bottom: 0.4em;background-color: white;}#sk-container-id-1 div.sk-label label {font-family: monospace;font-weight: bold;display: inline-block;line-height: 1.2em;}#sk-container-id-1 div.sk-label-container {text-align: center;}#sk-container-id-1 div.sk-container {/* jupyter's `normalize.less` sets `[hidden] { display: none; }` but bootstrap.min.css set `[hidden] { display: none !important; }` so we also need the `!important` here to be able to override the default hidden behavior on the sphinx rendered scikit-learn.org. See: https://github.com/scikit-learn/scikit-learn/issues/21755 */display: inline-block !important;position: relative;}#sk-container-id-1 div.sk-text-repr-fallback {display: none;}</style><div id=\"sk-container-id-1\" class=\"sk-top-container\"><div class=\"sk-text-repr-fallback\"><pre>Pipeline(steps=[(&#x27;vect&#x27;, CountVectorizer()), (&#x27;tfidf&#x27;, TfidfTransformer()),\n",
       "                (&#x27;clf&#x27;, OneVsRestClassifier(estimator=MultinomialNB()))])</pre><b>In a Jupyter environment, please rerun this cell to show the HTML representation or trust the notebook. <br />On GitHub, the HTML representation is unable to render, please try loading this page with nbviewer.org.</b></div><div class=\"sk-container\" hidden><div class=\"sk-item sk-dashed-wrapped\"><div class=\"sk-label-container\"><div class=\"sk-label sk-toggleable\"><input class=\"sk-toggleable__control sk-hidden--visually\" id=\"sk-estimator-id-1\" type=\"checkbox\" ><label for=\"sk-estimator-id-1\" class=\"sk-toggleable__label sk-toggleable__label-arrow\">Pipeline</label><div class=\"sk-toggleable__content\"><pre>Pipeline(steps=[(&#x27;vect&#x27;, CountVectorizer()), (&#x27;tfidf&#x27;, TfidfTransformer()),\n",
       "                (&#x27;clf&#x27;, OneVsRestClassifier(estimator=MultinomialNB()))])</pre></div></div></div><div class=\"sk-serial\"><div class=\"sk-item\"><div class=\"sk-estimator sk-toggleable\"><input class=\"sk-toggleable__control sk-hidden--visually\" id=\"sk-estimator-id-2\" type=\"checkbox\" ><label for=\"sk-estimator-id-2\" class=\"sk-toggleable__label sk-toggleable__label-arrow\">CountVectorizer</label><div class=\"sk-toggleable__content\"><pre>CountVectorizer()</pre></div></div></div><div class=\"sk-item\"><div class=\"sk-estimator sk-toggleable\"><input class=\"sk-toggleable__control sk-hidden--visually\" id=\"sk-estimator-id-3\" type=\"checkbox\" ><label for=\"sk-estimator-id-3\" class=\"sk-toggleable__label sk-toggleable__label-arrow\">TfidfTransformer</label><div class=\"sk-toggleable__content\"><pre>TfidfTransformer()</pre></div></div></div><div class=\"sk-item sk-dashed-wrapped\"><div class=\"sk-label-container\"><div class=\"sk-label sk-toggleable\"><input class=\"sk-toggleable__control sk-hidden--visually\" id=\"sk-estimator-id-4\" type=\"checkbox\" ><label for=\"sk-estimator-id-4\" class=\"sk-toggleable__label sk-toggleable__label-arrow\">clf: OneVsRestClassifier</label><div class=\"sk-toggleable__content\"><pre>OneVsRestClassifier(estimator=MultinomialNB())</pre></div></div></div><div class=\"sk-parallel\"><div class=\"sk-parallel-item\"><div class=\"sk-item\"><div class=\"sk-label-container\"><div class=\"sk-label sk-toggleable\"><input class=\"sk-toggleable__control sk-hidden--visually\" id=\"sk-estimator-id-5\" type=\"checkbox\" ><label for=\"sk-estimator-id-5\" class=\"sk-toggleable__label sk-toggleable__label-arrow\">estimator: MultinomialNB</label><div class=\"sk-toggleable__content\"><pre>MultinomialNB()</pre></div></div></div><div class=\"sk-serial\"><div class=\"sk-item\"><div class=\"sk-estimator sk-toggleable\"><input class=\"sk-toggleable__control sk-hidden--visually\" id=\"sk-estimator-id-6\" type=\"checkbox\" ><label for=\"sk-estimator-id-6\" class=\"sk-toggleable__label sk-toggleable__label-arrow\">MultinomialNB</label><div class=\"sk-toggleable__content\"><pre>MultinomialNB()</pre></div></div></div></div></div></div></div></div></div></div></div></div>"
      ],
      "text/plain": [
       "Pipeline(steps=[('vect', CountVectorizer()), ('tfidf', TfidfTransformer()),\n",
       "                ('clf', OneVsRestClassifier(estimator=MultinomialNB()))])"
      ]
     },
     "execution_count": 12,
     "metadata": {},
     "output_type": "execute_result"
    }
   ],
   "source": [
    "clf_pipeline.fit(X_train, y_train_binarized)"
   ]
  },
  {
   "cell_type": "code",
   "execution_count": 13,
   "metadata": {
    "tags": []
   },
   "outputs": [],
   "source": [
    "predicted_dev = clf_pipeline.predict(X_devtest)"
   ]
  },
  {
   "cell_type": "markdown",
   "metadata": {
    "tags": []
   },
   "source": [
    "### Peformance\n",
    "\n",
    "Calculate performance metrics for the Multinomial Naive Bayes classifier"
   ]
  },
  {
   "cell_type": "code",
   "execution_count": 14,
   "metadata": {
    "tags": []
   },
   "outputs": [
    {
     "name": "stdout",
     "output_type": "stream",
     "text": [
      "Dev Test Accuracy: 0.9769392033542977\n"
     ]
    }
   ],
   "source": [
    "print(\"Dev Test Accuracy:\", np.mean(predicted_dev == y_devtest_binarized))"
   ]
  },
  {
   "cell_type": "code",
   "execution_count": 15,
   "metadata": {
    "collapsed": true,
    "jupyter": {
     "outputs_hidden": true
    },
    "tags": []
   },
   "outputs": [
    {
     "name": "stdout",
     "output_type": "stream",
     "text": [
      "[0 1 2 3 4 5 6 7 8]\n",
      "[0 2 3 4 5 6 7 8 9]\n"
     ]
    }
   ],
   "source": [
    "classes = clf_pipeline.classes_\n",
    "print(classes)\n",
    "original_classes = mlb.classes_\n",
    "print(original_classes)"
   ]
  },
  {
   "cell_type": "markdown",
   "metadata": {
    "tags": []
   },
   "source": [
    "Plot a [confusion matrix](https://scikit-learn.org/stable/modules/model_evaluation.html#multilabel-confusion-matrix) of the results, where, for class *i*:\n",
    "* Count of true negatives (TN) is at position *i*,0,0\n",
    "* Count of false negatives (FN) is at position *i*,1,0\n",
    "* Count of true positives (FP) is at position *i*,1,1\n",
    "* Count of false positives (PF) is at position *i*,0,1"
   ]
  },
  {
   "cell_type": "code",
   "execution_count": 16,
   "metadata": {
    "tags": []
   },
   "outputs": [
    {
     "data": {
      "text/html": [
       "<div>\n",
       "<style scoped>\n",
       "    .dataframe tbody tr th:only-of-type {\n",
       "        vertical-align: middle;\n",
       "    }\n",
       "\n",
       "    .dataframe tbody tr th {\n",
       "        vertical-align: top;\n",
       "    }\n",
       "\n",
       "    .dataframe thead th {\n",
       "        text-align: right;\n",
       "    }\n",
       "</style>\n",
       "<table border=\"1\" class=\"dataframe\">\n",
       "  <thead>\n",
       "    <tr style=\"text-align: right;\">\n",
       "      <th></th>\n",
       "      <th>labels</th>\n",
       "      <th>true_neg</th>\n",
       "      <th>false_neg</th>\n",
       "      <th>true_pos</th>\n",
       "      <th>false_pos</th>\n",
       "      <th>precision</th>\n",
       "      <th>recall</th>\n",
       "      <th>f_1</th>\n",
       "    </tr>\n",
       "  </thead>\n",
       "  <tbody>\n",
       "    <tr>\n",
       "      <th>0</th>\n",
       "      <td>Unknown</td>\n",
       "      <td>0</td>\n",
       "      <td>0</td>\n",
       "      <td>365</td>\n",
       "      <td>6</td>\n",
       "      <td>0.983827</td>\n",
       "      <td>1.000000</td>\n",
       "      <td>0.991848</td>\n",
       "    </tr>\n",
       "    <tr>\n",
       "      <th>1</th>\n",
       "      <td>Feminine</td>\n",
       "      <td>367</td>\n",
       "      <td>4</td>\n",
       "      <td>0</td>\n",
       "      <td>0</td>\n",
       "      <td>0.000000</td>\n",
       "      <td>0.000000</td>\n",
       "      <td>0.000000</td>\n",
       "    </tr>\n",
       "    <tr>\n",
       "      <th>2</th>\n",
       "      <td>Masculine</td>\n",
       "      <td>348</td>\n",
       "      <td>5</td>\n",
       "      <td>18</td>\n",
       "      <td>0</td>\n",
       "      <td>1.000000</td>\n",
       "      <td>0.782609</td>\n",
       "      <td>0.878049</td>\n",
       "    </tr>\n",
       "    <tr>\n",
       "      <th>3</th>\n",
       "      <td>Generalization</td>\n",
       "      <td>357</td>\n",
       "      <td>8</td>\n",
       "      <td>3</td>\n",
       "      <td>3</td>\n",
       "      <td>0.500000</td>\n",
       "      <td>0.272727</td>\n",
       "      <td>0.352941</td>\n",
       "    </tr>\n",
       "    <tr>\n",
       "      <th>4</th>\n",
       "      <td>Gendered-Pronoun</td>\n",
       "      <td>352</td>\n",
       "      <td>1</td>\n",
       "      <td>18</td>\n",
       "      <td>0</td>\n",
       "      <td>1.000000</td>\n",
       "      <td>0.947368</td>\n",
       "      <td>0.972973</td>\n",
       "    </tr>\n",
       "    <tr>\n",
       "      <th>5</th>\n",
       "      <td>Gendered-Role</td>\n",
       "      <td>357</td>\n",
       "      <td>13</td>\n",
       "      <td>1</td>\n",
       "      <td>0</td>\n",
       "      <td>1.000000</td>\n",
       "      <td>0.071429</td>\n",
       "      <td>0.133333</td>\n",
       "    </tr>\n",
       "    <tr>\n",
       "      <th>6</th>\n",
       "      <td>Occupation</td>\n",
       "      <td>346</td>\n",
       "      <td>6</td>\n",
       "      <td>17</td>\n",
       "      <td>2</td>\n",
       "      <td>0.894737</td>\n",
       "      <td>0.739130</td>\n",
       "      <td>0.809524</td>\n",
       "    </tr>\n",
       "    <tr>\n",
       "      <th>7</th>\n",
       "      <td>Omission</td>\n",
       "      <td>354</td>\n",
       "      <td>16</td>\n",
       "      <td>1</td>\n",
       "      <td>0</td>\n",
       "      <td>1.000000</td>\n",
       "      <td>0.058824</td>\n",
       "      <td>0.111111</td>\n",
       "    </tr>\n",
       "    <tr>\n",
       "      <th>8</th>\n",
       "      <td>Stereotype</td>\n",
       "      <td>358</td>\n",
       "      <td>13</td>\n",
       "      <td>0</td>\n",
       "      <td>0</td>\n",
       "      <td>0.000000</td>\n",
       "      <td>0.000000</td>\n",
       "      <td>0.000000</td>\n",
       "    </tr>\n",
       "  </tbody>\n",
       "</table>\n",
       "</div>"
      ],
      "text/plain": [
       "             labels  true_neg  false_neg  true_pos  false_pos  precision  \\\n",
       "0           Unknown         0          0       365          6   0.983827   \n",
       "1          Feminine       367          4         0          0   0.000000   \n",
       "2         Masculine       348          5        18          0   1.000000   \n",
       "3    Generalization       357          8         3          3   0.500000   \n",
       "4  Gendered-Pronoun       352          1        18          0   1.000000   \n",
       "5     Gendered-Role       357         13         1          0   1.000000   \n",
       "6        Occupation       346          6        17          2   0.894737   \n",
       "7          Omission       354         16         1          0   1.000000   \n",
       "8        Stereotype       358         13         0          0   0.000000   \n",
       "\n",
       "     recall       f_1  \n",
       "0  1.000000  0.991848  \n",
       "1  0.000000  0.000000  \n",
       "2  0.782609  0.878049  \n",
       "3  0.272727  0.352941  \n",
       "4  0.947368  0.972973  \n",
       "5  0.071429  0.133333  \n",
       "6  0.739130  0.809524  \n",
       "7  0.058824  0.111111  \n",
       "8  0.000000  0.000000  "
      ]
     },
     "execution_count": 16,
     "metadata": {},
     "output_type": "execute_result"
    }
   ],
   "source": [
    "dev_matrix = multilabel_confusion_matrix(y_devtest_binarized, predicted_dev, labels=classes)\n",
    "df_dev = utils.getPerformanceMetrics(y_devtest_binarized, predicted_dev, dev_matrix, classes, original_classes)\n",
    "df_dev"
   ]
  },
  {
   "cell_type": "code",
   "execution_count": 17,
   "metadata": {
    "collapsed": true,
    "jupyter": {
     "outputs_hidden": true
    },
    "tags": []
   },
   "outputs": [
    {
     "data": {
      "image/png": "[encoded data removed]",
      "text/plain": [
       "<Figure size 640x480 with 2 Axes>"
      ]
     },
     "metadata": {},
     "output_type": "display_data"
    }
   ],
   "source": [
    "ax = sns.heatmap(dev_matrix[0], annot=True, fmt=\"d\")"
   ]
  },
  {
   "cell_type": "code",
   "execution_count": 18,
   "metadata": {
    "tags": []
   },
   "outputs": [],
   "source": [
    "df_dev.to_csv(metrics_dir+\"MultinomialNB_dev_performance.csv\")"
   ]
  },
  {
   "cell_type": "markdown",
   "metadata": {},
   "source": [
    "<a id=\"log\"></a>\n",
    "### Classifier 2: Logistic Regression\n",
    "\n",
    "*a.k.a. maximum-entropy (MaxEnt) or log-linear classification*"
   ]
  },
  {
   "cell_type": "code",
   "execution_count": 23,
   "metadata": {},
   "outputs": [],
   "source": [
    "clf_pipeline = Pipeline([\n",
    "    (\"vect\", CountVectorizer()),\n",
    "    (\"tfidf\", TfidfTransformer()),\n",
    "    (\"clf\", OneVsRestClassifier(LogisticRegression(solver=\"liblinear\", multi_class=\"ovr\")))\n",
    "    ])"
   ]
  },
  {
   "cell_type": "code",
   "execution_count": 24,
   "metadata": {},
   "outputs": [],
   "source": [
    "clf_pipeline.fit(X_train, y_train_binarized)\n",
    "predicted_dev = clf_pipeline.predict(X_devtest)"
   ]
  },
  {
   "cell_type": "markdown",
   "metadata": {},
   "source": [
    "### Performance\n",
    "\n",
    "Calculate performance metrics for the Logistic Regression classifier"
   ]
  },
  {
   "cell_type": "code",
   "execution_count": 25,
   "metadata": {},
   "outputs": [
    {
     "name": "stdout",
     "output_type": "stream",
     "text": [
      "Dev Test Accuracy: 0.9841269841269841\n"
     ]
    }
   ],
   "source": [
    "print(\"Dev Test Accuracy:\", np.mean(predicted_dev == y_devtest_binarized))"
   ]
  },
  {
   "cell_type": "code",
   "execution_count": 26,
   "metadata": {},
   "outputs": [],
   "source": [
    "classes = clf_pipeline.classes_\n",
    "original_classes = mlb.classes_"
   ]
  },
  {
   "cell_type": "code",
   "execution_count": 27,
   "metadata": {},
   "outputs": [],
   "source": [
    "dev_matrix = multilabel_confusion_matrix(y_devtest_binarized, predicted_dev, labels=classes)"
   ]
  },
  {
   "cell_type": "code",
   "execution_count": 28,
   "metadata": {},
   "outputs": [
    {
     "data": {
      "text/html": [
       "<div>\n",
       "<style scoped>\n",
       "    .dataframe tbody tr th:only-of-type {\n",
       "        vertical-align: middle;\n",
       "    }\n",
       "\n",
       "    .dataframe tbody tr th {\n",
       "        vertical-align: top;\n",
       "    }\n",
       "\n",
       "    .dataframe thead th {\n",
       "        text-align: right;\n",
       "    }\n",
       "</style>\n",
       "<table border=\"1\" class=\"dataframe\">\n",
       "  <thead>\n",
       "    <tr style=\"text-align: right;\">\n",
       "      <th></th>\n",
       "      <th>labels</th>\n",
       "      <th>true_neg</th>\n",
       "      <th>false_neg</th>\n",
       "      <th>true_pos</th>\n",
       "      <th>false_pos</th>\n",
       "      <th>precision</th>\n",
       "      <th>recall</th>\n",
       "      <th>f_1</th>\n",
       "    </tr>\n",
       "  </thead>\n",
       "  <tbody>\n",
       "    <tr>\n",
       "      <th>0</th>\n",
       "      <td>Unknown</td>\n",
       "      <td>0</td>\n",
       "      <td>0</td>\n",
       "      <td>365</td>\n",
       "      <td>6</td>\n",
       "      <td>0.983827</td>\n",
       "      <td>1.000000</td>\n",
       "      <td>0.991848</td>\n",
       "    </tr>\n",
       "    <tr>\n",
       "      <th>1</th>\n",
       "      <td>Feminine</td>\n",
       "      <td>367</td>\n",
       "      <td>4</td>\n",
       "      <td>0</td>\n",
       "      <td>0</td>\n",
       "      <td>0.000000</td>\n",
       "      <td>0.000000</td>\n",
       "      <td>0.000000</td>\n",
       "    </tr>\n",
       "    <tr>\n",
       "      <th>2</th>\n",
       "      <td>Masculine</td>\n",
       "      <td>348</td>\n",
       "      <td>5</td>\n",
       "      <td>18</td>\n",
       "      <td>0</td>\n",
       "      <td>1.000000</td>\n",
       "      <td>0.782609</td>\n",
       "      <td>0.878049</td>\n",
       "    </tr>\n",
       "    <tr>\n",
       "      <th>3</th>\n",
       "      <td>Generalization</td>\n",
       "      <td>356</td>\n",
       "      <td>1</td>\n",
       "      <td>10</td>\n",
       "      <td>4</td>\n",
       "      <td>0.714286</td>\n",
       "      <td>0.909091</td>\n",
       "      <td>0.800000</td>\n",
       "    </tr>\n",
       "    <tr>\n",
       "      <th>4</th>\n",
       "      <td>Gendered-Pronoun</td>\n",
       "      <td>352</td>\n",
       "      <td>1</td>\n",
       "      <td>18</td>\n",
       "      <td>0</td>\n",
       "      <td>1.000000</td>\n",
       "      <td>0.947368</td>\n",
       "      <td>0.972973</td>\n",
       "    </tr>\n",
       "    <tr>\n",
       "      <th>5</th>\n",
       "      <td>Gendered-Role</td>\n",
       "      <td>355</td>\n",
       "      <td>5</td>\n",
       "      <td>9</td>\n",
       "      <td>2</td>\n",
       "      <td>0.818182</td>\n",
       "      <td>0.642857</td>\n",
       "      <td>0.720000</td>\n",
       "    </tr>\n",
       "    <tr>\n",
       "      <th>6</th>\n",
       "      <td>Occupation</td>\n",
       "      <td>347</td>\n",
       "      <td>5</td>\n",
       "      <td>18</td>\n",
       "      <td>1</td>\n",
       "      <td>0.947368</td>\n",
       "      <td>0.782609</td>\n",
       "      <td>0.857143</td>\n",
       "    </tr>\n",
       "    <tr>\n",
       "      <th>7</th>\n",
       "      <td>Omission</td>\n",
       "      <td>351</td>\n",
       "      <td>10</td>\n",
       "      <td>7</td>\n",
       "      <td>3</td>\n",
       "      <td>0.700000</td>\n",
       "      <td>0.411765</td>\n",
       "      <td>0.518519</td>\n",
       "    </tr>\n",
       "    <tr>\n",
       "      <th>8</th>\n",
       "      <td>Stereotype</td>\n",
       "      <td>356</td>\n",
       "      <td>4</td>\n",
       "      <td>9</td>\n",
       "      <td>2</td>\n",
       "      <td>0.818182</td>\n",
       "      <td>0.692308</td>\n",
       "      <td>0.750000</td>\n",
       "    </tr>\n",
       "  </tbody>\n",
       "</table>\n",
       "</div>"
      ],
      "text/plain": [
       "             labels  true_neg  false_neg  true_pos  false_pos  precision  \\\n",
       "0           Unknown         0          0       365          6   0.983827   \n",
       "1          Feminine       367          4         0          0   0.000000   \n",
       "2         Masculine       348          5        18          0   1.000000   \n",
       "3    Generalization       356          1        10          4   0.714286   \n",
       "4  Gendered-Pronoun       352          1        18          0   1.000000   \n",
       "5     Gendered-Role       355          5         9          2   0.818182   \n",
       "6        Occupation       347          5        18          1   0.947368   \n",
       "7          Omission       351         10         7          3   0.700000   \n",
       "8        Stereotype       356          4         9          2   0.818182   \n",
       "\n",
       "     recall       f_1  \n",
       "0  1.000000  0.991848  \n",
       "1  0.000000  0.000000  \n",
       "2  0.782609  0.878049  \n",
       "3  0.909091  0.800000  \n",
       "4  0.947368  0.972973  \n",
       "5  0.642857  0.720000  \n",
       "6  0.782609  0.857143  \n",
       "7  0.411765  0.518519  \n",
       "8  0.692308  0.750000  "
      ]
     },
     "execution_count": 28,
     "metadata": {},
     "output_type": "execute_result"
    }
   ],
   "source": [
    "df_dev = utils.getPerformanceMetrics(y_devtest_binarized, predicted_dev, dev_matrix, classes, original_classes)\n",
    "df_dev"
   ]
  },
  {
   "cell_type": "code",
   "execution_count": 25,
   "metadata": {
    "collapsed": true,
    "jupyter": {
     "outputs_hidden": true
    },
    "tags": []
   },
   "outputs": [
    {
     "data": {
      "image/png": "[encoded data removed]",
      "text/plain": [
       "<Figure size 640x480 with 2 Axes>"
      ]
     },
     "metadata": {},
     "output_type": "display_data"
    }
   ],
   "source": [
    "ax = sns.heatmap(dev_matrix[8], annot=True, fmt=\"d\")"
   ]
  },
  {
   "cell_type": "markdown",
   "metadata": {},
   "source": [
    "This classifier performs better than the first classifier (Multinomial Naive Bayes) and third classifier (Random Forest)."
   ]
  },
  {
   "cell_type": "code",
   "execution_count": 26,
   "metadata": {
    "tags": []
   },
   "outputs": [],
   "source": [
    "df_dev.to_csv(metrics_dir+\"LogisticRegression_dev_performance.csv\")"
   ]
  },
  {
   "cell_type": "markdown",
   "metadata": {},
   "source": [
    "<a id=\"ran\"></a>\n",
    "### Classifier 3: Random Forest"
   ]
  },
  {
   "cell_type": "code",
   "execution_count": 27,
   "metadata": {
    "tags": []
   },
   "outputs": [],
   "source": [
    "clf_pipeline = Pipeline([\n",
    "    (\"vect\", CountVectorizer()),\n",
    "    (\"tfidf\", TfidfTransformer()),\n",
    "    (\"clf\", OneVsRestClassifier(RandomForestClassifier(max_depth=3, random_state=0)))\n",
    "    ])"
   ]
  },
  {
   "cell_type": "code",
   "execution_count": 28,
   "metadata": {
    "tags": []
   },
   "outputs": [],
   "source": [
    "clf_pipeline.fit(X_train, y_train_binarized)\n",
    "predicted_dev = clf_pipeline.predict(X_devtest)"
   ]
  },
  {
   "cell_type": "code",
   "execution_count": 29,
   "metadata": {
    "tags": []
   },
   "outputs": [],
   "source": [
    "classes = clf_pipeline.classes_\n",
    "original_classes = mlb.classes_"
   ]
  },
  {
   "cell_type": "code",
   "execution_count": 30,
   "metadata": {
    "tags": []
   },
   "outputs": [
    {
     "name": "stdout",
     "output_type": "stream",
     "text": [
      "Dev Test Accuracy: 0.9772386942198263\n"
     ]
    }
   ],
   "source": [
    "print(\"Dev Test Accuracy:\", np.mean(predicted_dev == y_devtest_binarized))"
   ]
  },
  {
   "cell_type": "code",
   "execution_count": 31,
   "metadata": {
    "tags": []
   },
   "outputs": [
    {
     "data": {
      "text/html": [
       "<div>\n",
       "<style scoped>\n",
       "    .dataframe tbody tr th:only-of-type {\n",
       "        vertical-align: middle;\n",
       "    }\n",
       "\n",
       "    .dataframe tbody tr th {\n",
       "        vertical-align: top;\n",
       "    }\n",
       "\n",
       "    .dataframe thead th {\n",
       "        text-align: right;\n",
       "    }\n",
       "</style>\n",
       "<table border=\"1\" class=\"dataframe\">\n",
       "  <thead>\n",
       "    <tr style=\"text-align: right;\">\n",
       "      <th></th>\n",
       "      <th>labels</th>\n",
       "      <th>true_neg</th>\n",
       "      <th>false_neg</th>\n",
       "      <th>true_pos</th>\n",
       "      <th>false_pos</th>\n",
       "      <th>precision</th>\n",
       "      <th>recall</th>\n",
       "      <th>f_1</th>\n",
       "    </tr>\n",
       "  </thead>\n",
       "  <tbody>\n",
       "    <tr>\n",
       "      <th>0</th>\n",
       "      <td>Unknown</td>\n",
       "      <td>0</td>\n",
       "      <td>0</td>\n",
       "      <td>365</td>\n",
       "      <td>6</td>\n",
       "      <td>0.983827</td>\n",
       "      <td>1.000000</td>\n",
       "      <td>0.991848</td>\n",
       "    </tr>\n",
       "    <tr>\n",
       "      <th>1</th>\n",
       "      <td>Feminine</td>\n",
       "      <td>367</td>\n",
       "      <td>4</td>\n",
       "      <td>0</td>\n",
       "      <td>0</td>\n",
       "      <td>0.000000</td>\n",
       "      <td>0.000000</td>\n",
       "      <td>0.000000</td>\n",
       "    </tr>\n",
       "    <tr>\n",
       "      <th>2</th>\n",
       "      <td>Masculine</td>\n",
       "      <td>348</td>\n",
       "      <td>10</td>\n",
       "      <td>13</td>\n",
       "      <td>0</td>\n",
       "      <td>1.000000</td>\n",
       "      <td>0.565217</td>\n",
       "      <td>0.722222</td>\n",
       "    </tr>\n",
       "    <tr>\n",
       "      <th>3</th>\n",
       "      <td>Generalization</td>\n",
       "      <td>357</td>\n",
       "      <td>5</td>\n",
       "      <td>6</td>\n",
       "      <td>3</td>\n",
       "      <td>0.666667</td>\n",
       "      <td>0.545455</td>\n",
       "      <td>0.600000</td>\n",
       "    </tr>\n",
       "    <tr>\n",
       "      <th>4</th>\n",
       "      <td>Gendered-Pronoun</td>\n",
       "      <td>352</td>\n",
       "      <td>6</td>\n",
       "      <td>13</td>\n",
       "      <td>0</td>\n",
       "      <td>1.000000</td>\n",
       "      <td>0.684211</td>\n",
       "      <td>0.812500</td>\n",
       "    </tr>\n",
       "    <tr>\n",
       "      <th>5</th>\n",
       "      <td>Gendered-Role</td>\n",
       "      <td>357</td>\n",
       "      <td>12</td>\n",
       "      <td>2</td>\n",
       "      <td>0</td>\n",
       "      <td>1.000000</td>\n",
       "      <td>0.142857</td>\n",
       "      <td>0.250000</td>\n",
       "    </tr>\n",
       "    <tr>\n",
       "      <th>6</th>\n",
       "      <td>Occupation</td>\n",
       "      <td>348</td>\n",
       "      <td>10</td>\n",
       "      <td>13</td>\n",
       "      <td>0</td>\n",
       "      <td>1.000000</td>\n",
       "      <td>0.565217</td>\n",
       "      <td>0.722222</td>\n",
       "    </tr>\n",
       "    <tr>\n",
       "      <th>7</th>\n",
       "      <td>Omission</td>\n",
       "      <td>354</td>\n",
       "      <td>14</td>\n",
       "      <td>3</td>\n",
       "      <td>0</td>\n",
       "      <td>1.000000</td>\n",
       "      <td>0.176471</td>\n",
       "      <td>0.300000</td>\n",
       "    </tr>\n",
       "    <tr>\n",
       "      <th>8</th>\n",
       "      <td>Stereotype</td>\n",
       "      <td>358</td>\n",
       "      <td>6</td>\n",
       "      <td>7</td>\n",
       "      <td>0</td>\n",
       "      <td>1.000000</td>\n",
       "      <td>0.538462</td>\n",
       "      <td>0.700000</td>\n",
       "    </tr>\n",
       "  </tbody>\n",
       "</table>\n",
       "</div>"
      ],
      "text/plain": [
       "             labels  true_neg  false_neg  true_pos  false_pos  precision  \\\n",
       "0           Unknown         0          0       365          6   0.983827   \n",
       "1          Feminine       367          4         0          0   0.000000   \n",
       "2         Masculine       348         10        13          0   1.000000   \n",
       "3    Generalization       357          5         6          3   0.666667   \n",
       "4  Gendered-Pronoun       352          6        13          0   1.000000   \n",
       "5     Gendered-Role       357         12         2          0   1.000000   \n",
       "6        Occupation       348         10        13          0   1.000000   \n",
       "7          Omission       354         14         3          0   1.000000   \n",
       "8        Stereotype       358          6         7          0   1.000000   \n",
       "\n",
       "     recall       f_1  \n",
       "0  1.000000  0.991848  \n",
       "1  0.000000  0.000000  \n",
       "2  0.565217  0.722222  \n",
       "3  0.545455  0.600000  \n",
       "4  0.684211  0.812500  \n",
       "5  0.142857  0.250000  \n",
       "6  0.565217  0.722222  \n",
       "7  0.176471  0.300000  \n",
       "8  0.538462  0.700000  "
      ]
     },
     "execution_count": 31,
     "metadata": {},
     "output_type": "execute_result"
    }
   ],
   "source": [
    "dev_matrix = multilabel_confusion_matrix(y_devtest_binarized, predicted_dev, labels=classes)\n",
    "df_dev = utils.getPerformanceMetrics(y_devtest_binarized, predicted_dev, dev_matrix, classes, original_classes)\n",
    "df_dev"
   ]
  },
  {
   "cell_type": "code",
   "execution_count": 32,
   "metadata": {
    "tags": []
   },
   "outputs": [],
   "source": [
    "dev_matrix = multilabel_confusion_matrix(y_devtest_binarized, predicted_dev, labels=classes)"
   ]
  },
  {
   "cell_type": "code",
   "execution_count": 33,
   "metadata": {
    "collapsed": true,
    "jupyter": {
     "outputs_hidden": true
    },
    "tags": []
   },
   "outputs": [
    {
     "data": {
      "image/png": "[encoded data removed]",
      "text/plain": [
       "<Figure size 640x480 with 2 Axes>"
      ]
     },
     "metadata": {},
     "output_type": "display_data"
    }
   ],
   "source": [
    "ax = sns.heatmap(dev_matrix[0], annot=True, fmt=\"d\")"
   ]
  },
  {
   "cell_type": "markdown",
   "metadata": {},
   "source": [
    "This classifier performs better than Multinomial Naive Bayes and worse than Logistic Regression."
   ]
  },
  {
   "cell_type": "code",
   "execution_count": 34,
   "metadata": {
    "tags": []
   },
   "outputs": [],
   "source": [
    "df_dev.to_csv(metrics_dir+\"RandomForest_dev_performance.csv\")"
   ]
  },
  {
   "cell_type": "markdown",
   "metadata": {},
   "source": [
    "<a id=\"err\"></a>\n",
    "## Logistic Regression Error Analysis\n",
    "\n",
    "Error analysis of the **Logistic Regression** classifier, as this is the top-performing baseline classification model."
   ]
  },
  {
   "cell_type": "code",
   "execution_count": 29,
   "metadata": {},
   "outputs": [],
   "source": [
    "# Associate classes to numeric labels to strings of label names\n",
    "label_class_to_no = dict(zip(classes,original_classes))\n",
    "labels = {\n",
    "    \"Unknown\": 0, \"Non-binary\": 1, \"Feminine\": 2, \"Masculine\": 3,\n",
    "    \"Generalization\": 4, \"Gendered-Pronoun\": 5, \"Gendered-Role\": 6,\n",
    "    \"Occupation\": 7, \"Omission\":8, \"Stereotype\": 9, \"Empowering\": 10\n",
    "         }\n",
    "label_no_to_name = dict(zip(list(labels.values()), list(labels.keys())))"
   ]
  },
  {
   "cell_type": "markdown",
   "metadata": {},
   "source": [
    "#### Dev Data Confusion Matrices"
   ]
  },
  {
   "cell_type": "code",
   "execution_count": 30,
   "metadata": {},
   "outputs": [],
   "source": [
    "matrices = dict()  # keys are labels, values are 2D arrays \n",
    "for col in range(len(classes)):\n",
    "    y_test_label = y_devtest_binarized[:, col]\n",
    "    pred_label = predicted_dev[:, col]\n",
    "    \n",
    "    matrices[classes[col]] = confusion_matrix(pred_label, y_test_label, normalize=\"all\")"
   ]
  },
  {
   "cell_type": "code",
   "execution_count": 31,
   "metadata": {},
   "outputs": [],
   "source": [
    "png_dir = metrics_dir+\"logreg_dev_confusion_matrices/\"\n",
    "Path(png_dir).mkdir(parents=True, exist_ok=True)"
   ]
  },
  {
   "cell_type": "code",
   "execution_count": 32,
   "metadata": {
    "collapsed": true,
    "jupyter": {
     "outputs_hidden": true
    },
    "tags": []
   },
   "outputs": [
    {
     "data": {
      "image/png": "[encoded data removed]",
      "text/plain": [
       "<Figure size 640x480 with 2 Axes>"
      ]
     },
     "metadata": {},
     "output_type": "display_data"
    },
    {
     "data": {
      "image/png": "[encoded data removed]",
      "text/plain": [
       "<Figure size 640x480 with 2 Axes>"
      ]
     },
     "metadata": {},
     "output_type": "display_data"
    },
    {
     "data": {
      "image/png": "[encoded data removed]",
      "text/plain": [
       "<Figure size 640x480 with 2 Axes>"
      ]
     },
     "metadata": {},
     "output_type": "display_data"
    },
    {
     "data": {
      "image/png": "[encoded data removed]",
      "text/plain": [
       "<Figure size 640x480 with 2 Axes>"
      ]
     },
     "metadata": {},
     "output_type": "display_data"
    },
    {
     "data": {
      "image/png": "[encoded data removed]",
      "text/plain": [
       "<Figure size 640x480 with 2 Axes>"
      ]
     },
     "metadata": {},
     "output_type": "display_data"
    },
    {
     "data": {
      "image/png": "[encoded data removed]",
      "text/plain": [
       "<Figure size 640x480 with 2 Axes>"
      ]
     },
     "metadata": {},
     "output_type": "display_data"
    },
    {
     "data": {
      "image/png": "[encoded data removed]",
      "text/plain": [
       "<Figure size 640x480 with 2 Axes>"
      ]
     },
     "metadata": {},
     "output_type": "display_data"
    },
    {
     "data": {
      "image/png": "[encoded data removed]",
      "text/plain": [
       "<Figure size 640x480 with 2 Axes>"
      ]
     },
     "metadata": {},
     "output_type": "display_data"
    },
    {
     "data": {
      "image/png": "[encoded data removed]",
      "text/plain": [
       "<Figure size 640x480 with 2 Axes>"
      ]
     },
     "metadata": {},
     "output_type": "display_data"
    }
   ],
   "source": [
    "for label_class,matrix in matrices.items():\n",
    "    label_name = label_no_to_name[label_class_to_no[label_class]]\n",
    "    filename = \"{}_cmatrix_normalized_all.png\".format(label_name)\n",
    "    ConfusionMatrixDisplay(matrix, display_labels=[\"Not \"+label_name,label_name]).plot()\n",
    "    plt.savefig(png_dir+filename)"
   ]
  },
  {
   "cell_type": "markdown",
   "metadata": {},
   "source": [
    "Convert predicted dev labels back to text:"
   ]
  },
  {
   "cell_type": "code",
   "execution_count": 42,
   "metadata": {},
   "outputs": [
    {
     "data": {
      "text/plain": [
       "array([1, 0, 1, 1, 1, 1, 1, 1, 1])"
      ]
     },
     "execution_count": 42,
     "metadata": {},
     "output_type": "execute_result"
    }
   ],
   "source": [
    "predicted_dev[0]"
   ]
  },
  {
   "cell_type": "code",
   "execution_count": 43,
   "metadata": {},
   "outputs": [
    {
     "data": {
      "text/plain": [
       "(0, 3, 4, 5, 6, 7, 8, 9)"
      ]
     },
     "execution_count": 43,
     "metadata": {},
     "output_type": "execute_result"
    }
   ],
   "source": [
    "pred_dev_numeric_labels = mlb.inverse_transform(predicted_dev)\n",
    "pred_dev_numeric_labels[0]"
   ]
  },
  {
   "cell_type": "code",
   "execution_count": 44,
   "metadata": {},
   "outputs": [],
   "source": [
    "labels = {\n",
    "    \"Unknown\": 0, \"Non-binary\": 1, \"Feminine\": 2, \"Masculine\": 3,\n",
    "    \"Generalization\": 4, \"Gendered-Pronoun\": 5, \"Gendered-Role\": 6,\n",
    "    \"Occupation\": 7, \"Omission\":8, \"Stereotype\": 9, \"Empowering\": 10\n",
    "         }\n",
    "inverse_labels = dict(zip(list(labels.values()), list(labels.keys())))\n",
    "# print(inverse_labels)\n",
    "pred_dev_labels = []\n",
    "for number_list in pred_dev_numeric_labels:\n",
    "    label_list = [inverse_labels[n] for n in number_list]\n",
    "    pred_dev_labels += [label_list]\n",
    "    \n",
    "assert(len(pred_dev_labels) == len(pred_dev_numeric_labels))\n",
    "assert(len(pred_dev_labels) == len(predicted_dev))"
   ]
  },
  {
   "cell_type": "markdown",
   "metadata": {},
   "source": [
    "Add the classifier's labels to the `aggregated_validate.csv` DataFrame of descriptions to facilitate error analysis:"
   ]
  },
  {
   "cell_type": "code",
   "execution_count": 46,
   "metadata": {},
   "outputs": [
    {
     "data": {
      "text/html": [
       "<div>\n",
       "<style scoped>\n",
       "    .dataframe tbody tr th:only-of-type {\n",
       "        vertical-align: middle;\n",
       "    }\n",
       "\n",
       "    .dataframe tbody tr th {\n",
       "        vertical-align: top;\n",
       "    }\n",
       "\n",
       "    .dataframe thead th {\n",
       "        text-align: right;\n",
       "    }\n",
       "</style>\n",
       "<table border=\"1\" class=\"dataframe\">\n",
       "  <thead>\n",
       "    <tr style=\"text-align: right;\">\n",
       "      <th></th>\n",
       "      <th>description</th>\n",
       "      <th>field</th>\n",
       "      <th>label</th>\n",
       "      <th>eadid</th>\n",
       "      <th>desc_id</th>\n",
       "      <th>file</th>\n",
       "      <th>desc_start_offset</th>\n",
       "      <th>subset</th>\n",
       "      <th>desc_end_offset</th>\n",
       "    </tr>\n",
       "  </thead>\n",
       "  <tbody>\n",
       "    <tr>\n",
       "      <th>95</th>\n",
       "      <td>Charles Hedges was born in either 1649 or 1650...</td>\n",
       "      <td>Biographical / Historical</td>\n",
       "      <td>{'Gendered-Pronoun', 'Stereotype', 'Masculine'...</td>\n",
       "      <td>Coll-1138</td>\n",
       "      <td>71615</td>\n",
       "      <td>Coll-1138_00100.txt</td>\n",
       "      <td>350</td>\n",
       "      <td>dev</td>\n",
       "      <td>1828</td>\n",
       "    </tr>\n",
       "    <tr>\n",
       "      <th>6</th>\n",
       "      <td>John Smith Flett was born in Kirkwall, Orkney,...</td>\n",
       "      <td>Biographical / Historical</td>\n",
       "      <td>{'Gendered-Pronoun', 'Stereotype', 'Unknown', ...</td>\n",
       "      <td>Coll-100</td>\n",
       "      <td>31962</td>\n",
       "      <td>Coll-100_00100.txt</td>\n",
       "      <td>215</td>\n",
       "      <td>dev</td>\n",
       "      <td>2109</td>\n",
       "    </tr>\n",
       "    <tr>\n",
       "      <th>112</th>\n",
       "      <td>Patrick Geddes was born in Ballater, Aberdeens...</td>\n",
       "      <td>Biographical / Historical</td>\n",
       "      <td>{'Gendered-Pronoun', 'Stereotype', 'Unknown', ...</td>\n",
       "      <td>Coll-1159</td>\n",
       "      <td>29203</td>\n",
       "      <td>Coll-1159_00100.txt</td>\n",
       "      <td>675</td>\n",
       "      <td>dev</td>\n",
       "      <td>3086</td>\n",
       "    </tr>\n",
       "    <tr>\n",
       "      <th>152</th>\n",
       "      <td>Ian Wilmut is noted as the lead on this propos...</td>\n",
       "      <td>Biographical / Historical</td>\n",
       "      <td>{'Masculine', 'Unknown'}</td>\n",
       "      <td>Coll-1320</td>\n",
       "      <td>21144</td>\n",
       "      <td>Coll-1320_02000.txt</td>\n",
       "      <td>2665</td>\n",
       "      <td>dev</td>\n",
       "      <td>2723</td>\n",
       "    </tr>\n",
       "    <tr>\n",
       "      <th>16</th>\n",
       "      <td>John Baillie's secondary education was at Inve...</td>\n",
       "      <td>Biographical / Historical</td>\n",
       "      <td>{'Masculine', 'Unknown'}</td>\n",
       "      <td>Coll-1039</td>\n",
       "      <td>17548</td>\n",
       "      <td>Coll-1039_00100.txt</td>\n",
       "      <td>312</td>\n",
       "      <td>dev</td>\n",
       "      <td>379</td>\n",
       "    </tr>\n",
       "  </tbody>\n",
       "</table>\n",
       "</div>"
      ],
      "text/plain": [
       "                                           description  \\\n",
       "95   Charles Hedges was born in either 1649 or 1650...   \n",
       "6    John Smith Flett was born in Kirkwall, Orkney,...   \n",
       "112  Patrick Geddes was born in Ballater, Aberdeens...   \n",
       "152  Ian Wilmut is noted as the lead on this propos...   \n",
       "16   John Baillie's secondary education was at Inve...   \n",
       "\n",
       "                         field  \\\n",
       "95   Biographical / Historical   \n",
       "6    Biographical / Historical   \n",
       "112  Biographical / Historical   \n",
       "152  Biographical / Historical   \n",
       "16   Biographical / Historical   \n",
       "\n",
       "                                                 label      eadid  desc_id  \\\n",
       "95   {'Gendered-Pronoun', 'Stereotype', 'Masculine'...  Coll-1138    71615   \n",
       "6    {'Gendered-Pronoun', 'Stereotype', 'Unknown', ...   Coll-100    31962   \n",
       "112  {'Gendered-Pronoun', 'Stereotype', 'Unknown', ...  Coll-1159    29203   \n",
       "152                           {'Masculine', 'Unknown'}  Coll-1320    21144   \n",
       "16                            {'Masculine', 'Unknown'}  Coll-1039    17548   \n",
       "\n",
       "                    file  desc_start_offset subset  desc_end_offset  \n",
       "95   Coll-1138_00100.txt                350    dev             1828  \n",
       "6     Coll-100_00100.txt                215    dev             2109  \n",
       "112  Coll-1159_00100.txt                675    dev             3086  \n",
       "152  Coll-1320_02000.txt               2665    dev             2723  \n",
       "16   Coll-1039_00100.txt                312    dev              379  "
      ]
     },
     "execution_count": 46,
     "metadata": {},
     "output_type": "execute_result"
    }
   ],
   "source": [
    "validate_path = \"data/aggregated_data/splits/aggregated_validate.csv\"\n",
    "df_dev = pd.read_csv(validate_path, index_col=0)\n",
    "df_dev.head()"
   ]
  },
  {
   "cell_type": "code",
   "execution_count": 47,
   "metadata": {},
   "outputs": [],
   "source": [
    "df_dev = df_dev.rename(columns={\"label\":\"ann_label\"})"
   ]
  },
  {
   "cell_type": "code",
   "execution_count": 49,
   "metadata": {},
   "outputs": [
    {
     "data": {
      "text/html": [
       "<div>\n",
       "<style scoped>\n",
       "    .dataframe tbody tr th:only-of-type {\n",
       "        vertical-align: middle;\n",
       "    }\n",
       "\n",
       "    .dataframe tbody tr th {\n",
       "        vertical-align: top;\n",
       "    }\n",
       "\n",
       "    .dataframe thead th {\n",
       "        text-align: right;\n",
       "    }\n",
       "</style>\n",
       "<table border=\"1\" class=\"dataframe\">\n",
       "  <thead>\n",
       "    <tr style=\"text-align: right;\">\n",
       "      <th></th>\n",
       "      <th>description</th>\n",
       "      <th>field</th>\n",
       "      <th>ann_label</th>\n",
       "      <th>clf_label</th>\n",
       "      <th>eadid</th>\n",
       "      <th>desc_id</th>\n",
       "      <th>file</th>\n",
       "      <th>desc_start_offset</th>\n",
       "      <th>subset</th>\n",
       "      <th>desc_end_offset</th>\n",
       "    </tr>\n",
       "  </thead>\n",
       "  <tbody>\n",
       "    <tr>\n",
       "      <th>95</th>\n",
       "      <td>Charles Hedges was born in either 1649 or 1650...</td>\n",
       "      <td>Biographical / Historical</td>\n",
       "      <td>{'Gendered-Pronoun', 'Stereotype', 'Masculine'...</td>\n",
       "      <td>[Unknown, Masculine, Generalization, Gendered-...</td>\n",
       "      <td>Coll-1138</td>\n",
       "      <td>71615</td>\n",
       "      <td>Coll-1138_00100.txt</td>\n",
       "      <td>350</td>\n",
       "      <td>dev</td>\n",
       "      <td>1828</td>\n",
       "    </tr>\n",
       "    <tr>\n",
       "      <th>6</th>\n",
       "      <td>John Smith Flett was born in Kirkwall, Orkney,...</td>\n",
       "      <td>Biographical / Historical</td>\n",
       "      <td>{'Gendered-Pronoun', 'Stereotype', 'Unknown', ...</td>\n",
       "      <td>[Unknown, Masculine, Generalization, Gendered-...</td>\n",
       "      <td>Coll-100</td>\n",
       "      <td>31962</td>\n",
       "      <td>Coll-100_00100.txt</td>\n",
       "      <td>215</td>\n",
       "      <td>dev</td>\n",
       "      <td>2109</td>\n",
       "    </tr>\n",
       "    <tr>\n",
       "      <th>112</th>\n",
       "      <td>Patrick Geddes was born in Ballater, Aberdeens...</td>\n",
       "      <td>Biographical / Historical</td>\n",
       "      <td>{'Gendered-Pronoun', 'Stereotype', 'Unknown', ...</td>\n",
       "      <td>[Unknown, Masculine, Generalization, Gendered-...</td>\n",
       "      <td>Coll-1159</td>\n",
       "      <td>29203</td>\n",
       "      <td>Coll-1159_00100.txt</td>\n",
       "      <td>675</td>\n",
       "      <td>dev</td>\n",
       "      <td>3086</td>\n",
       "    </tr>\n",
       "    <tr>\n",
       "      <th>152</th>\n",
       "      <td>Ian Wilmut is noted as the lead on this propos...</td>\n",
       "      <td>Biographical / Historical</td>\n",
       "      <td>{'Masculine', 'Unknown'}</td>\n",
       "      <td>[Unknown]</td>\n",
       "      <td>Coll-1320</td>\n",
       "      <td>21144</td>\n",
       "      <td>Coll-1320_02000.txt</td>\n",
       "      <td>2665</td>\n",
       "      <td>dev</td>\n",
       "      <td>2723</td>\n",
       "    </tr>\n",
       "    <tr>\n",
       "      <th>16</th>\n",
       "      <td>John Baillie's secondary education was at Inve...</td>\n",
       "      <td>Biographical / Historical</td>\n",
       "      <td>{'Masculine', 'Unknown'}</td>\n",
       "      <td>[Unknown]</td>\n",
       "      <td>Coll-1039</td>\n",
       "      <td>17548</td>\n",
       "      <td>Coll-1039_00100.txt</td>\n",
       "      <td>312</td>\n",
       "      <td>dev</td>\n",
       "      <td>379</td>\n",
       "    </tr>\n",
       "  </tbody>\n",
       "</table>\n",
       "</div>"
      ],
      "text/plain": [
       "                                           description  \\\n",
       "95   Charles Hedges was born in either 1649 or 1650...   \n",
       "6    John Smith Flett was born in Kirkwall, Orkney,...   \n",
       "112  Patrick Geddes was born in Ballater, Aberdeens...   \n",
       "152  Ian Wilmut is noted as the lead on this propos...   \n",
       "16   John Baillie's secondary education was at Inve...   \n",
       "\n",
       "                         field  \\\n",
       "95   Biographical / Historical   \n",
       "6    Biographical / Historical   \n",
       "112  Biographical / Historical   \n",
       "152  Biographical / Historical   \n",
       "16   Biographical / Historical   \n",
       "\n",
       "                                             ann_label  \\\n",
       "95   {'Gendered-Pronoun', 'Stereotype', 'Masculine'...   \n",
       "6    {'Gendered-Pronoun', 'Stereotype', 'Unknown', ...   \n",
       "112  {'Gendered-Pronoun', 'Stereotype', 'Unknown', ...   \n",
       "152                           {'Masculine', 'Unknown'}   \n",
       "16                            {'Masculine', 'Unknown'}   \n",
       "\n",
       "                                             clf_label      eadid  desc_id  \\\n",
       "95   [Unknown, Masculine, Generalization, Gendered-...  Coll-1138    71615   \n",
       "6    [Unknown, Masculine, Generalization, Gendered-...   Coll-100    31962   \n",
       "112  [Unknown, Masculine, Generalization, Gendered-...  Coll-1159    29203   \n",
       "152                                          [Unknown]  Coll-1320    21144   \n",
       "16                                           [Unknown]  Coll-1039    17548   \n",
       "\n",
       "                    file  desc_start_offset subset  desc_end_offset  \n",
       "95   Coll-1138_00100.txt                350    dev             1828  \n",
       "6     Coll-100_00100.txt                215    dev             2109  \n",
       "112  Coll-1159_00100.txt                675    dev             3086  \n",
       "152  Coll-1320_02000.txt               2665    dev             2723  \n",
       "16   Coll-1039_00100.txt                312    dev              379  "
      ]
     },
     "execution_count": 49,
     "metadata": {},
     "output_type": "execute_result"
    }
   ],
   "source": [
    "df_dev.insert(3, \"clf_label\", pred_dev_labels)\n",
    "df_dev.head()"
   ]
  },
  {
   "cell_type": "markdown",
   "metadata": {},
   "source": [
    "Save this version of the data:"
   ]
  },
  {
   "cell_type": "code",
   "execution_count": 3,
   "metadata": {},
   "outputs": [],
   "source": [
    "df_dev.to_csv(\"data/aggregated_data/splits/aggregated_validate_predictions.csv\")\n",
    "# df_dev = pd.read_csv(\"data/aggregated_data/splits/aggregated_validate_predictions.csv\", index_col=0)"
   ]
  },
  {
   "cell_type": "markdown",
   "metadata": {},
   "source": [
    "Explode and join the DataFrames of expected and predicted annotations for easier row-by-row comparison:"
   ]
  },
  {
   "cell_type": "code",
   "execution_count": 34,
   "metadata": {},
   "outputs": [
    {
     "data": {
      "text/html": [
       "<div>\n",
       "<style scoped>\n",
       "    .dataframe tbody tr th:only-of-type {\n",
       "        vertical-align: middle;\n",
       "    }\n",
       "\n",
       "    .dataframe tbody tr th {\n",
       "        vertical-align: top;\n",
       "    }\n",
       "\n",
       "    .dataframe thead th {\n",
       "        text-align: right;\n",
       "    }\n",
       "</style>\n",
       "<table border=\"1\" class=\"dataframe\">\n",
       "  <thead>\n",
       "    <tr style=\"text-align: right;\">\n",
       "      <th></th>\n",
       "      <th>description</th>\n",
       "      <th>field</th>\n",
       "      <th>expected_label</th>\n",
       "      <th>eadid</th>\n",
       "      <th>desc_id</th>\n",
       "      <th>file</th>\n",
       "      <th>desc_start_offset</th>\n",
       "      <th>subset</th>\n",
       "      <th>desc_end_offset</th>\n",
       "    </tr>\n",
       "  </thead>\n",
       "  <tbody>\n",
       "    <tr>\n",
       "      <th>95</th>\n",
       "      <td>Charles Hedges was born in either 1649 or 1650...</td>\n",
       "      <td>Biographical / Historical</td>\n",
       "      <td>Gendered-Pronoun</td>\n",
       "      <td>Coll-1138</td>\n",
       "      <td>71615</td>\n",
       "      <td>Coll-1138_00100.txt</td>\n",
       "      <td>350</td>\n",
       "      <td>dev</td>\n",
       "      <td>1828</td>\n",
       "    </tr>\n",
       "    <tr>\n",
       "      <th>95</th>\n",
       "      <td>Charles Hedges was born in either 1649 or 1650...</td>\n",
       "      <td>Biographical / Historical</td>\n",
       "      <td>Stereotype</td>\n",
       "      <td>Coll-1138</td>\n",
       "      <td>71615</td>\n",
       "      <td>Coll-1138_00100.txt</td>\n",
       "      <td>350</td>\n",
       "      <td>dev</td>\n",
       "      <td>1828</td>\n",
       "    </tr>\n",
       "    <tr>\n",
       "      <th>95</th>\n",
       "      <td>Charles Hedges was born in either 1649 or 1650...</td>\n",
       "      <td>Biographical / Historical</td>\n",
       "      <td>Masculine</td>\n",
       "      <td>Coll-1138</td>\n",
       "      <td>71615</td>\n",
       "      <td>Coll-1138_00100.txt</td>\n",
       "      <td>350</td>\n",
       "      <td>dev</td>\n",
       "      <td>1828</td>\n",
       "    </tr>\n",
       "    <tr>\n",
       "      <th>95</th>\n",
       "      <td>Charles Hedges was born in either 1649 or 1650...</td>\n",
       "      <td>Biographical / Historical</td>\n",
       "      <td>Omission</td>\n",
       "      <td>Coll-1138</td>\n",
       "      <td>71615</td>\n",
       "      <td>Coll-1138_00100.txt</td>\n",
       "      <td>350</td>\n",
       "      <td>dev</td>\n",
       "      <td>1828</td>\n",
       "    </tr>\n",
       "    <tr>\n",
       "      <th>95</th>\n",
       "      <td>Charles Hedges was born in either 1649 or 1650...</td>\n",
       "      <td>Biographical / Historical</td>\n",
       "      <td>Gendered-Role</td>\n",
       "      <td>Coll-1138</td>\n",
       "      <td>71615</td>\n",
       "      <td>Coll-1138_00100.txt</td>\n",
       "      <td>350</td>\n",
       "      <td>dev</td>\n",
       "      <td>1828</td>\n",
       "    </tr>\n",
       "  </tbody>\n",
       "</table>\n",
       "</div>"
      ],
      "text/plain": [
       "                                          description  \\\n",
       "95  Charles Hedges was born in either 1649 or 1650...   \n",
       "95  Charles Hedges was born in either 1649 or 1650...   \n",
       "95  Charles Hedges was born in either 1649 or 1650...   \n",
       "95  Charles Hedges was born in either 1649 or 1650...   \n",
       "95  Charles Hedges was born in either 1649 or 1650...   \n",
       "\n",
       "                        field    expected_label      eadid  desc_id  \\\n",
       "95  Biographical / Historical  Gendered-Pronoun  Coll-1138    71615   \n",
       "95  Biographical / Historical        Stereotype  Coll-1138    71615   \n",
       "95  Biographical / Historical         Masculine  Coll-1138    71615   \n",
       "95  Biographical / Historical          Omission  Coll-1138    71615   \n",
       "95  Biographical / Historical     Gendered-Role  Coll-1138    71615   \n",
       "\n",
       "                   file  desc_start_offset subset  desc_end_offset  \n",
       "95  Coll-1138_00100.txt                350    dev             1828  \n",
       "95  Coll-1138_00100.txt                350    dev             1828  \n",
       "95  Coll-1138_00100.txt                350    dev             1828  \n",
       "95  Coll-1138_00100.txt                350    dev             1828  \n",
       "95  Coll-1138_00100.txt                350    dev             1828  "
      ]
     },
     "execution_count": 34,
     "metadata": {},
     "output_type": "execute_result"
    }
   ],
   "source": [
    "df_exp = pd.read_csv(\"data/aggregated_data/splits/aggregated_validate.csv\", index_col=0)\n",
    "df_exp[\"label\"] = [label_list[2:-2] for label_list in list(df_exp.label)]\n",
    "df_exp = df_exp.assign(label=df_exp.label.str.split(\"', '\")).explode(\"label\")\n",
    "df_exp = df_exp.rename(columns={\"label\":\"expected_label\"})\n",
    "df_exp.head()"
   ]
  },
  {
   "cell_type": "code",
   "execution_count": 49,
   "metadata": {},
   "outputs": [
    {
     "data": {
      "text/html": [
       "<div>\n",
       "<style scoped>\n",
       "    .dataframe tbody tr th:only-of-type {\n",
       "        vertical-align: middle;\n",
       "    }\n",
       "\n",
       "    .dataframe tbody tr th {\n",
       "        vertical-align: top;\n",
       "    }\n",
       "\n",
       "    .dataframe thead th {\n",
       "        text-align: right;\n",
       "    }\n",
       "</style>\n",
       "<table border=\"1\" class=\"dataframe\">\n",
       "  <thead>\n",
       "    <tr style=\"text-align: right;\">\n",
       "      <th></th>\n",
       "      <th>description</th>\n",
       "      <th>field</th>\n",
       "      <th>predicted_label</th>\n",
       "      <th>eadid</th>\n",
       "      <th>desc_id</th>\n",
       "      <th>file</th>\n",
       "      <th>desc_start_offset</th>\n",
       "      <th>subset</th>\n",
       "      <th>desc_end_offset</th>\n",
       "    </tr>\n",
       "  </thead>\n",
       "  <tbody>\n",
       "    <tr>\n",
       "      <th>95</th>\n",
       "      <td>Charles Hedges was born in either 1649 or 1650...</td>\n",
       "      <td>Biographical / Historical</td>\n",
       "      <td>Unknown</td>\n",
       "      <td>Coll-1138</td>\n",
       "      <td>71615</td>\n",
       "      <td>Coll-1138_00100.txt</td>\n",
       "      <td>350</td>\n",
       "      <td>dev</td>\n",
       "      <td>1828</td>\n",
       "    </tr>\n",
       "    <tr>\n",
       "      <th>95</th>\n",
       "      <td>Charles Hedges was born in either 1649 or 1650...</td>\n",
       "      <td>Biographical / Historical</td>\n",
       "      <td>Masculine</td>\n",
       "      <td>Coll-1138</td>\n",
       "      <td>71615</td>\n",
       "      <td>Coll-1138_00100.txt</td>\n",
       "      <td>350</td>\n",
       "      <td>dev</td>\n",
       "      <td>1828</td>\n",
       "    </tr>\n",
       "    <tr>\n",
       "      <th>95</th>\n",
       "      <td>Charles Hedges was born in either 1649 or 1650...</td>\n",
       "      <td>Biographical / Historical</td>\n",
       "      <td>Generalization</td>\n",
       "      <td>Coll-1138</td>\n",
       "      <td>71615</td>\n",
       "      <td>Coll-1138_00100.txt</td>\n",
       "      <td>350</td>\n",
       "      <td>dev</td>\n",
       "      <td>1828</td>\n",
       "    </tr>\n",
       "    <tr>\n",
       "      <th>95</th>\n",
       "      <td>Charles Hedges was born in either 1649 or 1650...</td>\n",
       "      <td>Biographical / Historical</td>\n",
       "      <td>Gendered-Pronoun</td>\n",
       "      <td>Coll-1138</td>\n",
       "      <td>71615</td>\n",
       "      <td>Coll-1138_00100.txt</td>\n",
       "      <td>350</td>\n",
       "      <td>dev</td>\n",
       "      <td>1828</td>\n",
       "    </tr>\n",
       "    <tr>\n",
       "      <th>95</th>\n",
       "      <td>Charles Hedges was born in either 1649 or 1650...</td>\n",
       "      <td>Biographical / Historical</td>\n",
       "      <td>Gendered-Role</td>\n",
       "      <td>Coll-1138</td>\n",
       "      <td>71615</td>\n",
       "      <td>Coll-1138_00100.txt</td>\n",
       "      <td>350</td>\n",
       "      <td>dev</td>\n",
       "      <td>1828</td>\n",
       "    </tr>\n",
       "  </tbody>\n",
       "</table>\n",
       "</div>"
      ],
      "text/plain": [
       "                                          description  \\\n",
       "95  Charles Hedges was born in either 1649 or 1650...   \n",
       "95  Charles Hedges was born in either 1649 or 1650...   \n",
       "95  Charles Hedges was born in either 1649 or 1650...   \n",
       "95  Charles Hedges was born in either 1649 or 1650...   \n",
       "95  Charles Hedges was born in either 1649 or 1650...   \n",
       "\n",
       "                        field   predicted_label      eadid  desc_id  \\\n",
       "95  Biographical / Historical           Unknown  Coll-1138    71615   \n",
       "95  Biographical / Historical         Masculine  Coll-1138    71615   \n",
       "95  Biographical / Historical    Generalization  Coll-1138    71615   \n",
       "95  Biographical / Historical  Gendered-Pronoun  Coll-1138    71615   \n",
       "95  Biographical / Historical     Gendered-Role  Coll-1138    71615   \n",
       "\n",
       "                   file  desc_start_offset subset  desc_end_offset  \n",
       "95  Coll-1138_00100.txt                350    dev             1828  \n",
       "95  Coll-1138_00100.txt                350    dev             1828  \n",
       "95  Coll-1138_00100.txt                350    dev             1828  \n",
       "95  Coll-1138_00100.txt                350    dev             1828  \n",
       "95  Coll-1138_00100.txt                350    dev             1828  "
      ]
     },
     "execution_count": 49,
     "metadata": {},
     "output_type": "execute_result"
    }
   ],
   "source": [
    "validate_path = \"data/aggregated_data/splits/aggregated_validate_predictions.csv\"\n",
    "df_pred = pd.read_csv(validate_path, index_col=0)\n",
    "df_pred = df_pred.drop(columns=[\"ann_label\"])\n",
    "df_pred = df_pred.rename(columns={\"clf_label\":\"predicted_label\"})\n",
    "df_pred[\"predicted_label\"] = [label_list[2:-2] for label_list in list(df_pred.predicted_label)]\n",
    "df_pred = df_pred.assign(predicted_label=df_pred.predicted_label.str.split(\"', '\")).explode(\"predicted_label\")\n",
    "df_pred.head()"
   ]
  },
  {
   "cell_type": "code",
   "execution_count": 50,
   "metadata": {},
   "outputs": [],
   "source": [
    "df_pred_sub = df_pred.drop(columns=[\"description\",  \"field\", \"eadid\", \"file\", \"desc_start_offset\", \"desc_end_offset\", \"subset\"])\n",
    "df_pred_sub.to_csv(\"data/aggregated_data/splits/validate_predictions.csv\")"
   ]
  },
  {
   "cell_type": "code",
   "execution_count": 74,
   "metadata": {},
   "outputs": [
    {
     "data": {
      "text/html": [
       "<div>\n",
       "<style scoped>\n",
       "    .dataframe tbody tr th:only-of-type {\n",
       "        vertical-align: middle;\n",
       "    }\n",
       "\n",
       "    .dataframe tbody tr th {\n",
       "        vertical-align: top;\n",
       "    }\n",
       "\n",
       "    .dataframe thead th {\n",
       "        text-align: right;\n",
       "    }\n",
       "</style>\n",
       "<table border=\"1\" class=\"dataframe\">\n",
       "  <thead>\n",
       "    <tr style=\"text-align: right;\">\n",
       "      <th></th>\n",
       "      <th>desc_id</th>\n",
       "      <th>eadid</th>\n",
       "      <th>file</th>\n",
       "      <th>desc_start_offset</th>\n",
       "      <th>desc_end_offset</th>\n",
       "      <th>description</th>\n",
       "      <th>expected_label</th>\n",
       "      <th>predicted_label</th>\n",
       "      <th>_merge</th>\n",
       "    </tr>\n",
       "  </thead>\n",
       "  <tbody>\n",
       "    <tr>\n",
       "      <th>0</th>\n",
       "      <td>71615</td>\n",
       "      <td>Coll-1138</td>\n",
       "      <td>Coll-1138_00100.txt</td>\n",
       "      <td>350</td>\n",
       "      <td>1828</td>\n",
       "      <td>Charles Hedges was born in either 1649 or 1650...</td>\n",
       "      <td>Gendered-Pronoun</td>\n",
       "      <td>Gendered-Pronoun</td>\n",
       "      <td>both</td>\n",
       "    </tr>\n",
       "    <tr>\n",
       "      <th>1</th>\n",
       "      <td>71615</td>\n",
       "      <td>Coll-1138</td>\n",
       "      <td>Coll-1138_00100.txt</td>\n",
       "      <td>350</td>\n",
       "      <td>1828</td>\n",
       "      <td>Charles Hedges was born in either 1649 or 1650...</td>\n",
       "      <td>Stereotype</td>\n",
       "      <td>Stereotype</td>\n",
       "      <td>both</td>\n",
       "    </tr>\n",
       "    <tr>\n",
       "      <th>2</th>\n",
       "      <td>71615</td>\n",
       "      <td>Coll-1138</td>\n",
       "      <td>Coll-1138_00100.txt</td>\n",
       "      <td>350</td>\n",
       "      <td>1828</td>\n",
       "      <td>Charles Hedges was born in either 1649 or 1650...</td>\n",
       "      <td>Masculine</td>\n",
       "      <td>Masculine</td>\n",
       "      <td>both</td>\n",
       "    </tr>\n",
       "    <tr>\n",
       "      <th>3</th>\n",
       "      <td>71615</td>\n",
       "      <td>Coll-1138</td>\n",
       "      <td>Coll-1138_00100.txt</td>\n",
       "      <td>350</td>\n",
       "      <td>1828</td>\n",
       "      <td>Charles Hedges was born in either 1649 or 1650...</td>\n",
       "      <td>Omission</td>\n",
       "      <td>Omission</td>\n",
       "      <td>both</td>\n",
       "    </tr>\n",
       "    <tr>\n",
       "      <th>4</th>\n",
       "      <td>71615</td>\n",
       "      <td>Coll-1138</td>\n",
       "      <td>Coll-1138_00100.txt</td>\n",
       "      <td>350</td>\n",
       "      <td>1828</td>\n",
       "      <td>Charles Hedges was born in either 1649 or 1650...</td>\n",
       "      <td>Gendered-Role</td>\n",
       "      <td>Gendered-Role</td>\n",
       "      <td>both</td>\n",
       "    </tr>\n",
       "  </tbody>\n",
       "</table>\n",
       "</div>"
      ],
      "text/plain": [
       "   desc_id      eadid                 file  desc_start_offset  \\\n",
       "0    71615  Coll-1138  Coll-1138_00100.txt                350   \n",
       "1    71615  Coll-1138  Coll-1138_00100.txt                350   \n",
       "2    71615  Coll-1138  Coll-1138_00100.txt                350   \n",
       "3    71615  Coll-1138  Coll-1138_00100.txt                350   \n",
       "4    71615  Coll-1138  Coll-1138_00100.txt                350   \n",
       "\n",
       "   desc_end_offset                                        description  \\\n",
       "0             1828  Charles Hedges was born in either 1649 or 1650...   \n",
       "1             1828  Charles Hedges was born in either 1649 or 1650...   \n",
       "2             1828  Charles Hedges was born in either 1649 or 1650...   \n",
       "3             1828  Charles Hedges was born in either 1649 or 1650...   \n",
       "4             1828  Charles Hedges was born in either 1649 or 1650...   \n",
       "\n",
       "     expected_label   predicted_label _merge  \n",
       "0  Gendered-Pronoun  Gendered-Pronoun   both  \n",
       "1        Stereotype        Stereotype   both  \n",
       "2         Masculine         Masculine   both  \n",
       "3          Omission          Omission   both  \n",
       "4     Gendered-Role     Gendered-Role   both  "
      ]
     },
     "execution_count": 74,
     "metadata": {},
     "output_type": "execute_result"
    }
   ],
   "source": [
    "dfs = pd.merge(\n",
    "    left=df_exp, right=df_pred, \n",
    "    how=\"outer\", \n",
    "    left_on=[\"desc_id\",\"eadid\",\"file\",\"desc_start_offset\",\"desc_end_offset\",\"description\",\"expected_label\"], \n",
    "    right_on=[\"desc_id\",\"eadid\",\"file\",\"desc_start_offset\",\"desc_end_offset\",\"description\",\"predicted_label\"], \n",
    "    suffixes=[\"\", \"_pred\"],\n",
    "    indicator=True\n",
    ")\n",
    "dfs = dfs[[\"desc_id\",\"eadid\",\"file\",\"desc_start_offset\",\"desc_end_offset\",\"description\",\"expected_label\",\"predicted_label\",\"_merge\"]]\n",
    "dfs.head()"
   ]
  },
  {
   "cell_type": "code",
   "execution_count": 75,
   "metadata": {},
   "outputs": [
    {
     "data": {
      "text/html": [
       "<div>\n",
       "<style scoped>\n",
       "    .dataframe tbody tr th:only-of-type {\n",
       "        vertical-align: middle;\n",
       "    }\n",
       "\n",
       "    .dataframe tbody tr th {\n",
       "        vertical-align: top;\n",
       "    }\n",
       "\n",
       "    .dataframe thead th {\n",
       "        text-align: right;\n",
       "    }\n",
       "</style>\n",
       "<table border=\"1\" class=\"dataframe\">\n",
       "  <thead>\n",
       "    <tr style=\"text-align: right;\">\n",
       "      <th></th>\n",
       "      <th>desc_id</th>\n",
       "      <th>eadid</th>\n",
       "      <th>file</th>\n",
       "      <th>desc_start_offset</th>\n",
       "      <th>desc_end_offset</th>\n",
       "      <th>description</th>\n",
       "      <th>expected_label</th>\n",
       "      <th>predicted_label</th>\n",
       "      <th>_merge</th>\n",
       "    </tr>\n",
       "  </thead>\n",
       "  <tbody>\n",
       "    <tr>\n",
       "      <th>0</th>\n",
       "      <td>71615</td>\n",
       "      <td>Coll-1138</td>\n",
       "      <td>Coll-1138_00100.txt</td>\n",
       "      <td>350</td>\n",
       "      <td>1828</td>\n",
       "      <td>Charles Hedges was born in either 1649 or 1650...</td>\n",
       "      <td>Gendered-Pronoun</td>\n",
       "      <td>Gendered-Pronoun</td>\n",
       "      <td>true positive</td>\n",
       "    </tr>\n",
       "    <tr>\n",
       "      <th>1</th>\n",
       "      <td>71615</td>\n",
       "      <td>Coll-1138</td>\n",
       "      <td>Coll-1138_00100.txt</td>\n",
       "      <td>350</td>\n",
       "      <td>1828</td>\n",
       "      <td>Charles Hedges was born in either 1649 or 1650...</td>\n",
       "      <td>Stereotype</td>\n",
       "      <td>Stereotype</td>\n",
       "      <td>true positive</td>\n",
       "    </tr>\n",
       "    <tr>\n",
       "      <th>2</th>\n",
       "      <td>71615</td>\n",
       "      <td>Coll-1138</td>\n",
       "      <td>Coll-1138_00100.txt</td>\n",
       "      <td>350</td>\n",
       "      <td>1828</td>\n",
       "      <td>Charles Hedges was born in either 1649 or 1650...</td>\n",
       "      <td>Masculine</td>\n",
       "      <td>Masculine</td>\n",
       "      <td>true positive</td>\n",
       "    </tr>\n",
       "    <tr>\n",
       "      <th>3</th>\n",
       "      <td>71615</td>\n",
       "      <td>Coll-1138</td>\n",
       "      <td>Coll-1138_00100.txt</td>\n",
       "      <td>350</td>\n",
       "      <td>1828</td>\n",
       "      <td>Charles Hedges was born in either 1649 or 1650...</td>\n",
       "      <td>Omission</td>\n",
       "      <td>Omission</td>\n",
       "      <td>true positive</td>\n",
       "    </tr>\n",
       "    <tr>\n",
       "      <th>4</th>\n",
       "      <td>71615</td>\n",
       "      <td>Coll-1138</td>\n",
       "      <td>Coll-1138_00100.txt</td>\n",
       "      <td>350</td>\n",
       "      <td>1828</td>\n",
       "      <td>Charles Hedges was born in either 1649 or 1650...</td>\n",
       "      <td>Gendered-Role</td>\n",
       "      <td>Gendered-Role</td>\n",
       "      <td>true positive</td>\n",
       "    </tr>\n",
       "  </tbody>\n",
       "</table>\n",
       "</div>"
      ],
      "text/plain": [
       "   desc_id      eadid                 file  desc_start_offset  \\\n",
       "0    71615  Coll-1138  Coll-1138_00100.txt                350   \n",
       "1    71615  Coll-1138  Coll-1138_00100.txt                350   \n",
       "2    71615  Coll-1138  Coll-1138_00100.txt                350   \n",
       "3    71615  Coll-1138  Coll-1138_00100.txt                350   \n",
       "4    71615  Coll-1138  Coll-1138_00100.txt                350   \n",
       "\n",
       "   desc_end_offset                                        description  \\\n",
       "0             1828  Charles Hedges was born in either 1649 or 1650...   \n",
       "1             1828  Charles Hedges was born in either 1649 or 1650...   \n",
       "2             1828  Charles Hedges was born in either 1649 or 1650...   \n",
       "3             1828  Charles Hedges was born in either 1649 or 1650...   \n",
       "4             1828  Charles Hedges was born in either 1649 or 1650...   \n",
       "\n",
       "     expected_label   predicted_label         _merge  \n",
       "0  Gendered-Pronoun  Gendered-Pronoun  true positive  \n",
       "1        Stereotype        Stereotype  true positive  \n",
       "2         Masculine         Masculine  true positive  \n",
       "3          Omission          Omission  true positive  \n",
       "4     Gendered-Role     Gendered-Role  true positive  "
      ]
     },
     "execution_count": 75,
     "metadata": {},
     "output_type": "execute_result"
    }
   ],
   "source": [
    "dfs.replace(to_replace=\"left_only\", value=\"false negative\", inplace=True)\n",
    "dfs.replace(to_replace=\"right_only\", value=\"false positive\", inplace=True)\n",
    "dfs.replace(to_replace=\"both\", value=\"true positive\", inplace=True)\n",
    "dfs.head()"
   ]
  },
  {
   "cell_type": "code",
   "execution_count": 76,
   "metadata": {},
   "outputs": [
    {
     "data": {
      "text/html": [
       "<div>\n",
       "<style scoped>\n",
       "    .dataframe tbody tr th:only-of-type {\n",
       "        vertical-align: middle;\n",
       "    }\n",
       "\n",
       "    .dataframe tbody tr th {\n",
       "        vertical-align: top;\n",
       "    }\n",
       "\n",
       "    .dataframe thead th {\n",
       "        text-align: right;\n",
       "    }\n",
       "</style>\n",
       "<table border=\"1\" class=\"dataframe\">\n",
       "  <thead>\n",
       "    <tr style=\"text-align: right;\">\n",
       "      <th></th>\n",
       "      <th></th>\n",
       "      <th></th>\n",
       "      <th></th>\n",
       "      <th></th>\n",
       "      <th></th>\n",
       "      <th></th>\n",
       "      <th>expected_label</th>\n",
       "      <th>predicted_label</th>\n",
       "    </tr>\n",
       "    <tr>\n",
       "      <th>desc_id</th>\n",
       "      <th>eadid</th>\n",
       "      <th>file</th>\n",
       "      <th>desc_start_offset</th>\n",
       "      <th>desc_end_offset</th>\n",
       "      <th>description</th>\n",
       "      <th>_merge</th>\n",
       "      <th></th>\n",
       "      <th></th>\n",
       "    </tr>\n",
       "  </thead>\n",
       "  <tbody>\n",
       "    <tr>\n",
       "      <th>70381</th>\n",
       "      <th>BAI</th>\n",
       "      <th>BAI_01000.txt</th>\n",
       "      <th>1290</th>\n",
       "      <th>1315</th>\n",
       "      <th>John Baillie: posthumous</th>\n",
       "      <th>true positive</th>\n",
       "      <td>Unknown</td>\n",
       "      <td>Unknown</td>\n",
       "    </tr>\n",
       "    <tr>\n",
       "      <th rowspan=\"2\" valign=\"top\">47675</th>\n",
       "      <th rowspan=\"2\" valign=\"top\">BAI</th>\n",
       "      <th rowspan=\"2\" valign=\"top\">BAI_01300.txt</th>\n",
       "      <th rowspan=\"2\" valign=\"top\">5853</th>\n",
       "      <th rowspan=\"2\" valign=\"top\">5983</th>\n",
       "      <th rowspan=\"2\" valign=\"top\">Letters received from Henry Sloane Coffin, with an enclosed letter from Hugh Martin and copies of John Baillie's reply to Coffin.</th>\n",
       "      <th>false negative</th>\n",
       "      <td>Masculine</td>\n",
       "      <td>NaN</td>\n",
       "    </tr>\n",
       "    <tr>\n",
       "      <th>true positive</th>\n",
       "      <td>Unknown</td>\n",
       "      <td>Unknown</td>\n",
       "    </tr>\n",
       "    <tr>\n",
       "      <th rowspan=\"2\" valign=\"top\">4172</th>\n",
       "      <th rowspan=\"2\" valign=\"top\">BAI</th>\n",
       "      <th rowspan=\"2\" valign=\"top\">BAI_02500.txt</th>\n",
       "      <th rowspan=\"2\" valign=\"top\">1224</th>\n",
       "      <th rowspan=\"2\" valign=\"top\">1277</th>\n",
       "      <th rowspan=\"2\" valign=\"top\">Archivist's NoteNone  Grant Buttars 25 February 2003</th>\n",
       "      <th>false negative</th>\n",
       "      <td>Occupation</td>\n",
       "      <td>NaN</td>\n",
       "    </tr>\n",
       "    <tr>\n",
       "      <th>true positive</th>\n",
       "      <td>Unknown</td>\n",
       "      <td>Unknown</td>\n",
       "    </tr>\n",
       "  </tbody>\n",
       "</table>\n",
       "</div>"
      ],
      "text/plain": [
       "                                                                                                                                expected_label  \\\n",
       "desc_id eadid file          desc_start_offset desc_end_offset description                                        _merge                          \n",
       "70381   BAI   BAI_01000.txt 1290              1315            John Baillie: posthumous                           true positive         Unknown   \n",
       "47675   BAI   BAI_01300.txt 5853              5983            Letters received from Henry Sloane Coffin, with... false negative      Masculine   \n",
       "                                                                                                                 true positive         Unknown   \n",
       "4172    BAI   BAI_02500.txt 1224              1277            Archivist's NoteNone  Grant Buttars 25 February... false negative     Occupation   \n",
       "                                                                                                                 true positive         Unknown   \n",
       "\n",
       "                                                                                                                                predicted_label  \n",
       "desc_id eadid file          desc_start_offset desc_end_offset description                                        _merge                          \n",
       "70381   BAI   BAI_01000.txt 1290              1315            John Baillie: posthumous                           true positive          Unknown  \n",
       "47675   BAI   BAI_01300.txt 5853              5983            Letters received from Henry Sloane Coffin, with... false negative             NaN  \n",
       "                                                                                                                 true positive          Unknown  \n",
       "4172    BAI   BAI_02500.txt 1224              1277            Archivist's NoteNone  Grant Buttars 25 February... false negative             NaN  \n",
       "                                                                                                                 true positive          Unknown  "
      ]
     },
     "execution_count": 76,
     "metadata": {},
     "output_type": "execute_result"
    }
   ],
   "source": [
    "df_grouped = dfs.set_index([\"desc_id\",\"eadid\",\"file\",\"desc_start_offset\",\"desc_end_offset\",\"description\",\"_merge\"])\n",
    "df_sorted = df_grouped.sort_values(by=[\"file\",\"desc_start_offset\",\"_merge\"], ascending=True)\n",
    "df_sorted.head()"
   ]
  },
  {
   "cell_type": "code",
   "execution_count": 77,
   "metadata": {},
   "outputs": [],
   "source": [
    "df_sorted.to_csv(\"data/aggregated_data/logistic_regression_error_analysis.csv\")"
   ]
  },
  {
   "cell_type": "code",
   "execution_count": null,
   "metadata": {},
   "outputs": [],
   "source": []
  }
 ],
 "metadata": {
  "kernelspec": {
   "display_name": "Python 3",
   "language": "python",
   "name": "python3"
  },
  "language_info": {
   "codemirror_mode": {
    "name": "ipython",
    "version": 3
   },
   "file_extension": ".py",
   "mimetype": "text/x-python",
   "name": "python",
   "nbconvert_exporter": "python",
   "pygments_lexer": "ipython3",
   "version": "3.8.10"
  }
 },
 "nbformat": 4,
 "nbformat_minor": 5
}

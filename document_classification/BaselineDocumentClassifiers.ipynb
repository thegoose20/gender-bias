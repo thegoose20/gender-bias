{
 "cells": [
  {
   "cell_type": "markdown",
   "metadata": {},
   "source": [
    "# Baseline Gender Bias Document Classifiers\n",
    "\n",
    "* **Supervised learning**\n",
    "    * Train, Validate, and (Blind) Test Data: under directory `../data/doc_clf_data/`\n",
    "* **Multilabel classification**\n",
    "    * 3 categories of labels:\n",
    "        1. *Person Name:* Unknown, Non-binary, Feminine, Masculine\n",
    "        2. *Linguistic:* Generalization, Gendered Pronoun, Gendered Role\n",
    "        3. *Contextual:* Empowering, Occupation, Omission, Stereotype\n",
    "\n",
    "***\n",
    "\n",
    "**Table of Contents**\n",
    "\n",
    "[Setup](#set)\n",
    "\n",
    "Baseline Classifiers:\n",
    "\n",
    "  * [Classifier 1: Multinomial Naive Bayes](#mnb) - worst-performing\n",
    "\n",
    "  * [Classifier 2: Logistic Regression](#log) - top-performing\n",
    "\n",
    "  * [Classifier 3: Random Forest](#ran)\n",
    "  \n",
    "[Logistic Regression Error Analysis](#err)\n",
    "\n",
    "***"
   ]
  },
  {
   "cell_type": "markdown",
   "metadata": {},
   "source": [
    "<a id=\"set\"></a>\n",
    "## Setup"
   ]
  },
  {
   "cell_type": "code",
   "execution_count": 1,
   "metadata": {},
   "outputs": [],
   "source": [
    "# For custom functions\n",
    "import utils, config\n",
    "\n",
    "# For working with data files and directories\n",
    "import numpy as np\n",
    "import pandas as pd\n",
    "from pathlib import Path\n",
    "\n",
    "# For visualization\n",
    "import matplotlib.pyplot as plt\n",
    "import seaborn as sns\n",
    "\n",
    "# For classification with scikit-learn\n",
    "from sklearn.preprocessing import MultiLabelBinarizer\n",
    "from sklearn.multiclass import OneVsRestClassifier\n",
    "from sklearn.feature_extraction.text import CountVectorizer, TfidfTransformer\n",
    "# from sklearn.svm import SVC\n",
    "# from sklearn.tree import DecisionTreeClassifier\n",
    "# from sklearn.tree import export_text\n",
    "# from sklearn import tree\n",
    "from sklearn.naive_bayes import MultinomialNB\n",
    "from sklearn.linear_model import LogisticRegression\n",
    "from sklearn.ensemble import RandomForestClassifier\n",
    "from sklearn.pipeline import Pipeline\n",
    "from sklearn.metrics import confusion_matrix, multilabel_confusion_matrix, plot_confusion_matrix, ConfusionMatrixDisplay\n",
    "from sklearn.metrics import precision_recall_fscore_support"
   ]
  },
  {
   "cell_type": "markdown",
   "metadata": {},
   "source": [
    "Read in the training, validation, (a.k.a. development or devtest) and blind test data:"
   ]
  },
  {
   "cell_type": "code",
   "execution_count": 2,
   "metadata": {},
   "outputs": [],
   "source": [
    "X_train_path = config.docc_path+\"train_docs.txt\"\n",
    "X_devtest_path = config.docc_path+\"validate_docs.txt\"\n",
    "y_train_path = config.docc_path+\"train_labels.txt\"\n",
    "y_devtest_path = config.docc_path+\"validate_labels.txt\""
   ]
  },
  {
   "cell_type": "code",
   "execution_count": 3,
   "metadata": {},
   "outputs": [],
   "source": [
    "docs_seperator = \"\\n|\\n\"\n",
    "labels_seperator = \"\\n\""
   ]
  },
  {
   "cell_type": "code",
   "execution_count": 4,
   "metadata": {
    "tags": []
   },
   "outputs": [
    {
     "name": "stdout",
     "output_type": "stream",
     "text": [
      "Labelled Apparently some chapters, amounting to about 160 printed pages, of a general book on education projected by my Father around 1930. KEEP, Essays on Teaching, HT 1963, by Hector.\n",
      "16541\n"
     ]
    }
   ],
   "source": [
    "X_train = utils.readData(X_train_path, docs_seperator)\n",
    "print(X_train[0])\n",
    "print(len(X_train))"
   ]
  },
  {
   "cell_type": "code",
   "execution_count": 5,
   "metadata": {
    "tags": []
   },
   "outputs": [
    {
     "name": "stdout",
     "output_type": "stream",
     "text": [
      "Edward Bald Jamieson, from Shetland, was a graduate of Edinburgh University (1900), and then demonstrator and lecturer in Anatomy at Edinburgh University. He was also an author of medical textbooks on Anatomy. William Rolland Scott Cowe was born on 24 October 1915 in Edinburgh. He studied at Edinburgh University and was awarded the degrees of Bachelor of Medicine, and Bachelor of Surgery, MB., Ch.B. on 20 July 1938. Still resident in Edinburgh in 1939, he was Obstetric House Surgeon at the Simpson Memorial Pavilion, Edinburgh Royal Infirmary. His career then took him to Wigan, Lancashire, as House Surgeon at the Royal Infirmary there. In Keighley, Yorkshire, he served as the Police Surgeon, Keighley Division, West Riding Constabulary, and was a Clinical Assistant (Venereology) at Airedale General Hospital.  During the Second World War he served as a Captain and then Major with the Royal Army Medical Corps, serving in Africa and Palestine. Cowe's prime interest was obstetrics and gynaecology and he became a member of the Royal Medical Society of Edinburgh with a presentation on Cardiac Disease in Pregnancy, January 1939. He went on to become a Fellow of the Royal Medical Society. In his specialism of veneorology, publications include the jointly written 'Penicillin in gonnorhea and syphilus' in the British Medical Journal in 1945, and 'Middle East granuloma' in the British Journal of Venereal Diseases also in 1945.  William Rolland Scott Cowe retired to Kirk Yetholm, Roxburghshire, in the Scottish Borders, and he died there on 15 December 1986 .\n",
      "5514\n"
     ]
    }
   ],
   "source": [
    "X_devtest = utils.readData(X_devtest_path, docs_seperator)\n",
    "print(X_devtest[0])\n",
    "print(len(X_devtest))"
   ]
  },
  {
   "cell_type": "code",
   "execution_count": 6,
   "metadata": {
    "tags": []
   },
   "outputs": [
    {
     "name": "stdout",
     "output_type": "stream",
     "text": [
      "['Unknown, Gendered-Role, Omission, Masculine'\n",
      " 'Masculine, Gendered-Pronoun' 'Unknown, Occupation']\n",
      "16541\n"
     ]
    }
   ],
   "source": [
    "y_train = utils.readData(y_train_path, labels_seperator)\n",
    "print(y_train[:3])\n",
    "print(len(y_train))"
   ]
  },
  {
   "cell_type": "code",
   "execution_count": 7,
   "metadata": {
    "tags": []
   },
   "outputs": [
    {
     "name": "stdout",
     "output_type": "stream",
     "text": [
      "Gendered-Pronoun, Generalization, Stereotype, Occupation, Masculine\n",
      "5514\n"
     ]
    }
   ],
   "source": [
    "y_devtest = utils.readData(y_devtest_path, labels_seperator)\n",
    "print(y_devtest[0])\n",
    "print(len(y_devtest))"
   ]
  },
  {
   "cell_type": "markdown",
   "metadata": {},
   "source": [
    "Convert the data to numeric representations, where:\n",
    "```\n",
    "labels = {\n",
    "    \"Unknown\": 0, \"Non-binary\": 1, \"Feminine\": 2, \"Masculine\": 3,\n",
    "    \"Generalization\": 4, \"Gendered-Pronoun\": 5, \"Gendered-Role\": 6,\n",
    "    \"Occupation\": 7, \"Omission\":8, \"Stereotype\": 9, \"Empowering\": 10\n",
    "         }\n",
    "```"
   ]
  },
  {
   "cell_type": "code",
   "execution_count": 8,
   "metadata": {},
   "outputs": [],
   "source": [
    "# Convert the strings of labels to tuples of numbers\n",
    "y_train_numeric = utils.getNumericLabels(y_train)\n",
    "y_devtest_numeric = utils.getNumericLabels(y_devtest)\n",
    "assert len(y_train_numeric) == len(y_train)\n",
    "assert len(y_devtest_numeric) == len(y_devtest)"
   ]
  },
  {
   "cell_type": "code",
   "execution_count": 9,
   "metadata": {},
   "outputs": [
    {
     "name": "stdout",
     "output_type": "stream",
     "text": [
      "[(0, 6, 8, 3), (3, 5), (0, 7), (8, 0, 4, 9, 7, 6, 3, 2), (0, 3, 5, 8), (), (5, 0, 4, 9, 7, 3), (8, 5, 0, 7, 3), (0, 4, 8, 3), (5, 2)]\n"
     ]
    }
   ],
   "source": [
    "print(y_train_numeric[:10])"
   ]
  },
  {
   "cell_type": "markdown",
   "metadata": {},
   "source": [
    "Binarize the data so labels are represented by a 0 (not present) or 1 (present):"
   ]
  },
  {
   "cell_type": "code",
   "execution_count": 11,
   "metadata": {},
   "outputs": [
    {
     "name": "stdout",
     "output_type": "stream",
     "text": [
      "(5514, 9)\n",
      "[0 0 1 1 1 0 1 0 1]\n"
     ]
    }
   ],
   "source": [
    "# Convert each iterable of iterables above to a multilabel format\n",
    "mlb = MultiLabelBinarizer()\n",
    "y_train_binarized = mlb.fit_transform(y_train_numeric)\n",
    "y_devtest_binarized = mlb.fit_transform(y_devtest_numeric)\n",
    "print(y_devtest_binarized.shape)\n",
    "print(y_devtest_binarized[0])"
   ]
  },
  {
   "cell_type": "code",
   "execution_count": 12,
   "metadata": {
    "jupyter": {
     "source_hidden": true
    },
    "tags": []
   },
   "outputs": [],
   "source": [
    "# # Bag of Words\n",
    "# count_vect = CountVectorizer()\n",
    "# X_train_counts = count_vect.fit_transform(X_train)\n",
    "# X_test_counts = count_vect.fit_transform(X_test)\n",
    "# print(\"Bag of Words:\")\n",
    "# print(X_train_counts.shape)\n",
    "# print(X_test_counts.shape)\n",
    "\n",
    "# # Term Frequency times Inverse Document Frequency\n",
    "# tfidf_transformer = TfidfTransformer()\n",
    "# X_train_tfidf = tfidf_transformer.fit_transform(X_train_counts)\n",
    "# X_test_tfidf = tfidf_transformer.fit_transform(X_test_counts)\n",
    "# print(\"TFIDF:\")\n",
    "# print(X_train_tfidf.shape)\n",
    "# print(X_test_tfidf.shape)"
   ]
  },
  {
   "cell_type": "code",
   "execution_count": 13,
   "metadata": {
    "jupyter": {
     "source_hidden": true
    },
    "tags": []
   },
   "outputs": [],
   "source": [
    "# assert X_train_counts.shape[0] == len(y_train_numeric)\n",
    "# assert X_test_tfidf.shape[0] == len(y_test_numeric)"
   ]
  },
  {
   "cell_type": "markdown",
   "metadata": {},
   "source": [
    "Create the directory to write the classification models' performance metrics to:"
   ]
  },
  {
   "cell_type": "code",
   "execution_count": 14,
   "metadata": {},
   "outputs": [],
   "source": [
    "metrics_dir = \"./baseline_performance_metrics/\"\n",
    "Path(metrics_dir).mkdir(parents=True, exist_ok=True)"
   ]
  },
  {
   "cell_type": "markdown",
   "metadata": {},
   "source": [
    "## Baseline Classifiers\n",
    "<a id=\"mnb\"></a>\n",
    "### Classifier 1: Multinomial Naive Bayes"
   ]
  },
  {
   "cell_type": "markdown",
   "metadata": {
    "tags": []
   },
   "source": [
    "Build a pipeline:"
   ]
  },
  {
   "cell_type": "code",
   "execution_count": 15,
   "metadata": {
    "tags": []
   },
   "outputs": [],
   "source": [
    "clf_pipeline = Pipeline([\n",
    "    (\"vect\", CountVectorizer()),\n",
    "    (\"tfidf\", TfidfTransformer()),\n",
    "    (\"clf\", OneVsRestClassifier(MultinomialNB()))\n",
    "    ])"
   ]
  },
  {
   "cell_type": "code",
   "execution_count": 16,
   "metadata": {
    "collapsed": true,
    "jupyter": {
     "outputs_hidden": true
    },
    "tags": []
   },
   "outputs": [
    {
     "data": {
      "text/plain": [
       "Pipeline(memory=None,\n",
       "         steps=[('vect',\n",
       "                 CountVectorizer(analyzer='word', binary=False,\n",
       "                                 decode_error='strict',\n",
       "                                 dtype=<class 'numpy.int64'>, encoding='utf-8',\n",
       "                                 input='content', lowercase=True, max_df=1.0,\n",
       "                                 max_features=None, min_df=1,\n",
       "                                 ngram_range=(1, 1), preprocessor=None,\n",
       "                                 stop_words=None, strip_accents=None,\n",
       "                                 token_pattern='(?u)\\\\b\\\\w\\\\w+\\\\b',\n",
       "                                 tokenizer=None, vocabulary=None)),\n",
       "                ('tfidf',\n",
       "                 TfidfTransformer(norm='l2', smooth_idf=True,\n",
       "                                  sublinear_tf=False, use_idf=True)),\n",
       "                ('clf',\n",
       "                 OneVsRestClassifier(estimator=MultinomialNB(alpha=1.0,\n",
       "                                                             class_prior=None,\n",
       "                                                             fit_prior=True),\n",
       "                                     n_jobs=None))],\n",
       "         verbose=False)"
      ]
     },
     "execution_count": 16,
     "metadata": {},
     "output_type": "execute_result"
    }
   ],
   "source": [
    "clf_pipeline.fit(X_train, y_train_binarized)"
   ]
  },
  {
   "cell_type": "code",
   "execution_count": 17,
   "metadata": {
    "tags": []
   },
   "outputs": [],
   "source": [
    "predicted_dev = clf_pipeline.predict(X_devtest)"
   ]
  },
  {
   "cell_type": "markdown",
   "metadata": {
    "tags": []
   },
   "source": [
    "### Peformance\n",
    "\n",
    "Calculate performance metrics for the Multinomial Naive Bayes classifier"
   ]
  },
  {
   "cell_type": "code",
   "execution_count": 18,
   "metadata": {
    "tags": []
   },
   "outputs": [
    {
     "name": "stdout",
     "output_type": "stream",
     "text": [
      "Dev Test Accuracy: 0.9228831660822956\n"
     ]
    }
   ],
   "source": [
    "print(\"Dev Test Accuracy:\", np.mean(predicted_dev == y_devtest_binarized))"
   ]
  },
  {
   "cell_type": "code",
   "execution_count": 19,
   "metadata": {
    "tags": []
   },
   "outputs": [
    {
     "name": "stdout",
     "output_type": "stream",
     "text": [
      "[0 1 2 3 4 5 6 7 8]\n",
      "[0 2 3 4 5 6 7 8 9]\n"
     ]
    }
   ],
   "source": [
    "classes = clf_pipeline.classes_\n",
    "print(classes)\n",
    "original_classes = mlb.classes_\n",
    "print(original_classes)"
   ]
  },
  {
   "cell_type": "markdown",
   "metadata": {
    "tags": []
   },
   "source": [
    "Plot a [confusion matrix](https://scikit-learn.org/stable/modules/model_evaluation.html#multilabel-confusion-matrix) of the results, where, for class *i*:\n",
    "* Count of true negatives (TN) is at position *i*,0,0\n",
    "* Count of false negatives (FN) is at position *i*,1,0\n",
    "* Count of true positives (FP) is at position *i*,1,1\n",
    "* Count of false positives (PF) is at position *i*,0,1"
   ]
  },
  {
   "cell_type": "code",
   "execution_count": 20,
   "metadata": {
    "tags": []
   },
   "outputs": [
    {
     "data": {
      "text/html": [
       "<div>\n",
       "<style scoped>\n",
       "    .dataframe tbody tr th:only-of-type {\n",
       "        vertical-align: middle;\n",
       "    }\n",
       "\n",
       "    .dataframe tbody tr th {\n",
       "        vertical-align: top;\n",
       "    }\n",
       "\n",
       "    .dataframe thead th {\n",
       "        text-align: right;\n",
       "    }\n",
       "</style>\n",
       "<table border=\"1\" class=\"dataframe\">\n",
       "  <thead>\n",
       "    <tr style=\"text-align: right;\">\n",
       "      <th></th>\n",
       "      <th>labels</th>\n",
       "      <th>true_neg</th>\n",
       "      <th>false_neg</th>\n",
       "      <th>true_pos</th>\n",
       "      <th>false_pos</th>\n",
       "      <th>precision</th>\n",
       "      <th>recall</th>\n",
       "      <th>f_1</th>\n",
       "    </tr>\n",
       "  </thead>\n",
       "  <tbody>\n",
       "    <tr>\n",
       "      <th>0</th>\n",
       "      <td>Unknown</td>\n",
       "      <td>2568</td>\n",
       "      <td>429</td>\n",
       "      <td>2014</td>\n",
       "      <td>503</td>\n",
       "      <td>0.800159</td>\n",
       "      <td>0.824396</td>\n",
       "      <td>0.812097</td>\n",
       "    </tr>\n",
       "    <tr>\n",
       "      <th>1</th>\n",
       "      <td>Feminine</td>\n",
       "      <td>5386</td>\n",
       "      <td>128</td>\n",
       "      <td>0</td>\n",
       "      <td>0</td>\n",
       "      <td>0.000000</td>\n",
       "      <td>0.000000</td>\n",
       "      <td>0.000000</td>\n",
       "    </tr>\n",
       "    <tr>\n",
       "      <th>2</th>\n",
       "      <td>Masculine</td>\n",
       "      <td>4988</td>\n",
       "      <td>447</td>\n",
       "      <td>76</td>\n",
       "      <td>3</td>\n",
       "      <td>0.962025</td>\n",
       "      <td>0.145315</td>\n",
       "      <td>0.252492</td>\n",
       "    </tr>\n",
       "    <tr>\n",
       "      <th>3</th>\n",
       "      <td>Generalization</td>\n",
       "      <td>5246</td>\n",
       "      <td>268</td>\n",
       "      <td>0</td>\n",
       "      <td>0</td>\n",
       "      <td>0.000000</td>\n",
       "      <td>0.000000</td>\n",
       "      <td>0.000000</td>\n",
       "    </tr>\n",
       "    <tr>\n",
       "      <th>4</th>\n",
       "      <td>Gendered-Pronoun</td>\n",
       "      <td>5259</td>\n",
       "      <td>253</td>\n",
       "      <td>2</td>\n",
       "      <td>0</td>\n",
       "      <td>1.000000</td>\n",
       "      <td>0.007843</td>\n",
       "      <td>0.015564</td>\n",
       "    </tr>\n",
       "    <tr>\n",
       "      <th>5</th>\n",
       "      <td>Gendered-Role</td>\n",
       "      <td>5132</td>\n",
       "      <td>382</td>\n",
       "      <td>0</td>\n",
       "      <td>0</td>\n",
       "      <td>0.000000</td>\n",
       "      <td>0.000000</td>\n",
       "      <td>0.000000</td>\n",
       "    </tr>\n",
       "    <tr>\n",
       "      <th>6</th>\n",
       "      <td>Occupation</td>\n",
       "      <td>5106</td>\n",
       "      <td>381</td>\n",
       "      <td>27</td>\n",
       "      <td>0</td>\n",
       "      <td>1.000000</td>\n",
       "      <td>0.066176</td>\n",
       "      <td>0.124138</td>\n",
       "    </tr>\n",
       "    <tr>\n",
       "      <th>7</th>\n",
       "      <td>Omission</td>\n",
       "      <td>4709</td>\n",
       "      <td>719</td>\n",
       "      <td>85</td>\n",
       "      <td>1</td>\n",
       "      <td>0.988372</td>\n",
       "      <td>0.105721</td>\n",
       "      <td>0.191011</td>\n",
       "    </tr>\n",
       "    <tr>\n",
       "      <th>8</th>\n",
       "      <td>Stereotype</td>\n",
       "      <td>5199</td>\n",
       "      <td>313</td>\n",
       "      <td>2</td>\n",
       "      <td>0</td>\n",
       "      <td>1.000000</td>\n",
       "      <td>0.006349</td>\n",
       "      <td>0.012618</td>\n",
       "    </tr>\n",
       "  </tbody>\n",
       "</table>\n",
       "</div>"
      ],
      "text/plain": [
       "             labels  true_neg  false_neg  true_pos  false_pos  precision  \\\n",
       "0           Unknown      2568        429      2014        503   0.800159   \n",
       "1          Feminine      5386        128         0          0   0.000000   \n",
       "2         Masculine      4988        447        76          3   0.962025   \n",
       "3    Generalization      5246        268         0          0   0.000000   \n",
       "4  Gendered-Pronoun      5259        253         2          0   1.000000   \n",
       "5     Gendered-Role      5132        382         0          0   0.000000   \n",
       "6        Occupation      5106        381        27          0   1.000000   \n",
       "7          Omission      4709        719        85          1   0.988372   \n",
       "8        Stereotype      5199        313         2          0   1.000000   \n",
       "\n",
       "     recall       f_1  \n",
       "0  0.824396  0.812097  \n",
       "1  0.000000  0.000000  \n",
       "2  0.145315  0.252492  \n",
       "3  0.000000  0.000000  \n",
       "4  0.007843  0.015564  \n",
       "5  0.000000  0.000000  \n",
       "6  0.066176  0.124138  \n",
       "7  0.105721  0.191011  \n",
       "8  0.006349  0.012618  "
      ]
     },
     "execution_count": 20,
     "metadata": {},
     "output_type": "execute_result"
    }
   ],
   "source": [
    "dev_matrix = multilabel_confusion_matrix(y_devtest_binarized, predicted_dev, labels=classes)\n",
    "df_dev = utils.getPerformanceMetrics(y_devtest_binarized, predicted_dev, dev_matrix, classes, original_classes)\n",
    "df_dev"
   ]
  },
  {
   "cell_type": "code",
   "execution_count": 21,
   "metadata": {
    "tags": []
   },
   "outputs": [
    {
     "data": {
      "image/png": "[encoded data removed]",
      "text/plain": [
       "<Figure size 432x288 with 2 Axes>"
      ]
     },
     "metadata": {
      "needs_background": "light"
     },
     "output_type": "display_data"
    }
   ],
   "source": [
    "ax = sns.heatmap(dev_matrix[0], annot=True, fmt=\"d\")"
   ]
  },
  {
   "cell_type": "markdown",
   "metadata": {},
   "source": [
    "This classifier performs worse than the second classifier (Logistic Regression) and better than the third classifier (Random Forest)."
   ]
  },
  {
   "cell_type": "code",
   "execution_count": 22,
   "metadata": {
    "tags": []
   },
   "outputs": [],
   "source": [
    "df_dev.to_csv(metrics_dir+\"MultinomialNB_dev_performance.csv\")"
   ]
  },
  {
   "cell_type": "markdown",
   "metadata": {},
   "source": [
    "<a id=\"log\"></a>\n",
    "### Classifier 2: Logistic Regression\n",
    "\n",
    "*a.k.a. maximum-entropy (MaxEnt) or log-linear classification*"
   ]
  },
  {
   "cell_type": "code",
   "execution_count": 41,
   "metadata": {},
   "outputs": [],
   "source": [
    "clf_pipeline = Pipeline([\n",
    "    (\"vect\", CountVectorizer()),\n",
    "    (\"tfidf\", TfidfTransformer()),\n",
    "    (\"clf\", OneVsRestClassifier(LogisticRegression(solver=\"liblinear\", multi_class=\"ovr\")))\n",
    "    ])"
   ]
  },
  {
   "cell_type": "code",
   "execution_count": 42,
   "metadata": {},
   "outputs": [],
   "source": [
    "clf_pipeline.fit(X_train, y_train_binarized)\n",
    "predicted_dev = clf_pipeline.predict(X_devtest)"
   ]
  },
  {
   "cell_type": "markdown",
   "metadata": {},
   "source": [
    "### Performance\n",
    "\n",
    "Calculate performance metrics for the Logistic Regression classifier"
   ]
  },
  {
   "cell_type": "code",
   "execution_count": 43,
   "metadata": {},
   "outputs": [
    {
     "name": "stdout",
     "output_type": "stream",
     "text": [
      "Dev Test Accuracy: 0.9480715753838713\n"
     ]
    }
   ],
   "source": [
    "print(\"Dev Test Accuracy:\", np.mean(predicted_dev == y_devtest_binarized))"
   ]
  },
  {
   "cell_type": "code",
   "execution_count": 44,
   "metadata": {},
   "outputs": [],
   "source": [
    "classes = clf_pipeline.classes_\n",
    "original_classes = mlb.classes_"
   ]
  },
  {
   "cell_type": "code",
   "execution_count": 45,
   "metadata": {},
   "outputs": [],
   "source": [
    "dev_matrix = multilabel_confusion_matrix(y_devtest_binarized, predicted_dev, labels=classes)"
   ]
  },
  {
   "cell_type": "code",
   "execution_count": 46,
   "metadata": {},
   "outputs": [
    {
     "data": {
      "text/html": [
       "<div>\n",
       "<style scoped>\n",
       "    .dataframe tbody tr th:only-of-type {\n",
       "        vertical-align: middle;\n",
       "    }\n",
       "\n",
       "    .dataframe tbody tr th {\n",
       "        vertical-align: top;\n",
       "    }\n",
       "\n",
       "    .dataframe thead th {\n",
       "        text-align: right;\n",
       "    }\n",
       "</style>\n",
       "<table border=\"1\" class=\"dataframe\">\n",
       "  <thead>\n",
       "    <tr style=\"text-align: right;\">\n",
       "      <th></th>\n",
       "      <th>labels</th>\n",
       "      <th>true_neg</th>\n",
       "      <th>false_neg</th>\n",
       "      <th>true_pos</th>\n",
       "      <th>false_pos</th>\n",
       "      <th>precision</th>\n",
       "      <th>recall</th>\n",
       "      <th>f_1</th>\n",
       "    </tr>\n",
       "  </thead>\n",
       "  <tbody>\n",
       "    <tr>\n",
       "      <th>0</th>\n",
       "      <td>Unknown</td>\n",
       "      <td>2721</td>\n",
       "      <td>467</td>\n",
       "      <td>1976</td>\n",
       "      <td>350</td>\n",
       "      <td>0.849527</td>\n",
       "      <td>0.808842</td>\n",
       "      <td>0.828685</td>\n",
       "    </tr>\n",
       "    <tr>\n",
       "      <th>1</th>\n",
       "      <td>Feminine</td>\n",
       "      <td>5381</td>\n",
       "      <td>104</td>\n",
       "      <td>24</td>\n",
       "      <td>5</td>\n",
       "      <td>0.827586</td>\n",
       "      <td>0.187500</td>\n",
       "      <td>0.305732</td>\n",
       "    </tr>\n",
       "    <tr>\n",
       "      <th>2</th>\n",
       "      <td>Masculine</td>\n",
       "      <td>4950</td>\n",
       "      <td>188</td>\n",
       "      <td>335</td>\n",
       "      <td>41</td>\n",
       "      <td>0.890957</td>\n",
       "      <td>0.640535</td>\n",
       "      <td>0.745273</td>\n",
       "    </tr>\n",
       "    <tr>\n",
       "      <th>3</th>\n",
       "      <td>Generalization</td>\n",
       "      <td>5221</td>\n",
       "      <td>161</td>\n",
       "      <td>107</td>\n",
       "      <td>25</td>\n",
       "      <td>0.810606</td>\n",
       "      <td>0.399254</td>\n",
       "      <td>0.535000</td>\n",
       "    </tr>\n",
       "    <tr>\n",
       "      <th>4</th>\n",
       "      <td>Gendered-Pronoun</td>\n",
       "      <td>5246</td>\n",
       "      <td>108</td>\n",
       "      <td>147</td>\n",
       "      <td>13</td>\n",
       "      <td>0.918750</td>\n",
       "      <td>0.576471</td>\n",
       "      <td>0.708434</td>\n",
       "    </tr>\n",
       "    <tr>\n",
       "      <th>5</th>\n",
       "      <td>Gendered-Role</td>\n",
       "      <td>5113</td>\n",
       "      <td>212</td>\n",
       "      <td>170</td>\n",
       "      <td>19</td>\n",
       "      <td>0.899471</td>\n",
       "      <td>0.445026</td>\n",
       "      <td>0.595447</td>\n",
       "    </tr>\n",
       "    <tr>\n",
       "      <th>6</th>\n",
       "      <td>Occupation</td>\n",
       "      <td>5096</td>\n",
       "      <td>274</td>\n",
       "      <td>134</td>\n",
       "      <td>10</td>\n",
       "      <td>0.930556</td>\n",
       "      <td>0.328431</td>\n",
       "      <td>0.485507</td>\n",
       "    </tr>\n",
       "    <tr>\n",
       "      <th>7</th>\n",
       "      <td>Omission</td>\n",
       "      <td>4649</td>\n",
       "      <td>409</td>\n",
       "      <td>395</td>\n",
       "      <td>61</td>\n",
       "      <td>0.866228</td>\n",
       "      <td>0.491294</td>\n",
       "      <td>0.626984</td>\n",
       "    </tr>\n",
       "    <tr>\n",
       "      <th>8</th>\n",
       "      <td>Stereotype</td>\n",
       "      <td>5193</td>\n",
       "      <td>124</td>\n",
       "      <td>191</td>\n",
       "      <td>6</td>\n",
       "      <td>0.969543</td>\n",
       "      <td>0.606349</td>\n",
       "      <td>0.746094</td>\n",
       "    </tr>\n",
       "  </tbody>\n",
       "</table>\n",
       "</div>"
      ],
      "text/plain": [
       "             labels  true_neg  false_neg  true_pos  false_pos  precision  \\\n",
       "0           Unknown      2721        467      1976        350   0.849527   \n",
       "1          Feminine      5381        104        24          5   0.827586   \n",
       "2         Masculine      4950        188       335         41   0.890957   \n",
       "3    Generalization      5221        161       107         25   0.810606   \n",
       "4  Gendered-Pronoun      5246        108       147         13   0.918750   \n",
       "5     Gendered-Role      5113        212       170         19   0.899471   \n",
       "6        Occupation      5096        274       134         10   0.930556   \n",
       "7          Omission      4649        409       395         61   0.866228   \n",
       "8        Stereotype      5193        124       191          6   0.969543   \n",
       "\n",
       "     recall       f_1  \n",
       "0  0.808842  0.828685  \n",
       "1  0.187500  0.305732  \n",
       "2  0.640535  0.745273  \n",
       "3  0.399254  0.535000  \n",
       "4  0.576471  0.708434  \n",
       "5  0.445026  0.595447  \n",
       "6  0.328431  0.485507  \n",
       "7  0.491294  0.626984  \n",
       "8  0.606349  0.746094  "
      ]
     },
     "execution_count": 46,
     "metadata": {},
     "output_type": "execute_result"
    }
   ],
   "source": [
    "df_dev = utils.getPerformanceMetrics(y_devtest_binarized, predicted_dev, dev_matrix, classes, original_classes)\n",
    "df_dev"
   ]
  },
  {
   "cell_type": "code",
   "execution_count": 47,
   "metadata": {
    "tags": []
   },
   "outputs": [
    {
     "data": {
      "image/png": "[encoded data removed]",
      "text/plain": [
       "<Figure size 432x288 with 2 Axes>"
      ]
     },
     "metadata": {
      "needs_background": "light"
     },
     "output_type": "display_data"
    }
   ],
   "source": [
    "ax = sns.heatmap(dev_matrix[8], annot=True, fmt=\"d\")"
   ]
  },
  {
   "cell_type": "markdown",
   "metadata": {},
   "source": [
    "This classifier performs better than the first classifier (Multinomial Naive Bayes) and third classifier (Random Forest)."
   ]
  },
  {
   "cell_type": "code",
   "execution_count": 30,
   "metadata": {
    "tags": []
   },
   "outputs": [],
   "source": [
    "df_dev.to_csv(metrics_dir+\"LogisticRegression_dev_performance.csv\")"
   ]
  },
  {
   "cell_type": "markdown",
   "metadata": {},
   "source": [
    "<a id=\"ran\"></a>\n",
    "### Classifier 3: Random Forest"
   ]
  },
  {
   "cell_type": "code",
   "execution_count": 31,
   "metadata": {
    "tags": []
   },
   "outputs": [],
   "source": [
    "clf_pipeline = Pipeline([\n",
    "    (\"vect\", CountVectorizer()),\n",
    "    (\"tfidf\", TfidfTransformer()),\n",
    "    (\"clf\", OneVsRestClassifier(RandomForestClassifier(max_depth=3, random_state=0)))\n",
    "    ])"
   ]
  },
  {
   "cell_type": "code",
   "execution_count": 32,
   "metadata": {
    "tags": []
   },
   "outputs": [],
   "source": [
    "clf_pipeline.fit(X_train, y_train_binarized)\n",
    "predicted_dev = clf_pipeline.predict(X_devtest)"
   ]
  },
  {
   "cell_type": "code",
   "execution_count": 33,
   "metadata": {
    "tags": []
   },
   "outputs": [],
   "source": [
    "classes = clf_pipeline.classes_\n",
    "original_classes = mlb.classes_"
   ]
  },
  {
   "cell_type": "code",
   "execution_count": 34,
   "metadata": {
    "tags": []
   },
   "outputs": [
    {
     "name": "stdout",
     "output_type": "stream",
     "text": [
      "Dev Test Accuracy: 0.888667230887035\n"
     ]
    }
   ],
   "source": [
    "print(\"Dev Test Accuracy:\", np.mean(predicted_dev == y_devtest_binarized))"
   ]
  },
  {
   "cell_type": "code",
   "execution_count": 35,
   "metadata": {
    "tags": []
   },
   "outputs": [
    {
     "data": {
      "text/html": [
       "<div>\n",
       "<style scoped>\n",
       "    .dataframe tbody tr th:only-of-type {\n",
       "        vertical-align: middle;\n",
       "    }\n",
       "\n",
       "    .dataframe tbody tr th {\n",
       "        vertical-align: top;\n",
       "    }\n",
       "\n",
       "    .dataframe thead th {\n",
       "        text-align: right;\n",
       "    }\n",
       "</style>\n",
       "<table border=\"1\" class=\"dataframe\">\n",
       "  <thead>\n",
       "    <tr style=\"text-align: right;\">\n",
       "      <th></th>\n",
       "      <th>labels</th>\n",
       "      <th>true_neg</th>\n",
       "      <th>false_neg</th>\n",
       "      <th>true_pos</th>\n",
       "      <th>false_pos</th>\n",
       "      <th>precision</th>\n",
       "      <th>recall</th>\n",
       "      <th>f_1</th>\n",
       "    </tr>\n",
       "  </thead>\n",
       "  <tbody>\n",
       "    <tr>\n",
       "      <th>0</th>\n",
       "      <td>Unknown</td>\n",
       "      <td>3071</td>\n",
       "      <td>2442</td>\n",
       "      <td>1</td>\n",
       "      <td>0</td>\n",
       "      <td>1.0</td>\n",
       "      <td>0.000409</td>\n",
       "      <td>0.000818</td>\n",
       "    </tr>\n",
       "    <tr>\n",
       "      <th>1</th>\n",
       "      <td>Feminine</td>\n",
       "      <td>5386</td>\n",
       "      <td>128</td>\n",
       "      <td>0</td>\n",
       "      <td>0</td>\n",
       "      <td>0.0</td>\n",
       "      <td>0.000000</td>\n",
       "      <td>0.000000</td>\n",
       "    </tr>\n",
       "    <tr>\n",
       "      <th>2</th>\n",
       "      <td>Masculine</td>\n",
       "      <td>4991</td>\n",
       "      <td>523</td>\n",
       "      <td>0</td>\n",
       "      <td>0</td>\n",
       "      <td>0.0</td>\n",
       "      <td>0.000000</td>\n",
       "      <td>0.000000</td>\n",
       "    </tr>\n",
       "    <tr>\n",
       "      <th>3</th>\n",
       "      <td>Generalization</td>\n",
       "      <td>5246</td>\n",
       "      <td>268</td>\n",
       "      <td>0</td>\n",
       "      <td>0</td>\n",
       "      <td>0.0</td>\n",
       "      <td>0.000000</td>\n",
       "      <td>0.000000</td>\n",
       "    </tr>\n",
       "    <tr>\n",
       "      <th>4</th>\n",
       "      <td>Gendered-Pronoun</td>\n",
       "      <td>5259</td>\n",
       "      <td>255</td>\n",
       "      <td>0</td>\n",
       "      <td>0</td>\n",
       "      <td>0.0</td>\n",
       "      <td>0.000000</td>\n",
       "      <td>0.000000</td>\n",
       "    </tr>\n",
       "    <tr>\n",
       "      <th>5</th>\n",
       "      <td>Gendered-Role</td>\n",
       "      <td>5132</td>\n",
       "      <td>382</td>\n",
       "      <td>0</td>\n",
       "      <td>0</td>\n",
       "      <td>0.0</td>\n",
       "      <td>0.000000</td>\n",
       "      <td>0.000000</td>\n",
       "    </tr>\n",
       "    <tr>\n",
       "      <th>6</th>\n",
       "      <td>Occupation</td>\n",
       "      <td>5106</td>\n",
       "      <td>408</td>\n",
       "      <td>0</td>\n",
       "      <td>0</td>\n",
       "      <td>0.0</td>\n",
       "      <td>0.000000</td>\n",
       "      <td>0.000000</td>\n",
       "    </tr>\n",
       "    <tr>\n",
       "      <th>7</th>\n",
       "      <td>Omission</td>\n",
       "      <td>4710</td>\n",
       "      <td>804</td>\n",
       "      <td>0</td>\n",
       "      <td>0</td>\n",
       "      <td>0.0</td>\n",
       "      <td>0.000000</td>\n",
       "      <td>0.000000</td>\n",
       "    </tr>\n",
       "    <tr>\n",
       "      <th>8</th>\n",
       "      <td>Stereotype</td>\n",
       "      <td>5199</td>\n",
       "      <td>315</td>\n",
       "      <td>0</td>\n",
       "      <td>0</td>\n",
       "      <td>0.0</td>\n",
       "      <td>0.000000</td>\n",
       "      <td>0.000000</td>\n",
       "    </tr>\n",
       "  </tbody>\n",
       "</table>\n",
       "</div>"
      ],
      "text/plain": [
       "             labels  true_neg  false_neg  true_pos  false_pos  precision  \\\n",
       "0           Unknown      3071       2442         1          0        1.0   \n",
       "1          Feminine      5386        128         0          0        0.0   \n",
       "2         Masculine      4991        523         0          0        0.0   \n",
       "3    Generalization      5246        268         0          0        0.0   \n",
       "4  Gendered-Pronoun      5259        255         0          0        0.0   \n",
       "5     Gendered-Role      5132        382         0          0        0.0   \n",
       "6        Occupation      5106        408         0          0        0.0   \n",
       "7          Omission      4710        804         0          0        0.0   \n",
       "8        Stereotype      5199        315         0          0        0.0   \n",
       "\n",
       "     recall       f_1  \n",
       "0  0.000409  0.000818  \n",
       "1  0.000000  0.000000  \n",
       "2  0.000000  0.000000  \n",
       "3  0.000000  0.000000  \n",
       "4  0.000000  0.000000  \n",
       "5  0.000000  0.000000  \n",
       "6  0.000000  0.000000  \n",
       "7  0.000000  0.000000  \n",
       "8  0.000000  0.000000  "
      ]
     },
     "execution_count": 35,
     "metadata": {},
     "output_type": "execute_result"
    }
   ],
   "source": [
    "dev_matrix = multilabel_confusion_matrix(y_devtest_binarized, predicted_dev, labels=classes)\n",
    "df_dev = utils.getPerformanceMetrics(y_devtest_binarized, predicted_dev, dev_matrix, classes, original_classes)\n",
    "df_dev"
   ]
  },
  {
   "cell_type": "code",
   "execution_count": 36,
   "metadata": {
    "tags": []
   },
   "outputs": [],
   "source": [
    "dev_matrix = multilabel_confusion_matrix(y_devtest_binarized, predicted_dev, labels=classes)"
   ]
  },
  {
   "cell_type": "code",
   "execution_count": 37,
   "metadata": {
    "tags": []
   },
   "outputs": [
    {
     "data": {
      "image/png": "[encoded data removed]",
      "text/plain": [
       "<Figure size 432x288 with 2 Axes>"
      ]
     },
     "metadata": {
      "needs_background": "light"
     },
     "output_type": "display_data"
    }
   ],
   "source": [
    "ax = sns.heatmap(dev_matrix[0], annot=True, fmt=\"d\")"
   ]
  },
  {
   "cell_type": "markdown",
   "metadata": {},
   "source": [
    "This classifier performs worse than Multinomial Naive Bayes and worse than Logistic Regression."
   ]
  },
  {
   "cell_type": "code",
   "execution_count": 38,
   "metadata": {
    "tags": []
   },
   "outputs": [],
   "source": [
    "df_dev.to_csv(metrics_dir+\"RandomForest_dev_performance.csv\")"
   ]
  },
  {
   "cell_type": "markdown",
   "metadata": {},
   "source": [
    "<a id=\"err\"></a>\n",
    "## Logistic Regression Error Analysis\n",
    "\n",
    "Error analysis of the **Logistic Regression** classifier, as this is the top-performing baseline classification model."
   ]
  },
  {
   "cell_type": "code",
   "execution_count": 48,
   "metadata": {},
   "outputs": [],
   "source": [
    "# Associate classes to numeric labels to strings of label names\n",
    "label_class_to_no = dict(zip(classes,original_classes))\n",
    "labels = {\n",
    "    \"Unknown\": 0, \"Non-binary\": 1, \"Feminine\": 2, \"Masculine\": 3,\n",
    "    \"Generalization\": 4, \"Gendered-Pronoun\": 5, \"Gendered-Role\": 6,\n",
    "    \"Occupation\": 7, \"Omission\":8, \"Stereotype\": 9, \"Empowering\": 10\n",
    "         }\n",
    "label_no_to_name = dict(zip(list(labels.values()), list(labels.keys())))"
   ]
  },
  {
   "cell_type": "markdown",
   "metadata": {},
   "source": [
    "#### Dev Data Confusion Matrices"
   ]
  },
  {
   "cell_type": "code",
   "execution_count": 49,
   "metadata": {},
   "outputs": [],
   "source": [
    "matrices = dict()  # keys are labels, values are 2D arrays \n",
    "for col in range(len(classes)):\n",
    "    y_test_label = y_devtest_binarized[:, col]\n",
    "    pred_label = predicted_dev[:, col]\n",
    "    \n",
    "    matrices[classes[col]] = confusion_matrix(pred_label, y_test_label, normalize=\"all\")"
   ]
  },
  {
   "cell_type": "code",
   "execution_count": 50,
   "metadata": {},
   "outputs": [],
   "source": [
    "png_dir = metrics_dir+\"logreg_dev_confusion_matrices/\"\n",
    "Path(png_dir).mkdir(parents=True, exist_ok=True)"
   ]
  },
  {
   "cell_type": "code",
   "execution_count": 51,
   "metadata": {
    "collapsed": true,
    "jupyter": {
     "outputs_hidden": true
    },
    "tags": []
   },
   "outputs": [
    {
     "data": {
      "image/png": "[encoded data removed]",
      "text/plain": [
       "<Figure size 432x288 with 2 Axes>"
      ]
     },
     "metadata": {
      "needs_background": "light"
     },
     "output_type": "display_data"
    },
    {
     "data": {
      "image/png": "[encoded data removed]",
      "text/plain": [
       "<Figure size 432x288 with 2 Axes>"
      ]
     },
     "metadata": {
      "needs_background": "light"
     },
     "output_type": "display_data"
    },
    {
     "data": {
      "image/png": "[encoded data removed]",
      "text/plain": [
       "<Figure size 432x288 with 2 Axes>"
      ]
     },
     "metadata": {
      "needs_background": "light"
     },
     "output_type": "display_data"
    },
    {
     "data": {
      "image/png": "[encoded data removed]",
      "text/plain": [
       "<Figure size 432x288 with 2 Axes>"
      ]
     },
     "metadata": {
      "needs_background": "light"
     },
     "output_type": "display_data"
    },
    {
     "data": {
      "image/png": "[encoded data removed]",
      "text/plain": [
       "<Figure size 432x288 with 2 Axes>"
      ]
     },
     "metadata": {
      "needs_background": "light"
     },
     "output_type": "display_data"
    },
    {
     "data": {
      "image/png": "[encoded data removed]",
      "text/plain": [
       "<Figure size 432x288 with 2 Axes>"
      ]
     },
     "metadata": {
      "needs_background": "light"
     },
     "output_type": "display_data"
    },
    {
     "data": {
      "image/png": "[encoded data removed]",
      "text/plain": [
       "<Figure size 432x288 with 2 Axes>"
      ]
     },
     "metadata": {
      "needs_background": "light"
     },
     "output_type": "display_data"
    },
    {
     "data": {
      "image/png": "[encoded data removed]",
      "text/plain": [
       "<Figure size 432x288 with 2 Axes>"
      ]
     },
     "metadata": {
      "needs_background": "light"
     },
     "output_type": "display_data"
    },
    {
     "data": {
      "image/png": "[encoded data removed]",
      "text/plain": [
       "<Figure size 432x288 with 2 Axes>"
      ]
     },
     "metadata": {
      "needs_background": "light"
     },
     "output_type": "display_data"
    }
   ],
   "source": [
    "for label_class,matrix in matrices.items():\n",
    "    label_name = label_no_to_name[label_class_to_no[label_class]]\n",
    "    filename = \"{}_cmatrix_normalized_all.png\".format(label_name)\n",
    "    ConfusionMatrixDisplay(matrix, display_labels=[\"Not \"+label_name,label_name]).plot()\n",
    "    plt.savefig(png_dir+filename)"
   ]
  },
  {
   "cell_type": "markdown",
   "metadata": {},
   "source": [
    "Convert predicted dev labels back to text:"
   ]
  },
  {
   "cell_type": "code",
   "execution_count": 52,
   "metadata": {},
   "outputs": [
    {
     "data": {
      "text/plain": [
       "array([1, 0, 1, 1, 1, 1, 1, 1, 1])"
      ]
     },
     "execution_count": 52,
     "metadata": {},
     "output_type": "execute_result"
    }
   ],
   "source": [
    "predicted_dev[0]"
   ]
  },
  {
   "cell_type": "code",
   "execution_count": 53,
   "metadata": {},
   "outputs": [
    {
     "data": {
      "text/plain": [
       "(0, 3, 4, 5, 6, 7, 8, 9)"
      ]
     },
     "execution_count": 53,
     "metadata": {},
     "output_type": "execute_result"
    }
   ],
   "source": [
    "pred_dev_numeric_labels = mlb.inverse_transform(predicted_dev)\n",
    "pred_dev_numeric_labels[0]"
   ]
  },
  {
   "cell_type": "code",
   "execution_count": 54,
   "metadata": {},
   "outputs": [],
   "source": [
    "labels = {\n",
    "    \"Unknown\": 0, \"Non-binary\": 1, \"Feminine\": 2, \"Masculine\": 3,\n",
    "    \"Generalization\": 4, \"Gendered-Pronoun\": 5, \"Gendered-Role\": 6,\n",
    "    \"Occupation\": 7, \"Omission\":8, \"Stereotype\": 9, \"Empowering\": 10\n",
    "         }\n",
    "inverse_labels = dict(zip(list(labels.values()), list(labels.keys())))\n",
    "# print(inverse_labels)\n",
    "pred_dev_labels = []\n",
    "for number_list in pred_dev_numeric_labels:\n",
    "    label_list = [inverse_labels[n] for n in number_list]\n",
    "    pred_dev_labels += [label_list]\n",
    "    \n",
    "assert(len(pred_dev_labels) == len(pred_dev_numeric_labels))\n",
    "assert(len(pred_dev_labels) == len(predicted_dev))"
   ]
  },
  {
   "cell_type": "markdown",
   "metadata": {},
   "source": [
    "Add the classifier's labels to the `aggregated_validate.csv` DataFrame of descriptions to facilitate error analysis:"
   ]
  },
  {
   "cell_type": "code",
   "execution_count": 60,
   "metadata": {},
   "outputs": [
    {
     "data": {
      "text/html": [
       "<div>\n",
       "<style scoped>\n",
       "    .dataframe tbody tr th:only-of-type {\n",
       "        vertical-align: middle;\n",
       "    }\n",
       "\n",
       "    .dataframe tbody tr th {\n",
       "        vertical-align: top;\n",
       "    }\n",
       "\n",
       "    .dataframe thead th {\n",
       "        text-align: right;\n",
       "    }\n",
       "</style>\n",
       "<table border=\"1\" class=\"dataframe\">\n",
       "  <thead>\n",
       "    <tr style=\"text-align: right;\">\n",
       "      <th></th>\n",
       "      <th>description_id</th>\n",
       "      <th>start_offset</th>\n",
       "      <th>end_offset</th>\n",
       "      <th>field</th>\n",
       "      <th>description</th>\n",
       "      <th>agg_ann_id</th>\n",
       "      <th>subset</th>\n",
       "      <th>label</th>\n",
       "    </tr>\n",
       "  </thead>\n",
       "  <tbody>\n",
       "    <tr>\n",
       "      <th>5523</th>\n",
       "      <td>5523</td>\n",
       "      <td>367</td>\n",
       "      <td>1965</td>\n",
       "      <td>Biographical / Historical</td>\n",
       "      <td>Edward Bald Jamieson, from Shetland, was a gra...</td>\n",
       "      <td>[2559, 2560, 2561, 2562, 2563, 2564, 2565, 256...</td>\n",
       "      <td>dev</td>\n",
       "      <td>{'Gendered-Pronoun', 'Generalization', 'Stereo...</td>\n",
       "    </tr>\n",
       "    <tr>\n",
       "      <th>4719</th>\n",
       "      <td>4719</td>\n",
       "      <td>5650</td>\n",
       "      <td>5811</td>\n",
       "      <td>Biographical / Historical</td>\n",
       "      <td>This likely refers to an article of the same t...</td>\n",
       "      <td>[18486, 18487, 25469, 48021]</td>\n",
       "      <td>dev</td>\n",
       "      <td>{'Unknown', 'Omission', 'Masculine'}</td>\n",
       "    </tr>\n",
       "    <tr>\n",
       "      <th>735</th>\n",
       "      <td>735</td>\n",
       "      <td>7735</td>\n",
       "      <td>7881</td>\n",
       "      <td>Biographical / Historical</td>\n",
       "      <td>John Baillie kept a collection of the prayers ...</td>\n",
       "      <td>[12925, 12975, 13039]</td>\n",
       "      <td>dev</td>\n",
       "      <td>{'Masculine', 'Gendered-Pronoun'}</td>\n",
       "    </tr>\n",
       "    <tr>\n",
       "      <th>2183</th>\n",
       "      <td>2183</td>\n",
       "      <td>1072</td>\n",
       "      <td>1372</td>\n",
       "      <td>Biographical / Historical</td>\n",
       "      <td>Joseph W. Hills graduated with the degree of M...</td>\n",
       "      <td>[5313, 5314, 53528]</td>\n",
       "      <td>dev</td>\n",
       "      <td>{'Generalization', 'Masculine', 'Gendered-Pron...</td>\n",
       "    </tr>\n",
       "    <tr>\n",
       "      <th>2299</th>\n",
       "      <td>2299</td>\n",
       "      <td>546</td>\n",
       "      <td>3642</td>\n",
       "      <td>Biographical / Historical</td>\n",
       "      <td>This collection is composed simply of an invit...</td>\n",
       "      <td>[8570, 8571, 8572, 8573, 8574, 8577, 8578, 857...</td>\n",
       "      <td>dev</td>\n",
       "      <td>{'Omission', 'Gendered-Pronoun', 'Unknown', 'S...</td>\n",
       "    </tr>\n",
       "  </tbody>\n",
       "</table>\n",
       "</div>"
      ],
      "text/plain": [
       "      description_id  start_offset  end_offset                      field  \\\n",
       "5523            5523           367        1965  Biographical / Historical   \n",
       "4719            4719          5650        5811  Biographical / Historical   \n",
       "735              735          7735        7881  Biographical / Historical   \n",
       "2183            2183          1072        1372  Biographical / Historical   \n",
       "2299            2299           546        3642  Biographical / Historical   \n",
       "\n",
       "                                            description  \\\n",
       "5523  Edward Bald Jamieson, from Shetland, was a gra...   \n",
       "4719  This likely refers to an article of the same t...   \n",
       "735   John Baillie kept a collection of the prayers ...   \n",
       "2183  Joseph W. Hills graduated with the degree of M...   \n",
       "2299  This collection is composed simply of an invit...   \n",
       "\n",
       "                                             agg_ann_id subset  \\\n",
       "5523  [2559, 2560, 2561, 2562, 2563, 2564, 2565, 256...    dev   \n",
       "4719                       [18486, 18487, 25469, 48021]    dev   \n",
       "735                               [12925, 12975, 13039]    dev   \n",
       "2183                                [5313, 5314, 53528]    dev   \n",
       "2299  [8570, 8571, 8572, 8573, 8574, 8577, 8578, 857...    dev   \n",
       "\n",
       "                                                  label  \n",
       "5523  {'Gendered-Pronoun', 'Generalization', 'Stereo...  \n",
       "4719               {'Unknown', 'Omission', 'Masculine'}  \n",
       "735                   {'Masculine', 'Gendered-Pronoun'}  \n",
       "2183  {'Generalization', 'Masculine', 'Gendered-Pron...  \n",
       "2299  {'Omission', 'Gendered-Pronoun', 'Unknown', 'S...  "
      ]
     },
     "execution_count": 60,
     "metadata": {},
     "output_type": "execute_result"
    }
   ],
   "source": [
    "df_dev = pd.read_csv(config.docc_path+\"splits_as_csv/aggregated_final_validate.csv\", index_col=0)\n",
    "df_dev.head()"
   ]
  },
  {
   "cell_type": "code",
   "execution_count": 61,
   "metadata": {},
   "outputs": [],
   "source": [
    "df_dev = df_dev.rename(columns={\"label\":\"manual_label\"})"
   ]
  },
  {
   "cell_type": "code",
   "execution_count": 62,
   "metadata": {},
   "outputs": [
    {
     "data": {
      "text/html": [
       "<div>\n",
       "<style scoped>\n",
       "    .dataframe tbody tr th:only-of-type {\n",
       "        vertical-align: middle;\n",
       "    }\n",
       "\n",
       "    .dataframe tbody tr th {\n",
       "        vertical-align: top;\n",
       "    }\n",
       "\n",
       "    .dataframe thead th {\n",
       "        text-align: right;\n",
       "    }\n",
       "</style>\n",
       "<table border=\"1\" class=\"dataframe\">\n",
       "  <thead>\n",
       "    <tr style=\"text-align: right;\">\n",
       "      <th></th>\n",
       "      <th>description_id</th>\n",
       "      <th>start_offset</th>\n",
       "      <th>end_offset</th>\n",
       "      <th>field</th>\n",
       "      <th>description</th>\n",
       "      <th>agg_ann_id</th>\n",
       "      <th>subset</th>\n",
       "      <th>manual_label</th>\n",
       "      <th>logistic_regression_label</th>\n",
       "    </tr>\n",
       "  </thead>\n",
       "  <tbody>\n",
       "    <tr>\n",
       "      <th>5523</th>\n",
       "      <td>5523</td>\n",
       "      <td>367</td>\n",
       "      <td>1965</td>\n",
       "      <td>Biographical / Historical</td>\n",
       "      <td>Edward Bald Jamieson, from Shetland, was a gra...</td>\n",
       "      <td>[2559, 2560, 2561, 2562, 2563, 2564, 2565, 256...</td>\n",
       "      <td>dev</td>\n",
       "      <td>{'Gendered-Pronoun', 'Generalization', 'Stereo...</td>\n",
       "      <td>[Unknown, Masculine, Generalization, Gendered-...</td>\n",
       "    </tr>\n",
       "    <tr>\n",
       "      <th>4719</th>\n",
       "      <td>4719</td>\n",
       "      <td>5650</td>\n",
       "      <td>5811</td>\n",
       "      <td>Biographical / Historical</td>\n",
       "      <td>This likely refers to an article of the same t...</td>\n",
       "      <td>[18486, 18487, 25469, 48021]</td>\n",
       "      <td>dev</td>\n",
       "      <td>{'Unknown', 'Omission', 'Masculine'}</td>\n",
       "      <td>[Unknown, Masculine, Omission]</td>\n",
       "    </tr>\n",
       "    <tr>\n",
       "      <th>735</th>\n",
       "      <td>735</td>\n",
       "      <td>7735</td>\n",
       "      <td>7881</td>\n",
       "      <td>Biographical / Historical</td>\n",
       "      <td>John Baillie kept a collection of the prayers ...</td>\n",
       "      <td>[12925, 12975, 13039]</td>\n",
       "      <td>dev</td>\n",
       "      <td>{'Masculine', 'Gendered-Pronoun'}</td>\n",
       "      <td>[Unknown, Masculine]</td>\n",
       "    </tr>\n",
       "    <tr>\n",
       "      <th>2183</th>\n",
       "      <td>2183</td>\n",
       "      <td>1072</td>\n",
       "      <td>1372</td>\n",
       "      <td>Biographical / Historical</td>\n",
       "      <td>Joseph W. Hills graduated with the degree of M...</td>\n",
       "      <td>[5313, 5314, 53528]</td>\n",
       "      <td>dev</td>\n",
       "      <td>{'Generalization', 'Masculine', 'Gendered-Pron...</td>\n",
       "      <td>[Unknown, Occupation]</td>\n",
       "    </tr>\n",
       "    <tr>\n",
       "      <th>2299</th>\n",
       "      <td>2299</td>\n",
       "      <td>546</td>\n",
       "      <td>3642</td>\n",
       "      <td>Biographical / Historical</td>\n",
       "      <td>This collection is composed simply of an invit...</td>\n",
       "      <td>[8570, 8571, 8572, 8573, 8574, 8577, 8578, 857...</td>\n",
       "      <td>dev</td>\n",
       "      <td>{'Omission', 'Gendered-Pronoun', 'Unknown', 'S...</td>\n",
       "      <td>[Unknown, Masculine, Gendered-Pronoun, Gendere...</td>\n",
       "    </tr>\n",
       "  </tbody>\n",
       "</table>\n",
       "</div>"
      ],
      "text/plain": [
       "      description_id  start_offset  end_offset                      field  \\\n",
       "5523            5523           367        1965  Biographical / Historical   \n",
       "4719            4719          5650        5811  Biographical / Historical   \n",
       "735              735          7735        7881  Biographical / Historical   \n",
       "2183            2183          1072        1372  Biographical / Historical   \n",
       "2299            2299           546        3642  Biographical / Historical   \n",
       "\n",
       "                                            description  \\\n",
       "5523  Edward Bald Jamieson, from Shetland, was a gra...   \n",
       "4719  This likely refers to an article of the same t...   \n",
       "735   John Baillie kept a collection of the prayers ...   \n",
       "2183  Joseph W. Hills graduated with the degree of M...   \n",
       "2299  This collection is composed simply of an invit...   \n",
       "\n",
       "                                             agg_ann_id subset  \\\n",
       "5523  [2559, 2560, 2561, 2562, 2563, 2564, 2565, 256...    dev   \n",
       "4719                       [18486, 18487, 25469, 48021]    dev   \n",
       "735                               [12925, 12975, 13039]    dev   \n",
       "2183                                [5313, 5314, 53528]    dev   \n",
       "2299  [8570, 8571, 8572, 8573, 8574, 8577, 8578, 857...    dev   \n",
       "\n",
       "                                           manual_label  \\\n",
       "5523  {'Gendered-Pronoun', 'Generalization', 'Stereo...   \n",
       "4719               {'Unknown', 'Omission', 'Masculine'}   \n",
       "735                   {'Masculine', 'Gendered-Pronoun'}   \n",
       "2183  {'Generalization', 'Masculine', 'Gendered-Pron...   \n",
       "2299  {'Omission', 'Gendered-Pronoun', 'Unknown', 'S...   \n",
       "\n",
       "                              logistic_regression_label  \n",
       "5523  [Unknown, Masculine, Generalization, Gendered-...  \n",
       "4719                     [Unknown, Masculine, Omission]  \n",
       "735                                [Unknown, Masculine]  \n",
       "2183                              [Unknown, Occupation]  \n",
       "2299  [Unknown, Masculine, Gendered-Pronoun, Gendere...  "
      ]
     },
     "execution_count": 62,
     "metadata": {},
     "output_type": "execute_result"
    }
   ],
   "source": [
    "df_dev.insert(len(df_dev.columns), \"logistic_regression_label\", pred_dev_labels)\n",
    "df_dev.head()"
   ]
  },
  {
   "cell_type": "markdown",
   "metadata": {},
   "source": [
    "Save this version of the data:"
   ]
  },
  {
   "cell_type": "code",
   "execution_count": 104,
   "metadata": {},
   "outputs": [],
   "source": [
    "validate_output_path = \"../data/doc_clf_data/model_output_logistic_regression/\"\n",
    "Path(validate_output_path).mkdir(parents=True, exist_ok=True)\n",
    "df_dev.to_csv(validate_output_path+\"aggregated_final_validate_predictions_lr.csv\")"
   ]
  },
  {
   "cell_type": "markdown",
   "metadata": {},
   "source": [
    "Explode and join the DataFrames of expected and predicted annotations for easier row-by-row comparison:"
   ]
  },
  {
   "cell_type": "code",
   "execution_count": 89,
   "metadata": {},
   "outputs": [
    {
     "data": {
      "text/html": [
       "<div>\n",
       "<style scoped>\n",
       "    .dataframe tbody tr th:only-of-type {\n",
       "        vertical-align: middle;\n",
       "    }\n",
       "\n",
       "    .dataframe tbody tr th {\n",
       "        vertical-align: top;\n",
       "    }\n",
       "\n",
       "    .dataframe thead th {\n",
       "        text-align: right;\n",
       "    }\n",
       "</style>\n",
       "<table border=\"1\" class=\"dataframe\">\n",
       "  <thead>\n",
       "    <tr style=\"text-align: right;\">\n",
       "      <th></th>\n",
       "      <th>description_id</th>\n",
       "      <th>start_offset</th>\n",
       "      <th>end_offset</th>\n",
       "      <th>field</th>\n",
       "      <th>description</th>\n",
       "      <th>agg_ann_id</th>\n",
       "      <th>subset</th>\n",
       "      <th>expected_label</th>\n",
       "    </tr>\n",
       "  </thead>\n",
       "  <tbody>\n",
       "    <tr>\n",
       "      <th>5</th>\n",
       "      <td>5</td>\n",
       "      <td>17</td>\n",
       "      <td>60</td>\n",
       "      <td>Title</td>\n",
       "      <td>Papers of Rev Tom Allan (1916-1965)</td>\n",
       "      <td>[9531, 23084]</td>\n",
       "      <td>dev</td>\n",
       "      <td>Masculine</td>\n",
       "    </tr>\n",
       "    <tr>\n",
       "      <th>5</th>\n",
       "      <td>5</td>\n",
       "      <td>17</td>\n",
       "      <td>60</td>\n",
       "      <td>Title</td>\n",
       "      <td>Papers of Rev Tom Allan (1916-1965)</td>\n",
       "      <td>[9531, 23084]</td>\n",
       "      <td>dev</td>\n",
       "      <td>Unknown</td>\n",
       "    </tr>\n",
       "    <tr>\n",
       "      <th>6</th>\n",
       "      <td>6</td>\n",
       "      <td>61</td>\n",
       "      <td>560</td>\n",
       "      <td>Scope and Contents</td>\n",
       "      <td>Sermons and addresses, 1947-1963; essays and l...</td>\n",
       "      <td>None</td>\n",
       "      <td>dev</td>\n",
       "      <td>None</td>\n",
       "    </tr>\n",
       "    <tr>\n",
       "      <th>7</th>\n",
       "      <td>7</td>\n",
       "      <td>561</td>\n",
       "      <td>2513</td>\n",
       "      <td>Biographical / Historical</td>\n",
       "      <td>Rev Thomas Allan was born on 16 August 1916 in...</td>\n",
       "      <td>[55, 9516, 9517, 9518, 9519, 9520, 9521, 9522,...</td>\n",
       "      <td>dev</td>\n",
       "      <td>Omission</td>\n",
       "    </tr>\n",
       "    <tr>\n",
       "      <th>7</th>\n",
       "      <td>7</td>\n",
       "      <td>561</td>\n",
       "      <td>2513</td>\n",
       "      <td>Biographical / Historical</td>\n",
       "      <td>Rev Thomas Allan was born on 16 August 1916 in...</td>\n",
       "      <td>[55, 9516, 9517, 9518, 9519, 9520, 9521, 9522,...</td>\n",
       "      <td>dev</td>\n",
       "      <td>Gendered-Pronoun</td>\n",
       "    </tr>\n",
       "  </tbody>\n",
       "</table>\n",
       "</div>"
      ],
      "text/plain": [
       "   description_id  start_offset  end_offset                      field  \\\n",
       "5               5            17          60                      Title   \n",
       "5               5            17          60                      Title   \n",
       "6               6            61         560         Scope and Contents   \n",
       "7               7           561        2513  Biographical / Historical   \n",
       "7               7           561        2513  Biographical / Historical   \n",
       "\n",
       "                                         description  \\\n",
       "5                Papers of Rev Tom Allan (1916-1965)   \n",
       "5                Papers of Rev Tom Allan (1916-1965)   \n",
       "6  Sermons and addresses, 1947-1963; essays and l...   \n",
       "7  Rev Thomas Allan was born on 16 August 1916 in...   \n",
       "7  Rev Thomas Allan was born on 16 August 1916 in...   \n",
       "\n",
       "                                          agg_ann_id subset    expected_label  \n",
       "5                                      [9531, 23084]    dev         Masculine  \n",
       "5                                      [9531, 23084]    dev           Unknown  \n",
       "6                                               None    dev              None  \n",
       "7  [55, 9516, 9517, 9518, 9519, 9520, 9521, 9522,...    dev          Omission  \n",
       "7  [55, 9516, 9517, 9518, 9519, 9520, 9521, 9522,...    dev  Gendered-Pronoun  "
      ]
     },
     "execution_count": 89,
     "metadata": {},
     "output_type": "execute_result"
    }
   ],
   "source": [
    "df_exp = pd.read_csv(config.docc_path+\"splits_as_csv/aggregated_final_validate.csv\", index_col=0)\n",
    "# Rows without labels can't be exploded, so remove those and concatenate them at the end\n",
    "df_exp_na = df_exp.loc[df_exp.label.isna()]\n",
    "df_exp_notna = df_exp.loc[~df_exp.label.isna()]\n",
    "\n",
    "labels_lists = df_exp_notna[\"label\"] \n",
    "new_labels_lists = [label_list[2:-2] for label_list in labels_lists if label_list != \"\"]\n",
    "df_exp_notna = df_exp_notna.drop(columns=[\"label\"])\n",
    "df_exp_notna.insert(len(df_exp_notna.columns), \"label\", new_labels_lists)\n",
    "df_exp_notna = df_exp_notna.assign(label=df_exp_notna.label.str.split(\"', '\")).explode(\"label\")\n",
    "\n",
    "df_exp = pd.concat([df_exp_na,df_exp_notna])\n",
    "df_exp = df_exp.sort_values(by=\"description_id\")\n",
    "df_exp = df_exp.rename(columns={\"label\":\"expected_label\"})\n",
    "df_exp = df_exp.fillna(\"None\")\n",
    "\n",
    "df_exp.head()"
   ]
  },
  {
   "cell_type": "code",
   "execution_count": 94,
   "metadata": {},
   "outputs": [
    {
     "data": {
      "text/html": [
       "<div>\n",
       "<style scoped>\n",
       "    .dataframe tbody tr th:only-of-type {\n",
       "        vertical-align: middle;\n",
       "    }\n",
       "\n",
       "    .dataframe tbody tr th {\n",
       "        vertical-align: top;\n",
       "    }\n",
       "\n",
       "    .dataframe thead th {\n",
       "        text-align: right;\n",
       "    }\n",
       "</style>\n",
       "<table border=\"1\" class=\"dataframe\">\n",
       "  <thead>\n",
       "    <tr style=\"text-align: right;\">\n",
       "      <th></th>\n",
       "      <th>description_id</th>\n",
       "      <th>start_offset</th>\n",
       "      <th>end_offset</th>\n",
       "      <th>field</th>\n",
       "      <th>description</th>\n",
       "      <th>agg_ann_id</th>\n",
       "      <th>subset</th>\n",
       "      <th>predicted_label</th>\n",
       "    </tr>\n",
       "  </thead>\n",
       "  <tbody>\n",
       "    <tr>\n",
       "      <th>5</th>\n",
       "      <td>5</td>\n",
       "      <td>17</td>\n",
       "      <td>60</td>\n",
       "      <td>Title</td>\n",
       "      <td>Papers of Rev Tom Allan (1916-1965)</td>\n",
       "      <td>[9531, 23084]</td>\n",
       "      <td>dev</td>\n",
       "      <td></td>\n",
       "    </tr>\n",
       "    <tr>\n",
       "      <th>6</th>\n",
       "      <td>6</td>\n",
       "      <td>61</td>\n",
       "      <td>560</td>\n",
       "      <td>Scope and Contents</td>\n",
       "      <td>Sermons and addresses, 1947-1963; essays and l...</td>\n",
       "      <td>NaN</td>\n",
       "      <td>dev</td>\n",
       "      <td></td>\n",
       "    </tr>\n",
       "    <tr>\n",
       "      <th>7</th>\n",
       "      <td>7</td>\n",
       "      <td>561</td>\n",
       "      <td>2513</td>\n",
       "      <td>Biographical / Historical</td>\n",
       "      <td>Rev Thomas Allan was born on 16 August 1916 in...</td>\n",
       "      <td>[55, 9516, 9517, 9518, 9519, 9520, 9521, 9522,...</td>\n",
       "      <td>dev</td>\n",
       "      <td>Unknown</td>\n",
       "    </tr>\n",
       "    <tr>\n",
       "      <th>7</th>\n",
       "      <td>7</td>\n",
       "      <td>561</td>\n",
       "      <td>2513</td>\n",
       "      <td>Biographical / Historical</td>\n",
       "      <td>Rev Thomas Allan was born on 16 August 1916 in...</td>\n",
       "      <td>[55, 9516, 9517, 9518, 9519, 9520, 9521, 9522,...</td>\n",
       "      <td>dev</td>\n",
       "      <td>Masculine</td>\n",
       "    </tr>\n",
       "    <tr>\n",
       "      <th>7</th>\n",
       "      <td>7</td>\n",
       "      <td>561</td>\n",
       "      <td>2513</td>\n",
       "      <td>Biographical / Historical</td>\n",
       "      <td>Rev Thomas Allan was born on 16 August 1916 in...</td>\n",
       "      <td>[55, 9516, 9517, 9518, 9519, 9520, 9521, 9522,...</td>\n",
       "      <td>dev</td>\n",
       "      <td>Generalization</td>\n",
       "    </tr>\n",
       "  </tbody>\n",
       "</table>\n",
       "</div>"
      ],
      "text/plain": [
       "   description_id  start_offset  end_offset                      field  \\\n",
       "5               5            17          60                      Title   \n",
       "6               6            61         560         Scope and Contents   \n",
       "7               7           561        2513  Biographical / Historical   \n",
       "7               7           561        2513  Biographical / Historical   \n",
       "7               7           561        2513  Biographical / Historical   \n",
       "\n",
       "                                         description  \\\n",
       "5                Papers of Rev Tom Allan (1916-1965)   \n",
       "6  Sermons and addresses, 1947-1963; essays and l...   \n",
       "7  Rev Thomas Allan was born on 16 August 1916 in...   \n",
       "7  Rev Thomas Allan was born on 16 August 1916 in...   \n",
       "7  Rev Thomas Allan was born on 16 August 1916 in...   \n",
       "\n",
       "                                          agg_ann_id subset predicted_label  \n",
       "5                                      [9531, 23084]    dev                  \n",
       "6                                                NaN    dev                  \n",
       "7  [55, 9516, 9517, 9518, 9519, 9520, 9521, 9522,...    dev         Unknown  \n",
       "7  [55, 9516, 9517, 9518, 9519, 9520, 9521, 9522,...    dev       Masculine  \n",
       "7  [55, 9516, 9517, 9518, 9519, 9520, 9521, 9522,...    dev  Generalization  "
      ]
     },
     "execution_count": 94,
     "metadata": {},
     "output_type": "execute_result"
    }
   ],
   "source": [
    "df_pred = pd.read_csv(validate_output_path+\"aggregated_final_validate_predictions_lr.csv\", index_col=0)\n",
    "df_pred = df_pred.drop(columns=[\"manual_label\"])\n",
    "df_pred = df_pred.rename(columns={\"logistic_regression_label\":\"predicted_label\"})\n",
    "df_pred[\"predicted_label\"] = [label_list[2:-2] for label_list in list(df_pred.predicted_label)]\n",
    "df_pred = df_pred.assign(predicted_label=df_pred.predicted_label.str.split(\"', '\")).explode(\"predicted_label\")\n",
    "df_pred.head()"
   ]
  },
  {
   "cell_type": "code",
   "execution_count": 50,
   "metadata": {},
   "outputs": [],
   "source": [
    "# df_pred_sub = df_pred.drop(columns=[\"description\",  \"field\", \"eadid\", \"file\", \"desc_start_offset\", \"desc_end_offset\", \"subset\"])\n",
    "# df_pred_sub.to_csv(\"data/aggregated_data/splits/validate_predictions.csv\")"
   ]
  },
  {
   "cell_type": "code",
   "execution_count": 101,
   "metadata": {},
   "outputs": [
    {
     "data": {
      "text/html": [
       "<div>\n",
       "<style scoped>\n",
       "    .dataframe tbody tr th:only-of-type {\n",
       "        vertical-align: middle;\n",
       "    }\n",
       "\n",
       "    .dataframe tbody tr th {\n",
       "        vertical-align: top;\n",
       "    }\n",
       "\n",
       "    .dataframe thead th {\n",
       "        text-align: right;\n",
       "    }\n",
       "</style>\n",
       "<table border=\"1\" class=\"dataframe\">\n",
       "  <thead>\n",
       "    <tr style=\"text-align: right;\">\n",
       "      <th></th>\n",
       "      <th>description_id</th>\n",
       "      <th>start_offset</th>\n",
       "      <th>end_offset</th>\n",
       "      <th>description</th>\n",
       "      <th>expected_label</th>\n",
       "      <th>predicted_label</th>\n",
       "      <th>_merge</th>\n",
       "    </tr>\n",
       "  </thead>\n",
       "  <tbody>\n",
       "    <tr>\n",
       "      <th>0</th>\n",
       "      <td>5</td>\n",
       "      <td>17</td>\n",
       "      <td>60</td>\n",
       "      <td>Papers of Rev Tom Allan (1916-1965)</td>\n",
       "      <td>Masculine</td>\n",
       "      <td>NaN</td>\n",
       "      <td>left_only</td>\n",
       "    </tr>\n",
       "    <tr>\n",
       "      <th>1</th>\n",
       "      <td>5</td>\n",
       "      <td>17</td>\n",
       "      <td>60</td>\n",
       "      <td>Papers of Rev Tom Allan (1916-1965)</td>\n",
       "      <td>Unknown</td>\n",
       "      <td>NaN</td>\n",
       "      <td>left_only</td>\n",
       "    </tr>\n",
       "    <tr>\n",
       "      <th>2</th>\n",
       "      <td>6</td>\n",
       "      <td>61</td>\n",
       "      <td>560</td>\n",
       "      <td>Sermons and addresses, 1947-1963; essays and l...</td>\n",
       "      <td>None</td>\n",
       "      <td>NaN</td>\n",
       "      <td>left_only</td>\n",
       "    </tr>\n",
       "    <tr>\n",
       "      <th>3</th>\n",
       "      <td>7</td>\n",
       "      <td>561</td>\n",
       "      <td>2513</td>\n",
       "      <td>Rev Thomas Allan was born on 16 August 1916 in...</td>\n",
       "      <td>Omission</td>\n",
       "      <td>Omission</td>\n",
       "      <td>both</td>\n",
       "    </tr>\n",
       "    <tr>\n",
       "      <th>4</th>\n",
       "      <td>7</td>\n",
       "      <td>561</td>\n",
       "      <td>2513</td>\n",
       "      <td>Rev Thomas Allan was born on 16 August 1916 in...</td>\n",
       "      <td>Gendered-Pronoun</td>\n",
       "      <td>Gendered-Pronoun</td>\n",
       "      <td>both</td>\n",
       "    </tr>\n",
       "  </tbody>\n",
       "</table>\n",
       "</div>"
      ],
      "text/plain": [
       "   description_id  start_offset  end_offset  \\\n",
       "0               5            17          60   \n",
       "1               5            17          60   \n",
       "2               6            61         560   \n",
       "3               7           561        2513   \n",
       "4               7           561        2513   \n",
       "\n",
       "                                         description    expected_label  \\\n",
       "0                Papers of Rev Tom Allan (1916-1965)         Masculine   \n",
       "1                Papers of Rev Tom Allan (1916-1965)           Unknown   \n",
       "2  Sermons and addresses, 1947-1963; essays and l...              None   \n",
       "3  Rev Thomas Allan was born on 16 August 1916 in...          Omission   \n",
       "4  Rev Thomas Allan was born on 16 August 1916 in...  Gendered-Pronoun   \n",
       "\n",
       "    predicted_label     _merge  \n",
       "0               NaN  left_only  \n",
       "1               NaN  left_only  \n",
       "2               NaN  left_only  \n",
       "3          Omission       both  \n",
       "4  Gendered-Pronoun       both  "
      ]
     },
     "execution_count": 101,
     "metadata": {},
     "output_type": "execute_result"
    }
   ],
   "source": [
    "dfs = pd.merge(\n",
    "    left=df_exp, right=df_pred, \n",
    "    how=\"outer\", \n",
    "    left_on=[\"description_id\",\"start_offset\",\"end_offset\",\"description\",\"expected_label\"], \n",
    "    right_on=[\"description_id\",\"start_offset\",\"end_offset\",\"description\",\"predicted_label\"], \n",
    "    suffixes=[\"\", \"_pred\"],\n",
    "    indicator=True\n",
    ")\n",
    "dfs = dfs[[\"description_id\",\"start_offset\",\"end_offset\",\"description\",\"expected_label\",\"predicted_label\",\"_merge\"]]\n",
    "dfs.head()"
   ]
  },
  {
   "cell_type": "code",
   "execution_count": 102,
   "metadata": {},
   "outputs": [
    {
     "data": {
      "text/html": [
       "<div>\n",
       "<style scoped>\n",
       "    .dataframe tbody tr th:only-of-type {\n",
       "        vertical-align: middle;\n",
       "    }\n",
       "\n",
       "    .dataframe tbody tr th {\n",
       "        vertical-align: top;\n",
       "    }\n",
       "\n",
       "    .dataframe thead th {\n",
       "        text-align: right;\n",
       "    }\n",
       "</style>\n",
       "<table border=\"1\" class=\"dataframe\">\n",
       "  <thead>\n",
       "    <tr style=\"text-align: right;\">\n",
       "      <th></th>\n",
       "      <th>description_id</th>\n",
       "      <th>start_offset</th>\n",
       "      <th>end_offset</th>\n",
       "      <th>description</th>\n",
       "      <th>expected_label</th>\n",
       "      <th>predicted_label</th>\n",
       "      <th>_merge</th>\n",
       "    </tr>\n",
       "  </thead>\n",
       "  <tbody>\n",
       "    <tr>\n",
       "      <th>0</th>\n",
       "      <td>5</td>\n",
       "      <td>17</td>\n",
       "      <td>60</td>\n",
       "      <td>Papers of Rev Tom Allan (1916-1965)</td>\n",
       "      <td>Masculine</td>\n",
       "      <td>NaN</td>\n",
       "      <td>false negative</td>\n",
       "    </tr>\n",
       "    <tr>\n",
       "      <th>1</th>\n",
       "      <td>5</td>\n",
       "      <td>17</td>\n",
       "      <td>60</td>\n",
       "      <td>Papers of Rev Tom Allan (1916-1965)</td>\n",
       "      <td>Unknown</td>\n",
       "      <td>NaN</td>\n",
       "      <td>false negative</td>\n",
       "    </tr>\n",
       "    <tr>\n",
       "      <th>2</th>\n",
       "      <td>6</td>\n",
       "      <td>61</td>\n",
       "      <td>560</td>\n",
       "      <td>Sermons and addresses, 1947-1963; essays and l...</td>\n",
       "      <td>None</td>\n",
       "      <td>NaN</td>\n",
       "      <td>false negative</td>\n",
       "    </tr>\n",
       "    <tr>\n",
       "      <th>3</th>\n",
       "      <td>7</td>\n",
       "      <td>561</td>\n",
       "      <td>2513</td>\n",
       "      <td>Rev Thomas Allan was born on 16 August 1916 in...</td>\n",
       "      <td>Omission</td>\n",
       "      <td>Omission</td>\n",
       "      <td>true positive</td>\n",
       "    </tr>\n",
       "    <tr>\n",
       "      <th>4</th>\n",
       "      <td>7</td>\n",
       "      <td>561</td>\n",
       "      <td>2513</td>\n",
       "      <td>Rev Thomas Allan was born on 16 August 1916 in...</td>\n",
       "      <td>Gendered-Pronoun</td>\n",
       "      <td>Gendered-Pronoun</td>\n",
       "      <td>true positive</td>\n",
       "    </tr>\n",
       "  </tbody>\n",
       "</table>\n",
       "</div>"
      ],
      "text/plain": [
       "   description_id  start_offset  end_offset  \\\n",
       "0               5            17          60   \n",
       "1               5            17          60   \n",
       "2               6            61         560   \n",
       "3               7           561        2513   \n",
       "4               7           561        2513   \n",
       "\n",
       "                                         description    expected_label  \\\n",
       "0                Papers of Rev Tom Allan (1916-1965)         Masculine   \n",
       "1                Papers of Rev Tom Allan (1916-1965)           Unknown   \n",
       "2  Sermons and addresses, 1947-1963; essays and l...              None   \n",
       "3  Rev Thomas Allan was born on 16 August 1916 in...          Omission   \n",
       "4  Rev Thomas Allan was born on 16 August 1916 in...  Gendered-Pronoun   \n",
       "\n",
       "    predicted_label          _merge  \n",
       "0               NaN  false negative  \n",
       "1               NaN  false negative  \n",
       "2               NaN  false negative  \n",
       "3          Omission   true positive  \n",
       "4  Gendered-Pronoun   true positive  "
      ]
     },
     "execution_count": 102,
     "metadata": {},
     "output_type": "execute_result"
    }
   ],
   "source": [
    "dfs.replace(to_replace=\"left_only\", value=\"false negative\", inplace=True)\n",
    "dfs.replace(to_replace=\"right_only\", value=\"false positive\", inplace=True)\n",
    "dfs.replace(to_replace=\"both\", value=\"true positive\", inplace=True)\n",
    "dfs.head()"
   ]
  },
  {
   "cell_type": "code",
   "execution_count": 103,
   "metadata": {},
   "outputs": [
    {
     "data": {
      "text/html": [
       "<div>\n",
       "<style scoped>\n",
       "    .dataframe tbody tr th:only-of-type {\n",
       "        vertical-align: middle;\n",
       "    }\n",
       "\n",
       "    .dataframe tbody tr th {\n",
       "        vertical-align: top;\n",
       "    }\n",
       "\n",
       "    .dataframe thead th {\n",
       "        text-align: right;\n",
       "    }\n",
       "</style>\n",
       "<table border=\"1\" class=\"dataframe\">\n",
       "  <thead>\n",
       "    <tr style=\"text-align: right;\">\n",
       "      <th></th>\n",
       "      <th></th>\n",
       "      <th></th>\n",
       "      <th></th>\n",
       "      <th></th>\n",
       "      <th>expected_label</th>\n",
       "      <th>predicted_label</th>\n",
       "    </tr>\n",
       "    <tr>\n",
       "      <th>description_id</th>\n",
       "      <th>start_offset</th>\n",
       "      <th>end_offset</th>\n",
       "      <th>description</th>\n",
       "      <th>_merge</th>\n",
       "      <th></th>\n",
       "      <th></th>\n",
       "    </tr>\n",
       "  </thead>\n",
       "  <tbody>\n",
       "    <tr>\n",
       "      <th rowspan=\"3\" valign=\"top\">5</th>\n",
       "      <th rowspan=\"3\" valign=\"top\">17</th>\n",
       "      <th rowspan=\"3\" valign=\"top\">60</th>\n",
       "      <th rowspan=\"3\" valign=\"top\">Papers of Rev Tom Allan (1916-1965)</th>\n",
       "      <th>false negative</th>\n",
       "      <td>Masculine</td>\n",
       "      <td>NaN</td>\n",
       "    </tr>\n",
       "    <tr>\n",
       "      <th>false negative</th>\n",
       "      <td>Unknown</td>\n",
       "      <td>NaN</td>\n",
       "    </tr>\n",
       "    <tr>\n",
       "      <th>false positive</th>\n",
       "      <td>NaN</td>\n",
       "      <td></td>\n",
       "    </tr>\n",
       "    <tr>\n",
       "      <th rowspan=\"2\" valign=\"top\">6</th>\n",
       "      <th rowspan=\"2\" valign=\"top\">61</th>\n",
       "      <th rowspan=\"2\" valign=\"top\">560</th>\n",
       "      <th rowspan=\"2\" valign=\"top\">Sermons and addresses, 1947-1963; essays and lectures, c 1949; publications and articles, 1859-1965; newspaper cuttings, 1955-1965; publicity material; photographs, 1956-1961 and nd; church newsletters, 1962-1964; papers of the \"Tell Scotland\" Movement, 1954-1955; overseas mission papers; BBC television and radio scripts, 1955-1967; daily diaries, 1948-1963; World Council of Churches conference papers, 1963; committee minutes, 1954-1963.\\nSee also External Documents (below).</th>\n",
       "      <th>false negative</th>\n",
       "      <td>None</td>\n",
       "      <td>NaN</td>\n",
       "    </tr>\n",
       "    <tr>\n",
       "      <th>false positive</th>\n",
       "      <td>NaN</td>\n",
       "      <td></td>\n",
       "    </tr>\n",
       "  </tbody>\n",
       "</table>\n",
       "</div>"
      ],
      "text/plain": [
       "                                                                                                         expected_label  \\\n",
       "description_id start_offset end_offset description                                        _merge                          \n",
       "5              17           60         Papers of Rev Tom Allan (1916-1965)                false negative      Masculine   \n",
       "                                                                                          false negative        Unknown   \n",
       "                                                                                          false positive            NaN   \n",
       "6              61           560        Sermons and addresses, 1947-1963; essays and le... false negative           None   \n",
       "                                                                                          false positive            NaN   \n",
       "\n",
       "                                                                                                         predicted_label  \n",
       "description_id start_offset end_offset description                                        _merge                          \n",
       "5              17           60         Papers of Rev Tom Allan (1916-1965)                false negative             NaN  \n",
       "                                                                                          false negative             NaN  \n",
       "                                                                                          false positive                  \n",
       "6              61           560        Sermons and addresses, 1947-1963; essays and le... false negative             NaN  \n",
       "                                                                                          false positive                  "
      ]
     },
     "execution_count": 103,
     "metadata": {},
     "output_type": "execute_result"
    }
   ],
   "source": [
    "df_grouped = dfs.set_index([\"description_id\", \"start_offset\",\"end_offset\",\"description\",\"_merge\"])\n",
    "df_sorted = df_grouped.sort_values(by=[\"description_id\",\"start_offset\",\"_merge\"], ascending=True)\n",
    "df_sorted.head()"
   ]
  },
  {
   "cell_type": "code",
   "execution_count": 105,
   "metadata": {},
   "outputs": [],
   "source": [
    "df_sorted.to_csv(validate_output_path+\"logistic_regression_error_analysis.csv\")"
   ]
  },
  {
   "cell_type": "code",
   "execution_count": null,
   "metadata": {},
   "outputs": [],
   "source": []
  }
 ],
 "metadata": {
  "kernelspec": {
   "display_name": "Python 3",
   "language": "python",
   "name": "python3"
  },
  "language_info": {
   "codemirror_mode": {
    "name": "ipython",
    "version": 3
   },
   "file_extension": ".py",
   "mimetype": "text/x-python",
   "name": "python",
   "nbconvert_exporter": "python",
   "pygments_lexer": "ipython3",
   "version": "3.8.10"
  }
 },
 "nbformat": 4,
 "nbformat_minor": 5
}

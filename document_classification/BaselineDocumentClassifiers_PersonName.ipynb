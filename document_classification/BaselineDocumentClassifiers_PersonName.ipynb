{
 "cells": [
  {
   "cell_type": "markdown",
   "metadata": {},
   "source": [
    "# RERUN (fit_transform was called on devtest instead of transform) Baseline Gender Bias Document Classifiers: Person Name\n",
    "\n",
    "* **Supervised learning**\n",
    "    * Train, Validate, and (Blind) Test Data: under directory `../data/doc_clf_data/model_input/pn_model_input`\n",
    "    * Output: under directories `..data/doc_clf_data/pn_model_output_{algorithm}`\n",
    "* **Multilabel classification**\n",
    "    * 1 category of labels:\n",
    "        1. *Person Name:* Unknown, Non-binary,* Feminine, Masculine\n",
    "\n",
    "**Note: Annotators did not find data on which to apply this label during the manual annotation process, so it does not appear in the target data.*\n",
    "\n",
    "***\n",
    "\n",
    "**Table of Contents**\n",
    "\n",
    "[Setup](#set)\n",
    "\n",
    "Baseline Classifiers:\n",
    "\n",
    "  * [Classifier 1: Logistic Regression (LR)](#log)\n",
    "  \n",
    "  * [Classifier 2: Stochastic Gradient Descent (SGD)](#sgd) - *highest performing*\n",
    "\n",
    "  * [Classifier 3: Random Forest (RF)](#ran)\n",
    "  \n",
    "[Error Analysis](#err)\n",
    "\n",
    "***"
   ]
  },
  {
   "cell_type": "markdown",
   "metadata": {},
   "source": [
    "<a id=\"set\"></a>\n",
    "## Setup"
   ]
  },
  {
   "cell_type": "code",
   "execution_count": 1,
   "metadata": {},
   "outputs": [],
   "source": [
    "# For custom functions\n",
    "import utils, config\n",
    "\n",
    "# For working with data files and directories\n",
    "import numpy as np\n",
    "import pandas as pd\n",
    "from pathlib import Path\n",
    "\n",
    "# For visualization\n",
    "import matplotlib.pyplot as plt\n",
    "import seaborn as sns\n",
    "\n",
    "# For classification with scikit-learn\n",
    "from sklearn.preprocessing import MultiLabelBinarizer, StandardScaler\n",
    "from sklearn.multiclass import OneVsRestClassifier\n",
    "from sklearn.feature_extraction.text import CountVectorizer, TfidfTransformer\n",
    "from sklearn.linear_model import LogisticRegression, SGDClassifier\n",
    "from sklearn.ensemble import RandomForestClassifier\n",
    "from sklearn.pipeline import Pipeline\n",
    "from sklearn.metrics import confusion_matrix, multilabel_confusion_matrix, plot_confusion_matrix, ConfusionMatrixDisplay\n",
    "from sklearn.metrics import precision_recall_fscore_support"
   ]
  },
  {
   "cell_type": "code",
   "execution_count": 7,
   "metadata": {},
   "outputs": [],
   "source": [
    "target_labels = \"pn\"  # for file names"
   ]
  },
  {
   "cell_type": "markdown",
   "metadata": {},
   "source": [
    "Read in the training, validation, (a.k.a. development or devtest) and blind test data:"
   ]
  },
  {
   "cell_type": "code",
   "execution_count": 8,
   "metadata": {},
   "outputs": [],
   "source": [
    "data_path = config.docc_path+\"{}_model_input/\".format(target_labels)"
   ]
  },
  {
   "cell_type": "code",
   "execution_count": 9,
   "metadata": {},
   "outputs": [],
   "source": [
    "X_train_path = data_path+\"train_docs.txt\"\n",
    "X_devtest_path = data_path+\"validate_docs.txt\"\n",
    "y_train_path = data_path+\"train_labels.txt\"\n",
    "y_devtest_path = data_path+\"validate_labels.txt\""
   ]
  },
  {
   "cell_type": "code",
   "execution_count": 10,
   "metadata": {},
   "outputs": [],
   "source": [
    "docs_seperator = \"\\n|\\n\"\n",
    "labels_seperator = \"\\n\""
   ]
  },
  {
   "cell_type": "code",
   "execution_count": 11,
   "metadata": {
    "tags": []
   },
   "outputs": [
    {
     "name": "stdout",
     "output_type": "stream",
     "text": [
      "Labelled Apparently some chapters, amounting to about 160 printed pages, of a general book on education projected by my Father around 1930. KEEP, Essays on Teaching, HT 1963, by Hector.\n",
      "16541\n"
     ]
    }
   ],
   "source": [
    "X_train = utils.readData(X_train_path, docs_seperator)\n",
    "print(X_train[0])\n",
    "print(len(X_train))"
   ]
  },
  {
   "cell_type": "code",
   "execution_count": 12,
   "metadata": {
    "tags": []
   },
   "outputs": [
    {
     "name": "stdout",
     "output_type": "stream",
     "text": [
      "Edward Bald Jamieson, from Shetland, was a graduate of Edinburgh University (1900), and then demonstrator and lecturer in Anatomy at Edinburgh University. He was also an author of medical textbooks on Anatomy. William Rolland Scott Cowe was born on 24 October 1915 in Edinburgh. He studied at Edinburgh University and was awarded the degrees of Bachelor of Medicine, and Bachelor of Surgery, MB., Ch.B. on 20 July 1938. Still resident in Edinburgh in 1939, he was Obstetric House Surgeon at the Simpson Memorial Pavilion, Edinburgh Royal Infirmary. His career then took him to Wigan, Lancashire, as House Surgeon at the Royal Infirmary there. In Keighley, Yorkshire, he served as the Police Surgeon, Keighley Division, West Riding Constabulary, and was a Clinical Assistant (Venereology) at Airedale General Hospital.  During the Second World War he served as a Captain and then Major with the Royal Army Medical Corps, serving in Africa and Palestine. Cowe's prime interest was obstetrics and gynaecology and he became a member of the Royal Medical Society of Edinburgh with a presentation on Cardiac Disease in Pregnancy, January 1939. He went on to become a Fellow of the Royal Medical Society. In his specialism of veneorology, publications include the jointly written 'Penicillin in gonnorhea and syphilus' in the British Medical Journal in 1945, and 'Middle East granuloma' in the British Journal of Venereal Diseases also in 1945.  William Rolland Scott Cowe retired to Kirk Yetholm, Roxburghshire, in the Scottish Borders, and he died there on 15 December 1986 .\n",
      "5514\n"
     ]
    }
   ],
   "source": [
    "X_devtest = utils.readData(X_devtest_path, docs_seperator)\n",
    "print(X_devtest[0])\n",
    "print(len(X_devtest))"
   ]
  },
  {
   "cell_type": "code",
   "execution_count": 13,
   "metadata": {
    "tags": []
   },
   "outputs": [
    {
     "name": "stdout",
     "output_type": "stream",
     "text": [
      "['Unknown, Masculine' 'Masculine' 'Unknown']\n",
      "16541\n"
     ]
    }
   ],
   "source": [
    "y_train = utils.readData(y_train_path, labels_seperator)\n",
    "print(y_train[:3])\n",
    "print(len(y_train))"
   ]
  },
  {
   "cell_type": "code",
   "execution_count": 14,
   "metadata": {
    "tags": []
   },
   "outputs": [
    {
     "name": "stdout",
     "output_type": "stream",
     "text": [
      "['Masculine' 'Unknown, Masculine' 'Masculine']\n",
      "5514\n"
     ]
    }
   ],
   "source": [
    "y_devtest = utils.readData(y_devtest_path, labels_seperator)\n",
    "print(y_devtest[:3])\n",
    "print(len(y_devtest))"
   ]
  },
  {
   "cell_type": "markdown",
   "metadata": {},
   "source": [
    "Convert the data to numeric representations:"
   ]
  },
  {
   "cell_type": "code",
   "execution_count": 15,
   "metadata": {},
   "outputs": [],
   "source": [
    "labels = {\"Unknown\": 0, \"Feminine\": 1, \"Masculine\": 2}\n",
    "# Convert the strings of labels to tuples of numbers\n",
    "y_train_numeric = utils.getNumericLabels(y_train, labels)\n",
    "y_devtest_numeric = utils.getNumericLabels(y_devtest, labels)\n",
    "assert len(y_train_numeric) == len(y_train)\n",
    "assert len(y_devtest_numeric) == len(y_devtest)"
   ]
  },
  {
   "cell_type": "code",
   "execution_count": 16,
   "metadata": {},
   "outputs": [
    {
     "name": "stdout",
     "output_type": "stream",
     "text": [
      "[(0, 2), (2,), (0,), (0, 2, 1), (0, 2), (), (0, 2), (0, 2), (0, 2), (1,)]\n"
     ]
    }
   ],
   "source": [
    "print(y_train_numeric[:10])"
   ]
  },
  {
   "cell_type": "markdown",
   "metadata": {},
   "source": [
    "Binarize the data so labels are represented by a 0 (not present) or 1 (present):"
   ]
  },
  {
   "cell_type": "code",
   "execution_count": 17,
   "metadata": {},
   "outputs": [
    {
     "name": "stdout",
     "output_type": "stream",
     "text": [
      "(5514, 3)\n",
      "[0 0 1]\n"
     ]
    }
   ],
   "source": [
    "# Convert each iterable of iterables above to a multilabel format\n",
    "mlb = MultiLabelBinarizer()\n",
    "y_train_binarized = mlb.fit_transform(y_train_numeric)\n",
    "y_devtest_binarized = mlb.transform(y_devtest_numeric)\n",
    "print(y_devtest_binarized.shape)\n",
    "print(y_devtest_binarized[0])"
   ]
  },
  {
   "cell_type": "markdown",
   "metadata": {},
   "source": [
    "Create the directory to write the classification models' performance metrics to:"
   ]
  },
  {
   "cell_type": "code",
   "execution_count": 18,
   "metadata": {},
   "outputs": [],
   "source": [
    "metrics_dir = \"pn_baseline_performance_metrics/\"\n",
    "Path(metrics_dir).mkdir(parents=True, exist_ok=True)"
   ]
  },
  {
   "cell_type": "markdown",
   "metadata": {},
   "source": [
    "## Baseline Classifiers\n",
    "<a id=\"mnb\"></a>"
   ]
  },
  {
   "cell_type": "markdown",
   "metadata": {},
   "source": [
    "<a id=\"log\"></a>\n",
    "### Classifier 1: Logistic Regression\n",
    "\n",
    "*a.k.a. maximum-entropy (MaxEnt) or log-linear classification*"
   ]
  },
  {
   "cell_type": "code",
   "execution_count": 19,
   "metadata": {},
   "outputs": [],
   "source": [
    "a = \"lr\""
   ]
  },
  {
   "cell_type": "code",
   "execution_count": 20,
   "metadata": {},
   "outputs": [],
   "source": [
    "clf_pipeline = Pipeline([\n",
    "    (\"vect\", CountVectorizer()),\n",
    "    (\"tfidf\", TfidfTransformer()),\n",
    "    (\"clf\", OneVsRestClassifier(LogisticRegression(solver=\"liblinear\", multi_class=\"ovr\")))  # multilabel classification by training one classifier per label\n",
    "    ])"
   ]
  },
  {
   "cell_type": "code",
   "execution_count": 21,
   "metadata": {},
   "outputs": [],
   "source": [
    "clf_pipeline.fit(X_train, y_train_binarized)\n",
    "predicted_dev = clf_pipeline.predict(X_devtest)"
   ]
  },
  {
   "cell_type": "markdown",
   "metadata": {},
   "source": [
    "### Performance\n",
    "\n",
    "Calculate performance metrics for the Logistic Regression classifier"
   ]
  },
  {
   "cell_type": "code",
   "execution_count": 22,
   "metadata": {},
   "outputs": [
    {
     "name": "stdout",
     "output_type": "stream",
     "text": [
      "Dev Test Accuracy: 0.9301777294160319\n"
     ]
    }
   ],
   "source": [
    "print(\"Dev Test Accuracy:\", np.mean(predicted_dev == y_devtest_binarized))"
   ]
  },
  {
   "cell_type": "code",
   "execution_count": 23,
   "metadata": {},
   "outputs": [
    {
     "name": "stdout",
     "output_type": "stream",
     "text": [
      "[0 1 2] [0 1 2]\n"
     ]
    }
   ],
   "source": [
    "classes = clf_pipeline.classes_\n",
    "original_classes = mlb.classes_\n",
    "print(classes, original_classes)"
   ]
  },
  {
   "cell_type": "code",
   "execution_count": 24,
   "metadata": {},
   "outputs": [],
   "source": [
    "dev_matrix = multilabel_confusion_matrix(y_devtest_binarized, predicted_dev, labels=classes)"
   ]
  },
  {
   "cell_type": "code",
   "execution_count": 25,
   "metadata": {},
   "outputs": [
    {
     "data": {
      "text/html": [
       "<div>\n",
       "<style scoped>\n",
       "    .dataframe tbody tr th:only-of-type {\n",
       "        vertical-align: middle;\n",
       "    }\n",
       "\n",
       "    .dataframe tbody tr th {\n",
       "        vertical-align: top;\n",
       "    }\n",
       "\n",
       "    .dataframe thead th {\n",
       "        text-align: right;\n",
       "    }\n",
       "</style>\n",
       "<table border=\"1\" class=\"dataframe\">\n",
       "  <thead>\n",
       "    <tr style=\"text-align: right;\">\n",
       "      <th></th>\n",
       "      <th>labels</th>\n",
       "      <th>true_neg</th>\n",
       "      <th>false_neg</th>\n",
       "      <th>true_pos</th>\n",
       "      <th>false_pos</th>\n",
       "      <th>precision</th>\n",
       "      <th>recall</th>\n",
       "      <th>f_1</th>\n",
       "    </tr>\n",
       "  </thead>\n",
       "  <tbody>\n",
       "    <tr>\n",
       "      <th>0</th>\n",
       "      <td>Unknown</td>\n",
       "      <td>2721</td>\n",
       "      <td>467</td>\n",
       "      <td>1976</td>\n",
       "      <td>350</td>\n",
       "      <td>0.849527</td>\n",
       "      <td>0.808842</td>\n",
       "      <td>0.828685</td>\n",
       "    </tr>\n",
       "    <tr>\n",
       "      <th>1</th>\n",
       "      <td>Feminine</td>\n",
       "      <td>5381</td>\n",
       "      <td>104</td>\n",
       "      <td>24</td>\n",
       "      <td>5</td>\n",
       "      <td>0.827586</td>\n",
       "      <td>0.187500</td>\n",
       "      <td>0.305732</td>\n",
       "    </tr>\n",
       "    <tr>\n",
       "      <th>2</th>\n",
       "      <td>Masculine</td>\n",
       "      <td>4950</td>\n",
       "      <td>188</td>\n",
       "      <td>335</td>\n",
       "      <td>41</td>\n",
       "      <td>0.890957</td>\n",
       "      <td>0.640535</td>\n",
       "      <td>0.745273</td>\n",
       "    </tr>\n",
       "  </tbody>\n",
       "</table>\n",
       "</div>"
      ],
      "text/plain": [
       "      labels  true_neg  false_neg  true_pos  false_pos  precision    recall  \\\n",
       "0    Unknown      2721        467      1976        350   0.849527  0.808842   \n",
       "1   Feminine      5381        104        24          5   0.827586  0.187500   \n",
       "2  Masculine      4950        188       335         41   0.890957  0.640535   \n",
       "\n",
       "        f_1  \n",
       "0  0.828685  \n",
       "1  0.305732  \n",
       "2  0.745273  "
      ]
     },
     "execution_count": 25,
     "metadata": {},
     "output_type": "execute_result"
    }
   ],
   "source": [
    "df_dev = utils.getPerformanceMetrics(y_devtest_binarized, predicted_dev, dev_matrix, classes, original_classes, labels)\n",
    "df_dev"
   ]
  },
  {
   "cell_type": "markdown",
   "metadata": {},
   "source": [
    "Save the performance results:"
   ]
  },
  {
   "cell_type": "code",
   "execution_count": 26,
   "metadata": {
    "tags": []
   },
   "outputs": [],
   "source": [
    "df_dev.to_csv(metrics_dir+\"{a}_{t}_baseline_performance.csv\".format(a=a, t=target_labels))"
   ]
  },
  {
   "cell_type": "markdown",
   "metadata": {},
   "source": [
    "<a id=\"sgd\"></a>\n",
    "## Classifier 2: Stochastic Gradient Descent"
   ]
  },
  {
   "cell_type": "code",
   "execution_count": 41,
   "metadata": {
    "tags": []
   },
   "outputs": [],
   "source": [
    "a = \"sgd-svm\""
   ]
  },
  {
   "cell_type": "code",
   "execution_count": 42,
   "metadata": {
    "tags": []
   },
   "outputs": [],
   "source": [
    "clf_pipeline = Pipeline([\n",
    "    (\"vect\", CountVectorizer()),\n",
    "    (\"tfidf\", TfidfTransformer()),\n",
    "    (\"clf\", OneVsRestClassifier(SGDClassifier(loss=\"hinge\")))  # Support Vector Machines loss function\n",
    "    ])"
   ]
  },
  {
   "cell_type": "code",
   "execution_count": 43,
   "metadata": {
    "tags": []
   },
   "outputs": [],
   "source": [
    "clf_pipeline.fit(X_train, y_train_binarized)\n",
    "predicted_dev = clf_pipeline.predict(X_devtest)"
   ]
  },
  {
   "cell_type": "markdown",
   "metadata": {
    "tags": []
   },
   "source": [
    "### Peformance\n",
    "\n",
    "Calculate performance metrics for the Stochastic Gradient Descent classifier"
   ]
  },
  {
   "cell_type": "code",
   "execution_count": 44,
   "metadata": {
    "tags": []
   },
   "outputs": [
    {
     "name": "stdout",
     "output_type": "stream",
     "text": [
      "Dev Test Accuracy: 0.9372506347479144\n"
     ]
    }
   ],
   "source": [
    "print(\"Dev Test Accuracy:\", np.mean(predicted_dev == y_devtest_binarized))"
   ]
  },
  {
   "cell_type": "code",
   "execution_count": 45,
   "metadata": {
    "tags": []
   },
   "outputs": [
    {
     "name": "stdout",
     "output_type": "stream",
     "text": [
      "[0 1 2]\n",
      "[0 1 2]\n"
     ]
    }
   ],
   "source": [
    "classes = clf_pipeline.classes_\n",
    "print(classes)\n",
    "original_classes = mlb.classes_\n",
    "print(original_classes)"
   ]
  },
  {
   "cell_type": "code",
   "execution_count": 46,
   "metadata": {
    "tags": []
   },
   "outputs": [
    {
     "data": {
      "text/html": [
       "<div>\n",
       "<style scoped>\n",
       "    .dataframe tbody tr th:only-of-type {\n",
       "        vertical-align: middle;\n",
       "    }\n",
       "\n",
       "    .dataframe tbody tr th {\n",
       "        vertical-align: top;\n",
       "    }\n",
       "\n",
       "    .dataframe thead th {\n",
       "        text-align: right;\n",
       "    }\n",
       "</style>\n",
       "<table border=\"1\" class=\"dataframe\">\n",
       "  <thead>\n",
       "    <tr style=\"text-align: right;\">\n",
       "      <th></th>\n",
       "      <th>labels</th>\n",
       "      <th>true_neg</th>\n",
       "      <th>false_neg</th>\n",
       "      <th>true_pos</th>\n",
       "      <th>false_pos</th>\n",
       "      <th>precision</th>\n",
       "      <th>recall</th>\n",
       "      <th>f_1</th>\n",
       "    </tr>\n",
       "  </thead>\n",
       "  <tbody>\n",
       "    <tr>\n",
       "      <th>0</th>\n",
       "      <td>Unknown</td>\n",
       "      <td>2668</td>\n",
       "      <td>369</td>\n",
       "      <td>2074</td>\n",
       "      <td>403</td>\n",
       "      <td>0.837303</td>\n",
       "      <td>0.848956</td>\n",
       "      <td>0.843089</td>\n",
       "    </tr>\n",
       "    <tr>\n",
       "      <th>1</th>\n",
       "      <td>Feminine</td>\n",
       "      <td>5374</td>\n",
       "      <td>84</td>\n",
       "      <td>44</td>\n",
       "      <td>12</td>\n",
       "      <td>0.785714</td>\n",
       "      <td>0.343750</td>\n",
       "      <td>0.478261</td>\n",
       "    </tr>\n",
       "    <tr>\n",
       "      <th>2</th>\n",
       "      <td>Masculine</td>\n",
       "      <td>4933</td>\n",
       "      <td>112</td>\n",
       "      <td>411</td>\n",
       "      <td>58</td>\n",
       "      <td>0.876333</td>\n",
       "      <td>0.785851</td>\n",
       "      <td>0.828629</td>\n",
       "    </tr>\n",
       "  </tbody>\n",
       "</table>\n",
       "</div>"
      ],
      "text/plain": [
       "      labels  true_neg  false_neg  true_pos  false_pos  precision    recall  \\\n",
       "0    Unknown      2668        369      2074        403   0.837303  0.848956   \n",
       "1   Feminine      5374         84        44         12   0.785714  0.343750   \n",
       "2  Masculine      4933        112       411         58   0.876333  0.785851   \n",
       "\n",
       "        f_1  \n",
       "0  0.843089  \n",
       "1  0.478261  \n",
       "2  0.828629  "
      ]
     },
     "execution_count": 46,
     "metadata": {},
     "output_type": "execute_result"
    }
   ],
   "source": [
    "dev_matrix = multilabel_confusion_matrix(y_devtest_binarized, predicted_dev, labels=classes)\n",
    "df_dev = utils.getPerformanceMetrics(y_devtest_binarized, predicted_dev, dev_matrix, classes, original_classes, labels)\n",
    "df_dev"
   ]
  },
  {
   "cell_type": "markdown",
   "metadata": {},
   "source": [
    "This classifier performs better than the LR and RF models.\n",
    "\n",
    "Save the performance results:"
   ]
  },
  {
   "cell_type": "code",
   "execution_count": 33,
   "metadata": {
    "tags": []
   },
   "outputs": [],
   "source": [
    "df_dev.to_csv(metrics_dir+\"{a}_{t}_baseline_performance.csv\".format(a=a, t=target_labels))"
   ]
  },
  {
   "cell_type": "markdown",
   "metadata": {},
   "source": [
    "<a id=\"ran\"></a>\n",
    "### Classifier 3: Random Forest"
   ]
  },
  {
   "cell_type": "code",
   "execution_count": 34,
   "metadata": {},
   "outputs": [],
   "source": [
    "a = \"rf\""
   ]
  },
  {
   "cell_type": "code",
   "execution_count": 35,
   "metadata": {
    "tags": []
   },
   "outputs": [],
   "source": [
    "clf_pipeline = Pipeline([\n",
    "    (\"vect\", CountVectorizer()),\n",
    "    (\"tfidf\", TfidfTransformer()),\n",
    "    (\"clf\", OneVsRestClassifier(RandomForestClassifier(max_depth=6, random_state=0)))\n",
    "    ])"
   ]
  },
  {
   "cell_type": "code",
   "execution_count": 36,
   "metadata": {
    "tags": []
   },
   "outputs": [],
   "source": [
    "clf_pipeline.fit(X_train, y_train_binarized)\n",
    "predicted_dev = clf_pipeline.predict(X_devtest)"
   ]
  },
  {
   "cell_type": "code",
   "execution_count": 37,
   "metadata": {
    "tags": []
   },
   "outputs": [],
   "source": [
    "classes = clf_pipeline.classes_\n",
    "original_classes = mlb.classes_"
   ]
  },
  {
   "cell_type": "code",
   "execution_count": 38,
   "metadata": {
    "tags": []
   },
   "outputs": [
    {
     "name": "stdout",
     "output_type": "stream",
     "text": [
      "Dev Test Accuracy: 0.8180993833877402\n"
     ]
    }
   ],
   "source": [
    "print(\"Dev Test Accuracy:\", np.mean(predicted_dev == y_devtest_binarized))"
   ]
  },
  {
   "cell_type": "code",
   "execution_count": 39,
   "metadata": {
    "tags": []
   },
   "outputs": [
    {
     "data": {
      "text/html": [
       "<div>\n",
       "<style scoped>\n",
       "    .dataframe tbody tr th:only-of-type {\n",
       "        vertical-align: middle;\n",
       "    }\n",
       "\n",
       "    .dataframe tbody tr th {\n",
       "        vertical-align: top;\n",
       "    }\n",
       "\n",
       "    .dataframe thead th {\n",
       "        text-align: right;\n",
       "    }\n",
       "</style>\n",
       "<table border=\"1\" class=\"dataframe\">\n",
       "  <thead>\n",
       "    <tr style=\"text-align: right;\">\n",
       "      <th></th>\n",
       "      <th>labels</th>\n",
       "      <th>true_neg</th>\n",
       "      <th>false_neg</th>\n",
       "      <th>true_pos</th>\n",
       "      <th>false_pos</th>\n",
       "      <th>precision</th>\n",
       "      <th>recall</th>\n",
       "      <th>f_1</th>\n",
       "    </tr>\n",
       "  </thead>\n",
       "  <tbody>\n",
       "    <tr>\n",
       "      <th>0</th>\n",
       "      <td>Unknown</td>\n",
       "      <td>3063</td>\n",
       "      <td>2370</td>\n",
       "      <td>73</td>\n",
       "      <td>8</td>\n",
       "      <td>0.901235</td>\n",
       "      <td>0.029881</td>\n",
       "      <td>0.057845</td>\n",
       "    </tr>\n",
       "    <tr>\n",
       "      <th>1</th>\n",
       "      <td>Feminine</td>\n",
       "      <td>5386</td>\n",
       "      <td>128</td>\n",
       "      <td>0</td>\n",
       "      <td>0</td>\n",
       "      <td>0.000000</td>\n",
       "      <td>0.000000</td>\n",
       "      <td>0.000000</td>\n",
       "    </tr>\n",
       "    <tr>\n",
       "      <th>2</th>\n",
       "      <td>Masculine</td>\n",
       "      <td>4991</td>\n",
       "      <td>503</td>\n",
       "      <td>20</td>\n",
       "      <td>0</td>\n",
       "      <td>1.000000</td>\n",
       "      <td>0.038241</td>\n",
       "      <td>0.073665</td>\n",
       "    </tr>\n",
       "  </tbody>\n",
       "</table>\n",
       "</div>"
      ],
      "text/plain": [
       "      labels  true_neg  false_neg  true_pos  false_pos  precision    recall  \\\n",
       "0    Unknown      3063       2370        73          8   0.901235  0.029881   \n",
       "1   Feminine      5386        128         0          0   0.000000  0.000000   \n",
       "2  Masculine      4991        503        20          0   1.000000  0.038241   \n",
       "\n",
       "        f_1  \n",
       "0  0.057845  \n",
       "1  0.000000  \n",
       "2  0.073665  "
      ]
     },
     "execution_count": 39,
     "metadata": {},
     "output_type": "execute_result"
    }
   ],
   "source": [
    "dev_matrix = multilabel_confusion_matrix(y_devtest_binarized, predicted_dev, labels=classes)\n",
    "df_dev = utils.getPerformanceMetrics(y_devtest_binarized, predicted_dev, dev_matrix, classes, original_classes, labels)\n",
    "df_dev"
   ]
  },
  {
   "cell_type": "markdown",
   "metadata": {},
   "source": [
    "This classifier performs the worst out of the three (by far!).  \n",
    "\n",
    "Save the performance results: "
   ]
  },
  {
   "cell_type": "code",
   "execution_count": 40,
   "metadata": {
    "tags": []
   },
   "outputs": [],
   "source": [
    "df_dev.to_csv(metrics_dir+\"{a}_{t}_baseline_performance.csv\".format(a=a, t=target_labels))"
   ]
  },
  {
   "cell_type": "markdown",
   "metadata": {},
   "source": [
    "<a id=\"err\"></a>\n",
    "## Error Analysis\n",
    "\n",
    "Error analysis of the **SGD classifier**, as this is the top-performing baseline classification model."
   ]
  },
  {
   "cell_type": "code",
   "execution_count": 47,
   "metadata": {},
   "outputs": [
    {
     "name": "stdout",
     "output_type": "stream",
     "text": [
      "{'Unknown': 0, 'Feminine': 1, 'Masculine': 2}\n",
      "{0: 0, 1: 1, 2: 2}\n",
      "{0: 'Unknown', 1: 'Feminine', 2: 'Masculine'}\n"
     ]
    }
   ],
   "source": [
    "# Associate classes to numeric labels to strings of label names\n",
    "label_class_to_no = dict(zip(classes,original_classes))\n",
    "label_no_to_name = dict(zip(list(labels.values()), list(labels.keys())))\n",
    "print(labels)\n",
    "print(label_class_to_no)\n",
    "print(label_no_to_name)"
   ]
  },
  {
   "cell_type": "markdown",
   "metadata": {},
   "source": [
    "#### Dev Data Confusion Matrices"
   ]
  },
  {
   "cell_type": "code",
   "execution_count": 48,
   "metadata": {},
   "outputs": [],
   "source": [
    "matrices = dict()  # keys are labels, values are 2D arrays \n",
    "for col in range(len(classes)):\n",
    "    y_test_label = y_devtest_binarized[:, col]\n",
    "    pred_label = predicted_dev[:, col]\n",
    "    \n",
    "    matrices[classes[col]] = confusion_matrix(pred_label, y_test_label, normalize=\"all\")"
   ]
  },
  {
   "cell_type": "code",
   "execution_count": 49,
   "metadata": {},
   "outputs": [],
   "source": [
    "png_dir = metrics_dir+\"{a}_{t}_baseline_dev_confusion_matrices/\".format(a=a, t=target_labels)\n",
    "Path(png_dir).mkdir(parents=True, exist_ok=True)"
   ]
  },
  {
   "cell_type": "code",
   "execution_count": 50,
   "metadata": {
    "tags": []
   },
   "outputs": [
    {
     "data": {
      "image/png": "[encoded data removed]",
      "text/plain": [
       "<Figure size 432x288 with 2 Axes>"
      ]
     },
     "metadata": {
      "needs_background": "light"
     },
     "output_type": "display_data"
    },
    {
     "data": {
      "image/png": "[encoded data removed]",
      "text/plain": [
       "<Figure size 432x288 with 2 Axes>"
      ]
     },
     "metadata": {
      "needs_background": "light"
     },
     "output_type": "display_data"
    },
    {
     "data": {
      "image/png": "[encoded data removed]",
      "text/plain": [
       "<Figure size 432x288 with 2 Axes>"
      ]
     },
     "metadata": {
      "needs_background": "light"
     },
     "output_type": "display_data"
    }
   ],
   "source": [
    "for label_class,matrix in matrices.items():\n",
    "    label_name = label_no_to_name[label_class_to_no[label_class]]\n",
    "    filename = \"confusion_matrix_normalized_{}.png\".format(label_name)\n",
    "    ConfusionMatrixDisplay(matrix, display_labels=[\"Not \"+label_name,label_name]).plot()\n",
    "    plt.savefig(png_dir+filename)"
   ]
  },
  {
   "cell_type": "markdown",
   "metadata": {},
   "source": [
    "Convert predicted dev labels back to text:"
   ]
  },
  {
   "cell_type": "code",
   "execution_count": 51,
   "metadata": {},
   "outputs": [
    {
     "data": {
      "text/plain": [
       "array([1, 0, 1])"
      ]
     },
     "execution_count": 51,
     "metadata": {},
     "output_type": "execute_result"
    }
   ],
   "source": [
    "predicted_dev[0]"
   ]
  },
  {
   "cell_type": "code",
   "execution_count": 52,
   "metadata": {},
   "outputs": [
    {
     "data": {
      "text/plain": [
       "(0, 2)"
      ]
     },
     "execution_count": 52,
     "metadata": {},
     "output_type": "execute_result"
    }
   ],
   "source": [
    "pred_dev_numeric_labels = mlb.inverse_transform(predicted_dev)\n",
    "pred_dev_numeric_labels[0]"
   ]
  },
  {
   "cell_type": "code",
   "execution_count": 53,
   "metadata": {},
   "outputs": [],
   "source": [
    "inverse_labels = dict(zip(list(labels.values()), list(labels.keys())))\n",
    "# print(inverse_labels)\n",
    "pred_dev_labels = []\n",
    "for number_list in pred_dev_numeric_labels:\n",
    "    label_list = [inverse_labels[n] for n in number_list]\n",
    "    pred_dev_labels += [label_list]\n",
    "    \n",
    "assert(len(pred_dev_labels) == len(pred_dev_numeric_labels))\n",
    "assert(len(pred_dev_labels) == len(predicted_dev))"
   ]
  },
  {
   "cell_type": "markdown",
   "metadata": {},
   "source": [
    "Add the classifier's labels to the `aggregated_validate.csv` DataFrame of descriptions to facilitate error analysis:"
   ]
  },
  {
   "cell_type": "code",
   "execution_count": 54,
   "metadata": {},
   "outputs": [
    {
     "data": {
      "text/html": [
       "<div>\n",
       "<style scoped>\n",
       "    .dataframe tbody tr th:only-of-type {\n",
       "        vertical-align: middle;\n",
       "    }\n",
       "\n",
       "    .dataframe tbody tr th {\n",
       "        vertical-align: top;\n",
       "    }\n",
       "\n",
       "    .dataframe thead th {\n",
       "        text-align: right;\n",
       "    }\n",
       "</style>\n",
       "<table border=\"1\" class=\"dataframe\">\n",
       "  <thead>\n",
       "    <tr style=\"text-align: right;\">\n",
       "      <th></th>\n",
       "      <th>description_id</th>\n",
       "      <th>start_offset</th>\n",
       "      <th>end_offset</th>\n",
       "      <th>field</th>\n",
       "      <th>description</th>\n",
       "      <th>agg_ann_id</th>\n",
       "      <th>subset</th>\n",
       "      <th>label</th>\n",
       "    </tr>\n",
       "  </thead>\n",
       "  <tbody>\n",
       "    <tr>\n",
       "      <th>5523</th>\n",
       "      <td>5523</td>\n",
       "      <td>367</td>\n",
       "      <td>1965</td>\n",
       "      <td>Biographical / Historical</td>\n",
       "      <td>Edward Bald Jamieson, from Shetland, was a gra...</td>\n",
       "      <td>[2571, 2572, 2573, 2574, 21607, 21608]</td>\n",
       "      <td>dev</td>\n",
       "      <td>{'Masculine'}</td>\n",
       "    </tr>\n",
       "    <tr>\n",
       "      <th>4719</th>\n",
       "      <td>4719</td>\n",
       "      <td>5650</td>\n",
       "      <td>5811</td>\n",
       "      <td>Biographical / Historical</td>\n",
       "      <td>This likely refers to an article of the same t...</td>\n",
       "      <td>[18486, 18487, 25469]</td>\n",
       "      <td>dev</td>\n",
       "      <td>{'Unknown', 'Masculine'}</td>\n",
       "    </tr>\n",
       "    <tr>\n",
       "      <th>735</th>\n",
       "      <td>735</td>\n",
       "      <td>7735</td>\n",
       "      <td>7881</td>\n",
       "      <td>Biographical / Historical</td>\n",
       "      <td>John Baillie kept a collection of the prayers ...</td>\n",
       "      <td>[13039]</td>\n",
       "      <td>dev</td>\n",
       "      <td>{'Masculine'}</td>\n",
       "    </tr>\n",
       "    <tr>\n",
       "      <th>2183</th>\n",
       "      <td>2183</td>\n",
       "      <td>1072</td>\n",
       "      <td>1372</td>\n",
       "      <td>Biographical / Historical</td>\n",
       "      <td>Joseph W. Hills graduated with the degree of M...</td>\n",
       "      <td>[5314]</td>\n",
       "      <td>dev</td>\n",
       "      <td>{'Masculine'}</td>\n",
       "    </tr>\n",
       "    <tr>\n",
       "      <th>2299</th>\n",
       "      <td>2299</td>\n",
       "      <td>546</td>\n",
       "      <td>3642</td>\n",
       "      <td>Biographical / Historical</td>\n",
       "      <td>This collection is composed simply of an invit...</td>\n",
       "      <td>[8577, 8578, 8579, 8580, 8581, 8583, 8584, 858...</td>\n",
       "      <td>dev</td>\n",
       "      <td>{'Unknown', 'Masculine', 'Feminine'}</td>\n",
       "    </tr>\n",
       "  </tbody>\n",
       "</table>\n",
       "</div>"
      ],
      "text/plain": [
       "      description_id  start_offset  end_offset                      field  \\\n",
       "5523            5523           367        1965  Biographical / Historical   \n",
       "4719            4719          5650        5811  Biographical / Historical   \n",
       "735              735          7735        7881  Biographical / Historical   \n",
       "2183            2183          1072        1372  Biographical / Historical   \n",
       "2299            2299           546        3642  Biographical / Historical   \n",
       "\n",
       "                                            description  \\\n",
       "5523  Edward Bald Jamieson, from Shetland, was a gra...   \n",
       "4719  This likely refers to an article of the same t...   \n",
       "735   John Baillie kept a collection of the prayers ...   \n",
       "2183  Joseph W. Hills graduated with the degree of M...   \n",
       "2299  This collection is composed simply of an invit...   \n",
       "\n",
       "                                             agg_ann_id subset  \\\n",
       "5523             [2571, 2572, 2573, 2574, 21607, 21608]    dev   \n",
       "4719                              [18486, 18487, 25469]    dev   \n",
       "735                                             [13039]    dev   \n",
       "2183                                             [5314]    dev   \n",
       "2299  [8577, 8578, 8579, 8580, 8581, 8583, 8584, 858...    dev   \n",
       "\n",
       "                                     label  \n",
       "5523                         {'Masculine'}  \n",
       "4719              {'Unknown', 'Masculine'}  \n",
       "735                          {'Masculine'}  \n",
       "2183                         {'Masculine'}  \n",
       "2299  {'Unknown', 'Masculine', 'Feminine'}  "
      ]
     },
     "execution_count": 54,
     "metadata": {},
     "output_type": "execute_result"
    }
   ],
   "source": [
    "df_dev = pd.read_csv(config.docc_path+\"/pn_model_input/splits_as_csv/aggregated_final_validate.csv\", index_col=0)\n",
    "df_dev.head()"
   ]
  },
  {
   "cell_type": "code",
   "execution_count": 55,
   "metadata": {},
   "outputs": [],
   "source": [
    "df_dev = df_dev.rename(columns={\"label\":\"manual_label\"})"
   ]
  },
  {
   "cell_type": "code",
   "execution_count": 56,
   "metadata": {},
   "outputs": [
    {
     "data": {
      "text/html": [
       "<div>\n",
       "<style scoped>\n",
       "    .dataframe tbody tr th:only-of-type {\n",
       "        vertical-align: middle;\n",
       "    }\n",
       "\n",
       "    .dataframe tbody tr th {\n",
       "        vertical-align: top;\n",
       "    }\n",
       "\n",
       "    .dataframe thead th {\n",
       "        text-align: right;\n",
       "    }\n",
       "</style>\n",
       "<table border=\"1\" class=\"dataframe\">\n",
       "  <thead>\n",
       "    <tr style=\"text-align: right;\">\n",
       "      <th></th>\n",
       "      <th>description_id</th>\n",
       "      <th>start_offset</th>\n",
       "      <th>end_offset</th>\n",
       "      <th>field</th>\n",
       "      <th>description</th>\n",
       "      <th>agg_ann_id</th>\n",
       "      <th>subset</th>\n",
       "      <th>manual_label</th>\n",
       "      <th>sgd-svm_label</th>\n",
       "    </tr>\n",
       "  </thead>\n",
       "  <tbody>\n",
       "    <tr>\n",
       "      <th>5523</th>\n",
       "      <td>5523</td>\n",
       "      <td>367</td>\n",
       "      <td>1965</td>\n",
       "      <td>Biographical / Historical</td>\n",
       "      <td>Edward Bald Jamieson, from Shetland, was a gra...</td>\n",
       "      <td>[2571, 2572, 2573, 2574, 21607, 21608]</td>\n",
       "      <td>dev</td>\n",
       "      <td>{'Masculine'}</td>\n",
       "      <td>[Unknown, Masculine]</td>\n",
       "    </tr>\n",
       "    <tr>\n",
       "      <th>4719</th>\n",
       "      <td>4719</td>\n",
       "      <td>5650</td>\n",
       "      <td>5811</td>\n",
       "      <td>Biographical / Historical</td>\n",
       "      <td>This likely refers to an article of the same t...</td>\n",
       "      <td>[18486, 18487, 25469]</td>\n",
       "      <td>dev</td>\n",
       "      <td>{'Unknown', 'Masculine'}</td>\n",
       "      <td>[Unknown, Masculine]</td>\n",
       "    </tr>\n",
       "    <tr>\n",
       "      <th>735</th>\n",
       "      <td>735</td>\n",
       "      <td>7735</td>\n",
       "      <td>7881</td>\n",
       "      <td>Biographical / Historical</td>\n",
       "      <td>John Baillie kept a collection of the prayers ...</td>\n",
       "      <td>[13039]</td>\n",
       "      <td>dev</td>\n",
       "      <td>{'Masculine'}</td>\n",
       "      <td>[Unknown, Masculine]</td>\n",
       "    </tr>\n",
       "    <tr>\n",
       "      <th>2183</th>\n",
       "      <td>2183</td>\n",
       "      <td>1072</td>\n",
       "      <td>1372</td>\n",
       "      <td>Biographical / Historical</td>\n",
       "      <td>Joseph W. Hills graduated with the degree of M...</td>\n",
       "      <td>[5314]</td>\n",
       "      <td>dev</td>\n",
       "      <td>{'Masculine'}</td>\n",
       "      <td>[Masculine]</td>\n",
       "    </tr>\n",
       "    <tr>\n",
       "      <th>2299</th>\n",
       "      <td>2299</td>\n",
       "      <td>546</td>\n",
       "      <td>3642</td>\n",
       "      <td>Biographical / Historical</td>\n",
       "      <td>This collection is composed simply of an invit...</td>\n",
       "      <td>[8577, 8578, 8579, 8580, 8581, 8583, 8584, 858...</td>\n",
       "      <td>dev</td>\n",
       "      <td>{'Unknown', 'Masculine', 'Feminine'}</td>\n",
       "      <td>[Unknown, Masculine]</td>\n",
       "    </tr>\n",
       "  </tbody>\n",
       "</table>\n",
       "</div>"
      ],
      "text/plain": [
       "      description_id  start_offset  end_offset                      field  \\\n",
       "5523            5523           367        1965  Biographical / Historical   \n",
       "4719            4719          5650        5811  Biographical / Historical   \n",
       "735              735          7735        7881  Biographical / Historical   \n",
       "2183            2183          1072        1372  Biographical / Historical   \n",
       "2299            2299           546        3642  Biographical / Historical   \n",
       "\n",
       "                                            description  \\\n",
       "5523  Edward Bald Jamieson, from Shetland, was a gra...   \n",
       "4719  This likely refers to an article of the same t...   \n",
       "735   John Baillie kept a collection of the prayers ...   \n",
       "2183  Joseph W. Hills graduated with the degree of M...   \n",
       "2299  This collection is composed simply of an invit...   \n",
       "\n",
       "                                             agg_ann_id subset  \\\n",
       "5523             [2571, 2572, 2573, 2574, 21607, 21608]    dev   \n",
       "4719                              [18486, 18487, 25469]    dev   \n",
       "735                                             [13039]    dev   \n",
       "2183                                             [5314]    dev   \n",
       "2299  [8577, 8578, 8579, 8580, 8581, 8583, 8584, 858...    dev   \n",
       "\n",
       "                              manual_label         sgd-svm_label  \n",
       "5523                         {'Masculine'}  [Unknown, Masculine]  \n",
       "4719              {'Unknown', 'Masculine'}  [Unknown, Masculine]  \n",
       "735                          {'Masculine'}  [Unknown, Masculine]  \n",
       "2183                         {'Masculine'}           [Masculine]  \n",
       "2299  {'Unknown', 'Masculine', 'Feminine'}  [Unknown, Masculine]  "
      ]
     },
     "execution_count": 56,
     "metadata": {},
     "output_type": "execute_result"
    }
   ],
   "source": [
    "df_dev.insert(len(df_dev.columns), \"{a}_label\".format(a=a), pred_dev_labels)\n",
    "df_dev.head()"
   ]
  },
  {
   "cell_type": "markdown",
   "metadata": {},
   "source": [
    "Save this version of the data:"
   ]
  },
  {
   "cell_type": "code",
   "execution_count": 58,
   "metadata": {},
   "outputs": [],
   "source": [
    "validate_output_path = \"../data/doc_clf_data/pn_model_output_{a}/\".format(a=a)\n",
    "Path(validate_output_path).mkdir(parents=True, exist_ok=True)\n",
    "df_dev.to_csv(validate_output_path+\"aggregated_final_validate_predictions_{a}_{t}.csv\".format(a=a, t=target_labels))"
   ]
  },
  {
   "cell_type": "markdown",
   "metadata": {},
   "source": [
    "Explode and join the DataFrames of expected and predicted annotations for easier row-by-row comparison:"
   ]
  },
  {
   "cell_type": "code",
   "execution_count": 59,
   "metadata": {},
   "outputs": [
    {
     "data": {
      "text/html": [
       "<div>\n",
       "<style scoped>\n",
       "    .dataframe tbody tr th:only-of-type {\n",
       "        vertical-align: middle;\n",
       "    }\n",
       "\n",
       "    .dataframe tbody tr th {\n",
       "        vertical-align: top;\n",
       "    }\n",
       "\n",
       "    .dataframe thead th {\n",
       "        text-align: right;\n",
       "    }\n",
       "</style>\n",
       "<table border=\"1\" class=\"dataframe\">\n",
       "  <thead>\n",
       "    <tr style=\"text-align: right;\">\n",
       "      <th></th>\n",
       "      <th>description_id</th>\n",
       "      <th>start_offset</th>\n",
       "      <th>end_offset</th>\n",
       "      <th>field</th>\n",
       "      <th>description</th>\n",
       "      <th>agg_ann_id</th>\n",
       "      <th>subset</th>\n",
       "      <th>expected_label</th>\n",
       "    </tr>\n",
       "  </thead>\n",
       "  <tbody>\n",
       "    <tr>\n",
       "      <th>5</th>\n",
       "      <td>5</td>\n",
       "      <td>17</td>\n",
       "      <td>60</td>\n",
       "      <td>Title</td>\n",
       "      <td>Papers of Rev Tom Allan (1916-1965)</td>\n",
       "      <td>[9531, 23084]</td>\n",
       "      <td>dev</td>\n",
       "      <td>Unknown</td>\n",
       "    </tr>\n",
       "    <tr>\n",
       "      <th>5</th>\n",
       "      <td>5</td>\n",
       "      <td>17</td>\n",
       "      <td>60</td>\n",
       "      <td>Title</td>\n",
       "      <td>Papers of Rev Tom Allan (1916-1965)</td>\n",
       "      <td>[9531, 23084]</td>\n",
       "      <td>dev</td>\n",
       "      <td>Masculine</td>\n",
       "    </tr>\n",
       "    <tr>\n",
       "      <th>6</th>\n",
       "      <td>6</td>\n",
       "      <td>61</td>\n",
       "      <td>560</td>\n",
       "      <td>Scope and Contents</td>\n",
       "      <td>Sermons and addresses, 1947-1963; essays and l...</td>\n",
       "      <td></td>\n",
       "      <td>dev</td>\n",
       "      <td></td>\n",
       "    </tr>\n",
       "    <tr>\n",
       "      <th>7</th>\n",
       "      <td>7</td>\n",
       "      <td>561</td>\n",
       "      <td>2513</td>\n",
       "      <td>Biographical / Historical</td>\n",
       "      <td>Rev Thomas Allan was born on 16 August 1916 in...</td>\n",
       "      <td>[55, 9526, 9527, 9528, 9529, 9530, 9532, 9533,...</td>\n",
       "      <td>dev</td>\n",
       "      <td>Feminine</td>\n",
       "    </tr>\n",
       "    <tr>\n",
       "      <th>7</th>\n",
       "      <td>7</td>\n",
       "      <td>561</td>\n",
       "      <td>2513</td>\n",
       "      <td>Biographical / Historical</td>\n",
       "      <td>Rev Thomas Allan was born on 16 August 1916 in...</td>\n",
       "      <td>[55, 9526, 9527, 9528, 9529, 9530, 9532, 9533,...</td>\n",
       "      <td>dev</td>\n",
       "      <td>Unknown</td>\n",
       "    </tr>\n",
       "  </tbody>\n",
       "</table>\n",
       "</div>"
      ],
      "text/plain": [
       "   description_id  start_offset  end_offset                      field  \\\n",
       "5               5            17          60                      Title   \n",
       "5               5            17          60                      Title   \n",
       "6               6            61         560         Scope and Contents   \n",
       "7               7           561        2513  Biographical / Historical   \n",
       "7               7           561        2513  Biographical / Historical   \n",
       "\n",
       "                                         description  \\\n",
       "5                Papers of Rev Tom Allan (1916-1965)   \n",
       "5                Papers of Rev Tom Allan (1916-1965)   \n",
       "6  Sermons and addresses, 1947-1963; essays and l...   \n",
       "7  Rev Thomas Allan was born on 16 August 1916 in...   \n",
       "7  Rev Thomas Allan was born on 16 August 1916 in...   \n",
       "\n",
       "                                          agg_ann_id subset expected_label  \n",
       "5                                      [9531, 23084]    dev        Unknown  \n",
       "5                                      [9531, 23084]    dev      Masculine  \n",
       "6                                                       dev                 \n",
       "7  [55, 9526, 9527, 9528, 9529, 9530, 9532, 9533,...    dev       Feminine  \n",
       "7  [55, 9526, 9527, 9528, 9529, 9530, 9532, 9533,...    dev        Unknown  "
      ]
     },
     "execution_count": 59,
     "metadata": {},
     "output_type": "execute_result"
    }
   ],
   "source": [
    "df_exp = pd.read_csv(config.docc_path+\"pn_model_input/splits_as_csv/aggregated_final_validate.csv\", index_col=0)\n",
    "# Rows without labels can't be exploded, so remove those and concatenate them at the end\n",
    "df_exp_na = df_exp.loc[df_exp.label.isna()]\n",
    "df_exp_notna = df_exp.loc[~df_exp.label.isna()]\n",
    "\n",
    "labels_lists = df_exp_notna[\"label\"] \n",
    "new_labels_lists = [label_list[2:-2] for label_list in labels_lists if label_list != \"\"]\n",
    "df_exp_notna = df_exp_notna.drop(columns=[\"label\"])\n",
    "df_exp_notna.insert(len(df_exp_notna.columns), \"label\", new_labels_lists)\n",
    "df_exp_notna = df_exp_notna.assign(label=df_exp_notna.label.str.split(\"', '\")).explode(\"label\")\n",
    "\n",
    "df_exp = pd.concat([df_exp_na,df_exp_notna])\n",
    "df_exp = df_exp.sort_values(by=\"description_id\")\n",
    "df_exp = df_exp.rename(columns={\"label\":\"expected_label\"})\n",
    "df_exp = df_exp.fillna(\"\")\n",
    "\n",
    "df_exp.head()"
   ]
  },
  {
   "cell_type": "code",
   "execution_count": 60,
   "metadata": {},
   "outputs": [
    {
     "data": {
      "text/html": [
       "<div>\n",
       "<style scoped>\n",
       "    .dataframe tbody tr th:only-of-type {\n",
       "        vertical-align: middle;\n",
       "    }\n",
       "\n",
       "    .dataframe tbody tr th {\n",
       "        vertical-align: top;\n",
       "    }\n",
       "\n",
       "    .dataframe thead th {\n",
       "        text-align: right;\n",
       "    }\n",
       "</style>\n",
       "<table border=\"1\" class=\"dataframe\">\n",
       "  <thead>\n",
       "    <tr style=\"text-align: right;\">\n",
       "      <th></th>\n",
       "      <th>description_id</th>\n",
       "      <th>start_offset</th>\n",
       "      <th>end_offset</th>\n",
       "      <th>field</th>\n",
       "      <th>description</th>\n",
       "      <th>agg_ann_id</th>\n",
       "      <th>subset</th>\n",
       "      <th>predicted_label</th>\n",
       "    </tr>\n",
       "  </thead>\n",
       "  <tbody>\n",
       "    <tr>\n",
       "      <th>5</th>\n",
       "      <td>5</td>\n",
       "      <td>17</td>\n",
       "      <td>60</td>\n",
       "      <td>Title</td>\n",
       "      <td>Papers of Rev Tom Allan (1916-1965)</td>\n",
       "      <td>[9531, 23084]</td>\n",
       "      <td>dev</td>\n",
       "      <td>Unknown</td>\n",
       "    </tr>\n",
       "    <tr>\n",
       "      <th>6</th>\n",
       "      <td>6</td>\n",
       "      <td>61</td>\n",
       "      <td>560</td>\n",
       "      <td>Scope and Contents</td>\n",
       "      <td>Sermons and addresses, 1947-1963; essays and l...</td>\n",
       "      <td>NaN</td>\n",
       "      <td>dev</td>\n",
       "      <td></td>\n",
       "    </tr>\n",
       "    <tr>\n",
       "      <th>7</th>\n",
       "      <td>7</td>\n",
       "      <td>561</td>\n",
       "      <td>2513</td>\n",
       "      <td>Biographical / Historical</td>\n",
       "      <td>Rev Thomas Allan was born on 16 August 1916 in...</td>\n",
       "      <td>[55, 9526, 9527, 9528, 9529, 9530, 9532, 9533,...</td>\n",
       "      <td>dev</td>\n",
       "      <td>Unknown</td>\n",
       "    </tr>\n",
       "    <tr>\n",
       "      <th>7</th>\n",
       "      <td>7</td>\n",
       "      <td>561</td>\n",
       "      <td>2513</td>\n",
       "      <td>Biographical / Historical</td>\n",
       "      <td>Rev Thomas Allan was born on 16 August 1916 in...</td>\n",
       "      <td>[55, 9526, 9527, 9528, 9529, 9530, 9532, 9533,...</td>\n",
       "      <td>dev</td>\n",
       "      <td>Masculine</td>\n",
       "    </tr>\n",
       "    <tr>\n",
       "      <th>10</th>\n",
       "      <td>10</td>\n",
       "      <td>77</td>\n",
       "      <td>417</td>\n",
       "      <td>Scope and Contents</td>\n",
       "      <td>Academic papers, 1942-1986; publications and a...</td>\n",
       "      <td>NaN</td>\n",
       "      <td>dev</td>\n",
       "      <td></td>\n",
       "    </tr>\n",
       "  </tbody>\n",
       "</table>\n",
       "</div>"
      ],
      "text/plain": [
       "    description_id  start_offset  end_offset                      field  \\\n",
       "5                5            17          60                      Title   \n",
       "6                6            61         560         Scope and Contents   \n",
       "7                7           561        2513  Biographical / Historical   \n",
       "7                7           561        2513  Biographical / Historical   \n",
       "10              10            77         417         Scope and Contents   \n",
       "\n",
       "                                          description  \\\n",
       "5                 Papers of Rev Tom Allan (1916-1965)   \n",
       "6   Sermons and addresses, 1947-1963; essays and l...   \n",
       "7   Rev Thomas Allan was born on 16 August 1916 in...   \n",
       "7   Rev Thomas Allan was born on 16 August 1916 in...   \n",
       "10  Academic papers, 1942-1986; publications and a...   \n",
       "\n",
       "                                           agg_ann_id subset predicted_label  \n",
       "5                                       [9531, 23084]    dev         Unknown  \n",
       "6                                                 NaN    dev                  \n",
       "7   [55, 9526, 9527, 9528, 9529, 9530, 9532, 9533,...    dev         Unknown  \n",
       "7   [55, 9526, 9527, 9528, 9529, 9530, 9532, 9533,...    dev       Masculine  \n",
       "10                                                NaN    dev                  "
      ]
     },
     "execution_count": 60,
     "metadata": {},
     "output_type": "execute_result"
    }
   ],
   "source": [
    "df_pred = pd.read_csv(validate_output_path+\"aggregated_final_validate_predictions_{a}_{t}.csv\".format(a=a, t=target_labels), index_col=0)\n",
    "df_pred = df_pred.drop(columns=[\"manual_label\"])\n",
    "df_pred = df_pred.rename(columns={\"{a}_label\".format(a=a):\"predicted_label\"})\n",
    "df_pred[\"predicted_label\"] = [label_list[2:-2] for label_list in list(df_pred.predicted_label)]\n",
    "df_pred = df_pred.assign(predicted_label=df_pred.predicted_label.str.split(\"', '\")).explode(\"predicted_label\")\n",
    "df_pred.head()"
   ]
  },
  {
   "cell_type": "code",
   "execution_count": 61,
   "metadata": {},
   "outputs": [],
   "source": [
    "df_pred_sub = df_pred.drop(columns=[\"description\",  \"field\", \"start_offset\", \"end_offset\", \"subset\"])\n",
    "df_pred_sub.to_csv(config.docc_path+\"../{t}_model_output_{a}/{a}_{t}_validate_baseline_predictions_exploded.csv\".format(a=a, t=target_labels))"
   ]
  },
  {
   "cell_type": "code",
   "execution_count": 62,
   "metadata": {},
   "outputs": [
    {
     "data": {
      "text/html": [
       "<div>\n",
       "<style scoped>\n",
       "    .dataframe tbody tr th:only-of-type {\n",
       "        vertical-align: middle;\n",
       "    }\n",
       "\n",
       "    .dataframe tbody tr th {\n",
       "        vertical-align: top;\n",
       "    }\n",
       "\n",
       "    .dataframe thead th {\n",
       "        text-align: right;\n",
       "    }\n",
       "</style>\n",
       "<table border=\"1\" class=\"dataframe\">\n",
       "  <thead>\n",
       "    <tr style=\"text-align: right;\">\n",
       "      <th></th>\n",
       "      <th>description_id</th>\n",
       "      <th>start_offset</th>\n",
       "      <th>end_offset</th>\n",
       "      <th>description</th>\n",
       "      <th>expected_label</th>\n",
       "      <th>predicted_label</th>\n",
       "      <th>_merge</th>\n",
       "    </tr>\n",
       "  </thead>\n",
       "  <tbody>\n",
       "    <tr>\n",
       "      <th>0</th>\n",
       "      <td>5</td>\n",
       "      <td>17</td>\n",
       "      <td>60</td>\n",
       "      <td>Papers of Rev Tom Allan (1916-1965)</td>\n",
       "      <td>Unknown</td>\n",
       "      <td>Unknown</td>\n",
       "      <td>both</td>\n",
       "    </tr>\n",
       "    <tr>\n",
       "      <th>1</th>\n",
       "      <td>5</td>\n",
       "      <td>17</td>\n",
       "      <td>60</td>\n",
       "      <td>Papers of Rev Tom Allan (1916-1965)</td>\n",
       "      <td>Masculine</td>\n",
       "      <td>NaN</td>\n",
       "      <td>left_only</td>\n",
       "    </tr>\n",
       "    <tr>\n",
       "      <th>2</th>\n",
       "      <td>6</td>\n",
       "      <td>61</td>\n",
       "      <td>560</td>\n",
       "      <td>Sermons and addresses, 1947-1963; essays and l...</td>\n",
       "      <td></td>\n",
       "      <td></td>\n",
       "      <td>both</td>\n",
       "    </tr>\n",
       "    <tr>\n",
       "      <th>3</th>\n",
       "      <td>7</td>\n",
       "      <td>561</td>\n",
       "      <td>2513</td>\n",
       "      <td>Rev Thomas Allan was born on 16 August 1916 in...</td>\n",
       "      <td>Feminine</td>\n",
       "      <td>NaN</td>\n",
       "      <td>left_only</td>\n",
       "    </tr>\n",
       "    <tr>\n",
       "      <th>4</th>\n",
       "      <td>7</td>\n",
       "      <td>561</td>\n",
       "      <td>2513</td>\n",
       "      <td>Rev Thomas Allan was born on 16 August 1916 in...</td>\n",
       "      <td>Unknown</td>\n",
       "      <td>Unknown</td>\n",
       "      <td>both</td>\n",
       "    </tr>\n",
       "  </tbody>\n",
       "</table>\n",
       "</div>"
      ],
      "text/plain": [
       "   description_id  start_offset  end_offset  \\\n",
       "0               5            17          60   \n",
       "1               5            17          60   \n",
       "2               6            61         560   \n",
       "3               7           561        2513   \n",
       "4               7           561        2513   \n",
       "\n",
       "                                         description expected_label  \\\n",
       "0                Papers of Rev Tom Allan (1916-1965)        Unknown   \n",
       "1                Papers of Rev Tom Allan (1916-1965)      Masculine   \n",
       "2  Sermons and addresses, 1947-1963; essays and l...                  \n",
       "3  Rev Thomas Allan was born on 16 August 1916 in...       Feminine   \n",
       "4  Rev Thomas Allan was born on 16 August 1916 in...        Unknown   \n",
       "\n",
       "  predicted_label     _merge  \n",
       "0         Unknown       both  \n",
       "1             NaN  left_only  \n",
       "2                       both  \n",
       "3             NaN  left_only  \n",
       "4         Unknown       both  "
      ]
     },
     "execution_count": 62,
     "metadata": {},
     "output_type": "execute_result"
    }
   ],
   "source": [
    "dfs = pd.merge(\n",
    "    left=df_exp, right=df_pred, \n",
    "    how=\"outer\", \n",
    "    left_on=[\"description_id\",\"start_offset\",\"end_offset\",\"description\",\"expected_label\"], \n",
    "    right_on=[\"description_id\",\"start_offset\",\"end_offset\",\"description\",\"predicted_label\"], \n",
    "    suffixes=[\"\", \"_pred\"],\n",
    "    indicator=True\n",
    ")\n",
    "dfs = dfs[[\"description_id\",\"start_offset\",\"end_offset\",\"description\",\"expected_label\",\"predicted_label\",\"_merge\"]]\n",
    "dfs.head()"
   ]
  },
  {
   "cell_type": "code",
   "execution_count": 63,
   "metadata": {},
   "outputs": [
    {
     "name": "stdout",
     "output_type": "stream",
     "text": [
      "Rows: 6939\n"
     ]
    }
   ],
   "source": [
    "print(\"Rows:\", dfs.shape[0])"
   ]
  },
  {
   "cell_type": "code",
   "execution_count": 66,
   "metadata": {},
   "outputs": [
    {
     "name": "stdout",
     "output_type": "stream",
     "text": [
      "True negatives: 2512\n"
     ]
    }
   ],
   "source": [
    "tn = dfs.loc[dfs[\"expected_label\"] == \"\"]\n",
    "tn = tn.loc[tn[\"predicted_label\"] == \"\"]\n",
    "tn_indeces = list(tn.index)\n",
    "print(\"True negatives:\", len(tn_indeces))"
   ]
  },
  {
   "cell_type": "markdown",
   "metadata": {},
   "source": [
    "Remove the true negative rows from the DataFrame and then calculate the false negatives, false positives, and true positives in the remaining rows:"
   ]
  },
  {
   "cell_type": "code",
   "execution_count": 67,
   "metadata": {},
   "outputs": [
    {
     "data": {
      "text/html": [
       "<div>\n",
       "<style scoped>\n",
       "    .dataframe tbody tr th:only-of-type {\n",
       "        vertical-align: middle;\n",
       "    }\n",
       "\n",
       "    .dataframe tbody tr th {\n",
       "        vertical-align: top;\n",
       "    }\n",
       "\n",
       "    .dataframe thead th {\n",
       "        text-align: right;\n",
       "    }\n",
       "</style>\n",
       "<table border=\"1\" class=\"dataframe\">\n",
       "  <thead>\n",
       "    <tr style=\"text-align: right;\">\n",
       "      <th></th>\n",
       "      <th>description_id</th>\n",
       "      <th>start_offset</th>\n",
       "      <th>end_offset</th>\n",
       "      <th>description</th>\n",
       "      <th>expected_label</th>\n",
       "      <th>predicted_label</th>\n",
       "      <th>_merge</th>\n",
       "    </tr>\n",
       "  </thead>\n",
       "  <tbody>\n",
       "    <tr>\n",
       "      <th>0</th>\n",
       "      <td>5</td>\n",
       "      <td>17</td>\n",
       "      <td>60</td>\n",
       "      <td>Papers of Rev Tom Allan (1916-1965)</td>\n",
       "      <td>Unknown</td>\n",
       "      <td>Unknown</td>\n",
       "      <td>true positive</td>\n",
       "    </tr>\n",
       "    <tr>\n",
       "      <th>1</th>\n",
       "      <td>5</td>\n",
       "      <td>17</td>\n",
       "      <td>60</td>\n",
       "      <td>Papers of Rev Tom Allan (1916-1965)</td>\n",
       "      <td>Masculine</td>\n",
       "      <td>NaN</td>\n",
       "      <td>false negative</td>\n",
       "    </tr>\n",
       "    <tr>\n",
       "      <th>3</th>\n",
       "      <td>7</td>\n",
       "      <td>561</td>\n",
       "      <td>2513</td>\n",
       "      <td>Rev Thomas Allan was born on 16 August 1916 in...</td>\n",
       "      <td>Feminine</td>\n",
       "      <td>NaN</td>\n",
       "      <td>false negative</td>\n",
       "    </tr>\n",
       "    <tr>\n",
       "      <th>4</th>\n",
       "      <td>7</td>\n",
       "      <td>561</td>\n",
       "      <td>2513</td>\n",
       "      <td>Rev Thomas Allan was born on 16 August 1916 in...</td>\n",
       "      <td>Unknown</td>\n",
       "      <td>Unknown</td>\n",
       "      <td>true positive</td>\n",
       "    </tr>\n",
       "    <tr>\n",
       "      <th>5</th>\n",
       "      <td>7</td>\n",
       "      <td>561</td>\n",
       "      <td>2513</td>\n",
       "      <td>Rev Thomas Allan was born on 16 August 1916 in...</td>\n",
       "      <td>Masculine</td>\n",
       "      <td>Masculine</td>\n",
       "      <td>true positive</td>\n",
       "    </tr>\n",
       "  </tbody>\n",
       "</table>\n",
       "</div>"
      ],
      "text/plain": [
       "   description_id  start_offset  end_offset  \\\n",
       "0               5            17          60   \n",
       "1               5            17          60   \n",
       "3               7           561        2513   \n",
       "4               7           561        2513   \n",
       "5               7           561        2513   \n",
       "\n",
       "                                         description expected_label  \\\n",
       "0                Papers of Rev Tom Allan (1916-1965)        Unknown   \n",
       "1                Papers of Rev Tom Allan (1916-1965)      Masculine   \n",
       "3  Rev Thomas Allan was born on 16 August 1916 in...       Feminine   \n",
       "4  Rev Thomas Allan was born on 16 August 1916 in...        Unknown   \n",
       "5  Rev Thomas Allan was born on 16 August 1916 in...      Masculine   \n",
       "\n",
       "  predicted_label          _merge  \n",
       "0         Unknown   true positive  \n",
       "1             NaN  false negative  \n",
       "3             NaN  false negative  \n",
       "4         Unknown   true positive  \n",
       "5       Masculine   true positive  "
      ]
     },
     "execution_count": 67,
     "metadata": {},
     "output_type": "execute_result"
    }
   ],
   "source": [
    "subdfs = dfs.loc[~dfs.index.isin(tn_indeces)]\n",
    "assert dfs.shape[0] - subdfs.shape[0] == len(tn_indeces)\n",
    "subdfs = subdfs.replace(to_replace=\"left_only\", value=\"false negative\")\n",
    "subdfs = subdfs.replace(to_replace=\"right_only\", value=\"false positive\")\n",
    "subdfs = subdfs.replace(to_replace=\"both\", value=\"true positive\")\n",
    "subdfs.head()"
   ]
  },
  {
   "cell_type": "code",
   "execution_count": 68,
   "metadata": {},
   "outputs": [
    {
     "data": {
      "text/html": [
       "<div>\n",
       "<style scoped>\n",
       "    .dataframe tbody tr th:only-of-type {\n",
       "        vertical-align: middle;\n",
       "    }\n",
       "\n",
       "    .dataframe tbody tr th {\n",
       "        vertical-align: top;\n",
       "    }\n",
       "\n",
       "    .dataframe thead th {\n",
       "        text-align: right;\n",
       "    }\n",
       "</style>\n",
       "<table border=\"1\" class=\"dataframe\">\n",
       "  <thead>\n",
       "    <tr style=\"text-align: right;\">\n",
       "      <th></th>\n",
       "      <th>description_id</th>\n",
       "      <th>start_offset</th>\n",
       "      <th>end_offset</th>\n",
       "      <th>description</th>\n",
       "      <th>expected_label</th>\n",
       "      <th>predicted_label</th>\n",
       "      <th>_merge</th>\n",
       "    </tr>\n",
       "  </thead>\n",
       "  <tbody>\n",
       "    <tr>\n",
       "      <th>0</th>\n",
       "      <td>5</td>\n",
       "      <td>17</td>\n",
       "      <td>60</td>\n",
       "      <td>Papers of Rev Tom Allan (1916-1965)</td>\n",
       "      <td>Unknown</td>\n",
       "      <td>Unknown</td>\n",
       "      <td>true positive</td>\n",
       "    </tr>\n",
       "    <tr>\n",
       "      <th>1</th>\n",
       "      <td>5</td>\n",
       "      <td>17</td>\n",
       "      <td>60</td>\n",
       "      <td>Papers of Rev Tom Allan (1916-1965)</td>\n",
       "      <td>Masculine</td>\n",
       "      <td>NaN</td>\n",
       "      <td>false negative</td>\n",
       "    </tr>\n",
       "    <tr>\n",
       "      <th>2</th>\n",
       "      <td>6</td>\n",
       "      <td>61</td>\n",
       "      <td>560</td>\n",
       "      <td>Sermons and addresses, 1947-1963; essays and l...</td>\n",
       "      <td></td>\n",
       "      <td></td>\n",
       "      <td>true positive</td>\n",
       "    </tr>\n",
       "    <tr>\n",
       "      <th>3</th>\n",
       "      <td>7</td>\n",
       "      <td>561</td>\n",
       "      <td>2513</td>\n",
       "      <td>Rev Thomas Allan was born on 16 August 1916 in...</td>\n",
       "      <td>Feminine</td>\n",
       "      <td>NaN</td>\n",
       "      <td>false negative</td>\n",
       "    </tr>\n",
       "    <tr>\n",
       "      <th>4</th>\n",
       "      <td>7</td>\n",
       "      <td>561</td>\n",
       "      <td>2513</td>\n",
       "      <td>Rev Thomas Allan was born on 16 August 1916 in...</td>\n",
       "      <td>Unknown</td>\n",
       "      <td>Unknown</td>\n",
       "      <td>true positive</td>\n",
       "    </tr>\n",
       "  </tbody>\n",
       "</table>\n",
       "</div>"
      ],
      "text/plain": [
       "   description_id  start_offset  end_offset  \\\n",
       "0               5            17          60   \n",
       "1               5            17          60   \n",
       "2               6            61         560   \n",
       "3               7           561        2513   \n",
       "4               7           561        2513   \n",
       "\n",
       "                                         description expected_label  \\\n",
       "0                Papers of Rev Tom Allan (1916-1965)        Unknown   \n",
       "1                Papers of Rev Tom Allan (1916-1965)      Masculine   \n",
       "2  Sermons and addresses, 1947-1963; essays and l...                  \n",
       "3  Rev Thomas Allan was born on 16 August 1916 in...       Feminine   \n",
       "4  Rev Thomas Allan was born on 16 August 1916 in...        Unknown   \n",
       "\n",
       "  predicted_label          _merge  \n",
       "0         Unknown   true positive  \n",
       "1             NaN  false negative  \n",
       "2                   true positive  \n",
       "3             NaN  false negative  \n",
       "4         Unknown   true positive  "
      ]
     },
     "execution_count": 68,
     "metadata": {},
     "output_type": "execute_result"
    }
   ],
   "source": [
    "dfs.replace(to_replace=\"left_only\", value=\"false negative\", inplace=True)\n",
    "dfs.replace(to_replace=\"right_only\", value=\"false positive\", inplace=True)\n",
    "dfs.replace(to_replace=\"both\", value=\"true positive\", inplace=True)\n",
    "dfs.head()"
   ]
  },
  {
   "cell_type": "code",
   "execution_count": 69,
   "metadata": {},
   "outputs": [
    {
     "data": {
      "text/html": [
       "<div>\n",
       "<style scoped>\n",
       "    .dataframe tbody tr th:only-of-type {\n",
       "        vertical-align: middle;\n",
       "    }\n",
       "\n",
       "    .dataframe tbody tr th {\n",
       "        vertical-align: top;\n",
       "    }\n",
       "\n",
       "    .dataframe thead th {\n",
       "        text-align: right;\n",
       "    }\n",
       "</style>\n",
       "<table border=\"1\" class=\"dataframe\">\n",
       "  <thead>\n",
       "    <tr style=\"text-align: right;\">\n",
       "      <th></th>\n",
       "      <th></th>\n",
       "      <th></th>\n",
       "      <th></th>\n",
       "      <th></th>\n",
       "      <th>expected_label</th>\n",
       "      <th>predicted_label</th>\n",
       "    </tr>\n",
       "    <tr>\n",
       "      <th>description_id</th>\n",
       "      <th>start_offset</th>\n",
       "      <th>end_offset</th>\n",
       "      <th>description</th>\n",
       "      <th>_merge</th>\n",
       "      <th></th>\n",
       "      <th></th>\n",
       "    </tr>\n",
       "  </thead>\n",
       "  <tbody>\n",
       "    <tr>\n",
       "      <th rowspan=\"2\" valign=\"top\">5</th>\n",
       "      <th rowspan=\"2\" valign=\"top\">17</th>\n",
       "      <th rowspan=\"2\" valign=\"top\">60</th>\n",
       "      <th rowspan=\"2\" valign=\"top\">Papers of Rev Tom Allan (1916-1965)</th>\n",
       "      <th>false negative</th>\n",
       "      <td>Masculine</td>\n",
       "      <td>NaN</td>\n",
       "    </tr>\n",
       "    <tr>\n",
       "      <th>true positive</th>\n",
       "      <td>Unknown</td>\n",
       "      <td>Unknown</td>\n",
       "    </tr>\n",
       "    <tr>\n",
       "      <th>6</th>\n",
       "      <th>61</th>\n",
       "      <th>560</th>\n",
       "      <th>Sermons and addresses, 1947-1963; essays and lectures, c 1949; publications and articles, 1859-1965; newspaper cuttings, 1955-1965; publicity material; photographs, 1956-1961 and nd; church newsletters, 1962-1964; papers of the \"Tell Scotland\" Movement, 1954-1955; overseas mission papers; BBC television and radio scripts, 1955-1967; daily diaries, 1948-1963; World Council of Churches conference papers, 1963; committee minutes, 1954-1963.\\nSee also External Documents (below).</th>\n",
       "      <th>true positive</th>\n",
       "      <td></td>\n",
       "      <td></td>\n",
       "    </tr>\n",
       "    <tr>\n",
       "      <th rowspan=\"2\" valign=\"top\">7</th>\n",
       "      <th rowspan=\"2\" valign=\"top\">561</th>\n",
       "      <th rowspan=\"2\" valign=\"top\">2513</th>\n",
       "      <th rowspan=\"2\" valign=\"top\">Rev Thomas Allan was born on 16 August 1916 in Newmilnes, Ayrshire to William and Agnes. He was educated at Newmilnes Primary School and Kilmarnock Academy before going on to graduate from the University of Glasgow with a first class honours degree in English Literature. In 1945, following a number of years war service in the RAF he entered Trinity Theological College, Glasgow and was ordained a minister of the Church of Scotland in 1946.\\nIn 1941 Tom Allan married Jane Moore and they had three children, Margaret Elizabeth, William Thomas and Kenneth John.\\nRev Tom Allan's first charge was North Kelvinside Church in Glasgow and he served here until 1953 when he left to join the \"Tell Scotland\" movement. Tell Scotland started as a result of two Scottish radio missions of the BBC in which leading preachers of several denominations combined in a nation wide evangelistic drive. In 1953 the \"Tell Scotland\" committee was formed and Rev Tom Allan was appointed evangelistic organiser. He became a key figure in the Scottish evangelical movement of the mid-20th century and travelled extensively throughout Britain in his capacity as evangelist for the Church of Scotland. In 1955 when Billy Graham held his 'All Scotland Crusade', Tom Allan was Chairman of the organizing committee.\\nIn 1955 Rev Tom Allan accepted a call to become minister of St George's-Tron Parish Church in Glasgow and he served here until 1964 when he had to retire on the grounds of ill health. In 1955 Rev Allan held youth rallies at St George's-Tron which proved so popular that accommodation problems were experienced. The services were consequently relayed to churches filled by overflow audiences and by April 1956 five churches were involved and a total of 4,500 tickets were issued on one night.\\nFollowing a heart attack in 1964 Tom Allan requested demission (or resignation) from St George's Tron. He later died on the 8th September 1965.\\n</th>\n",
       "      <th>false negative</th>\n",
       "      <td>Feminine</td>\n",
       "      <td>NaN</td>\n",
       "    </tr>\n",
       "    <tr>\n",
       "      <th>true positive</th>\n",
       "      <td>Unknown</td>\n",
       "      <td>Unknown</td>\n",
       "    </tr>\n",
       "  </tbody>\n",
       "</table>\n",
       "</div>"
      ],
      "text/plain": [
       "                                                                                                         expected_label  \\\n",
       "description_id start_offset end_offset description                                        _merge                          \n",
       "5              17           60         Papers of Rev Tom Allan (1916-1965)                false negative      Masculine   \n",
       "                                                                                          true positive         Unknown   \n",
       "6              61           560        Sermons and addresses, 1947-1963; essays and le... true positive                   \n",
       "7              561          2513       Rev Thomas Allan was born on 16 August 1916 in ... false negative       Feminine   \n",
       "                                                                                          true positive         Unknown   \n",
       "\n",
       "                                                                                                         predicted_label  \n",
       "description_id start_offset end_offset description                                        _merge                          \n",
       "5              17           60         Papers of Rev Tom Allan (1916-1965)                false negative             NaN  \n",
       "                                                                                          true positive          Unknown  \n",
       "6              61           560        Sermons and addresses, 1947-1963; essays and le... true positive                   \n",
       "7              561          2513       Rev Thomas Allan was born on 16 August 1916 in ... false negative             NaN  \n",
       "                                                                                          true positive          Unknown  "
      ]
     },
     "execution_count": 69,
     "metadata": {},
     "output_type": "execute_result"
    }
   ],
   "source": [
    "df_grouped = dfs.set_index([\"description_id\", \"start_offset\",\"end_offset\",\"description\",\"_merge\"])\n",
    "df_sorted = df_grouped.sort_values(by=[\"description_id\",\"start_offset\",\"_merge\"], ascending=True)\n",
    "df_sorted.head()"
   ]
  },
  {
   "cell_type": "code",
   "execution_count": 70,
   "metadata": {},
   "outputs": [],
   "source": [
    "df_sorted.to_csv(validate_output_path+\"{a}_{t}_error_analysis.csv\".format(a=a, t=target_labels))"
   ]
  }
 ],
 "metadata": {
  "kernelspec": {
   "display_name": "Python 3",
   "language": "python",
   "name": "python3"
  },
  "language_info": {
   "codemirror_mode": {
    "name": "ipython",
    "version": 3
   },
   "file_extension": ".py",
   "mimetype": "text/x-python",
   "name": "python",
   "nbconvert_exporter": "python",
   "pygments_lexer": "ipython3",
   "version": "3.8.10"
  }
 },
 "nbformat": 4,
 "nbformat_minor": 5
}

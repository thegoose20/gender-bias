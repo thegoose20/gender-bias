{
 "cells": [
  {
   "cell_type": "markdown",
   "metadata": {},
   "source": [
    "# Gender Biased Document Classification\n",
    "\n",
    "*January 16, 2023*\n",
    "\n",
    "* Input data: Aggregated annotated data (`data/aggregated_data/aggregated_final.csv`)\n",
    "* Output data: \n",
    "\n",
    "***\n",
    "\n",
    "**Table of Contents**\n",
    "\n",
    "[1.](#1) Prepare the Data\n",
    "\n",
    "[2.](#2) Split the Data\n",
    "\n",
    "[3.](#3) Write the Data\n",
    "\n",
    "***"
   ]
  },
  {
   "cell_type": "code",
   "execution_count": 1,
   "metadata": {},
   "outputs": [],
   "source": [
    "import utils, config\n",
    "from pathlib import Path\n",
    "import numpy as np\n",
    "import pandas as pd\n",
    "# from sklearn.model_selection import StratifiedShuffleSplit  # insufficient data to use this\n",
    "from sklearn.model_selection import train_test_split\n",
    "# from sklearn.preprocessing import FunctionTransformer\n",
    "from sklearn.feature_extraction.text import TfidfVectorizer"
   ]
  },
  {
   "cell_type": "code",
   "execution_count": 2,
   "metadata": {},
   "outputs": [],
   "source": [
    "Path(config.docc_path).mkdir(parents=True, exist_ok=True)  # doc_clf_data/"
   ]
  },
  {
   "cell_type": "markdown",
   "metadata": {},
   "source": [
    "<a id=\"1\"></a>\n",
    "### 1. Prepare the Data"
   ]
  },
  {
   "cell_type": "markdown",
   "metadata": {},
   "source": [
    "Load the annotation data:"
   ]
  },
  {
   "cell_type": "code",
   "execution_count": 3,
   "metadata": {
    "tags": []
   },
   "outputs": [
    {
     "name": "stdout",
     "output_type": "stream",
     "text": [
      "(55260, 8)\n"
     ]
    },
    {
     "data": {
      "text/html": [
       "<div>\n",
       "<style scoped>\n",
       "    .dataframe tbody tr th:only-of-type {\n",
       "        vertical-align: middle;\n",
       "    }\n",
       "\n",
       "    .dataframe tbody tr th {\n",
       "        vertical-align: top;\n",
       "    }\n",
       "\n",
       "    .dataframe thead th {\n",
       "        text-align: right;\n",
       "    }\n",
       "</style>\n",
       "<table border=\"1\" class=\"dataframe\">\n",
       "  <thead>\n",
       "    <tr style=\"text-align: right;\">\n",
       "      <th></th>\n",
       "      <th>agg_ann_id</th>\n",
       "      <th>file</th>\n",
       "      <th>text</th>\n",
       "      <th>ann_offsets</th>\n",
       "      <th>label</th>\n",
       "      <th>category</th>\n",
       "      <th>associated_genders</th>\n",
       "      <th>description_id</th>\n",
       "    </tr>\n",
       "  </thead>\n",
       "  <tbody>\n",
       "    <tr>\n",
       "      <th>0</th>\n",
       "      <td>0</td>\n",
       "      <td>Coll-1157_00100.ann</td>\n",
       "      <td>knighted</td>\n",
       "      <td>(1407, 1415)</td>\n",
       "      <td>Gendered-Role</td>\n",
       "      <td>Linguistic</td>\n",
       "      <td>Unclear</td>\n",
       "      <td>2364</td>\n",
       "    </tr>\n",
       "    <tr>\n",
       "      <th>1</th>\n",
       "      <td>1</td>\n",
       "      <td>Coll-1310_02300.ann</td>\n",
       "      <td>knighthood</td>\n",
       "      <td>(9625, 9635)</td>\n",
       "      <td>Gendered-Role</td>\n",
       "      <td>Linguistic</td>\n",
       "      <td>Unclear</td>\n",
       "      <td>4542</td>\n",
       "    </tr>\n",
       "    <tr>\n",
       "      <th>2</th>\n",
       "      <td>2</td>\n",
       "      <td>Coll-1281_00100.ann</td>\n",
       "      <td>Prince Regent</td>\n",
       "      <td>(2426, 2439)</td>\n",
       "      <td>Gendered-Role</td>\n",
       "      <td>Linguistic</td>\n",
       "      <td>Unclear</td>\n",
       "      <td>3660</td>\n",
       "    </tr>\n",
       "    <tr>\n",
       "      <th>3</th>\n",
       "      <td>3</td>\n",
       "      <td>Coll-1310_02700.ann</td>\n",
       "      <td>knighthood</td>\n",
       "      <td>(9993, 10003)</td>\n",
       "      <td>Gendered-Role</td>\n",
       "      <td>Linguistic</td>\n",
       "      <td>Unclear</td>\n",
       "      <td>4678</td>\n",
       "    </tr>\n",
       "    <tr>\n",
       "      <th>4</th>\n",
       "      <td>4</td>\n",
       "      <td>Coll-1310_02900.ann</td>\n",
       "      <td>Sir</td>\n",
       "      <td>(7192, 7195)</td>\n",
       "      <td>Gendered-Role</td>\n",
       "      <td>Linguistic</td>\n",
       "      <td>Unclear</td>\n",
       "      <td>4732</td>\n",
       "    </tr>\n",
       "  </tbody>\n",
       "</table>\n",
       "</div>"
      ],
      "text/plain": [
       "   agg_ann_id                 file           text    ann_offsets  \\\n",
       "0           0  Coll-1157_00100.ann       knighted   (1407, 1415)   \n",
       "1           1  Coll-1310_02300.ann     knighthood   (9625, 9635)   \n",
       "2           2  Coll-1281_00100.ann  Prince Regent   (2426, 2439)   \n",
       "3           3  Coll-1310_02700.ann     knighthood  (9993, 10003)   \n",
       "4           4  Coll-1310_02900.ann            Sir   (7192, 7195)   \n",
       "\n",
       "           label    category associated_genders  description_id  \n",
       "0  Gendered-Role  Linguistic            Unclear            2364  \n",
       "1  Gendered-Role  Linguistic            Unclear            4542  \n",
       "2  Gendered-Role  Linguistic            Unclear            3660  \n",
       "3  Gendered-Role  Linguistic            Unclear            4678  \n",
       "4  Gendered-Role  Linguistic            Unclear            4732  "
      ]
     },
     "execution_count": 3,
     "metadata": {},
     "output_type": "execute_result"
    }
   ],
   "source": [
    "ann_df = pd.read_csv(config.agg_path+\"aggregated_final.csv\")\n",
    "print(ann_df.shape)\n",
    "ann_df.head()"
   ]
  },
  {
   "cell_type": "code",
   "execution_count": 4,
   "metadata": {},
   "outputs": [
    {
     "data": {
      "text/html": [
       "<div>\n",
       "<style scoped>\n",
       "    .dataframe tbody tr th:only-of-type {\n",
       "        vertical-align: middle;\n",
       "    }\n",
       "\n",
       "    .dataframe tbody tr th {\n",
       "        vertical-align: top;\n",
       "    }\n",
       "\n",
       "    .dataframe thead th {\n",
       "        text-align: right;\n",
       "    }\n",
       "</style>\n",
       "<table border=\"1\" class=\"dataframe\">\n",
       "  <thead>\n",
       "    <tr style=\"text-align: right;\">\n",
       "      <th></th>\n",
       "      <th>agg_ann_id</th>\n",
       "      <th>file</th>\n",
       "      <th>text</th>\n",
       "      <th>ann_offsets</th>\n",
       "      <th>label</th>\n",
       "      <th>category</th>\n",
       "      <th>associated_genders</th>\n",
       "      <th>description_id</th>\n",
       "    </tr>\n",
       "  </thead>\n",
       "  <tbody>\n",
       "    <tr>\n",
       "      <th>14622</th>\n",
       "      <td>14622</td>\n",
       "      <td>Coll-1310_02400.ann</td>\n",
       "      <td>Thomson</td>\n",
       "      <td>(7693, 7700)</td>\n",
       "      <td>Nonbinary</td>\n",
       "      <td>Person-Name</td>\n",
       "      <td>Unclear</td>\n",
       "      <td>4577</td>\n",
       "    </tr>\n",
       "  </tbody>\n",
       "</table>\n",
       "</div>"
      ],
      "text/plain": [
       "       agg_ann_id                 file     text   ann_offsets      label  \\\n",
       "14622       14622  Coll-1310_02400.ann  Thomson  (7693, 7700)  Nonbinary   \n",
       "\n",
       "          category associated_genders  description_id  \n",
       "14622  Person-Name            Unclear            4577  "
      ]
     },
     "execution_count": 4,
     "metadata": {},
     "output_type": "execute_result"
    }
   ],
   "source": [
    "ann_df.loc[ann_df.label == \"Nonbinary\"]  # Remove this - it was a mistake from the annotation process carried over from annotation review"
   ]
  },
  {
   "cell_type": "code",
   "execution_count": 5,
   "metadata": {},
   "outputs": [
    {
     "name": "stdout",
     "output_type": "stream",
     "text": [
      "(55259, 8)\n"
     ]
    }
   ],
   "source": [
    "ann_df = ann_df.loc[ann_df.agg_ann_id != 14622]\n",
    "print(ann_df.shape)"
   ]
  },
  {
   "cell_type": "markdown",
   "metadata": {},
   "source": [
    "Implode the annotation data so the annotation labels are grouped by description (one row per description): "
   ]
  },
  {
   "cell_type": "code",
   "execution_count": 6,
   "metadata": {},
   "outputs": [
    {
     "data": {
      "text/html": [
       "<div>\n",
       "<style scoped>\n",
       "    .dataframe tbody tr th:only-of-type {\n",
       "        vertical-align: middle;\n",
       "    }\n",
       "\n",
       "    .dataframe tbody tr th {\n",
       "        vertical-align: top;\n",
       "    }\n",
       "\n",
       "    .dataframe thead th {\n",
       "        text-align: right;\n",
       "    }\n",
       "</style>\n",
       "<table border=\"1\" class=\"dataframe\">\n",
       "  <thead>\n",
       "    <tr style=\"text-align: right;\">\n",
       "      <th></th>\n",
       "      <th>agg_ann_id</th>\n",
       "      <th>label</th>\n",
       "    </tr>\n",
       "    <tr>\n",
       "      <th>description_id</th>\n",
       "      <th></th>\n",
       "      <th></th>\n",
       "    </tr>\n",
       "  </thead>\n",
       "  <tbody>\n",
       "    <tr>\n",
       "      <th>1</th>\n",
       "      <td>[14384, 24275, 26233, 52952]</td>\n",
       "      <td>[Unknown, Masculine, Unknown, Stereotype]</td>\n",
       "    </tr>\n",
       "    <tr>\n",
       "      <th>3</th>\n",
       "      <td>[14377, 14378, 14379, 14380, 14381, 14382, 143...</td>\n",
       "      <td>[Gendered-Pronoun, Gendered-Pronoun, Gendered-...</td>\n",
       "    </tr>\n",
       "    <tr>\n",
       "      <th>5</th>\n",
       "      <td>[9531, 23084]</td>\n",
       "      <td>[Unknown, Masculine]</td>\n",
       "    </tr>\n",
       "    <tr>\n",
       "      <th>7</th>\n",
       "      <td>[55, 9516, 9517, 9518, 9519, 9520, 9521, 9522,...</td>\n",
       "      <td>[Masculine, Gendered-Pronoun, Gendered-Pronoun...</td>\n",
       "    </tr>\n",
       "    <tr>\n",
       "      <th>9</th>\n",
       "      <td>[14000, 24207]</td>\n",
       "      <td>[Unknown, Masculine]</td>\n",
       "    </tr>\n",
       "  </tbody>\n",
       "</table>\n",
       "</div>"
      ],
      "text/plain": [
       "                                                       agg_ann_id  \\\n",
       "description_id                                                      \n",
       "1                                    [14384, 24275, 26233, 52952]   \n",
       "3               [14377, 14378, 14379, 14380, 14381, 14382, 143...   \n",
       "5                                                   [9531, 23084]   \n",
       "7               [55, 9516, 9517, 9518, 9519, 9520, 9521, 9522,...   \n",
       "9                                                  [14000, 24207]   \n",
       "\n",
       "                                                            label  \n",
       "description_id                                                     \n",
       "1                       [Unknown, Masculine, Unknown, Stereotype]  \n",
       "3               [Gendered-Pronoun, Gendered-Pronoun, Gendered-...  \n",
       "5                                            [Unknown, Masculine]  \n",
       "7               [Masculine, Gendered-Pronoun, Gendered-Pronoun...  \n",
       "9                                            [Unknown, Masculine]  "
      ]
     },
     "execution_count": 6,
     "metadata": {},
     "output_type": "execute_result"
    }
   ],
   "source": [
    "ann_subdf = ann_df.drop(columns=[\"file\", \"associated_genders\", \"category\", \"text\", \"ann_offsets\"])\n",
    "ann_subdf_imploded = utils.implodeDataFrame(ann_subdf, [\"description_id\"])\n",
    "ann_subdf_imploded.head()"
   ]
  },
  {
   "cell_type": "markdown",
   "metadata": {},
   "source": [
    "Remove any repeated label names from the label lists:"
   ]
  },
  {
   "cell_type": "code",
   "execution_count": 7,
   "metadata": {},
   "outputs": [
    {
     "data": {
      "text/html": [
       "<div>\n",
       "<style scoped>\n",
       "    .dataframe tbody tr th:only-of-type {\n",
       "        vertical-align: middle;\n",
       "    }\n",
       "\n",
       "    .dataframe tbody tr th {\n",
       "        vertical-align: top;\n",
       "    }\n",
       "\n",
       "    .dataframe thead th {\n",
       "        text-align: right;\n",
       "    }\n",
       "</style>\n",
       "<table border=\"1\" class=\"dataframe\">\n",
       "  <thead>\n",
       "    <tr style=\"text-align: right;\">\n",
       "      <th></th>\n",
       "      <th>agg_ann_id</th>\n",
       "      <th>label</th>\n",
       "    </tr>\n",
       "    <tr>\n",
       "      <th>description_id</th>\n",
       "      <th></th>\n",
       "      <th></th>\n",
       "    </tr>\n",
       "  </thead>\n",
       "  <tbody>\n",
       "    <tr>\n",
       "      <th>1</th>\n",
       "      <td>[14384, 24275, 26233, 52952]</td>\n",
       "      <td>{Unknown, Stereotype, Masculine}</td>\n",
       "    </tr>\n",
       "    <tr>\n",
       "      <th>3</th>\n",
       "      <td>[14377, 14378, 14379, 14380, 14381, 14382, 143...</td>\n",
       "      <td>{Occupation, Stereotype, Masculine, Gendered-P...</td>\n",
       "    </tr>\n",
       "    <tr>\n",
       "      <th>5</th>\n",
       "      <td>[9531, 23084]</td>\n",
       "      <td>{Unknown, Masculine}</td>\n",
       "    </tr>\n",
       "    <tr>\n",
       "      <th>7</th>\n",
       "      <td>[55, 9516, 9517, 9518, 9519, 9520, 9521, 9522,...</td>\n",
       "      <td>{Omission, Gendered-Pronoun, Unknown, Generali...</td>\n",
       "    </tr>\n",
       "    <tr>\n",
       "      <th>9</th>\n",
       "      <td>[14000, 24207]</td>\n",
       "      <td>{Unknown, Masculine}</td>\n",
       "    </tr>\n",
       "  </tbody>\n",
       "</table>\n",
       "</div>"
      ],
      "text/plain": [
       "                                                       agg_ann_id  \\\n",
       "description_id                                                      \n",
       "1                                    [14384, 24275, 26233, 52952]   \n",
       "3               [14377, 14378, 14379, 14380, 14381, 14382, 143...   \n",
       "5                                                   [9531, 23084]   \n",
       "7               [55, 9516, 9517, 9518, 9519, 9520, 9521, 9522,...   \n",
       "9                                                  [14000, 24207]   \n",
       "\n",
       "                                                            label  \n",
       "description_id                                                     \n",
       "1                                {Unknown, Stereotype, Masculine}  \n",
       "3               {Occupation, Stereotype, Masculine, Gendered-P...  \n",
       "5                                            {Unknown, Masculine}  \n",
       "7               {Omission, Gendered-Pronoun, Unknown, Generali...  \n",
       "9                                            {Unknown, Masculine}  "
      ]
     },
     "execution_count": 7,
     "metadata": {},
     "output_type": "execute_result"
    }
   ],
   "source": [
    "label_lists = list(ann_subdf_imploded.label)\n",
    "label_sets = [set(label_list) for label_list in label_lists]\n",
    "ann_subdf_imploded[\"label\"] = label_sets\n",
    "ann_subdf_imploded.head()"
   ]
  },
  {
   "cell_type": "markdown",
   "metadata": {},
   "source": [
    "Load the description data and join it to the annotation data:"
   ]
  },
  {
   "cell_type": "code",
   "execution_count": 8,
   "metadata": {
    "tags": []
   },
   "outputs": [
    {
     "name": "stdout",
     "output_type": "stream",
     "text": [
      "(27908, 9)\n"
     ]
    },
    {
     "data": {
      "text/html": [
       "<div>\n",
       "<style scoped>\n",
       "    .dataframe tbody tr th:only-of-type {\n",
       "        vertical-align: middle;\n",
       "    }\n",
       "\n",
       "    .dataframe tbody tr th {\n",
       "        vertical-align: top;\n",
       "    }\n",
       "\n",
       "    .dataframe thead th {\n",
       "        text-align: right;\n",
       "    }\n",
       "</style>\n",
       "<table border=\"1\" class=\"dataframe\">\n",
       "  <thead>\n",
       "    <tr style=\"text-align: right;\">\n",
       "      <th></th>\n",
       "      <th>description_id</th>\n",
       "      <th>description</th>\n",
       "      <th>file</th>\n",
       "      <th>start_offset</th>\n",
       "      <th>end_offset</th>\n",
       "      <th>field</th>\n",
       "      <th>clean_desc</th>\n",
       "      <th>word_count</th>\n",
       "      <th>sent_count</th>\n",
       "    </tr>\n",
       "  </thead>\n",
       "  <tbody>\n",
       "    <tr>\n",
       "      <th>0</th>\n",
       "      <td>0</td>\n",
       "      <td>Identifier: AA5</td>\n",
       "      <td>AA5_00100.txt</td>\n",
       "      <td>0</td>\n",
       "      <td>16</td>\n",
       "      <td>Identifier</td>\n",
       "      <td>AA5</td>\n",
       "      <td>1</td>\n",
       "      <td>1</td>\n",
       "    </tr>\n",
       "    <tr>\n",
       "      <th>1</th>\n",
       "      <td>1</td>\n",
       "      <td>Title:\\nPapers of The Very Rev Prof James Whyt...</td>\n",
       "      <td>AA5_00100.txt</td>\n",
       "      <td>17</td>\n",
       "      <td>76</td>\n",
       "      <td>Title</td>\n",
       "      <td>Papers of The Very Rev Prof James Whyte (1920-...</td>\n",
       "      <td>10</td>\n",
       "      <td>1</td>\n",
       "    </tr>\n",
       "    <tr>\n",
       "      <th>2</th>\n",
       "      <td>2</td>\n",
       "      <td>Scope and Contents:\\nSermons and addresses, 19...</td>\n",
       "      <td>AA5_00100.txt</td>\n",
       "      <td>77</td>\n",
       "      <td>633</td>\n",
       "      <td>Scope and Contents</td>\n",
       "      <td>Sermons and addresses, 1948-1996; lectures, 19...</td>\n",
       "      <td>65</td>\n",
       "      <td>1</td>\n",
       "    </tr>\n",
       "    <tr>\n",
       "      <th>3</th>\n",
       "      <td>3</td>\n",
       "      <td>Biographical / Historical:\\nProfessor James Ai...</td>\n",
       "      <td>AA5_00100.txt</td>\n",
       "      <td>634</td>\n",
       "      <td>1725</td>\n",
       "      <td>Biographical / Historical</td>\n",
       "      <td>Professor James Aitken White was a leading Sco...</td>\n",
       "      <td>181</td>\n",
       "      <td>8</td>\n",
       "    </tr>\n",
       "    <tr>\n",
       "      <th>4</th>\n",
       "      <td>4</td>\n",
       "      <td>Identifier: AA6</td>\n",
       "      <td>AA6_00100.txt</td>\n",
       "      <td>0</td>\n",
       "      <td>16</td>\n",
       "      <td>Identifier</td>\n",
       "      <td>AA6</td>\n",
       "      <td>1</td>\n",
       "      <td>1</td>\n",
       "    </tr>\n",
       "  </tbody>\n",
       "</table>\n",
       "</div>"
      ],
      "text/plain": [
       "   description_id                                        description  \\\n",
       "0               0                                    Identifier: AA5   \n",
       "1               1  Title:\\nPapers of The Very Rev Prof James Whyt...   \n",
       "2               2  Scope and Contents:\\nSermons and addresses, 19...   \n",
       "3               3  Biographical / Historical:\\nProfessor James Ai...   \n",
       "4               4                                    Identifier: AA6   \n",
       "\n",
       "            file  start_offset  end_offset                      field  \\\n",
       "0  AA5_00100.txt             0          16                 Identifier   \n",
       "1  AA5_00100.txt            17          76                      Title   \n",
       "2  AA5_00100.txt            77         633         Scope and Contents   \n",
       "3  AA5_00100.txt           634        1725  Biographical / Historical   \n",
       "4  AA6_00100.txt             0          16                 Identifier   \n",
       "\n",
       "                                          clean_desc  word_count  sent_count  \n",
       "0                                                AA5           1           1  \n",
       "1  Papers of The Very Rev Prof James Whyte (1920-...          10           1  \n",
       "2  Sermons and addresses, 1948-1996; lectures, 19...          65           1  \n",
       "3  Professor James Aitken White was a leading Sco...         181           8  \n",
       "4                                                AA6           1           1  "
      ]
     },
     "execution_count": 8,
     "metadata": {},
     "output_type": "execute_result"
    }
   ],
   "source": [
    "desc_df = pd.read_csv(config.crc_meta_path+\"annot_descs.csv\", index_col=0)\n",
    "print(desc_df.shape)\n",
    "desc_df.head()"
   ]
  },
  {
   "cell_type": "code",
   "execution_count": 9,
   "metadata": {},
   "outputs": [
    {
     "data": {
      "text/html": [
       "<div>\n",
       "<style scoped>\n",
       "    .dataframe tbody tr th:only-of-type {\n",
       "        vertical-align: middle;\n",
       "    }\n",
       "\n",
       "    .dataframe tbody tr th {\n",
       "        vertical-align: top;\n",
       "    }\n",
       "\n",
       "    .dataframe thead th {\n",
       "        text-align: right;\n",
       "    }\n",
       "</style>\n",
       "<table border=\"1\" class=\"dataframe\">\n",
       "  <thead>\n",
       "    <tr style=\"text-align: right;\">\n",
       "      <th></th>\n",
       "      <th>description_id</th>\n",
       "      <th>start_offset</th>\n",
       "      <th>end_offset</th>\n",
       "      <th>field</th>\n",
       "      <th>clean_desc</th>\n",
       "    </tr>\n",
       "  </thead>\n",
       "  <tbody>\n",
       "    <tr>\n",
       "      <th>1</th>\n",
       "      <td>1</td>\n",
       "      <td>17</td>\n",
       "      <td>76</td>\n",
       "      <td>Title</td>\n",
       "      <td>Papers of The Very Rev Prof James Whyte (1920-...</td>\n",
       "    </tr>\n",
       "    <tr>\n",
       "      <th>2</th>\n",
       "      <td>2</td>\n",
       "      <td>77</td>\n",
       "      <td>633</td>\n",
       "      <td>Scope and Contents</td>\n",
       "      <td>Sermons and addresses, 1948-1996; lectures, 19...</td>\n",
       "    </tr>\n",
       "    <tr>\n",
       "      <th>3</th>\n",
       "      <td>3</td>\n",
       "      <td>634</td>\n",
       "      <td>1725</td>\n",
       "      <td>Biographical / Historical</td>\n",
       "      <td>Professor James Aitken White was a leading Sco...</td>\n",
       "    </tr>\n",
       "    <tr>\n",
       "      <th>5</th>\n",
       "      <td>5</td>\n",
       "      <td>17</td>\n",
       "      <td>60</td>\n",
       "      <td>Title</td>\n",
       "      <td>Papers of Rev Tom Allan (1916-1965)</td>\n",
       "    </tr>\n",
       "    <tr>\n",
       "      <th>6</th>\n",
       "      <td>6</td>\n",
       "      <td>61</td>\n",
       "      <td>560</td>\n",
       "      <td>Scope and Contents</td>\n",
       "      <td>Sermons and addresses, 1947-1963; essays and l...</td>\n",
       "    </tr>\n",
       "  </tbody>\n",
       "</table>\n",
       "</div>"
      ],
      "text/plain": [
       "   description_id  start_offset  end_offset                      field  \\\n",
       "1               1            17          76                      Title   \n",
       "2               2            77         633         Scope and Contents   \n",
       "3               3           634        1725  Biographical / Historical   \n",
       "5               5            17          60                      Title   \n",
       "6               6            61         560         Scope and Contents   \n",
       "\n",
       "                                          clean_desc  \n",
       "1  Papers of The Very Rev Prof James Whyte (1920-...  \n",
       "2  Sermons and addresses, 1948-1996; lectures, 19...  \n",
       "3  Professor James Aitken White was a leading Sco...  \n",
       "5                Papers of Rev Tom Allan (1916-1965)  \n",
       "6  Sermons and addresses, 1947-1963; essays and l...  "
      ]
     },
     "execution_count": 9,
     "metadata": {},
     "output_type": "execute_result"
    }
   ],
   "source": [
    "desc_subdf = desc_df.drop(columns=[\"file\", \"description\", \"word_count\", \"sent_count\"])\n",
    "desc_subdf = desc_subdf.loc[desc_subdf.field != \"Identifier\"]\n",
    "desc_subdf.head()"
   ]
  },
  {
   "cell_type": "code",
   "execution_count": 10,
   "metadata": {},
   "outputs": [
    {
     "data": {
      "text/html": [
       "<div>\n",
       "<style scoped>\n",
       "    .dataframe tbody tr th:only-of-type {\n",
       "        vertical-align: middle;\n",
       "    }\n",
       "\n",
       "    .dataframe tbody tr th {\n",
       "        vertical-align: top;\n",
       "    }\n",
       "\n",
       "    .dataframe thead th {\n",
       "        text-align: right;\n",
       "    }\n",
       "</style>\n",
       "<table border=\"1\" class=\"dataframe\">\n",
       "  <thead>\n",
       "    <tr style=\"text-align: right;\">\n",
       "      <th></th>\n",
       "      <th>description_id</th>\n",
       "      <th>start_offset</th>\n",
       "      <th>end_offset</th>\n",
       "      <th>field</th>\n",
       "      <th>description</th>\n",
       "      <th>agg_ann_id</th>\n",
       "      <th>label</th>\n",
       "    </tr>\n",
       "  </thead>\n",
       "  <tbody>\n",
       "    <tr>\n",
       "      <th>1</th>\n",
       "      <td>1</td>\n",
       "      <td>17</td>\n",
       "      <td>76</td>\n",
       "      <td>Title</td>\n",
       "      <td>Papers of The Very Rev Prof James Whyte (1920-...</td>\n",
       "      <td>[14384, 24275, 26233, 52952]</td>\n",
       "      <td>{Unknown, Stereotype, Masculine}</td>\n",
       "    </tr>\n",
       "    <tr>\n",
       "      <th>2</th>\n",
       "      <td>2</td>\n",
       "      <td>77</td>\n",
       "      <td>633</td>\n",
       "      <td>Scope and Contents</td>\n",
       "      <td>Sermons and addresses, 1948-1996; lectures, 19...</td>\n",
       "      <td></td>\n",
       "      <td></td>\n",
       "    </tr>\n",
       "    <tr>\n",
       "      <th>3</th>\n",
       "      <td>3</td>\n",
       "      <td>634</td>\n",
       "      <td>1725</td>\n",
       "      <td>Biographical / Historical</td>\n",
       "      <td>Professor James Aitken White was a leading Sco...</td>\n",
       "      <td>[14377, 14378, 14379, 14380, 14381, 14382, 143...</td>\n",
       "      <td>{Occupation, Stereotype, Masculine, Gendered-P...</td>\n",
       "    </tr>\n",
       "    <tr>\n",
       "      <th>5</th>\n",
       "      <td>5</td>\n",
       "      <td>17</td>\n",
       "      <td>60</td>\n",
       "      <td>Title</td>\n",
       "      <td>Papers of Rev Tom Allan (1916-1965)</td>\n",
       "      <td>[9531, 23084]</td>\n",
       "      <td>{Unknown, Masculine}</td>\n",
       "    </tr>\n",
       "    <tr>\n",
       "      <th>6</th>\n",
       "      <td>6</td>\n",
       "      <td>61</td>\n",
       "      <td>560</td>\n",
       "      <td>Scope and Contents</td>\n",
       "      <td>Sermons and addresses, 1947-1963; essays and l...</td>\n",
       "      <td></td>\n",
       "      <td></td>\n",
       "    </tr>\n",
       "  </tbody>\n",
       "</table>\n",
       "</div>"
      ],
      "text/plain": [
       "   description_id  start_offset  end_offset                      field  \\\n",
       "1               1            17          76                      Title   \n",
       "2               2            77         633         Scope and Contents   \n",
       "3               3           634        1725  Biographical / Historical   \n",
       "5               5            17          60                      Title   \n",
       "6               6            61         560         Scope and Contents   \n",
       "\n",
       "                                         description  \\\n",
       "1  Papers of The Very Rev Prof James Whyte (1920-...   \n",
       "2  Sermons and addresses, 1948-1996; lectures, 19...   \n",
       "3  Professor James Aitken White was a leading Sco...   \n",
       "5                Papers of Rev Tom Allan (1916-1965)   \n",
       "6  Sermons and addresses, 1947-1963; essays and l...   \n",
       "\n",
       "                                          agg_ann_id  \\\n",
       "1                       [14384, 24275, 26233, 52952]   \n",
       "2                                                      \n",
       "3  [14377, 14378, 14379, 14380, 14381, 14382, 143...   \n",
       "5                                      [9531, 23084]   \n",
       "6                                                      \n",
       "\n",
       "                                               label  \n",
       "1                   {Unknown, Stereotype, Masculine}  \n",
       "2                                                     \n",
       "3  {Occupation, Stereotype, Masculine, Gendered-P...  \n",
       "5                               {Unknown, Masculine}  \n",
       "6                                                     "
      ]
     },
     "execution_count": 10,
     "metadata": {},
     "output_type": "execute_result"
    }
   ],
   "source": [
    "# desc_subdf = desc_subdf.set_index(\"description_id\")\n",
    "joined = desc_subdf.join(ann_subdf_imploded, on=\"description_id\", how=\"outer\")\n",
    "joined = joined.rename(columns={\"clean_desc\":\"description\"})\n",
    "joined = joined.fillna(\"\")\n",
    "joined.head()"
   ]
  },
  {
   "cell_type": "markdown",
   "metadata": {},
   "source": [
    "Make sure the sequences of labels in each row appear correctly:"
   ]
  },
  {
   "cell_type": "code",
   "execution_count": 11,
   "metadata": {},
   "outputs": [
    {
     "name": "stdout",
     "output_type": "stream",
     "text": [
      "['Gendered-Role' 'Feminine' 'Unknown' 'Masculine' 'Gendered-Pronoun'\n",
      " 'Stereotype' 'Omission' 'Occupation' 'Generalization']\n"
     ]
    }
   ],
   "source": [
    "valid_label_names = ann_df.label.unique()\n",
    "print(valid_label_names)"
   ]
  },
  {
   "cell_type": "code",
   "execution_count": 12,
   "metadata": {},
   "outputs": [],
   "source": [
    "label_col = list(joined.label)\n",
    "invalid = []\n",
    "for label_list in label_col:\n",
    "    if len(label_list) > 0:\n",
    "        for label_name in label_list:\n",
    "            if not label_name in valid_label_names:\n",
    "                invalid += [label_name]\n",
    "assert len(invalid) == 0, \"Label names must be valid\""
   ]
  },
  {
   "cell_type": "markdown",
   "metadata": {},
   "source": [
    "### 2. Split the Data\n",
    "\n",
    "Shuffle the data and then added a column that assigns every row to a either the training, validation, or test subset of data.  For each DataFrame: \n",
    "* 60% of the rows are for `training`\n",
    "* 20% of the rows are for `validation` (or dev test)\n",
    "* 20% of the rows are for `test` (or blind test)"
   ]
  },
  {
   "cell_type": "code",
   "execution_count": 13,
   "metadata": {},
   "outputs": [],
   "source": [
    "train, validate, test = utils.getShuffledSplitData(joined)"
   ]
  },
  {
   "cell_type": "code",
   "execution_count": 14,
   "metadata": {},
   "outputs": [
    {
     "name": "stdout",
     "output_type": "stream",
     "text": [
      "16541\n",
      "5514\n",
      "5515\n"
     ]
    }
   ],
   "source": [
    "splits =  [train, validate, test]\n",
    "for split in splits:\n",
    "    print(split.shape[0])"
   ]
  },
  {
   "cell_type": "code",
   "execution_count": 15,
   "metadata": {},
   "outputs": [
    {
     "name": "stdout",
     "output_type": "stream",
     "text": [
      "0.5999637286906058\n",
      "0.2\n",
      "0.20003627130939428\n"
     ]
    }
   ],
   "source": [
    "print(train.shape[0]/(train.shape[0]+validate.shape[0]+test.shape[0]))\n",
    "print(validate.shape[0]/(train.shape[0]+validate.shape[0]+test.shape[0]))\n",
    "print(test.shape[0]/(train.shape[0]+validate.shape[0]+test.shape[0]))"
   ]
  },
  {
   "cell_type": "markdown",
   "metadata": {},
   "source": [
    "### 3. Write the Data\n",
    "\n",
    "The files will separate labels by `\\n` (a newline) and descriptions by `\\n|\\n` (a pipe character surrounded by newlines)"
   ]
  },
  {
   "cell_type": "code",
   "execution_count": 16,
   "metadata": {},
   "outputs": [],
   "source": [
    "dir_path = config.docc_path\n",
    "Path(dir_path).mkdir(parents=True, exist_ok=True)  # doc_clf_data/model_input/"
   ]
  },
  {
   "cell_type": "code",
   "execution_count": 17,
   "metadata": {},
   "outputs": [
    {
     "name": "stdout",
     "output_type": "stream",
     "text": [
      "Your documents file has been written!\n",
      "Your labels file has been written!\n"
     ]
    }
   ],
   "source": [
    "utils.writeDocs(list(train.description), \"train_docs.txt\", dir_path)\n",
    "utils.writeLabels(list(train.label), \"train_labels.txt\", dir_path)"
   ]
  },
  {
   "cell_type": "code",
   "execution_count": 18,
   "metadata": {},
   "outputs": [
    {
     "name": "stdout",
     "output_type": "stream",
     "text": [
      "Your documents file has been written!\n",
      "Your labels file has been written!\n"
     ]
    }
   ],
   "source": [
    "utils.writeDocs(list(validate.description), \"validate_docs.txt\", dir_path)\n",
    "utils.writeLabels(list(validate.label), \"validate_labels.txt\", dir_path)"
   ]
  },
  {
   "cell_type": "code",
   "execution_count": 19,
   "metadata": {},
   "outputs": [
    {
     "name": "stdout",
     "output_type": "stream",
     "text": [
      "Your documents file has been written!\n",
      "Your labels file has been written!\n"
     ]
    }
   ],
   "source": [
    "utils.writeDocs(list(test.description), \"blindtest_docs.txt\", dir_path)\n",
    "utils.writeLabels(list(test.label), \"blindtest_labels.txt\", dir_path)"
   ]
  },
  {
   "cell_type": "markdown",
   "metadata": {},
   "source": [
    "Write the train, validate, and test split DataFrames to files as well:"
   ]
  },
  {
   "cell_type": "code",
   "execution_count": 20,
   "metadata": {},
   "outputs": [],
   "source": [
    "dir_path = config.docc_path+\"splits_as_csv/\"\n",
    "Path(dir_path).mkdir(parents=True, exist_ok=True)  # doc_clf_data/splits_as_csv/"
   ]
  },
  {
   "cell_type": "code",
   "execution_count": 21,
   "metadata": {},
   "outputs": [],
   "source": [
    "train.to_csv(dir_path+\"aggregated_final_train.csv\")\n",
    "validate.to_csv(dir_path+\"aggregated_final_validate.csv\")\n",
    "test.to_csv(dir_path+\"aggregated_final_test.csv\")"
   ]
  },
  {
   "cell_type": "code",
   "execution_count": null,
   "metadata": {},
   "outputs": [],
   "source": []
  }
 ],
 "metadata": {
  "kernelspec": {
   "display_name": "Python 3",
   "language": "python",
   "name": "python3"
  },
  "language_info": {
   "codemirror_mode": {
    "name": "ipython",
    "version": 3
   },
   "file_extension": ".py",
   "mimetype": "text/x-python",
   "name": "python",
   "nbconvert_exporter": "python",
   "pygments_lexer": "ipython3",
   "version": "3.8.10"
  }
 },
 "nbformat": 4,
 "nbformat_minor": 5
}

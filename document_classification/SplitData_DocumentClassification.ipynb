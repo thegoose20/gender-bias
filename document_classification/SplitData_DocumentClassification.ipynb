{
 "cells": [
  {
   "cell_type": "markdown",
   "id": "99722ada",
   "metadata": {},
   "source": [
    "# Gender Biased Document Classification\n",
    "\n",
    "With aggregated and perspectivist (individual annotator's) data"
   ]
  },
  {
   "cell_type": "code",
   "execution_count": 1,
   "id": "729bdd3d",
   "metadata": {},
   "outputs": [],
   "source": [
    "import utils\n",
    "from pathlib import Path\n",
    "import numpy as np\n",
    "import pandas as pd\n",
    "# from sklearn.model_selection import StratifiedShuffleSplit\n",
    "from sklearn.model_selection import train_test_split\n",
    "# from sklearn.preprocessing import FunctionTransformer\n",
    "from sklearn.feature_extraction.text import TfidfVectorizer"
   ]
  },
  {
   "cell_type": "code",
   "execution_count": 2,
   "id": "d39c133c",
   "metadata": {},
   "outputs": [],
   "source": [
    "# For Aggregated Data\n",
    "# data_dir = \"./clf_data/\"\n",
    "# Path(data_dir).mkdir(parents=True, exist_ok=True)\n",
    "\n",
    "# For Perspectivist Data\n",
    "data_dir2 = \"./clf_data/perspectivist/\"\n",
    "Path(data_dir2).mkdir(parents=True, exist_ok=True)"
   ]
  },
  {
   "cell_type": "markdown",
   "id": "4df6154d",
   "metadata": {},
   "source": [
    "<a id=\"i\"></a>\n",
    "## Splitting Data into Train/Validation/Test Sets"
   ]
  },
  {
   "cell_type": "markdown",
   "id": "1c0bc4a2",
   "metadata": {},
   "source": [
    "Load and prepare the data for classification:"
   ]
  },
  {
   "cell_type": "code",
   "execution_count": 3,
   "id": "fd811240",
   "metadata": {},
   "outputs": [
    {
     "data": {
      "text/html": [
       "<div>\n",
       "<style scoped>\n",
       "    .dataframe tbody tr th:only-of-type {\n",
       "        vertical-align: middle;\n",
       "    }\n",
       "\n",
       "    .dataframe tbody tr th {\n",
       "        vertical-align: top;\n",
       "    }\n",
       "\n",
       "    .dataframe thead th {\n",
       "        text-align: right;\n",
       "    }\n",
       "</style>\n",
       "<table border=\"1\" class=\"dataframe\">\n",
       "  <thead>\n",
       "    <tr style=\"text-align: right;\">\n",
       "      <th></th>\n",
       "      <th>annotator</th>\n",
       "      <th>file</th>\n",
       "      <th>entity</th>\n",
       "      <th>label</th>\n",
       "      <th>start</th>\n",
       "      <th>end</th>\n",
       "      <th>text</th>\n",
       "      <th>category</th>\n",
       "      <th>note</th>\n",
       "      <th>eadid</th>\n",
       "      <th>field</th>\n",
       "      <th>id</th>\n",
       "      <th>description</th>\n",
       "    </tr>\n",
       "  </thead>\n",
       "  <tbody>\n",
       "    <tr>\n",
       "      <th>76483</th>\n",
       "      <td>Annotator 4</td>\n",
       "      <td>AA5_00100.ann</td>\n",
       "      <td>T7</td>\n",
       "      <td>Stereotype</td>\n",
       "      <td>34</td>\n",
       "      <td>63</td>\n",
       "      <td>The Very Rev Prof James Whyte</td>\n",
       "      <td>Contextual</td>\n",
       "      <td>form of address characteristic of male homosoc...</td>\n",
       "      <td>AA5</td>\n",
       "      <td>Title</td>\n",
       "      <td>0</td>\n",
       "      <td>Papers of The Very Rev Prof James Whyte (1920-...</td>\n",
       "    </tr>\n",
       "    <tr>\n",
       "      <th>42137</th>\n",
       "      <td>Annotator 1</td>\n",
       "      <td>AA5_00100.ann</td>\n",
       "      <td>T7</td>\n",
       "      <td>Masculine</td>\n",
       "      <td>34</td>\n",
       "      <td>63</td>\n",
       "      <td>The Very Rev Prof James Whyte</td>\n",
       "      <td>Person-Name</td>\n",
       "      <td>NaN</td>\n",
       "      <td>AA5</td>\n",
       "      <td>Title</td>\n",
       "      <td>1</td>\n",
       "      <td>Papers of The Very Rev Prof James Whyte (1920-...</td>\n",
       "    </tr>\n",
       "    <tr>\n",
       "      <th>14854</th>\n",
       "      <td>Annotator 0</td>\n",
       "      <td>AA5_00100.ann</td>\n",
       "      <td>T7</td>\n",
       "      <td>Unknown</td>\n",
       "      <td>34</td>\n",
       "      <td>63</td>\n",
       "      <td>The Very Rev Prof James Whyte</td>\n",
       "      <td>Person-Name</td>\n",
       "      <td>NaN</td>\n",
       "      <td>AA5</td>\n",
       "      <td>Title</td>\n",
       "      <td>2</td>\n",
       "      <td>Papers of The Very Rev Prof James Whyte (1920-...</td>\n",
       "    </tr>\n",
       "    <tr>\n",
       "      <th>48352</th>\n",
       "      <td>Annotator 2</td>\n",
       "      <td>AA5_00100.ann</td>\n",
       "      <td>T10</td>\n",
       "      <td>Unknown</td>\n",
       "      <td>43</td>\n",
       "      <td>63</td>\n",
       "      <td>Rev Prof James Whyte</td>\n",
       "      <td>Person-Name</td>\n",
       "      <td>NaN</td>\n",
       "      <td>AA5</td>\n",
       "      <td>Title</td>\n",
       "      <td>3</td>\n",
       "      <td>Papers of The Very Rev Prof James Whyte (1920-...</td>\n",
       "    </tr>\n",
       "    <tr>\n",
       "      <th>14855</th>\n",
       "      <td>Annotator 0</td>\n",
       "      <td>AA5_00100.ann</td>\n",
       "      <td>T12</td>\n",
       "      <td>Masculine</td>\n",
       "      <td>661</td>\n",
       "      <td>689</td>\n",
       "      <td>Professor James Aitken White</td>\n",
       "      <td>Person-Name</td>\n",
       "      <td>NaN</td>\n",
       "      <td>AA5</td>\n",
       "      <td>Biographical / Historical</td>\n",
       "      <td>4</td>\n",
       "      <td>Professor James Aitken White was a leading Sco...</td>\n",
       "    </tr>\n",
       "  </tbody>\n",
       "</table>\n",
       "</div>"
      ],
      "text/plain": [
       "         annotator           file entity       label  start  end  \\\n",
       "76483  Annotator 4  AA5_00100.ann     T7  Stereotype     34   63   \n",
       "42137  Annotator 1  AA5_00100.ann     T7   Masculine     34   63   \n",
       "14854  Annotator 0  AA5_00100.ann     T7     Unknown     34   63   \n",
       "48352  Annotator 2  AA5_00100.ann    T10     Unknown     43   63   \n",
       "14855  Annotator 0  AA5_00100.ann    T12   Masculine    661  689   \n",
       "\n",
       "                                text     category  \\\n",
       "76483  The Very Rev Prof James Whyte   Contextual   \n",
       "42137  The Very Rev Prof James Whyte  Person-Name   \n",
       "14854  The Very Rev Prof James Whyte  Person-Name   \n",
       "48352           Rev Prof James Whyte  Person-Name   \n",
       "14855   Professor James Aitken White  Person-Name   \n",
       "\n",
       "                                                    note eadid  \\\n",
       "76483  form of address characteristic of male homosoc...   AA5   \n",
       "42137                                                NaN   AA5   \n",
       "14854                                                NaN   AA5   \n",
       "48352                                                NaN   AA5   \n",
       "14855                                                NaN   AA5   \n",
       "\n",
       "                           field  id  \\\n",
       "76483                      Title   0   \n",
       "42137                      Title   1   \n",
       "14854                      Title   2   \n",
       "48352                      Title   3   \n",
       "14855  Biographical / Historical   4   \n",
       "\n",
       "                                             description  \n",
       "76483  Papers of The Very Rev Prof James Whyte (1920-...  \n",
       "42137  Papers of The Very Rev Prof James Whyte (1920-...  \n",
       "14854  Papers of The Very Rev Prof James Whyte (1920-...  \n",
       "48352  Papers of The Very Rev Prof James Whyte (1920-...  \n",
       "14855  Professor James Aitken White was a leading Sco...  "
      ]
     },
     "execution_count": 3,
     "metadata": {},
     "output_type": "execute_result"
    }
   ],
   "source": [
    "# df = pd.read_csv(\"../annot-post/data/aggregated_with_eadid_descid_cols.csv\", index_col=0)\n",
    "# df.head()\n",
    "all_anns = pd.read_csv(\"../annot-post/data/all_annotators.csv\", index_col=0)\n",
    "df = all_anns.rename(columns={\"field2\":\"description\"})\n",
    "df.head()"
   ]
  },
  {
   "cell_type": "code",
   "execution_count": 4,
   "id": "6035df4c",
   "metadata": {},
   "outputs": [
    {
     "data": {
      "text/html": [
       "<div>\n",
       "<style scoped>\n",
       "    .dataframe tbody tr th:only-of-type {\n",
       "        vertical-align: middle;\n",
       "    }\n",
       "\n",
       "    .dataframe tbody tr th {\n",
       "        vertical-align: top;\n",
       "    }\n",
       "\n",
       "    .dataframe thead th {\n",
       "        text-align: right;\n",
       "    }\n",
       "</style>\n",
       "<table border=\"1\" class=\"dataframe\">\n",
       "  <thead>\n",
       "    <tr style=\"text-align: right;\">\n",
       "      <th></th>\n",
       "      <th>description</th>\n",
       "      <th>desc_id</th>\n",
       "    </tr>\n",
       "  </thead>\n",
       "  <tbody>\n",
       "    <tr>\n",
       "      <th>0</th>\n",
       "      <td>Professor James Aitken White was a leading Sco...</td>\n",
       "      <td>0</td>\n",
       "    </tr>\n",
       "    <tr>\n",
       "      <th>1</th>\n",
       "      <td>Papers of The Very Rev Prof James Whyte (1920-...</td>\n",
       "      <td>1</td>\n",
       "    </tr>\n",
       "    <tr>\n",
       "      <th>2</th>\n",
       "      <td>Rev Thomas Allan was born on 16 August 1916 in...</td>\n",
       "      <td>2</td>\n",
       "    </tr>\n",
       "    <tr>\n",
       "      <th>3</th>\n",
       "      <td>Papers of Rev Tom Allan (1916-1965)\\n\\n</td>\n",
       "      <td>3</td>\n",
       "    </tr>\n",
       "    <tr>\n",
       "      <th>4</th>\n",
       "      <td>Alec Cheyne was born on 1 June 1924 in Errol i...</td>\n",
       "      <td>4</td>\n",
       "    </tr>\n",
       "  </tbody>\n",
       "</table>\n",
       "</div>"
      ],
      "text/plain": [
       "                                         description  desc_id\n",
       "0  Professor James Aitken White was a leading Sco...        0\n",
       "1  Papers of The Very Rev Prof James Whyte (1920-...        1\n",
       "2  Rev Thomas Allan was born on 16 August 1916 in...        2\n",
       "3            Papers of Rev Tom Allan (1916-1965)\\n\\n        3\n",
       "4  Alec Cheyne was born on 1 June 1924 in Errol i...        4"
      ]
     },
     "execution_count": 4,
     "metadata": {},
     "output_type": "execute_result"
    }
   ],
   "source": [
    "descs = pd.read_csv(\"../annot-post/data/all_descriptions.csv\", index_col=0)\n",
    "descs = descs.drop(columns=[\"field\", \"eadid\"])\n",
    "descs.head()"
   ]
  },
  {
   "cell_type": "markdown",
   "id": "d62aac02",
   "metadata": {},
   "source": [
    "Join the two DataFrames by `desc_id` (description ID):"
   ]
  },
  {
   "cell_type": "code",
   "execution_count": 5,
   "id": "ad4c8b9c",
   "metadata": {},
   "outputs": [
    {
     "data": {
      "text/html": [
       "<div>\n",
       "<style scoped>\n",
       "    .dataframe tbody tr th:only-of-type {\n",
       "        vertical-align: middle;\n",
       "    }\n",
       "\n",
       "    .dataframe tbody tr th {\n",
       "        vertical-align: top;\n",
       "    }\n",
       "\n",
       "    .dataframe thead th {\n",
       "        text-align: right;\n",
       "    }\n",
       "</style>\n",
       "<table border=\"1\" class=\"dataframe\">\n",
       "  <thead>\n",
       "    <tr style=\"text-align: right;\">\n",
       "      <th></th>\n",
       "      <th>annotator</th>\n",
       "      <th>file</th>\n",
       "      <th>entity</th>\n",
       "      <th>label</th>\n",
       "      <th>start</th>\n",
       "      <th>end</th>\n",
       "      <th>text</th>\n",
       "      <th>category</th>\n",
       "      <th>note</th>\n",
       "      <th>eadid</th>\n",
       "      <th>field</th>\n",
       "      <th>id</th>\n",
       "      <th>description</th>\n",
       "      <th>desc_id</th>\n",
       "    </tr>\n",
       "  </thead>\n",
       "  <tbody>\n",
       "    <tr>\n",
       "      <th>76483</th>\n",
       "      <td>Annotator 4</td>\n",
       "      <td>AA5_00100.ann</td>\n",
       "      <td>T7</td>\n",
       "      <td>Stereotype</td>\n",
       "      <td>34</td>\n",
       "      <td>63</td>\n",
       "      <td>The Very Rev Prof James Whyte</td>\n",
       "      <td>Contextual</td>\n",
       "      <td>form of address characteristic of male homosoc...</td>\n",
       "      <td>AA5</td>\n",
       "      <td>Title</td>\n",
       "      <td>0</td>\n",
       "      <td>Papers of The Very Rev Prof James Whyte (1920-...</td>\n",
       "      <td>1</td>\n",
       "    </tr>\n",
       "    <tr>\n",
       "      <th>42137</th>\n",
       "      <td>Annotator 1</td>\n",
       "      <td>AA5_00100.ann</td>\n",
       "      <td>T7</td>\n",
       "      <td>Masculine</td>\n",
       "      <td>34</td>\n",
       "      <td>63</td>\n",
       "      <td>The Very Rev Prof James Whyte</td>\n",
       "      <td>Person-Name</td>\n",
       "      <td>NaN</td>\n",
       "      <td>AA5</td>\n",
       "      <td>Title</td>\n",
       "      <td>1</td>\n",
       "      <td>Papers of The Very Rev Prof James Whyte (1920-...</td>\n",
       "      <td>1</td>\n",
       "    </tr>\n",
       "    <tr>\n",
       "      <th>14854</th>\n",
       "      <td>Annotator 0</td>\n",
       "      <td>AA5_00100.ann</td>\n",
       "      <td>T7</td>\n",
       "      <td>Unknown</td>\n",
       "      <td>34</td>\n",
       "      <td>63</td>\n",
       "      <td>The Very Rev Prof James Whyte</td>\n",
       "      <td>Person-Name</td>\n",
       "      <td>NaN</td>\n",
       "      <td>AA5</td>\n",
       "      <td>Title</td>\n",
       "      <td>2</td>\n",
       "      <td>Papers of The Very Rev Prof James Whyte (1920-...</td>\n",
       "      <td>1</td>\n",
       "    </tr>\n",
       "    <tr>\n",
       "      <th>48352</th>\n",
       "      <td>Annotator 2</td>\n",
       "      <td>AA5_00100.ann</td>\n",
       "      <td>T10</td>\n",
       "      <td>Unknown</td>\n",
       "      <td>43</td>\n",
       "      <td>63</td>\n",
       "      <td>Rev Prof James Whyte</td>\n",
       "      <td>Person-Name</td>\n",
       "      <td>NaN</td>\n",
       "      <td>AA5</td>\n",
       "      <td>Title</td>\n",
       "      <td>3</td>\n",
       "      <td>Papers of The Very Rev Prof James Whyte (1920-...</td>\n",
       "      <td>1</td>\n",
       "    </tr>\n",
       "    <tr>\n",
       "      <th>14855</th>\n",
       "      <td>Annotator 0</td>\n",
       "      <td>AA5_00100.ann</td>\n",
       "      <td>T12</td>\n",
       "      <td>Masculine</td>\n",
       "      <td>661</td>\n",
       "      <td>689</td>\n",
       "      <td>Professor James Aitken White</td>\n",
       "      <td>Person-Name</td>\n",
       "      <td>NaN</td>\n",
       "      <td>AA5</td>\n",
       "      <td>Biographical / Historical</td>\n",
       "      <td>4</td>\n",
       "      <td>Professor James Aitken White was a leading Sco...</td>\n",
       "      <td>0</td>\n",
       "    </tr>\n",
       "  </tbody>\n",
       "</table>\n",
       "</div>"
      ],
      "text/plain": [
       "         annotator           file entity       label  start  end  \\\n",
       "76483  Annotator 4  AA5_00100.ann     T7  Stereotype     34   63   \n",
       "42137  Annotator 1  AA5_00100.ann     T7   Masculine     34   63   \n",
       "14854  Annotator 0  AA5_00100.ann     T7     Unknown     34   63   \n",
       "48352  Annotator 2  AA5_00100.ann    T10     Unknown     43   63   \n",
       "14855  Annotator 0  AA5_00100.ann    T12   Masculine    661  689   \n",
       "\n",
       "                                text     category  \\\n",
       "76483  The Very Rev Prof James Whyte   Contextual   \n",
       "42137  The Very Rev Prof James Whyte  Person-Name   \n",
       "14854  The Very Rev Prof James Whyte  Person-Name   \n",
       "48352           Rev Prof James Whyte  Person-Name   \n",
       "14855   Professor James Aitken White  Person-Name   \n",
       "\n",
       "                                                    note eadid  \\\n",
       "76483  form of address characteristic of male homosoc...   AA5   \n",
       "42137                                                NaN   AA5   \n",
       "14854                                                NaN   AA5   \n",
       "48352                                                NaN   AA5   \n",
       "14855                                                NaN   AA5   \n",
       "\n",
       "                           field  id  \\\n",
       "76483                      Title   0   \n",
       "42137                      Title   1   \n",
       "14854                      Title   2   \n",
       "48352                      Title   3   \n",
       "14855  Biographical / Historical   4   \n",
       "\n",
       "                                             description  desc_id  \n",
       "76483  Papers of The Very Rev Prof James Whyte (1920-...        1  \n",
       "42137  Papers of The Very Rev Prof James Whyte (1920-...        1  \n",
       "14854  Papers of The Very Rev Prof James Whyte (1920-...        1  \n",
       "48352  Papers of The Very Rev Prof James Whyte (1920-...        1  \n",
       "14855  Professor James Aitken White was a leading Sco...        0  "
      ]
     },
     "execution_count": 5,
     "metadata": {},
     "output_type": "execute_result"
    }
   ],
   "source": [
    "# clf_data = df.join(descs.set_index('desc_id'), on='desc_id')\n",
    "clf_data = df.join(descs.set_index('description'), on='description')\n",
    "clf_data.head()"
   ]
  },
  {
   "cell_type": "markdown",
   "id": "77e050df",
   "metadata": {},
   "source": [
    "The DataFrame above has a row for every label, so for descriptions with multiple labels, there are multiple rows of data."
   ]
  },
  {
   "cell_type": "code",
   "execution_count": 6,
   "id": "775ad6a7",
   "metadata": {},
   "outputs": [
    {
     "data": {
      "text/plain": [
       "False"
      ]
     },
     "execution_count": 6,
     "metadata": {},
     "output_type": "execute_result"
    }
   ],
   "source": [
    "clf_data.description.isnull().values.any()"
   ]
  },
  {
   "cell_type": "markdown",
   "id": "0c85a586",
   "metadata": {},
   "source": [
    "For every description, get the labels (non-repeating) they were annotated with:"
   ]
  },
  {
   "cell_type": "code",
   "execution_count": 7,
   "id": "0828ac6e",
   "metadata": {},
   "outputs": [
    {
     "data": {
      "text/html": [
       "<div>\n",
       "<style scoped>\n",
       "    .dataframe tbody tr th:only-of-type {\n",
       "        vertical-align: middle;\n",
       "    }\n",
       "\n",
       "    .dataframe tbody tr th {\n",
       "        vertical-align: top;\n",
       "    }\n",
       "\n",
       "    .dataframe thead th {\n",
       "        text-align: right;\n",
       "    }\n",
       "</style>\n",
       "<table border=\"1\" class=\"dataframe\">\n",
       "  <thead>\n",
       "    <tr style=\"text-align: right;\">\n",
       "      <th></th>\n",
       "      <th>description</th>\n",
       "      <th>field</th>\n",
       "      <th>desc_id</th>\n",
       "      <th>annotator</th>\n",
       "      <th>eadid</th>\n",
       "      <th>label</th>\n",
       "    </tr>\n",
       "  </thead>\n",
       "  <tbody>\n",
       "    <tr>\n",
       "      <th>26980</th>\n",
       "      <td>Professor James Aitken White was a leading Sco...</td>\n",
       "      <td>Biographical / Historical</td>\n",
       "      <td>0</td>\n",
       "      <td>Annotator 0</td>\n",
       "      <td>AA5</td>\n",
       "      <td>{Masculine, Occupation, Gendered-Pronoun}</td>\n",
       "    </tr>\n",
       "    <tr>\n",
       "      <th>26984</th>\n",
       "      <td>Professor James Aitken White was a leading Sco...</td>\n",
       "      <td>Biographical / Historical</td>\n",
       "      <td>0</td>\n",
       "      <td>Annotator 4</td>\n",
       "      <td>AA5</td>\n",
       "      <td>{Stereotype, Occupation}</td>\n",
       "    </tr>\n",
       "    <tr>\n",
       "      <th>26983</th>\n",
       "      <td>Professor James Aitken White was a leading Sco...</td>\n",
       "      <td>Biographical / Historical</td>\n",
       "      <td>0</td>\n",
       "      <td>Annotator 3</td>\n",
       "      <td>AA5</td>\n",
       "      <td>{Occupation}</td>\n",
       "    </tr>\n",
       "    <tr>\n",
       "      <th>26982</th>\n",
       "      <td>Professor James Aitken White was a leading Sco...</td>\n",
       "      <td>Biographical / Historical</td>\n",
       "      <td>0</td>\n",
       "      <td>Annotator 2</td>\n",
       "      <td>AA5</td>\n",
       "      <td>{Masculine, Gendered-Pronoun}</td>\n",
       "    </tr>\n",
       "    <tr>\n",
       "      <th>26981</th>\n",
       "      <td>Professor James Aitken White was a leading Sco...</td>\n",
       "      <td>Biographical / Historical</td>\n",
       "      <td>0</td>\n",
       "      <td>Annotator 1</td>\n",
       "      <td>AA5</td>\n",
       "      <td>{Masculine, Gendered-Pronoun}</td>\n",
       "    </tr>\n",
       "  </tbody>\n",
       "</table>\n",
       "</div>"
      ],
      "text/plain": [
       "                                             description  \\\n",
       "26980  Professor James Aitken White was a leading Sco...   \n",
       "26984  Professor James Aitken White was a leading Sco...   \n",
       "26983  Professor James Aitken White was a leading Sco...   \n",
       "26982  Professor James Aitken White was a leading Sco...   \n",
       "26981  Professor James Aitken White was a leading Sco...   \n",
       "\n",
       "                           field  desc_id    annotator eadid  \\\n",
       "26980  Biographical / Historical        0  Annotator 0   AA5   \n",
       "26984  Biographical / Historical        0  Annotator 4   AA5   \n",
       "26983  Biographical / Historical        0  Annotator 3   AA5   \n",
       "26982  Biographical / Historical        0  Annotator 2   AA5   \n",
       "26981  Biographical / Historical        0  Annotator 1   AA5   \n",
       "\n",
       "                                           label  \n",
       "26980  {Masculine, Occupation, Gendered-Pronoun}  \n",
       "26984                   {Stereotype, Occupation}  \n",
       "26983                               {Occupation}  \n",
       "26982              {Masculine, Gendered-Pronoun}  \n",
       "26981              {Masculine, Gendered-Pronoun}  "
      ]
     },
     "execution_count": 7,
     "metadata": {},
     "output_type": "execute_result"
    }
   ],
   "source": [
    "agg_cols = [\"description\", \"field\", \"desc_id\"]\n",
    "anns_cols = [\"description\", \"field\", \"desc_id\", \"annotator\", \"eadid\"]\n",
    "\n",
    "df_grouped = clf_data.groupby(anns_cols).agg(\n",
    "    {\"label\": lambda label_name: set(label_name)}  #\",\".join(label_name)}\n",
    "    ).reset_index()\n",
    "df_grouped.sort_values(by=\"desc_id\", inplace=True)\n",
    "df_grouped.head()"
   ]
  },
  {
   "cell_type": "markdown",
   "id": "65b11d4e",
   "metadata": {},
   "source": [
    "Make sure the sequences of labels in each row appear correctly:"
   ]
  },
  {
   "cell_type": "code",
   "execution_count": 8,
   "id": "f4bf44dc",
   "metadata": {},
   "outputs": [
    {
     "name": "stdout",
     "output_type": "stream",
     "text": [
      "['Stereotype' 'Masculine' 'Unknown' 'Occupation' 'Gendered-Pronoun'\n",
      " 'Omission' 'Feminine' 'Generalization' 'Gendered-Role' 'Empowering']\n"
     ]
    }
   ],
   "source": [
    "valid_label_names = clf_data.label.unique()\n",
    "print(valid_label_names)"
   ]
  },
  {
   "cell_type": "code",
   "execution_count": 9,
   "id": "c81bb229",
   "metadata": {},
   "outputs": [],
   "source": [
    "label_col = list(df_grouped.label)\n",
    "invalid = []\n",
    "for label_set in label_col:\n",
    "    label_list = list(label_set)\n",
    "    for label_name in label_list:\n",
    "        if not label_name in valid_label_names:\n",
    "            invalid += [label_name]\n",
    "assert len(invalid) == 0, \"Label names must be valid\""
   ]
  },
  {
   "cell_type": "markdown",
   "id": "06f4a4f6",
   "metadata": {},
   "source": [
    "Looks good!\n",
    "\n",
    "For the aggregated data, add a column for the EADIDs (collection, or fonds, identifier) of the descriptions:"
   ]
  },
  {
   "cell_type": "code",
   "execution_count": 12,
   "id": "441338fd",
   "metadata": {
    "collapsed": true,
    "jupyter": {
     "outputs_hidden": true,
     "source_hidden": true
    }
   },
   "outputs": [
    {
     "data": {
      "text/html": [
       "<div>\n",
       "<style scoped>\n",
       "    .dataframe tbody tr th:only-of-type {\n",
       "        vertical-align: middle;\n",
       "    }\n",
       "\n",
       "    .dataframe tbody tr th {\n",
       "        vertical-align: top;\n",
       "    }\n",
       "\n",
       "    .dataframe thead th {\n",
       "        text-align: right;\n",
       "    }\n",
       "</style>\n",
       "<table border=\"1\" class=\"dataframe\">\n",
       "  <thead>\n",
       "    <tr style=\"text-align: right;\">\n",
       "      <th></th>\n",
       "      <th>eadid</th>\n",
       "      <th>desc_id</th>\n",
       "    </tr>\n",
       "  </thead>\n",
       "  <tbody>\n",
       "    <tr>\n",
       "      <th>0</th>\n",
       "      <td>AA5</td>\n",
       "      <td>0</td>\n",
       "    </tr>\n",
       "    <tr>\n",
       "      <th>1</th>\n",
       "      <td>AA5</td>\n",
       "      <td>1</td>\n",
       "    </tr>\n",
       "    <tr>\n",
       "      <th>2</th>\n",
       "      <td>AA6</td>\n",
       "      <td>2</td>\n",
       "    </tr>\n",
       "    <tr>\n",
       "      <th>3</th>\n",
       "      <td>AA6</td>\n",
       "      <td>3</td>\n",
       "    </tr>\n",
       "    <tr>\n",
       "      <th>4</th>\n",
       "      <td>AA7</td>\n",
       "      <td>4</td>\n",
       "    </tr>\n",
       "  </tbody>\n",
       "</table>\n",
       "</div>"
      ],
      "text/plain": [
       "  eadid  desc_id\n",
       "0   AA5        0\n",
       "1   AA5        1\n",
       "2   AA6        2\n",
       "3   AA6        3\n",
       "4   AA7        4"
      ]
     },
     "execution_count": 12,
     "metadata": {},
     "output_type": "execute_result"
    }
   ],
   "source": [
    "descs = pd.read_csv(\"../annot-post/data/all_descriptions.csv\", index_col=0)\n",
    "eadids = descs.drop(columns=[\"description\",\"field\"])\n",
    "eadids.head()"
   ]
  },
  {
   "cell_type": "code",
   "execution_count": 13,
   "id": "54997f77",
   "metadata": {
    "collapsed": true,
    "jupyter": {
     "outputs_hidden": true,
     "source_hidden": true
    }
   },
   "outputs": [
    {
     "data": {
      "text/html": [
       "<div>\n",
       "<style scoped>\n",
       "    .dataframe tbody tr th:only-of-type {\n",
       "        vertical-align: middle;\n",
       "    }\n",
       "\n",
       "    .dataframe tbody tr th {\n",
       "        vertical-align: top;\n",
       "    }\n",
       "\n",
       "    .dataframe thead th {\n",
       "        text-align: right;\n",
       "    }\n",
       "</style>\n",
       "<table border=\"1\" class=\"dataframe\">\n",
       "  <thead>\n",
       "    <tr style=\"text-align: right;\">\n",
       "      <th></th>\n",
       "      <th>description</th>\n",
       "      <th>field</th>\n",
       "      <th>desc_id</th>\n",
       "      <th>label</th>\n",
       "      <th>eadid</th>\n",
       "    </tr>\n",
       "  </thead>\n",
       "  <tbody>\n",
       "    <tr>\n",
       "      <th>8054</th>\n",
       "      <td>Professor James Aitken White was a leading Sco...</td>\n",
       "      <td>Biographical / Historical</td>\n",
       "      <td>0</td>\n",
       "      <td>{Occupation, Stereotype, Masculine, Gendered-P...</td>\n",
       "      <td>AA5</td>\n",
       "    </tr>\n",
       "    <tr>\n",
       "      <th>5560</th>\n",
       "      <td>Papers of The Very Rev Prof James Whyte (1920-...</td>\n",
       "      <td>Title</td>\n",
       "      <td>1</td>\n",
       "      <td>{Stereotype, Masculine, Unknown}</td>\n",
       "      <td>AA5</td>\n",
       "    </tr>\n",
       "    <tr>\n",
       "      <th>8321</th>\n",
       "      <td>Rev Thomas Allan was born on 16 August 1916 in...</td>\n",
       "      <td>Biographical / Historical</td>\n",
       "      <td>2</td>\n",
       "      <td>{Gendered-Pronoun, Stereotype, Unknown, Mascul...</td>\n",
       "      <td>AA6</td>\n",
       "    </tr>\n",
       "    <tr>\n",
       "      <th>5550</th>\n",
       "      <td>Papers of Rev Tom Allan (1916-1965)\\n\\n</td>\n",
       "      <td>Title</td>\n",
       "      <td>3</td>\n",
       "      <td>{Masculine, Unknown}</td>\n",
       "      <td>AA6</td>\n",
       "    </tr>\n",
       "    <tr>\n",
       "      <th>633</th>\n",
       "      <td>Alec Cheyne was born on 1 June 1924 in Errol i...</td>\n",
       "      <td>Biographical / Historical</td>\n",
       "      <td>4</td>\n",
       "      <td>{Gendered-Pronoun, Stereotype, Unknown, Mascul...</td>\n",
       "      <td>AA7</td>\n",
       "    </tr>\n",
       "  </tbody>\n",
       "</table>\n",
       "</div>"
      ],
      "text/plain": [
       "                                            description  \\\n",
       "8054  Professor James Aitken White was a leading Sco...   \n",
       "5560  Papers of The Very Rev Prof James Whyte (1920-...   \n",
       "8321  Rev Thomas Allan was born on 16 August 1916 in...   \n",
       "5550            Papers of Rev Tom Allan (1916-1965)\\n\\n   \n",
       "633   Alec Cheyne was born on 1 June 1924 in Errol i...   \n",
       "\n",
       "                          field  desc_id  \\\n",
       "8054  Biographical / Historical        0   \n",
       "5560                      Title        1   \n",
       "8321  Biographical / Historical        2   \n",
       "5550                      Title        3   \n",
       "633   Biographical / Historical        4   \n",
       "\n",
       "                                                  label eadid  \n",
       "8054  {Occupation, Stereotype, Masculine, Gendered-P...   AA5  \n",
       "5560                   {Stereotype, Masculine, Unknown}   AA5  \n",
       "8321  {Gendered-Pronoun, Stereotype, Unknown, Mascul...   AA6  \n",
       "5550                               {Masculine, Unknown}   AA6  \n",
       "633   {Gendered-Pronoun, Stereotype, Unknown, Mascul...   AA7  "
      ]
     },
     "execution_count": 13,
     "metadata": {},
     "output_type": "execute_result"
    }
   ],
   "source": [
    "key = \"desc_id\"\n",
    "df_joined = df_grouped.join(eadids.set_index(key), on=key)\n",
    "df_joined.head()"
   ]
  },
  {
   "cell_type": "markdown",
   "id": "daa02b03",
   "metadata": {},
   "source": [
    "Write (or read) the resulting DataFrame as a file:"
   ]
  },
  {
   "cell_type": "code",
   "execution_count": 12,
   "id": "0485aea5",
   "metadata": {},
   "outputs": [],
   "source": [
    "# df_joined.to_csv(\"clf_data/desc_field_descid_label_eadid.csv\")\n",
    "df_grouped.to_csv(\"clf_data/perspectivist/desc_field_descid_annot_eadid_label.csv\")"
   ]
  },
  {
   "cell_type": "code",
   "execution_count": 16,
   "id": "54eccd2d",
   "metadata": {},
   "outputs": [],
   "source": [
    "# df_joined = pd.read_csv(\"clf_data/desc_field_descid_label_eadid.csv\", index_col=0)\n",
    "# df_joined[\"label\"] = df_joined[\"label\"].apply(eval)"
   ]
  },
  {
   "cell_type": "markdown",
   "id": "cdbe7c73",
   "metadata": {},
   "source": [
    "Create subsets of the DataFrame for each field type and, for the perspectivist data, for each annotator:"
   ]
  },
  {
   "cell_type": "code",
   "execution_count": 13,
   "id": "91548039",
   "metadata": {},
   "outputs": [],
   "source": [
    "annotators = df_grouped.annotator.unique()\n",
    "annotators.sort()  # ['Annotator 0' 'Annotator 1' 'Annotator 2' 'Annotator 3' 'Annotator 4']\n",
    "df0 = df_grouped[df_grouped.annotator == annotators[0]]\n",
    "df1 = df_grouped[df_grouped.annotator == annotators[1]]\n",
    "df2 = df_grouped[df_grouped.annotator == annotators[2]]\n",
    "df3 = df_grouped[df_grouped.annotator == annotators[3]]\n",
    "df4 = df_grouped[df_grouped.annotator == annotators[4]]\n",
    "# df3.tail()"
   ]
  },
  {
   "cell_type": "code",
   "execution_count": 14,
   "id": "c7b05472",
   "metadata": {},
   "outputs": [],
   "source": [
    "# For Perspectivist Data\n",
    "df_list = [df0, df1, df2, df3, df4]\n",
    "for dfa in df_list:\n",
    "    label_col = list(dfa.label)\n",
    "    invalid = []\n",
    "    for label_set in label_col:\n",
    "        label_list = list(label_set)\n",
    "        for label_name in label_list:\n",
    "            if not label_name in valid_label_names:\n",
    "                invalid += [label_name]\n",
    "    assert len(invalid) == 0, \"Label names must be valid\""
   ]
  },
  {
   "cell_type": "code",
   "execution_count": 19,
   "id": "449f5e18",
   "metadata": {},
   "outputs": [],
   "source": [
    "# For Aggregated Data\n",
    "# train, validate, test = utils.getShuffledSplitData(df_joined)\n",
    "\n",
    "\n",
    "\n",
    "# For Perspectivist Data\n",
    "\n",
    "# ************************************************************************************************\n",
    "# INPUT:  DataFrame, fraction of DF to shuffle, and random_state of shuffle\n",
    "#         Note 1 - fraction defaults to 1 to shuffle the entire DataFrame; \n",
    "#                 provide a value <1 to return that fraction of the DataFrame shuffled\n",
    "#         Note 2 -random_state_value defaults to 7 for reproducibility\n",
    "# OUTPUT: DataFrame with its rows shuffled\n",
    "def shuffleDataFrame(df, fraction=1, random_state_value=7):\n",
    "    return df.sample(frac=fraction, random_state=random_state_value)\n",
    "\n",
    "\n",
    "# INPUT:  A shuffled DataFrame for a particular metadata field\n",
    "# OUTPUT: The number of rows from the DataFrame to assign to train, validate (dev), \n",
    "#         and (blind) test sets of data f\n",
    "def getTrainValTestSizes(df):\n",
    "    indeces = list(df.index)\n",
    "    \n",
    "    train = indeces[ : int(df.shape[0]*0.6) ]\n",
    "    validate = indeces[ int(df.shape[0]*0.6) : (int(df.shape[0]*0.6) + round(df.shape[0]*0.2)) ]\n",
    "    test = indeces[ (int(df.shape[0]*0.6) + round(df.shape[0]*0.2)) : ]\n",
    "\n",
    "    return len(train), len(validate), len(test)\n",
    "\n",
    "\n",
    "# Add a column to the input DataFrame that assigns each row to train, dev, and test\n",
    "# using the three input sizes\n",
    "def assignSubsets(df, train_size, validate_size, test_size):\n",
    "    subset_col = [\"train\"]*train_size + [\"dev\"]*validate_size + [\"test\"]*test_size\n",
    "    df.insert(len(df.columns)-1, \"subset\", subset_col)\n",
    "    return df\n",
    "\n",
    "\n",
    "# Concatenate the rows assigned to each subset to create one DataFrame each for \n",
    "# training, validation, and testing: \n",
    "def concatBySubset(df_list, subset):\n",
    "    df_all = pd.DataFrame()\n",
    "    for df in df_list:\n",
    "        df_subset = df.loc[df[\"subset\"] == subset]\n",
    "        df_all = pd.concat([df_all, df_subset], axis=0)\n",
    "    return df_all\n",
    "\n",
    "metadata_fields = ['Biographical / Historical', 'Title', 'Scope and Contents', 'Processing Information']\n",
    "def getShuffledSplitData(df, field_names=metadata_fields):\n",
    "    df_bh = df.loc[df.field == field_names[0]]\n",
    "    df_t = df.loc[df.field == field_names[1]]\n",
    "    df_sc = df.loc[df.field == field_names[2]]\n",
    "    df_pi = df.loc[df.field == field_names[3]]\n",
    "    \n",
    "    # Shuffle the DataFrames for each metadata field type\n",
    "    df_bh_shuffled = utils.shuffleDataFrame(df_bh)\n",
    "    df_t_shuffled = utils.shuffleDataFrame(df_t)\n",
    "    df_sc_shuffled = utils.shuffleDataFrame(df_sc)\n",
    "    df_pi_shuffled = utils.shuffleDataFrame(df_pi)\n",
    "    \n",
    "    # Get the indeces of rows to assign to train, dev, and test\n",
    "    train_bh, validate_bh, test_bh = utils.getTrainValTestSizes(df_bh_shuffled)\n",
    "    assert train_bh+validate_bh+test_bh == df_bh_shuffled.shape[0]\n",
    "    train_t, validate_t, test_t = utils.getTrainValTestSizes(df_t_shuffled)\n",
    "    assert train_t+validate_t+test_t == df_t_shuffled.shape[0]\n",
    "    train_sc, validate_sc, test_sc = utils.getTrainValTestSizes(df_sc_shuffled)\n",
    "    assert train_sc+validate_sc+test_sc == df_sc_shuffled.shape[0]\n",
    "    train_pi, validate_pi, test_pi = utils.getTrainValTestSizes(df_pi_shuffled)\n",
    "    assert train_pi+validate_pi+test_pi == df_pi_shuffled.shape[0]\n",
    "    \n",
    "    df_bh = utils.assignSubsets(df_bh_shuffled, train_bh, validate_bh, test_bh)\n",
    "    df_t = utils.assignSubsets(df_t_shuffled, train_t, validate_t, test_t)\n",
    "    df_sc = utils.assignSubsets(df_sc_shuffled, train_sc, validate_sc, test_sc)\n",
    "    df_pi = utils.assignSubsets(df_pi_shuffled, train_pi, validate_pi, test_pi)\n",
    "    dfs = [df_bh, df_t, df_sc, df_pi]\n",
    "    \n",
    "    # Concatenate the rows assigned to each subset to create one DataFrame each for training, validation, and testing: \n",
    "    train = utils.concatBySubset(dfs, \"train\")\n",
    "    assert train.subset.unique()[0] == \"train\"\n",
    "\n",
    "    validate = utils.concatBySubset(dfs, \"dev\")\n",
    "    assert validate.subset.unique()[0] == \"dev\"\n",
    "\n",
    "    test = utils.concatBySubset(dfs, \"test\")\n",
    "    assert test.subset.unique()[0] == \"test\"\n",
    "\n",
    "    return train, validate, test\n",
    "# ************************************************************************************************\n",
    "\n",
    "train0, validate0, test0 = getShuffledSplitData(df0)\n",
    "train1, validate1, test1 = getShuffledSplitData(df1)\n",
    "train2, validate2, test2 = getShuffledSplitData(df2)\n",
    "train3, validate3, test3 = getShuffledSplitData(df3)\n",
    "train4, validate4, test4 = getShuffledSplitData(df4)"
   ]
  },
  {
   "cell_type": "code",
   "execution_count": 20,
   "id": "135d51c9",
   "metadata": {},
   "outputs": [
    {
     "name": "stdout",
     "output_type": "stream",
     "text": [
      "6023\n",
      "2009\n",
      "2010\n"
     ]
    }
   ],
   "source": [
    "splits = [train1, validate1, test1] # [train, validate, test]\n",
    "for split in splits:\n",
    "    print(split.shape[0])"
   ]
  },
  {
   "cell_type": "code",
   "execution_count": 27,
   "id": "e0312af2",
   "metadata": {},
   "outputs": [],
   "source": [
    "perspectivist_data = [[train0, validate0, test0], [train1, validate1, test1], [train2, validate2, test2], \n",
    "                      [train3, validate3, test3], [train4, validate4, test4]]"
   ]
  },
  {
   "cell_type": "code",
   "execution_count": 28,
   "id": "3c62b155",
   "metadata": {},
   "outputs": [],
   "source": [
    "# Check that the label names are valid\n",
    "invalid = []\n",
    "for annotator_splits in perspectivist_data:\n",
    "    for df_split in annotator_splits:\n",
    "        label_col = list(df_split.label)\n",
    "        for label_set in label_col:\n",
    "            label_list = list(label_set)\n",
    "            for label_name in label_list:\n",
    "                if not label_name in valid_label_names:\n",
    "                    invalid += [label_name]\n",
    "        assert len(invalid) == 0"
   ]
  },
  {
   "cell_type": "code",
   "execution_count": 29,
   "id": "7d3b9193",
   "metadata": {},
   "outputs": [
    {
     "name": "stdout",
     "output_type": "stream",
     "text": [
      "0.5997371495327103\n",
      "0.1999123831775701\n",
      "0.2003504672897196\n"
     ]
    }
   ],
   "source": [
    "train, validate, test = train2, validate2, test2\n",
    "print(train.shape[0]/(train.shape[0]+validate.shape[0]+test.shape[0]))\n",
    "print(validate.shape[0]/(train.shape[0]+validate.shape[0]+test.shape[0]))\n",
    "print(test.shape[0]/(train.shape[0]+validate.shape[0]+test.shape[0]))"
   ]
  },
  {
   "cell_type": "markdown",
   "id": "697b372f",
   "metadata": {},
   "source": [
    "Great!  We've shuffle the DataFrames and then added a column to each that assigns every row to a subset.  For each DataFrame: \n",
    "* 60% of the rows are for `training`\n",
    "* 20% of the rows are for `validation`\n",
    "* 20% of the rows are for `test`\n",
    "\n",
    "Lastly, we can write the corresponding labels and descriptions to files for creating classification models."
   ]
  },
  {
   "cell_type": "markdown",
   "id": "0c578118",
   "metadata": {},
   "source": [
    "#### Write the data to files\n",
    "The files will separate labels by `\\n` (a newline) and descriptions by `\\n|\\n` (a pipe character surrounded by newlines)"
   ]
  },
  {
   "cell_type": "markdown",
   "id": "e03188ae",
   "metadata": {},
   "source": [
    "**Aggregated Data**"
   ]
  },
  {
   "cell_type": "code",
   "execution_count": null,
   "id": "19403ec1",
   "metadata": {},
   "outputs": [],
   "source": [
    "# dir_name = data_dir"
   ]
  },
  {
   "cell_type": "code",
   "execution_count": 27,
   "id": "24800e8c",
   "metadata": {},
   "outputs": [
    {
     "name": "stdout",
     "output_type": "stream",
     "text": [
      "Your documents file has been written!\n",
      "Your labels file has been written!\n"
     ]
    }
   ],
   "source": [
    "# utils.writeDocs(list(train.description), \"train_docs.txt\", dir_name)\n",
    "# utils.writeLabels(list(train.label), \"train_labels.txt\", dir_name)"
   ]
  },
  {
   "cell_type": "code",
   "execution_count": 28,
   "id": "97c108ba",
   "metadata": {},
   "outputs": [
    {
     "name": "stdout",
     "output_type": "stream",
     "text": [
      "Your documents file has been written!\n",
      "Your labels file has been written!\n"
     ]
    }
   ],
   "source": [
    "# utils.writeDocs(list(validate.description), \"validate_docs.txt\", dir_name)\n",
    "# utils.writeLabels(list(validate.label), \"validate_labels.txt\", dir_name)"
   ]
  },
  {
   "cell_type": "code",
   "execution_count": 29,
   "id": "6de3c1cf",
   "metadata": {},
   "outputs": [
    {
     "name": "stdout",
     "output_type": "stream",
     "text": [
      "Your documents file has been written!\n",
      "Your labels file has been written!\n"
     ]
    }
   ],
   "source": [
    "# utils.writeDocs(list(test.description), \"blindtest_docs.txt\", dir_name)\n",
    "# utils.writeLabels(list(test.label), \"blindtest_labels.txt\", dir_name)"
   ]
  },
  {
   "cell_type": "markdown",
   "id": "48989473",
   "metadata": {},
   "source": [
    "***\n",
    "\n",
    "**Perspectivist Data**"
   ]
  },
  {
   "cell_type": "code",
   "execution_count": 30,
   "id": "55245d0c",
   "metadata": {},
   "outputs": [
    {
     "name": "stdout",
     "output_type": "stream",
     "text": [
      "./clf_data/perspectivist/\n"
     ]
    }
   ],
   "source": [
    "dir_name = data_dir2\n",
    "print(dir_name)"
   ]
  },
  {
   "cell_type": "code",
   "execution_count": 31,
   "id": "19179f64",
   "metadata": {},
   "outputs": [
    {
     "name": "stdout",
     "output_type": "stream",
     "text": [
      "Your documents file has been written!\n",
      "Your labels file has been written!\n",
      "Your documents file has been written!\n",
      "Your labels file has been written!\n",
      "Your documents file has been written!\n",
      "Your labels file has been written!\n",
      "Your documents file has been written!\n",
      "Your labels file has been written!\n",
      "Your documents file has been written!\n",
      "Your labels file has been written!\n",
      "Your documents file has been written!\n",
      "Your labels file has been written!\n",
      "Your documents file has been written!\n",
      "Your labels file has been written!\n",
      "Your documents file has been written!\n",
      "Your labels file has been written!\n",
      "Your documents file has been written!\n",
      "Your labels file has been written!\n",
      "Your documents file has been written!\n",
      "Your labels file has been written!\n",
      "Your documents file has been written!\n",
      "Your labels file has been written!\n",
      "Your documents file has been written!\n",
      "Your labels file has been written!\n",
      "Your documents file has been written!\n",
      "Your labels file has been written!\n",
      "Your documents file has been written!\n",
      "Your labels file has been written!\n",
      "Your documents file has been written!\n",
      "Your labels file has been written!\n"
     ]
    }
   ],
   "source": [
    "for i in range(len(perspectivist_data)):\n",
    "    train = perspectivist_data[i][0]\n",
    "    validate = perspectivist_data[i][1]\n",
    "    test = perspectivist_data[i][2]\n",
    "    utils.writeDocs(list(train.description), \"train{}_docs.txt\".format(i), dir_name)\n",
    "    utils.writeLabels(list(train.label), \"train{}_labels.txt\".format(i), dir_name)\n",
    "    utils.writeDocs(list(validate.description), \"validate{}_docs.txt\".format(i), dir_name)\n",
    "    utils.writeLabels(list(validate.label), \"validate{}_labels.txt\".format(i), dir_name)\n",
    "    utils.writeDocs(list(test.description), \"blindtest{}_docs.txt\".format(i), dir_name)\n",
    "    utils.writeLabels(list(test.label), \"blindtest{}_labels.txt\".format(i), dir_name)"
   ]
  }
 ],
 "metadata": {
  "kernelspec": {
   "display_name": "Python 3",
   "language": "python",
   "name": "python3"
  },
  "language_info": {
   "codemirror_mode": {
    "name": "ipython",
    "version": 3
   },
   "file_extension": ".py",
   "mimetype": "text/x-python",
   "name": "python",
   "nbconvert_exporter": "python",
   "pygments_lexer": "ipython3",
   "version": "3.9.7"
  }
 },
 "nbformat": 4,
 "nbformat_minor": 5
}

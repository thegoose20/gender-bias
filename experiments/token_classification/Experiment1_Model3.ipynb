{
 "cells": [
  {
   "cell_type": "markdown",
   "metadata": {},
   "source": [
    "# Experiment 1, Model 3\n",
    "\n",
    "#### Model Setup\n",
    "\n",
    "Run models in the following order, using their output labels as features for the next model:\n",
    "\n",
    "1. Multilabel Linguistic Classifier\n",
    "2. Multiclass Person Name + Occupation Sequence Classifier\n",
    "3. Multilabel Stereotype + Omission Document Classifier\n",
    "\n",
    "Train the first model and then run it over the entire dataset.\n",
    "\n",
    "***\n",
    "\n",
    "* Supervised learning\n",
    "    * Train, Validate, and (Blind) Test Data: under directory `../data/token_clf_data/experiment_input/`\n",
    "    * Prediction Data: Data: under directory `../data/token_clf_data/model_output/experiment1/`\n",
    "* Word Embeddings\n",
    "    * Custom fastText (word2vec with subwords) embeddings of 100 dimensions trained on the CRC Archives catalog's descriptive metadata (harvested October 2020)\n",
    "    \n",
    "***\n",
    "\n",
    "**Table of Contents**\n",
    "\n",
    "[I.](#i) Stereotype + Omission Classifier\n",
    "* [Preprocessing](#prep)\n",
    "* [Training & Prediction](#tp)\n",
    "* [Evaluation](#eval)"
   ]
  },
  {
   "cell_type": "markdown",
   "metadata": {},
   "source": [
    "Load programming resources:"
   ]
  },
  {
   "cell_type": "code",
   "execution_count": 1,
   "metadata": {},
   "outputs": [],
   "source": [
    "# For custom functions and variables\n",
    "import utils, utils1, config\n",
    "\n",
    "# For data analysis\n",
    "import pandas as pd\n",
    "import numpy as np\n",
    "import os, re\n",
    "\n",
    "# For creating directories\n",
    "from pathlib import Path\n",
    "\n",
    "# For classification\n",
    "import scipy\n",
    "import sklearn.metrics\n",
    "from sklearn.multiclass import OneVsRestClassifier\n",
    "from sklearn.base import BaseEstimator, TransformerMixin\n",
    "from sklearn.preprocessing import MultiLabelBinarizer, FunctionTransformer\n",
    "from sklearn.compose import ColumnTransformer, make_column_selector\n",
    "from sklearn.feature_extraction.text import CountVectorizer, TfidfVectorizer, TfidfTransformer\n",
    "from sklearn.linear_model import SGDClassifier\n",
    "from sklearn.pipeline import Pipeline\n",
    "from sklearn.metrics import confusion_matrix, multilabel_confusion_matrix\n",
    "from sklearn.metrics import precision_recall_fscore_support\n",
    "\n",
    "# For saving model\n",
    "from joblib import dump, load"
   ]
  },
  {
   "cell_type": "markdown",
   "metadata": {},
   "source": [
    "Define resources for the models:"
   ]
  },
  {
   "cell_type": "code",
   "execution_count": 2,
   "metadata": {},
   "outputs": [],
   "source": [
    "# Path(config.experiment_input_path).mkdir(parents=True, exist_ok=True)    # For train, devtest, and blind test data\n",
    "\n",
    "predictions_dir = config.experiment1_path+\"5fold/output/\"              # For predictions\n",
    "Path(predictions_dir).mkdir(parents=True, exist_ok=True)  \n",
    "agreement_dir = config.experiment1_path+\"5fold/agreement/\"             # For agreement metrics\n",
    "Path(agreement_dir).mkdir(parents=True, exist_ok=True)\n",
    "\n",
    "# predictions_dir = config.experiment1_path+\"5fold/with_manual_labels/output/\"              # For predictions with features as manual labels\n",
    "# Path(predictions_dir).mkdir(parents=True, exist_ok=True)  \n",
    "# agreement_dir = config.experiment1_path+\"5fold/with_manual_labels/agreement/\"             # For agreement metrics with features as manual labels\n",
    "# Path(agreement_dir).mkdir(parents=True, exist_ok=True)"
   ]
  },
  {
   "cell_type": "code",
   "execution_count": 3,
   "metadata": {},
   "outputs": [],
   "source": [
    "# Model 1:\n",
    "ling_label_subset = [\"B-Generalization\", \"I-Generalization\", \"B-Gendered-Role\", \"I-Gendered-Role\", \"B-Gendered-Pronoun\", \"I-Gendered-Pronoun\"]\n",
    "# Model 2:\n",
    "pers_o_label_subset = [\"B-Unknown\", \"I-Unknown\", \"B-Feminine\", \"I-Feminine\", \"B-Masculine\", \"I-Masculine\", \"B-Occupation\", \"I-Occupation\"]\n",
    "# Model 3:\n",
    "so_label_subset = [\"B-Stereotype\", \"I-Stereotype\", \"B-Omission\", \"I-Omission\"]"
   ]
  },
  {
   "cell_type": "code",
   "execution_count": 4,
   "metadata": {},
   "outputs": [],
   "source": [
    "ling_label_tags = {\n",
    "    \"Gendered-Pronoun\": [\"B-Gendered-Pronoun\", \"I-Gendered-Pronoun\"], \"Gendered-Role\": [\"B-Gendered-Role\", \"I-Gendered-Role\"],\"Generalization\": [\"B-Generalization\", \"I-Generalization\"]\n",
    "    }\n",
    "pers_o_label_tags = {\n",
    "    \"Unknown\": [\"B-Unknown\", \"I-Unknown\"], \"Feminine\": [\"B-Feminine\", \"I-Feminine\"], \"Masculine\": [\"B-Masculine\", \"I-Masculine\"],\n",
    "     \"Occupation\": [\"B-Occupation\", \"I-Occupation\"]\n",
    "    }\n",
    "so_label_tags = {\n",
    "    \"Stereotype\": [\"B-Stereotype\", \"I-Stereotype\"], \"Omission\": [\"B-Omission\", \"I-Omission\"]\n",
    "             }"
   ]
  },
  {
   "cell_type": "code",
   "execution_count": 5,
   "metadata": {},
   "outputs": [],
   "source": [
    "d = 100               # dimensions of word embeddings (should match utils1.py) for file names\n",
    "target_labels = \"so\"  # for file names"
   ]
  },
  {
   "cell_type": "markdown",
   "metadata": {},
   "source": [
    "<a id=\"i\"></a>\n",
    "## I. Stereotype + Omission Classifier\n",
    "<a id=\"prep\"></a>\n",
    "### Preprocessing"
   ]
  },
  {
   "cell_type": "markdown",
   "metadata": {},
   "source": [
    "Load the document classification model's input data:"
   ]
  },
  {
   "cell_type": "code",
   "execution_count": null,
   "metadata": {},
   "outputs": [
    {
     "data": {
      "text/html": [
       "<div>\n",
       "<style scoped>\n",
       "    .dataframe tbody tr th:only-of-type {\n",
       "        vertical-align: middle;\n",
       "    }\n",
       "\n",
       "    .dataframe tbody tr th {\n",
       "        vertical-align: top;\n",
       "    }\n",
       "\n",
       "    .dataframe thead th {\n",
       "        text-align: right;\n",
       "    }\n",
       "</style>\n",
       "<table border=\"1\" class=\"dataframe\">\n",
       "  <thead>\n",
       "    <tr style=\"text-align: right;\">\n",
       "      <th></th>\n",
       "      <th>description_id</th>\n",
       "      <th>start_offset</th>\n",
       "      <th>end_offset</th>\n",
       "      <th>field</th>\n",
       "      <th>description</th>\n",
       "      <th>label</th>\n",
       "      <th>fold</th>\n",
       "    </tr>\n",
       "  </thead>\n",
       "  <tbody>\n",
       "    <tr>\n",
       "      <th>0</th>\n",
       "      <td>4699</td>\n",
       "      <td>1853</td>\n",
       "      <td>2066</td>\n",
       "      <td>Biographical / Historical</td>\n",
       "      <td>Labelled Apparently some chapters, amounting t...</td>\n",
       "      <td>[Omission]</td>\n",
       "      <td>split3</td>\n",
       "    </tr>\n",
       "    <tr>\n",
       "      <th>1</th>\n",
       "      <td>8942</td>\n",
       "      <td>384</td>\n",
       "      <td>540</td>\n",
       "      <td>Biographical / Historical</td>\n",
       "      <td>James Aikman of Perth signed his name to a vol...</td>\n",
       "      <td>[]</td>\n",
       "      <td>split2</td>\n",
       "    </tr>\n",
       "    <tr>\n",
       "      <th>2</th>\n",
       "      <td>5440</td>\n",
       "      <td>5692</td>\n",
       "      <td>5850</td>\n",
       "      <td>Biographical / Historical</td>\n",
       "      <td>This piece was published in 'Milk Production i...</td>\n",
       "      <td>[]</td>\n",
       "      <td>split0</td>\n",
       "    </tr>\n",
       "    <tr>\n",
       "      <th>3</th>\n",
       "      <td>3474</td>\n",
       "      <td>3608</td>\n",
       "      <td>8549</td>\n",
       "      <td>Biographical / Historical</td>\n",
       "      <td>Margaret Winifred Bartholomew was born on 21 A...</td>\n",
       "      <td>[Omission, Stereotype]</td>\n",
       "      <td>split0</td>\n",
       "    </tr>\n",
       "    <tr>\n",
       "      <th>4</th>\n",
       "      <td>4769</td>\n",
       "      <td>2378</td>\n",
       "      <td>2576</td>\n",
       "      <td>Biographical / Historical</td>\n",
       "      <td>Blacker and Thomson became close friends throu...</td>\n",
       "      <td>[Omission]</td>\n",
       "      <td>split3</td>\n",
       "    </tr>\n",
       "  </tbody>\n",
       "</table>\n",
       "</div>"
      ],
      "text/plain": [
       "   description_id  start_offset  end_offset                      field  \\\n",
       "0            4699          1853        2066  Biographical / Historical   \n",
       "1            8942           384         540  Biographical / Historical   \n",
       "2            5440          5692        5850  Biographical / Historical   \n",
       "3            3474          3608        8549  Biographical / Historical   \n",
       "4            4769          2378        2576  Biographical / Historical   \n",
       "\n",
       "                                         description                   label  \\\n",
       "0  Labelled Apparently some chapters, amounting t...              [Omission]   \n",
       "1  James Aikman of Perth signed his name to a vol...                      []   \n",
       "2  This piece was published in 'Milk Production i...                      []   \n",
       "3  Margaret Winifred Bartholomew was born on 21 A...  [Omission, Stereotype]   \n",
       "4  Blacker and Thomson became close friends throu...              [Omission]   \n",
       "\n",
       "     fold  \n",
       "0  split3  \n",
       "1  split2  \n",
       "2  split0  \n",
       "3  split0  \n",
       "4  split3  "
      ]
     },
     "execution_count": 6,
     "metadata": {},
     "output_type": "execute_result"
    }
   ],
   "source": [
    "df = pd.read_csv(config.tokc_path+\"experiment_input/document_5fold.csv\", index_col=0)\n",
    "df_exp = utils.getColumnValuesAsLists(df, \"label\")\n",
    "df_exp = df_exp.drop(columns=[\"subset\"])\n",
    "df_exp.head()"
   ]
  },
  {
   "cell_type": "markdown",
   "metadata": {},
   "source": [
    "Load the Linguistic, Person Name, and Occupation features and associate description IDs to the data, creating one row per description ID:"
   ]
  },
  {
   "cell_type": "code",
   "execution_count": null,
   "metadata": {},
   "outputs": [
    {
     "data": {
      "text/html": [
       "<div>\n",
       "<style scoped>\n",
       "    .dataframe tbody tr th:only-of-type {\n",
       "        vertical-align: middle;\n",
       "    }\n",
       "\n",
       "    .dataframe tbody tr th {\n",
       "        vertical-align: top;\n",
       "    }\n",
       "\n",
       "    .dataframe thead th {\n",
       "        text-align: right;\n",
       "    }\n",
       "</style>\n",
       "<table border=\"1\" class=\"dataframe\">\n",
       "  <thead>\n",
       "    <tr style=\"text-align: right;\">\n",
       "      <th></th>\n",
       "      <th>description_id</th>\n",
       "      <th>sentence_id</th>\n",
       "      <th>ling_pred</th>\n",
       "      <th>token_id</th>\n",
       "      <th>pers_o_pred</th>\n",
       "    </tr>\n",
       "  </thead>\n",
       "  <tbody>\n",
       "    <tr>\n",
       "      <th>0</th>\n",
       "      <td>3</td>\n",
       "      <td>8</td>\n",
       "      <td>O</td>\n",
       "      <td>233</td>\n",
       "      <td>Masculine</td>\n",
       "    </tr>\n",
       "    <tr>\n",
       "      <th>1</th>\n",
       "      <td>3</td>\n",
       "      <td>8</td>\n",
       "      <td>O</td>\n",
       "      <td>234</td>\n",
       "      <td>Unknown</td>\n",
       "    </tr>\n",
       "    <tr>\n",
       "      <th>2</th>\n",
       "      <td>3</td>\n",
       "      <td>8</td>\n",
       "      <td>O</td>\n",
       "      <td>235</td>\n",
       "      <td>O</td>\n",
       "    </tr>\n",
       "    <tr>\n",
       "      <th>3</th>\n",
       "      <td>3</td>\n",
       "      <td>8</td>\n",
       "      <td>O</td>\n",
       "      <td>236</td>\n",
       "      <td>O</td>\n",
       "    </tr>\n",
       "    <tr>\n",
       "      <th>4</th>\n",
       "      <td>3</td>\n",
       "      <td>8</td>\n",
       "      <td>O</td>\n",
       "      <td>237</td>\n",
       "      <td>O</td>\n",
       "    </tr>\n",
       "  </tbody>\n",
       "</table>\n",
       "</div>"
      ],
      "text/plain": [
       "   description_id  sentence_id ling_pred  token_id pers_o_pred\n",
       "0               3            8         O       233   Masculine\n",
       "1               3            8         O       234     Unknown\n",
       "2               3            8         O       235           O\n",
       "3               3            8         O       236           O\n",
       "4               3            8         O       237           O"
      ]
     },
     "execution_count": 7,
     "metadata": {},
     "output_type": "execute_result"
    }
   ],
   "source": [
    "# Predictions as features\n",
    "features_filename = \"crf_{a}_{t}_baseline_fastText{d}_predictions.csv\".format(a=\"arow\", t=\"pers_o\", d=d)\n",
    "df_features = pd.read_csv(predictions_dir+features_filename, usecols=[\"description_id\", \"sentence_id\", \"token_id\", \"pred_ling_label\", \"tag_pers_o_predicted\"])\n",
    "# df_features = utils.getColumnValuesAsLists(df_features, \"pred_ling_tag\")\n",
    "df_features = df_features.rename(columns={\"tag_pers_o_predicted\":\"pers_o_pred\", \"pred_ling_label\":\"ling_pred\"})\n",
    "\n",
    "# Generalize person name and occupation tags to labels\n",
    "for label,tags in pers_o_label_tags.items():\n",
    "    for tag in tags:\n",
    "        df_features[\"pers_o_pred\"] = df_features[\"pers_o_pred\"].replace(to_replace=tag, value=label)\n",
    "df_features.head()"
   ]
  },
  {
   "cell_type": "markdown",
   "metadata": {},
   "source": [
    "Remove duplicates from and create lists of the labels for every row:"
   ]
  },
  {
   "cell_type": "code",
   "execution_count": null,
   "metadata": {},
   "outputs": [
    {
     "name": "stdout",
     "output_type": "stream",
     "text": [
      "[['O'], ['O'], ['O'], ['O'], ['O'], ['O'], ['O'], ['O'], ['O'], ['O']]\n"
     ]
    }
   ],
   "source": [
    "feature_col1 = \"ling_pred\"\n",
    "feature_col2 = \"pers_o_pred\"\n",
    "ling = list(df_features[feature_col1])\n",
    "new_ling = [labels.split(\",\") for labels in ling]\n",
    "print(new_ling[50:60])"
   ]
  },
  {
   "cell_type": "code",
   "execution_count": null,
   "metadata": {},
   "outputs": [
    {
     "data": {
      "text/html": [
       "<div>\n",
       "<style scoped>\n",
       "    .dataframe tbody tr th:only-of-type {\n",
       "        vertical-align: middle;\n",
       "    }\n",
       "\n",
       "    .dataframe tbody tr th {\n",
       "        vertical-align: top;\n",
       "    }\n",
       "\n",
       "    .dataframe thead th {\n",
       "        text-align: right;\n",
       "    }\n",
       "</style>\n",
       "<table border=\"1\" class=\"dataframe\">\n",
       "  <thead>\n",
       "    <tr style=\"text-align: right;\">\n",
       "      <th></th>\n",
       "      <th>description_id</th>\n",
       "      <th>sentence_id</th>\n",
       "      <th>ling_pred</th>\n",
       "      <th>token_id</th>\n",
       "      <th>pers_o_pred</th>\n",
       "    </tr>\n",
       "  </thead>\n",
       "  <tbody>\n",
       "    <tr>\n",
       "      <th>0</th>\n",
       "      <td>3</td>\n",
       "      <td>8</td>\n",
       "      <td>[O]</td>\n",
       "      <td>233</td>\n",
       "      <td>Masculine</td>\n",
       "    </tr>\n",
       "    <tr>\n",
       "      <th>1</th>\n",
       "      <td>3</td>\n",
       "      <td>8</td>\n",
       "      <td>[O]</td>\n",
       "      <td>234</td>\n",
       "      <td>Unknown</td>\n",
       "    </tr>\n",
       "    <tr>\n",
       "      <th>2</th>\n",
       "      <td>3</td>\n",
       "      <td>8</td>\n",
       "      <td>[O]</td>\n",
       "      <td>235</td>\n",
       "      <td>O</td>\n",
       "    </tr>\n",
       "    <tr>\n",
       "      <th>3</th>\n",
       "      <td>3</td>\n",
       "      <td>8</td>\n",
       "      <td>[O]</td>\n",
       "      <td>236</td>\n",
       "      <td>O</td>\n",
       "    </tr>\n",
       "    <tr>\n",
       "      <th>4</th>\n",
       "      <td>3</td>\n",
       "      <td>8</td>\n",
       "      <td>[O]</td>\n",
       "      <td>237</td>\n",
       "      <td>O</td>\n",
       "    </tr>\n",
       "  </tbody>\n",
       "</table>\n",
       "</div>"
      ],
      "text/plain": [
       "   description_id  sentence_id ling_pred  token_id pers_o_pred\n",
       "0               3            8       [O]       233   Masculine\n",
       "1               3            8       [O]       234     Unknown\n",
       "2               3            8       [O]       235           O\n",
       "3               3            8       [O]       236           O\n",
       "4               3            8       [O]       237           O"
      ]
     },
     "execution_count": 9,
     "metadata": {},
     "output_type": "execute_result"
    }
   ],
   "source": [
    "df_features[feature_col1] = new_ling\n",
    "df_features.head()  # Looks good"
   ]
  },
  {
   "cell_type": "code",
   "execution_count": 10,
   "metadata": {},
   "outputs": [
    {
     "data": {
      "text/plain": [
       "[O]    753521\n",
       "Name: ling_pred, dtype: int64"
      ]
     },
     "execution_count": 10,
     "metadata": {},
     "output_type": "execute_result"
    }
   ],
   "source": [
    "df_features[feature_col1].value_counts()  # Looks good!"
   ]
  },
  {
   "cell_type": "code",
   "execution_count": 11,
   "metadata": {},
   "outputs": [],
   "source": [
    "df_desc = pd.read_csv(config.agg_path+\"descs_sents_tokens_anns.csv\", usecols=[\"description_id\", \"sentence_id\", \"token_id\"])\n",
    "df_desc = df_desc.set_index(\"description_id\")\n",
    "df_desc = utils1.getColumnValuesAsLists(df_desc, \"sentence_id\")\n",
    "df_desc = utils1.getColumnValuesAsLists(df_desc, \"token_id\")\n",
    "df_desc_exploded = df_desc.explode([\"sentence_id\", \"token_id\"])\n",
    "df_desc_exploded = df_desc_exploded.reset_index()\n",
    "df_desc_exploded = df_desc_exploded.astype(\"int64\")\n",
    "# df_desc_exploded.head()"
   ]
  },
  {
   "cell_type": "code",
   "execution_count": 12,
   "metadata": {},
   "outputs": [
    {
     "data": {
      "text/html": [
       "<div>\n",
       "<style scoped>\n",
       "    .dataframe tbody tr th:only-of-type {\n",
       "        vertical-align: middle;\n",
       "    }\n",
       "\n",
       "    .dataframe tbody tr th {\n",
       "        vertical-align: top;\n",
       "    }\n",
       "\n",
       "    .dataframe thead th {\n",
       "        text-align: right;\n",
       "    }\n",
       "</style>\n",
       "<table border=\"1\" class=\"dataframe\">\n",
       "  <thead>\n",
       "    <tr style=\"text-align: right;\">\n",
       "      <th></th>\n",
       "      <th>description_id</th>\n",
       "      <th>sentence_id</th>\n",
       "      <th>ling_pred</th>\n",
       "      <th>token_id</th>\n",
       "      <th>pers_o_pred</th>\n",
       "    </tr>\n",
       "  </thead>\n",
       "  <tbody>\n",
       "    <tr>\n",
       "      <th>0</th>\n",
       "      <td>0</td>\n",
       "      <td>[0, 0, 0]</td>\n",
       "      <td>[[O], [O], [O]]</td>\n",
       "      <td>[0, 1, 2]</td>\n",
       "      <td>[O, O, O]</td>\n",
       "    </tr>\n",
       "    <tr>\n",
       "      <th>1</th>\n",
       "      <td>1</td>\n",
       "      <td>[1, 1, 1, 1, 1, 1, 1, 1, 1, 1, 1, 1, 1]</td>\n",
       "      <td>[[O], [O], [O], [O], [O], [O], [O], [O], [O], ...</td>\n",
       "      <td>[3, 4, 5, 6, 7, 8, 9, 10, 11, 12, 13, 14, 15]</td>\n",
       "      <td>[O, O, O, O, Unknown, Unknown, Unknown, Unknow...</td>\n",
       "    </tr>\n",
       "    <tr>\n",
       "      <th>2</th>\n",
       "      <td>2</td>\n",
       "      <td>[2, 2, 2, 2, 2, 2, 2, 2, 2, 2, 2, 2, 2, 2, 2, ...</td>\n",
       "      <td>[[O], [O], [O], [O], [O], [O], [O], [O], [O], ...</td>\n",
       "      <td>[16, 17, 18, 19, 20, 21, 22, 23, 24, 25, 26, 2...</td>\n",
       "      <td>[O, O, O, O, O, O, O, O, O, O, O, O, O, O, O, ...</td>\n",
       "    </tr>\n",
       "    <tr>\n",
       "      <th>3</th>\n",
       "      <td>3</td>\n",
       "      <td>[8, 8, 8, 8, 8, 8, 8, 8, 8, 8, 8, 8, 8, 8, 8, ...</td>\n",
       "      <td>[[O], [O], [O], [O], [O], [O], [O], [O], [O], ...</td>\n",
       "      <td>[233, 234, 235, 236, 237, 238, 239, 240, 241, ...</td>\n",
       "      <td>[Masculine, Unknown, O, O, O, O, O, O, O, O, O...</td>\n",
       "    </tr>\n",
       "    <tr>\n",
       "      <th>4</th>\n",
       "      <td>4</td>\n",
       "      <td>[11, 11, 11]</td>\n",
       "      <td>[[O], [O], [O]]</td>\n",
       "      <td>[308, 309, 310]</td>\n",
       "      <td>[O, O, O]</td>\n",
       "    </tr>\n",
       "  </tbody>\n",
       "</table>\n",
       "</div>"
      ],
      "text/plain": [
       "   description_id                                        sentence_id  \\\n",
       "0               0                                          [0, 0, 0]   \n",
       "1               1            [1, 1, 1, 1, 1, 1, 1, 1, 1, 1, 1, 1, 1]   \n",
       "2               2  [2, 2, 2, 2, 2, 2, 2, 2, 2, 2, 2, 2, 2, 2, 2, ...   \n",
       "3               3  [8, 8, 8, 8, 8, 8, 8, 8, 8, 8, 8, 8, 8, 8, 8, ...   \n",
       "4               4                                       [11, 11, 11]   \n",
       "\n",
       "                                           ling_pred  \\\n",
       "0                                    [[O], [O], [O]]   \n",
       "1  [[O], [O], [O], [O], [O], [O], [O], [O], [O], ...   \n",
       "2  [[O], [O], [O], [O], [O], [O], [O], [O], [O], ...   \n",
       "3  [[O], [O], [O], [O], [O], [O], [O], [O], [O], ...   \n",
       "4                                    [[O], [O], [O]]   \n",
       "\n",
       "                                            token_id  \\\n",
       "0                                          [0, 1, 2]   \n",
       "1      [3, 4, 5, 6, 7, 8, 9, 10, 11, 12, 13, 14, 15]   \n",
       "2  [16, 17, 18, 19, 20, 21, 22, 23, 24, 25, 26, 2...   \n",
       "3  [233, 234, 235, 236, 237, 238, 239, 240, 241, ...   \n",
       "4                                    [308, 309, 310]   \n",
       "\n",
       "                                         pers_o_pred  \n",
       "0                                          [O, O, O]  \n",
       "1  [O, O, O, O, Unknown, Unknown, Unknown, Unknow...  \n",
       "2  [O, O, O, O, O, O, O, O, O, O, O, O, O, O, O, ...  \n",
       "3  [Masculine, Unknown, O, O, O, O, O, O, O, O, O...  \n",
       "4                                          [O, O, O]  "
      ]
     },
     "execution_count": 12,
     "metadata": {},
     "output_type": "execute_result"
    }
   ],
   "source": [
    "joined = df_features.join(df_desc_exploded.set_index([\"description_id\", \"sentence_id\", \"token_id\"]), on=[\"description_id\", \"sentence_id\", \"token_id\"])\n",
    "grouped = utils.implodeDataFrame(joined, [\"description_id\"]).reset_index()\n",
    "grouped.head()"
   ]
  },
  {
   "cell_type": "markdown",
   "metadata": {},
   "source": [
    "Flatten the lists of values in the feature columns and remove duplicates from the lists:"
   ]
  },
  {
   "cell_type": "code",
   "execution_count": null,
   "metadata": {},
   "outputs": [],
   "source": [
    "ling = utils1.flattenFeatureCol(grouped, feature_col1)\n",
    "perso = utils1.flattenFeatureCol(grouped, feature_col2)"
   ]
  },
  {
   "cell_type": "code",
   "execution_count": 14,
   "metadata": {},
   "outputs": [],
   "source": [
    "grouped.insert(len(grouped.columns), \"doc_\"+feature_col1, ling)\n",
    "grouped.insert(len(grouped.columns), \"doc_\"+feature_col2, perso)\n",
    "# grouped.head()"
   ]
  },
  {
   "cell_type": "markdown",
   "metadata": {},
   "source": [
    "Join the Linguistic and Person-Name+Occupation feature columns to the document classification model data:"
   ]
  },
  {
   "cell_type": "code",
   "execution_count": 15,
   "metadata": {},
   "outputs": [
    {
     "data": {
      "text/html": [
       "<div>\n",
       "<style scoped>\n",
       "    .dataframe tbody tr th:only-of-type {\n",
       "        vertical-align: middle;\n",
       "    }\n",
       "\n",
       "    .dataframe tbody tr th {\n",
       "        vertical-align: top;\n",
       "    }\n",
       "\n",
       "    .dataframe thead th {\n",
       "        text-align: right;\n",
       "    }\n",
       "</style>\n",
       "<table border=\"1\" class=\"dataframe\">\n",
       "  <thead>\n",
       "    <tr style=\"text-align: right;\">\n",
       "      <th></th>\n",
       "      <th>description_id</th>\n",
       "      <th>start_offset</th>\n",
       "      <th>end_offset</th>\n",
       "      <th>field</th>\n",
       "      <th>description</th>\n",
       "      <th>label</th>\n",
       "      <th>fold</th>\n",
       "      <th>doc_ling_pred</th>\n",
       "      <th>doc_pers_o_pred</th>\n",
       "    </tr>\n",
       "  </thead>\n",
       "  <tbody>\n",
       "    <tr>\n",
       "      <th>0</th>\n",
       "      <td>4699</td>\n",
       "      <td>1853</td>\n",
       "      <td>2066</td>\n",
       "      <td>Biographical / Historical</td>\n",
       "      <td>Labelled Apparently some chapters, amounting t...</td>\n",
       "      <td>[Omission]</td>\n",
       "      <td>split3</td>\n",
       "      <td>[]</td>\n",
       "      <td>[Unknown]</td>\n",
       "    </tr>\n",
       "    <tr>\n",
       "      <th>1</th>\n",
       "      <td>8942</td>\n",
       "      <td>384</td>\n",
       "      <td>540</td>\n",
       "      <td>Biographical / Historical</td>\n",
       "      <td>James Aikman of Perth signed his name to a vol...</td>\n",
       "      <td>[]</td>\n",
       "      <td>split2</td>\n",
       "      <td>[]</td>\n",
       "      <td>[Unknown]</td>\n",
       "    </tr>\n",
       "    <tr>\n",
       "      <th>2</th>\n",
       "      <td>5440</td>\n",
       "      <td>5692</td>\n",
       "      <td>5850</td>\n",
       "      <td>Biographical / Historical</td>\n",
       "      <td>This piece was published in 'Milk Production i...</td>\n",
       "      <td>[]</td>\n",
       "      <td>split0</td>\n",
       "      <td>[]</td>\n",
       "      <td>[Masculine, Occupation]</td>\n",
       "    </tr>\n",
       "    <tr>\n",
       "      <th>3</th>\n",
       "      <td>3474</td>\n",
       "      <td>3608</td>\n",
       "      <td>8549</td>\n",
       "      <td>Biographical / Historical</td>\n",
       "      <td>Margaret Winifred Bartholomew was born on 21 A...</td>\n",
       "      <td>[Omission, Stereotype]</td>\n",
       "      <td>split0</td>\n",
       "      <td>[]</td>\n",
       "      <td>[Occupation, Unknown, Masculine, Feminine]</td>\n",
       "    </tr>\n",
       "    <tr>\n",
       "      <th>4</th>\n",
       "      <td>4769</td>\n",
       "      <td>2378</td>\n",
       "      <td>2576</td>\n",
       "      <td>Biographical / Historical</td>\n",
       "      <td>Blacker and Thomson became close friends throu...</td>\n",
       "      <td>[Omission]</td>\n",
       "      <td>split3</td>\n",
       "      <td>[]</td>\n",
       "      <td>[Masculine, Unknown]</td>\n",
       "    </tr>\n",
       "  </tbody>\n",
       "</table>\n",
       "</div>"
      ],
      "text/plain": [
       "   description_id  start_offset  end_offset                      field  \\\n",
       "0            4699          1853        2066  Biographical / Historical   \n",
       "1            8942           384         540  Biographical / Historical   \n",
       "2            5440          5692        5850  Biographical / Historical   \n",
       "3            3474          3608        8549  Biographical / Historical   \n",
       "4            4769          2378        2576  Biographical / Historical   \n",
       "\n",
       "                                         description                   label  \\\n",
       "0  Labelled Apparently some chapters, amounting t...              [Omission]   \n",
       "1  James Aikman of Perth signed his name to a vol...                      []   \n",
       "2  This piece was published in 'Milk Production i...                      []   \n",
       "3  Margaret Winifred Bartholomew was born on 21 A...  [Omission, Stereotype]   \n",
       "4  Blacker and Thomson became close friends throu...              [Omission]   \n",
       "\n",
       "     fold doc_ling_pred                             doc_pers_o_pred  \n",
       "0  split3            []                                   [Unknown]  \n",
       "1  split2            []                                   [Unknown]  \n",
       "2  split0            []                     [Masculine, Occupation]  \n",
       "3  split0            []  [Occupation, Unknown, Masculine, Feminine]  \n",
       "4  split3            []                        [Masculine, Unknown]  "
      ]
     },
     "execution_count": 15,
     "metadata": {},
     "output_type": "execute_result"
    }
   ],
   "source": [
    "features = grouped[[\"description_id\", \"doc_\"+feature_col1, \"doc_\"+feature_col2]]\n",
    "join_on = \"description_id\"\n",
    "df = df_exp.join(features.set_index(join_on), on=join_on)\n",
    "df = df.loc[~df.description.isna()]\n",
    "df.head()"
   ]
  },
  {
   "cell_type": "markdown",
   "metadata": {},
   "source": [
    "Define the train (80% of the data) and test (20% of the data) splits:"
   ]
  },
  {
   "cell_type": "code",
   "execution_count": 17,
   "metadata": {},
   "outputs": [
    {
     "name": "stdout",
     "output_type": "stream",
     "text": [
      "['split0' 'split1' 'split2' 'split3' 'split4']\n"
     ]
    }
   ],
   "source": [
    "split_col = \"fold\"\n",
    "splits = df[split_col].unique()\n",
    "splits.sort()\n",
    "print(splits)\n",
    "train0, test0 = list(splits[:4]), splits[4]\n",
    "train1, test1 = list(splits[1:]), splits[0]\n",
    "train2, test2 = list(splits[2:])+[splits[0]], splits[1]\n",
    "train3, test3 = list(splits[3:])+list(splits[:2]), splits[2]\n",
    "train4, test4 = [splits[4]]+list(splits[:3]), splits[3]\n",
    "runs = [(train0, test0), (train1, test1), (train2, test2), (train3, test3), (train4, test4)]"
   ]
  },
  {
   "cell_type": "code",
   "execution_count": 18,
   "metadata": {},
   "outputs": [],
   "source": [
    "def binarizeMultilabelTrainColumn(df_col):\n",
    "    mlb = MultiLabelBinarizer()\n",
    "    binarized = mlb.fit_transform(df_col)\n",
    "    return mlb, binarized\n",
    "\n",
    "def binarizeMultilabelDevColumn(mlb, df_col):\n",
    "    binarized = mlb.transform(df_col)\n",
    "    return binarized"
   ]
  },
  {
   "cell_type": "markdown",
   "metadata": {},
   "source": [
    "Concatenate the documents and features, creating one scipy sparse matrix for the train data and another for the dev data:"
   ]
  },
  {
   "cell_type": "code",
   "execution_count": 24,
   "metadata": {
    "jupyter": {
     "source_hidden": true
    }
   },
   "outputs": [],
   "source": [
    "# X_train = scipy.sparse.hstack([train_docs, train_feats])\n",
    "# X_dev = scipy.sparse.hstack([dev_docs, dev_feats])\n",
    "# print(X_train.shape, X_dev.shape)"
   ]
  },
  {
   "cell_type": "markdown",
   "metadata": {},
   "source": [
    "<a id=\"tp\"></a>\n",
    "### Training & Prediction"
   ]
  },
  {
   "cell_type": "code",
   "execution_count": 25,
   "metadata": {},
   "outputs": [],
   "source": [
    "a = \"sgd-svm\""
   ]
  },
  {
   "cell_type": "code",
   "execution_count": null,
   "metadata": {},
   "outputs": [
    {
     "name": "stdout",
     "output_type": "stream",
     "text": [
      "Training on: ['split0', 'split1', 'split2', 'split3']\n",
      "Predicting on: split4\n",
      "Training on: ['split1', 'split2', 'split3', 'split4']\n",
      "Predicting on: split0\n",
      "Training on: ['split2', 'split3', 'split4', 'split0']\n",
      "Predicting on: split1\n",
      "Training on: ['split3', 'split4', 'split0', 'split1']\n",
      "Predicting on: split2\n",
      "Training on: ['split4', 'split0', 'split1', 'split2']\n",
      "Predicting on: split3\n",
      "Modified 5-fold cross-validation complete!\n",
      "(27312, 10)\n"
     ]
    }
   ],
   "source": [
    "pred_df = pd.DataFrame()\n",
    "target_col = \"label\"\n",
    "feat1_col = \"doc_ling_pred\"   \n",
    "feat2_col = \"doc_pers_o_pred\" \n",
    "for run in runs:\n",
    "    # Get the train (80%) and test (20%) subsets of data\n",
    "    train_splits, test_split = run[0], run[1]\n",
    "    print(\"Training on:\", train_splits)\n",
    "    train_df = df.loc[df[split_col].isin(train_splits)]\n",
    "    dev_df = df.loc[df[split_col] == test_split]\n",
    "    \n",
    "    # Binarize the features\n",
    "    mlb_feat1, train_feat1 = binarizeMultilabelTrainColumn(train_df[feat1_col])\n",
    "    dev_feat1 = binarizeMultilabelDevColumn(mlb_feat1, dev_df[feat1_col])\n",
    "    mlb_feat2, train_feat2 = binarizeMultilabelTrainColumn(train_df[feat2_col])\n",
    "    dev_feat2 = binarizeMultilabelDevColumn(mlb_feat2, dev_df[feat2_col])\n",
    "    train_feats = scipy.sparse.csr_matrix(np.concatenate([train_feat1, train_feat2], axis=1))\n",
    "    dev_feats = scipy.sparse.csr_matrix(np.concatenate([dev_feat1, dev_feat2], axis=1))\n",
    "    \n",
    "    # Vectorize the documents (descriptions)\n",
    "    cvectorizer = CountVectorizer()\n",
    "    tfidf = TfidfTransformer()\n",
    "    train_docs = cvectorizer.fit_transform(train_df[\"description\"])\n",
    "    dev_docs = cvectorizer.transform(dev_df[\"description\"])\n",
    "    train_docs = tfidf.fit_transform(train_docs)\n",
    "    dev_docs = tfidf.transform(dev_docs)\n",
    "    \n",
    "    # Concatenate the features and documents\n",
    "    X_train = scipy.sparse.hstack([train_docs, train_feats])\n",
    "    X_dev = scipy.sparse.hstack([dev_docs, dev_feats])\n",
    "    \n",
    "    # Binarize targets\n",
    "    mlb_target, y_train = binarizeMultilabelTrainColumn(train_df[\"label\"])\n",
    "    y_dev = binarizeMultilabelDevColumn(mlb_target, dev_df[\"label\"])\n",
    "\n",
    "    # Train a classification model\n",
    "    clf = OneVsRestClassifier(SGDClassifier(loss=\"hinge\"))  # Support Vector Machines loss function\n",
    "    clf.fit(X_train, y_train)\n",
    "    \n",
    "    # Predict with the trained model\n",
    "    print(\"Predicting on:\", test_split)\n",
    "    predictions = clf.predict(X_dev)\n",
    "    pred_labels = mlb_target.inverse_transform(predictions)    \n",
    "    if pred_df.shape[0] > 0:\n",
    "        next_pred_df = dev_df.copy()\n",
    "        next_pred_df.insert(len(next_pred_df.columns), \"{}_label\".format(a), pred_labels)\n",
    "        pred_df = pd.concat([pred_df, next_pred_df])\n",
    "    else:\n",
    "        pred_df = dev_df.copy()\n",
    "        pred_df.insert(len(pred_df.columns), \"{}_label\".format(a), pred_labels)\n",
    "\n",
    "print(\"Modified 5-fold cross-validation complete!\")\n",
    "print(pred_df.shape)"
   ]
  },
  {
   "cell_type": "code",
   "execution_count": 27,
   "metadata": {},
   "outputs": [
    {
     "data": {
      "text/html": [
       "<div>\n",
       "<style scoped>\n",
       "    .dataframe tbody tr th:only-of-type {\n",
       "        vertical-align: middle;\n",
       "    }\n",
       "\n",
       "    .dataframe tbody tr th {\n",
       "        vertical-align: top;\n",
       "    }\n",
       "\n",
       "    .dataframe thead th {\n",
       "        text-align: right;\n",
       "    }\n",
       "</style>\n",
       "<table border=\"1\" class=\"dataframe\">\n",
       "  <thead>\n",
       "    <tr style=\"text-align: right;\">\n",
       "      <th></th>\n",
       "      <th>description_id</th>\n",
       "      <th>start_offset</th>\n",
       "      <th>end_offset</th>\n",
       "      <th>field</th>\n",
       "      <th>description</th>\n",
       "      <th>manual_label</th>\n",
       "      <th>fold</th>\n",
       "      <th>doc_ling_pred</th>\n",
       "      <th>doc_pers_o_pred</th>\n",
       "      <th>sgd-svm_label</th>\n",
       "    </tr>\n",
       "  </thead>\n",
       "  <tbody>\n",
       "    <tr>\n",
       "      <th>6</th>\n",
       "      <td>3027</td>\n",
       "      <td>627</td>\n",
       "      <td>1162</td>\n",
       "      <td>Biographical / Historical</td>\n",
       "      <td>Thomas Young was probably born in 1725. By the...</td>\n",
       "      <td>[Stereotype]</td>\n",
       "      <td>split4</td>\n",
       "      <td>[]</td>\n",
       "      <td>[Masculine, Unknown, Occupation]</td>\n",
       "      <td>()</td>\n",
       "    </tr>\n",
       "    <tr>\n",
       "      <th>7</th>\n",
       "      <td>3397</td>\n",
       "      <td>8095</td>\n",
       "      <td>8334</td>\n",
       "      <td>Biographical / Historical</td>\n",
       "      <td>Andrew Tait worked on Paramecium in Beale's la...</td>\n",
       "      <td>[Omission]</td>\n",
       "      <td>split4</td>\n",
       "      <td>[]</td>\n",
       "      <td>[Masculine, Occupation]</td>\n",
       "      <td>(Omission,)</td>\n",
       "    </tr>\n",
       "    <tr>\n",
       "      <th>10</th>\n",
       "      <td>4736</td>\n",
       "      <td>9951</td>\n",
       "      <td>10026</td>\n",
       "      <td>Biographical / Historical</td>\n",
       "      <td>Delivered by Thomson to teachers in Darlington.</td>\n",
       "      <td>[Omission]</td>\n",
       "      <td>split4</td>\n",
       "      <td>[]</td>\n",
       "      <td>[Occupation]</td>\n",
       "      <td>(Omission,)</td>\n",
       "    </tr>\n",
       "    <tr>\n",
       "      <th>14</th>\n",
       "      <td>4712</td>\n",
       "      <td>4199</td>\n",
       "      <td>4485</td>\n",
       "      <td>Biographical / Historical</td>\n",
       "      <td>This was gifted by Thomson to his secretary, M...</td>\n",
       "      <td>[Omission]</td>\n",
       "      <td>split4</td>\n",
       "      <td>[]</td>\n",
       "      <td>[Occupation, Unknown, Masculine, Feminine]</td>\n",
       "      <td>(Omission,)</td>\n",
       "    </tr>\n",
       "    <tr>\n",
       "      <th>22</th>\n",
       "      <td>15684</td>\n",
       "      <td>845</td>\n",
       "      <td>1179</td>\n",
       "      <td>Biographical / Historical</td>\n",
       "      <td>Catherine Robina Borland was responsible for t...</td>\n",
       "      <td>[]</td>\n",
       "      <td>split4</td>\n",
       "      <td>[]</td>\n",
       "      <td>[Masculine]</td>\n",
       "      <td>(,)</td>\n",
       "    </tr>\n",
       "  </tbody>\n",
       "</table>\n",
       "</div>"
      ],
      "text/plain": [
       "    description_id  start_offset  end_offset                      field  \\\n",
       "6             3027           627        1162  Biographical / Historical   \n",
       "7             3397          8095        8334  Biographical / Historical   \n",
       "10            4736          9951       10026  Biographical / Historical   \n",
       "14            4712          4199        4485  Biographical / Historical   \n",
       "22           15684           845        1179  Biographical / Historical   \n",
       "\n",
       "                                          description  manual_label    fold  \\\n",
       "6   Thomas Young was probably born in 1725. By the...  [Stereotype]  split4   \n",
       "7   Andrew Tait worked on Paramecium in Beale's la...    [Omission]  split4   \n",
       "10    Delivered by Thomson to teachers in Darlington.    [Omission]  split4   \n",
       "14  This was gifted by Thomson to his secretary, M...    [Omission]  split4   \n",
       "22  Catherine Robina Borland was responsible for t...            []  split4   \n",
       "\n",
       "   doc_ling_pred                             doc_pers_o_pred sgd-svm_label  \n",
       "6             []            [Masculine, Unknown, Occupation]            ()  \n",
       "7             []                     [Masculine, Occupation]   (Omission,)  \n",
       "10            []                                [Occupation]   (Omission,)  \n",
       "14            []  [Occupation, Unknown, Masculine, Feminine]   (Omission,)  \n",
       "22            []                                 [Masculine]           (,)  "
      ]
     },
     "execution_count": 27,
     "metadata": {},
     "output_type": "execute_result"
    }
   ],
   "source": [
    "pred_df = pred_df.rename(columns={\"label\":\"manual_label\"})\n",
    "pred_df.head()"
   ]
  },
  {
   "cell_type": "markdown",
   "metadata": {},
   "source": [
    "Save the predictions data:"
   ]
  },
  {
   "cell_type": "code",
   "execution_count": 28,
   "metadata": {},
   "outputs": [],
   "source": [
    "pred_df.to_csv(predictions_dir+\"aggregated_final_validate_predictions_docclf_{a}_{t}.csv\".format(a=a, t=target_labels))"
   ]
  },
  {
   "cell_type": "markdown",
   "metadata": {},
   "source": [
    "Save the model (the last model run):"
   ]
  },
  {
   "cell_type": "code",
   "execution_count": 29,
   "metadata": {},
   "outputs": [
    {
     "data": {
      "text/plain": [
       "['models/experiment1/sgd-svm_so_F-fastText100LingPNOcc_T-SO.joblib']"
      ]
     },
     "execution_count": 29,
     "metadata": {},
     "output_type": "execute_result"
    }
   ],
   "source": [
    "model_dir = \"models/experiment1/\"\n",
    "Path(model_dir).mkdir(parents=True, exist_ok=True)\n",
    "filename = model_dir+\"{a}_so_F-fastText{d}LingPNOcc_T-SO.joblib\".format(a=a, d=d)  # include features (F) and targets (T) in model's file name\n",
    "dump(clf, filename)"
   ]
  },
  {
   "cell_type": "markdown",
   "metadata": {
    "tags": []
   },
   "source": [
    "<a id=\"eval\"></a>\n",
    "### Evaluate\n",
    "\n",
    "Calculate performance metrics for the Stochastic Gradient Descent classifier"
   ]
  },
  {
   "cell_type": "code",
   "execution_count": 32,
   "metadata": {
    "tags": []
   },
   "outputs": [],
   "source": [
    "# print(\"Dev Test Accuracy:\", np.mean(predictions == y_dev))"
   ]
  },
  {
   "cell_type": "code",
   "execution_count": 33,
   "metadata": {
    "tags": []
   },
   "outputs": [
    {
     "name": "stdout",
     "output_type": "stream",
     "text": [
      "[0 1 2]\n",
      "['' 'Omission' 'Stereotype']\n"
     ]
    }
   ],
   "source": [
    "classes = clf.classes_  #doc_clf.classes_\n",
    "print(classes)\n",
    "original_classes = mlb_target.classes_\n",
    "print(original_classes)\n",
    "label_dict = dict(zip(original_classes, classes))"
   ]
  },
  {
   "cell_type": "markdown",
   "metadata": {
    "tags": []
   },
   "source": [
    "Create a [confusion matrix](https://scikit-learn.org/stable/modules/model_evaluation.html#multilabel-confusion-matrix) of the results, where, for class *i*:\n",
    "* Count of true negatives (TN) is at position *i*,0,0\n",
    "* Count of false negatives (FN) is at position *i*,1,0\n",
    "* Count of true positives (FP) is at position *i*,1,1\n",
    "* Count of false positives (PF) is at position *i*,0,1"
   ]
  },
  {
   "cell_type": "code",
   "execution_count": 34,
   "metadata": {},
   "outputs": [],
   "source": [
    "y_dev = binarizeMultilabelDevColumn(mlb_target, pred_df[\"manual_label\"])\n",
    "predictions = mlb_target.transform(pred_df[\"{}_label\".format(a)])\n",
    "assert len(y_dev) == len(predictions)"
   ]
  },
  {
   "cell_type": "code",
   "execution_count": 35,
   "metadata": {
    "tags": []
   },
   "outputs": [],
   "source": [
    "matrix = multilabel_confusion_matrix(y_dev, predictions, labels=classes)"
   ]
  },
  {
   "cell_type": "code",
   "execution_count": 36,
   "metadata": {},
   "outputs": [
    {
     "data": {
      "text/html": [
       "<div>\n",
       "<style scoped>\n",
       "    .dataframe tbody tr th:only-of-type {\n",
       "        vertical-align: middle;\n",
       "    }\n",
       "\n",
       "    .dataframe tbody tr th {\n",
       "        vertical-align: top;\n",
       "    }\n",
       "\n",
       "    .dataframe thead th {\n",
       "        text-align: right;\n",
       "    }\n",
       "</style>\n",
       "<table border=\"1\" class=\"dataframe\">\n",
       "  <thead>\n",
       "    <tr style=\"text-align: right;\">\n",
       "      <th></th>\n",
       "      <th>labels</th>\n",
       "      <th>false_neg</th>\n",
       "      <th>true_pos</th>\n",
       "      <th>false_pos</th>\n",
       "      <th>precision</th>\n",
       "      <th>recall</th>\n",
       "      <th>f_1</th>\n",
       "    </tr>\n",
       "  </thead>\n",
       "  <tbody>\n",
       "    <tr>\n",
       "      <th>1</th>\n",
       "      <td>Omission</td>\n",
       "      <td>1829</td>\n",
       "      <td>2203</td>\n",
       "      <td>381</td>\n",
       "      <td>0.852554</td>\n",
       "      <td>0.546379</td>\n",
       "      <td>0.665961</td>\n",
       "    </tr>\n",
       "    <tr>\n",
       "      <th>2</th>\n",
       "      <td>Stereotype</td>\n",
       "      <td>414</td>\n",
       "      <td>1187</td>\n",
       "      <td>76</td>\n",
       "      <td>0.939826</td>\n",
       "      <td>0.741412</td>\n",
       "      <td>0.828911</td>\n",
       "    </tr>\n",
       "  </tbody>\n",
       "</table>\n",
       "</div>"
      ],
      "text/plain": [
       "       labels  false_neg  true_pos  false_pos  precision    recall       f_1\n",
       "1    Omission       1829      2203        381   0.852554  0.546379  0.665961\n",
       "2  Stereotype        414      1187         76   0.939826  0.741412  0.828911"
      ]
     },
     "execution_count": 36,
     "metadata": {},
     "output_type": "execute_result"
    }
   ],
   "source": [
    "scores = utils.getPerformanceMetrics(y_dev, predictions, matrix, classes, original_classes, label_dict)\n",
    "scores = scores.tail(2) # Remove row for ''\n",
    "scores = scores.drop(columns=\"true_neg\")  # Not accurate because considers '' a class\n",
    "scores[\"labels\"] = original_classes[1:]\n",
    "scores"
   ]
  },
  {
   "cell_type": "markdown",
   "metadata": {},
   "source": [
    "Save the performance results:"
   ]
  },
  {
   "cell_type": "code",
   "execution_count": 37,
   "metadata": {
    "tags": []
   },
   "outputs": [],
   "source": [
    "scores.to_csv(agreement_dir+\"docclf_{a}_{t}_baseline_performance.csv\".format(a=a, t=target_labels))"
   ]
  },
  {
   "cell_type": "code",
   "execution_count": null,
   "metadata": {},
   "outputs": [],
   "source": []
  }
 ],
 "metadata": {
  "kernelspec": {
   "display_name": "gender-bias-env",
   "language": "python",
   "name": "python3"
  },
  "language_info": {
   "codemirror_mode": {
    "name": "ipython",
    "version": 3
   },
   "file_extension": ".py",
   "mimetype": "text/x-python",
   "name": "python",
   "nbconvert_exporter": "python",
   "pygments_lexer": "ipython3",
   "version": "3.9.20"
  }
 },
 "nbformat": 4,
 "nbformat_minor": 4
}

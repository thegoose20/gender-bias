{
 "cells": [
  {
   "cell_type": "markdown",
   "metadata": {},
   "source": [
    "# Experiment 2\n",
    "\n",
    "#### Model Setup\n",
    "\n",
    "Run models in the following order, using their output labels as features for the next model:\n",
    "\n",
    "1. Multilabel Linguistic Classifier\n",
    "2. Multilabel Stereotype + Omission Document Classifier\n",
    "\n",
    "Train the first model and then run it over the entire dataset.\n",
    "\n",
    "***\n",
    "\n",
    "* Supervised learning\n",
    "    * Train, Validate, and (Blind) Test Data: under directory `../data/token_clf_data/experiment_input/`\n",
    "    * Prediction Data: Data: under directory `../data/token_clf_data/model_output/experiment2/`\n",
    "* Word Embeddings\n",
    "    * Custom fastText (word2vec with subwords) embeddings of 100 dimensions trained on the CRC Archives catalog's descriptive metadata (harvested October 2020)\n",
    "    \n",
    "***\n",
    "\n",
    "**Table of Contents**\n",
    "\n",
    "[I.](#i) Stereotype + Omission Classifier\n",
    "* [Preprocessing](#prep)\n",
    "* [Training & Prediction](#tp)\n",
    "* [Evaluation](#eval)"
   ]
  },
  {
   "cell_type": "markdown",
   "metadata": {},
   "source": [
    "Load programming resources:"
   ]
  },
  {
   "cell_type": "code",
   "execution_count": 1,
   "metadata": {},
   "outputs": [],
   "source": [
    "# For custom functions and variables\n",
    "import utils, utils1, config\n",
    "\n",
    "# For data analysis\n",
    "import pandas as pd\n",
    "import numpy as np\n",
    "import os, re\n",
    "\n",
    "# For creating directories\n",
    "from pathlib import Path\n",
    "\n",
    "# For classification\n",
    "import scipy\n",
    "import sklearn.metrics\n",
    "from sklearn.multiclass import OneVsRestClassifier\n",
    "from sklearn.base import BaseEstimator, TransformerMixin\n",
    "from sklearn.preprocessing import MultiLabelBinarizer, FunctionTransformer\n",
    "from sklearn.compose import ColumnTransformer, make_column_selector\n",
    "from sklearn.feature_extraction.text import CountVectorizer, TfidfVectorizer, TfidfTransformer\n",
    "from sklearn.linear_model import SGDClassifier\n",
    "from sklearn.pipeline import Pipeline\n",
    "from sklearn.metrics import confusion_matrix, multilabel_confusion_matrix#, plot_confusion_matrix, ConfusionMatrixDisplay\n",
    "from sklearn.metrics import precision_recall_fscore_support\n",
    "\n",
    "# For saving model\n",
    "from joblib import dump,load"
   ]
  },
  {
   "cell_type": "markdown",
   "metadata": {},
   "source": [
    "Define resources for the models:"
   ]
  },
  {
   "cell_type": "code",
   "execution_count": 2,
   "metadata": {},
   "outputs": [],
   "source": [
    "### For 60-20-20 train-dev-test split of documents (metadata descriptions)\n",
    "Path(config.experiment_input_path).mkdir(parents=True, exist_ok=True)    # For train, devtest, and blind test data\n",
    "# Path(config.experiment1_output_path).mkdir(parents=True, exist_ok=True)  # For predictions\n",
    "# Path(config.experiment1_agmt_path).mkdir(parents=True, exist_ok=True)    # For agreement metrics\n",
    "# ----------------------\n",
    "### For features from modified 5-fold CV\n",
    "# predictions_dir = config.experiment2_path+\"5fold/output/\"\n",
    "# Path(predictions_dir).mkdir(parents=True, exist_ok=True)    # For predictions\n",
    "# agreement_dir = config.experiment2_path+\"5fold/agreement/\"\n",
    "# Path(agreement_dir).mkdir(parents=True, exist_ok=True)      # For agreement metrics\n",
    "\n",
    "predictions_dir = config.experiment2_path+\"5fold/with_manual_labels/output/\"              # For predictions with features as manual labels\n",
    "Path(predictions_dir).mkdir(parents=True, exist_ok=True)  \n",
    "agreement_dir = config.experiment2_path+\"5fold/with_manual_labels/agreement/\"             # For agreement metrics with features as manual labels\n",
    "Path(agreement_dir).mkdir(parents=True, exist_ok=True)"
   ]
  },
  {
   "cell_type": "code",
   "execution_count": 3,
   "metadata": {},
   "outputs": [],
   "source": [
    "# Model 1:\n",
    "ling_label_subset = [\"B-Generalization\", \"I-Generalization\", \"B-Gendered-Role\", \"I-Gendered-Role\", \"B-Gendered-Pronoun\", \"I-Gendered-Pronoun\"]\n",
    "# Model 3:\n",
    "so_label_subset = [\"B-Stereotype\", \"I-Stereotype\", \"B-Omission\", \"I-Omission\"]"
   ]
  },
  {
   "cell_type": "code",
   "execution_count": 4,
   "metadata": {},
   "outputs": [],
   "source": [
    "ling_label_tags = {\n",
    "    \"Gendered-Pronoun\": [\"B-Gendered-Pronoun\", \"I-Gendered-Pronoun\"], \"Gendered-Role\": [\"B-Gendered-Role\", \"I-Gendered-Role\"],\"Generalization\": [\"B-Generalization\", \"I-Generalization\"]\n",
    "    }\n",
    "so_label_tags = {\n",
    "    \"Stereotype\": [\"B-Stereotype\", \"I-Stereotype\"], \"Omission\": [\"B-Omission\", \"I-Omission\"]\n",
    "             }"
   ]
  },
  {
   "cell_type": "code",
   "execution_count": 5,
   "metadata": {},
   "outputs": [],
   "source": [
    "d = 100               # dimensions of word embeddings (should match utils1.py) for file names\n",
    "target_labels = \"so\"  # for file names"
   ]
  },
  {
   "cell_type": "markdown",
   "metadata": {},
   "source": [
    "<a id=\"i\"></a>\n",
    "## I. Stereotype + Omission Classifier\n",
    "<a id=\"prep\"></a>\n",
    "### Preprocessing"
   ]
  },
  {
   "cell_type": "markdown",
   "metadata": {},
   "source": [
    "Load the document classification model's input data:"
   ]
  },
  {
   "cell_type": "code",
   "execution_count": null,
   "metadata": {},
   "outputs": [
    {
     "data": {
      "text/html": [
       "<div>\n",
       "<style scoped>\n",
       "    .dataframe tbody tr th:only-of-type {\n",
       "        vertical-align: middle;\n",
       "    }\n",
       "\n",
       "    .dataframe tbody tr th {\n",
       "        vertical-align: top;\n",
       "    }\n",
       "\n",
       "    .dataframe thead th {\n",
       "        text-align: right;\n",
       "    }\n",
       "</style>\n",
       "<table border=\"1\" class=\"dataframe\">\n",
       "  <thead>\n",
       "    <tr style=\"text-align: right;\">\n",
       "      <th></th>\n",
       "      <th>description_id</th>\n",
       "      <th>start_offset</th>\n",
       "      <th>end_offset</th>\n",
       "      <th>field</th>\n",
       "      <th>description</th>\n",
       "      <th>label</th>\n",
       "      <th>fold</th>\n",
       "    </tr>\n",
       "  </thead>\n",
       "  <tbody>\n",
       "    <tr>\n",
       "      <th>0</th>\n",
       "      <td>4699</td>\n",
       "      <td>1853</td>\n",
       "      <td>2066</td>\n",
       "      <td>Biographical / Historical</td>\n",
       "      <td>Labelled Apparently some chapters, amounting t...</td>\n",
       "      <td>[Omission]</td>\n",
       "      <td>split3</td>\n",
       "    </tr>\n",
       "    <tr>\n",
       "      <th>1</th>\n",
       "      <td>8942</td>\n",
       "      <td>384</td>\n",
       "      <td>540</td>\n",
       "      <td>Biographical / Historical</td>\n",
       "      <td>James Aikman of Perth signed his name to a vol...</td>\n",
       "      <td>[]</td>\n",
       "      <td>split2</td>\n",
       "    </tr>\n",
       "    <tr>\n",
       "      <th>2</th>\n",
       "      <td>5440</td>\n",
       "      <td>5692</td>\n",
       "      <td>5850</td>\n",
       "      <td>Biographical / Historical</td>\n",
       "      <td>This piece was published in 'Milk Production i...</td>\n",
       "      <td>[]</td>\n",
       "      <td>split0</td>\n",
       "    </tr>\n",
       "    <tr>\n",
       "      <th>3</th>\n",
       "      <td>3474</td>\n",
       "      <td>3608</td>\n",
       "      <td>8549</td>\n",
       "      <td>Biographical / Historical</td>\n",
       "      <td>Margaret Winifred Bartholomew was born on 21 A...</td>\n",
       "      <td>[Omission, Stereotype]</td>\n",
       "      <td>split0</td>\n",
       "    </tr>\n",
       "    <tr>\n",
       "      <th>4</th>\n",
       "      <td>4769</td>\n",
       "      <td>2378</td>\n",
       "      <td>2576</td>\n",
       "      <td>Biographical / Historical</td>\n",
       "      <td>Blacker and Thomson became close friends throu...</td>\n",
       "      <td>[Omission]</td>\n",
       "      <td>split3</td>\n",
       "    </tr>\n",
       "  </tbody>\n",
       "</table>\n",
       "</div>"
      ],
      "text/plain": [
       "   description_id  start_offset  end_offset                      field  \\\n",
       "0            4699          1853        2066  Biographical / Historical   \n",
       "1            8942           384         540  Biographical / Historical   \n",
       "2            5440          5692        5850  Biographical / Historical   \n",
       "3            3474          3608        8549  Biographical / Historical   \n",
       "4            4769          2378        2576  Biographical / Historical   \n",
       "\n",
       "                                         description                   label  \\\n",
       "0  Labelled Apparently some chapters, amounting t...              [Omission]   \n",
       "1  James Aikman of Perth signed his name to a vol...                      []   \n",
       "2  This piece was published in 'Milk Production i...                      []   \n",
       "3  Margaret Winifred Bartholomew was born on 21 A...  [Omission, Stereotype]   \n",
       "4  Blacker and Thomson became close friends throu...              [Omission]   \n",
       "\n",
       "     fold  \n",
       "0  split3  \n",
       "1  split2  \n",
       "2  split0  \n",
       "3  split0  \n",
       "4  split3  "
      ]
     },
     "execution_count": 6,
     "metadata": {},
     "output_type": "execute_result"
    }
   ],
   "source": [
    "df = pd.read_csv(config.tokc_path+\"experiment_input/document_5fold.csv\", index_col=0)\n",
    "df_exp = utils.getColumnValuesAsLists(df, \"label\")\n",
    "df_exp = df_exp.drop(columns=[\"subset\"])\n",
    "df_exp.head()"
   ]
  },
  {
   "cell_type": "markdown",
   "metadata": {},
   "source": [
    "Load the Linguistic labels as features and associate description IDs to the data, creating one row per description ID:"
   ]
  },
  {
   "cell_type": "code",
   "execution_count": null,
   "metadata": {},
   "outputs": [
    {
     "data": {
      "text/html": [
       "<div>\n",
       "<style scoped>\n",
       "    .dataframe tbody tr th:only-of-type {\n",
       "        vertical-align: middle;\n",
       "    }\n",
       "\n",
       "    .dataframe tbody tr th {\n",
       "        vertical-align: top;\n",
       "    }\n",
       "\n",
       "    .dataframe thead th {\n",
       "        text-align: right;\n",
       "    }\n",
       "</style>\n",
       "<table border=\"1\" class=\"dataframe\">\n",
       "  <thead>\n",
       "    <tr style=\"text-align: right;\">\n",
       "      <th></th>\n",
       "      <th>sentence_id</th>\n",
       "      <th>token_id</th>\n",
       "      <th>ling_predicted</th>\n",
       "    </tr>\n",
       "  </thead>\n",
       "  <tbody>\n",
       "    <tr>\n",
       "      <th>0</th>\n",
       "      <td>0</td>\n",
       "      <td>0</td>\n",
       "      <td>[O]</td>\n",
       "    </tr>\n",
       "    <tr>\n",
       "      <th>1</th>\n",
       "      <td>0</td>\n",
       "      <td>1</td>\n",
       "      <td>[O]</td>\n",
       "    </tr>\n",
       "    <tr>\n",
       "      <th>2</th>\n",
       "      <td>0</td>\n",
       "      <td>2</td>\n",
       "      <td>[O]</td>\n",
       "    </tr>\n",
       "    <tr>\n",
       "      <th>3</th>\n",
       "      <td>1</td>\n",
       "      <td>3</td>\n",
       "      <td>[O]</td>\n",
       "    </tr>\n",
       "    <tr>\n",
       "      <th>4</th>\n",
       "      <td>1</td>\n",
       "      <td>4</td>\n",
       "      <td>[O]</td>\n",
       "    </tr>\n",
       "  </tbody>\n",
       "</table>\n",
       "</div>"
      ],
      "text/plain": [
       "   sentence_id  token_id ling_predicted\n",
       "0            0         0            [O]\n",
       "1            0         1            [O]\n",
       "2            0         2            [O]\n",
       "3            1         3            [O]\n",
       "4            1         4            [O]"
      ]
     },
     "execution_count": 7,
     "metadata": {},
     "output_type": "execute_result"
    }
   ],
   "source": [
    "a=\"rf\"\n",
    "feature_col = \"predicted_label\"  # \"predicted_tag\"\n",
    "df_features = pd.read_csv(config.experiment1_path+\"5fold/output/cc-{a}_linglabels_baseline_fastText{d}_strict_evaluation.csv\".format(a=a,d=d), usecols=[\"sentence_id\", \"token_id\", feature_col])\n",
    "df_features = df_features.fillna(\"O\")\n",
    "feature_col1 = \"ling_predicted\"  # \"ling_pred\"\n",
    "df_features = df_features.rename(columns={feature_col:feature_col1})\n",
    "df_features = utils.implodeDataFrame(df_features, [\"sentence_id\", \"token_id\"]).reset_index()\n",
    "df_features.head()"
   ]
  },
  {
   "cell_type": "code",
   "execution_count": 8,
   "metadata": {},
   "outputs": [],
   "source": [
    "df_desc = pd.read_csv(config.agg_path+\"descs_sents_tokens_anns.csv\", usecols=[\"description_id\", \"sentence_id\", \"token_id\"])\n",
    "df_desc = df_desc.set_index(\"description_id\")\n",
    "df_desc = utils1.getColumnValuesAsLists(df_desc, \"sentence_id\")\n",
    "df_desc = utils1.getColumnValuesAsLists(df_desc, \"token_id\")\n",
    "df_desc_exploded = df_desc.explode([\"sentence_id\", \"token_id\"])\n",
    "df_desc_exploded = df_desc_exploded.reset_index()\n",
    "df_desc_exploded = df_desc_exploded.astype(\"int64\")\n",
    "# df_desc_exploded.head()\n",
    "assert df_desc_exploded.shape[0] == len(df_desc_exploded.token_id.unique())"
   ]
  },
  {
   "cell_type": "code",
   "execution_count": 9,
   "metadata": {},
   "outputs": [
    {
     "data": {
      "text/html": [
       "<div>\n",
       "<style scoped>\n",
       "    .dataframe tbody tr th:only-of-type {\n",
       "        vertical-align: middle;\n",
       "    }\n",
       "\n",
       "    .dataframe tbody tr th {\n",
       "        vertical-align: top;\n",
       "    }\n",
       "\n",
       "    .dataframe thead th {\n",
       "        text-align: right;\n",
       "    }\n",
       "</style>\n",
       "<table border=\"1\" class=\"dataframe\">\n",
       "  <thead>\n",
       "    <tr style=\"text-align: right;\">\n",
       "      <th></th>\n",
       "      <th>description_id</th>\n",
       "      <th>sentence_id</th>\n",
       "      <th>token_id</th>\n",
       "      <th>ling_predicted</th>\n",
       "    </tr>\n",
       "  </thead>\n",
       "  <tbody>\n",
       "    <tr>\n",
       "      <th>0</th>\n",
       "      <td>0</td>\n",
       "      <td>[0, 0, 0]</td>\n",
       "      <td>[0, 1, 2]</td>\n",
       "      <td>[[O], [O], [O]]</td>\n",
       "    </tr>\n",
       "    <tr>\n",
       "      <th>1</th>\n",
       "      <td>1</td>\n",
       "      <td>[1, 1, 1, 1, 1, 1, 1, 1, 1, 1, 1, 1, 1]</td>\n",
       "      <td>[3, 4, 5, 6, 7, 8, 9, 10, 11, 12, 13, 14, 15]</td>\n",
       "      <td>[[O], [O], [O], [O], [O, O, O], [O, O, O], [O,...</td>\n",
       "    </tr>\n",
       "    <tr>\n",
       "      <th>2</th>\n",
       "      <td>2</td>\n",
       "      <td>[2, 2, 2, 2, 2, 2, 2, 2, 2, 2, 2, 2, 2, 2, 2, ...</td>\n",
       "      <td>[16, 17, 18, 19, 20, 21, 22, 23, 24, 25, 26, 2...</td>\n",
       "      <td>[[O], [O], [O], [O], [O], [O], [O], [O], [O], ...</td>\n",
       "    </tr>\n",
       "    <tr>\n",
       "      <th>3</th>\n",
       "      <td>3</td>\n",
       "      <td>[3, 3, 3, 3, 3, 3, 3, 3, 3, 3, 3, 3, 3, 3, 3, ...</td>\n",
       "      <td>[109, 110, 111, 112, 113, 114, 115, 116, 117, ...</td>\n",
       "      <td>[[O], [O], [O], [O], [O], [O], [O], [O], [O], ...</td>\n",
       "    </tr>\n",
       "    <tr>\n",
       "      <th>4</th>\n",
       "      <td>4</td>\n",
       "      <td>[11, 11, 11]</td>\n",
       "      <td>[308, 309, 310]</td>\n",
       "      <td>[[O], [O], [O]]</td>\n",
       "    </tr>\n",
       "  </tbody>\n",
       "</table>\n",
       "</div>"
      ],
      "text/plain": [
       "   description_id                                        sentence_id  \\\n",
       "0               0                                          [0, 0, 0]   \n",
       "1               1            [1, 1, 1, 1, 1, 1, 1, 1, 1, 1, 1, 1, 1]   \n",
       "2               2  [2, 2, 2, 2, 2, 2, 2, 2, 2, 2, 2, 2, 2, 2, 2, ...   \n",
       "3               3  [3, 3, 3, 3, 3, 3, 3, 3, 3, 3, 3, 3, 3, 3, 3, ...   \n",
       "4               4                                       [11, 11, 11]   \n",
       "\n",
       "                                            token_id  \\\n",
       "0                                          [0, 1, 2]   \n",
       "1      [3, 4, 5, 6, 7, 8, 9, 10, 11, 12, 13, 14, 15]   \n",
       "2  [16, 17, 18, 19, 20, 21, 22, 23, 24, 25, 26, 2...   \n",
       "3  [109, 110, 111, 112, 113, 114, 115, 116, 117, ...   \n",
       "4                                    [308, 309, 310]   \n",
       "\n",
       "                                      ling_predicted  \n",
       "0                                    [[O], [O], [O]]  \n",
       "1  [[O], [O], [O], [O], [O, O, O], [O, O, O], [O,...  \n",
       "2  [[O], [O], [O], [O], [O], [O], [O], [O], [O], ...  \n",
       "3  [[O], [O], [O], [O], [O], [O], [O], [O], [O], ...  \n",
       "4                                    [[O], [O], [O]]  "
      ]
     },
     "execution_count": 9,
     "metadata": {},
     "output_type": "execute_result"
    }
   ],
   "source": [
    "joined = df_features.join(df_desc_exploded.set_index([\"sentence_id\", \"token_id\"]), on=[\"sentence_id\", \"token_id\"])\n",
    "grouped = utils.implodeDataFrame(joined, [\"description_id\"]).reset_index()\n",
    "grouped.head()"
   ]
  },
  {
   "cell_type": "markdown",
   "metadata": {},
   "source": [
    "Flatten the lists of values in the column of Linguistic label predictions and remove duplicates from the lists:"
   ]
  },
  {
   "cell_type": "code",
   "execution_count": 10,
   "metadata": {},
   "outputs": [],
   "source": [
    "ling = utils1.flattenFeatureCol(grouped, feature_col1)\n",
    "# ling[:10]"
   ]
  },
  {
   "cell_type": "code",
   "execution_count": 11,
   "metadata": {},
   "outputs": [],
   "source": [
    "grouped.insert(len(grouped.columns), \"doc_\"+feature_col1, ling)\n",
    "# grouped.head()"
   ]
  },
  {
   "cell_type": "markdown",
   "metadata": {},
   "source": [
    "Join the Linguistic feature column to the document classification model data:"
   ]
  },
  {
   "cell_type": "code",
   "execution_count": 12,
   "metadata": {},
   "outputs": [
    {
     "data": {
      "text/html": [
       "<div>\n",
       "<style scoped>\n",
       "    .dataframe tbody tr th:only-of-type {\n",
       "        vertical-align: middle;\n",
       "    }\n",
       "\n",
       "    .dataframe tbody tr th {\n",
       "        vertical-align: top;\n",
       "    }\n",
       "\n",
       "    .dataframe thead th {\n",
       "        text-align: right;\n",
       "    }\n",
       "</style>\n",
       "<table border=\"1\" class=\"dataframe\">\n",
       "  <thead>\n",
       "    <tr style=\"text-align: right;\">\n",
       "      <th></th>\n",
       "      <th>description_id</th>\n",
       "      <th>start_offset</th>\n",
       "      <th>end_offset</th>\n",
       "      <th>field</th>\n",
       "      <th>description</th>\n",
       "      <th>label</th>\n",
       "      <th>fold</th>\n",
       "      <th>doc_ling_predicted</th>\n",
       "    </tr>\n",
       "  </thead>\n",
       "  <tbody>\n",
       "    <tr>\n",
       "      <th>5163</th>\n",
       "      <td>1</td>\n",
       "      <td>17</td>\n",
       "      <td>76</td>\n",
       "      <td>Title</td>\n",
       "      <td>Papers of The Very Rev Prof James Whyte (1920-...</td>\n",
       "      <td>[Stereotype]</td>\n",
       "      <td>split2</td>\n",
       "      <td>[]</td>\n",
       "    </tr>\n",
       "    <tr>\n",
       "      <th>11541</th>\n",
       "      <td>2</td>\n",
       "      <td>77</td>\n",
       "      <td>633</td>\n",
       "      <td>Scope and Contents</td>\n",
       "      <td>Sermons and addresses, 1948-1996; lectures, 19...</td>\n",
       "      <td>[]</td>\n",
       "      <td>split3</td>\n",
       "      <td>[]</td>\n",
       "    </tr>\n",
       "    <tr>\n",
       "      <th>277</th>\n",
       "      <td>3</td>\n",
       "      <td>634</td>\n",
       "      <td>1725</td>\n",
       "      <td>Biographical / Historical</td>\n",
       "      <td>Professor James Aitken White was a leading Sco...</td>\n",
       "      <td>[Stereotype]</td>\n",
       "      <td>split4</td>\n",
       "      <td>[Gendered-Pronoun]</td>\n",
       "    </tr>\n",
       "    <tr>\n",
       "      <th>19301</th>\n",
       "      <td>5</td>\n",
       "      <td>17</td>\n",
       "      <td>60</td>\n",
       "      <td>Title</td>\n",
       "      <td>Papers of Rev Tom Allan (1916-1965)</td>\n",
       "      <td>[]</td>\n",
       "      <td>split1</td>\n",
       "      <td>[]</td>\n",
       "    </tr>\n",
       "    <tr>\n",
       "      <th>21645</th>\n",
       "      <td>6</td>\n",
       "      <td>61</td>\n",
       "      <td>560</td>\n",
       "      <td>Scope and Contents</td>\n",
       "      <td>Sermons and addresses, 1947-1963; essays and l...</td>\n",
       "      <td>[]</td>\n",
       "      <td>split3</td>\n",
       "      <td>[]</td>\n",
       "    </tr>\n",
       "  </tbody>\n",
       "</table>\n",
       "</div>"
      ],
      "text/plain": [
       "       description_id  start_offset  end_offset                      field  \\\n",
       "5163                1            17          76                      Title   \n",
       "11541               2            77         633         Scope and Contents   \n",
       "277                 3           634        1725  Biographical / Historical   \n",
       "19301               5            17          60                      Title   \n",
       "21645               6            61         560         Scope and Contents   \n",
       "\n",
       "                                             description         label  \\\n",
       "5163   Papers of The Very Rev Prof James Whyte (1920-...  [Stereotype]   \n",
       "11541  Sermons and addresses, 1948-1996; lectures, 19...            []   \n",
       "277    Professor James Aitken White was a leading Sco...  [Stereotype]   \n",
       "19301                Papers of Rev Tom Allan (1916-1965)            []   \n",
       "21645  Sermons and addresses, 1947-1963; essays and l...            []   \n",
       "\n",
       "         fold  doc_ling_predicted  \n",
       "5163   split2                  []  \n",
       "11541  split3                  []  \n",
       "277    split4  [Gendered-Pronoun]  \n",
       "19301  split1                  []  \n",
       "21645  split3                  []  "
      ]
     },
     "execution_count": 12,
     "metadata": {},
     "output_type": "execute_result"
    }
   ],
   "source": [
    "features = grouped[[\"description_id\", \"doc_\"+feature_col1]]\n",
    "join_on = \"description_id\"\n",
    "df = df_exp.join(features.set_index(join_on), on=join_on)\n",
    "df = df.loc[~df.description.isna()]\n",
    "df = df.sort_values(by=\"description_id\")\n",
    "df.head()"
   ]
  },
  {
   "cell_type": "markdown",
   "metadata": {},
   "source": [
    "Replace `NaN` values in last column with an empty list:"
   ]
  },
  {
   "cell_type": "code",
   "execution_count": 13,
   "metadata": {},
   "outputs": [
    {
     "data": {
      "text/html": [
       "<div>\n",
       "<style scoped>\n",
       "    .dataframe tbody tr th:only-of-type {\n",
       "        vertical-align: middle;\n",
       "    }\n",
       "\n",
       "    .dataframe tbody tr th {\n",
       "        vertical-align: top;\n",
       "    }\n",
       "\n",
       "    .dataframe thead th {\n",
       "        text-align: right;\n",
       "    }\n",
       "</style>\n",
       "<table border=\"1\" class=\"dataframe\">\n",
       "  <thead>\n",
       "    <tr style=\"text-align: right;\">\n",
       "      <th></th>\n",
       "      <th>description_id</th>\n",
       "      <th>start_offset</th>\n",
       "      <th>end_offset</th>\n",
       "      <th>field</th>\n",
       "      <th>description</th>\n",
       "      <th>label</th>\n",
       "      <th>fold</th>\n",
       "      <th>doc_ling_predicted</th>\n",
       "    </tr>\n",
       "  </thead>\n",
       "  <tbody>\n",
       "    <tr>\n",
       "      <th>5163</th>\n",
       "      <td>1</td>\n",
       "      <td>17</td>\n",
       "      <td>76</td>\n",
       "      <td>Title</td>\n",
       "      <td>Papers of The Very Rev Prof James Whyte (1920-...</td>\n",
       "      <td>[Stereotype]</td>\n",
       "      <td>split2</td>\n",
       "      <td>[]</td>\n",
       "    </tr>\n",
       "    <tr>\n",
       "      <th>11541</th>\n",
       "      <td>2</td>\n",
       "      <td>77</td>\n",
       "      <td>633</td>\n",
       "      <td>Scope and Contents</td>\n",
       "      <td>Sermons and addresses, 1948-1996; lectures, 19...</td>\n",
       "      <td>[]</td>\n",
       "      <td>split3</td>\n",
       "      <td>[]</td>\n",
       "    </tr>\n",
       "    <tr>\n",
       "      <th>277</th>\n",
       "      <td>3</td>\n",
       "      <td>634</td>\n",
       "      <td>1725</td>\n",
       "      <td>Biographical / Historical</td>\n",
       "      <td>Professor James Aitken White was a leading Sco...</td>\n",
       "      <td>[Stereotype]</td>\n",
       "      <td>split4</td>\n",
       "      <td>[Gendered-Pronoun]</td>\n",
       "    </tr>\n",
       "    <tr>\n",
       "      <th>19301</th>\n",
       "      <td>5</td>\n",
       "      <td>17</td>\n",
       "      <td>60</td>\n",
       "      <td>Title</td>\n",
       "      <td>Papers of Rev Tom Allan (1916-1965)</td>\n",
       "      <td>[]</td>\n",
       "      <td>split1</td>\n",
       "      <td>[]</td>\n",
       "    </tr>\n",
       "    <tr>\n",
       "      <th>21645</th>\n",
       "      <td>6</td>\n",
       "      <td>61</td>\n",
       "      <td>560</td>\n",
       "      <td>Scope and Contents</td>\n",
       "      <td>Sermons and addresses, 1947-1963; essays and l...</td>\n",
       "      <td>[]</td>\n",
       "      <td>split3</td>\n",
       "      <td>[]</td>\n",
       "    </tr>\n",
       "  </tbody>\n",
       "</table>\n",
       "</div>"
      ],
      "text/plain": [
       "       description_id  start_offset  end_offset                      field  \\\n",
       "5163                1            17          76                      Title   \n",
       "11541               2            77         633         Scope and Contents   \n",
       "277                 3           634        1725  Biographical / Historical   \n",
       "19301               5            17          60                      Title   \n",
       "21645               6            61         560         Scope and Contents   \n",
       "\n",
       "                                             description         label  \\\n",
       "5163   Papers of The Very Rev Prof James Whyte (1920-...  [Stereotype]   \n",
       "11541  Sermons and addresses, 1948-1996; lectures, 19...            []   \n",
       "277    Professor James Aitken White was a leading Sco...  [Stereotype]   \n",
       "19301                Papers of Rev Tom Allan (1916-1965)            []   \n",
       "21645  Sermons and addresses, 1947-1963; essays and l...            []   \n",
       "\n",
       "         fold  doc_ling_predicted  \n",
       "5163   split2                  []  \n",
       "11541  split3                  []  \n",
       "277    split4  [Gendered-Pronoun]  \n",
       "19301  split1                  []  \n",
       "21645  split3                  []  "
      ]
     },
     "execution_count": 13,
     "metadata": {},
     "output_type": "execute_result"
    }
   ],
   "source": [
    "doc_ling = list(df[\"doc_\"+feature_col1])\n",
    "new_doc_ling = [values if type(values)==list else [] for values in doc_ling]\n",
    "# new_doc_ling[:5]  # Looks good\n",
    "df[\"doc_\"+feature_col1] = new_doc_ling\n",
    "df.head()"
   ]
  },
  {
   "cell_type": "markdown",
   "metadata": {},
   "source": [
    "Define the train (80% of the data) and test (20% of the data) splits:"
   ]
  },
  {
   "cell_type": "code",
   "execution_count": 14,
   "metadata": {},
   "outputs": [
    {
     "name": "stdout",
     "output_type": "stream",
     "text": [
      "['split0' 'split1' 'split2' 'split3' 'split4']\n",
      "(['split0', 'split1', 'split2', 'split3'], 'split4')\n",
      "(['split1', 'split2', 'split3', 'split4'], 'split0')\n",
      "(['split2', 'split3', 'split4', 'split0'], 'split1')\n",
      "(['split3', 'split4', 'split0', 'split1'], 'split2')\n",
      "(['split4', 'split0', 'split1', 'split2'], 'split3')\n"
     ]
    }
   ],
   "source": [
    "split_col = \"fold\"\n",
    "splits = df[split_col].unique()\n",
    "splits.sort()\n",
    "print(splits)\n",
    "train0, test0 = list(splits[:4]), splits[4]\n",
    "train1, test1 = list(splits[1:]), splits[0]\n",
    "train2, test2 = list(splits[2:])+[splits[0]], splits[1]\n",
    "train3, test3 = list(splits[3:])+list(splits[:2]), splits[2]\n",
    "train4, test4 = [splits[4]]+list(splits[:3]), splits[3]\n",
    "runs = [(train0, test0), (train1, test1), (train2, test2), (train3, test3), (train4, test4)]\n",
    "for run in runs:\n",
    "    print(run)"
   ]
  },
  {
   "cell_type": "code",
   "execution_count": 15,
   "metadata": {},
   "outputs": [],
   "source": [
    "def binarizeMultilabelTrainColumn(df_col):\n",
    "    mlb = MultiLabelBinarizer()\n",
    "    binarized = mlb.fit_transform(df_col)\n",
    "    return mlb, binarized\n",
    "\n",
    "def binarizeMultilabelDevColumn(mlb, df_col):\n",
    "    binarized = mlb.transform(df_col)\n",
    "    return binarized"
   ]
  },
  {
   "cell_type": "markdown",
   "metadata": {},
   "source": [
    "<a id=\"tp\"></a>\n",
    "### Train & Predict"
   ]
  },
  {
   "cell_type": "code",
   "execution_count": 16,
   "metadata": {},
   "outputs": [],
   "source": [
    "a = \"sgd-svm\""
   ]
  },
  {
   "cell_type": "code",
   "execution_count": 17,
   "metadata": {},
   "outputs": [
    {
     "name": "stdout",
     "output_type": "stream",
     "text": [
      "Training on: ['split0', 'split1', 'split2', 'split3']\n",
      "Predicting on: split4\n",
      "Training on: ['split1', 'split2', 'split3', 'split4']\n",
      "Predicting on: split0\n",
      "Training on: ['split2', 'split3', 'split4', 'split0']\n",
      "Predicting on: split1\n",
      "Training on: ['split3', 'split4', 'split0', 'split1']\n",
      "Predicting on: split2\n",
      "Training on: ['split4', 'split0', 'split1', 'split2']\n",
      "Predicting on: split3\n",
      "Modified 5-fold cross-validation complete!\n",
      "(27312, 9)\n"
     ]
    }
   ],
   "source": [
    "pred_df = pd.DataFrame()\n",
    "target_col = \"label\"\n",
    "feat_col = \"doc_ling_predicted\"  #\"doc_ling_expected\"\n",
    "for run in runs:\n",
    "    # Get the train (80%) and test (20%) subsets of data\n",
    "    train_splits, test_split = run[0], run[1]\n",
    "    print(\"Training on:\", train_splits)\n",
    "    train_df = df.loc[df[split_col].isin(train_splits)]\n",
    "    dev_df = df.loc[df[split_col] == test_split]\n",
    "    \n",
    "    # Binarize the features\n",
    "    mlb_feat, train_feat = binarizeMultilabelTrainColumn(train_df[feat_col])\n",
    "    dev_feat = binarizeMultilabelDevColumn(mlb_feat, dev_df[feat_col])\n",
    "    \n",
    "    # Vectorize the documents (descriptions)\n",
    "    cvectorizer = CountVectorizer()\n",
    "    tfidf = TfidfTransformer()\n",
    "    train_docs = cvectorizer.fit_transform(train_df[\"description\"])\n",
    "    dev_docs = cvectorizer.transform(dev_df[\"description\"])\n",
    "    train_docs = tfidf.fit_transform(train_docs)\n",
    "    dev_docs = tfidf.transform(dev_docs)\n",
    "    \n",
    "    # Concatenate the features and documents\n",
    "    X_train = scipy.sparse.hstack([train_docs, train_feat])\n",
    "    X_dev = scipy.sparse.hstack([dev_docs, dev_feat])\n",
    "    \n",
    "    # Binarize targets\n",
    "    mlb_target, y_train = binarizeMultilabelTrainColumn(train_df[\"label\"])\n",
    "    y_dev = binarizeMultilabelDevColumn(mlb_target, dev_df[\"label\"])\n",
    "\n",
    "    # Train a classification model\n",
    "    clf = OneVsRestClassifier(SGDClassifier(loss=\"hinge\"))  # Support Vector Machines loss function\n",
    "    clf.fit(X_train, y_train)\n",
    "    \n",
    "    # Predict with the trained model\n",
    "    print(\"Predicting on:\", test_split)\n",
    "    predictions = clf.predict(X_dev)\n",
    "    pred_labels = mlb_target.inverse_transform(predictions)    \n",
    "    if pred_df.shape[0] > 0:\n",
    "        next_pred_df = dev_df.copy()\n",
    "        next_pred_df.insert(len(next_pred_df.columns), \"{}_label\".format(a), pred_labels)\n",
    "        pred_df = pd.concat([pred_df, next_pred_df])\n",
    "    else:\n",
    "        pred_df = dev_df.copy()\n",
    "        pred_df.insert(len(pred_df.columns), \"{}_label\".format(a), pred_labels)\n",
    "\n",
    "print(\"Modified 5-fold cross-validation complete!\")\n",
    "print(pred_df.shape)"
   ]
  },
  {
   "cell_type": "code",
   "execution_count": 18,
   "metadata": {},
   "outputs": [
    {
     "data": {
      "text/html": [
       "<div>\n",
       "<style scoped>\n",
       "    .dataframe tbody tr th:only-of-type {\n",
       "        vertical-align: middle;\n",
       "    }\n",
       "\n",
       "    .dataframe tbody tr th {\n",
       "        vertical-align: top;\n",
       "    }\n",
       "\n",
       "    .dataframe thead th {\n",
       "        text-align: right;\n",
       "    }\n",
       "</style>\n",
       "<table border=\"1\" class=\"dataframe\">\n",
       "  <thead>\n",
       "    <tr style=\"text-align: right;\">\n",
       "      <th></th>\n",
       "      <th>description_id</th>\n",
       "      <th>start_offset</th>\n",
       "      <th>end_offset</th>\n",
       "      <th>field</th>\n",
       "      <th>description</th>\n",
       "      <th>manual_label</th>\n",
       "      <th>fold</th>\n",
       "      <th>doc_ling_predicted</th>\n",
       "      <th>sgd-svm_label</th>\n",
       "    </tr>\n",
       "  </thead>\n",
       "  <tbody>\n",
       "    <tr>\n",
       "      <th>277</th>\n",
       "      <td>3</td>\n",
       "      <td>634</td>\n",
       "      <td>1725</td>\n",
       "      <td>Biographical / Historical</td>\n",
       "      <td>Professor James Aitken White was a leading Sco...</td>\n",
       "      <td>[Stereotype]</td>\n",
       "      <td>split4</td>\n",
       "      <td>[Gendered-Pronoun]</td>\n",
       "      <td>(Stereotype,)</td>\n",
       "    </tr>\n",
       "    <tr>\n",
       "      <th>20188</th>\n",
       "      <td>10</td>\n",
       "      <td>77</td>\n",
       "      <td>417</td>\n",
       "      <td>Scope and Contents</td>\n",
       "      <td>Academic papers, 1942-1986; publications and a...</td>\n",
       "      <td>[]</td>\n",
       "      <td>split4</td>\n",
       "      <td>[]</td>\n",
       "      <td>(,)</td>\n",
       "    </tr>\n",
       "    <tr>\n",
       "      <th>6748</th>\n",
       "      <td>19</td>\n",
       "      <td>268</td>\n",
       "      <td>294</td>\n",
       "      <td>Title</td>\n",
       "      <td>Commonplace Book 2</td>\n",
       "      <td>[]</td>\n",
       "      <td>split4</td>\n",
       "      <td>[]</td>\n",
       "      <td>(,)</td>\n",
       "    </tr>\n",
       "    <tr>\n",
       "      <th>24617</th>\n",
       "      <td>28</td>\n",
       "      <td>540</td>\n",
       "      <td>556</td>\n",
       "      <td>Title</td>\n",
       "      <td>Notebook</td>\n",
       "      <td>[]</td>\n",
       "      <td>split4</td>\n",
       "      <td>[]</td>\n",
       "      <td>(,)</td>\n",
       "    </tr>\n",
       "    <tr>\n",
       "      <th>6873</th>\n",
       "      <td>30</td>\n",
       "      <td>581</td>\n",
       "      <td>609</td>\n",
       "      <td>Title</td>\n",
       "      <td>Poems and quotations</td>\n",
       "      <td>[]</td>\n",
       "      <td>split4</td>\n",
       "      <td>[]</td>\n",
       "      <td>(,)</td>\n",
       "    </tr>\n",
       "  </tbody>\n",
       "</table>\n",
       "</div>"
      ],
      "text/plain": [
       "       description_id  start_offset  end_offset                      field  \\\n",
       "277                 3           634        1725  Biographical / Historical   \n",
       "20188              10            77         417         Scope and Contents   \n",
       "6748               19           268         294                      Title   \n",
       "24617              28           540         556                      Title   \n",
       "6873               30           581         609                      Title   \n",
       "\n",
       "                                             description  manual_label  \\\n",
       "277    Professor James Aitken White was a leading Sco...  [Stereotype]   \n",
       "20188  Academic papers, 1942-1986; publications and a...            []   \n",
       "6748                                  Commonplace Book 2            []   \n",
       "24617                                           Notebook            []   \n",
       "6873                                Poems and quotations            []   \n",
       "\n",
       "         fold  doc_ling_predicted  sgd-svm_label  \n",
       "277    split4  [Gendered-Pronoun]  (Stereotype,)  \n",
       "20188  split4                  []            (,)  \n",
       "6748   split4                  []            (,)  \n",
       "24617  split4                  []            (,)  \n",
       "6873   split4                  []            (,)  "
      ]
     },
     "execution_count": 18,
     "metadata": {},
     "output_type": "execute_result"
    }
   ],
   "source": [
    "pred_df = pred_df.rename(columns={\"label\":\"manual_label\"})\n",
    "pred_df.head()"
   ]
  },
  {
   "cell_type": "markdown",
   "metadata": {},
   "source": [
    "Save the predictions data:"
   ]
  },
  {
   "cell_type": "code",
   "execution_count": 19,
   "metadata": {},
   "outputs": [],
   "source": [
    "pred_df.to_csv(predictions_dir+\"aggregated_final_validate_predictions_docclf_{a}_{t}.csv\".format(a=a, t=target_labels))"
   ]
  },
  {
   "cell_type": "markdown",
   "metadata": {},
   "source": [
    "Save the model:"
   ]
  },
  {
   "cell_type": "code",
   "execution_count": 20,
   "metadata": {},
   "outputs": [
    {
     "data": {
      "text/plain": [
       "['models/experiment2/sgd-svm_F-tfidf_T-so.joblib']"
      ]
     },
     "execution_count": 20,
     "metadata": {},
     "output_type": "execute_result"
    }
   ],
   "source": [
    "model_dir = \"models/experiment2/\"\n",
    "Path(model_dir).mkdir(parents=True, exist_ok=True)\n",
    "filename = model_dir+\"sgd-svm_F-tfidf_T-so.joblib\"\n",
    "dump(clf, filename)"
   ]
  },
  {
   "cell_type": "markdown",
   "metadata": {
    "tags": []
   },
   "source": [
    "<a id=\"eval\"></a>\n",
    "### Evaluate\n",
    "\n",
    "Calculate performance metrics for the Stochastic Gradient Descent classifier"
   ]
  },
  {
   "cell_type": "code",
   "execution_count": 21,
   "metadata": {
    "tags": []
   },
   "outputs": [
    {
     "name": "stdout",
     "output_type": "stream",
     "text": [
      "[0 1 2]\n",
      "['' 'Omission' 'Stereotype']\n"
     ]
    }
   ],
   "source": [
    "classes = clf.classes_  #doc_clf.classes_\n",
    "print(classes)\n",
    "original_classes = mlb_target.classes_\n",
    "print(original_classes)\n",
    "label_dict = dict(zip(original_classes, classes))"
   ]
  },
  {
   "cell_type": "markdown",
   "metadata": {
    "tags": []
   },
   "source": [
    "Create a [confusion matrix](https://scikit-learn.org/stable/modules/model_evaluation.html#multilabel-confusion-matrix) of the results, where, for class *i*:\n",
    "* Count of true negatives (TN) is at position *i*,0,0\n",
    "* Count of false negatives (FN) is at position *i*,1,0\n",
    "* Count of true positives (FP) is at position *i*,1,1\n",
    "* Count of false positives (PF) is at position *i*,0,1"
   ]
  },
  {
   "cell_type": "code",
   "execution_count": 22,
   "metadata": {},
   "outputs": [],
   "source": [
    "y_dev = binarizeMultilabelDevColumn(mlb_target, pred_df[\"manual_label\"])\n",
    "predictions = mlb_target.transform(pred_df[\"{}_label\".format(a)])\n",
    "assert len(y_dev) == len(predictions)"
   ]
  },
  {
   "cell_type": "code",
   "execution_count": 23,
   "metadata": {
    "tags": []
   },
   "outputs": [],
   "source": [
    "matrix = multilabel_confusion_matrix(y_dev, predictions, labels=classes)"
   ]
  },
  {
   "cell_type": "code",
   "execution_count": 24,
   "metadata": {},
   "outputs": [
    {
     "data": {
      "text/html": [
       "<div>\n",
       "<style scoped>\n",
       "    .dataframe tbody tr th:only-of-type {\n",
       "        vertical-align: middle;\n",
       "    }\n",
       "\n",
       "    .dataframe tbody tr th {\n",
       "        vertical-align: top;\n",
       "    }\n",
       "\n",
       "    .dataframe thead th {\n",
       "        text-align: right;\n",
       "    }\n",
       "</style>\n",
       "<table border=\"1\" class=\"dataframe\">\n",
       "  <thead>\n",
       "    <tr style=\"text-align: right;\">\n",
       "      <th></th>\n",
       "      <th>labels</th>\n",
       "      <th>false_neg</th>\n",
       "      <th>true_pos</th>\n",
       "      <th>false_pos</th>\n",
       "      <th>precision</th>\n",
       "      <th>recall</th>\n",
       "      <th>f_1</th>\n",
       "    </tr>\n",
       "  </thead>\n",
       "  <tbody>\n",
       "    <tr>\n",
       "      <th>1</th>\n",
       "      <td>Omission</td>\n",
       "      <td>1717</td>\n",
       "      <td>2315</td>\n",
       "      <td>450</td>\n",
       "      <td>0.837251</td>\n",
       "      <td>0.574157</td>\n",
       "      <td>0.681183</td>\n",
       "    </tr>\n",
       "    <tr>\n",
       "      <th>2</th>\n",
       "      <td>Stereotype</td>\n",
       "      <td>394</td>\n",
       "      <td>1207</td>\n",
       "      <td>76</td>\n",
       "      <td>0.940764</td>\n",
       "      <td>0.753904</td>\n",
       "      <td>0.837032</td>\n",
       "    </tr>\n",
       "  </tbody>\n",
       "</table>\n",
       "</div>"
      ],
      "text/plain": [
       "       labels  false_neg  true_pos  false_pos  precision    recall       f_1\n",
       "1    Omission       1717      2315        450   0.837251  0.574157  0.681183\n",
       "2  Stereotype        394      1207         76   0.940764  0.753904  0.837032"
      ]
     },
     "execution_count": 24,
     "metadata": {},
     "output_type": "execute_result"
    }
   ],
   "source": [
    "scores = utils.getPerformanceMetrics(y_dev, predictions, matrix, classes, original_classes, label_dict)\n",
    "scores = scores.tail(2) # Remove row for 'None'\n",
    "scores = scores.drop(columns=\"true_neg\")  # Not accurate because considers 'None' a class\n",
    "scores[\"labels\"] = original_classes[1:]\n",
    "scores"
   ]
  },
  {
   "cell_type": "markdown",
   "metadata": {},
   "source": [
    "Save the performance results:"
   ]
  },
  {
   "cell_type": "code",
   "execution_count": 25,
   "metadata": {
    "tags": []
   },
   "outputs": [],
   "source": [
    "scores.to_csv(agreement_dir+\"docclf_{a}_{t}_baseline_performance.csv\".format(a=a, t=target_labels))"
   ]
  }
 ],
 "metadata": {
  "kernelspec": {
   "display_name": "gender-bias",
   "language": "python",
   "name": "gender-bias"
  },
  "language_info": {
   "codemirror_mode": {
    "name": "ipython",
    "version": 3
   },
   "file_extension": ".py",
   "mimetype": "text/x-python",
   "name": "python",
   "nbconvert_exporter": "python",
   "pygments_lexer": "ipython3",
   "version": "3.9.13"
  }
 },
 "nbformat": 4,
 "nbformat_minor": 4
}

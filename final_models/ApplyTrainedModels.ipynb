{
 "cells": [
  {
   "cell_type": "markdown",
   "id": "2620f5d3-7e3f-40c0-b228-133985206342",
   "metadata": {},
   "source": [
    "# Apply Trained Models to External Data\n",
    "\n",
    "### Table of Contents\n",
    "\n",
    "**I. Preprocessing**\n",
    "* Select descriptions to include as input text for gender biased text classification\n",
    "* Tokenize the text\n",
    "\n",
    "**II. Feature Extraction**\n",
    "* Represent tokens as word embeddings with the custom FastText word embedding model\n",
    "* Represent descriptions as TFIDF matrices\n",
    "\n",
    "**III. Classification**\n",
    "* Linguistic Classifier > Stereotype & Omission Classifier (Cascade 2)\n",
    "* Stereotype & Omission Classifier (Baseline)\n",
    "* Gendered Pronoun & Gendered Role Classifier > Stereotype & Omission Classifier\n",
    "* Person & Occupation Classifier > Stereotype & Omission Classifier"
   ]
  },
  {
   "cell_type": "markdown",
   "id": "c88b9a26-d012-4a19-bbb2-0ddd8f7a11bb",
   "metadata": {},
   "source": [
    "Import programming libraries:"
   ]
  },
  {
   "cell_type": "code",
   "execution_count": 1,
   "id": "6321358c-2015-41a4-82ad-5c999323018f",
   "metadata": {},
   "outputs": [],
   "source": [
    "# Custom filepaths and functions\n",
    "import config, utils\n",
    "\n",
    "# Libraries for data, file, and model loading\n",
    "import pandas as pd\n",
    "import joblib\n",
    "import os, re\n",
    "import numpy as np\n",
    "\n",
    "# Libraries for classification\n",
    "import sklearn.metrics\n",
    "from skmultilearn.problem_transform import ClassifierChain\n",
    "from sklearn.ensemble import RandomForestClassifier\n",
    "from sklearn.multiclass import OneVsRestClassifier\n",
    "from sklearn.linear_model import SGDClassifier"
   ]
  },
  {
   "cell_type": "markdown",
   "id": "da678b67-df73-4cd2-bedc-b6b4a288377c",
   "metadata": {},
   "source": [
    "## I. Preprocessing"
   ]
  },
  {
   "cell_type": "markdown",
   "id": "ff843c63-55aa-455b-8865-688cb8d183df",
   "metadata": {},
   "source": [
    "Load the external data:"
   ]
  },
  {
   "cell_type": "code",
   "execution_count": 2,
   "id": "c97fe2c3-1912-4c76-872b-d7013334ed8c",
   "metadata": {},
   "outputs": [
    {
     "data": {
      "text/html": [
       "<div>\n",
       "<style scoped>\n",
       "    .dataframe tbody tr th:only-of-type {\n",
       "        vertical-align: middle;\n",
       "    }\n",
       "\n",
       "    .dataframe tbody tr th {\n",
       "        vertical-align: top;\n",
       "    }\n",
       "\n",
       "    .dataframe thead th {\n",
       "        text-align: right;\n",
       "    }\n",
       "</style>\n",
       "<table border=\"1\" class=\"dataframe\">\n",
       "  <thead>\n",
       "    <tr style=\"text-align: right;\">\n",
       "      <th></th>\n",
       "      <th>record_id</th>\n",
       "      <th>RecordType</th>\n",
       "      <th>AltRefNo</th>\n",
       "      <th>RefNo</th>\n",
       "      <th>Title</th>\n",
       "      <th>Original Date Field</th>\n",
       "      <th>Description</th>\n",
       "      <th>RelatedNameCode</th>\n",
       "      <th>Authority Type</th>\n",
       "      <th>Authority Name</th>\n",
       "    </tr>\n",
       "  </thead>\n",
       "  <tbody>\n",
       "    <tr>\n",
       "      <th>0</th>\n",
       "      <td>0</td>\n",
       "      <td>Photograph</td>\n",
       "      <td>TCD 263/MUS 1079</td>\n",
       "      <td>BTA/5 PH/7/MUS 1079</td>\n",
       "      <td>Wedding Greetings (General)</td>\n",
       "      <td>NaN</td>\n",
       "      <td>Image of telegram.</td>\n",
       "      <td>NaN</td>\n",
       "      <td>NaN</td>\n",
       "      <td>NaN</td>\n",
       "    </tr>\n",
       "    <tr>\n",
       "      <th>1</th>\n",
       "      <td>1</td>\n",
       "      <td>Photograph</td>\n",
       "      <td>TCD 263/MUS 1142</td>\n",
       "      <td>BTA/5 PH/7/MUS 1142</td>\n",
       "      <td>Baby (Blanket and tag design)</td>\n",
       "      <td>NaN</td>\n",
       "      <td>Image of telegram.</td>\n",
       "      <td>NaN</td>\n",
       "      <td>NaN</td>\n",
       "      <td>NaN</td>\n",
       "    </tr>\n",
       "  </tbody>\n",
       "</table>\n",
       "</div>"
      ],
      "text/plain": [
       "   record_id  RecordType          AltRefNo                RefNo  \\\n",
       "0          0  Photograph  TCD 263/MUS 1079  BTA/5 PH/7/MUS 1079   \n",
       "1          1  Photograph  TCD 263/MUS 1142  BTA/5 PH/7/MUS 1142   \n",
       "\n",
       "                           Title Original Date Field         Description  \\\n",
       "0    Wedding Greetings (General)                 NaN  Image of telegram.   \n",
       "1  Baby (Blanket and tag design)                 NaN  Image of telegram.   \n",
       "\n",
       "  RelatedNameCode Authority Type Authority Name  \n",
       "0             NaN            NaN            NaN  \n",
       "1             NaN            NaN            NaN  "
      ]
     },
     "execution_count": 2,
     "metadata": {},
     "output_type": "execute_result"
    }
   ],
   "source": [
    "df = utils.loadCSVData(\"../data/congruence_engine/BT_sample.csv\", False)\n",
    "df.head(2)"
   ]
  },
  {
   "cell_type": "code",
   "execution_count": 3,
   "id": "be1de069-60fa-4806-baab-67f83f7efaf1",
   "metadata": {},
   "outputs": [],
   "source": [
    "text_cols = [\"Title\", \"Description\"]"
   ]
  },
  {
   "cell_type": "code",
   "execution_count": 4,
   "id": "61d81c5a-38fa-451c-878b-6a309d180717",
   "metadata": {},
   "outputs": [
    {
     "data": {
      "text/html": [
       "<div>\n",
       "<style scoped>\n",
       "    .dataframe tbody tr th:only-of-type {\n",
       "        vertical-align: middle;\n",
       "    }\n",
       "\n",
       "    .dataframe tbody tr th {\n",
       "        vertical-align: top;\n",
       "    }\n",
       "\n",
       "    .dataframe thead th {\n",
       "        text-align: right;\n",
       "    }\n",
       "</style>\n",
       "<table border=\"1\" class=\"dataframe\">\n",
       "  <thead>\n",
       "    <tr style=\"text-align: right;\">\n",
       "      <th></th>\n",
       "      <th>record_id</th>\n",
       "      <th>token_id</th>\n",
       "      <th>token</th>\n",
       "    </tr>\n",
       "  </thead>\n",
       "  <tbody>\n",
       "    <tr>\n",
       "      <th>133</th>\n",
       "      <td>137</td>\n",
       "      <td>1737</td>\n",
       "      <td>.</td>\n",
       "    </tr>\n",
       "    <tr>\n",
       "      <th>134</th>\n",
       "      <td>138</td>\n",
       "      <td>1738</td>\n",
       "      <td>Telephone</td>\n",
       "    </tr>\n",
       "    <tr>\n",
       "      <th>134</th>\n",
       "      <td>138</td>\n",
       "      <td>1739</td>\n",
       "      <td>number</td>\n",
       "    </tr>\n",
       "    <tr>\n",
       "      <th>134</th>\n",
       "      <td>138</td>\n",
       "      <td>1740</td>\n",
       "      <td>46</td>\n",
       "    </tr>\n",
       "    <tr>\n",
       "      <th>134</th>\n",
       "      <td>138</td>\n",
       "      <td>1741</td>\n",
       "      <td>.</td>\n",
       "    </tr>\n",
       "  </tbody>\n",
       "</table>\n",
       "</div>"
      ],
      "text/plain": [
       "     record_id token_id      token\n",
       "133        137     1737          .\n",
       "134        138     1738  Telephone\n",
       "134        138     1739     number\n",
       "134        138     1740         46\n",
       "134        138     1741          ."
      ]
     },
     "execution_count": 4,
     "metadata": {},
     "output_type": "execute_result"
    }
   ],
   "source": [
    "token_df = utils.getTokenDF(df, text_cols)\n",
    "token_df.tail()"
   ]
  },
  {
   "cell_type": "markdown",
   "id": "855af902-6d34-4d42-b3d5-d00e5ec10ef6",
   "metadata": {},
   "source": [
    "## II. Feature Extraction"
   ]
  },
  {
   "cell_type": "code",
   "execution_count": 5,
   "id": "9fbd4456-5004-4dcf-97c2-f8b0d416327a",
   "metadata": {},
   "outputs": [
    {
     "name": "stdout",
     "output_type": "stream",
     "text": [
      "['Gendered-Pronoun' 'Gendered-Role' 'Generalization']\n"
     ]
    }
   ],
   "source": [
    "print(utils.mlb_ling.classes_)  # The names of labels that this MultiLabelBinarizer represents as 0 or 1"
   ]
  },
  {
   "cell_type": "code",
   "execution_count": 6,
   "id": "38d2f63c-05f3-4dbf-b919-56495e77be7b",
   "metadata": {},
   "outputs": [
    {
     "name": "stdout",
     "output_type": "stream",
     "text": [
      "['Omission' 'Stereotype']\n"
     ]
    }
   ],
   "source": [
    "print(utils.mlb_so.classes_) # The names of labels that this MultiLabelBinarizer represents as 0 or 1"
   ]
  },
  {
   "cell_type": "code",
   "execution_count": null,
   "id": "8440f72c-8b7a-4fa7-ae43-bc750aff596f",
   "metadata": {},
   "outputs": [],
   "source": [
    "embedding_matrix = utils.getFeatures(token_df)"
   ]
  },
  {
   "cell_type": "code",
   "execution_count": 8,
   "id": "e88632a9-819d-4c4c-b1d0-f1be8f744d07",
   "metadata": {},
   "outputs": [],
   "source": [
    "tfidf_matrix = utils.docToTfidf(df, text_cols)"
   ]
  },
  {
   "cell_type": "markdown",
   "id": "33b3c0e4-0e8a-46b2-b6bd-7c85615a4e8c",
   "metadata": {},
   "source": [
    "## III. Classification"
   ]
  },
  {
   "cell_type": "markdown",
   "id": "6fa5e95b-040e-4c36-a140-5603b1095417",
   "metadata": {},
   "source": [
    "### Linguistic Classifier\n",
    "* Type: Multilabel token classification\n",
    "* Targets: Gendered Pronoun, Gendered Role, Generalization "
   ]
  },
  {
   "cell_type": "code",
   "execution_count": 9,
   "id": "e2863889-7cf8-4339-9044-fab9864e8380",
   "metadata": {},
   "outputs": [],
   "source": [
    "trained_ling_clf = joblib.load(config.models_path+\"multilabel_token/cc-rf_F-fasttext100_T-linglabels.joblib\")  # Load the Linguistic classifier"
   ]
  },
  {
   "cell_type": "code",
   "execution_count": 10,
   "id": "2fb2c8a4-fbd5-498d-9d1a-4fc493ef8bb2",
   "metadata": {},
   "outputs": [],
   "source": [
    "X = embedding_matrix\n",
    "y = trained_ling_clf.predict(X)  # Run the classifier"
   ]
  },
  {
   "cell_type": "code",
   "execution_count": 11,
   "id": "be005dde-ac34-42cb-bd7d-cebc14c0b7ca",
   "metadata": {},
   "outputs": [
    {
     "data": {
      "text/html": [
       "<div>\n",
       "<style scoped>\n",
       "    .dataframe tbody tr th:only-of-type {\n",
       "        vertical-align: middle;\n",
       "    }\n",
       "\n",
       "    .dataframe tbody tr th {\n",
       "        vertical-align: top;\n",
       "    }\n",
       "\n",
       "    .dataframe thead th {\n",
       "        text-align: right;\n",
       "    }\n",
       "</style>\n",
       "<table border=\"1\" class=\"dataframe\">\n",
       "  <thead>\n",
       "    <tr style=\"text-align: right;\">\n",
       "      <th></th>\n",
       "      <th>record_id</th>\n",
       "      <th>token_id</th>\n",
       "      <th>token</th>\n",
       "      <th>prediction</th>\n",
       "    </tr>\n",
       "  </thead>\n",
       "  <tbody>\n",
       "    <tr>\n",
       "      <th>0</th>\n",
       "      <td>0</td>\n",
       "      <td>0</td>\n",
       "      <td>Wedding</td>\n",
       "      <td>[]</td>\n",
       "    </tr>\n",
       "    <tr>\n",
       "      <th>0</th>\n",
       "      <td>0</td>\n",
       "      <td>1</td>\n",
       "      <td>Greetings</td>\n",
       "      <td>[]</td>\n",
       "    </tr>\n",
       "    <tr>\n",
       "      <th>0</th>\n",
       "      <td>0</td>\n",
       "      <td>2</td>\n",
       "      <td>(</td>\n",
       "      <td>[]</td>\n",
       "    </tr>\n",
       "    <tr>\n",
       "      <th>0</th>\n",
       "      <td>0</td>\n",
       "      <td>3</td>\n",
       "      <td>General</td>\n",
       "      <td>[]</td>\n",
       "    </tr>\n",
       "    <tr>\n",
       "      <th>0</th>\n",
       "      <td>0</td>\n",
       "      <td>4</td>\n",
       "      <td>)</td>\n",
       "      <td>[]</td>\n",
       "    </tr>\n",
       "  </tbody>\n",
       "</table>\n",
       "</div>"
      ],
      "text/plain": [
       "   record_id token_id      token prediction\n",
       "0          0        0    Wedding         []\n",
       "0          0        1  Greetings         []\n",
       "0          0        2          (         []\n",
       "0          0        3    General         []\n",
       "0          0        4          )         []"
      ]
     },
     "execution_count": 11,
     "metadata": {},
     "output_type": "execute_result"
    }
   ],
   "source": [
    "filepath = \"../data/congruence_engine/classifier_output/multilabel_linguistic/\"\n",
    "filename = \"BT_sample_linglabels.csv\"\n",
    "token_df = utils.exportClassifiedData(token_df, y, utils.mlb_ling, filepath, filename)\n",
    "token_df.head()"
   ]
  },
  {
   "cell_type": "code",
   "execution_count": 12,
   "id": "ce0cfeb9-84b4-44c3-9871-634d1605d4f3",
   "metadata": {},
   "outputs": [
    {
     "data": {
      "text/plain": [
       "[]                  1739\n",
       "[Gendered-Role]        2\n",
       "[Generalization]       1\n",
       "Name: prediction, dtype: int64"
      ]
     },
     "execution_count": 12,
     "metadata": {},
     "output_type": "execute_result"
    }
   ],
   "source": [
    "token_df[\"prediction\"].value_counts()"
   ]
  },
  {
   "cell_type": "code",
   "execution_count": null,
   "id": "0f0f5260-dcd4-4542-8569-aa38195215fd",
   "metadata": {},
   "outputs": [],
   "source": []
  },
  {
   "cell_type": "markdown",
   "id": "d6568d83-f333-4e72-b8ad-789cc1822fc2",
   "metadata": {},
   "source": [
    "### Omission and Stereotype Classifier\n",
    "* Type: multilabel document classification\n",
    "* Targets: Omission, Stereotype\n",
    "* Optional Features: labels assigned by the Linguistic Classifier"
   ]
  },
  {
   "cell_type": "code",
   "execution_count": 13,
   "id": "87437add-bb92-4f47-8c44-56c5a398cb64",
   "metadata": {},
   "outputs": [
    {
     "data": {
      "text/html": [
       "<div>\n",
       "<style scoped>\n",
       "    .dataframe tbody tr th:only-of-type {\n",
       "        vertical-align: middle;\n",
       "    }\n",
       "\n",
       "    .dataframe tbody tr th {\n",
       "        vertical-align: top;\n",
       "    }\n",
       "\n",
       "    .dataframe thead th {\n",
       "        text-align: right;\n",
       "    }\n",
       "</style>\n",
       "<table border=\"1\" class=\"dataframe\">\n",
       "  <thead>\n",
       "    <tr style=\"text-align: right;\">\n",
       "      <th></th>\n",
       "      <th>record_id</th>\n",
       "      <th>document_prediction</th>\n",
       "      <th>RecordType</th>\n",
       "      <th>AltRefNo</th>\n",
       "      <th>RefNo</th>\n",
       "      <th>Title</th>\n",
       "      <th>Original Date Field</th>\n",
       "      <th>Description</th>\n",
       "      <th>RelatedNameCode</th>\n",
       "      <th>Authority Type</th>\n",
       "      <th>Authority Name</th>\n",
       "    </tr>\n",
       "  </thead>\n",
       "  <tbody>\n",
       "    <tr>\n",
       "      <th>0.0</th>\n",
       "      <td>0</td>\n",
       "      <td>[]</td>\n",
       "      <td>Photograph</td>\n",
       "      <td>TCD 263/MUS 1079</td>\n",
       "      <td>BTA/5 PH/7/MUS 1079</td>\n",
       "      <td>Wedding Greetings (General)</td>\n",
       "      <td>NaN</td>\n",
       "      <td>Image of telegram.</td>\n",
       "      <td>NaN</td>\n",
       "      <td>NaN</td>\n",
       "      <td>NaN</td>\n",
       "    </tr>\n",
       "    <tr>\n",
       "      <th>1.0</th>\n",
       "      <td>1</td>\n",
       "      <td>[]</td>\n",
       "      <td>Photograph</td>\n",
       "      <td>TCD 263/MUS 1142</td>\n",
       "      <td>BTA/5 PH/7/MUS 1142</td>\n",
       "      <td>Baby (Blanket and tag design)</td>\n",
       "      <td>NaN</td>\n",
       "      <td>Image of telegram.</td>\n",
       "      <td>NaN</td>\n",
       "      <td>NaN</td>\n",
       "      <td>NaN</td>\n",
       "    </tr>\n",
       "    <tr>\n",
       "      <th>2.0</th>\n",
       "      <td>2</td>\n",
       "      <td>[]</td>\n",
       "      <td>Photograph</td>\n",
       "      <td>TCD 263/MUS 1075</td>\n",
       "      <td>BTA/5 PH/7/MUS 1075</td>\n",
       "      <td>Wedding (General Greeting)</td>\n",
       "      <td>NaN</td>\n",
       "      <td>Image of telegram.</td>\n",
       "      <td>NaN</td>\n",
       "      <td>NaN</td>\n",
       "      <td>NaN</td>\n",
       "    </tr>\n",
       "    <tr>\n",
       "      <th>3.0</th>\n",
       "      <td>3</td>\n",
       "      <td>[]</td>\n",
       "      <td>Photograph</td>\n",
       "      <td>TCD 263/MUS 977</td>\n",
       "      <td>BTA/5 PH/7/MUS 977</td>\n",
       "      <td>Ordinary</td>\n",
       "      <td>NaN</td>\n",
       "      <td>Designer/manufacturer: Perry</td>\n",
       "      <td>NaN</td>\n",
       "      <td>NaN</td>\n",
       "      <td>NaN</td>\n",
       "    </tr>\n",
       "    <tr>\n",
       "      <th>4.0</th>\n",
       "      <td>4</td>\n",
       "      <td>[Generalization]</td>\n",
       "      <td>Photograph</td>\n",
       "      <td>TCD 263/MUS 637</td>\n",
       "      <td>BTA/5 PH/7/MUS 637</td>\n",
       "      <td>Two girls sending telegraph message</td>\n",
       "      <td>c1910</td>\n",
       "      <td>NaN</td>\n",
       "      <td>NaN</td>\n",
       "      <td>NaN</td>\n",
       "      <td>NaN</td>\n",
       "    </tr>\n",
       "  </tbody>\n",
       "</table>\n",
       "</div>"
      ],
      "text/plain": [
       "     record_id document_prediction  RecordType          AltRefNo  \\\n",
       "0.0          0                  []  Photograph  TCD 263/MUS 1079   \n",
       "1.0          1                  []  Photograph  TCD 263/MUS 1142   \n",
       "2.0          2                  []  Photograph  TCD 263/MUS 1075   \n",
       "3.0          3                  []  Photograph   TCD 263/MUS 977   \n",
       "4.0          4    [Generalization]  Photograph   TCD 263/MUS 637   \n",
       "\n",
       "                   RefNo                                Title  \\\n",
       "0.0  BTA/5 PH/7/MUS 1079          Wedding Greetings (General)   \n",
       "1.0  BTA/5 PH/7/MUS 1142        Baby (Blanket and tag design)   \n",
       "2.0  BTA/5 PH/7/MUS 1075           Wedding (General Greeting)   \n",
       "3.0   BTA/5 PH/7/MUS 977                             Ordinary   \n",
       "4.0   BTA/5 PH/7/MUS 637  Two girls sending telegraph message   \n",
       "\n",
       "    Original Date Field                   Description RelatedNameCode  \\\n",
       "0.0                 NaN            Image of telegram.             NaN   \n",
       "1.0                 NaN            Image of telegram.             NaN   \n",
       "2.0                 NaN            Image of telegram.             NaN   \n",
       "3.0                 NaN  Designer/manufacturer: Perry             NaN   \n",
       "4.0               c1910                           NaN             NaN   \n",
       "\n",
       "    Authority Type Authority Name  \n",
       "0.0            NaN            NaN  \n",
       "1.0            NaN            NaN  \n",
       "2.0            NaN            NaN  \n",
       "3.0            NaN            NaN  \n",
       "4.0            NaN            NaN  "
      ]
     },
     "execution_count": 13,
     "metadata": {},
     "output_type": "execute_result"
    }
   ],
   "source": [
    "# If not using Linguistic Classifier's labels as features:\n",
    "# doc_df = df\n",
    "\n",
    "# If using Linguistic Classifier's labels as features:\n",
    "doc_df = utils.preprocessClassifiedDocs(df, token_df)\n",
    "doc_df.head()"
   ]
  },
  {
   "cell_type": "code",
   "execution_count": null,
   "id": "22653cb5-7681-4419-8624-4a324be9dfcd",
   "metadata": {},
   "outputs": [],
   "source": []
  },
  {
   "cell_type": "code",
   "execution_count": 30,
   "id": "d8072749-5852-4981-bb95-5ae00dcf1912",
   "metadata": {},
   "outputs": [],
   "source": [
    "trained_so_clf = joblib.load(config.models_path+\"multilabel_document/sgd-svm_F-tfidf-ling_T-so.joblib\")"
   ]
  },
  {
   "cell_type": "code",
   "execution_count": null,
   "id": "d1ac3beb-eb5f-4838-8904-6b3baebc99f5",
   "metadata": {},
   "outputs": [],
   "source": [
    "features = mlb_ling.transform(bt_clf[\"predicted_linguistic\"])"
   ]
  },
  {
   "cell_type": "code",
   "execution_count": 31,
   "id": "24a0ed2d-5f6c-40b4-8964-e3976f743426",
   "metadata": {},
   "outputs": [],
   "source": [
    "doc_col = \"Title\"\n",
    "bt_clf = bt_clf.fillna(\"\")\n",
    "vectorized = cvectorizer.transform(bt_clf[doc_col])\n",
    "docs = tfidf.transform(vectorized)"
   ]
  },
  {
   "cell_type": "code",
   "execution_count": 32,
   "id": "ee1fbe07-600a-4444-9daa-c02e18f15bd0",
   "metadata": {},
   "outputs": [],
   "source": [
    "X = scipy.sparse.hstack([docs, features])"
   ]
  },
  {
   "cell_type": "code",
   "execution_count": 33,
   "id": "01927463-de0a-499e-80ea-65a750b7185b",
   "metadata": {},
   "outputs": [],
   "source": [
    "y_pred = trained_so_clf.predict(X)"
   ]
  },
  {
   "cell_type": "code",
   "execution_count": 34,
   "id": "221af88d-7065-4d0d-a49b-71f9e27ac022",
   "metadata": {},
   "outputs": [
    {
     "name": "stdout",
     "output_type": "stream",
     "text": [
      "[(), (), (), (), (), ('Omission', 'Stereotype'), (), (), (), (), (), (), (), (), (), (), (), (), (), (), (), (), (), (), (), (), (), (), (), (), (), (), (), (), (), (), (), (), (), (), (), (), (), (), (), (), (), (), (), (), (), (), (), (), (), (), (), (), (), (), (), (), (), (), (), (), (), (), (), (), (), (), (), (), (), (), (), (), (), (), (), (), (), (), ('Stereotype',), (), (), (), (), (), (), (), (), (), (), (), (), (), (), ()]\n"
     ]
    }
   ],
   "source": [
    "pred_labels = mlb_so.inverse_transform(y_pred)\n",
    "print(pred_labels[:100])"
   ]
  },
  {
   "cell_type": "code",
   "execution_count": 35,
   "id": "03684344-077f-48bf-9d8c-c74ede09f9c4",
   "metadata": {},
   "outputs": [
    {
     "name": "stdout",
     "output_type": "stream",
     "text": [
      "[[], [], [], [], [], ['Omission', 'Stereotype'], [], [], [], [], [], [], [], [], [], [], [], [], [], [], [], [], [], [], [], [], [], [], [], [], [], [], [], [], [], [], [], [], [], [], [], [], [], [], [], [], [], [], [], [], [], [], [], [], [], [], [], [], [], [], [], [], [], [], [], [], [], [], [], [], [], [], [], [], [], [], [], [], [], [], [], [], [], [], ['Stereotype'], [], [], [], [], [], [], [], [], [], [], [], [], [], [], []]\n"
     ]
    },
    {
     "data": {
      "text/html": [
       "<div>\n",
       "<style scoped>\n",
       "    .dataframe tbody tr th:only-of-type {\n",
       "        vertical-align: middle;\n",
       "    }\n",
       "\n",
       "    .dataframe tbody tr th {\n",
       "        vertical-align: top;\n",
       "    }\n",
       "\n",
       "    .dataframe thead th {\n",
       "        text-align: right;\n",
       "    }\n",
       "</style>\n",
       "<table border=\"1\" class=\"dataframe\">\n",
       "  <thead>\n",
       "    <tr style=\"text-align: right;\">\n",
       "      <th></th>\n",
       "      <th>token_id</th>\n",
       "      <th>token</th>\n",
       "      <th>predicted_linguistic</th>\n",
       "      <th>Title</th>\n",
       "      <th>predicted_so</th>\n",
       "    </tr>\n",
       "    <tr>\n",
       "      <th>record_id</th>\n",
       "      <th></th>\n",
       "      <th></th>\n",
       "      <th></th>\n",
       "      <th></th>\n",
       "      <th></th>\n",
       "    </tr>\n",
       "  </thead>\n",
       "  <tbody>\n",
       "    <tr>\n",
       "      <th>0</th>\n",
       "      <td>[0, 1, 2, 3, 4]</td>\n",
       "      <td>[Greetings, Wedding, (, ), General]</td>\n",
       "      <td>[]</td>\n",
       "      <td>Wedding Greetings (General)</td>\n",
       "      <td>[]</td>\n",
       "    </tr>\n",
       "    <tr>\n",
       "      <th>1</th>\n",
       "      <td>[5, 6, 7, 8, 9, 10, 11]</td>\n",
       "      <td>[tag, (, Baby, ), Blanket, design, and]</td>\n",
       "      <td>[]</td>\n",
       "      <td>Baby (Blanket and tag design)</td>\n",
       "      <td>[]</td>\n",
       "    </tr>\n",
       "    <tr>\n",
       "      <th>2</th>\n",
       "      <td>[12, 13, 14, 15, 16]</td>\n",
       "      <td>[Greeting, Wedding, (, ), General]</td>\n",
       "      <td>[]</td>\n",
       "      <td>Wedding (General Greeting)</td>\n",
       "      <td>[]</td>\n",
       "    </tr>\n",
       "    <tr>\n",
       "      <th>3</th>\n",
       "      <td>[17]</td>\n",
       "      <td>[Ordinary]</td>\n",
       "      <td>[]</td>\n",
       "      <td>Ordinary</td>\n",
       "      <td>[]</td>\n",
       "    </tr>\n",
       "    <tr>\n",
       "      <th>4</th>\n",
       "      <td>[18, 19, 20, 21, 22]</td>\n",
       "      <td>[girls, Two, telegraph, sending, message]</td>\n",
       "      <td>[Generalization]</td>\n",
       "      <td>Two girls sending telegraph message</td>\n",
       "      <td>[]</td>\n",
       "    </tr>\n",
       "  </tbody>\n",
       "</table>\n",
       "</div>"
      ],
      "text/plain": [
       "                          token_id                                      token  \\\n",
       "record_id                                                                       \n",
       "0                  [0, 1, 2, 3, 4]        [Greetings, Wedding, (, ), General]   \n",
       "1          [5, 6, 7, 8, 9, 10, 11]    [tag, (, Baby, ), Blanket, design, and]   \n",
       "2             [12, 13, 14, 15, 16]         [Greeting, Wedding, (, ), General]   \n",
       "3                             [17]                                 [Ordinary]   \n",
       "4             [18, 19, 20, 21, 22]  [girls, Two, telegraph, sending, message]   \n",
       "\n",
       "          predicted_linguistic                                Title  \\\n",
       "record_id                                                             \n",
       "0                           []          Wedding Greetings (General)   \n",
       "1                           []        Baby (Blanket and tag design)   \n",
       "2                           []           Wedding (General Greeting)   \n",
       "3                           []                             Ordinary   \n",
       "4             [Generalization]  Two girls sending telegraph message   \n",
       "\n",
       "          predicted_so  \n",
       "record_id               \n",
       "0                   []  \n",
       "1                   []  \n",
       "2                   []  \n",
       "3                   []  \n",
       "4                   []  "
      ]
     },
     "execution_count": 35,
     "metadata": {},
     "output_type": "execute_result"
    }
   ],
   "source": [
    "new_pred_col = []\n",
    "for values in pred_labels:\n",
    "    preds = []\n",
    "    if (values != [tuple()]) and (values != []):\n",
    "        for t in values:\n",
    "            if len(t) > 0:\n",
    "                label = str(t).strip(\"(',)\")\n",
    "                if label not in preds:\n",
    "                    preds += [label]\n",
    "    new_pred_col += [preds]\n",
    "print(new_pred_col[:100])\n",
    "pred_col_name = \"predicted_so\"\n",
    "bt_clf.insert(len(bt_clf.columns), pred_col_name, new_pred_col)\n",
    "bt_clf.head()"
   ]
  },
  {
   "cell_type": "code",
   "execution_count": 36,
   "id": "a936306f-e668-4f9d-a166-3130f3e4b7a5",
   "metadata": {},
   "outputs": [
    {
     "data": {
      "text/plain": [
       "[]                        69382\n",
       "[Omission, Stereotype]        1\n",
       "[Stereotype]                  1\n",
       "Name: predicted_so, dtype: int64"
      ]
     },
     "execution_count": 36,
     "metadata": {},
     "output_type": "execute_result"
    }
   ],
   "source": [
    "bt_clf[pred_col_name].value_counts()"
   ]
  }
 ],
 "metadata": {
  "kernelspec": {
   "display_name": "gender-bias-env",
   "language": "python",
   "name": "python3"
  },
  "language_info": {
   "codemirror_mode": {
    "name": "ipython",
    "version": 3
   },
   "file_extension": ".py",
   "mimetype": "text/x-python",
   "name": "python",
   "nbconvert_exporter": "python",
   "pygments_lexer": "ipython3",
   "version": "3.9.20"
  }
 },
 "nbformat": 4,
 "nbformat_minor": 5
}

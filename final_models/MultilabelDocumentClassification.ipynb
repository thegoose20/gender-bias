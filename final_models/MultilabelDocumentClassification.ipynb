{
 "cells": [
  {
   "cell_type": "markdown",
   "id": "2e499e68-ee65-4846-b2cb-4c7c802c9abe",
   "metadata": {},
   "source": [
    "# Multilabel Document Classification\n",
    "### Classification of descriptions with Contextual labels: *Stereotype*, *Omission*"
   ]
  },
  {
   "cell_type": "code",
   "execution_count": 1,
   "id": "579872d3-b60a-4043-a989-92278d62cbcc",
   "metadata": {},
   "outputs": [],
   "source": [
    "import config\n",
    "import my_utils\n",
    "\n",
    "# For data analysis\n",
    "import pandas as pd\n",
    "import numpy as np\n",
    "import os, re\n",
    "\n",
    "# For creating directories\n",
    "from pathlib import Path\n",
    "\n",
    "# For word embeddings\n",
    "from gensim.models import FastText #, Word2Vec\n",
    "from gensim.utils import tokenize\n",
    "from gensim import utils\n",
    "from gensim.test.utils import get_tmpfile\n",
    "\n",
    "# For preprocessing\n",
    "import nltk\n",
    "from nltk.tokenize import word_tokenize\n",
    "\n",
    "# For classification\n",
    "import scipy\n",
    "import matplotlib.pyplot as plt\n",
    "from sklearn.multiclass import OneVsRestClassifier\n",
    "from sklearn.linear_model import SGDClassifier\n",
    "from sklearn.preprocessing import MultiLabelBinarizer\n",
    "from sklearn.feature_extraction.text import CountVectorizer, TfidfTransformer\n",
    "import sklearn.metrics\n",
    "from sklearn.metrics import confusion_matrix, multilabel_confusion_matrix, ConfusionMatrixDisplay\n",
    "from sklearn.metrics import precision_recall_fscore_support\n",
    "\n",
    "# For saving model\n",
    "import joblib\n",
    "from joblib import dump,load"
   ]
  },
  {
   "cell_type": "markdown",
   "id": "07a77acf-cb54-4816-b306-6903fa51dde9",
   "metadata": {},
   "source": [
    "Load the description data."
   ]
  },
  {
   "cell_type": "code",
   "execution_count": 2,
   "id": "07a42cc6-d0b6-4863-af7b-ef15bba551a8",
   "metadata": {},
   "outputs": [
    {
     "data": {
      "text/html": [
       "<div>\n",
       "<style scoped>\n",
       "    .dataframe tbody tr th:only-of-type {\n",
       "        vertical-align: middle;\n",
       "    }\n",
       "\n",
       "    .dataframe tbody tr th {\n",
       "        vertical-align: top;\n",
       "    }\n",
       "\n",
       "    .dataframe thead th {\n",
       "        text-align: right;\n",
       "    }\n",
       "</style>\n",
       "<table border=\"1\" class=\"dataframe\">\n",
       "  <thead>\n",
       "    <tr style=\"text-align: right;\">\n",
       "      <th></th>\n",
       "      <th>description_id</th>\n",
       "      <th>start_offset</th>\n",
       "      <th>end_offset</th>\n",
       "      <th>field</th>\n",
       "      <th>description</th>\n",
       "      <th>label</th>\n",
       "      <th>fold</th>\n",
       "    </tr>\n",
       "  </thead>\n",
       "  <tbody>\n",
       "    <tr>\n",
       "      <th>5163</th>\n",
       "      <td>1</td>\n",
       "      <td>17</td>\n",
       "      <td>76</td>\n",
       "      <td>Title</td>\n",
       "      <td>Papers of The Very Rev Prof James Whyte (1920-...</td>\n",
       "      <td>[Stereotype]</td>\n",
       "      <td>split2</td>\n",
       "    </tr>\n",
       "    <tr>\n",
       "      <th>11541</th>\n",
       "      <td>2</td>\n",
       "      <td>77</td>\n",
       "      <td>633</td>\n",
       "      <td>Scope and Contents</td>\n",
       "      <td>Sermons and addresses, 1948-1996; lectures, 19...</td>\n",
       "      <td>[]</td>\n",
       "      <td>split3</td>\n",
       "    </tr>\n",
       "    <tr>\n",
       "      <th>277</th>\n",
       "      <td>3</td>\n",
       "      <td>634</td>\n",
       "      <td>1725</td>\n",
       "      <td>Biographical / Historical</td>\n",
       "      <td>Professor James Aitken White was a leading Sco...</td>\n",
       "      <td>[Stereotype]</td>\n",
       "      <td>split4</td>\n",
       "    </tr>\n",
       "    <tr>\n",
       "      <th>19301</th>\n",
       "      <td>5</td>\n",
       "      <td>17</td>\n",
       "      <td>60</td>\n",
       "      <td>Title</td>\n",
       "      <td>Papers of Rev Tom Allan (1916-1965)</td>\n",
       "      <td>[]</td>\n",
       "      <td>split1</td>\n",
       "    </tr>\n",
       "    <tr>\n",
       "      <th>21645</th>\n",
       "      <td>6</td>\n",
       "      <td>61</td>\n",
       "      <td>560</td>\n",
       "      <td>Scope and Contents</td>\n",
       "      <td>Sermons and addresses, 1947-1963; essays and l...</td>\n",
       "      <td>[]</td>\n",
       "      <td>split3</td>\n",
       "    </tr>\n",
       "  </tbody>\n",
       "</table>\n",
       "</div>"
      ],
      "text/plain": [
       "       description_id  start_offset  end_offset                      field  \\\n",
       "5163                1            17          76                      Title   \n",
       "11541               2            77         633         Scope and Contents   \n",
       "277                 3           634        1725  Biographical / Historical   \n",
       "19301               5            17          60                      Title   \n",
       "21645               6            61         560         Scope and Contents   \n",
       "\n",
       "                                             description         label    fold  \n",
       "5163   Papers of The Very Rev Prof James Whyte (1920-...  [Stereotype]  split2  \n",
       "11541  Sermons and addresses, 1948-1996; lectures, 19...            []  split3  \n",
       "277    Professor James Aitken White was a leading Sco...  [Stereotype]  split4  \n",
       "19301                Papers of Rev Tom Allan (1916-1965)            []  split1  \n",
       "21645  Sermons and addresses, 1947-1963; essays and l...            []  split3  "
      ]
     },
     "execution_count": 2,
     "metadata": {},
     "output_type": "execute_result"
    }
   ],
   "source": [
    "doc_data = config.exp_data_path+\"document_5fold.csv\"\n",
    "df_docs = pd.read_csv(doc_data, index_col=0, converters={\"label\": lambda x: x.strip(\"[]\").replace(\"'\",\"\").split(\", \")})\n",
    "assert type(df_docs[\"label\"][0]) == list, \"The converters should ensure the 'label' column's values are loaded as lists.\"\n",
    "df_docs = df_docs.sort_values(by=\"description_id\")\n",
    "df_docs = df_docs.drop(columns=[\"subset\"])\n",
    "df_docs.head()"
   ]
  },
  {
   "cell_type": "markdown",
   "id": "66117307",
   "metadata": {},
   "source": [
    "Define the training, devtest, and test data splits."
   ]
  },
  {
   "cell_type": "code",
   "execution_count": 3,
   "id": "0d962016",
   "metadata": {},
   "outputs": [
    {
     "name": "stdout",
     "output_type": "stream",
     "text": [
      "['split0' 'split1' 'split2' 'split3' 'split4']\n",
      "(['split0', 'split1', 'split2', 'split3'], 'split4')\n",
      "(['split1', 'split2', 'split3', 'split4'], 'split0')\n",
      "(['split2', 'split3', 'split4', 'split0'], 'split1')\n",
      "(['split3', 'split4', 'split0', 'split1'], 'split2')\n",
      "(['split4', 'split0', 'split1', 'split2'], 'split3')\n"
     ]
    }
   ],
   "source": [
    "split_col = \"fold\"\n",
    "splits = df_docs[split_col].unique()\n",
    "splits.sort()\n",
    "\n",
    "# train0, devtest0 = list(splits[:3]), splits[3]\n",
    "# train1, devtest1 = list(splits[1:4]), splits[0]\n",
    "# train2, devtest2 = list(splits[2:4])+[splits[0]], splits[1]\n",
    "# train3, devtest3 = [splits[3]]+list(splits[:2]), splits[2]\n",
    "# runs = [(train0, devtest0), (train1, devtest1), (train2, devtest2), (train3, devtest3)]\n",
    "# test = splits[4]\n",
    "# print(runs)\n",
    "# print(test)\n",
    "\n",
    "split_col = \"fold\"\n",
    "splits = df_docs[split_col].unique()\n",
    "splits.sort()\n",
    "print(splits)\n",
    "train0, devtest0 = list(splits[:4]), splits[4]\n",
    "train1, devtest1 = list(splits[1:]), splits[0]\n",
    "train2, devtest2 = list(splits[2:])+[splits[0]], splits[1]\n",
    "train3, devtest3 = list(splits[3:])+list(splits[:2]), splits[2]\n",
    "train4, devtest4 = [splits[4]]+list(splits[:3]), splits[3]\n",
    "runs = [(train0, devtest0), (train1, devtest1), (train2, devtest2), (train3, devtest3), (train4, devtest4)]\n",
    "for run in runs:\n",
    "    print(run)"
   ]
  },
  {
   "cell_type": "markdown",
   "id": "fb055769",
   "metadata": {},
   "source": [
    "Create a binarizer for the Omission and Stereotype labels."
   ]
  },
  {
   "cell_type": "code",
   "execution_count": 4,
   "id": "38e6c354",
   "metadata": {},
   "outputs": [],
   "source": [
    "mlb_so = MultiLabelBinarizer()\n",
    "mlb_so = mlb_so.fit([['Omission', 'Stereotype']])"
   ]
  },
  {
   "cell_type": "markdown",
   "id": "351a1cb1",
   "metadata": {},
   "source": [
    "## 1. Baseline"
   ]
  },
  {
   "cell_type": "code",
   "execution_count": 5,
   "id": "d1ef83eb",
   "metadata": {},
   "outputs": [],
   "source": [
    "final_df_devtest = pd.DataFrame()\n",
    "df = df_docs.copy()\n",
    "target_col = \"label\"\n",
    "pred_col = \"predicted\"\n",
    "doc_col = \"description\""
   ]
  },
  {
   "cell_type": "markdown",
   "id": "5a1406be",
   "metadata": {},
   "source": [
    "### 1.1 Baseline Classifier Training and Development"
   ]
  },
  {
   "cell_type": "code",
   "execution_count": 6,
   "id": "e814152b",
   "metadata": {},
   "outputs": [
    {
     "name": "stdout",
     "output_type": "stream",
     "text": [
      "Run: (['split0', 'split1', 'split2', 'split3'], 'split4')\n"
     ]
    },
    {
     "name": "stderr",
     "output_type": "stream",
     "text": [
      "/Users/lucyhavens/miniconda3/envs/gender-bias-env/lib/python3.9/site-packages/sklearn/preprocessing/_label.py:895: UserWarning: unknown class(es) [''] will be ignored\n",
      "  warnings.warn(\n"
     ]
    },
    {
     "name": "stdout",
     "output_type": "stream",
     "text": [
      "Run: (['split1', 'split2', 'split3', 'split4'], 'split0')\n"
     ]
    },
    {
     "name": "stderr",
     "output_type": "stream",
     "text": [
      "/Users/lucyhavens/miniconda3/envs/gender-bias-env/lib/python3.9/site-packages/sklearn/preprocessing/_label.py:895: UserWarning: unknown class(es) [''] will be ignored\n",
      "  warnings.warn(\n"
     ]
    },
    {
     "name": "stdout",
     "output_type": "stream",
     "text": [
      "Run: (['split2', 'split3', 'split4', 'split0'], 'split1')\n"
     ]
    },
    {
     "name": "stderr",
     "output_type": "stream",
     "text": [
      "/Users/lucyhavens/miniconda3/envs/gender-bias-env/lib/python3.9/site-packages/sklearn/preprocessing/_label.py:895: UserWarning: unknown class(es) [''] will be ignored\n",
      "  warnings.warn(\n"
     ]
    },
    {
     "name": "stdout",
     "output_type": "stream",
     "text": [
      "Run: (['split3', 'split4', 'split0', 'split1'], 'split2')\n"
     ]
    },
    {
     "name": "stderr",
     "output_type": "stream",
     "text": [
      "/Users/lucyhavens/miniconda3/envs/gender-bias-env/lib/python3.9/site-packages/sklearn/preprocessing/_label.py:895: UserWarning: unknown class(es) [''] will be ignored\n",
      "  warnings.warn(\n"
     ]
    },
    {
     "name": "stdout",
     "output_type": "stream",
     "text": [
      "Run: (['split4', 'split0', 'split1', 'split2'], 'split3')\n"
     ]
    },
    {
     "name": "stderr",
     "output_type": "stream",
     "text": [
      "/Users/lucyhavens/miniconda3/envs/gender-bias-env/lib/python3.9/site-packages/sklearn/preprocessing/_label.py:895: UserWarning: unknown class(es) [''] will be ignored\n",
      "  warnings.warn(\n"
     ]
    },
    {
     "data": {
      "text/plain": [
       "[]                        24398\n",
       "[Omission]                 1644\n",
       "[Omission, Stereotype]      900\n",
       "[Stereotype]                370\n",
       "Name: predicted, dtype: int64"
      ]
     },
     "execution_count": 6,
     "metadata": {},
     "output_type": "execute_result"
    }
   ],
   "source": [
    "for run in runs:\n",
    "    print(\"Run:\", run)\n",
    "    # Select 3 subsets of data as the training set and 1 subset of data as the devtest set\n",
    "    train_splits, devtest_split = run[0], run[1]\n",
    "    df_train = df.loc[df[split_col].isin(train_splits)]\n",
    "    df_devtest = df.loc[df[split_col] == devtest_split]\n",
    "\n",
    "    # Binarize targets\n",
    "    y_train = mlb_so.transform(df_train[target_col])\n",
    "    y_devtest = mlb_so.transform(df_devtest[target_col])\n",
    "\n",
    "    # Vectorize the documents (descriptions)\n",
    "    cvectorizer = CountVectorizer()\n",
    "    tfidf = TfidfTransformer()\n",
    "    train_docs = cvectorizer.fit_transform(df_train[doc_col])\n",
    "    devtest_docs = cvectorizer.transform(df_devtest[doc_col])\n",
    "    X_train = tfidf.fit_transform(train_docs)\n",
    "    X_devtest = tfidf.transform(devtest_docs)\n",
    "    \n",
    "    # Train a classifier\n",
    "    clf = OneVsRestClassifier(SGDClassifier(loss=\"hinge\"))  # Use Support Vector Machines (SVM) loss function\n",
    "    clf.fit(X_train, y_train)\n",
    "    \n",
    "    # Classify the devtest data with the trained classifier\n",
    "    y_pred = clf.predict(X_devtest)\n",
    "\n",
    "    # Format the predicted tags as lists to match the format of the expected tags\n",
    "    pred_labels = mlb_so.inverse_transform(y_pred)\n",
    "    new_preds = []\n",
    "    for labels in pred_labels:\n",
    "        new_preds += [list(labels)]\n",
    "    \n",
    "    # Add the predictions to the devtest DataFrame\n",
    "    df_devtest.insert(len(df.columns), pred_col, new_preds)\n",
    "\n",
    "    # Merge any previous devtest DataFrames with the latest devtest DataFrame\n",
    "    final_df_devtest = pd.concat([final_df_devtest, df_devtest])\n",
    "\n",
    "# assert final_df_devtest.shape[0] < df.shape[0]\n",
    "final_df_devtest.predicted.value_counts()"
   ]
  },
  {
   "cell_type": "code",
   "execution_count": 7,
   "id": "4700e2e6",
   "metadata": {},
   "outputs": [
    {
     "data": {
      "text/html": [
       "<div>\n",
       "<style scoped>\n",
       "    .dataframe tbody tr th:only-of-type {\n",
       "        vertical-align: middle;\n",
       "    }\n",
       "\n",
       "    .dataframe tbody tr th {\n",
       "        vertical-align: top;\n",
       "    }\n",
       "\n",
       "    .dataframe thead th {\n",
       "        text-align: right;\n",
       "    }\n",
       "</style>\n",
       "<table border=\"1\" class=\"dataframe\">\n",
       "  <thead>\n",
       "    <tr style=\"text-align: right;\">\n",
       "      <th></th>\n",
       "      <th>description_id</th>\n",
       "      <th>start_offset</th>\n",
       "      <th>end_offset</th>\n",
       "      <th>field</th>\n",
       "      <th>description</th>\n",
       "      <th>label</th>\n",
       "      <th>fold</th>\n",
       "      <th>predicted</th>\n",
       "    </tr>\n",
       "  </thead>\n",
       "  <tbody>\n",
       "    <tr>\n",
       "      <th>277</th>\n",
       "      <td>3</td>\n",
       "      <td>634</td>\n",
       "      <td>1725</td>\n",
       "      <td>Biographical / Historical</td>\n",
       "      <td>Professor James Aitken White was a leading Sco...</td>\n",
       "      <td>[Stereotype]</td>\n",
       "      <td>split4</td>\n",
       "      <td>[Stereotype]</td>\n",
       "    </tr>\n",
       "    <tr>\n",
       "      <th>20188</th>\n",
       "      <td>10</td>\n",
       "      <td>77</td>\n",
       "      <td>417</td>\n",
       "      <td>Scope and Contents</td>\n",
       "      <td>Academic papers, 1942-1986; publications and a...</td>\n",
       "      <td>[]</td>\n",
       "      <td>split4</td>\n",
       "      <td>[]</td>\n",
       "    </tr>\n",
       "    <tr>\n",
       "      <th>6748</th>\n",
       "      <td>19</td>\n",
       "      <td>268</td>\n",
       "      <td>294</td>\n",
       "      <td>Title</td>\n",
       "      <td>Commonplace Book 2</td>\n",
       "      <td>[]</td>\n",
       "      <td>split4</td>\n",
       "      <td>[]</td>\n",
       "    </tr>\n",
       "    <tr>\n",
       "      <th>24617</th>\n",
       "      <td>28</td>\n",
       "      <td>540</td>\n",
       "      <td>556</td>\n",
       "      <td>Title</td>\n",
       "      <td>Notebook</td>\n",
       "      <td>[]</td>\n",
       "      <td>split4</td>\n",
       "      <td>[]</td>\n",
       "    </tr>\n",
       "    <tr>\n",
       "      <th>6873</th>\n",
       "      <td>30</td>\n",
       "      <td>581</td>\n",
       "      <td>609</td>\n",
       "      <td>Title</td>\n",
       "      <td>Poems and quotations</td>\n",
       "      <td>[]</td>\n",
       "      <td>split4</td>\n",
       "      <td>[]</td>\n",
       "    </tr>\n",
       "  </tbody>\n",
       "</table>\n",
       "</div>"
      ],
      "text/plain": [
       "       description_id  start_offset  end_offset                      field  \\\n",
       "277                 3           634        1725  Biographical / Historical   \n",
       "20188              10            77         417         Scope and Contents   \n",
       "6748               19           268         294                      Title   \n",
       "24617              28           540         556                      Title   \n",
       "6873               30           581         609                      Title   \n",
       "\n",
       "                                             description         label  \\\n",
       "277    Professor James Aitken White was a leading Sco...  [Stereotype]   \n",
       "20188  Academic papers, 1942-1986; publications and a...            []   \n",
       "6748                                  Commonplace Book 2            []   \n",
       "24617                                           Notebook            []   \n",
       "6873                                Poems and quotations            []   \n",
       "\n",
       "         fold     predicted  \n",
       "277    split4  [Stereotype]  \n",
       "20188  split4            []  \n",
       "6748   split4            []  \n",
       "24617  split4            []  \n",
       "6873   split4            []  "
      ]
     },
     "execution_count": 7,
     "metadata": {},
     "output_type": "execute_result"
    }
   ],
   "source": [
    "final_df_devtest.head()"
   ]
  },
  {
   "cell_type": "code",
   "execution_count": 8,
   "id": "0e58b5f2",
   "metadata": {},
   "outputs": [
    {
     "name": "stderr",
     "output_type": "stream",
     "text": [
      "/Users/lucyhavens/miniconda3/envs/gender-bias-env/lib/python3.9/site-packages/sklearn/preprocessing/_label.py:895: UserWarning: unknown class(es) [''] will be ignored\n",
      "  warnings.warn(\n"
     ]
    }
   ],
   "source": [
    "y_devtest = mlb_so.transform(final_df_devtest[target_col])\n",
    "y_pred = mlb_so.transform(final_df_devtest[pred_col])"
   ]
  },
  {
   "cell_type": "code",
   "execution_count": 9,
   "id": "0fdfe6a4",
   "metadata": {},
   "outputs": [],
   "source": [
    "# pred_dir = \"data/multilabel_doc_predictions/baseline/\"\n",
    "pred_dir = \"data/multilabel_doc_predictions/baseline/mod5fold/\"\n",
    "Path(pred_dir).mkdir(parents=True, exist_ok=True)\n",
    "# final_df_devtest.to_csv(pred_dir+\"svm_tfidf_devtest_predictions.csv\")\n",
    "final_df_devtest.to_csv(pred_dir+\"svm_tfidf_predictions.csv\")"
   ]
  },
  {
   "cell_type": "code",
   "execution_count": 50,
   "id": "2e3cdb85",
   "metadata": {},
   "outputs": [
    {
     "data": {
      "text/html": [
       "<div>\n",
       "<style scoped>\n",
       "    .dataframe tbody tr th:only-of-type {\n",
       "        vertical-align: middle;\n",
       "    }\n",
       "\n",
       "    .dataframe tbody tr th {\n",
       "        vertical-align: top;\n",
       "    }\n",
       "\n",
       "    .dataframe thead th {\n",
       "        text-align: right;\n",
       "    }\n",
       "</style>\n",
       "<table border=\"1\" class=\"dataframe\">\n",
       "  <thead>\n",
       "    <tr style=\"text-align: right;\">\n",
       "      <th></th>\n",
       "      <th>labels</th>\n",
       "      <th>true_neg</th>\n",
       "      <th>false_neg</th>\n",
       "      <th>true_pos</th>\n",
       "      <th>false_pos</th>\n",
       "      <th>precision</th>\n",
       "      <th>recall</th>\n",
       "      <th>f_1</th>\n",
       "    </tr>\n",
       "  </thead>\n",
       "  <tbody>\n",
       "    <tr>\n",
       "      <th>0</th>\n",
       "      <td>Omission</td>\n",
       "      <td>22922</td>\n",
       "      <td>358</td>\n",
       "      <td>2186</td>\n",
       "      <td>1846</td>\n",
       "      <td>0.859277</td>\n",
       "      <td>0.542163</td>\n",
       "      <td>0.664842</td>\n",
       "    </tr>\n",
       "    <tr>\n",
       "      <th>1</th>\n",
       "      <td>Stereotype</td>\n",
       "      <td>25634</td>\n",
       "      <td>77</td>\n",
       "      <td>1193</td>\n",
       "      <td>408</td>\n",
       "      <td>0.939370</td>\n",
       "      <td>0.745159</td>\n",
       "      <td>0.831069</td>\n",
       "    </tr>\n",
       "  </tbody>\n",
       "</table>\n",
       "</div>"
      ],
      "text/plain": [
       "       labels  true_neg  false_neg  true_pos  false_pos  precision    recall  \\\n",
       "0    Omission     22922        358      2186       1846   0.859277  0.542163   \n",
       "1  Stereotype     25634         77      1193        408   0.939370  0.745159   \n",
       "\n",
       "        f_1  \n",
       "0  0.664842  \n",
       "1  0.831069  "
      ]
     },
     "execution_count": 50,
     "metadata": {},
     "output_type": "execute_result"
    }
   ],
   "source": [
    "matrix = multilabel_confusion_matrix(y_devtest, y_pred, labels=clf.classes_)\n",
    "\n",
    "tn = matrix[:, 0, 0]  # True negatives\n",
    "fp = matrix[:, 1, 0]  # False negatives - positives?\n",
    "tp = matrix[:, 1, 1]  # True positives\n",
    "fn = matrix[:, 0, 1]  # False positives - negatives?\n",
    "class_names = list(mlb_so.classes_)\n",
    "\n",
    "[precision, recall, f_1, suport] = precision_recall_fscore_support(\n",
    "    y_devtest, y_pred, beta=1.0, zero_division=0, labels=clf.classes_\n",
    ")\n",
    "\n",
    "baseline_agmt_df = pd.DataFrame({\n",
    "    \"labels\":class_names, \"true_neg\":tn, \"false_neg\":fn, \"true_pos\":tp, \"false_pos\":fp,\n",
    "    \"precision\":precision, \"recall\":recall, \"f_1\":f_1\n",
    "})\n",
    "baseline_agmt_df"
   ]
  },
  {
   "cell_type": "code",
   "execution_count": 41,
   "id": "ae689df0",
   "metadata": {},
   "outputs": [
    {
     "name": "stdout",
     "output_type": "stream",
     "text": [
      "[[[22922   358]\n",
      "  [ 1846  2186]]\n",
      "\n",
      " [[25634    77]\n",
      "  [  408  1193]]]\n"
     ]
    }
   ],
   "source": [
    "mcm = multilabel_confusion_matrix(y_devtest, y_pred)\n",
    "print(mcm)"
   ]
  },
  {
   "cell_type": "code",
   "execution_count": 49,
   "id": "9f191e6f",
   "metadata": {},
   "outputs": [
    {
     "data": {
      "text/plain": [
       "array([358,  77])"
      ]
     },
     "execution_count": 49,
     "metadata": {},
     "output_type": "execute_result"
    }
   ],
   "source": [
    "mcm[:, 0, 1] "
   ]
  },
  {
   "cell_type": "code",
   "execution_count": 38,
   "id": "d7fd4ed7",
   "metadata": {},
   "outputs": [
    {
     "name": "stdout",
     "output_type": "stream",
     "text": [
      "[0 1] ['Omission' 'Stereotype']\n"
     ]
    }
   ],
   "source": [
    "print(clf.classes_, mlb_so.classes_)"
   ]
  },
  {
   "cell_type": "code",
   "execution_count": null,
   "id": "7ea5bc4e",
   "metadata": {},
   "outputs": [
    {
     "data": {
      "image/png": "[encoded data removed]",
      "text/plain": [
       "<Figure size 640x480 with 2 Axes>"
      ]
     },
     "metadata": {},
     "output_type": "display_data"
    },
    {
     "data": {
      "image/png": "[encoded data removed]",
      "text/plain": [
       "<Figure size 640x480 with 2 Axes>"
      ]
     },
     "metadata": {},
     "output_type": "display_data"
    }
   ],
   "source": [
    "matrices = dict()  # keys are labels, values are 2D arrays \n",
    "for col in range(len(clf.classes_)):\n",
    "    y_test_label = y_devtest[:, col]\n",
    "    pred_label = y_pred[:, col]\n",
    "    \n",
    "    matrices[clf.classes_[col]] = confusion_matrix(pred_label, y_test_label)#, normalize=\"all\")\n",
    "\n",
    "ConfusionMatrixDisplay(matrices[0], display_labels=[\"Not Omission\",\"Omission\"]).plot()\n",
    "ConfusionMatrixDisplay(matrices[0], display_labels=[\"Not Stereotype\",\"Stereotype\"]).plot()"
   ]
  },
  {
   "cell_type": "code",
   "execution_count": 39,
   "id": "f99b47f1",
   "metadata": {},
   "outputs": [
    {
     "data": {
      "image/png": "[encoded data removed]",
      "text/plain": [
       "<Figure size 640x480 with 2 Axes>"
      ]
     },
     "metadata": {},
     "output_type": "display_data"
    }
   ],
   "source": [
    "import seaborn as sns\n",
    "\n",
    "labels = mlb_so.classes_    \n",
    "\n",
    "ax= plt.subplot()\n",
    "\n",
    "cm = confusion_matrix(np.asarray(y_devtest).argmax(axis=1), np.asarray(y_pred).argmax(axis=1))\n",
    "# cm = confusion_matrix(y_devtest, y_pred)\n",
    "sns.heatmap(cm, annot=True, fmt='g', ax=ax);  #annot=True to annotate cells, ftm='g' to disable scientific notation\n",
    "\n",
    "# labels, title and ticks\n",
    "ax.set_xlabel('Predicted labels');ax.set_ylabel('True labels'); \n",
    "ax.set_title('Confusion Matrix'); \n",
    "ax.xaxis.set_ticklabels(labels); ax.yaxis.set_ticklabels(labels);\n"
   ]
  },
  {
   "cell_type": "markdown",
   "id": "3735dfd2",
   "metadata": {},
   "source": [
    "### 1.2 Testing"
   ]
  },
  {
   "cell_type": "code",
   "execution_count": 11,
   "id": "e70a3fe6",
   "metadata": {},
   "outputs": [
    {
     "name": "stderr",
     "output_type": "stream",
     "text": [
      "/Users/lucyhavens/miniconda3/envs/gender-bias-env/lib/python3.9/site-packages/sklearn/preprocessing/_label.py:895: UserWarning: unknown class(es) [''] will be ignored\n",
      "  warnings.warn(\n"
     ]
    }
   ],
   "source": [
    "# Fit vectorizers to training data\n",
    "cvectorizer = CountVectorizer()\n",
    "tfidf = TfidfTransformer()\n",
    "train_docs = cvectorizer.fit_transform(df_train[doc_col])\n",
    "train_docs = tfidf.fit_transform(train_docs)\n",
    "\n",
    "# Transform test data\n",
    "df_test = df.loc[df[split_col] == test]\n",
    "y_test = mlb_so.transform(df_test[target_col])\n",
    "test_docs = cvectorizer.transform(df_test[doc_col])\n",
    "X_test = tfidf.transform(test_docs)\n",
    "\n",
    "# Classify the test data\n",
    "y_pred = clf.predict(X_test)"
   ]
  },
  {
   "cell_type": "code",
   "execution_count": 12,
   "id": "1850c7ae",
   "metadata": {},
   "outputs": [],
   "source": [
    "# Format the predicted tags as lists to match the format of the expected tags\n",
    "pred_labels = mlb_so.inverse_transform(y_pred)\n",
    "new_preds = []\n",
    "for labels in pred_labels:\n",
    "    new_preds += [list(labels)]"
   ]
  },
  {
   "cell_type": "markdown",
   "id": "7550a423",
   "metadata": {},
   "source": [
    "Export the data with predicted labels:"
   ]
  },
  {
   "cell_type": "code",
   "execution_count": 13,
   "id": "d22701af",
   "metadata": {},
   "outputs": [
    {
     "data": {
      "text/html": [
       "<div>\n",
       "<style scoped>\n",
       "    .dataframe tbody tr th:only-of-type {\n",
       "        vertical-align: middle;\n",
       "    }\n",
       "\n",
       "    .dataframe tbody tr th {\n",
       "        vertical-align: top;\n",
       "    }\n",
       "\n",
       "    .dataframe thead th {\n",
       "        text-align: right;\n",
       "    }\n",
       "</style>\n",
       "<table border=\"1\" class=\"dataframe\">\n",
       "  <thead>\n",
       "    <tr style=\"text-align: right;\">\n",
       "      <th></th>\n",
       "      <th>description_id</th>\n",
       "      <th>start_offset</th>\n",
       "      <th>end_offset</th>\n",
       "      <th>field</th>\n",
       "      <th>description</th>\n",
       "      <th>label</th>\n",
       "      <th>fold</th>\n",
       "      <th>predicted</th>\n",
       "    </tr>\n",
       "  </thead>\n",
       "  <tbody>\n",
       "    <tr>\n",
       "      <th>277</th>\n",
       "      <td>3</td>\n",
       "      <td>634</td>\n",
       "      <td>1725</td>\n",
       "      <td>Biographical / Historical</td>\n",
       "      <td>Professor James Aitken White was a leading Sco...</td>\n",
       "      <td>[Stereotype]</td>\n",
       "      <td>split4</td>\n",
       "      <td>[Stereotype]</td>\n",
       "    </tr>\n",
       "    <tr>\n",
       "      <th>20188</th>\n",
       "      <td>10</td>\n",
       "      <td>77</td>\n",
       "      <td>417</td>\n",
       "      <td>Scope and Contents</td>\n",
       "      <td>Academic papers, 1942-1986; publications and a...</td>\n",
       "      <td>[]</td>\n",
       "      <td>split4</td>\n",
       "      <td>[]</td>\n",
       "    </tr>\n",
       "    <tr>\n",
       "      <th>6748</th>\n",
       "      <td>19</td>\n",
       "      <td>268</td>\n",
       "      <td>294</td>\n",
       "      <td>Title</td>\n",
       "      <td>Commonplace Book 2</td>\n",
       "      <td>[]</td>\n",
       "      <td>split4</td>\n",
       "      <td>[]</td>\n",
       "    </tr>\n",
       "    <tr>\n",
       "      <th>24617</th>\n",
       "      <td>28</td>\n",
       "      <td>540</td>\n",
       "      <td>556</td>\n",
       "      <td>Title</td>\n",
       "      <td>Notebook</td>\n",
       "      <td>[]</td>\n",
       "      <td>split4</td>\n",
       "      <td>[]</td>\n",
       "    </tr>\n",
       "    <tr>\n",
       "      <th>6873</th>\n",
       "      <td>30</td>\n",
       "      <td>581</td>\n",
       "      <td>609</td>\n",
       "      <td>Title</td>\n",
       "      <td>Poems and quotations</td>\n",
       "      <td>[]</td>\n",
       "      <td>split4</td>\n",
       "      <td>[]</td>\n",
       "    </tr>\n",
       "  </tbody>\n",
       "</table>\n",
       "</div>"
      ],
      "text/plain": [
       "       description_id  start_offset  end_offset                      field  \\\n",
       "277                 3           634        1725  Biographical / Historical   \n",
       "20188              10            77         417         Scope and Contents   \n",
       "6748               19           268         294                      Title   \n",
       "24617              28           540         556                      Title   \n",
       "6873               30           581         609                      Title   \n",
       "\n",
       "                                             description         label  \\\n",
       "277    Professor James Aitken White was a leading Sco...  [Stereotype]   \n",
       "20188  Academic papers, 1942-1986; publications and a...            []   \n",
       "6748                                  Commonplace Book 2            []   \n",
       "24617                                           Notebook            []   \n",
       "6873                                Poems and quotations            []   \n",
       "\n",
       "         fold     predicted  \n",
       "277    split4  [Stereotype]  \n",
       "20188  split4            []  \n",
       "6748   split4            []  \n",
       "24617  split4            []  \n",
       "6873   split4            []  "
      ]
     },
     "execution_count": 13,
     "metadata": {},
     "output_type": "execute_result"
    }
   ],
   "source": [
    "df_test.insert(len(df.columns), pred_col, new_preds)\n",
    "df_test.head()"
   ]
  },
  {
   "cell_type": "code",
   "execution_count": 14,
   "id": "9d090330",
   "metadata": {},
   "outputs": [
    {
     "data": {
      "text/plain": [
       "[]                        4822\n",
       "[Omission]                 361\n",
       "[Omission, Stereotype]     184\n",
       "[Stereotype]                97\n",
       "Name: predicted, dtype: int64"
      ]
     },
     "execution_count": 14,
     "metadata": {},
     "output_type": "execute_result"
    }
   ],
   "source": [
    "df_test[pred_col].value_counts()"
   ]
  },
  {
   "cell_type": "code",
   "execution_count": 15,
   "id": "c2db77da",
   "metadata": {},
   "outputs": [],
   "source": [
    "df_test.to_csv(pred_dir+\"svm_tfidf_test_predictions.csv\")"
   ]
  },
  {
   "cell_type": "code",
   "execution_count": 16,
   "id": "40e57b7d",
   "metadata": {},
   "outputs": [
    {
     "data": {
      "text/html": [
       "<div>\n",
       "<style scoped>\n",
       "    .dataframe tbody tr th:only-of-type {\n",
       "        vertical-align: middle;\n",
       "    }\n",
       "\n",
       "    .dataframe tbody tr th {\n",
       "        vertical-align: top;\n",
       "    }\n",
       "\n",
       "    .dataframe thead th {\n",
       "        text-align: right;\n",
       "    }\n",
       "</style>\n",
       "<table border=\"1\" class=\"dataframe\">\n",
       "  <thead>\n",
       "    <tr style=\"text-align: right;\">\n",
       "      <th></th>\n",
       "      <th>labels</th>\n",
       "      <th>true_neg</th>\n",
       "      <th>false_neg</th>\n",
       "      <th>true_pos</th>\n",
       "      <th>false_pos</th>\n",
       "      <th>precision</th>\n",
       "      <th>recall</th>\n",
       "      <th>f_1</th>\n",
       "    </tr>\n",
       "  </thead>\n",
       "  <tbody>\n",
       "    <tr>\n",
       "      <th>0</th>\n",
       "      <td>Omission</td>\n",
       "      <td>4540</td>\n",
       "      <td>379</td>\n",
       "      <td>459</td>\n",
       "      <td>86</td>\n",
       "      <td>0.842202</td>\n",
       "      <td>0.547733</td>\n",
       "      <td>0.663774</td>\n",
       "    </tr>\n",
       "    <tr>\n",
       "      <th>1</th>\n",
       "      <td>Stereotype</td>\n",
       "      <td>5107</td>\n",
       "      <td>76</td>\n",
       "      <td>267</td>\n",
       "      <td>14</td>\n",
       "      <td>0.950178</td>\n",
       "      <td>0.778426</td>\n",
       "      <td>0.855769</td>\n",
       "    </tr>\n",
       "  </tbody>\n",
       "</table>\n",
       "</div>"
      ],
      "text/plain": [
       "       labels  true_neg  false_neg  true_pos  false_pos  precision    recall  \\\n",
       "0    Omission      4540        379       459         86   0.842202  0.547733   \n",
       "1  Stereotype      5107         76       267         14   0.950178  0.778426   \n",
       "\n",
       "        f_1  \n",
       "0  0.663774  \n",
       "1  0.855769  "
      ]
     },
     "execution_count": 16,
     "metadata": {},
     "output_type": "execute_result"
    }
   ],
   "source": [
    "matrix = multilabel_confusion_matrix(y_test, y_pred, labels=clf.classes_)\n",
    "\n",
    "tn = matrix[:, 0, 0]  # True negatives\n",
    "fn = matrix[:, 1, 0]  # False negatives\n",
    "tp = matrix[:, 1, 1]  # True positives\n",
    "fp = matrix[:, 0, 1]  # False positives\n",
    "class_names = list(mlb_so.classes_)\n",
    "\n",
    "[precision, recall, f_1, suport] = precision_recall_fscore_support(\n",
    "    y_test, y_pred, beta=1.0, zero_division=0, labels=clf.classes_\n",
    ")\n",
    "\n",
    "test_agmt_df = pd.DataFrame({\n",
    "    \"labels\":class_names, \"true_neg\":tn, \"false_neg\":fn, \"true_pos\":tp, \"false_pos\":fp,\n",
    "    \"precision\":precision, \"recall\":recall, \"f_1\":f_1\n",
    "})\n",
    "test_agmt_df"
   ]
  },
  {
   "cell_type": "markdown",
   "id": "a7c914a8",
   "metadata": {},
   "source": [
    "Export the models:"
   ]
  },
  {
   "cell_type": "code",
   "execution_count": 17,
   "id": "223d88f3",
   "metadata": {},
   "outputs": [
    {
     "name": "stdout",
     "output_type": "stream",
     "text": [
      "Saved models/multilabel_document/sgd-svm_F-tfidf_T-os.joblib\n",
      "Saved models/multilabel_document/mlb_targets_os.joblib\n",
      "Saved models/multilabel_document/count_vectorizer.joblib\n",
      "Saved models/multilabel_document/tfidf_transformer.joblib\n"
     ]
    }
   ],
   "source": [
    "model_dir = config.models_path+\"multilabel_document/\"\n",
    "Path(model_dir).mkdir(parents=True, exist_ok=True)\n",
    "\n",
    "# Save baseline classifier\n",
    "filename = model_dir+\"sgd-svm_F-tfidf_T-os.joblib\"  # include features (F) and targets (T) in model's file name\n",
    "dump(clf, filename)\n",
    "print(\"Saved\", filename)\n",
    "\n",
    "# Save multilabel binarizer for Stereotype and Omission labels\n",
    "filename = model_dir+\"mlb_targets_os.joblib\"\n",
    "dump(mlb_so, filename)\n",
    "print(\"Saved\", filename)\n",
    "\n",
    "# Save the Count Vectorizer\n",
    "filename = model_dir+\"count_vectorizer.joblib\"\n",
    "dump(cvectorizer, filename)\n",
    "print(\"Saved\", filename)\n",
    "\n",
    "# Save the Term Frequency Inverse Document Frequency (TFIDF) transformer\n",
    "filename = model_dir+\"tfidf_transformer.joblib\"\n",
    "dump(tfidf, filename)\n",
    "print(\"Saved\", filename)"
   ]
  },
  {
   "cell_type": "markdown",
   "id": "8a9350e5",
   "metadata": {},
   "source": [
    "## 2. Experiment 2, Model 2\n",
    "### 2.1 Data Preprocessing"
   ]
  },
  {
   "cell_type": "markdown",
   "id": "bc0bd1dd-331d-46e9-b2f2-b6c31278c29a",
   "metadata": {},
   "source": [
    "Load data from multilabel token classification of **Linguistic** labels:"
   ]
  },
  {
   "cell_type": "code",
   "execution_count": 5,
   "id": "7f8200bb-f3a1-48be-8084-64e8458de64e",
   "metadata": {},
   "outputs": [
    {
     "data": {
      "text/html": [
       "<div>\n",
       "<style scoped>\n",
       "    .dataframe tbody tr th:only-of-type {\n",
       "        vertical-align: middle;\n",
       "    }\n",
       "\n",
       "    .dataframe tbody tr th {\n",
       "        vertical-align: top;\n",
       "    }\n",
       "\n",
       "    .dataframe thead th {\n",
       "        text-align: right;\n",
       "    }\n",
       "</style>\n",
       "<table border=\"1\" class=\"dataframe\">\n",
       "  <thead>\n",
       "    <tr style=\"text-align: right;\">\n",
       "      <th></th>\n",
       "      <th>description_id</th>\n",
       "      <th>sentence_id</th>\n",
       "      <th>token_id</th>\n",
       "      <th>token</th>\n",
       "      <th>pos</th>\n",
       "      <th>field</th>\n",
       "      <th>token_offsets</th>\n",
       "      <th>tag</th>\n",
       "      <th>fold</th>\n",
       "      <th>predicted</th>\n",
       "      <th>_merge</th>\n",
       "    </tr>\n",
       "  </thead>\n",
       "  <tbody>\n",
       "    <tr>\n",
       "      <th>0</th>\n",
       "      <td>0</td>\n",
       "      <td>0</td>\n",
       "      <td>0</td>\n",
       "      <td>Identifier</td>\n",
       "      <td>NN</td>\n",
       "      <td>Identifier</td>\n",
       "      <td>(0, 10)</td>\n",
       "      <td>O</td>\n",
       "      <td>split4</td>\n",
       "      <td>O</td>\n",
       "      <td>true negative</td>\n",
       "    </tr>\n",
       "    <tr>\n",
       "      <th>1</th>\n",
       "      <td>0</td>\n",
       "      <td>0</td>\n",
       "      <td>1</td>\n",
       "      <td>:</td>\n",
       "      <td>:</td>\n",
       "      <td>Identifier</td>\n",
       "      <td>(10, 11)</td>\n",
       "      <td>O</td>\n",
       "      <td>split4</td>\n",
       "      <td>O</td>\n",
       "      <td>true negative</td>\n",
       "    </tr>\n",
       "    <tr>\n",
       "      <th>2</th>\n",
       "      <td>0</td>\n",
       "      <td>0</td>\n",
       "      <td>2</td>\n",
       "      <td>AA5</td>\n",
       "      <td>NN</td>\n",
       "      <td>Identifier</td>\n",
       "      <td>(12, 15)</td>\n",
       "      <td>O</td>\n",
       "      <td>split4</td>\n",
       "      <td>O</td>\n",
       "      <td>true negative</td>\n",
       "    </tr>\n",
       "    <tr>\n",
       "      <th>3</th>\n",
       "      <td>3</td>\n",
       "      <td>4</td>\n",
       "      <td>134</td>\n",
       "      <td>He</td>\n",
       "      <td>PRP</td>\n",
       "      <td>Biographical / Historical</td>\n",
       "      <td>(789, 791)</td>\n",
       "      <td>Gendered-Pronoun</td>\n",
       "      <td>split4</td>\n",
       "      <td>Gendered-Pronoun</td>\n",
       "      <td>true positive</td>\n",
       "    </tr>\n",
       "    <tr>\n",
       "      <th>4</th>\n",
       "      <td>3</td>\n",
       "      <td>4</td>\n",
       "      <td>135</td>\n",
       "      <td>was</td>\n",
       "      <td>VBD</td>\n",
       "      <td>Biographical / Historical</td>\n",
       "      <td>(792, 795)</td>\n",
       "      <td>O</td>\n",
       "      <td>split4</td>\n",
       "      <td>O</td>\n",
       "      <td>true negative</td>\n",
       "    </tr>\n",
       "  </tbody>\n",
       "</table>\n",
       "</div>"
      ],
      "text/plain": [
       "   description_id  sentence_id  token_id       token  pos  \\\n",
       "0               0            0         0  Identifier   NN   \n",
       "1               0            0         1           :    :   \n",
       "2               0            0         2         AA5   NN   \n",
       "3               3            4       134          He  PRP   \n",
       "4               3            4       135         was  VBD   \n",
       "\n",
       "                       field token_offsets               tag    fold  \\\n",
       "0                 Identifier       (0, 10)                 O  split4   \n",
       "1                 Identifier      (10, 11)                 O  split4   \n",
       "2                 Identifier      (12, 15)                 O  split4   \n",
       "3  Biographical / Historical    (789, 791)  Gendered-Pronoun  split4   \n",
       "4  Biographical / Historical    (792, 795)                 O  split4   \n",
       "\n",
       "          predicted         _merge  \n",
       "0                 O  true negative  \n",
       "1                 O  true negative  \n",
       "2                 O  true negative  \n",
       "3  Gendered-Pronoun  true positive  \n",
       "4                 O  true negative  "
      ]
     },
     "execution_count": 5,
     "metadata": {},
     "output_type": "execute_result"
    }
   ],
   "source": [
    "pred_dir = \"data/multilabel_token_predictions/ccrf_ftcbow100lower/\"\n",
    "ling_clf_output = pred_dir+\"ccrf_ftcbow100_alldata_predictions.csv\"\n",
    "df_features = pd.read_csv(ling_clf_output, index_col=0)\n",
    "df_features.head()"
   ]
  },
  {
   "cell_type": "code",
   "execution_count": null,
   "id": "960018f9-31da-4bf7-a4e9-8cdef8324100",
   "metadata": {},
   "outputs": [
    {
     "data": {
      "text/html": [
       "<div>\n",
       "<style scoped>\n",
       "    .dataframe tbody tr th:only-of-type {\n",
       "        vertical-align: middle;\n",
       "    }\n",
       "\n",
       "    .dataframe tbody tr th {\n",
       "        vertical-align: top;\n",
       "    }\n",
       "\n",
       "    .dataframe thead th {\n",
       "        text-align: right;\n",
       "    }\n",
       "</style>\n",
       "<table border=\"1\" class=\"dataframe\">\n",
       "  <thead>\n",
       "    <tr style=\"text-align: right;\">\n",
       "      <th></th>\n",
       "      <th>sentence_id</th>\n",
       "      <th>token_id</th>\n",
       "      <th>predicted</th>\n",
       "    </tr>\n",
       "    <tr>\n",
       "      <th>description_id</th>\n",
       "      <th></th>\n",
       "      <th></th>\n",
       "      <th></th>\n",
       "    </tr>\n",
       "  </thead>\n",
       "  <tbody>\n",
       "    <tr>\n",
       "      <th>0</th>\n",
       "      <td>[0]</td>\n",
       "      <td>[0, 1, 2]</td>\n",
       "      <td>[O]</td>\n",
       "    </tr>\n",
       "    <tr>\n",
       "      <th>1</th>\n",
       "      <td>[1]</td>\n",
       "      <td>[3, 4, 5, 6, 7, 8, 9, 10, 11, 12, 13, 14, 15]</td>\n",
       "      <td>[O]</td>\n",
       "    </tr>\n",
       "    <tr>\n",
       "      <th>2</th>\n",
       "      <td>[2]</td>\n",
       "      <td>[16, 17, 18, 19, 20, 21, 22, 23, 24, 25, 26, 2...</td>\n",
       "      <td>[O]</td>\n",
       "    </tr>\n",
       "    <tr>\n",
       "      <th>3</th>\n",
       "      <td>[3, 4, 5, 6, 7, 8, 9, 10]</td>\n",
       "      <td>[109, 110, 111, 112, 113, 114, 115, 116, 117, ...</td>\n",
       "      <td>[O, Gendered-Pronoun]</td>\n",
       "    </tr>\n",
       "    <tr>\n",
       "      <th>4</th>\n",
       "      <td>[11]</td>\n",
       "      <td>[308, 309, 310]</td>\n",
       "      <td>[O]</td>\n",
       "    </tr>\n",
       "  </tbody>\n",
       "</table>\n",
       "</div>"
      ],
      "text/plain": [
       "                              sentence_id  \\\n",
       "description_id                              \n",
       "0                                     [0]   \n",
       "1                                     [1]   \n",
       "2                                     [2]   \n",
       "3               [3, 4, 5, 6, 7, 8, 9, 10]   \n",
       "4                                    [11]   \n",
       "\n",
       "                                                         token_id  \\\n",
       "description_id                                                      \n",
       "0                                                       [0, 1, 2]   \n",
       "1                   [3, 4, 5, 6, 7, 8, 9, 10, 11, 12, 13, 14, 15]   \n",
       "2               [16, 17, 18, 19, 20, 21, 22, 23, 24, 25, 26, 2...   \n",
       "3               [109, 110, 111, 112, 113, 114, 115, 116, 117, ...   \n",
       "4                                                 [308, 309, 310]   \n",
       "\n",
       "                            predicted  \n",
       "description_id                         \n",
       "0                                 [O]  \n",
       "1                                 [O]  \n",
       "2                                 [O]  \n",
       "3               [O, Gendered-Pronoun]  \n",
       "4                                 [O]  "
      ]
     },
     "execution_count": 6,
     "metadata": {},
     "output_type": "execute_result"
    }
   ],
   "source": [
    "# Group the data by description so it can be combined with the description data\n",
    "df_features = my_utils.implodeDataFrameUnique(df_features[[\"description_id\", \"sentence_id\", \"token_id\", \"predicted\"]], [\"description_id\"])\n",
    "\n",
    "# Deduplicate lists in sentence_id, token_id, and predicted columns\n",
    "cols = [\"sentence_id\", \"token_id\", \"predicted\"]\n",
    "for col in cols:\n",
    "    old_col = list(df_features[col])\n",
    "    # dedup_col = [list(set(values)) for values in old_col]\n",
    "    new_col = []\n",
    "    if col == \"predicted\":\n",
    "        for values in old_col:\n",
    "            if (len(values) > 1) and (\"O\" in values):\n",
    "                values.remove(\"O\")\n",
    "            new_col += [list(values)]\n",
    "    else:\n",
    "        new_col = old_col\n",
    "    col_i = list(df_features.columns).index(col)\n",
    "    df_features = df_features.drop(columns=[col])\n",
    "    df_features.insert(col_i, col, new_col)\n",
    "\n",
    "df_features.head()"
   ]
  },
  {
   "cell_type": "markdown",
   "id": "fa27cf9f-4685-4fb5-9bd9-73b8b3f3b461",
   "metadata": {},
   "source": [
    "### 2.2 Feature Extraction\n",
    "\n",
    "Join the feature data (i.e. classifier-predicted **Linguistic** labels) to the document data (i.e. catalog metadata descriptions):"
   ]
  },
  {
   "cell_type": "code",
   "execution_count": null,
   "id": "601db063-530c-4d9b-a725-70a425931bc4",
   "metadata": {},
   "outputs": [
    {
     "data": {
      "text/html": [
       "<div>\n",
       "<style scoped>\n",
       "    .dataframe tbody tr th:only-of-type {\n",
       "        vertical-align: middle;\n",
       "    }\n",
       "\n",
       "    .dataframe tbody tr th {\n",
       "        vertical-align: top;\n",
       "    }\n",
       "\n",
       "    .dataframe thead th {\n",
       "        text-align: right;\n",
       "    }\n",
       "</style>\n",
       "<table border=\"1\" class=\"dataframe\">\n",
       "  <thead>\n",
       "    <tr style=\"text-align: right;\">\n",
       "      <th></th>\n",
       "      <th>sentence_id</th>\n",
       "      <th>token_id</th>\n",
       "      <th>start_offset</th>\n",
       "      <th>linguistic_pred</th>\n",
       "      <th>end_offset</th>\n",
       "      <th>field</th>\n",
       "      <th>description</th>\n",
       "      <th>exp_label</th>\n",
       "      <th>fold</th>\n",
       "    </tr>\n",
       "    <tr>\n",
       "      <th>description_id</th>\n",
       "      <th></th>\n",
       "      <th></th>\n",
       "      <th></th>\n",
       "      <th></th>\n",
       "      <th></th>\n",
       "      <th></th>\n",
       "      <th></th>\n",
       "      <th></th>\n",
       "      <th></th>\n",
       "    </tr>\n",
       "  </thead>\n",
       "  <tbody>\n",
       "    <tr>\n",
       "      <th>1</th>\n",
       "      <td>[1]</td>\n",
       "      <td>[3, 4, 5, 6, 7, 8, 9, 10, 11, 12, 13, 14, 15]</td>\n",
       "      <td>17</td>\n",
       "      <td>[O]</td>\n",
       "      <td>76</td>\n",
       "      <td>Title</td>\n",
       "      <td>Papers of The Very Rev Prof James Whyte (1920-...</td>\n",
       "      <td>[Stereotype]</td>\n",
       "      <td>split2</td>\n",
       "    </tr>\n",
       "    <tr>\n",
       "      <th>2</th>\n",
       "      <td>[2]</td>\n",
       "      <td>[16, 17, 18, 19, 20, 21, 22, 23, 24, 25, 26, 2...</td>\n",
       "      <td>77</td>\n",
       "      <td>[O]</td>\n",
       "      <td>633</td>\n",
       "      <td>Scope and Contents</td>\n",
       "      <td>Sermons and addresses, 1948-1996; lectures, 19...</td>\n",
       "      <td>[]</td>\n",
       "      <td>split3</td>\n",
       "    </tr>\n",
       "    <tr>\n",
       "      <th>3</th>\n",
       "      <td>[3, 4, 5, 6, 7, 8, 9, 10]</td>\n",
       "      <td>[109, 110, 111, 112, 113, 114, 115, 116, 117, ...</td>\n",
       "      <td>634</td>\n",
       "      <td>[Gendered-Pronoun]</td>\n",
       "      <td>1725</td>\n",
       "      <td>Biographical / Historical</td>\n",
       "      <td>Professor James Aitken White was a leading Sco...</td>\n",
       "      <td>[Stereotype]</td>\n",
       "      <td>split4</td>\n",
       "    </tr>\n",
       "    <tr>\n",
       "      <th>5</th>\n",
       "      <td>[12]</td>\n",
       "      <td>[320, 311, 312, 313, 314, 315, 316, 317, 318, ...</td>\n",
       "      <td>17</td>\n",
       "      <td>[O]</td>\n",
       "      <td>60</td>\n",
       "      <td>Title</td>\n",
       "      <td>Papers of Rev Tom Allan (1916-1965)</td>\n",
       "      <td>[]</td>\n",
       "      <td>split1</td>\n",
       "    </tr>\n",
       "    <tr>\n",
       "      <th>6</th>\n",
       "      <td>[13, 14]</td>\n",
       "      <td>[321, 322, 323, 324, 325, 326, 327, 328, 329, ...</td>\n",
       "      <td>61</td>\n",
       "      <td>[O]</td>\n",
       "      <td>560</td>\n",
       "      <td>Scope and Contents</td>\n",
       "      <td>Sermons and addresses, 1947-1963; essays and l...</td>\n",
       "      <td>[]</td>\n",
       "      <td>split3</td>\n",
       "    </tr>\n",
       "  </tbody>\n",
       "</table>\n",
       "</div>"
      ],
      "text/plain": [
       "                              sentence_id  \\\n",
       "description_id                              \n",
       "1                                     [1]   \n",
       "2                                     [2]   \n",
       "3               [3, 4, 5, 6, 7, 8, 9, 10]   \n",
       "5                                    [12]   \n",
       "6                                [13, 14]   \n",
       "\n",
       "                                                         token_id  \\\n",
       "description_id                                                      \n",
       "1                   [3, 4, 5, 6, 7, 8, 9, 10, 11, 12, 13, 14, 15]   \n",
       "2               [16, 17, 18, 19, 20, 21, 22, 23, 24, 25, 26, 2...   \n",
       "3               [109, 110, 111, 112, 113, 114, 115, 116, 117, ...   \n",
       "5               [320, 311, 312, 313, 314, 315, 316, 317, 318, ...   \n",
       "6               [321, 322, 323, 324, 325, 326, 327, 328, 329, ...   \n",
       "\n",
       "                start_offset     linguistic_pred  end_offset  \\\n",
       "description_id                                                 \n",
       "1                         17                 [O]          76   \n",
       "2                         77                 [O]         633   \n",
       "3                        634  [Gendered-Pronoun]        1725   \n",
       "5                         17                 [O]          60   \n",
       "6                         61                 [O]         560   \n",
       "\n",
       "                                    field  \\\n",
       "description_id                              \n",
       "1                                   Title   \n",
       "2                      Scope and Contents   \n",
       "3               Biographical / Historical   \n",
       "5                                   Title   \n",
       "6                      Scope and Contents   \n",
       "\n",
       "                                                      description  \\\n",
       "description_id                                                      \n",
       "1               Papers of The Very Rev Prof James Whyte (1920-...   \n",
       "2               Sermons and addresses, 1948-1996; lectures, 19...   \n",
       "3               Professor James Aitken White was a leading Sco...   \n",
       "5                             Papers of Rev Tom Allan (1916-1965)   \n",
       "6               Sermons and addresses, 1947-1963; essays and l...   \n",
       "\n",
       "                   exp_label    fold  \n",
       "description_id                        \n",
       "1               [Stereotype]  split2  \n",
       "2                         []  split3  \n",
       "3               [Stereotype]  split4  \n",
       "5                         []  split1  \n",
       "6                         []  split3  "
      ]
     },
     "execution_count": 7,
     "metadata": {},
     "output_type": "execute_result"
    }
   ],
   "source": [
    "df = df_features.join(df_docs.set_index(\"description_id\"), on=\"description_id\", how=\"right\")\n",
    "\n",
    "# Rename label columns for clarity\n",
    "df = df.rename(columns={\"predicted\":\"linguistic_pred\", \"label\":\"exp_label\"})\n",
    "\n",
    "# # Remove \"O\" from linguistic prediction lists if other labels are present in the list\n",
    "# ling_pred = list(df[\"linguistic_pred\"])\n",
    "# new_ling_pred = []\n",
    "# for pred in ling_pred:\n",
    "#     if len(pred) > 1:\n",
    "#         if \"O\" in pred:\n",
    "#             pred.remove(\"O\")\n",
    "#     new_ling_pred += [pred]\n",
    "\n",
    "df = df.drop(columns=[\"linguistic_pred\"])\n",
    "df.insert(3, \"linguistic_pred\", new_ling_pred)\n",
    "df.head()"
   ]
  },
  {
   "cell_type": "code",
   "execution_count": 21,
   "id": "d240b27b",
   "metadata": {},
   "outputs": [
    {
     "data": {
      "text/plain": [
       "[O]                                                  20758\n",
       "[Gendered-Role]                                        863\n",
       "[Gendered-Pronoun]                                     657\n",
       "[Gendered-Pronoun, Gendered-Role]                      345\n",
       "[Generalization]                                       116\n",
       "[Gendered-Pronoun, Gendered-Role, Generalization]       73\n",
       "[Gendered-Pronoun, Generalization]                      47\n",
       "[Gendered-Role, Generalization]                         32\n",
       "Name: linguistic_pred, dtype: int64"
      ]
     },
     "execution_count": 21,
     "metadata": {},
     "output_type": "execute_result"
    }
   ],
   "source": [
    "df.linguistic_pred.value_counts()"
   ]
  },
  {
   "cell_type": "markdown",
   "id": "fbcb44d3-8f2f-4290-ad84-a5541ac8f9fb",
   "metadata": {},
   "source": [
    "### 2.3 Classifier Training and Development"
   ]
  },
  {
   "cell_type": "code",
   "execution_count": 9,
   "id": "d9648c5f",
   "metadata": {},
   "outputs": [],
   "source": [
    "mlb_ling = joblib.load(config.models_path+\"multilabel_token/mlb_targets_ling.joblib\")"
   ]
  },
  {
   "cell_type": "code",
   "execution_count": 10,
   "id": "30866fb0",
   "metadata": {},
   "outputs": [
    {
     "data": {
      "text/plain": [
       "array(['Gendered-Pronoun', 'Gendered-Role', 'Generalization'],\n",
       "      dtype=object)"
      ]
     },
     "execution_count": 10,
     "metadata": {},
     "output_type": "execute_result"
    }
   ],
   "source": [
    "mlb_ling.classes_"
   ]
  },
  {
   "cell_type": "code",
   "execution_count": 11,
   "id": "86a9339a",
   "metadata": {},
   "outputs": [
    {
     "data": {
      "text/plain": [
       "array(['Omission', 'Stereotype'], dtype=object)"
      ]
     },
     "execution_count": 11,
     "metadata": {},
     "output_type": "execute_result"
    }
   ],
   "source": [
    "mlb_so.classes_"
   ]
  },
  {
   "cell_type": "code",
   "execution_count": 12,
   "id": "a77a8fe5",
   "metadata": {},
   "outputs": [
    {
     "name": "stdout",
     "output_type": "stream",
     "text": [
      "Run: (['split0', 'split1', 'split2'], 'split3')\n"
     ]
    },
    {
     "name": "stderr",
     "output_type": "stream",
     "text": [
      "/Users/lucyhavens/miniconda3/envs/gender-bias-env/lib/python3.9/site-packages/sklearn/preprocessing/_label.py:895: UserWarning: unknown class(es) ['O'] will be ignored\n",
      "  warnings.warn(\n",
      "/Users/lucyhavens/miniconda3/envs/gender-bias-env/lib/python3.9/site-packages/sklearn/preprocessing/_label.py:895: UserWarning: unknown class(es) [''] will be ignored\n",
      "  warnings.warn(\n"
     ]
    },
    {
     "name": "stdout",
     "output_type": "stream",
     "text": [
      "Run: (['split1', 'split2', 'split3'], 'split0')\n"
     ]
    },
    {
     "name": "stderr",
     "output_type": "stream",
     "text": [
      "/Users/lucyhavens/miniconda3/envs/gender-bias-env/lib/python3.9/site-packages/sklearn/preprocessing/_label.py:895: UserWarning: unknown class(es) ['O'] will be ignored\n",
      "  warnings.warn(\n",
      "/Users/lucyhavens/miniconda3/envs/gender-bias-env/lib/python3.9/site-packages/sklearn/preprocessing/_label.py:895: UserWarning: unknown class(es) [''] will be ignored\n",
      "  warnings.warn(\n"
     ]
    },
    {
     "name": "stdout",
     "output_type": "stream",
     "text": [
      "Run: (['split2', 'split3', 'split0'], 'split1')\n",
      "Run: (['split3', 'split0', 'split1'], 'split2')\n"
     ]
    },
    {
     "name": "stderr",
     "output_type": "stream",
     "text": [
      "/Users/lucyhavens/miniconda3/envs/gender-bias-env/lib/python3.9/site-packages/sklearn/preprocessing/_label.py:895: UserWarning: unknown class(es) ['O'] will be ignored\n",
      "  warnings.warn(\n",
      "/Users/lucyhavens/miniconda3/envs/gender-bias-env/lib/python3.9/site-packages/sklearn/preprocessing/_label.py:895: UserWarning: unknown class(es) [''] will be ignored\n",
      "  warnings.warn(\n",
      "/Users/lucyhavens/miniconda3/envs/gender-bias-env/lib/python3.9/site-packages/sklearn/preprocessing/_label.py:895: UserWarning: unknown class(es) ['O'] will be ignored\n",
      "  warnings.warn(\n",
      "/Users/lucyhavens/miniconda3/envs/gender-bias-env/lib/python3.9/site-packages/sklearn/preprocessing/_label.py:895: UserWarning: unknown class(es) [''] will be ignored\n",
      "  warnings.warn(\n"
     ]
    },
    {
     "data": {
      "text/plain": [
       "[]                        19220\n",
       "[Omission]                 1588\n",
       "[Omission, Stereotype]      743\n",
       "[Stereotype]                297\n",
       "Name: predicted, dtype: int64"
      ]
     },
     "execution_count": 12,
     "metadata": {},
     "output_type": "execute_result"
    }
   ],
   "source": [
    "final_df_devtest = pd.DataFrame()\n",
    "feat_col = \"linguistic_pred\"\n",
    "target_col = \"exp_label\"\n",
    "for run in runs:\n",
    "    print(\"Run:\", run)\n",
    "    # Select 3 subsets of data as the training set and 1 subset of data as the devtest set\n",
    "    train_splits, devtest_split = run[0], run[1]\n",
    "    df_train = df.loc[df[split_col].isin(train_splits)]\n",
    "    df_devtest = df.loc[df[split_col] == devtest_split]\n",
    "\n",
    "    # Binarize the features\n",
    "    train_feat = mlb_ling.transform(df_train[feat_col])\n",
    "    devtest_feat = mlb_ling.transform(df_devtest[feat_col])\n",
    "\n",
    "    # Binarize targets\n",
    "    y_train = mlb_so.transform(df_train[target_col])\n",
    "    y_devtest = mlb_so.transform(df_devtest[target_col])\n",
    "\n",
    "    # Vectorize the documents (descriptions)\n",
    "    cvectorizer = CountVectorizer()\n",
    "    tfidf = TfidfTransformer()\n",
    "    doc_col = \"description\"\n",
    "    train_docs = cvectorizer.fit_transform(df_train[doc_col])\n",
    "    devtest_docs = cvectorizer.transform(df_devtest[doc_col])\n",
    "    train_docs = tfidf.fit_transform(train_docs)\n",
    "    devtest_docs = tfidf.transform(devtest_docs)\n",
    "\n",
    "    # Concatenate the features and documents\n",
    "    X_train = scipy.sparse.hstack([train_docs, train_feat])\n",
    "    X_devtest = scipy.sparse.hstack([devtest_docs, devtest_feat])\n",
    "    \n",
    "    # Train a classifier\n",
    "    clf = OneVsRestClassifier(SGDClassifier(loss=\"hinge\"))  # Use Support Vector Machines (SVM) loss function\n",
    "    clf.fit(X_train, y_train)\n",
    "    \n",
    "    # Classify the devtest data with the trained classifier\n",
    "    y_pred = clf.predict(X_devtest)\n",
    "\n",
    "    # Format the predicted tags as lists to match the format of the expected tags\n",
    "    pred_labels = mlb_so.inverse_transform(y_pred)\n",
    "    new_preds = []\n",
    "    for labels in pred_labels:\n",
    "        new_preds += [list(labels)]\n",
    "    \n",
    "    # Add the predictions to the devtest DataFrame\n",
    "    df_devtest.insert(len(df.columns), \"predicted\", new_preds)\n",
    "\n",
    "    # Merge any previous devtest DataFrames with the latest devtest DataFrame\n",
    "    final_df_devtest = pd.concat([final_df_devtest, df_devtest])\n",
    "\n",
    "assert final_df_devtest.shape[0] < df.shape[0]\n",
    "final_df_devtest.predicted.value_counts()"
   ]
  },
  {
   "cell_type": "code",
   "execution_count": 13,
   "id": "c4b166c4",
   "metadata": {},
   "outputs": [
    {
     "data": {
      "text/html": [
       "<div>\n",
       "<style scoped>\n",
       "    .dataframe tbody tr th:only-of-type {\n",
       "        vertical-align: middle;\n",
       "    }\n",
       "\n",
       "    .dataframe tbody tr th {\n",
       "        vertical-align: top;\n",
       "    }\n",
       "\n",
       "    .dataframe thead th {\n",
       "        text-align: right;\n",
       "    }\n",
       "</style>\n",
       "<table border=\"1\" class=\"dataframe\">\n",
       "  <thead>\n",
       "    <tr style=\"text-align: right;\">\n",
       "      <th></th>\n",
       "      <th>sentence_id</th>\n",
       "      <th>token_id</th>\n",
       "      <th>start_offset</th>\n",
       "      <th>linguistic_pred</th>\n",
       "      <th>end_offset</th>\n",
       "      <th>field</th>\n",
       "      <th>description</th>\n",
       "      <th>exp_label</th>\n",
       "      <th>fold</th>\n",
       "      <th>predicted</th>\n",
       "    </tr>\n",
       "    <tr>\n",
       "      <th>description_id</th>\n",
       "      <th></th>\n",
       "      <th></th>\n",
       "      <th></th>\n",
       "      <th></th>\n",
       "      <th></th>\n",
       "      <th></th>\n",
       "      <th></th>\n",
       "      <th></th>\n",
       "      <th></th>\n",
       "      <th></th>\n",
       "    </tr>\n",
       "  </thead>\n",
       "  <tbody>\n",
       "    <tr>\n",
       "      <th>2</th>\n",
       "      <td>[2]</td>\n",
       "      <td>[16, 17, 18, 19, 20, 21, 22, 23, 24, 25, 26, 2...</td>\n",
       "      <td>77</td>\n",
       "      <td>[O]</td>\n",
       "      <td>633</td>\n",
       "      <td>Scope and Contents</td>\n",
       "      <td>Sermons and addresses, 1948-1996; lectures, 19...</td>\n",
       "      <td>[]</td>\n",
       "      <td>split3</td>\n",
       "      <td>[]</td>\n",
       "    </tr>\n",
       "    <tr>\n",
       "      <th>6</th>\n",
       "      <td>[13, 14]</td>\n",
       "      <td>[321, 322, 323, 324, 325, 326, 327, 328, 329, ...</td>\n",
       "      <td>61</td>\n",
       "      <td>[O]</td>\n",
       "      <td>560</td>\n",
       "      <td>Scope and Contents</td>\n",
       "      <td>Sermons and addresses, 1947-1963; essays and l...</td>\n",
       "      <td>[]</td>\n",
       "      <td>split3</td>\n",
       "      <td>[]</td>\n",
       "    </tr>\n",
       "    <tr>\n",
       "      <th>14</th>\n",
       "      <td>[48]</td>\n",
       "      <td>[1216, 1217, 1218, 1219, 1220, 1215]</td>\n",
       "      <td>85</td>\n",
       "      <td>[O]</td>\n",
       "      <td>115</td>\n",
       "      <td>Title</td>\n",
       "      <td>Papers of John Baillie</td>\n",
       "      <td>[]</td>\n",
       "      <td>split3</td>\n",
       "      <td>[]</td>\n",
       "    </tr>\n",
       "    <tr>\n",
       "      <th>15</th>\n",
       "      <td>[49]</td>\n",
       "      <td>[1221, 1222, 1223, 1224, 1225]</td>\n",
       "      <td>116</td>\n",
       "      <td>[O]</td>\n",
       "      <td>143</td>\n",
       "      <td>Title</td>\n",
       "      <td>Notes and notebooks</td>\n",
       "      <td>[]</td>\n",
       "      <td>split3</td>\n",
       "      <td>[]</td>\n",
       "    </tr>\n",
       "    <tr>\n",
       "      <th>16</th>\n",
       "      <td>[50]</td>\n",
       "      <td>[1226, 1227, 1228, 1229, 1230, 1231, 1232, 123...</td>\n",
       "      <td>144</td>\n",
       "      <td>[O]</td>\n",
       "      <td>210</td>\n",
       "      <td>Title</td>\n",
       "      <td>Poems chiefly from lesser authors selected by ...</td>\n",
       "      <td>[Omission]</td>\n",
       "      <td>split3</td>\n",
       "      <td>[]</td>\n",
       "    </tr>\n",
       "  </tbody>\n",
       "</table>\n",
       "</div>"
      ],
      "text/plain": [
       "               sentence_id                                           token_id  \\\n",
       "description_id                                                                  \n",
       "2                      [2]  [16, 17, 18, 19, 20, 21, 22, 23, 24, 25, 26, 2...   \n",
       "6                 [13, 14]  [321, 322, 323, 324, 325, 326, 327, 328, 329, ...   \n",
       "14                    [48]               [1216, 1217, 1218, 1219, 1220, 1215]   \n",
       "15                    [49]                     [1221, 1222, 1223, 1224, 1225]   \n",
       "16                    [50]  [1226, 1227, 1228, 1229, 1230, 1231, 1232, 123...   \n",
       "\n",
       "                start_offset linguistic_pred  end_offset               field  \\\n",
       "description_id                                                                 \n",
       "2                         77             [O]         633  Scope and Contents   \n",
       "6                         61             [O]         560  Scope and Contents   \n",
       "14                        85             [O]         115               Title   \n",
       "15                       116             [O]         143               Title   \n",
       "16                       144             [O]         210               Title   \n",
       "\n",
       "                                                      description   exp_label  \\\n",
       "description_id                                                                  \n",
       "2               Sermons and addresses, 1948-1996; lectures, 19...          []   \n",
       "6               Sermons and addresses, 1947-1963; essays and l...          []   \n",
       "14                                         Papers of John Baillie          []   \n",
       "15                                            Notes and notebooks          []   \n",
       "16              Poems chiefly from lesser authors selected by ...  [Omission]   \n",
       "\n",
       "                  fold predicted  \n",
       "description_id                    \n",
       "2               split3        []  \n",
       "6               split3        []  \n",
       "14              split3        []  \n",
       "15              split3        []  \n",
       "16              split3        []  "
      ]
     },
     "execution_count": 13,
     "metadata": {},
     "output_type": "execute_result"
    }
   ],
   "source": [
    "final_df_devtest.head()"
   ]
  },
  {
   "cell_type": "code",
   "execution_count": 14,
   "id": "7457b2e0",
   "metadata": {},
   "outputs": [
    {
     "name": "stderr",
     "output_type": "stream",
     "text": [
      "/Users/lucyhavens/miniconda3/envs/gender-bias-env/lib/python3.9/site-packages/sklearn/preprocessing/_label.py:895: UserWarning: unknown class(es) [''] will be ignored\n",
      "  warnings.warn(\n"
     ]
    }
   ],
   "source": [
    "y_devtest = mlb_so.transform(final_df_devtest[\"exp_label\"])\n",
    "y_pred = mlb_so.transform(final_df_devtest[\"predicted\"])"
   ]
  },
  {
   "cell_type": "code",
   "execution_count": 15,
   "id": "69080aec-c341-401c-b99a-84315fdab7a9",
   "metadata": {},
   "outputs": [
    {
     "data": {
      "text/html": [
       "<div>\n",
       "<style scoped>\n",
       "    .dataframe tbody tr th:only-of-type {\n",
       "        vertical-align: middle;\n",
       "    }\n",
       "\n",
       "    .dataframe tbody tr th {\n",
       "        vertical-align: top;\n",
       "    }\n",
       "\n",
       "    .dataframe thead th {\n",
       "        text-align: right;\n",
       "    }\n",
       "</style>\n",
       "<table border=\"1\" class=\"dataframe\">\n",
       "  <thead>\n",
       "    <tr style=\"text-align: right;\">\n",
       "      <th></th>\n",
       "      <th>labels</th>\n",
       "      <th>true_neg</th>\n",
       "      <th>false_neg</th>\n",
       "      <th>true_pos</th>\n",
       "      <th>false_pos</th>\n",
       "      <th>precision</th>\n",
       "      <th>recall</th>\n",
       "      <th>f_1</th>\n",
       "    </tr>\n",
       "  </thead>\n",
       "  <tbody>\n",
       "    <tr>\n",
       "      <th>0</th>\n",
       "      <td>Omission</td>\n",
       "      <td>18217</td>\n",
       "      <td>1300</td>\n",
       "      <td>1894</td>\n",
       "      <td>437</td>\n",
       "      <td>0.812527</td>\n",
       "      <td>0.592987</td>\n",
       "      <td>0.685611</td>\n",
       "    </tr>\n",
       "    <tr>\n",
       "      <th>1</th>\n",
       "      <td>Stereotype</td>\n",
       "      <td>20509</td>\n",
       "      <td>299</td>\n",
       "      <td>959</td>\n",
       "      <td>81</td>\n",
       "      <td>0.922115</td>\n",
       "      <td>0.762321</td>\n",
       "      <td>0.834639</td>\n",
       "    </tr>\n",
       "  </tbody>\n",
       "</table>\n",
       "</div>"
      ],
      "text/plain": [
       "       labels  true_neg  false_neg  true_pos  false_pos  precision    recall  \\\n",
       "0    Omission     18217       1300      1894        437   0.812527  0.592987   \n",
       "1  Stereotype     20509        299       959         81   0.922115  0.762321   \n",
       "\n",
       "        f_1  \n",
       "0  0.685611  \n",
       "1  0.834639  "
      ]
     },
     "execution_count": 15,
     "metadata": {},
     "output_type": "execute_result"
    }
   ],
   "source": [
    "matrix = multilabel_confusion_matrix(y_devtest, y_pred, labels=clf.classes_)\n",
    "\n",
    "tn = matrix[:, 0, 0]  # True negatives\n",
    "fn = matrix[:, 1, 0]  # False negatives\n",
    "tp = matrix[:, 1, 1]  # True positives\n",
    "fp = matrix[:, 0, 1]  # False positives\n",
    "class_names = list(mlb_so.classes_)\n",
    "\n",
    "[precision, recall, f_1, suport] = precision_recall_fscore_support(\n",
    "    y_devtest, y_pred, beta=1.0, zero_division=0, labels=clf.classes_\n",
    ")\n",
    "\n",
    "agmt_df = pd.DataFrame({\n",
    "    \"labels\":class_names, \"true_neg\":tn, \"false_neg\":fn, \"true_pos\":tp, \"false_pos\":fp,\n",
    "    \"precision\":precision, \"recall\":recall, \"f_1\":f_1\n",
    "})\n",
    "agmt_df"
   ]
  },
  {
   "cell_type": "markdown",
   "id": "3c39a88a-000c-4193-968c-f79fbb17f9ea",
   "metadata": {},
   "source": [
    "### 2.4 Testing"
   ]
  },
  {
   "cell_type": "code",
   "execution_count": 16,
   "id": "b6c13153-0ab4-4389-9858-bf39e036905d",
   "metadata": {},
   "outputs": [
    {
     "name": "stderr",
     "output_type": "stream",
     "text": [
      "/Users/lucyhavens/miniconda3/envs/gender-bias-env/lib/python3.9/site-packages/sklearn/preprocessing/_label.py:895: UserWarning: unknown class(es) ['O'] will be ignored\n",
      "  warnings.warn(\n",
      "/Users/lucyhavens/miniconda3/envs/gender-bias-env/lib/python3.9/site-packages/sklearn/preprocessing/_label.py:895: UserWarning: unknown class(es) [''] will be ignored\n",
      "  warnings.warn(\n"
     ]
    }
   ],
   "source": [
    "# Fit vectorizers to training data\n",
    "cvectorizer = CountVectorizer()\n",
    "tfidf = TfidfTransformer()\n",
    "doc_col = \"description\"\n",
    "train_docs = cvectorizer.fit_transform(df_train[doc_col])\n",
    "train_docs = tfidf.fit_transform(train_docs)\n",
    "\n",
    "# Transform test data\n",
    "df_test = df.loc[df[split_col] == test]\n",
    "test_feat = mlb_ling.transform(df_test[feat_col])\n",
    "y_test = mlb_so.transform(df_test[target_col])\n",
    "test_docs = cvectorizer.transform(df_test[doc_col])\n",
    "test_docs = tfidf.transform(test_docs)\n",
    "X_test = scipy.sparse.hstack([test_docs, test_feat])\n",
    "\n",
    "# Classify the test data\n",
    "y_pred = clf.predict(X_test)"
   ]
  },
  {
   "cell_type": "code",
   "execution_count": 17,
   "id": "653771a8-ca93-4d08-994f-a63df6e98c1a",
   "metadata": {},
   "outputs": [
    {
     "name": "stdout",
     "output_type": "stream",
     "text": [
      "[[], [], [], [], [], [], [], [], [], [], [], [], [], [], [], [], [], [], [], [], [], [], [], [], [], [], [], [], [], [], [], [], [], [], [], ['Omission', 'Stereotype'], [], [], [], ['Omission', 'Stereotype'], [], [], [], ['Omission', 'Stereotype'], [], [], [], [], [], [], [], [], [], [], [], [], [], [], [], ['Omission'], [], ['Omission', 'Stereotype'], [], [], [], [], [], [], [], [], ['Omission'], ['Omission'], [], [], [], [], [], [], [], [], [], [], [], [], [], [], [], [], [], [], [], [], [], [], [], ['Stereotype'], [], ['Omission', 'Stereotype'], [], []]\n"
     ]
    }
   ],
   "source": [
    "# Format the predicted tags as lists to match the format of the expected tags\n",
    "pred_labels = mlb_so.inverse_transform(y_pred)\n",
    "new_preds = []\n",
    "for labels in pred_labels:\n",
    "    new_preds += [list(labels)]\n",
    "print(new_preds[100:200])"
   ]
  },
  {
   "cell_type": "markdown",
   "id": "ef7caf2c-aa32-4a85-b878-4a1bd1a9d8d6",
   "metadata": {},
   "source": [
    "Export the data with predicted labels:"
   ]
  },
  {
   "cell_type": "code",
   "execution_count": 18,
   "id": "a0529923-30bf-4bc7-89c2-510cdf6c0c15",
   "metadata": {},
   "outputs": [
    {
     "data": {
      "text/html": [
       "<div>\n",
       "<style scoped>\n",
       "    .dataframe tbody tr th:only-of-type {\n",
       "        vertical-align: middle;\n",
       "    }\n",
       "\n",
       "    .dataframe tbody tr th {\n",
       "        vertical-align: top;\n",
       "    }\n",
       "\n",
       "    .dataframe thead th {\n",
       "        text-align: right;\n",
       "    }\n",
       "</style>\n",
       "<table border=\"1\" class=\"dataframe\">\n",
       "  <thead>\n",
       "    <tr style=\"text-align: right;\">\n",
       "      <th></th>\n",
       "      <th>sentence_id</th>\n",
       "      <th>token_id</th>\n",
       "      <th>start_offset</th>\n",
       "      <th>linguistic_pred</th>\n",
       "      <th>end_offset</th>\n",
       "      <th>field</th>\n",
       "      <th>description</th>\n",
       "      <th>exp_label</th>\n",
       "      <th>fold</th>\n",
       "      <th>predicted</th>\n",
       "    </tr>\n",
       "    <tr>\n",
       "      <th>description_id</th>\n",
       "      <th></th>\n",
       "      <th></th>\n",
       "      <th></th>\n",
       "      <th></th>\n",
       "      <th></th>\n",
       "      <th></th>\n",
       "      <th></th>\n",
       "      <th></th>\n",
       "      <th></th>\n",
       "      <th></th>\n",
       "    </tr>\n",
       "  </thead>\n",
       "  <tbody>\n",
       "    <tr>\n",
       "      <th>3</th>\n",
       "      <td>[3, 4, 5, 6, 7, 8, 9, 10]</td>\n",
       "      <td>[109, 110, 111, 112, 113, 114, 115, 116, 117, ...</td>\n",
       "      <td>634</td>\n",
       "      <td>[Gendered-Pronoun]</td>\n",
       "      <td>1725</td>\n",
       "      <td>Biographical / Historical</td>\n",
       "      <td>Professor James Aitken White was a leading Sco...</td>\n",
       "      <td>[Stereotype]</td>\n",
       "      <td>split4</td>\n",
       "      <td>[]</td>\n",
       "    </tr>\n",
       "    <tr>\n",
       "      <th>10</th>\n",
       "      <td>[31]</td>\n",
       "      <td>[780, 781, 782, 783, 784, 785, 786, 787, 788, ...</td>\n",
       "      <td>77</td>\n",
       "      <td>[O]</td>\n",
       "      <td>417</td>\n",
       "      <td>Scope and Contents</td>\n",
       "      <td>Academic papers, 1942-1986; publications and a...</td>\n",
       "      <td>[]</td>\n",
       "      <td>split4</td>\n",
       "      <td>[]</td>\n",
       "    </tr>\n",
       "    <tr>\n",
       "      <th>19</th>\n",
       "      <td>[53]</td>\n",
       "      <td>[1248, 1249, 1250, 1251, 1252]</td>\n",
       "      <td>268</td>\n",
       "      <td>[O]</td>\n",
       "      <td>294</td>\n",
       "      <td>Title</td>\n",
       "      <td>Commonplace Book 2</td>\n",
       "      <td>[]</td>\n",
       "      <td>split4</td>\n",
       "      <td>[]</td>\n",
       "    </tr>\n",
       "    <tr>\n",
       "      <th>28</th>\n",
       "      <td>[62]</td>\n",
       "      <td>[1296, 1294, 1295]</td>\n",
       "      <td>540</td>\n",
       "      <td>[O]</td>\n",
       "      <td>556</td>\n",
       "      <td>Title</td>\n",
       "      <td>Notebook</td>\n",
       "      <td>[]</td>\n",
       "      <td>split4</td>\n",
       "      <td>[]</td>\n",
       "    </tr>\n",
       "    <tr>\n",
       "      <th>30</th>\n",
       "      <td>[64]</td>\n",
       "      <td>[1301, 1302, 1303, 1304, 1305]</td>\n",
       "      <td>581</td>\n",
       "      <td>[O]</td>\n",
       "      <td>609</td>\n",
       "      <td>Title</td>\n",
       "      <td>Poems and quotations</td>\n",
       "      <td>[]</td>\n",
       "      <td>split4</td>\n",
       "      <td>[]</td>\n",
       "    </tr>\n",
       "  </tbody>\n",
       "</table>\n",
       "</div>"
      ],
      "text/plain": [
       "                              sentence_id  \\\n",
       "description_id                              \n",
       "3               [3, 4, 5, 6, 7, 8, 9, 10]   \n",
       "10                                   [31]   \n",
       "19                                   [53]   \n",
       "28                                   [62]   \n",
       "30                                   [64]   \n",
       "\n",
       "                                                         token_id  \\\n",
       "description_id                                                      \n",
       "3               [109, 110, 111, 112, 113, 114, 115, 116, 117, ...   \n",
       "10              [780, 781, 782, 783, 784, 785, 786, 787, 788, ...   \n",
       "19                                 [1248, 1249, 1250, 1251, 1252]   \n",
       "28                                             [1296, 1294, 1295]   \n",
       "30                                 [1301, 1302, 1303, 1304, 1305]   \n",
       "\n",
       "                start_offset     linguistic_pred  end_offset  \\\n",
       "description_id                                                 \n",
       "3                        634  [Gendered-Pronoun]        1725   \n",
       "10                        77                 [O]         417   \n",
       "19                       268                 [O]         294   \n",
       "28                       540                 [O]         556   \n",
       "30                       581                 [O]         609   \n",
       "\n",
       "                                    field  \\\n",
       "description_id                              \n",
       "3               Biographical / Historical   \n",
       "10                     Scope and Contents   \n",
       "19                                  Title   \n",
       "28                                  Title   \n",
       "30                                  Title   \n",
       "\n",
       "                                                      description  \\\n",
       "description_id                                                      \n",
       "3               Professor James Aitken White was a leading Sco...   \n",
       "10              Academic papers, 1942-1986; publications and a...   \n",
       "19                                             Commonplace Book 2   \n",
       "28                                                       Notebook   \n",
       "30                                           Poems and quotations   \n",
       "\n",
       "                   exp_label    fold predicted  \n",
       "description_id                                  \n",
       "3               [Stereotype]  split4        []  \n",
       "10                        []  split4        []  \n",
       "19                        []  split4        []  \n",
       "28                        []  split4        []  \n",
       "30                        []  split4        []  "
      ]
     },
     "execution_count": 18,
     "metadata": {},
     "output_type": "execute_result"
    }
   ],
   "source": [
    "df_test.insert(len(df.columns), \"predicted\", new_preds)\n",
    "df_test.head()"
   ]
  },
  {
   "cell_type": "code",
   "execution_count": 19,
   "id": "ebddfd8b-908d-47b9-a30d-64925e87f797",
   "metadata": {},
   "outputs": [
    {
     "data": {
      "text/plain": [
       "[]                        4748\n",
       "[Omission]                 433\n",
       "[Omission, Stereotype]     188\n",
       "[Stereotype]                95\n",
       "Name: predicted, dtype: int64"
      ]
     },
     "execution_count": 19,
     "metadata": {},
     "output_type": "execute_result"
    }
   ],
   "source": [
    "df_test[\"predicted\"].value_counts()"
   ]
  },
  {
   "cell_type": "markdown",
   "id": "60dee004",
   "metadata": {},
   "source": [
    "Save the test predictions:"
   ]
  },
  {
   "cell_type": "code",
   "execution_count": 20,
   "id": "077cc1e8",
   "metadata": {},
   "outputs": [],
   "source": [
    "pred_dir = \"data/multilabel_doc_predictions/ling_features_dedup/\" # max. of one of each Linguistic label per description (no duplicates)\n",
    "Path(pred_dir).mkdir(parents=True, exist_ok=True)\n",
    "df_test.to_csv(pred_dir+\"svm_tfidf-ling_test_predictions.csv\")"
   ]
  },
  {
   "cell_type": "code",
   "execution_count": 21,
   "id": "a07123f0-2ab0-4759-940d-ecb3dd33096d",
   "metadata": {},
   "outputs": [
    {
     "data": {
      "text/html": [
       "<div>\n",
       "<style scoped>\n",
       "    .dataframe tbody tr th:only-of-type {\n",
       "        vertical-align: middle;\n",
       "    }\n",
       "\n",
       "    .dataframe tbody tr th {\n",
       "        vertical-align: top;\n",
       "    }\n",
       "\n",
       "    .dataframe thead th {\n",
       "        text-align: right;\n",
       "    }\n",
       "</style>\n",
       "<table border=\"1\" class=\"dataframe\">\n",
       "  <thead>\n",
       "    <tr style=\"text-align: right;\">\n",
       "      <th></th>\n",
       "      <th>labels</th>\n",
       "      <th>true_neg</th>\n",
       "      <th>false_neg</th>\n",
       "      <th>true_pos</th>\n",
       "      <th>false_pos</th>\n",
       "      <th>precision</th>\n",
       "      <th>recall</th>\n",
       "      <th>f_1</th>\n",
       "    </tr>\n",
       "  </thead>\n",
       "  <tbody>\n",
       "    <tr>\n",
       "      <th>0</th>\n",
       "      <td>Omission</td>\n",
       "      <td>4503</td>\n",
       "      <td>340</td>\n",
       "      <td>498</td>\n",
       "      <td>123</td>\n",
       "      <td>0.801932</td>\n",
       "      <td>0.594272</td>\n",
       "      <td>0.682659</td>\n",
       "    </tr>\n",
       "    <tr>\n",
       "      <th>1</th>\n",
       "      <td>Stereotype</td>\n",
       "      <td>5108</td>\n",
       "      <td>73</td>\n",
       "      <td>270</td>\n",
       "      <td>13</td>\n",
       "      <td>0.954064</td>\n",
       "      <td>0.787172</td>\n",
       "      <td>0.862620</td>\n",
       "    </tr>\n",
       "  </tbody>\n",
       "</table>\n",
       "</div>"
      ],
      "text/plain": [
       "       labels  true_neg  false_neg  true_pos  false_pos  precision    recall  \\\n",
       "0    Omission      4503        340       498        123   0.801932  0.594272   \n",
       "1  Stereotype      5108         73       270         13   0.954064  0.787172   \n",
       "\n",
       "        f_1  \n",
       "0  0.682659  \n",
       "1  0.862620  "
      ]
     },
     "execution_count": 21,
     "metadata": {},
     "output_type": "execute_result"
    }
   ],
   "source": [
    "matrix = multilabel_confusion_matrix(y_test, y_pred, labels=clf.classes_)\n",
    "\n",
    "tn = matrix[:, 0, 0]  # True negatives\n",
    "fn = matrix[:, 1, 0]  # False negatives\n",
    "tp = matrix[:, 1, 1]  # True positives\n",
    "fp = matrix[:, 0, 1]  # False positives\n",
    "class_names = list(mlb_so.classes_)\n",
    "\n",
    "[precision, recall, f_1, suport] = precision_recall_fscore_support(\n",
    "    y_test, y_pred, beta=1.0, zero_division=0, labels=clf.classes_\n",
    ")\n",
    "\n",
    "test_agmt_df = pd.DataFrame({\n",
    "    \"labels\":class_names, \"true_neg\":tn, \"false_neg\":fn, \"true_pos\":tp, \"false_pos\":fp,\n",
    "    \"precision\":precision, \"recall\":recall, \"f_1\":f_1\n",
    "})\n",
    "test_agmt_df"
   ]
  },
  {
   "cell_type": "markdown",
   "id": "e32eb4ed-6a93-496a-9c45-537cf9988880",
   "metadata": {},
   "source": [
    "Export the models:"
   ]
  },
  {
   "cell_type": "code",
   "execution_count": 22,
   "id": "c2791b0a-bc13-4928-af85-255f804797d9",
   "metadata": {},
   "outputs": [
    {
     "name": "stdout",
     "output_type": "stream",
     "text": [
      "Saved models/multilabel_document/sgd-svm_F-tfidf-ling_T-os.joblib\n"
     ]
    }
   ],
   "source": [
    "model_dir = config.models_path+\"multilabel_document/\"\n",
    "Path(model_dir).mkdir(parents=True, exist_ok=True)\n",
    "\n",
    "# Save classifier\n",
    "filename = model_dir+\"sgd-svm_F-tfidf-ling_T-os.joblib\"  # include features (F) and targets (T) in model's file name\n",
    "dump(clf, filename)\n",
    "print(\"Saved\", filename)\n",
    "\n",
    "# # Save multilabel binarizer for Stereotype and Omission labels\n",
    "# filename = model_dir+\"mlb_targets_os.joblib\"\n",
    "# dump(mlb_so, filename)\n",
    "# print(\"Saved\", filename)\n",
    "\n",
    "# # Save the Count Vectorizer\n",
    "# filename = model_dir+\"count_vectorizer.joblib\"\n",
    "# dump(cvectorizer, filename)\n",
    "# print(\"Saved\", filename)\n",
    "\n",
    "# # Save the Term Frequency Inverse Document Frequency (TFIDF) transformer\n",
    "# filename = model_dir+\"tfidf_transformer.joblib\"\n",
    "# dump(tfidf, filename)\n",
    "# print(\"Saved\", filename)"
   ]
  },
  {
   "cell_type": "code",
   "execution_count": null,
   "id": "1056bd92-a3f9-48a6-87f7-89c96682ce23",
   "metadata": {},
   "outputs": [],
   "source": []
  }
 ],
 "metadata": {
  "kernelspec": {
   "display_name": "gender-bias-env",
   "language": "python",
   "name": "python3"
  },
  "language_info": {
   "codemirror_mode": {
    "name": "ipython",
    "version": 3
   },
   "file_extension": ".py",
   "mimetype": "text/x-python",
   "name": "python",
   "nbconvert_exporter": "python",
   "pygments_lexer": "ipython3",
   "version": "3.9.20"
  }
 },
 "nbformat": 4,
 "nbformat_minor": 5
}

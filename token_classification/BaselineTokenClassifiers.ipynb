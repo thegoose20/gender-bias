{
 "cells": [
  {
   "cell_type": "markdown",
   "id": "b565438d-c395-409f-8ea3-e9bb7e969675",
   "metadata": {},
   "source": [
    "# Baseline Gender Biased Token Classifiers\n",
    "\n",
    "* Supervised learning\n",
    "    * Train, Validate, and (Blind) Test Data: under directory ../data/doc_clf_data/\n",
    "* Multilabel classification\n",
    "    * 3 categories of labels:\n",
    "        1. Person Name: Unknown, Non-binary, Feminine, Masculine\n",
    "        2. Linguistic: Generalization, Gendered Pronoun, Gendered Role\n",
    "        3. Contextual: Empowering, Occupation, Omission, Stereotype\n",
    "* Also try a [classifier chain](https://scikit-learn.org/stable/modules/multiclass.html#classifierchain)!!!\n",
    "\n",
    "***\n",
    "\n",
    "**Table of Contents**\n",
    "\n",
    "[1.](#1) Logistic Regression\n",
    "\n",
    "[2.](#2) Decision Tree\n",
    "\n",
    "[3.](#3) Random Forest\n",
    "\n",
    "[4.](#4) Error Analysis\n",
    "\n",
    "***"
   ]
  },
  {
   "cell_type": "markdown",
   "id": "30cee93f-7449-4d85-ad84-d7ca05dedafc",
   "metadata": {},
   "source": [
    "Load necessary libraries:"
   ]
  },
  {
   "cell_type": "code",
   "execution_count": 2,
   "id": "9a0de102-8755-46ef-a21c-66ec97073479",
   "metadata": {},
   "outputs": [],
   "source": [
    "# For custom functions and variables\n",
    "import utils, config\n",
    "\n",
    "# For data analysis\n",
    "import pandas as pd\n",
    "import numpy as np\n",
    "import os, re\n",
    "\n",
    "# For creating directories\n",
    "from pathlib import Path\n",
    "\n",
    "# For visualization\n",
    "import matplotlib.pyplot as plt\n",
    "\n",
    "# For classifcation\n",
    "from sklearn.preprocessing import MultiLabelBinarizer\n",
    "from sklearn.multiclass import OneVsRestClassifier\n",
    "from sklearn.feature_extraction.text import CountVectorizer, TfidfTransformer\n",
    "# from sklearn.tree import DecisionTreeClassifier\n",
    "# from sklearn.tree import export_text\n",
    "# from sklearn import tree\n",
    "from sklearn.linear_model import LogisticRegression\n",
    "# from sklearn.ensemble import RandomForestClassifier\n",
    "from sklearn.pipeline import Pipeline\n",
    "from sklearn.metrics import confusion_matrix, multilabel_confusion_matrix, plot_confusion_matrix, ConfusionMatrixDisplay\n",
    "from sklearn.metrics import precision_recall_fscore_support"
   ]
  },
  {
   "cell_type": "markdown",
   "id": "a02aabcd-2ae9-4743-9dd3-1bed932e40f1",
   "metadata": {},
   "source": [
    "***Note:** See the `analysis/Analysis_LengthsAndOffsets.ipynb` (section 3) for the preprocessing of input data!*"
   ]
  },
  {
   "cell_type": "code",
   "execution_count": 3,
   "id": "b61fcd56-34e2-4c31-b8a4-ec425f3e6920",
   "metadata": {},
   "outputs": [],
   "source": [
    "# Binarize and encode the data\n",
    "# Reference: https://scikit-learn.org/stable/modules/preprocessing_targets.html#preprocessing-targets\n"
   ]
  },
  {
   "cell_type": "code",
   "execution_count": 4,
   "id": "b82054d4-6c6b-4dc5-a93e-a787bbc11a94",
   "metadata": {},
   "outputs": [],
   "source": []
  },
  {
   "cell_type": "code",
   "execution_count": null,
   "id": "458b86db-876b-4b74-8bd7-a18b93c4b5a8",
   "metadata": {},
   "outputs": [],
   "source": []
  }
 ],
 "metadata": {
  "kernelspec": {
   "display_name": "Python 3 (ipykernel)",
   "language": "python",
   "name": "python3"
  },
  "language_info": {
   "codemirror_mode": {
    "name": "ipython",
    "version": 3
   },
   "file_extension": ".py",
   "mimetype": "text/x-python",
   "name": "python",
   "nbconvert_exporter": "python",
   "pygments_lexer": "ipython3",
   "version": "3.9.15"
  }
 },
 "nbformat": 4,
 "nbformat_minor": 5
}

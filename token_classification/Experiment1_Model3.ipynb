{
 "cells": [
  {
   "cell_type": "markdown",
   "metadata": {},
   "source": [
    "# Experiment 1, Model 3\n",
    "\n",
    "#### Model Setup\n",
    "\n",
    "Run models in the following order, using their output labels as features for the next model:\n",
    "\n",
    "1. Multilabel Linguistic Classifier\n",
    "2. Multiclass Person Name + Occupation Sequence Classifier\n",
    "3. Multilabel Stereotype + Omission Document Classifier\n",
    "\n",
    "Train the first model and then run it over the entire dataset.\n",
    "\n",
    "***\n",
    "\n",
    "* Supervised learning\n",
    "    * Train, Validate, and (Blind) Test Data: under directory `../data/token_clf_data/experiment_input/`\n",
    "    * Prediction Data: Data: under directory `../data/token_clf_data/model_output/experiment1/`\n",
    "* Word Embeddings\n",
    "    * Custom fastText (word2vec with subwords) embeddings of 100 dimensions trained on the CRC Archives catalog's descriptive metadata (harvested October 2020)\n",
    "    \n",
    "***\n",
    "\n",
    "**Table of Contents**\n",
    "\n",
    "[I.](#i) Train the Stereotype + Omission Classifier\n",
    "\n",
    "[II.](#ii) Predict Over All Data"
   ]
  },
  {
   "cell_type": "markdown",
   "metadata": {},
   "source": [
    "Load programming resources:"
   ]
  },
  {
   "cell_type": "code",
   "execution_count": 36,
   "metadata": {},
   "outputs": [],
   "source": [
    "# For custom functions and variables\n",
    "import utils, utils1, config\n",
    "\n",
    "# For data analysis\n",
    "import pandas as pd\n",
    "import numpy as np\n",
    "import os, re\n",
    "\n",
    "# For creating directories\n",
    "from pathlib import Path\n",
    "\n",
    "# For classification\n",
    "import scipy\n",
    "import sklearn.metrics\n",
    "from sklearn.multiclass import OneVsRestClassifier\n",
    "from sklearn.base import BaseEstimator, TransformerMixin\n",
    "from sklearn.preprocessing import MultiLabelBinarizer, FunctionTransformer\n",
    "from sklearn.compose import ColumnTransformer, make_column_selector\n",
    "from sklearn.feature_extraction.text import CountVectorizer, TfidfVectorizer, TfidfTransformer\n",
    "from sklearn.linear_model import SGDClassifier\n",
    "from sklearn.pipeline import Pipeline\n",
    "from sklearn.metrics import confusion_matrix, multilabel_confusion_matrix#, plot_confusion_matrix, ConfusionMatrixDisplay\n",
    "from sklearn.metrics import precision_recall_fscore_support"
   ]
  },
  {
   "cell_type": "markdown",
   "metadata": {},
   "source": [
    "Define resources for the models:"
   ]
  },
  {
   "cell_type": "code",
   "execution_count": 2,
   "metadata": {},
   "outputs": [],
   "source": [
    "Path(config.experiment_input_path).mkdir(parents=True, exist_ok=True)    # For train, devtest, and blind test data\n",
    "Path(config.experiment1_output_path).mkdir(parents=True, exist_ok=True)  # For predictions\n",
    "Path(config.experiment1_agmt_path).mkdir(parents=True, exist_ok=True)    # For agreement metrics"
   ]
  },
  {
   "cell_type": "code",
   "execution_count": 3,
   "metadata": {},
   "outputs": [],
   "source": [
    "# Model 1:\n",
    "ling_label_subset = [\"B-Generalization\", \"I-Generalization\", \"B-Gendered-Role\", \"I-Gendered-Role\", \"B-Gendered-Pronoun\", \"I-Gendered-Pronoun\"]\n",
    "# Model 2:\n",
    "pers_o_label_subset = [\"B-Unknown\", \"I-Unknown\", \"B-Feminine\", \"I-Feminine\", \"B-Masculine\", \"I-Masculine\", \"B-Occupation\", \"I-Occupation\"]\n",
    "# Model 3:\n",
    "so_label_subset = [\"B-Stereotype\", \"I-Stereotype\", \"B-Omission\", \"I-Omission\"]"
   ]
  },
  {
   "cell_type": "code",
   "execution_count": 4,
   "metadata": {},
   "outputs": [],
   "source": [
    "ling_label_tags = {\n",
    "    \"Gendered-Pronoun\": [\"B-Gendered-Pronoun\", \"I-Gendered-Pronoun\"], \"Gendered-Role\": [\"B-Gendered-Role\", \"I-Gendered-Role\"],\"Generalization\": [\"B-Generalization\", \"I-Generalization\"]\n",
    "    }\n",
    "pers_o_label_tags = {\n",
    "    \"Unknown\": [\"B-Unknown\", \"I-Unknown\"], \"Feminine\": [\"B-Feminine\", \"I-Feminine\"], \"Masculine\": [\"B-Masculine\", \"I-Masculine\"],\n",
    "     \"Occupation\": [\"B-Occupation\", \"I-Occupation\"]\n",
    "    }\n",
    "so_label_tags = {\n",
    "    \"Stereotype\": [\"B-Stereotype\", \"I-Stereotype\"], \"Omission\": [\"B-Omission\", \"I-Omission\"]\n",
    "             }"
   ]
  },
  {
   "cell_type": "code",
   "execution_count": 5,
   "metadata": {},
   "outputs": [],
   "source": [
    "d = 100               # dimensions of word embeddings (should match utils1.py) for file names\n",
    "target_labels = \"so\"  # for file names"
   ]
  },
  {
   "cell_type": "markdown",
   "metadata": {},
   "source": [
    "<a id=\"i\"></a>\n",
    "## I. Train the Stereotype + Omission Classifier\n",
    "\n",
    "### Preprocessing"
   ]
  },
  {
   "cell_type": "markdown",
   "metadata": {},
   "source": [
    "Load the document classification model's input data:"
   ]
  },
  {
   "cell_type": "code",
   "execution_count": 6,
   "metadata": {},
   "outputs": [],
   "source": [
    "train = pd.read_csv(config.docc_path+\"model_input/\"+\"{}_splits_as_csv/aggregated_final_train.csv\".format(target_labels), index_col=0)\n",
    "dev = pd.read_csv(config.docc_path+\"model_input/\"+\"{}_splits_as_csv/aggregated_final_validate.csv\".format(target_labels), index_col=0)\n",
    "test = pd.read_csv(config.docc_path+\"model_input/\"+\"{}_splits_as_csv/aggregated_final_test.csv\".format(target_labels), index_col=0)\n",
    "df_exp = pd.concat([train, dev, test])\n",
    "df_exp[\"label\"] = df_exp[\"label\"].fillna(\"{'None'}\")\n",
    "df_exp = df_exp.loc[~df_exp.description.isna()]\n",
    "df_exp = utils.getColumnValuesAsLists(df_exp, \"label\")\n",
    "# df_exp.head()"
   ]
  },
  {
   "cell_type": "markdown",
   "metadata": {},
   "source": [
    "Load the Linguistic, Person Name, and Occupation features and associate description IDs to the data, creating one row per description ID:"
   ]
  },
  {
   "cell_type": "code",
   "execution_count": 7,
   "metadata": {},
   "outputs": [],
   "source": [
    "features_filename = \"crf_{a}_{t}_baseline_fastText{d}_predictions_ALLDATA.csv\".format(a=\"arow\", t=\"pers_o\", d=d)\n",
    "df_features = pd.read_csv(config.experiment1_output_path+features_filename, usecols=[\"sentence_id\", \"token_id\", \"pred_ling_tag\", \"tag_pers_o_predicted\"])\n",
    "df_features = utils.getColumnValuesAsLists(df_features, \"pred_ling_tag\")\n",
    "df_features = df_features.rename(columns={\"tag_pers_o_predicted\":\"pers_o_pred\", \"pred_ling_tag\":\"ling_pred\"})\n",
    "# Generalize person name and occupation tags to labels\n",
    "for label,tags in pers_o_label_tags.items():\n",
    "    for tag in tags:\n",
    "        df_features[\"pers_o_pred\"] = df_features[\"pers_o_pred\"].replace(to_replace=tag, value=label)\n",
    "# df_features.head()\n",
    "# df_features.pers_o_pred.value_counts()  # Looks good"
   ]
  },
  {
   "cell_type": "code",
   "execution_count": 8,
   "metadata": {},
   "outputs": [],
   "source": [
    "df_desc = pd.read_csv(config.agg_path+\"descs_sents_tokens_anns.csv\", usecols=[\"description_id\", \"sentence_id\", \"token_id\"])\n",
    "df_desc = df_desc.set_index(\"description_id\")\n",
    "df_desc = utils1.getColumnValuesAsLists(df_desc, \"sentence_id\")\n",
    "df_desc = utils1.getColumnValuesAsLists(df_desc, \"token_id\")\n",
    "df_desc_exploded = df_desc.explode([\"sentence_id\", \"token_id\"])\n",
    "df_desc_exploded = df_desc_exploded.reset_index()\n",
    "df_desc_exploded = df_desc_exploded.astype(\"int64\")\n",
    "# df_desc_exploded.head()"
   ]
  },
  {
   "cell_type": "code",
   "execution_count": 9,
   "metadata": {},
   "outputs": [],
   "source": [
    "joined = df_features.join(df_desc_exploded.set_index([\"sentence_id\", \"token_id\"]), on=[\"sentence_id\", \"token_id\"])\n",
    "grouped = utils.implodeDataFrame(joined, [\"description_id\"]).reset_index()\n",
    "# grouped.head()"
   ]
  },
  {
   "cell_type": "markdown",
   "metadata": {},
   "source": [
    "Flatten the lists of values in the `ling_pred` and `pers_o_pred` columns and remove duplicates from the lists:"
   ]
  },
  {
   "cell_type": "code",
   "execution_count": 10,
   "metadata": {},
   "outputs": [],
   "source": [
    "feature_col1 = \"ling_pred\"\n",
    "feature_col2 = \"pers_o_pred\""
   ]
  },
  {
   "cell_type": "code",
   "execution_count": 11,
   "metadata": {},
   "outputs": [],
   "source": [
    "ling = utils1.flattenFeatureCol(grouped, feature_col1)\n",
    "perso = utils1.flattenFeatureCol(grouped, feature_col2)"
   ]
  },
  {
   "cell_type": "code",
   "execution_count": 12,
   "metadata": {},
   "outputs": [],
   "source": [
    "grouped.insert(len(grouped.columns), \"doc_\"+feature_col1, ling)\n",
    "grouped.insert(len(grouped.columns), \"doc_\"+feature_col2, perso)\n",
    "# grouped.head()"
   ]
  },
  {
   "cell_type": "markdown",
   "metadata": {},
   "source": [
    "Join the Linguistic and Person-Name+Occupation feature columns to the document classification model data:"
   ]
  },
  {
   "cell_type": "code",
   "execution_count": 13,
   "metadata": {},
   "outputs": [
    {
     "data": {
      "text/html": [
       "<div>\n",
       "<style scoped>\n",
       "    .dataframe tbody tr th:only-of-type {\n",
       "        vertical-align: middle;\n",
       "    }\n",
       "\n",
       "    .dataframe tbody tr th {\n",
       "        vertical-align: top;\n",
       "    }\n",
       "\n",
       "    .dataframe thead th {\n",
       "        text-align: right;\n",
       "    }\n",
       "</style>\n",
       "<table border=\"1\" class=\"dataframe\">\n",
       "  <thead>\n",
       "    <tr style=\"text-align: right;\">\n",
       "      <th></th>\n",
       "      <th>description_id</th>\n",
       "      <th>start_offset</th>\n",
       "      <th>end_offset</th>\n",
       "      <th>field</th>\n",
       "      <th>description</th>\n",
       "      <th>subset</th>\n",
       "      <th>label</th>\n",
       "      <th>doc_ling_pred</th>\n",
       "      <th>doc_pers_o_pred</th>\n",
       "    </tr>\n",
       "  </thead>\n",
       "  <tbody>\n",
       "    <tr>\n",
       "      <th>4699</th>\n",
       "      <td>4699</td>\n",
       "      <td>1853</td>\n",
       "      <td>2066</td>\n",
       "      <td>Biographical / Historical</td>\n",
       "      <td>Labelled Apparently some chapters, amounting t...</td>\n",
       "      <td>train</td>\n",
       "      <td>[Omission]</td>\n",
       "      <td>[Gendered-Role]</td>\n",
       "      <td>[Masculine]</td>\n",
       "    </tr>\n",
       "    <tr>\n",
       "      <th>8942</th>\n",
       "      <td>8942</td>\n",
       "      <td>384</td>\n",
       "      <td>540</td>\n",
       "      <td>Biographical / Historical</td>\n",
       "      <td>James Aikman of Perth signed his name to a vol...</td>\n",
       "      <td>train</td>\n",
       "      <td>[None]</td>\n",
       "      <td>[Gendered-Pronoun]</td>\n",
       "      <td>[Unknown]</td>\n",
       "    </tr>\n",
       "    <tr>\n",
       "      <th>5440</th>\n",
       "      <td>5440</td>\n",
       "      <td>5692</td>\n",
       "      <td>5850</td>\n",
       "      <td>Biographical / Historical</td>\n",
       "      <td>This piece was published in 'Milk Production i...</td>\n",
       "      <td>train</td>\n",
       "      <td>[None]</td>\n",
       "      <td>[]</td>\n",
       "      <td>[Unknown]</td>\n",
       "    </tr>\n",
       "    <tr>\n",
       "      <th>3474</th>\n",
       "      <td>3474</td>\n",
       "      <td>3608</td>\n",
       "      <td>8549</td>\n",
       "      <td>Biographical / Historical</td>\n",
       "      <td>Margaret Winifred Bartholomew was born on 21 A...</td>\n",
       "      <td>train</td>\n",
       "      <td>[Omission, Stereotype]</td>\n",
       "      <td>[Generalization, Gendered-Role]</td>\n",
       "      <td>[Masculine, Occupation, Feminine, Unknown]</td>\n",
       "    </tr>\n",
       "    <tr>\n",
       "      <th>4769</th>\n",
       "      <td>4769</td>\n",
       "      <td>2378</td>\n",
       "      <td>2576</td>\n",
       "      <td>Biographical / Historical</td>\n",
       "      <td>Blacker and Thomson became close friends throu...</td>\n",
       "      <td>train</td>\n",
       "      <td>[Omission]</td>\n",
       "      <td>[Gendered-Pronoun]</td>\n",
       "      <td>[Masculine]</td>\n",
       "    </tr>\n",
       "  </tbody>\n",
       "</table>\n",
       "</div>"
      ],
      "text/plain": [
       "      description_id  start_offset  end_offset                      field  \\\n",
       "4699            4699          1853        2066  Biographical / Historical   \n",
       "8942            8942           384         540  Biographical / Historical   \n",
       "5440            5440          5692        5850  Biographical / Historical   \n",
       "3474            3474          3608        8549  Biographical / Historical   \n",
       "4769            4769          2378        2576  Biographical / Historical   \n",
       "\n",
       "                                            description subset  \\\n",
       "4699  Labelled Apparently some chapters, amounting t...  train   \n",
       "8942  James Aikman of Perth signed his name to a vol...  train   \n",
       "5440  This piece was published in 'Milk Production i...  train   \n",
       "3474  Margaret Winifred Bartholomew was born on 21 A...  train   \n",
       "4769  Blacker and Thomson became close friends throu...  train   \n",
       "\n",
       "                       label                    doc_ling_pred  \\\n",
       "4699              [Omission]                  [Gendered-Role]   \n",
       "8942                  [None]               [Gendered-Pronoun]   \n",
       "5440                  [None]                               []   \n",
       "3474  [Omission, Stereotype]  [Generalization, Gendered-Role]   \n",
       "4769              [Omission]               [Gendered-Pronoun]   \n",
       "\n",
       "                                 doc_pers_o_pred  \n",
       "4699                                 [Masculine]  \n",
       "8942                                   [Unknown]  \n",
       "5440                                   [Unknown]  \n",
       "3474  [Masculine, Occupation, Feminine, Unknown]  \n",
       "4769                                 [Masculine]  "
      ]
     },
     "execution_count": 13,
     "metadata": {},
     "output_type": "execute_result"
    }
   ],
   "source": [
    "features = grouped[[\"description_id\", \"doc_\"+feature_col1, \"doc_\"+feature_col2]]\n",
    "join_on = \"description_id\"\n",
    "df = df_exp.join(features.set_index(join_on), on=join_on)\n",
    "df = df.loc[~df.description.isna()]\n",
    "df.head()"
   ]
  },
  {
   "cell_type": "markdown",
   "metadata": {},
   "source": [
    "Vectorize the documents, and binarize the features and targets:"
   ]
  },
  {
   "cell_type": "code",
   "execution_count": 14,
   "metadata": {},
   "outputs": [],
   "source": [
    "def binarizeMultilabelTrainColumn(df_col):\n",
    "    mlb = MultiLabelBinarizer()\n",
    "    binarized = mlb.fit_transform(df_col)\n",
    "    return mlb, binarized\n",
    "\n",
    "def binarizeMultilabelDevColumn(mlb, df_col):\n",
    "    binarized = mlb.transform(df_col)\n",
    "    return binarized"
   ]
  },
  {
   "cell_type": "code",
   "execution_count": 15,
   "metadata": {},
   "outputs": [],
   "source": [
    "train_df = df.loc[df.subset == \"train\"]\n",
    "dev_df = df.loc[df.subset == \"dev\"]\n",
    "target_col = \"label\"\n",
    "feat1_col = \"doc_ling_pred\"\n",
    "feat2_col = \"doc_pers_o_pred\""
   ]
  },
  {
   "cell_type": "code",
   "execution_count": 16,
   "metadata": {},
   "outputs": [
    {
     "name": "stdout",
     "output_type": "stream",
     "text": [
      "(16397, 3) (5452, 3)\n"
     ]
    }
   ],
   "source": [
    "mlb_target, y_train = binarizeMultilabelTrainColumn(train_df[\"label\"])\n",
    "y_dev = binarizeMultilabelDevColumn(mlb_target, dev_df[\"label\"])\n",
    "print(y_train.shape, y_dev.shape)"
   ]
  },
  {
   "cell_type": "code",
   "execution_count": 17,
   "metadata": {},
   "outputs": [
    {
     "name": "stdout",
     "output_type": "stream",
     "text": [
      "(16397, 3) (5452, 3)\n",
      "(16397, 4) (5452, 4)\n"
     ]
    }
   ],
   "source": [
    "mlb_feat1, train_feat1 = binarizeMultilabelTrainColumn(train_df[feat1_col])\n",
    "dev_feat1 = binarizeMultilabelDevColumn(mlb_feat1, dev_df[feat1_col])\n",
    "mlb_feat2, train_feat2 = binarizeMultilabelTrainColumn(train_df[feat2_col])\n",
    "dev_feat2 = binarizeMultilabelDevColumn(mlb_feat2, dev_df[feat2_col])\n",
    "print(train_feat1.shape, dev_feat1.shape)\n",
    "print(train_feat2.shape, dev_feat2.shape)"
   ]
  },
  {
   "cell_type": "code",
   "execution_count": 18,
   "metadata": {},
   "outputs": [
    {
     "name": "stdout",
     "output_type": "stream",
     "text": [
      "(16397, 26960) (5452, 26960)\n"
     ]
    }
   ],
   "source": [
    "cvectorizer = CountVectorizer()\n",
    "tfidf = TfidfTransformer()\n",
    "train_docs = cvectorizer.fit_transform(train_df[\"description\"])\n",
    "dev_docs = cvectorizer.transform(dev_df[\"description\"])\n",
    "train_docs = tfidf.fit_transform(train_docs)\n",
    "dev_docs = tfidf.transform(dev_docs)\n",
    "print(train_docs.shape, dev_docs.shape)"
   ]
  },
  {
   "cell_type": "code",
   "execution_count": 40,
   "metadata": {},
   "outputs": [],
   "source": [
    "train_feats = scipy.sparse.csr_matrix(np.concatenate([train_feat1, train_feat2], axis=1))\n",
    "dev_feats = scipy.sparse.csr_matrix(np.concatenate([dev_feat1, dev_feat2], axis=1))"
   ]
  },
  {
   "cell_type": "markdown",
   "metadata": {},
   "source": [
    "Concatenate the documents and features, creating one scipy sparse matrix for the train data and another for the dev data:"
   ]
  },
  {
   "cell_type": "code",
   "execution_count": 41,
   "metadata": {},
   "outputs": [
    {
     "name": "stdout",
     "output_type": "stream",
     "text": [
      "(16397, 26967) (5452, 26967)\n"
     ]
    }
   ],
   "source": [
    "X_train = scipy.sparse.hstack([train_docs, train_feats])\n",
    "X_dev = scipy.sparse.hstack([dev_docs, dev_feats])\n",
    "print(X_train.shape, X_dev.shape)"
   ]
  },
  {
   "cell_type": "markdown",
   "metadata": {},
   "source": [
    "### Train & Predict"
   ]
  },
  {
   "cell_type": "code",
   "execution_count": 42,
   "metadata": {},
   "outputs": [],
   "source": [
    "a = \"sgd-svm\""
   ]
  },
  {
   "cell_type": "markdown",
   "metadata": {
    "tags": []
   },
   "source": [
    "Build a pipeline:"
   ]
  },
  {
   "cell_type": "code",
   "execution_count": 46,
   "metadata": {
    "tags": []
   },
   "outputs": [],
   "source": [
    "doc_clf = Pipeline([\n",
    "#     (\"vect\", CountVectorizer()),\n",
    "#     (\"tfidf\", TfidfTransformer()),\n",
    "    (\"clf\", OneVsRestClassifier(SGDClassifier(loss=\"hinge\")))  # Support Vector Machines loss function\n",
    "    ])"
   ]
  },
  {
   "cell_type": "code",
   "execution_count": 47,
   "metadata": {
    "tags": []
   },
   "outputs": [],
   "source": [
    "doc_clf.fit(X_train, y_train)\n",
    "predicted_dev = doc_clf.predict(X_dev)"
   ]
  },
  {
   "cell_type": "markdown",
   "metadata": {
    "tags": []
   },
   "source": [
    "### Peformance\n",
    "\n",
    "Calculate performance metrics for the Stochastic Gradient Descent classifier"
   ]
  },
  {
   "cell_type": "code",
   "execution_count": 48,
   "metadata": {
    "tags": []
   },
   "outputs": [
    {
     "name": "stdout",
     "output_type": "stream",
     "text": [
      "Dev Test Accuracy: 0.9405722670579604\n"
     ]
    }
   ],
   "source": [
    "print(\"Dev Test Accuracy:\", np.mean(predicted_dev == y_dev))"
   ]
  },
  {
   "cell_type": "code",
   "execution_count": 75,
   "metadata": {
    "tags": []
   },
   "outputs": [
    {
     "name": "stdout",
     "output_type": "stream",
     "text": [
      "[0 1 2]\n",
      "['None' 'Omission' 'Stereotype']\n"
     ]
    }
   ],
   "source": [
    "classes = doc_clf.classes_\n",
    "print(classes)\n",
    "original_classes = mlb_target.classes_\n",
    "print(original_classes)\n",
    "label_dict = dict(zip(original_classes, classes))"
   ]
  },
  {
   "cell_type": "markdown",
   "metadata": {
    "tags": []
   },
   "source": [
    "Create a [confusion matrix](https://scikit-learn.org/stable/modules/model_evaluation.html#multilabel-confusion-matrix) of the results, where, for class *i*:\n",
    "* Count of true negatives (TN) is at position *i*,0,0\n",
    "* Count of false negatives (FN) is at position *i*,1,0\n",
    "* Count of true positives (FP) is at position *i*,1,1\n",
    "* Count of false positives (PF) is at position *i*,0,1"
   ]
  },
  {
   "cell_type": "code",
   "execution_count": 76,
   "metadata": {
    "tags": []
   },
   "outputs": [],
   "source": [
    "matrix = multilabel_confusion_matrix(y_dev, predicted_dev, labels=classes)"
   ]
  },
  {
   "cell_type": "code",
   "execution_count": 78,
   "metadata": {},
   "outputs": [
    {
     "data": {
      "text/html": [
       "<div>\n",
       "<style scoped>\n",
       "    .dataframe tbody tr th:only-of-type {\n",
       "        vertical-align: middle;\n",
       "    }\n",
       "\n",
       "    .dataframe tbody tr th {\n",
       "        vertical-align: top;\n",
       "    }\n",
       "\n",
       "    .dataframe thead th {\n",
       "        text-align: right;\n",
       "    }\n",
       "</style>\n",
       "<table border=\"1\" class=\"dataframe\">\n",
       "  <thead>\n",
       "    <tr style=\"text-align: right;\">\n",
       "      <th></th>\n",
       "      <th>labels</th>\n",
       "      <th>false_neg</th>\n",
       "      <th>true_pos</th>\n",
       "      <th>false_pos</th>\n",
       "      <th>precision</th>\n",
       "      <th>recall</th>\n",
       "      <th>f_1</th>\n",
       "    </tr>\n",
       "  </thead>\n",
       "  <tbody>\n",
       "    <tr>\n",
       "      <th>1</th>\n",
       "      <td>Omission</td>\n",
       "      <td>337</td>\n",
       "      <td>467</td>\n",
       "      <td>101</td>\n",
       "      <td>0.822183</td>\n",
       "      <td>0.580846</td>\n",
       "      <td>0.680758</td>\n",
       "    </tr>\n",
       "    <tr>\n",
       "      <th>2</th>\n",
       "      <td>Stereotype</td>\n",
       "      <td>97</td>\n",
       "      <td>218</td>\n",
       "      <td>14</td>\n",
       "      <td>0.939655</td>\n",
       "      <td>0.692063</td>\n",
       "      <td>0.797075</td>\n",
       "    </tr>\n",
       "  </tbody>\n",
       "</table>\n",
       "</div>"
      ],
      "text/plain": [
       "       labels  false_neg  true_pos  false_pos  precision    recall       f_1\n",
       "1    Omission        337       467        101   0.822183  0.580846  0.680758\n",
       "2  Stereotype         97       218         14   0.939655  0.692063  0.797075"
      ]
     },
     "execution_count": 78,
     "metadata": {},
     "output_type": "execute_result"
    }
   ],
   "source": [
    "scores = utils.getPerformanceMetrics(y_dev, predicted_dev, dev_matrix, classes, original_classes, label_dict)\n",
    "scores = scores.tail(2) # Remove row for 'None'\n",
    "scores = scores.drop(columns=\"true_neg\")  # Not accurate because considers 'None' a class\n",
    "scores[\"labels\"] = original_classes[1:]\n",
    "scores"
   ]
  },
  {
   "cell_type": "markdown",
   "metadata": {},
   "source": [
    "Save the performance results:"
   ]
  },
  {
   "cell_type": "code",
   "execution_count": 79,
   "metadata": {
    "tags": []
   },
   "outputs": [],
   "source": [
    "dir_path = config.tokc_path+\"/experiment1/output/\"\n",
    "scores.to_csv(dir_path+\"docclf_{a}_{t}_baseline_performance.csv\".format(a=a, t=target_labels))"
   ]
  },
  {
   "cell_type": "markdown",
   "metadata": {},
   "source": [
    "Add the predicted labels to the dev data:"
   ]
  },
  {
   "cell_type": "code",
   "execution_count": 85,
   "metadata": {},
   "outputs": [],
   "source": [
    "pred_dev_labels = mlb_target.inverse_transform(predicted_dev)\n",
    "# pred_dev_labels[0]"
   ]
  },
  {
   "cell_type": "markdown",
   "metadata": {},
   "source": [
    "Add the classifier's labels to the `aggregated_validate.csv` DataFrame of descriptions to facilitate error analysis:"
   ]
  },
  {
   "cell_type": "code",
   "execution_count": 90,
   "metadata": {},
   "outputs": [
    {
     "data": {
      "text/html": [
       "<div>\n",
       "<style scoped>\n",
       "    .dataframe tbody tr th:only-of-type {\n",
       "        vertical-align: middle;\n",
       "    }\n",
       "\n",
       "    .dataframe tbody tr th {\n",
       "        vertical-align: top;\n",
       "    }\n",
       "\n",
       "    .dataframe thead th {\n",
       "        text-align: right;\n",
       "    }\n",
       "</style>\n",
       "<table border=\"1\" class=\"dataframe\">\n",
       "  <thead>\n",
       "    <tr style=\"text-align: right;\">\n",
       "      <th></th>\n",
       "      <th>description_id</th>\n",
       "      <th>start_offset</th>\n",
       "      <th>end_offset</th>\n",
       "      <th>field</th>\n",
       "      <th>description</th>\n",
       "      <th>subset</th>\n",
       "      <th>manual_label</th>\n",
       "      <th>doc_ling_pred</th>\n",
       "      <th>doc_pers_o_pred</th>\n",
       "      <th>sgd-svm_label</th>\n",
       "    </tr>\n",
       "  </thead>\n",
       "  <tbody>\n",
       "    <tr>\n",
       "      <th>5523</th>\n",
       "      <td>5523</td>\n",
       "      <td>367</td>\n",
       "      <td>1965</td>\n",
       "      <td>Biographical / Historical</td>\n",
       "      <td>Edward Bald Jamieson, from Shetland, was a gra...</td>\n",
       "      <td>dev</td>\n",
       "      <td>[Stereotype]</td>\n",
       "      <td>[Gendered-Pronoun, Generalization]</td>\n",
       "      <td>[Occupation, Unknown, Masculine]</td>\n",
       "      <td>(Omission, Stereotype)</td>\n",
       "    </tr>\n",
       "    <tr>\n",
       "      <th>4719</th>\n",
       "      <td>4719</td>\n",
       "      <td>5650</td>\n",
       "      <td>5811</td>\n",
       "      <td>Biographical / Historical</td>\n",
       "      <td>This likely refers to an article of the same t...</td>\n",
       "      <td>dev</td>\n",
       "      <td>[Omission]</td>\n",
       "      <td>[]</td>\n",
       "      <td>[Unknown]</td>\n",
       "      <td>(Omission,)</td>\n",
       "    </tr>\n",
       "    <tr>\n",
       "      <th>735</th>\n",
       "      <td>735</td>\n",
       "      <td>7735</td>\n",
       "      <td>7881</td>\n",
       "      <td>Biographical / Historical</td>\n",
       "      <td>John Baillie kept a collection of the prayers ...</td>\n",
       "      <td>dev</td>\n",
       "      <td>[None]</td>\n",
       "      <td>[Gendered-Pronoun]</td>\n",
       "      <td>[Unknown]</td>\n",
       "      <td>(None,)</td>\n",
       "    </tr>\n",
       "    <tr>\n",
       "      <th>2183</th>\n",
       "      <td>2183</td>\n",
       "      <td>1072</td>\n",
       "      <td>1372</td>\n",
       "      <td>Biographical / Historical</td>\n",
       "      <td>Joseph W. Hills graduated with the degree of M...</td>\n",
       "      <td>dev</td>\n",
       "      <td>[None]</td>\n",
       "      <td>[Gendered-Pronoun]</td>\n",
       "      <td>[Unknown]</td>\n",
       "      <td>()</td>\n",
       "    </tr>\n",
       "    <tr>\n",
       "      <th>2299</th>\n",
       "      <td>2299</td>\n",
       "      <td>546</td>\n",
       "      <td>3642</td>\n",
       "      <td>Biographical / Historical</td>\n",
       "      <td>This collection is composed simply of an invit...</td>\n",
       "      <td>dev</td>\n",
       "      <td>[Omission, Stereotype]</td>\n",
       "      <td>[Gendered-Pronoun]</td>\n",
       "      <td>[Occupation, Unknown, Masculine]</td>\n",
       "      <td>(Omission,)</td>\n",
       "    </tr>\n",
       "  </tbody>\n",
       "</table>\n",
       "</div>"
      ],
      "text/plain": [
       "      description_id  start_offset  end_offset                      field  \\\n",
       "5523            5523           367        1965  Biographical / Historical   \n",
       "4719            4719          5650        5811  Biographical / Historical   \n",
       "735              735          7735        7881  Biographical / Historical   \n",
       "2183            2183          1072        1372  Biographical / Historical   \n",
       "2299            2299           546        3642  Biographical / Historical   \n",
       "\n",
       "                                            description subset  \\\n",
       "5523  Edward Bald Jamieson, from Shetland, was a gra...    dev   \n",
       "4719  This likely refers to an article of the same t...    dev   \n",
       "735   John Baillie kept a collection of the prayers ...    dev   \n",
       "2183  Joseph W. Hills graduated with the degree of M...    dev   \n",
       "2299  This collection is composed simply of an invit...    dev   \n",
       "\n",
       "                manual_label                       doc_ling_pred  \\\n",
       "5523            [Stereotype]  [Gendered-Pronoun, Generalization]   \n",
       "4719              [Omission]                                  []   \n",
       "735                   [None]                  [Gendered-Pronoun]   \n",
       "2183                  [None]                  [Gendered-Pronoun]   \n",
       "2299  [Omission, Stereotype]                  [Gendered-Pronoun]   \n",
       "\n",
       "                       doc_pers_o_pred           sgd-svm_label  \n",
       "5523  [Occupation, Unknown, Masculine]  (Omission, Stereotype)  \n",
       "4719                         [Unknown]             (Omission,)  \n",
       "735                          [Unknown]                 (None,)  \n",
       "2183                         [Unknown]                      ()  \n",
       "2299  [Occupation, Unknown, Masculine]             (Omission,)  "
      ]
     },
     "execution_count": 90,
     "metadata": {},
     "output_type": "execute_result"
    }
   ],
   "source": [
    "dev_df = dev_df.rename(columns={\"label\":\"manual_label\"})\n",
    "dev_df.insert(len(dev_df.columns), \"{a}_label\".format(a=a), pred_dev_labels)\n",
    "dev_df.head()\n",
    "# print(len(pred_dev_labels), dev_df.shape)"
   ]
  },
  {
   "cell_type": "markdown",
   "metadata": {},
   "source": [
    "Save this version of the data:"
   ]
  },
  {
   "cell_type": "code",
   "execution_count": 91,
   "metadata": {},
   "outputs": [],
   "source": [
    "dev_df.to_csv(dir_path+\"aggregated_final_validate_predictions_docclf_{a}_{t}.csv\".format(a=a, t=target_labels))"
   ]
  },
  {
   "cell_type": "code",
   "execution_count": null,
   "metadata": {},
   "outputs": [],
   "source": []
  }
 ],
 "metadata": {
  "kernelspec": {
   "display_name": "gender-bias",
   "language": "python",
   "name": "gender-bias"
  },
  "language_info": {
   "codemirror_mode": {
    "name": "ipython",
    "version": 3
   },
   "file_extension": ".py",
   "mimetype": "text/x-python",
   "name": "python",
   "nbconvert_exporter": "python",
   "pygments_lexer": "ipython3",
   "version": "3.9.13"
  }
 },
 "nbformat": 4,
 "nbformat_minor": 4
}

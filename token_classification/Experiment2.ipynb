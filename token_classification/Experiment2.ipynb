{
 "cells": [
  {
   "cell_type": "markdown",
   "metadata": {},
   "source": [
    "# Experiment 2\n",
    "\n",
    "#### Model Setup\n",
    "\n",
    "Run models in the following order, using their output labels as features for the next model:\n",
    "\n",
    "1. Multilabel Linguistic Classifier\n",
    "3. Multilabel Stereotype + Omission Document Classifier\n",
    "\n",
    "Train the first model and then run it over the entire dataset.\n",
    "\n",
    "***\n",
    "\n",
    "* Supervised learning\n",
    "    * Train, Validate, and (Blind) Test Data: under directory `../data/token_clf_data/experiment_input/`\n",
    "    * Prediction Data: Data: under directory `../data/token_clf_data/model_output/experiment1/`\n",
    "* Word Embeddings\n",
    "    * Custom fastText (word2vec with subwords) embeddings of 100 dimensions trained on the CRC Archives catalog's descriptive metadata (harvested October 2020)\n",
    "    \n",
    "***\n",
    "\n",
    "**Table of Contents**\n",
    "\n",
    "[I.](#i) Train the Stereotype + Omission Classifier\n",
    "\n",
    "[II.](#ii) Predict Over All Data"
   ]
  },
  {
   "cell_type": "markdown",
   "metadata": {},
   "source": [
    "Load programming resources:"
   ]
  },
  {
   "cell_type": "code",
   "execution_count": 1,
   "metadata": {},
   "outputs": [],
   "source": [
    "# For custom functions and variables\n",
    "import utils, utils1, config\n",
    "\n",
    "# For data analysis\n",
    "import pandas as pd\n",
    "import numpy as np\n",
    "import os, re\n",
    "\n",
    "# For creating directories\n",
    "from pathlib import Path\n",
    "\n",
    "# For classification\n",
    "import scipy\n",
    "import sklearn.metrics\n",
    "from sklearn.multiclass import OneVsRestClassifier\n",
    "from sklearn.base import BaseEstimator, TransformerMixin\n",
    "from sklearn.preprocessing import MultiLabelBinarizer, FunctionTransformer\n",
    "from sklearn.compose import ColumnTransformer, make_column_selector\n",
    "from sklearn.feature_extraction.text import CountVectorizer, TfidfVectorizer, TfidfTransformer\n",
    "from sklearn.linear_model import SGDClassifier\n",
    "from sklearn.pipeline import Pipeline\n",
    "from sklearn.metrics import confusion_matrix, multilabel_confusion_matrix#, plot_confusion_matrix, ConfusionMatrixDisplay\n",
    "from sklearn.metrics import precision_recall_fscore_support"
   ]
  },
  {
   "cell_type": "markdown",
   "metadata": {},
   "source": [
    "Define resources for the models:"
   ]
  },
  {
   "cell_type": "code",
   "execution_count": 2,
   "metadata": {},
   "outputs": [],
   "source": [
    "### For 60-20-20 train-dev-test split of documents (metadata descriptions)\n",
    "Path(config.experiment_input_path).mkdir(parents=True, exist_ok=True)    # For train, devtest, and blind test data\n",
    "Path(config.experiment1_output_path).mkdir(parents=True, exist_ok=True)  # For predictions\n",
    "Path(config.experiment1_agmt_path).mkdir(parents=True, exist_ok=True)    # For agreement metrics\n",
    "# ----------------------\n",
    "### For features from modified 5-fold CV\n",
    "agreement_dir = config.experiment2_path+\"5fold/\"\n",
    "Path(agreement_dir).mkdir(parents=True, exist_ok=True)    # For agreement metrics"
   ]
  },
  {
   "cell_type": "code",
   "execution_count": 3,
   "metadata": {},
   "outputs": [],
   "source": [
    "# Model 1:\n",
    "ling_label_subset = [\"B-Generalization\", \"I-Generalization\", \"B-Gendered-Role\", \"I-Gendered-Role\", \"B-Gendered-Pronoun\", \"I-Gendered-Pronoun\"]\n",
    "# Model 3:\n",
    "so_label_subset = [\"B-Stereotype\", \"I-Stereotype\", \"B-Omission\", \"I-Omission\"]"
   ]
  },
  {
   "cell_type": "code",
   "execution_count": 4,
   "metadata": {},
   "outputs": [],
   "source": [
    "ling_label_tags = {\n",
    "    \"Gendered-Pronoun\": [\"B-Gendered-Pronoun\", \"I-Gendered-Pronoun\"], \"Gendered-Role\": [\"B-Gendered-Role\", \"I-Gendered-Role\"],\"Generalization\": [\"B-Generalization\", \"I-Generalization\"]\n",
    "    }\n",
    "so_label_tags = {\n",
    "    \"Stereotype\": [\"B-Stereotype\", \"I-Stereotype\"], \"Omission\": [\"B-Omission\", \"I-Omission\"]\n",
    "             }"
   ]
  },
  {
   "cell_type": "code",
   "execution_count": 5,
   "metadata": {},
   "outputs": [],
   "source": [
    "d = 100               # dimensions of word embeddings (should match utils1.py) for file names\n",
    "target_labels = \"so\"  # for file names"
   ]
  },
  {
   "cell_type": "markdown",
   "metadata": {},
   "source": [
    "<a id=\"i\"></a>\n",
    "## I. Train the Stereotype + Omission Classifier\n",
    "\n",
    "### Preprocessing"
   ]
  },
  {
   "cell_type": "markdown",
   "metadata": {},
   "source": [
    "Load the document classification model's input data:"
   ]
  },
  {
   "cell_type": "code",
   "execution_count": 6,
   "metadata": {},
   "outputs": [],
   "source": [
    "train = pd.read_csv(config.docc_path+\"model_input/\"+\"{}_splits_as_csv/aggregated_final_train.csv\".format(target_labels), index_col=0)\n",
    "dev = pd.read_csv(config.docc_path+\"model_input/\"+\"{}_splits_as_csv/aggregated_final_validate.csv\".format(target_labels), index_col=0)\n",
    "test = pd.read_csv(config.docc_path+\"model_input/\"+\"{}_splits_as_csv/aggregated_final_test.csv\".format(target_labels), index_col=0)\n",
    "df_exp = pd.concat([train, dev, test])\n",
    "df_exp[\"label\"] = df_exp[\"label\"].fillna(\"{'None'}\")\n",
    "df_exp = df_exp.loc[~df_exp.description.isna()]\n",
    "df_exp = utils.getColumnValuesAsLists(df_exp, \"label\")\n",
    "# df_exp.head()"
   ]
  },
  {
   "cell_type": "markdown",
   "metadata": {},
   "source": [
    "Load the Linguistic labels as features and associate description IDs to the data, creating one row per description ID:"
   ]
  },
  {
   "cell_type": "code",
   "execution_count": 7,
   "metadata": {},
   "outputs": [
    {
     "data": {
      "text/html": [
       "<div>\n",
       "<style scoped>\n",
       "    .dataframe tbody tr th:only-of-type {\n",
       "        vertical-align: middle;\n",
       "    }\n",
       "\n",
       "    .dataframe tbody tr th {\n",
       "        vertical-align: top;\n",
       "    }\n",
       "\n",
       "    .dataframe thead th {\n",
       "        text-align: right;\n",
       "    }\n",
       "</style>\n",
       "<table border=\"1\" class=\"dataframe\">\n",
       "  <thead>\n",
       "    <tr style=\"text-align: right;\">\n",
       "      <th></th>\n",
       "      <th>sentence_id</th>\n",
       "      <th>token_id</th>\n",
       "      <th>ling_pred</th>\n",
       "    </tr>\n",
       "  </thead>\n",
       "  <tbody>\n",
       "    <tr>\n",
       "      <th>0</th>\n",
       "      <td>4</td>\n",
       "      <td>134</td>\n",
       "      <td>[Gendered-Pronoun]</td>\n",
       "    </tr>\n",
       "    <tr>\n",
       "      <th>1</th>\n",
       "      <td>4</td>\n",
       "      <td>148</td>\n",
       "      <td>[Gendered-Pronoun]</td>\n",
       "    </tr>\n",
       "    <tr>\n",
       "      <th>2</th>\n",
       "      <td>5</td>\n",
       "      <td>155</td>\n",
       "      <td>[Gendered-Pronoun]</td>\n",
       "    </tr>\n",
       "    <tr>\n",
       "      <th>3</th>\n",
       "      <td>5</td>\n",
       "      <td>157</td>\n",
       "      <td>[Gendered-Pronoun]</td>\n",
       "    </tr>\n",
       "    <tr>\n",
       "      <th>4</th>\n",
       "      <td>6</td>\n",
       "      <td>211</td>\n",
       "      <td>[Gendered-Pronoun]</td>\n",
       "    </tr>\n",
       "  </tbody>\n",
       "</table>\n",
       "</div>"
      ],
      "text/plain": [
       "   sentence_id  token_id           ling_pred\n",
       "0            4       134  [Gendered-Pronoun]\n",
       "1            4       148  [Gendered-Pronoun]\n",
       "2            5       155  [Gendered-Pronoun]\n",
       "3            5       157  [Gendered-Pronoun]\n",
       "4            6       211  [Gendered-Pronoun]"
      ]
     },
     "execution_count": 7,
     "metadata": {},
     "output_type": "execute_result"
    }
   ],
   "source": [
    "### For 40-40-20 train-dev-test split\n",
    "# features_filename = \"crf_{a}_{t}_baseline_fastText{d}_predictions_ALLDATA.csv\".format(a=\"arow\", t=\"pers_o\", d=d)\n",
    "# df_features = pd.read_csv(config.experiment1_output_path+features_filename, usecols=[\"sentence_id\", \"token_id\", \"pred_ling_tag\"])\n",
    "# df_features = utils.getColumnValuesAsLists(df_features, \"pred_ling_tag\")\n",
    "# df_features = df_features.rename(columns={\"pred_ling_tag\":\"ling_pred\"})\n",
    "# ----------------------\n",
    "### For features from modified 5-fold CV\n",
    "a=\"rf\"\n",
    "df_features = pd.read_csv(agreement_dir+\"cc-{a}_ling_baseline_fastText{d}_evaluation_loose.csv\".format(a=a,d=d), usecols=[\"sentence_id\", \"token_id\", \"predicted_tag\"])\n",
    "df_features = df_features.rename(columns={\"predicted_tag\":\"ling_pred\"})\n",
    "df_features = utils.implodeDataFrame(df_features, [\"sentence_id\", \"token_id\"]).reset_index()\n",
    "df_features.head()"
   ]
  },
  {
   "cell_type": "code",
   "execution_count": 8,
   "metadata": {},
   "outputs": [],
   "source": [
    "df_desc = pd.read_csv(config.agg_path+\"descs_sents_tokens_anns.csv\", usecols=[\"description_id\", \"sentence_id\", \"token_id\"])\n",
    "df_desc = df_desc.set_index(\"description_id\")\n",
    "df_desc = utils1.getColumnValuesAsLists(df_desc, \"sentence_id\")\n",
    "df_desc = utils1.getColumnValuesAsLists(df_desc, \"token_id\")\n",
    "df_desc_exploded = df_desc.explode([\"sentence_id\", \"token_id\"])\n",
    "df_desc_exploded = df_desc_exploded.reset_index()\n",
    "df_desc_exploded = df_desc_exploded.astype(\"int64\")\n",
    "# df_desc_exploded.head()\n",
    "assert df_desc_exploded.shape[0] == len(df_desc_exploded.token_id.unique())"
   ]
  },
  {
   "cell_type": "code",
   "execution_count": 9,
   "metadata": {},
   "outputs": [
    {
     "data": {
      "text/html": [
       "<div>\n",
       "<style scoped>\n",
       "    .dataframe tbody tr th:only-of-type {\n",
       "        vertical-align: middle;\n",
       "    }\n",
       "\n",
       "    .dataframe tbody tr th {\n",
       "        vertical-align: top;\n",
       "    }\n",
       "\n",
       "    .dataframe thead th {\n",
       "        text-align: right;\n",
       "    }\n",
       "</style>\n",
       "<table border=\"1\" class=\"dataframe\">\n",
       "  <thead>\n",
       "    <tr style=\"text-align: right;\">\n",
       "      <th></th>\n",
       "      <th>description_id</th>\n",
       "      <th>sentence_id</th>\n",
       "      <th>token_id</th>\n",
       "      <th>ling_pred</th>\n",
       "    </tr>\n",
       "  </thead>\n",
       "  <tbody>\n",
       "    <tr>\n",
       "      <th>0</th>\n",
       "      <td>3</td>\n",
       "      <td>[4, 4, 5, 5, 6, 7, 7]</td>\n",
       "      <td>[134, 148, 155, 157, 211, 216, 226]</td>\n",
       "      <td>[[Gendered-Pronoun], [Gendered-Pronoun], [Gend...</td>\n",
       "    </tr>\n",
       "    <tr>\n",
       "      <th>1</th>\n",
       "      <td>7</td>\n",
       "      <td>[16, 17, 19, 19, 22, 22, 23, 23, 24, 24, 28]</td>\n",
       "      <td>[435, 478, 533, 539, 598, 618, 634, 643, 668, ...</td>\n",
       "      <td>[[Gendered-Pronoun], [Gendered-Pronoun], [Gend...</td>\n",
       "    </tr>\n",
       "    <tr>\n",
       "      <th>2</th>\n",
       "      <td>11</td>\n",
       "      <td>[32, 33, 33, 33, 34, 34, 37, 37, 38, 38, 39, 4...</td>\n",
       "      <td>[856, 875, 876, 883, 888, 902, 960, 973, 990, ...</td>\n",
       "      <td>[[Gendered-Role], [Gendered-Pronoun], [Gendere...</td>\n",
       "    </tr>\n",
       "    <tr>\n",
       "      <th>3</th>\n",
       "      <td>100</td>\n",
       "      <td>[134, 134]</td>\n",
       "      <td>[1840, 1842]</td>\n",
       "      <td>[[O], [Gendered-Pronoun]]</td>\n",
       "    </tr>\n",
       "    <tr>\n",
       "      <th>4</th>\n",
       "      <td>155</td>\n",
       "      <td>[189]</td>\n",
       "      <td>[2176]</td>\n",
       "      <td>[[Gendered-Role]]</td>\n",
       "    </tr>\n",
       "  </tbody>\n",
       "</table>\n",
       "</div>"
      ],
      "text/plain": [
       "   description_id                                        sentence_id  \\\n",
       "0               3                              [4, 4, 5, 5, 6, 7, 7]   \n",
       "1               7       [16, 17, 19, 19, 22, 22, 23, 23, 24, 24, 28]   \n",
       "2              11  [32, 33, 33, 33, 34, 34, 37, 37, 38, 38, 39, 4...   \n",
       "3             100                                         [134, 134]   \n",
       "4             155                                              [189]   \n",
       "\n",
       "                                            token_id  \\\n",
       "0                [134, 148, 155, 157, 211, 216, 226]   \n",
       "1  [435, 478, 533, 539, 598, 618, 634, 643, 668, ...   \n",
       "2  [856, 875, 876, 883, 888, 902, 960, 973, 990, ...   \n",
       "3                                       [1840, 1842]   \n",
       "4                                             [2176]   \n",
       "\n",
       "                                           ling_pred  \n",
       "0  [[Gendered-Pronoun], [Gendered-Pronoun], [Gend...  \n",
       "1  [[Gendered-Pronoun], [Gendered-Pronoun], [Gend...  \n",
       "2  [[Gendered-Role], [Gendered-Pronoun], [Gendere...  \n",
       "3                          [[O], [Gendered-Pronoun]]  \n",
       "4                                  [[Gendered-Role]]  "
      ]
     },
     "execution_count": 9,
     "metadata": {},
     "output_type": "execute_result"
    }
   ],
   "source": [
    "joined = df_features.join(df_desc_exploded.set_index([\"sentence_id\", \"token_id\"]), on=[\"sentence_id\", \"token_id\"])\n",
    "grouped = utils.implodeDataFrame(joined, [\"description_id\"]).reset_index()\n",
    "grouped.head()"
   ]
  },
  {
   "cell_type": "markdown",
   "metadata": {},
   "source": [
    "Flatten the lists of values in the `ling_pred` column and remove duplicates from the lists:"
   ]
  },
  {
   "cell_type": "code",
   "execution_count": 10,
   "metadata": {},
   "outputs": [],
   "source": [
    "feature_col1 = \"ling_pred\""
   ]
  },
  {
   "cell_type": "code",
   "execution_count": 11,
   "metadata": {},
   "outputs": [],
   "source": [
    "ling = utils1.flattenFeatureCol(grouped, feature_col1)"
   ]
  },
  {
   "cell_type": "code",
   "execution_count": 12,
   "metadata": {},
   "outputs": [],
   "source": [
    "grouped.insert(len(grouped.columns), \"doc_\"+feature_col1, ling)\n",
    "# grouped.head()"
   ]
  },
  {
   "cell_type": "markdown",
   "metadata": {},
   "source": [
    "Join the Linguistic feature column to the document classification model data:"
   ]
  },
  {
   "cell_type": "code",
   "execution_count": 29,
   "metadata": {},
   "outputs": [
    {
     "data": {
      "text/html": [
       "<div>\n",
       "<style scoped>\n",
       "    .dataframe tbody tr th:only-of-type {\n",
       "        vertical-align: middle;\n",
       "    }\n",
       "\n",
       "    .dataframe tbody tr th {\n",
       "        vertical-align: top;\n",
       "    }\n",
       "\n",
       "    .dataframe thead th {\n",
       "        text-align: right;\n",
       "    }\n",
       "</style>\n",
       "<table border=\"1\" class=\"dataframe\">\n",
       "  <thead>\n",
       "    <tr style=\"text-align: right;\">\n",
       "      <th></th>\n",
       "      <th>description_id</th>\n",
       "      <th>start_offset</th>\n",
       "      <th>end_offset</th>\n",
       "      <th>field</th>\n",
       "      <th>description</th>\n",
       "      <th>subset</th>\n",
       "      <th>label</th>\n",
       "      <th>doc_ling_pred</th>\n",
       "    </tr>\n",
       "  </thead>\n",
       "  <tbody>\n",
       "    <tr>\n",
       "      <th>4699</th>\n",
       "      <td>4699</td>\n",
       "      <td>1853</td>\n",
       "      <td>2066</td>\n",
       "      <td>Biographical / Historical</td>\n",
       "      <td>Labelled Apparently some chapters, amounting t...</td>\n",
       "      <td>train</td>\n",
       "      <td>[Omission]</td>\n",
       "      <td>[Gendered-Role]</td>\n",
       "    </tr>\n",
       "    <tr>\n",
       "      <th>8942</th>\n",
       "      <td>8942</td>\n",
       "      <td>384</td>\n",
       "      <td>540</td>\n",
       "      <td>Biographical / Historical</td>\n",
       "      <td>James Aikman of Perth signed his name to a vol...</td>\n",
       "      <td>train</td>\n",
       "      <td>[None]</td>\n",
       "      <td>[Gendered-Pronoun]</td>\n",
       "    </tr>\n",
       "    <tr>\n",
       "      <th>5440</th>\n",
       "      <td>5440</td>\n",
       "      <td>5692</td>\n",
       "      <td>5850</td>\n",
       "      <td>Biographical / Historical</td>\n",
       "      <td>This piece was published in 'Milk Production i...</td>\n",
       "      <td>train</td>\n",
       "      <td>[None]</td>\n",
       "      <td>NaN</td>\n",
       "    </tr>\n",
       "    <tr>\n",
       "      <th>3474</th>\n",
       "      <td>3474</td>\n",
       "      <td>3608</td>\n",
       "      <td>8549</td>\n",
       "      <td>Biographical / Historical</td>\n",
       "      <td>Margaret Winifred Bartholomew was born on 21 A...</td>\n",
       "      <td>train</td>\n",
       "      <td>[Omission, Stereotype]</td>\n",
       "      <td>[Gendered-Role, Generalization, Gendered-Pronoun]</td>\n",
       "    </tr>\n",
       "    <tr>\n",
       "      <th>4769</th>\n",
       "      <td>4769</td>\n",
       "      <td>2378</td>\n",
       "      <td>2576</td>\n",
       "      <td>Biographical / Historical</td>\n",
       "      <td>Blacker and Thomson became close friends throu...</td>\n",
       "      <td>train</td>\n",
       "      <td>[Omission]</td>\n",
       "      <td>[Gendered-Pronoun]</td>\n",
       "    </tr>\n",
       "  </tbody>\n",
       "</table>\n",
       "</div>"
      ],
      "text/plain": [
       "      description_id  start_offset  end_offset                      field  \\\n",
       "4699            4699          1853        2066  Biographical / Historical   \n",
       "8942            8942           384         540  Biographical / Historical   \n",
       "5440            5440          5692        5850  Biographical / Historical   \n",
       "3474            3474          3608        8549  Biographical / Historical   \n",
       "4769            4769          2378        2576  Biographical / Historical   \n",
       "\n",
       "                                            description subset  \\\n",
       "4699  Labelled Apparently some chapters, amounting t...  train   \n",
       "8942  James Aikman of Perth signed his name to a vol...  train   \n",
       "5440  This piece was published in 'Milk Production i...  train   \n",
       "3474  Margaret Winifred Bartholomew was born on 21 A...  train   \n",
       "4769  Blacker and Thomson became close friends throu...  train   \n",
       "\n",
       "                       label  \\\n",
       "4699              [Omission]   \n",
       "8942                  [None]   \n",
       "5440                  [None]   \n",
       "3474  [Omission, Stereotype]   \n",
       "4769              [Omission]   \n",
       "\n",
       "                                          doc_ling_pred  \n",
       "4699                                    [Gendered-Role]  \n",
       "8942                                 [Gendered-Pronoun]  \n",
       "5440                                                NaN  \n",
       "3474  [Gendered-Role, Generalization, Gendered-Pronoun]  \n",
       "4769                                 [Gendered-Pronoun]  "
      ]
     },
     "execution_count": 29,
     "metadata": {},
     "output_type": "execute_result"
    }
   ],
   "source": [
    "features = grouped[[\"description_id\", \"doc_\"+feature_col1]]\n",
    "join_on = \"description_id\"\n",
    "df = df_exp.join(features.set_index(join_on), on=join_on)\n",
    "df = df.loc[~df.description.isna()]\n",
    "df.head()"
   ]
  },
  {
   "cell_type": "markdown",
   "metadata": {},
   "source": [
    "Replace `NaN` values in last column with an empty list:"
   ]
  },
  {
   "cell_type": "code",
   "execution_count": 31,
   "metadata": {},
   "outputs": [
    {
     "data": {
      "text/html": [
       "<div>\n",
       "<style scoped>\n",
       "    .dataframe tbody tr th:only-of-type {\n",
       "        vertical-align: middle;\n",
       "    }\n",
       "\n",
       "    .dataframe tbody tr th {\n",
       "        vertical-align: top;\n",
       "    }\n",
       "\n",
       "    .dataframe thead th {\n",
       "        text-align: right;\n",
       "    }\n",
       "</style>\n",
       "<table border=\"1\" class=\"dataframe\">\n",
       "  <thead>\n",
       "    <tr style=\"text-align: right;\">\n",
       "      <th></th>\n",
       "      <th>description_id</th>\n",
       "      <th>start_offset</th>\n",
       "      <th>end_offset</th>\n",
       "      <th>field</th>\n",
       "      <th>description</th>\n",
       "      <th>subset</th>\n",
       "      <th>label</th>\n",
       "      <th>doc_ling_pred</th>\n",
       "    </tr>\n",
       "  </thead>\n",
       "  <tbody>\n",
       "    <tr>\n",
       "      <th>4699</th>\n",
       "      <td>4699</td>\n",
       "      <td>1853</td>\n",
       "      <td>2066</td>\n",
       "      <td>Biographical / Historical</td>\n",
       "      <td>Labelled Apparently some chapters, amounting t...</td>\n",
       "      <td>train</td>\n",
       "      <td>[Omission]</td>\n",
       "      <td>[Gendered-Role]</td>\n",
       "    </tr>\n",
       "    <tr>\n",
       "      <th>8942</th>\n",
       "      <td>8942</td>\n",
       "      <td>384</td>\n",
       "      <td>540</td>\n",
       "      <td>Biographical / Historical</td>\n",
       "      <td>James Aikman of Perth signed his name to a vol...</td>\n",
       "      <td>train</td>\n",
       "      <td>[None]</td>\n",
       "      <td>[Gendered-Pronoun]</td>\n",
       "    </tr>\n",
       "    <tr>\n",
       "      <th>5440</th>\n",
       "      <td>5440</td>\n",
       "      <td>5692</td>\n",
       "      <td>5850</td>\n",
       "      <td>Biographical / Historical</td>\n",
       "      <td>This piece was published in 'Milk Production i...</td>\n",
       "      <td>train</td>\n",
       "      <td>[None]</td>\n",
       "      <td>[]</td>\n",
       "    </tr>\n",
       "    <tr>\n",
       "      <th>3474</th>\n",
       "      <td>3474</td>\n",
       "      <td>3608</td>\n",
       "      <td>8549</td>\n",
       "      <td>Biographical / Historical</td>\n",
       "      <td>Margaret Winifred Bartholomew was born on 21 A...</td>\n",
       "      <td>train</td>\n",
       "      <td>[Omission, Stereotype]</td>\n",
       "      <td>[Gendered-Role, Generalization, Gendered-Pronoun]</td>\n",
       "    </tr>\n",
       "    <tr>\n",
       "      <th>4769</th>\n",
       "      <td>4769</td>\n",
       "      <td>2378</td>\n",
       "      <td>2576</td>\n",
       "      <td>Biographical / Historical</td>\n",
       "      <td>Blacker and Thomson became close friends throu...</td>\n",
       "      <td>train</td>\n",
       "      <td>[Omission]</td>\n",
       "      <td>[Gendered-Pronoun]</td>\n",
       "    </tr>\n",
       "  </tbody>\n",
       "</table>\n",
       "</div>"
      ],
      "text/plain": [
       "      description_id  start_offset  end_offset                      field  \\\n",
       "4699            4699          1853        2066  Biographical / Historical   \n",
       "8942            8942           384         540  Biographical / Historical   \n",
       "5440            5440          5692        5850  Biographical / Historical   \n",
       "3474            3474          3608        8549  Biographical / Historical   \n",
       "4769            4769          2378        2576  Biographical / Historical   \n",
       "\n",
       "                                            description subset  \\\n",
       "4699  Labelled Apparently some chapters, amounting t...  train   \n",
       "8942  James Aikman of Perth signed his name to a vol...  train   \n",
       "5440  This piece was published in 'Milk Production i...  train   \n",
       "3474  Margaret Winifred Bartholomew was born on 21 A...  train   \n",
       "4769  Blacker and Thomson became close friends throu...  train   \n",
       "\n",
       "                       label  \\\n",
       "4699              [Omission]   \n",
       "8942                  [None]   \n",
       "5440                  [None]   \n",
       "3474  [Omission, Stereotype]   \n",
       "4769              [Omission]   \n",
       "\n",
       "                                          doc_ling_pred  \n",
       "4699                                    [Gendered-Role]  \n",
       "8942                                 [Gendered-Pronoun]  \n",
       "5440                                                 []  \n",
       "3474  [Gendered-Role, Generalization, Gendered-Pronoun]  \n",
       "4769                                 [Gendered-Pronoun]  "
      ]
     },
     "execution_count": 31,
     "metadata": {},
     "output_type": "execute_result"
    }
   ],
   "source": [
    "doc_ling_pred = list(df.doc_ling_pred)\n",
    "new_doc_ling_pred = [preds if type(preds)==list else [] for preds in doc_ling_pred]\n",
    "# new_doc_ling_pred[:5]  # Looks good\n",
    "df[\"doc_\"+feature_col1] = new_doc_ling_pred\n",
    "df.head()"
   ]
  },
  {
   "cell_type": "markdown",
   "metadata": {},
   "source": [
    "Vectorize the documents, and binarize the features and targets:"
   ]
  },
  {
   "cell_type": "code",
   "execution_count": 32,
   "metadata": {},
   "outputs": [],
   "source": [
    "def binarizeMultilabelTrainColumn(df_col):\n",
    "    mlb = MultiLabelBinarizer()\n",
    "    binarized = mlb.fit_transform(df_col)\n",
    "    return mlb, binarized\n",
    "\n",
    "def binarizeMultilabelDevColumn(mlb, df_col):\n",
    "    binarized = mlb.transform(df_col)\n",
    "    return binarized"
   ]
  },
  {
   "cell_type": "code",
   "execution_count": 33,
   "metadata": {},
   "outputs": [],
   "source": [
    "train_df = df.loc[df.subset == \"train\"]\n",
    "dev_df = df.loc[df.subset == \"dev\"]\n",
    "target_col = \"label\"\n",
    "feat1_col = \"doc_ling_pred\""
   ]
  },
  {
   "cell_type": "code",
   "execution_count": 34,
   "metadata": {},
   "outputs": [
    {
     "name": "stdout",
     "output_type": "stream",
     "text": [
      "(16397, 3) (5452, 3)\n"
     ]
    }
   ],
   "source": [
    "mlb_target, y_train = binarizeMultilabelTrainColumn(train_df[\"label\"])\n",
    "y_dev = binarizeMultilabelDevColumn(mlb_target, dev_df[\"label\"])\n",
    "print(y_train.shape, y_dev.shape)"
   ]
  },
  {
   "cell_type": "code",
   "execution_count": 35,
   "metadata": {},
   "outputs": [
    {
     "name": "stdout",
     "output_type": "stream",
     "text": [
      "(16397, 3) (5452, 3)\n"
     ]
    }
   ],
   "source": [
    "mlb_feat1, train_feat1 = binarizeMultilabelTrainColumn(train_df[feat1_col])\n",
    "dev_feat1 = binarizeMultilabelDevColumn(mlb_feat1, dev_df[feat1_col])\n",
    "print(train_feat1.shape, dev_feat1.shape)"
   ]
  },
  {
   "cell_type": "code",
   "execution_count": 36,
   "metadata": {},
   "outputs": [
    {
     "name": "stdout",
     "output_type": "stream",
     "text": [
      "(16397, 26960) (5452, 26960)\n"
     ]
    }
   ],
   "source": [
    "cvectorizer = CountVectorizer()\n",
    "tfidf = TfidfTransformer()\n",
    "train_docs = cvectorizer.fit_transform(train_df[\"description\"])\n",
    "dev_docs = cvectorizer.transform(dev_df[\"description\"])\n",
    "train_docs = tfidf.fit_transform(train_docs)\n",
    "dev_docs = tfidf.transform(dev_docs)\n",
    "print(train_docs.shape, dev_docs.shape)"
   ]
  },
  {
   "cell_type": "code",
   "execution_count": 37,
   "metadata": {},
   "outputs": [],
   "source": [
    "train_feats = scipy.sparse.csr_matrix(train_feat1)\n",
    "dev_feats = scipy.sparse.csr_matrix(dev_feat1)"
   ]
  },
  {
   "cell_type": "markdown",
   "metadata": {},
   "source": [
    "Concatenate the documents and features, creating one scipy sparse matrix for the train data and another for the dev data:"
   ]
  },
  {
   "cell_type": "code",
   "execution_count": 38,
   "metadata": {},
   "outputs": [
    {
     "name": "stdout",
     "output_type": "stream",
     "text": [
      "(16397, 26963) (5452, 26963)\n"
     ]
    }
   ],
   "source": [
    "X_train = scipy.sparse.hstack([train_docs, train_feats])\n",
    "X_dev = scipy.sparse.hstack([dev_docs, dev_feats])\n",
    "print(X_train.shape, X_dev.shape)"
   ]
  },
  {
   "cell_type": "markdown",
   "metadata": {},
   "source": [
    "### Train & Predict"
   ]
  },
  {
   "cell_type": "code",
   "execution_count": 39,
   "metadata": {},
   "outputs": [],
   "source": [
    "a = \"sgd-svm\""
   ]
  },
  {
   "cell_type": "markdown",
   "metadata": {
    "tags": []
   },
   "source": [
    "Build a pipeline:"
   ]
  },
  {
   "cell_type": "code",
   "execution_count": 40,
   "metadata": {
    "tags": []
   },
   "outputs": [],
   "source": [
    "doc_clf = Pipeline([\n",
    "    (\"clf\", OneVsRestClassifier(SGDClassifier(loss=\"hinge\")))  # Support Vector Machines loss function\n",
    "])"
   ]
  },
  {
   "cell_type": "code",
   "execution_count": 41,
   "metadata": {
    "tags": []
   },
   "outputs": [],
   "source": [
    "doc_clf.fit(X_train, y_train)\n",
    "predicted_dev = doc_clf.predict(X_dev)"
   ]
  },
  {
   "cell_type": "markdown",
   "metadata": {
    "tags": []
   },
   "source": [
    "### Peformance\n",
    "\n",
    "Calculate performance metrics for the Stochastic Gradient Descent classifier"
   ]
  },
  {
   "cell_type": "code",
   "execution_count": 42,
   "metadata": {
    "tags": []
   },
   "outputs": [
    {
     "name": "stdout",
     "output_type": "stream",
     "text": [
      "Dev Test Accuracy: 0.9397163120567376\n"
     ]
    }
   ],
   "source": [
    "print(\"Dev Test Accuracy:\", np.mean(predicted_dev == y_dev))"
   ]
  },
  {
   "cell_type": "code",
   "execution_count": 43,
   "metadata": {
    "tags": []
   },
   "outputs": [
    {
     "name": "stdout",
     "output_type": "stream",
     "text": [
      "[0 1 2]\n",
      "['None' 'Omission' 'Stereotype']\n"
     ]
    }
   ],
   "source": [
    "classes = doc_clf.classes_\n",
    "print(classes)\n",
    "original_classes = mlb_target.classes_\n",
    "print(original_classes)\n",
    "label_dict = dict(zip(original_classes, classes))"
   ]
  },
  {
   "cell_type": "markdown",
   "metadata": {
    "tags": []
   },
   "source": [
    "Create a [confusion matrix](https://scikit-learn.org/stable/modules/model_evaluation.html#multilabel-confusion-matrix) of the results, where, for class *i*:\n",
    "* Count of true negatives (TN) is at position *i*,0,0\n",
    "* Count of false negatives (FN) is at position *i*,1,0\n",
    "* Count of true positives (FP) is at position *i*,1,1\n",
    "* Count of false positives (PF) is at position *i*,0,1"
   ]
  },
  {
   "cell_type": "code",
   "execution_count": 44,
   "metadata": {
    "tags": []
   },
   "outputs": [],
   "source": [
    "matrix = multilabel_confusion_matrix(y_dev, predicted_dev, labels=classes)"
   ]
  },
  {
   "cell_type": "code",
   "execution_count": 45,
   "metadata": {},
   "outputs": [
    {
     "data": {
      "text/html": [
       "<div>\n",
       "<style scoped>\n",
       "    .dataframe tbody tr th:only-of-type {\n",
       "        vertical-align: middle;\n",
       "    }\n",
       "\n",
       "    .dataframe tbody tr th {\n",
       "        vertical-align: top;\n",
       "    }\n",
       "\n",
       "    .dataframe thead th {\n",
       "        text-align: right;\n",
       "    }\n",
       "</style>\n",
       "<table border=\"1\" class=\"dataframe\">\n",
       "  <thead>\n",
       "    <tr style=\"text-align: right;\">\n",
       "      <th></th>\n",
       "      <th>labels</th>\n",
       "      <th>false_neg</th>\n",
       "      <th>true_pos</th>\n",
       "      <th>false_pos</th>\n",
       "      <th>precision</th>\n",
       "      <th>recall</th>\n",
       "      <th>f_1</th>\n",
       "    </tr>\n",
       "  </thead>\n",
       "  <tbody>\n",
       "    <tr>\n",
       "      <th>1</th>\n",
       "      <td>Omission</td>\n",
       "      <td>357</td>\n",
       "      <td>447</td>\n",
       "      <td>93</td>\n",
       "      <td>0.827778</td>\n",
       "      <td>0.55597</td>\n",
       "      <td>0.665179</td>\n",
       "    </tr>\n",
       "    <tr>\n",
       "      <th>2</th>\n",
       "      <td>Stereotype</td>\n",
       "      <td>87</td>\n",
       "      <td>228</td>\n",
       "      <td>21</td>\n",
       "      <td>0.915663</td>\n",
       "      <td>0.72381</td>\n",
       "      <td>0.808511</td>\n",
       "    </tr>\n",
       "  </tbody>\n",
       "</table>\n",
       "</div>"
      ],
      "text/plain": [
       "       labels  false_neg  true_pos  false_pos  precision   recall       f_1\n",
       "1    Omission        357       447         93   0.827778  0.55597  0.665179\n",
       "2  Stereotype         87       228         21   0.915663  0.72381  0.808511"
      ]
     },
     "execution_count": 45,
     "metadata": {},
     "output_type": "execute_result"
    }
   ],
   "source": [
    "scores = utils.getPerformanceMetrics(y_dev, predicted_dev, matrix, classes, original_classes, label_dict)\n",
    "scores = scores.tail(2) # Remove row for 'None'\n",
    "scores = scores.drop(columns=\"true_neg\")  # Not accurate because considers 'None' a class\n",
    "scores[\"labels\"] = original_classes[1:]\n",
    "scores"
   ]
  },
  {
   "cell_type": "markdown",
   "metadata": {},
   "source": [
    "Save the performance results:"
   ]
  },
  {
   "cell_type": "code",
   "execution_count": 58,
   "metadata": {
    "tags": []
   },
   "outputs": [],
   "source": [
    "# dir_path = config.tokc_path+\"/experiment2/40-40-20/output/\"\n",
    "dir_path = config.tokc_path+\"/experiment2/5fold/agreement/\"\n",
    "Path(dir_path).mkdir(parents=True, exist_ok=True)\n",
    "scores.to_csv(dir_path+\"docclf_{a}_{t}_baseline_performance.csv\".format(a=a, t=target_labels))"
   ]
  },
  {
   "cell_type": "markdown",
   "metadata": {},
   "source": [
    "Add the predicted labels to the dev data:"
   ]
  },
  {
   "cell_type": "code",
   "execution_count": 48,
   "metadata": {},
   "outputs": [],
   "source": [
    "pred_dev_labels = mlb_target.inverse_transform(predicted_dev)\n",
    "# pred_dev_labels[0]"
   ]
  },
  {
   "cell_type": "markdown",
   "metadata": {},
   "source": [
    "Add the classifier's labels to the `aggregated_validate.csv` DataFrame of descriptions to facilitate error analysis:"
   ]
  },
  {
   "cell_type": "code",
   "execution_count": 49,
   "metadata": {},
   "outputs": [
    {
     "data": {
      "text/html": [
       "<div>\n",
       "<style scoped>\n",
       "    .dataframe tbody tr th:only-of-type {\n",
       "        vertical-align: middle;\n",
       "    }\n",
       "\n",
       "    .dataframe tbody tr th {\n",
       "        vertical-align: top;\n",
       "    }\n",
       "\n",
       "    .dataframe thead th {\n",
       "        text-align: right;\n",
       "    }\n",
       "</style>\n",
       "<table border=\"1\" class=\"dataframe\">\n",
       "  <thead>\n",
       "    <tr style=\"text-align: right;\">\n",
       "      <th></th>\n",
       "      <th>description_id</th>\n",
       "      <th>start_offset</th>\n",
       "      <th>end_offset</th>\n",
       "      <th>field</th>\n",
       "      <th>description</th>\n",
       "      <th>subset</th>\n",
       "      <th>manual_label</th>\n",
       "      <th>doc_ling_pred</th>\n",
       "      <th>sgd-svm_label</th>\n",
       "    </tr>\n",
       "  </thead>\n",
       "  <tbody>\n",
       "    <tr>\n",
       "      <th>5523</th>\n",
       "      <td>5523</td>\n",
       "      <td>367</td>\n",
       "      <td>1965</td>\n",
       "      <td>Biographical / Historical</td>\n",
       "      <td>Edward Bald Jamieson, from Shetland, was a gra...</td>\n",
       "      <td>dev</td>\n",
       "      <td>[Stereotype]</td>\n",
       "      <td>[Generalization, Gendered-Pronoun]</td>\n",
       "      <td>(Stereotype,)</td>\n",
       "    </tr>\n",
       "    <tr>\n",
       "      <th>4719</th>\n",
       "      <td>4719</td>\n",
       "      <td>5650</td>\n",
       "      <td>5811</td>\n",
       "      <td>Biographical / Historical</td>\n",
       "      <td>This likely refers to an article of the same t...</td>\n",
       "      <td>dev</td>\n",
       "      <td>[Omission]</td>\n",
       "      <td>[]</td>\n",
       "      <td>(Omission,)</td>\n",
       "    </tr>\n",
       "    <tr>\n",
       "      <th>735</th>\n",
       "      <td>735</td>\n",
       "      <td>7735</td>\n",
       "      <td>7881</td>\n",
       "      <td>Biographical / Historical</td>\n",
       "      <td>John Baillie kept a collection of the prayers ...</td>\n",
       "      <td>dev</td>\n",
       "      <td>[None]</td>\n",
       "      <td>[Gendered-Pronoun]</td>\n",
       "      <td>(None,)</td>\n",
       "    </tr>\n",
       "    <tr>\n",
       "      <th>2183</th>\n",
       "      <td>2183</td>\n",
       "      <td>1072</td>\n",
       "      <td>1372</td>\n",
       "      <td>Biographical / Historical</td>\n",
       "      <td>Joseph W. Hills graduated with the degree of M...</td>\n",
       "      <td>dev</td>\n",
       "      <td>[None]</td>\n",
       "      <td>[Gendered-Pronoun]</td>\n",
       "      <td>(None,)</td>\n",
       "    </tr>\n",
       "    <tr>\n",
       "      <th>2299</th>\n",
       "      <td>2299</td>\n",
       "      <td>546</td>\n",
       "      <td>3642</td>\n",
       "      <td>Biographical / Historical</td>\n",
       "      <td>This collection is composed simply of an invit...</td>\n",
       "      <td>dev</td>\n",
       "      <td>[Omission, Stereotype]</td>\n",
       "      <td>[Gendered-Role, Gendered-Pronoun]</td>\n",
       "      <td>(Omission,)</td>\n",
       "    </tr>\n",
       "  </tbody>\n",
       "</table>\n",
       "</div>"
      ],
      "text/plain": [
       "      description_id  start_offset  end_offset                      field  \\\n",
       "5523            5523           367        1965  Biographical / Historical   \n",
       "4719            4719          5650        5811  Biographical / Historical   \n",
       "735              735          7735        7881  Biographical / Historical   \n",
       "2183            2183          1072        1372  Biographical / Historical   \n",
       "2299            2299           546        3642  Biographical / Historical   \n",
       "\n",
       "                                            description subset  \\\n",
       "5523  Edward Bald Jamieson, from Shetland, was a gra...    dev   \n",
       "4719  This likely refers to an article of the same t...    dev   \n",
       "735   John Baillie kept a collection of the prayers ...    dev   \n",
       "2183  Joseph W. Hills graduated with the degree of M...    dev   \n",
       "2299  This collection is composed simply of an invit...    dev   \n",
       "\n",
       "                manual_label                       doc_ling_pred  \\\n",
       "5523            [Stereotype]  [Generalization, Gendered-Pronoun]   \n",
       "4719              [Omission]                                  []   \n",
       "735                   [None]                  [Gendered-Pronoun]   \n",
       "2183                  [None]                  [Gendered-Pronoun]   \n",
       "2299  [Omission, Stereotype]   [Gendered-Role, Gendered-Pronoun]   \n",
       "\n",
       "      sgd-svm_label  \n",
       "5523  (Stereotype,)  \n",
       "4719    (Omission,)  \n",
       "735         (None,)  \n",
       "2183        (None,)  \n",
       "2299    (Omission,)  "
      ]
     },
     "execution_count": 49,
     "metadata": {},
     "output_type": "execute_result"
    }
   ],
   "source": [
    "dev_df = dev_df.rename(columns={\"label\":\"manual_label\"})\n",
    "dev_df.insert(len(dev_df.columns), \"{a}_label\".format(a=a), pred_dev_labels)\n",
    "dev_df.head()\n",
    "# print(len(pred_dev_labels), dev_df.shape)"
   ]
  },
  {
   "cell_type": "markdown",
   "metadata": {},
   "source": [
    "Save this version of the data:"
   ]
  },
  {
   "cell_type": "code",
   "execution_count": 59,
   "metadata": {},
   "outputs": [],
   "source": [
    "dir_path = config.tokc_path+\"/experiment2/5fold/output/\"\n",
    "Path(dir_path).mkdir(parents=True, exist_ok=True)\n",
    "dev_df.to_csv(dir_path+\"aggregated_final_validate_predictions_docclf_{a}_{t}.csv\".format(a=a, t=target_labels))"
   ]
  },
  {
   "cell_type": "markdown",
   "metadata": {},
   "source": [
    "<a id=\"ii\"></a>\n",
    "## II. Predict Over All Data"
   ]
  },
  {
   "cell_type": "markdown",
   "metadata": {},
   "source": [
    "### Preprocessing\n",
    "Vectorize the documents, and binarize the features and targets:"
   ]
  },
  {
   "cell_type": "code",
   "execution_count": 60,
   "metadata": {},
   "outputs": [],
   "source": [
    "target_col = \"label\"\n",
    "feat1_col = \"doc_ling_pred\""
   ]
  },
  {
   "cell_type": "code",
   "execution_count": 61,
   "metadata": {},
   "outputs": [
    {
     "name": "stdout",
     "output_type": "stream",
     "text": [
      "(27312, 3)\n"
     ]
    }
   ],
   "source": [
    "y_all = binarizeMultilabelDevColumn(mlb_target, df[\"label\"])\n",
    "print(y_all.shape)"
   ]
  },
  {
   "cell_type": "code",
   "execution_count": 62,
   "metadata": {},
   "outputs": [
    {
     "name": "stdout",
     "output_type": "stream",
     "text": [
      "(27312, 3)\n"
     ]
    }
   ],
   "source": [
    "all_feat1 = binarizeMultilabelDevColumn(mlb_feat1, df[feat1_col])\n",
    "print(all_feat1.shape)"
   ]
  },
  {
   "cell_type": "code",
   "execution_count": 63,
   "metadata": {},
   "outputs": [
    {
     "name": "stdout",
     "output_type": "stream",
     "text": [
      "(27312, 26960)\n"
     ]
    }
   ],
   "source": [
    "all_docs = cvectorizer.transform(df[\"description\"])\n",
    "all_docs = tfidf.transform(all_docs)\n",
    "print(all_docs.shape)"
   ]
  },
  {
   "cell_type": "code",
   "execution_count": 64,
   "metadata": {},
   "outputs": [],
   "source": [
    "all_feats = scipy.sparse.csr_matrix(all_feat1)"
   ]
  },
  {
   "cell_type": "markdown",
   "metadata": {},
   "source": [
    "Concatenate the documents and features, creating one scipy sparse matrix for the train data and another for the dev data:"
   ]
  },
  {
   "cell_type": "code",
   "execution_count": 65,
   "metadata": {},
   "outputs": [
    {
     "name": "stdout",
     "output_type": "stream",
     "text": [
      "(27312, 26963)\n"
     ]
    }
   ],
   "source": [
    "X_all = scipy.sparse.hstack([all_docs, all_feats])\n",
    "print(X_all.shape)"
   ]
  },
  {
   "cell_type": "markdown",
   "metadata": {},
   "source": [
    "### Predict"
   ]
  },
  {
   "cell_type": "code",
   "execution_count": 66,
   "metadata": {},
   "outputs": [],
   "source": [
    "predicted_all = doc_clf.predict(X_all)"
   ]
  },
  {
   "cell_type": "markdown",
   "metadata": {
    "tags": []
   },
   "source": [
    "### Peformance\n",
    "\n",
    "Calculate performance metrics for the Stochastic Gradient Descent classifier"
   ]
  },
  {
   "cell_type": "code",
   "execution_count": 67,
   "metadata": {
    "tags": []
   },
   "outputs": [
    {
     "name": "stdout",
     "output_type": "stream",
     "text": [
      "Accuracy: 0.951938098027729\n"
     ]
    }
   ],
   "source": [
    "print(\"Accuracy:\", np.mean(predicted_all == y_all))"
   ]
  },
  {
   "cell_type": "code",
   "execution_count": 68,
   "metadata": {
    "tags": []
   },
   "outputs": [],
   "source": [
    "matrix = multilabel_confusion_matrix(y_all, predicted_all, labels=classes)"
   ]
  },
  {
   "cell_type": "code",
   "execution_count": 69,
   "metadata": {},
   "outputs": [
    {
     "data": {
      "text/html": [
       "<div>\n",
       "<style scoped>\n",
       "    .dataframe tbody tr th:only-of-type {\n",
       "        vertical-align: middle;\n",
       "    }\n",
       "\n",
       "    .dataframe tbody tr th {\n",
       "        vertical-align: top;\n",
       "    }\n",
       "\n",
       "    .dataframe thead th {\n",
       "        text-align: right;\n",
       "    }\n",
       "</style>\n",
       "<table border=\"1\" class=\"dataframe\">\n",
       "  <thead>\n",
       "    <tr style=\"text-align: right;\">\n",
       "      <th></th>\n",
       "      <th>labels</th>\n",
       "      <th>false_neg</th>\n",
       "      <th>true_pos</th>\n",
       "      <th>false_pos</th>\n",
       "      <th>precision</th>\n",
       "      <th>recall</th>\n",
       "      <th>f_1</th>\n",
       "    </tr>\n",
       "  </thead>\n",
       "  <tbody>\n",
       "    <tr>\n",
       "      <th>1</th>\n",
       "      <td>Omission</td>\n",
       "      <td>1507</td>\n",
       "      <td>2525</td>\n",
       "      <td>328</td>\n",
       "      <td>0.885033</td>\n",
       "      <td>0.626240</td>\n",
       "      <td>0.733479</td>\n",
       "    </tr>\n",
       "    <tr>\n",
       "      <th>2</th>\n",
       "      <td>Stereotype</td>\n",
       "      <td>296</td>\n",
       "      <td>1305</td>\n",
       "      <td>63</td>\n",
       "      <td>0.953947</td>\n",
       "      <td>0.815116</td>\n",
       "      <td>0.879084</td>\n",
       "    </tr>\n",
       "  </tbody>\n",
       "</table>\n",
       "</div>"
      ],
      "text/plain": [
       "       labels  false_neg  true_pos  false_pos  precision    recall       f_1\n",
       "1    Omission       1507      2525        328   0.885033  0.626240  0.733479\n",
       "2  Stereotype        296      1305         63   0.953947  0.815116  0.879084"
      ]
     },
     "execution_count": 69,
     "metadata": {},
     "output_type": "execute_result"
    }
   ],
   "source": [
    "scores = utils.getPerformanceMetrics(y_all, predicted_all, matrix, classes, original_classes, label_dict)\n",
    "scores = scores.tail(2) # Remove row for 'None'\n",
    "scores = scores.drop(columns=\"true_neg\")  # Not accurate because considers 'None' a class\n",
    "scores[\"labels\"] = original_classes[1:]\n",
    "scores"
   ]
  },
  {
   "cell_type": "markdown",
   "metadata": {},
   "source": [
    "Save the performance results:"
   ]
  },
  {
   "cell_type": "code",
   "execution_count": 73,
   "metadata": {
    "tags": []
   },
   "outputs": [],
   "source": [
    "# dir_path = config.tokc_path+\"/experiment2/40-40-20/agreement/\"\n",
    "dir_path = config.tokc_path+\"/experiment2/5fold/agreement/\"\n",
    "scores.to_csv(dir_path+\"docclf_{a}_{t}_baseline_performance_ALLDATA.csv\".format(a=a, t=target_labels))"
   ]
  },
  {
   "cell_type": "markdown",
   "metadata": {},
   "source": [
    "Add the predicted labels to the dev data:"
   ]
  },
  {
   "cell_type": "code",
   "execution_count": 71,
   "metadata": {},
   "outputs": [],
   "source": [
    "pred_all_labels = mlb_target.inverse_transform(predicted_all)"
   ]
  },
  {
   "cell_type": "markdown",
   "metadata": {},
   "source": [
    "Add the classifier's labels to the `aggregated_validate.csv` DataFrame of descriptions to facilitate error analysis:"
   ]
  },
  {
   "cell_type": "code",
   "execution_count": 72,
   "metadata": {},
   "outputs": [
    {
     "data": {
      "text/html": [
       "<div>\n",
       "<style scoped>\n",
       "    .dataframe tbody tr th:only-of-type {\n",
       "        vertical-align: middle;\n",
       "    }\n",
       "\n",
       "    .dataframe tbody tr th {\n",
       "        vertical-align: top;\n",
       "    }\n",
       "\n",
       "    .dataframe thead th {\n",
       "        text-align: right;\n",
       "    }\n",
       "</style>\n",
       "<table border=\"1\" class=\"dataframe\">\n",
       "  <thead>\n",
       "    <tr style=\"text-align: right;\">\n",
       "      <th></th>\n",
       "      <th>description_id</th>\n",
       "      <th>start_offset</th>\n",
       "      <th>end_offset</th>\n",
       "      <th>field</th>\n",
       "      <th>description</th>\n",
       "      <th>subset</th>\n",
       "      <th>manual_label</th>\n",
       "      <th>doc_ling_pred</th>\n",
       "      <th>sgd-svm_label</th>\n",
       "    </tr>\n",
       "  </thead>\n",
       "  <tbody>\n",
       "    <tr>\n",
       "      <th>4699</th>\n",
       "      <td>4699</td>\n",
       "      <td>1853</td>\n",
       "      <td>2066</td>\n",
       "      <td>Biographical / Historical</td>\n",
       "      <td>Labelled Apparently some chapters, amounting t...</td>\n",
       "      <td>train</td>\n",
       "      <td>[Omission]</td>\n",
       "      <td>[Gendered-Role]</td>\n",
       "      <td>(Omission,)</td>\n",
       "    </tr>\n",
       "    <tr>\n",
       "      <th>8942</th>\n",
       "      <td>8942</td>\n",
       "      <td>384</td>\n",
       "      <td>540</td>\n",
       "      <td>Biographical / Historical</td>\n",
       "      <td>James Aikman of Perth signed his name to a vol...</td>\n",
       "      <td>train</td>\n",
       "      <td>[None]</td>\n",
       "      <td>[Gendered-Pronoun]</td>\n",
       "      <td>(None,)</td>\n",
       "    </tr>\n",
       "    <tr>\n",
       "      <th>5440</th>\n",
       "      <td>5440</td>\n",
       "      <td>5692</td>\n",
       "      <td>5850</td>\n",
       "      <td>Biographical / Historical</td>\n",
       "      <td>This piece was published in 'Milk Production i...</td>\n",
       "      <td>train</td>\n",
       "      <td>[None]</td>\n",
       "      <td>[]</td>\n",
       "      <td>(None,)</td>\n",
       "    </tr>\n",
       "    <tr>\n",
       "      <th>3474</th>\n",
       "      <td>3474</td>\n",
       "      <td>3608</td>\n",
       "      <td>8549</td>\n",
       "      <td>Biographical / Historical</td>\n",
       "      <td>Margaret Winifred Bartholomew was born on 21 A...</td>\n",
       "      <td>train</td>\n",
       "      <td>[Omission, Stereotype]</td>\n",
       "      <td>[Gendered-Role, Generalization, Gendered-Pronoun]</td>\n",
       "      <td>(Omission, Stereotype)</td>\n",
       "    </tr>\n",
       "    <tr>\n",
       "      <th>4769</th>\n",
       "      <td>4769</td>\n",
       "      <td>2378</td>\n",
       "      <td>2576</td>\n",
       "      <td>Biographical / Historical</td>\n",
       "      <td>Blacker and Thomson became close friends throu...</td>\n",
       "      <td>train</td>\n",
       "      <td>[Omission]</td>\n",
       "      <td>[Gendered-Pronoun]</td>\n",
       "      <td>(Omission,)</td>\n",
       "    </tr>\n",
       "  </tbody>\n",
       "</table>\n",
       "</div>"
      ],
      "text/plain": [
       "      description_id  start_offset  end_offset                      field  \\\n",
       "4699            4699          1853        2066  Biographical / Historical   \n",
       "8942            8942           384         540  Biographical / Historical   \n",
       "5440            5440          5692        5850  Biographical / Historical   \n",
       "3474            3474          3608        8549  Biographical / Historical   \n",
       "4769            4769          2378        2576  Biographical / Historical   \n",
       "\n",
       "                                            description subset  \\\n",
       "4699  Labelled Apparently some chapters, amounting t...  train   \n",
       "8942  James Aikman of Perth signed his name to a vol...  train   \n",
       "5440  This piece was published in 'Milk Production i...  train   \n",
       "3474  Margaret Winifred Bartholomew was born on 21 A...  train   \n",
       "4769  Blacker and Thomson became close friends throu...  train   \n",
       "\n",
       "                manual_label  \\\n",
       "4699              [Omission]   \n",
       "8942                  [None]   \n",
       "5440                  [None]   \n",
       "3474  [Omission, Stereotype]   \n",
       "4769              [Omission]   \n",
       "\n",
       "                                          doc_ling_pred  \\\n",
       "4699                                    [Gendered-Role]   \n",
       "8942                                 [Gendered-Pronoun]   \n",
       "5440                                                 []   \n",
       "3474  [Gendered-Role, Generalization, Gendered-Pronoun]   \n",
       "4769                                 [Gendered-Pronoun]   \n",
       "\n",
       "               sgd-svm_label  \n",
       "4699             (Omission,)  \n",
       "8942                 (None,)  \n",
       "5440                 (None,)  \n",
       "3474  (Omission, Stereotype)  \n",
       "4769             (Omission,)  "
      ]
     },
     "execution_count": 72,
     "metadata": {},
     "output_type": "execute_result"
    }
   ],
   "source": [
    "df = df.rename(columns={\"label\":\"manual_label\"})\n",
    "df.insert(len(df.columns), \"{a}_label\".format(a=a), pred_all_labels)\n",
    "df.head()\n",
    "# print(len(pred_all_labels), df.shape)"
   ]
  },
  {
   "cell_type": "markdown",
   "metadata": {},
   "source": [
    "Save this version of the data:"
   ]
  },
  {
   "cell_type": "code",
   "execution_count": 74,
   "metadata": {},
   "outputs": [],
   "source": [
    "# dir_path = config.tokc_path+\"/experiment2/40-40-20/output/\"\n",
    "dir_path = config.tokc_path+\"/experiment2/5fold/output/\"\n",
    "df.to_csv(dir_path+\"aggregated_final_validate_predictions_docclf_{a}_{t}_ALLDATA.csv\".format(a=a, t=target_labels))"
   ]
  },
  {
   "cell_type": "code",
   "execution_count": null,
   "metadata": {},
   "outputs": [],
   "source": []
  }
 ],
 "metadata": {
  "kernelspec": {
   "display_name": "gender-bias",
   "language": "python",
   "name": "gender-bias"
  },
  "language_info": {
   "codemirror_mode": {
    "name": "ipython",
    "version": 3
   },
   "file_extension": ".py",
   "mimetype": "text/x-python",
   "name": "python",
   "nbconvert_exporter": "python",
   "pygments_lexer": "ipython3",
   "version": "3.9.13"
  }
 },
 "nbformat": 4,
 "nbformat_minor": 4
}

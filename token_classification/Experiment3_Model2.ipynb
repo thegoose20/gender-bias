{
 "cells": [
  {
   "cell_type": "markdown",
   "metadata": {},
   "source": [
    "# Experiment 3, Model 2\n",
    "\n",
    "#### Model Setup\n",
    "\n",
    "Run models in the following order, using their output labels as features for the next model:\n",
    "\n",
    "1. Multiclass Person Name + Occupation Sequence Classifier\n",
    "\n",
    "2. Multilabel Document Classifier\n",
    "\n",
    "Train the first model and then run it over the entire dataset.\n",
    "\n",
    "***\n",
    "\n",
    "* Supervised learning\n",
    "    * Train, Validate, and (Blind) Test Data: under directory `../data/token_clf_data/experiment_input/`\n",
    "    * Prediction Data: Data: under directory `../data/token_clf_data/model_output/experiment3/`\n",
    "* Word Embeddings\n",
    "    * Custom fastText (word2vec with subwords) embeddings of 100 dimensions trained on the CRC Archives catalog's descriptive metadata (harvested October 2020)\n",
    "    \n",
    "***\n",
    "\n",
    "**Table of Contents**\n",
    "\n",
    "[I.](#i) Stereotype + Omission Classifier\n",
    "* [Preprocessing](#prep)\n",
    "* [Training & Prediction](#tp)\n",
    "* [Evaluation](#eval)\n",
    "\n",
    "[II.](#ii) Predict Over All Data"
   ]
  },
  {
   "cell_type": "markdown",
   "metadata": {},
   "source": [
    "Load programming resources:"
   ]
  },
  {
   "cell_type": "code",
   "execution_count": 1,
   "metadata": {},
   "outputs": [],
   "source": [
    "# For custom functions and variables\n",
    "import utils, utils1, config\n",
    "\n",
    "# For data analysis\n",
    "import pandas as pd\n",
    "import numpy as np\n",
    "import os, re\n",
    "\n",
    "# For creating directories\n",
    "from pathlib import Path\n",
    "\n",
    "# For classification\n",
    "import scipy\n",
    "import sklearn.metrics\n",
    "from sklearn.multiclass import OneVsRestClassifier\n",
    "from sklearn.base import BaseEstimator, TransformerMixin\n",
    "from sklearn.preprocessing import MultiLabelBinarizer, FunctionTransformer\n",
    "from sklearn.compose import ColumnTransformer, make_column_selector\n",
    "from sklearn.feature_extraction.text import CountVectorizer, TfidfVectorizer, TfidfTransformer\n",
    "from sklearn.linear_model import SGDClassifier\n",
    "from sklearn.pipeline import Pipeline\n",
    "from sklearn.metrics import confusion_matrix, multilabel_confusion_matrix\n",
    "from sklearn.metrics import precision_recall_fscore_support"
   ]
  },
  {
   "cell_type": "markdown",
   "metadata": {},
   "source": [
    "Define resources for the models:"
   ]
  },
  {
   "cell_type": "code",
   "execution_count": 2,
   "metadata": {},
   "outputs": [],
   "source": [
    "Path(config.experiment_input_path).mkdir(parents=True, exist_ok=True)    # For train, devtest, and blind test data\n",
    "# Path(config.experiment1_output_path).mkdir(parents=True, exist_ok=True)  # For predictions\n",
    "# Path(config.experiment1_agmt_path).mkdir(parents=True, exist_ok=True)    # For agreement metrics\n",
    "\n",
    "# predictions_dir = config.experiment3_path+\"5fold/output/\"      # For predictions\n",
    "# Path(predictions_dir).mkdir(parents=True, exist_ok=True)\n",
    "# agreement_dir = config.experiment3_path+\"5fold/agreement/\"     # For agreement metrics\n",
    "# Path(agreement_dir).mkdir(parents=True, exist_ok=True)\n",
    "\n",
    "predictions_dir = config.experiment3_path+\"5fold/with_manual_labels/output/\"              # For predictions with features as manual labels\n",
    "Path(predictions_dir).mkdir(parents=True, exist_ok=True)  \n",
    "agreement_dir = config.experiment3_path+\"5fold/with_manual_labels/agreement/\"             # For agreement metrics with features as manual labels\n",
    "Path(agreement_dir).mkdir(parents=True, exist_ok=True)"
   ]
  },
  {
   "cell_type": "code",
   "execution_count": 3,
   "metadata": {},
   "outputs": [],
   "source": [
    "# Model 2:\n",
    "pers_o_label_subset = [\"B-Unknown\", \"I-Unknown\", \"B-Feminine\", \"I-Feminine\", \"B-Masculine\", \"I-Masculine\", \"B-Occupation\", \"I-Occupation\"]\n",
    "# Model 3:\n",
    "so_label_subset = [\"B-Stereotype\", \"I-Stereotype\", \"B-Omission\", \"I-Omission\"]"
   ]
  },
  {
   "cell_type": "code",
   "execution_count": 4,
   "metadata": {},
   "outputs": [],
   "source": [
    "pers_o_label_tags = {\n",
    "    \"Unknown\": [\"B-Unknown\", \"I-Unknown\"], \"Feminine\": [\"B-Feminine\", \"I-Feminine\"], \"Masculine\": [\"B-Masculine\", \"I-Masculine\"],\n",
    "     \"Occupation\": [\"B-Occupation\", \"I-Occupation\"]\n",
    "    }\n",
    "so_label_tags = {\n",
    "    \"Stereotype\": [\"B-Stereotype\", \"I-Stereotype\"], \"Omission\": [\"B-Omission\", \"I-Omission\"]\n",
    "             }"
   ]
  },
  {
   "cell_type": "code",
   "execution_count": 5,
   "metadata": {},
   "outputs": [],
   "source": [
    "d = 100               # dimensions of word embeddings (should match utils1.py) for file names\n",
    "target_labels = \"so\"  # for file names"
   ]
  },
  {
   "cell_type": "markdown",
   "metadata": {},
   "source": [
    "<a id=\"i\"></a>\n",
    "## I. Stereotype + Omission Classifier\n",
    "<a id=\"a\"></a>\n",
    "### Preprocessing"
   ]
  },
  {
   "cell_type": "markdown",
   "metadata": {},
   "source": [
    "Load the document classification model's input data:"
   ]
  },
  {
   "cell_type": "code",
   "execution_count": 6,
   "metadata": {},
   "outputs": [
    {
     "data": {
      "text/html": [
       "<div>\n",
       "<style scoped>\n",
       "    .dataframe tbody tr th:only-of-type {\n",
       "        vertical-align: middle;\n",
       "    }\n",
       "\n",
       "    .dataframe tbody tr th {\n",
       "        vertical-align: top;\n",
       "    }\n",
       "\n",
       "    .dataframe thead th {\n",
       "        text-align: right;\n",
       "    }\n",
       "</style>\n",
       "<table border=\"1\" class=\"dataframe\">\n",
       "  <thead>\n",
       "    <tr style=\"text-align: right;\">\n",
       "      <th></th>\n",
       "      <th>description_id</th>\n",
       "      <th>start_offset</th>\n",
       "      <th>end_offset</th>\n",
       "      <th>field</th>\n",
       "      <th>description</th>\n",
       "      <th>label</th>\n",
       "      <th>fold</th>\n",
       "    </tr>\n",
       "  </thead>\n",
       "  <tbody>\n",
       "    <tr>\n",
       "      <th>0</th>\n",
       "      <td>4699</td>\n",
       "      <td>1853</td>\n",
       "      <td>2066</td>\n",
       "      <td>Biographical / Historical</td>\n",
       "      <td>Labelled Apparently some chapters, amounting t...</td>\n",
       "      <td>[Omission]</td>\n",
       "      <td>split3</td>\n",
       "    </tr>\n",
       "    <tr>\n",
       "      <th>1</th>\n",
       "      <td>8942</td>\n",
       "      <td>384</td>\n",
       "      <td>540</td>\n",
       "      <td>Biographical / Historical</td>\n",
       "      <td>James Aikman of Perth signed his name to a vol...</td>\n",
       "      <td>[]</td>\n",
       "      <td>split2</td>\n",
       "    </tr>\n",
       "    <tr>\n",
       "      <th>2</th>\n",
       "      <td>5440</td>\n",
       "      <td>5692</td>\n",
       "      <td>5850</td>\n",
       "      <td>Biographical / Historical</td>\n",
       "      <td>This piece was published in 'Milk Production i...</td>\n",
       "      <td>[]</td>\n",
       "      <td>split0</td>\n",
       "    </tr>\n",
       "    <tr>\n",
       "      <th>3</th>\n",
       "      <td>3474</td>\n",
       "      <td>3608</td>\n",
       "      <td>8549</td>\n",
       "      <td>Biographical / Historical</td>\n",
       "      <td>Margaret Winifred Bartholomew was born on 21 A...</td>\n",
       "      <td>[Omission, Stereotype]</td>\n",
       "      <td>split0</td>\n",
       "    </tr>\n",
       "    <tr>\n",
       "      <th>4</th>\n",
       "      <td>4769</td>\n",
       "      <td>2378</td>\n",
       "      <td>2576</td>\n",
       "      <td>Biographical / Historical</td>\n",
       "      <td>Blacker and Thomson became close friends throu...</td>\n",
       "      <td>[Omission]</td>\n",
       "      <td>split3</td>\n",
       "    </tr>\n",
       "  </tbody>\n",
       "</table>\n",
       "</div>"
      ],
      "text/plain": [
       "   description_id  start_offset  end_offset                      field  \\\n",
       "0            4699          1853        2066  Biographical / Historical   \n",
       "1            8942           384         540  Biographical / Historical   \n",
       "2            5440          5692        5850  Biographical / Historical   \n",
       "3            3474          3608        8549  Biographical / Historical   \n",
       "4            4769          2378        2576  Biographical / Historical   \n",
       "\n",
       "                                         description                   label  \\\n",
       "0  Labelled Apparently some chapters, amounting t...              [Omission]   \n",
       "1  James Aikman of Perth signed his name to a vol...                      []   \n",
       "2  This piece was published in 'Milk Production i...                      []   \n",
       "3  Margaret Winifred Bartholomew was born on 21 A...  [Omission, Stereotype]   \n",
       "4  Blacker and Thomson became close friends throu...              [Omission]   \n",
       "\n",
       "     fold  \n",
       "0  split3  \n",
       "1  split2  \n",
       "2  split0  \n",
       "3  split0  \n",
       "4  split3  "
      ]
     },
     "execution_count": 6,
     "metadata": {},
     "output_type": "execute_result"
    }
   ],
   "source": [
    "# # For 60-20-20 split\n",
    "# train = pd.read_csv(config.docc_path+\"model_input/\"+\"{}_splits_as_csv/aggregated_final_train.csv\".format(target_labels), index_col=0)\n",
    "# dev = pd.read_csv(config.docc_path+\"model_input/\"+\"{}_splits_as_csv/aggregated_final_validate.csv\".format(target_labels), index_col=0)\n",
    "# test = pd.read_csv(config.docc_path+\"model_input/\"+\"{}_splits_as_csv/aggregated_final_test.csv\".format(target_labels), index_col=0)\n",
    "# df_exp = pd.concat([train, dev, test])\n",
    "# df_exp[\"label\"] = df_exp[\"label\"].fillna(\"{'None'}\")\n",
    "# df_exp = df_exp.loc[~df_exp.description.isna()]\n",
    "# df_exp = utils.getColumnValuesAsLists(df_exp, \"label\")\n",
    "# # df_exp.head()\n",
    "# ------------------------------\n",
    "# For modified 5-fold cross validation\n",
    "df = pd.read_csv(config.tokc_path+\"experiment_input/document_5fold.csv\", index_col=0)\n",
    "df_exp = utils.getColumnValuesAsLists(df, \"label\")\n",
    "df_exp = df_exp.drop(columns=[\"subset\"])\n",
    "df_exp.head()"
   ]
  },
  {
   "cell_type": "markdown",
   "metadata": {},
   "source": [
    "Load the Linguistic labels as features and associate description IDs to the data, creating one row per description ID:"
   ]
  },
  {
   "cell_type": "code",
   "execution_count": 7,
   "metadata": {},
   "outputs": [],
   "source": [
    "feat1_col = \"label_pers_o_expected\"  #\"label_pers_o_predicted\"\""
   ]
  },
  {
   "cell_type": "code",
   "execution_count": 24,
   "metadata": {},
   "outputs": [
    {
     "data": {
      "text/html": [
       "<div>\n",
       "<style scoped>\n",
       "    .dataframe tbody tr th:only-of-type {\n",
       "        vertical-align: middle;\n",
       "    }\n",
       "\n",
       "    .dataframe tbody tr th {\n",
       "        vertical-align: top;\n",
       "    }\n",
       "\n",
       "    .dataframe thead th {\n",
       "        text-align: right;\n",
       "    }\n",
       "</style>\n",
       "<table border=\"1\" class=\"dataframe\">\n",
       "  <thead>\n",
       "    <tr style=\"text-align: right;\">\n",
       "      <th></th>\n",
       "      <th>sentence_id</th>\n",
       "      <th>token_id</th>\n",
       "      <th>label_pers_o_expected</th>\n",
       "    </tr>\n",
       "  </thead>\n",
       "  <tbody>\n",
       "    <tr>\n",
       "      <th>0</th>\n",
       "      <td>8</td>\n",
       "      <td>233</td>\n",
       "      <td>['Masculine']</td>\n",
       "    </tr>\n",
       "    <tr>\n",
       "      <th>1</th>\n",
       "      <td>8</td>\n",
       "      <td>234</td>\n",
       "      <td>['Masculine']</td>\n",
       "    </tr>\n",
       "    <tr>\n",
       "      <th>2</th>\n",
       "      <td>8</td>\n",
       "      <td>235</td>\n",
       "      <td>['O']</td>\n",
       "    </tr>\n",
       "    <tr>\n",
       "      <th>3</th>\n",
       "      <td>8</td>\n",
       "      <td>236</td>\n",
       "      <td>['O']</td>\n",
       "    </tr>\n",
       "    <tr>\n",
       "      <th>4</th>\n",
       "      <td>8</td>\n",
       "      <td>237</td>\n",
       "      <td>['O']</td>\n",
       "    </tr>\n",
       "  </tbody>\n",
       "</table>\n",
       "</div>"
      ],
      "text/plain": [
       "   sentence_id  token_id label_pers_o_expected\n",
       "0            8       233         ['Masculine']\n",
       "1            8       234         ['Masculine']\n",
       "2            8       235                 ['O']\n",
       "3            8       236                 ['O']\n",
       "4            8       237                 ['O']"
      ]
     },
     "execution_count": 24,
     "metadata": {},
     "output_type": "execute_result"
    }
   ],
   "source": [
    "# features_filename = \"crf_{a}_{t}_baseline_fastText{d}_predictions_ALLDATA.csv\".format(a=\"arow\", t=\"pers_o\", d=d)\n",
    "# ------------------------------\n",
    "features_filename = \"crf_{a}_baseline_fastText{d}_{c}_nolingfeatures_loose_evaluation.csv\".format(a=\"arow\", d=d, c=\"pers_o\")\n",
    "df_features = pd.read_csv(config.experiment3_path+\"5fold/output\"+features_filename, usecols=[\"sentence_id\", \"token_id\", feat1_col])\n",
    "df_features = utils1.getColumnValuesAsLists(df_features, feat1_col)\n",
    "# df_features = utils.getColumnValuesAsLists(df_features, \"label_pers_o_expected\")\n",
    "df_features.head()"
   ]
  },
  {
   "cell_type": "code",
   "execution_count": 25,
   "metadata": {},
   "outputs": [],
   "source": [
    "df_desc = pd.read_csv(config.agg_path+\"descs_sents_tokens_anns.csv\", usecols=[\"description_id\", \"sentence_id\", \"token_id\"])\n",
    "df_desc = df_desc.set_index(\"description_id\")\n",
    "df_desc = utils1.getColumnValuesAsLists(df_desc, \"sentence_id\")\n",
    "df_desc = utils1.getColumnValuesAsLists(df_desc, \"token_id\")\n",
    "df_desc_exploded = df_desc.explode([\"sentence_id\", \"token_id\"])\n",
    "df_desc_exploded = df_desc_exploded.reset_index()\n",
    "df_desc_exploded = df_desc_exploded.astype(\"int64\")\n",
    "# df_desc_exploded.head()"
   ]
  },
  {
   "cell_type": "code",
   "execution_count": 26,
   "metadata": {},
   "outputs": [],
   "source": [
    "joined = df_features.join(df_desc_exploded.set_index([\"sentence_id\", \"token_id\"]), on=[\"sentence_id\", \"token_id\"])\n",
    "grouped = utils.implodeDataFrame(joined, [\"description_id\"]).reset_index()\n",
    "# grouped.head()"
   ]
  },
  {
   "cell_type": "markdown",
   "metadata": {},
   "source": [
    "Flatten the lists of values in the `pers_o_expected` column and remove duplicates from the lists:"
   ]
  },
  {
   "cell_type": "code",
   "execution_count": 31,
   "metadata": {},
   "outputs": [
    {
     "name": "stdout",
     "output_type": "stream",
     "text": [
      "[['O'], ['Masculine', 'Unknown'], ['O']]\n"
     ]
    }
   ],
   "source": [
    "perso = utils1.flattenFeatureCol(grouped, feat1_col)\n",
    "# print(perso[:3])\n",
    "old_perso = [[label.replace(\"'\",\"\") for label in labels] for labels in perso]\n",
    "perso = []\n",
    "for labels in old_perso:\n",
    "    if (len(labels) > 1) and (\"O\" in labels):\n",
    "        labels.remove(\"O\")\n",
    "    perso += [labels]\n",
    "print(perso[:3])  # Looks good"
   ]
  },
  {
   "cell_type": "code",
   "execution_count": 32,
   "metadata": {},
   "outputs": [
    {
     "data": {
      "text/html": [
       "<div>\n",
       "<style scoped>\n",
       "    .dataframe tbody tr th:only-of-type {\n",
       "        vertical-align: middle;\n",
       "    }\n",
       "\n",
       "    .dataframe tbody tr th {\n",
       "        vertical-align: top;\n",
       "    }\n",
       "\n",
       "    .dataframe thead th {\n",
       "        text-align: right;\n",
       "    }\n",
       "</style>\n",
       "<table border=\"1\" class=\"dataframe\">\n",
       "  <thead>\n",
       "    <tr style=\"text-align: right;\">\n",
       "      <th></th>\n",
       "      <th>description_id</th>\n",
       "      <th>sentence_id</th>\n",
       "      <th>token_id</th>\n",
       "      <th>label_pers_o_expected</th>\n",
       "      <th>doc_label_pers_o_expected</th>\n",
       "    </tr>\n",
       "  </thead>\n",
       "  <tbody>\n",
       "    <tr>\n",
       "      <th>0</th>\n",
       "      <td>0</td>\n",
       "      <td>[0, 0, 0]</td>\n",
       "      <td>[0, 1, 2]</td>\n",
       "      <td>[['O'], ['O'], ['O']]</td>\n",
       "      <td>[O]</td>\n",
       "    </tr>\n",
       "    <tr>\n",
       "      <th>1</th>\n",
       "      <td>1</td>\n",
       "      <td>[1, 1, 1, 1, 1, 1, 1, 1, 1, 1, 1, 1, 1]</td>\n",
       "      <td>[3, 4, 5, 6, 7, 8, 9, 10, 11, 12, 13, 14, 15]</td>\n",
       "      <td>[['O'], ['O'], ['O'], ['O'], ['O', 'Unknown', ...</td>\n",
       "      <td>[Masculine, Unknown]</td>\n",
       "    </tr>\n",
       "    <tr>\n",
       "      <th>2</th>\n",
       "      <td>2</td>\n",
       "      <td>[2, 2, 2, 2, 2, 2, 2, 2, 2, 2, 2, 2, 2, 2, 2, ...</td>\n",
       "      <td>[16, 17, 18, 19, 20, 21, 22, 23, 24, 25, 26, 2...</td>\n",
       "      <td>[['O'], ['O'], ['O'], ['O'], ['O'], ['O'], ['O...</td>\n",
       "      <td>[O]</td>\n",
       "    </tr>\n",
       "    <tr>\n",
       "      <th>3</th>\n",
       "      <td>3</td>\n",
       "      <td>[8, 8, 8, 8, 8, 8, 8, 8, 8, 8, 8, 8, 8, 8, 8, ...</td>\n",
       "      <td>[233, 234, 235, 236, 237, 238, 239, 240, 241, ...</td>\n",
       "      <td>[['Masculine'], ['Masculine'], ['O'], ['O'], [...</td>\n",
       "      <td>[Occupation, Masculine]</td>\n",
       "    </tr>\n",
       "    <tr>\n",
       "      <th>4</th>\n",
       "      <td>4</td>\n",
       "      <td>[11, 11, 11]</td>\n",
       "      <td>[308, 309, 310]</td>\n",
       "      <td>[['O'], ['O'], ['O']]</td>\n",
       "      <td>[O]</td>\n",
       "    </tr>\n",
       "  </tbody>\n",
       "</table>\n",
       "</div>"
      ],
      "text/plain": [
       "   description_id                                        sentence_id  \\\n",
       "0               0                                          [0, 0, 0]   \n",
       "1               1            [1, 1, 1, 1, 1, 1, 1, 1, 1, 1, 1, 1, 1]   \n",
       "2               2  [2, 2, 2, 2, 2, 2, 2, 2, 2, 2, 2, 2, 2, 2, 2, ...   \n",
       "3               3  [8, 8, 8, 8, 8, 8, 8, 8, 8, 8, 8, 8, 8, 8, 8, ...   \n",
       "4               4                                       [11, 11, 11]   \n",
       "\n",
       "                                            token_id  \\\n",
       "0                                          [0, 1, 2]   \n",
       "1      [3, 4, 5, 6, 7, 8, 9, 10, 11, 12, 13, 14, 15]   \n",
       "2  [16, 17, 18, 19, 20, 21, 22, 23, 24, 25, 26, 2...   \n",
       "3  [233, 234, 235, 236, 237, 238, 239, 240, 241, ...   \n",
       "4                                    [308, 309, 310]   \n",
       "\n",
       "                               label_pers_o_expected doc_label_pers_o_expected  \n",
       "0                              [['O'], ['O'], ['O']]                       [O]  \n",
       "1  [['O'], ['O'], ['O'], ['O'], ['O', 'Unknown', ...      [Masculine, Unknown]  \n",
       "2  [['O'], ['O'], ['O'], ['O'], ['O'], ['O'], ['O...                       [O]  \n",
       "3  [['Masculine'], ['Masculine'], ['O'], ['O'], [...   [Occupation, Masculine]  \n",
       "4                              [['O'], ['O'], ['O']]                       [O]  "
      ]
     },
     "execution_count": 32,
     "metadata": {},
     "output_type": "execute_result"
    }
   ],
   "source": [
    "grouped.insert(len(grouped.columns), \"doc_\"+feat1_col, perso)\n",
    "grouped.head()"
   ]
  },
  {
   "cell_type": "markdown",
   "metadata": {},
   "source": [
    "Join the Person Name + Occupation feature column to the document classification model data:"
   ]
  },
  {
   "cell_type": "code",
   "execution_count": 37,
   "metadata": {},
   "outputs": [
    {
     "data": {
      "text/html": [
       "<div>\n",
       "<style scoped>\n",
       "    .dataframe tbody tr th:only-of-type {\n",
       "        vertical-align: middle;\n",
       "    }\n",
       "\n",
       "    .dataframe tbody tr th {\n",
       "        vertical-align: top;\n",
       "    }\n",
       "\n",
       "    .dataframe thead th {\n",
       "        text-align: right;\n",
       "    }\n",
       "</style>\n",
       "<table border=\"1\" class=\"dataframe\">\n",
       "  <thead>\n",
       "    <tr style=\"text-align: right;\">\n",
       "      <th></th>\n",
       "      <th>description_id</th>\n",
       "      <th>start_offset</th>\n",
       "      <th>end_offset</th>\n",
       "      <th>field</th>\n",
       "      <th>description</th>\n",
       "      <th>label</th>\n",
       "      <th>fold</th>\n",
       "      <th>doc_label_pers_o_expected</th>\n",
       "    </tr>\n",
       "  </thead>\n",
       "  <tbody>\n",
       "    <tr>\n",
       "      <th>0</th>\n",
       "      <td>4699</td>\n",
       "      <td>1853</td>\n",
       "      <td>2066</td>\n",
       "      <td>Biographical / Historical</td>\n",
       "      <td>Labelled Apparently some chapters, amounting t...</td>\n",
       "      <td>[Omission]</td>\n",
       "      <td>split3</td>\n",
       "      <td>[Masculine, Unknown]</td>\n",
       "    </tr>\n",
       "    <tr>\n",
       "      <th>1</th>\n",
       "      <td>8942</td>\n",
       "      <td>384</td>\n",
       "      <td>540</td>\n",
       "      <td>Biographical / Historical</td>\n",
       "      <td>James Aikman of Perth signed his name to a vol...</td>\n",
       "      <td>[]</td>\n",
       "      <td>split2</td>\n",
       "      <td>[Masculine]</td>\n",
       "    </tr>\n",
       "    <tr>\n",
       "      <th>2</th>\n",
       "      <td>5440</td>\n",
       "      <td>5692</td>\n",
       "      <td>5850</td>\n",
       "      <td>Biographical / Historical</td>\n",
       "      <td>This piece was published in 'Milk Production i...</td>\n",
       "      <td>[]</td>\n",
       "      <td>split0</td>\n",
       "      <td>[Occupation, Unknown]</td>\n",
       "    </tr>\n",
       "    <tr>\n",
       "      <th>3</th>\n",
       "      <td>3474</td>\n",
       "      <td>3608</td>\n",
       "      <td>8549</td>\n",
       "      <td>Biographical / Historical</td>\n",
       "      <td>Margaret Winifred Bartholomew was born on 21 A...</td>\n",
       "      <td>[Omission, Stereotype]</td>\n",
       "      <td>split0</td>\n",
       "      <td>[Feminine, Occupation, Masculine, Unknown]</td>\n",
       "    </tr>\n",
       "    <tr>\n",
       "      <th>4</th>\n",
       "      <td>4769</td>\n",
       "      <td>2378</td>\n",
       "      <td>2576</td>\n",
       "      <td>Biographical / Historical</td>\n",
       "      <td>Blacker and Thomson became close friends throu...</td>\n",
       "      <td>[Omission]</td>\n",
       "      <td>split3</td>\n",
       "      <td>[Masculine, Unknown]</td>\n",
       "    </tr>\n",
       "  </tbody>\n",
       "</table>\n",
       "</div>"
      ],
      "text/plain": [
       "   description_id  start_offset  end_offset                      field  \\\n",
       "0            4699          1853        2066  Biographical / Historical   \n",
       "1            8942           384         540  Biographical / Historical   \n",
       "2            5440          5692        5850  Biographical / Historical   \n",
       "3            3474          3608        8549  Biographical / Historical   \n",
       "4            4769          2378        2576  Biographical / Historical   \n",
       "\n",
       "                                         description                   label  \\\n",
       "0  Labelled Apparently some chapters, amounting t...              [Omission]   \n",
       "1  James Aikman of Perth signed his name to a vol...                      []   \n",
       "2  This piece was published in 'Milk Production i...                      []   \n",
       "3  Margaret Winifred Bartholomew was born on 21 A...  [Omission, Stereotype]   \n",
       "4  Blacker and Thomson became close friends throu...              [Omission]   \n",
       "\n",
       "     fold                   doc_label_pers_o_expected  \n",
       "0  split3                        [Masculine, Unknown]  \n",
       "1  split2                                 [Masculine]  \n",
       "2  split0                       [Occupation, Unknown]  \n",
       "3  split0  [Feminine, Occupation, Masculine, Unknown]  \n",
       "4  split3                        [Masculine, Unknown]  "
      ]
     },
     "execution_count": 37,
     "metadata": {},
     "output_type": "execute_result"
    }
   ],
   "source": [
    "features = grouped[[\"description_id\", \"doc_\"+feat1_col]]\n",
    "join_on = \"description_id\"\n",
    "df = df_exp.join(features.set_index(join_on), on=join_on)\n",
    "df = df.loc[~df.description.isna()]\n",
    "df.head()"
   ]
  },
  {
   "cell_type": "code",
   "execution_count": 41,
   "metadata": {},
   "outputs": [],
   "source": [
    "# df.label.value_counts()              # Looks good\n",
    "# df[\"doc_\"+feat1_col].value_counts()  # Looks good"
   ]
  },
  {
   "cell_type": "markdown",
   "metadata": {
    "jupyter": {
     "source_hidden": true
    }
   },
   "source": [
    "Make sure the Person Name + Occupation labels are sets (each row's list should not have any repeated values), and that \"O\" is only assigned to a description if it has no other labels:"
   ]
  },
  {
   "cell_type": "code",
   "execution_count": 39,
   "metadata": {
    "jupyter": {
     "source_hidden": true
    }
   },
   "outputs": [],
   "source": [
    "# perso_labels = list(df[feat1_col])\n",
    "# unique_perso_labels = [list(set(label_list)) for label_list in perso_labels]\n",
    "# final_perso_labels = []\n",
    "# for labels in unique_perso_labels:\n",
    "#     if (len(labels) > 1) and (\"O\" in labels):\n",
    "#         labels.remove(\"O\")\n",
    "#     final_perso_labels += [labels]\n",
    "# print(final_perso_labels[:3])"
   ]
  },
  {
   "cell_type": "code",
   "execution_count": 50,
   "metadata": {
    "collapsed": true,
    "jupyter": {
     "outputs_hidden": true,
     "source_hidden": true
    }
   },
   "outputs": [
    {
     "data": {
      "text/html": [
       "<div>\n",
       "<style scoped>\n",
       "    .dataframe tbody tr th:only-of-type {\n",
       "        vertical-align: middle;\n",
       "    }\n",
       "\n",
       "    .dataframe tbody tr th {\n",
       "        vertical-align: top;\n",
       "    }\n",
       "\n",
       "    .dataframe thead th {\n",
       "        text-align: right;\n",
       "    }\n",
       "</style>\n",
       "<table border=\"1\" class=\"dataframe\">\n",
       "  <thead>\n",
       "    <tr style=\"text-align: right;\">\n",
       "      <th></th>\n",
       "      <th>description_id</th>\n",
       "      <th>start_offset</th>\n",
       "      <th>end_offset</th>\n",
       "      <th>field</th>\n",
       "      <th>description</th>\n",
       "      <th>label</th>\n",
       "      <th>fold</th>\n",
       "      <th>label_pers_o_predicted</th>\n",
       "    </tr>\n",
       "  </thead>\n",
       "  <tbody>\n",
       "    <tr>\n",
       "      <th>0</th>\n",
       "      <td>4699</td>\n",
       "      <td>1853</td>\n",
       "      <td>2066</td>\n",
       "      <td>Biographical / Historical</td>\n",
       "      <td>Labelled Apparently some chapters, amounting t...</td>\n",
       "      <td>[Omission]</td>\n",
       "      <td>split3</td>\n",
       "      <td>[Unknown]</td>\n",
       "    </tr>\n",
       "    <tr>\n",
       "      <th>1</th>\n",
       "      <td>8942</td>\n",
       "      <td>384</td>\n",
       "      <td>540</td>\n",
       "      <td>Biographical / Historical</td>\n",
       "      <td>James Aikman of Perth signed his name to a vol...</td>\n",
       "      <td>[]</td>\n",
       "      <td>split2</td>\n",
       "      <td>[Unknown]</td>\n",
       "    </tr>\n",
       "    <tr>\n",
       "      <th>2</th>\n",
       "      <td>5440</td>\n",
       "      <td>5692</td>\n",
       "      <td>5850</td>\n",
       "      <td>Biographical / Historical</td>\n",
       "      <td>This piece was published in 'Milk Production i...</td>\n",
       "      <td>[]</td>\n",
       "      <td>split0</td>\n",
       "      <td>[Unknown, Occupation, Masculine]</td>\n",
       "    </tr>\n",
       "    <tr>\n",
       "      <th>3</th>\n",
       "      <td>3474</td>\n",
       "      <td>3608</td>\n",
       "      <td>8549</td>\n",
       "      <td>Biographical / Historical</td>\n",
       "      <td>Margaret Winifred Bartholomew was born on 21 A...</td>\n",
       "      <td>[Omission, Stereotype]</td>\n",
       "      <td>split0</td>\n",
       "      <td>[Masculine, Feminine, Unknown, Occupation]</td>\n",
       "    </tr>\n",
       "    <tr>\n",
       "      <th>4</th>\n",
       "      <td>4769</td>\n",
       "      <td>2378</td>\n",
       "      <td>2576</td>\n",
       "      <td>Biographical / Historical</td>\n",
       "      <td>Blacker and Thomson became close friends throu...</td>\n",
       "      <td>[Omission]</td>\n",
       "      <td>split3</td>\n",
       "      <td>[Unknown]</td>\n",
       "    </tr>\n",
       "  </tbody>\n",
       "</table>\n",
       "</div>"
      ],
      "text/plain": [
       "   description_id  start_offset  end_offset                      field  \\\n",
       "0            4699          1853        2066  Biographical / Historical   \n",
       "1            8942           384         540  Biographical / Historical   \n",
       "2            5440          5692        5850  Biographical / Historical   \n",
       "3            3474          3608        8549  Biographical / Historical   \n",
       "4            4769          2378        2576  Biographical / Historical   \n",
       "\n",
       "                                         description                   label  \\\n",
       "0  Labelled Apparently some chapters, amounting t...              [Omission]   \n",
       "1  James Aikman of Perth signed his name to a vol...                      []   \n",
       "2  This piece was published in 'Milk Production i...                      []   \n",
       "3  Margaret Winifred Bartholomew was born on 21 A...  [Omission, Stereotype]   \n",
       "4  Blacker and Thomson became close friends throu...              [Omission]   \n",
       "\n",
       "     fold                      label_pers_o_predicted  \n",
       "0  split3                                   [Unknown]  \n",
       "1  split2                                   [Unknown]  \n",
       "2  split0            [Unknown, Occupation, Masculine]  \n",
       "3  split0  [Masculine, Feminine, Unknown, Occupation]  \n",
       "4  split3                                   [Unknown]  "
      ]
     },
     "execution_count": 50,
     "metadata": {},
     "output_type": "execute_result"
    }
   ],
   "source": [
    "# df[feat1_col] = final_perso_labels\n",
    "# df.head()"
   ]
  },
  {
   "cell_type": "markdown",
   "metadata": {},
   "source": [
    "Define the train (80% of the data) and test (20% of the data) splits:"
   ]
  },
  {
   "cell_type": "code",
   "execution_count": 42,
   "metadata": {},
   "outputs": [
    {
     "name": "stdout",
     "output_type": "stream",
     "text": [
      "['split0' 'split1' 'split2' 'split3' 'split4']\n",
      "(['split0', 'split1', 'split2', 'split3'], 'split4')\n",
      "(['split1', 'split2', 'split3', 'split4'], 'split0')\n",
      "(['split2', 'split3', 'split4', 'split0'], 'split1')\n",
      "(['split3', 'split4', 'split0', 'split1'], 'split2')\n",
      "(['split4', 'split0', 'split1', 'split2'], 'split3')\n"
     ]
    }
   ],
   "source": [
    "split_col = \"fold\"\n",
    "splits = df[split_col].unique()\n",
    "splits.sort()\n",
    "print(splits)\n",
    "train0, test0 = list(splits[:4]), splits[4]\n",
    "train1, test1 = list(splits[1:]), splits[0]\n",
    "train2, test2 = list(splits[2:])+[splits[0]], splits[1]\n",
    "train3, test3 = list(splits[3:])+list(splits[:2]), splits[2]\n",
    "train4, test4 = [splits[4]]+list(splits[:3]), splits[3]\n",
    "runs = [(train0, test0), (train1, test1), (train2, test2), (train3, test3), (train4, test4)]\n",
    "for run in runs:\n",
    "    print(run)"
   ]
  },
  {
   "cell_type": "code",
   "execution_count": 43,
   "metadata": {},
   "outputs": [],
   "source": [
    "def binarizeMultilabelTrainColumn(df_col):\n",
    "    mlb = MultiLabelBinarizer()\n",
    "    binarized = mlb.fit_transform(df_col)\n",
    "    return mlb, binarized\n",
    "\n",
    "def binarizeMultilabelDevColumn(mlb, df_col):\n",
    "    binarized = mlb.transform(df_col)\n",
    "    return binarized"
   ]
  },
  {
   "cell_type": "markdown",
   "metadata": {
    "jupyter": {
     "source_hidden": true
    }
   },
   "source": [
    "Vectorize the documents, and binarize the features and targets:"
   ]
  },
  {
   "cell_type": "code",
   "execution_count": 15,
   "metadata": {
    "jupyter": {
     "source_hidden": true
    }
   },
   "outputs": [],
   "source": [
    "# train_df = df.loc[df.subset == \"train\"]\n",
    "# dev_df = df.loc[df.subset == \"dev\"]\n",
    "# target_col = \"label\"\n",
    "# feat1_col = \"doc_ling_pred\""
   ]
  },
  {
   "cell_type": "code",
   "execution_count": 16,
   "metadata": {
    "collapsed": true,
    "jupyter": {
     "outputs_hidden": true,
     "source_hidden": true
    }
   },
   "outputs": [
    {
     "name": "stdout",
     "output_type": "stream",
     "text": [
      "(16397, 3) (5452, 3)\n"
     ]
    }
   ],
   "source": [
    "# mlb_target, y_train = binarizeMultilabelTrainColumn(train_df[\"label\"])\n",
    "# y_dev = binarizeMultilabelDevColumn(mlb_target, dev_df[\"label\"])\n",
    "# print(y_train.shape, y_dev.shape)"
   ]
  },
  {
   "cell_type": "code",
   "execution_count": 18,
   "metadata": {
    "collapsed": true,
    "jupyter": {
     "outputs_hidden": true,
     "source_hidden": true
    }
   },
   "outputs": [
    {
     "name": "stdout",
     "output_type": "stream",
     "text": [
      "(16397, 3) (5452, 3)\n"
     ]
    }
   ],
   "source": [
    "# mlb_feat1, train_feat1 = binarizeMultilabelTrainColumn(train_df[feat1_col])\n",
    "# dev_feat1 = binarizeMultilabelDevColumn(mlb_feat1, dev_df[feat1_col])\n",
    "# print(train_feat1.shape, dev_feat1.shape)"
   ]
  },
  {
   "cell_type": "code",
   "execution_count": 19,
   "metadata": {
    "collapsed": true,
    "jupyter": {
     "outputs_hidden": true,
     "source_hidden": true
    }
   },
   "outputs": [
    {
     "name": "stdout",
     "output_type": "stream",
     "text": [
      "(16397, 26960) (5452, 26960)\n"
     ]
    }
   ],
   "source": [
    "# cvectorizer = CountVectorizer()\n",
    "# tfidf = TfidfTransformer()\n",
    "# train_docs = cvectorizer.fit_transform(train_df[\"description\"])\n",
    "# dev_docs = cvectorizer.transform(dev_df[\"description\"])\n",
    "# train_docs = tfidf.fit_transform(train_docs)\n",
    "# dev_docs = tfidf.transform(dev_docs)\n",
    "# print(train_docs.shape, dev_docs.shape)"
   ]
  },
  {
   "cell_type": "code",
   "execution_count": 20,
   "metadata": {
    "jupyter": {
     "source_hidden": true
    }
   },
   "outputs": [],
   "source": [
    "# train_feats = scipy.sparse.csr_matrix(train_feat1)\n",
    "# dev_feats = scipy.sparse.csr_matrix(dev_feat1)"
   ]
  },
  {
   "cell_type": "markdown",
   "metadata": {
    "jupyter": {
     "source_hidden": true
    }
   },
   "source": [
    "Concatenate the documents and features, creating one scipy sparse matrix for the train data and another for the dev data:"
   ]
  },
  {
   "cell_type": "code",
   "execution_count": 21,
   "metadata": {
    "collapsed": true,
    "jupyter": {
     "outputs_hidden": true,
     "source_hidden": true
    }
   },
   "outputs": [
    {
     "name": "stdout",
     "output_type": "stream",
     "text": [
      "(16397, 26963) (5452, 26963)\n"
     ]
    }
   ],
   "source": [
    "# X_train = scipy.sparse.hstack([train_docs, train_feats])\n",
    "# X_dev = scipy.sparse.hstack([dev_docs, dev_feats])\n",
    "# print(X_train.shape, X_dev.shape)"
   ]
  },
  {
   "cell_type": "markdown",
   "metadata": {},
   "source": [
    "<a id=\"tp\"></a>\n",
    "### Train & Predict"
   ]
  },
  {
   "cell_type": "code",
   "execution_count": 46,
   "metadata": {},
   "outputs": [],
   "source": [
    "a = \"sgd-svm\""
   ]
  },
  {
   "cell_type": "code",
   "execution_count": 48,
   "metadata": {},
   "outputs": [
    {
     "name": "stdout",
     "output_type": "stream",
     "text": [
      "Training on: ['split0', 'split1', 'split2', 'split3']\n",
      "Predicting on: split4\n",
      "Training on: ['split1', 'split2', 'split3', 'split4']\n",
      "Predicting on: split0\n",
      "Training on: ['split2', 'split3', 'split4', 'split0']\n",
      "Predicting on: split1\n",
      "Training on: ['split3', 'split4', 'split0', 'split1']\n",
      "Predicting on: split2\n",
      "Training on: ['split4', 'split0', 'split1', 'split2']\n",
      "Predicting on: split3\n",
      "Modified 5-fold cross-validation complete!\n",
      "(27312, 9)\n"
     ]
    }
   ],
   "source": [
    "pred_df = pd.DataFrame()\n",
    "target_col = \"label\"\n",
    "feat1_col = \"doc_\"+feat1_col\n",
    "for run in runs:\n",
    "    # Get the train (80%) and test (20%) subsets of data\n",
    "    train_splits, test_split = run[0], run[1]\n",
    "    print(\"Training on:\", train_splits)\n",
    "    train_df = df.loc[df[split_col].isin(train_splits)]\n",
    "    dev_df = df.loc[df[split_col] == test_split]\n",
    "    \n",
    "    # Binarize the features\n",
    "    mlb_feat, train_feat = binarizeMultilabelTrainColumn(train_df[feat1_col])\n",
    "    dev_feat = binarizeMultilabelDevColumn(mlb_feat, dev_df[feat1_col])\n",
    "    \n",
    "    # Vectorize the documents (descriptions)\n",
    "    cvectorizer = CountVectorizer()\n",
    "    tfidf = TfidfTransformer()\n",
    "    train_docs = cvectorizer.fit_transform(train_df[\"description\"])\n",
    "    dev_docs = cvectorizer.transform(dev_df[\"description\"])\n",
    "    train_docs = tfidf.fit_transform(train_docs)\n",
    "    dev_docs = tfidf.transform(dev_docs)\n",
    "    \n",
    "    # Concatenate the features and documents\n",
    "    X_train = scipy.sparse.hstack([train_docs, train_feat])\n",
    "    X_dev = scipy.sparse.hstack([dev_docs, dev_feat])\n",
    "    \n",
    "    # Binarize targets\n",
    "    mlb_target, y_train = binarizeMultilabelTrainColumn(train_df[\"label\"])\n",
    "    y_dev = binarizeMultilabelDevColumn(mlb_target, dev_df[\"label\"])\n",
    "\n",
    "    # Train a classification model\n",
    "    clf = OneVsRestClassifier(SGDClassifier(loss=\"hinge\"))  # Support Vector Machines loss function\n",
    "    clf.fit(X_train, y_train)\n",
    "    \n",
    "    # Predict with the trained model\n",
    "    print(\"Predicting on:\", test_split)\n",
    "    predictions = clf.predict(X_dev)\n",
    "    pred_labels = mlb_target.inverse_transform(predictions)    \n",
    "    if pred_df.shape[0] > 0:\n",
    "        next_pred_df = dev_df.copy()\n",
    "        next_pred_df.insert(len(next_pred_df.columns), \"{}_label\".format(a), pred_labels)\n",
    "        pred_df = pd.concat([pred_df, next_pred_df])\n",
    "    else:\n",
    "        pred_df = dev_df.copy()\n",
    "        pred_df.insert(len(pred_df.columns), \"{}_label\".format(a), pred_labels)\n",
    "\n",
    "print(\"Modified 5-fold cross-validation complete!\")\n",
    "print(pred_df.shape)"
   ]
  },
  {
   "cell_type": "code",
   "execution_count": 49,
   "metadata": {},
   "outputs": [
    {
     "data": {
      "text/html": [
       "<div>\n",
       "<style scoped>\n",
       "    .dataframe tbody tr th:only-of-type {\n",
       "        vertical-align: middle;\n",
       "    }\n",
       "\n",
       "    .dataframe tbody tr th {\n",
       "        vertical-align: top;\n",
       "    }\n",
       "\n",
       "    .dataframe thead th {\n",
       "        text-align: right;\n",
       "    }\n",
       "</style>\n",
       "<table border=\"1\" class=\"dataframe\">\n",
       "  <thead>\n",
       "    <tr style=\"text-align: right;\">\n",
       "      <th></th>\n",
       "      <th>description_id</th>\n",
       "      <th>start_offset</th>\n",
       "      <th>end_offset</th>\n",
       "      <th>field</th>\n",
       "      <th>description</th>\n",
       "      <th>manual_label</th>\n",
       "      <th>fold</th>\n",
       "      <th>doc_label_pers_o_expected</th>\n",
       "      <th>sgd-svm_label</th>\n",
       "    </tr>\n",
       "  </thead>\n",
       "  <tbody>\n",
       "    <tr>\n",
       "      <th>6</th>\n",
       "      <td>3027</td>\n",
       "      <td>627</td>\n",
       "      <td>1162</td>\n",
       "      <td>Biographical / Historical</td>\n",
       "      <td>Thomas Young was probably born in 1725. By the...</td>\n",
       "      <td>[Stereotype]</td>\n",
       "      <td>split4</td>\n",
       "      <td>[Occupation, Masculine, Unknown]</td>\n",
       "      <td>(Stereotype,)</td>\n",
       "    </tr>\n",
       "    <tr>\n",
       "      <th>7</th>\n",
       "      <td>3397</td>\n",
       "      <td>8095</td>\n",
       "      <td>8334</td>\n",
       "      <td>Biographical / Historical</td>\n",
       "      <td>Andrew Tait worked on Paramecium in Beale's la...</td>\n",
       "      <td>[Omission]</td>\n",
       "      <td>split4</td>\n",
       "      <td>[Occupation, Masculine, Unknown]</td>\n",
       "      <td>(Omission,)</td>\n",
       "    </tr>\n",
       "    <tr>\n",
       "      <th>10</th>\n",
       "      <td>4736</td>\n",
       "      <td>9951</td>\n",
       "      <td>10026</td>\n",
       "      <td>Biographical / Historical</td>\n",
       "      <td>Delivered by Thomson to teachers in Darlington.</td>\n",
       "      <td>[Omission]</td>\n",
       "      <td>split4</td>\n",
       "      <td>[Occupation, Masculine, Unknown]</td>\n",
       "      <td>(Omission,)</td>\n",
       "    </tr>\n",
       "    <tr>\n",
       "      <th>14</th>\n",
       "      <td>4712</td>\n",
       "      <td>4199</td>\n",
       "      <td>4485</td>\n",
       "      <td>Biographical / Historical</td>\n",
       "      <td>This was gifted by Thomson to his secretary, M...</td>\n",
       "      <td>[Omission]</td>\n",
       "      <td>split4</td>\n",
       "      <td>[Feminine, Occupation, Masculine, Unknown]</td>\n",
       "      <td>(Omission,)</td>\n",
       "    </tr>\n",
       "    <tr>\n",
       "      <th>22</th>\n",
       "      <td>15684</td>\n",
       "      <td>845</td>\n",
       "      <td>1179</td>\n",
       "      <td>Biographical / Historical</td>\n",
       "      <td>Catherine Robina Borland was responsible for t...</td>\n",
       "      <td>[]</td>\n",
       "      <td>split4</td>\n",
       "      <td>[O]</td>\n",
       "      <td>(,)</td>\n",
       "    </tr>\n",
       "  </tbody>\n",
       "</table>\n",
       "</div>"
      ],
      "text/plain": [
       "    description_id  start_offset  end_offset                      field  \\\n",
       "6             3027           627        1162  Biographical / Historical   \n",
       "7             3397          8095        8334  Biographical / Historical   \n",
       "10            4736          9951       10026  Biographical / Historical   \n",
       "14            4712          4199        4485  Biographical / Historical   \n",
       "22           15684           845        1179  Biographical / Historical   \n",
       "\n",
       "                                          description  manual_label    fold  \\\n",
       "6   Thomas Young was probably born in 1725. By the...  [Stereotype]  split4   \n",
       "7   Andrew Tait worked on Paramecium in Beale's la...    [Omission]  split4   \n",
       "10    Delivered by Thomson to teachers in Darlington.    [Omission]  split4   \n",
       "14  This was gifted by Thomson to his secretary, M...    [Omission]  split4   \n",
       "22  Catherine Robina Borland was responsible for t...            []  split4   \n",
       "\n",
       "                     doc_label_pers_o_expected  sgd-svm_label  \n",
       "6             [Occupation, Masculine, Unknown]  (Stereotype,)  \n",
       "7             [Occupation, Masculine, Unknown]    (Omission,)  \n",
       "10            [Occupation, Masculine, Unknown]    (Omission,)  \n",
       "14  [Feminine, Occupation, Masculine, Unknown]    (Omission,)  \n",
       "22                                         [O]            (,)  "
      ]
     },
     "execution_count": 49,
     "metadata": {},
     "output_type": "execute_result"
    }
   ],
   "source": [
    "pred_df = pred_df.rename(columns={\"label\":\"manual_label\"})\n",
    "pred_df.head()"
   ]
  },
  {
   "cell_type": "markdown",
   "metadata": {},
   "source": [
    "Save the predictions data:"
   ]
  },
  {
   "cell_type": "code",
   "execution_count": 50,
   "metadata": {},
   "outputs": [],
   "source": [
    "pred_df.to_csv(predictions_dir+\"aggregated_final_validate_predictions_docclf_{a}_{t}.csv\".format(a=a, t=target_labels))"
   ]
  },
  {
   "cell_type": "markdown",
   "metadata": {
    "jupyter": {
     "source_hidden": true
    },
    "tags": []
   },
   "source": [
    "Build a pipeline:"
   ]
  },
  {
   "cell_type": "code",
   "execution_count": 23,
   "metadata": {
    "jupyter": {
     "source_hidden": true
    },
    "tags": []
   },
   "outputs": [],
   "source": [
    "# doc_clf = Pipeline([\n",
    "#     (\"clf\", OneVsRestClassifier(SGDClassifier(loss=\"hinge\")))  # Support Vector Machines loss function\n",
    "# ])"
   ]
  },
  {
   "cell_type": "code",
   "execution_count": 24,
   "metadata": {
    "jupyter": {
     "source_hidden": true
    },
    "tags": []
   },
   "outputs": [],
   "source": [
    "# doc_clf.fit(X_train, y_train)\n",
    "# predictions = doc_clf.predict(X_dev)"
   ]
  },
  {
   "cell_type": "markdown",
   "metadata": {
    "tags": []
   },
   "source": [
    "### Peformance\n",
    "\n",
    "Calculate performance metrics for the Stochastic Gradient Descent classifier"
   ]
  },
  {
   "cell_type": "code",
   "execution_count": 25,
   "metadata": {
    "collapsed": true,
    "jupyter": {
     "outputs_hidden": true,
     "source_hidden": true
    },
    "tags": []
   },
   "outputs": [
    {
     "name": "stdout",
     "output_type": "stream",
     "text": [
      "Dev Test Accuracy: 0.9388603570555148\n"
     ]
    }
   ],
   "source": [
    "# print(\"Dev Test Accuracy:\", np.mean(predictions == y_dev))"
   ]
  },
  {
   "cell_type": "code",
   "execution_count": 51,
   "metadata": {
    "tags": []
   },
   "outputs": [
    {
     "name": "stdout",
     "output_type": "stream",
     "text": [
      "[0 1 2]\n",
      "['' 'Omission' 'Stereotype']\n"
     ]
    }
   ],
   "source": [
    "classes = clf.classes_  #doc_clf.classes_\n",
    "print(classes)\n",
    "original_classes = mlb_target.classes_\n",
    "print(original_classes)\n",
    "label_dict = dict(zip(original_classes, classes))"
   ]
  },
  {
   "cell_type": "markdown",
   "metadata": {
    "tags": []
   },
   "source": [
    "Create a [confusion matrix](https://scikit-learn.org/stable/modules/model_evaluation.html#multilabel-confusion-matrix) of the results, where, for class *i*:\n",
    "* Count of true negatives (TN) is at position *i*,0,0\n",
    "* Count of false negatives (FN) is at position *i*,1,0\n",
    "* Count of true positives (FP) is at position *i*,1,1\n",
    "* Count of false positives (PF) is at position *i*,0,1"
   ]
  },
  {
   "cell_type": "code",
   "execution_count": 52,
   "metadata": {},
   "outputs": [],
   "source": [
    "y_dev = binarizeMultilabelDevColumn(mlb_target, pred_df[\"manual_label\"])\n",
    "predictions = mlb_target.transform(pred_df[\"{}_label\".format(a)])\n",
    "assert len(y_dev) == len(predictions)"
   ]
  },
  {
   "cell_type": "code",
   "execution_count": 53,
   "metadata": {
    "tags": []
   },
   "outputs": [],
   "source": [
    "matrix = multilabel_confusion_matrix(y_dev, predictions, labels=classes)"
   ]
  },
  {
   "cell_type": "code",
   "execution_count": 54,
   "metadata": {},
   "outputs": [
    {
     "data": {
      "text/html": [
       "<div>\n",
       "<style scoped>\n",
       "    .dataframe tbody tr th:only-of-type {\n",
       "        vertical-align: middle;\n",
       "    }\n",
       "\n",
       "    .dataframe tbody tr th {\n",
       "        vertical-align: top;\n",
       "    }\n",
       "\n",
       "    .dataframe thead th {\n",
       "        text-align: right;\n",
       "    }\n",
       "</style>\n",
       "<table border=\"1\" class=\"dataframe\">\n",
       "  <thead>\n",
       "    <tr style=\"text-align: right;\">\n",
       "      <th></th>\n",
       "      <th>labels</th>\n",
       "      <th>false_neg</th>\n",
       "      <th>true_pos</th>\n",
       "      <th>false_pos</th>\n",
       "      <th>precision</th>\n",
       "      <th>recall</th>\n",
       "      <th>f_1</th>\n",
       "    </tr>\n",
       "  </thead>\n",
       "  <tbody>\n",
       "    <tr>\n",
       "      <th>1</th>\n",
       "      <td>Omission</td>\n",
       "      <td>1698</td>\n",
       "      <td>2334</td>\n",
       "      <td>430</td>\n",
       "      <td>0.844428</td>\n",
       "      <td>0.578869</td>\n",
       "      <td>0.686875</td>\n",
       "    </tr>\n",
       "    <tr>\n",
       "      <th>2</th>\n",
       "      <td>Stereotype</td>\n",
       "      <td>390</td>\n",
       "      <td>1211</td>\n",
       "      <td>73</td>\n",
       "      <td>0.943146</td>\n",
       "      <td>0.756402</td>\n",
       "      <td>0.839515</td>\n",
       "    </tr>\n",
       "  </tbody>\n",
       "</table>\n",
       "</div>"
      ],
      "text/plain": [
       "       labels  false_neg  true_pos  false_pos  precision    recall       f_1\n",
       "1    Omission       1698      2334        430   0.844428  0.578869  0.686875\n",
       "2  Stereotype        390      1211         73   0.943146  0.756402  0.839515"
      ]
     },
     "execution_count": 54,
     "metadata": {},
     "output_type": "execute_result"
    }
   ],
   "source": [
    "scores = utils.getPerformanceMetrics(y_dev, predictions, matrix, classes, original_classes, label_dict)\n",
    "scores = scores.tail(2) # Remove row for 'None'\n",
    "scores = scores.drop(columns=\"true_neg\")  # Not accurate because considers 'None' a class\n",
    "scores[\"labels\"] = original_classes[1:]\n",
    "scores"
   ]
  },
  {
   "cell_type": "markdown",
   "metadata": {},
   "source": [
    "Save the performance results:"
   ]
  },
  {
   "cell_type": "code",
   "execution_count": 55,
   "metadata": {
    "tags": []
   },
   "outputs": [],
   "source": [
    "scores.to_csv(agreement_dir+\"docclf_{a}_{t}_baseline_performance.csv\".format(a=a, t=target_labels))"
   ]
  },
  {
   "cell_type": "markdown",
   "metadata": {
    "jupyter": {
     "source_hidden": true
    }
   },
   "source": [
    "Add the predicted labels to the dev data:"
   ]
  },
  {
   "cell_type": "code",
   "execution_count": 31,
   "metadata": {
    "jupyter": {
     "source_hidden": true
    }
   },
   "outputs": [],
   "source": [
    "# pred_dev_labels = mlb_target.inverse_transform(predicted_dev)\n",
    "# # pred_dev_labels[0]"
   ]
  },
  {
   "cell_type": "markdown",
   "metadata": {
    "jupyter": {
     "source_hidden": true
    }
   },
   "source": [
    "Add the classifier's labels to the `aggregated_validate.csv` DataFrame of descriptions to facilitate error analysis:"
   ]
  },
  {
   "cell_type": "code",
   "execution_count": 62,
   "metadata": {
    "jupyter": {
     "source_hidden": true
    }
   },
   "outputs": [],
   "source": [
    "# dev_df = dev_df.rename(columns={\"label\":\"manual_label\"})\n",
    "# dev_df.insert(len(dev_df.columns), \"{a}_label\".format(a=a), pred_dev_labels)\n",
    "# dev_df.head()\n",
    "# # print(len(pred_dev_labels), dev_df.shape)"
   ]
  },
  {
   "cell_type": "markdown",
   "metadata": {
    "jupyter": {
     "source_hidden": true
    }
   },
   "source": [
    "Save this version of the data:"
   ]
  },
  {
   "cell_type": "code",
   "execution_count": 33,
   "metadata": {
    "jupyter": {
     "source_hidden": true
    }
   },
   "outputs": [],
   "source": [
    "# dev_df.to_csv(dir_path+\"aggregated_final_validate_predictions_docclf_{a}_{t}.csv\".format(a=a, t=target_labels))"
   ]
  },
  {
   "cell_type": "markdown",
   "metadata": {},
   "source": [
    "***\n",
    "\n",
    "#### *For train-dev-test (i.e., 60-20-20) approach*\n",
    "\n",
    "<a id=\"ii\"></a>\n",
    "## II. Predict Over All Data"
   ]
  },
  {
   "cell_type": "markdown",
   "metadata": {},
   "source": [
    "### Preprocessing\n",
    "Vectorize the documents, and binarize the features and targets:"
   ]
  },
  {
   "cell_type": "code",
   "execution_count": 34,
   "metadata": {},
   "outputs": [],
   "source": [
    "target_col = \"label\"\n",
    "feat1_col = \"doc_ling_pred\""
   ]
  },
  {
   "cell_type": "code",
   "execution_count": 35,
   "metadata": {},
   "outputs": [
    {
     "name": "stdout",
     "output_type": "stream",
     "text": [
      "(27312, 3)\n"
     ]
    }
   ],
   "source": [
    "y_all = binarizeMultilabelDevColumn(mlb_target, df[\"label\"])\n",
    "print(y_all.shape)"
   ]
  },
  {
   "cell_type": "code",
   "execution_count": 36,
   "metadata": {},
   "outputs": [
    {
     "name": "stdout",
     "output_type": "stream",
     "text": [
      "(27312, 3)\n"
     ]
    }
   ],
   "source": [
    "all_feat1 = binarizeMultilabelDevColumn(mlb_feat1, df[feat1_col])\n",
    "print(all_feat1.shape)"
   ]
  },
  {
   "cell_type": "code",
   "execution_count": 37,
   "metadata": {},
   "outputs": [
    {
     "name": "stdout",
     "output_type": "stream",
     "text": [
      "(27312, 26960)\n"
     ]
    }
   ],
   "source": [
    "all_docs = cvectorizer.transform(df[\"description\"])\n",
    "all_docs = tfidf.transform(all_docs)\n",
    "print(all_docs.shape)"
   ]
  },
  {
   "cell_type": "code",
   "execution_count": 38,
   "metadata": {},
   "outputs": [],
   "source": [
    "all_feats = scipy.sparse.csr_matrix(all_feat1)"
   ]
  },
  {
   "cell_type": "markdown",
   "metadata": {},
   "source": [
    "Concatenate the documents and features, creating one scipy sparse matrix for the train data and another for the dev data:"
   ]
  },
  {
   "cell_type": "code",
   "execution_count": 39,
   "metadata": {},
   "outputs": [
    {
     "name": "stdout",
     "output_type": "stream",
     "text": [
      "(27312, 26963)\n"
     ]
    }
   ],
   "source": [
    "X_all = scipy.sparse.hstack([all_docs, all_feats])\n",
    "print(X_all.shape)"
   ]
  },
  {
   "cell_type": "markdown",
   "metadata": {},
   "source": [
    "### Predict"
   ]
  },
  {
   "cell_type": "code",
   "execution_count": 40,
   "metadata": {},
   "outputs": [],
   "source": [
    "predicted_all = doc_clf.predict(X_all)"
   ]
  },
  {
   "cell_type": "markdown",
   "metadata": {
    "tags": []
   },
   "source": [
    "### Peformance\n",
    "\n",
    "Calculate performance metrics for the Stochastic Gradient Descent classifier"
   ]
  },
  {
   "cell_type": "code",
   "execution_count": 41,
   "metadata": {
    "tags": []
   },
   "outputs": [
    {
     "name": "stdout",
     "output_type": "stream",
     "text": [
      "Accuracy: 0.9497046475297793\n"
     ]
    }
   ],
   "source": [
    "print(\"Accuracy:\", np.mean(predicted_all == y_all))"
   ]
  },
  {
   "cell_type": "code",
   "execution_count": 42,
   "metadata": {
    "tags": []
   },
   "outputs": [],
   "source": [
    "matrix = multilabel_confusion_matrix(y_all, predicted_all, labels=classes)"
   ]
  },
  {
   "cell_type": "code",
   "execution_count": 43,
   "metadata": {},
   "outputs": [
    {
     "data": {
      "text/html": [
       "<div>\n",
       "<style scoped>\n",
       "    .dataframe tbody tr th:only-of-type {\n",
       "        vertical-align: middle;\n",
       "    }\n",
       "\n",
       "    .dataframe tbody tr th {\n",
       "        vertical-align: top;\n",
       "    }\n",
       "\n",
       "    .dataframe thead th {\n",
       "        text-align: right;\n",
       "    }\n",
       "</style>\n",
       "<table border=\"1\" class=\"dataframe\">\n",
       "  <thead>\n",
       "    <tr style=\"text-align: right;\">\n",
       "      <th></th>\n",
       "      <th>labels</th>\n",
       "      <th>false_neg</th>\n",
       "      <th>true_pos</th>\n",
       "      <th>false_pos</th>\n",
       "      <th>precision</th>\n",
       "      <th>recall</th>\n",
       "      <th>f_1</th>\n",
       "    </tr>\n",
       "  </thead>\n",
       "  <tbody>\n",
       "    <tr>\n",
       "      <th>1</th>\n",
       "      <td>Omission</td>\n",
       "      <td>1637</td>\n",
       "      <td>2395</td>\n",
       "      <td>252</td>\n",
       "      <td>0.904798</td>\n",
       "      <td>0.593998</td>\n",
       "      <td>0.717173</td>\n",
       "    </tr>\n",
       "    <tr>\n",
       "      <th>2</th>\n",
       "      <td>Stereotype</td>\n",
       "      <td>343</td>\n",
       "      <td>1258</td>\n",
       "      <td>48</td>\n",
       "      <td>0.963247</td>\n",
       "      <td>0.785759</td>\n",
       "      <td>0.865497</td>\n",
       "    </tr>\n",
       "  </tbody>\n",
       "</table>\n",
       "</div>"
      ],
      "text/plain": [
       "       labels  false_neg  true_pos  false_pos  precision    recall       f_1\n",
       "1    Omission       1637      2395        252   0.904798  0.593998  0.717173\n",
       "2  Stereotype        343      1258         48   0.963247  0.785759  0.865497"
      ]
     },
     "execution_count": 43,
     "metadata": {},
     "output_type": "execute_result"
    }
   ],
   "source": [
    "scores = utils.getPerformanceMetrics(y_all, predicted_all, matrix, classes, original_classes, label_dict)\n",
    "scores = scores.tail(2) # Remove row for 'None'\n",
    "scores = scores.drop(columns=\"true_neg\")  # Not accurate because considers 'None' a class\n",
    "scores[\"labels\"] = original_classes[1:]\n",
    "scores"
   ]
  },
  {
   "cell_type": "markdown",
   "metadata": {},
   "source": [
    "Save the performance results:"
   ]
  },
  {
   "cell_type": "code",
   "execution_count": 44,
   "metadata": {
    "tags": []
   },
   "outputs": [],
   "source": [
    "# dir_path = config.tokc_path+\"/experiment2/output/\"\n",
    "scores.to_csv(dir_path+\"docclf_{a}_{t}_baseline_performance_ALLDATA.csv\".format(a=a, t=target_labels))"
   ]
  },
  {
   "cell_type": "markdown",
   "metadata": {},
   "source": [
    "Add the predicted labels to the dev data:"
   ]
  },
  {
   "cell_type": "code",
   "execution_count": 45,
   "metadata": {},
   "outputs": [],
   "source": [
    "pred_all_labels = mlb_target.inverse_transform(predicted_all)"
   ]
  },
  {
   "cell_type": "markdown",
   "metadata": {},
   "source": [
    "Add the classifier's labels to the `aggregated_validate.csv` DataFrame of descriptions to facilitate error analysis:"
   ]
  },
  {
   "cell_type": "code",
   "execution_count": 46,
   "metadata": {},
   "outputs": [
    {
     "data": {
      "text/html": [
       "<div>\n",
       "<style scoped>\n",
       "    .dataframe tbody tr th:only-of-type {\n",
       "        vertical-align: middle;\n",
       "    }\n",
       "\n",
       "    .dataframe tbody tr th {\n",
       "        vertical-align: top;\n",
       "    }\n",
       "\n",
       "    .dataframe thead th {\n",
       "        text-align: right;\n",
       "    }\n",
       "</style>\n",
       "<table border=\"1\" class=\"dataframe\">\n",
       "  <thead>\n",
       "    <tr style=\"text-align: right;\">\n",
       "      <th></th>\n",
       "      <th>description_id</th>\n",
       "      <th>start_offset</th>\n",
       "      <th>end_offset</th>\n",
       "      <th>field</th>\n",
       "      <th>description</th>\n",
       "      <th>subset</th>\n",
       "      <th>manual_label</th>\n",
       "      <th>doc_ling_pred</th>\n",
       "      <th>sgd-svm_label</th>\n",
       "    </tr>\n",
       "  </thead>\n",
       "  <tbody>\n",
       "    <tr>\n",
       "      <th>4699</th>\n",
       "      <td>4699</td>\n",
       "      <td>1853</td>\n",
       "      <td>2066</td>\n",
       "      <td>Biographical / Historical</td>\n",
       "      <td>Labelled Apparently some chapters, amounting t...</td>\n",
       "      <td>train</td>\n",
       "      <td>[Omission]</td>\n",
       "      <td>[Gendered-Role]</td>\n",
       "      <td>(None,)</td>\n",
       "    </tr>\n",
       "    <tr>\n",
       "      <th>8942</th>\n",
       "      <td>8942</td>\n",
       "      <td>384</td>\n",
       "      <td>540</td>\n",
       "      <td>Biographical / Historical</td>\n",
       "      <td>James Aikman of Perth signed his name to a vol...</td>\n",
       "      <td>train</td>\n",
       "      <td>[None]</td>\n",
       "      <td>[Gendered-Pronoun]</td>\n",
       "      <td>(None,)</td>\n",
       "    </tr>\n",
       "    <tr>\n",
       "      <th>5440</th>\n",
       "      <td>5440</td>\n",
       "      <td>5692</td>\n",
       "      <td>5850</td>\n",
       "      <td>Biographical / Historical</td>\n",
       "      <td>This piece was published in 'Milk Production i...</td>\n",
       "      <td>train</td>\n",
       "      <td>[None]</td>\n",
       "      <td>[]</td>\n",
       "      <td>(None,)</td>\n",
       "    </tr>\n",
       "    <tr>\n",
       "      <th>3474</th>\n",
       "      <td>3474</td>\n",
       "      <td>3608</td>\n",
       "      <td>8549</td>\n",
       "      <td>Biographical / Historical</td>\n",
       "      <td>Margaret Winifred Bartholomew was born on 21 A...</td>\n",
       "      <td>train</td>\n",
       "      <td>[Omission, Stereotype]</td>\n",
       "      <td>[Generalization, Gendered-Role]</td>\n",
       "      <td>(Omission, Stereotype)</td>\n",
       "    </tr>\n",
       "    <tr>\n",
       "      <th>4769</th>\n",
       "      <td>4769</td>\n",
       "      <td>2378</td>\n",
       "      <td>2576</td>\n",
       "      <td>Biographical / Historical</td>\n",
       "      <td>Blacker and Thomson became close friends throu...</td>\n",
       "      <td>train</td>\n",
       "      <td>[Omission]</td>\n",
       "      <td>[Gendered-Pronoun]</td>\n",
       "      <td>(Omission,)</td>\n",
       "    </tr>\n",
       "  </tbody>\n",
       "</table>\n",
       "</div>"
      ],
      "text/plain": [
       "      description_id  start_offset  end_offset                      field  \\\n",
       "4699            4699          1853        2066  Biographical / Historical   \n",
       "8942            8942           384         540  Biographical / Historical   \n",
       "5440            5440          5692        5850  Biographical / Historical   \n",
       "3474            3474          3608        8549  Biographical / Historical   \n",
       "4769            4769          2378        2576  Biographical / Historical   \n",
       "\n",
       "                                            description subset  \\\n",
       "4699  Labelled Apparently some chapters, amounting t...  train   \n",
       "8942  James Aikman of Perth signed his name to a vol...  train   \n",
       "5440  This piece was published in 'Milk Production i...  train   \n",
       "3474  Margaret Winifred Bartholomew was born on 21 A...  train   \n",
       "4769  Blacker and Thomson became close friends throu...  train   \n",
       "\n",
       "                manual_label                    doc_ling_pred  \\\n",
       "4699              [Omission]                  [Gendered-Role]   \n",
       "8942                  [None]               [Gendered-Pronoun]   \n",
       "5440                  [None]                               []   \n",
       "3474  [Omission, Stereotype]  [Generalization, Gendered-Role]   \n",
       "4769              [Omission]               [Gendered-Pronoun]   \n",
       "\n",
       "               sgd-svm_label  \n",
       "4699                 (None,)  \n",
       "8942                 (None,)  \n",
       "5440                 (None,)  \n",
       "3474  (Omission, Stereotype)  \n",
       "4769             (Omission,)  "
      ]
     },
     "execution_count": 46,
     "metadata": {},
     "output_type": "execute_result"
    }
   ],
   "source": [
    "df = df.rename(columns={\"label\":\"manual_label\"})\n",
    "df.insert(len(df.columns), \"{a}_label\".format(a=a), pred_all_labels)\n",
    "df.head()\n",
    "# print(len(pred_all_labels), df.shape)"
   ]
  },
  {
   "cell_type": "markdown",
   "metadata": {},
   "source": [
    "Save this version of the data:"
   ]
  },
  {
   "cell_type": "code",
   "execution_count": 47,
   "metadata": {},
   "outputs": [],
   "source": [
    "df.to_csv(dir_path+\"aggregated_final_validate_predictions_docclf_{a}_{t}_ALLDATA.csv\".format(a=a, t=target_labels))"
   ]
  },
  {
   "cell_type": "code",
   "execution_count": null,
   "metadata": {},
   "outputs": [],
   "source": []
  }
 ],
 "metadata": {
  "kernelspec": {
   "display_name": "gender-bias",
   "language": "python",
   "name": "gender-bias"
  },
  "language_info": {
   "codemirror_mode": {
    "name": "ipython",
    "version": 3
   },
   "file_extension": ".py",
   "mimetype": "text/x-python",
   "name": "python",
   "nbconvert_exporter": "python",
   "pygments_lexer": "ipython3",
   "version": "3.9.13"
  }
 },
 "nbformat": 4,
 "nbformat_minor": 4
}
